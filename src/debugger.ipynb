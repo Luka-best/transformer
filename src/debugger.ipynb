{
 "metadata": {
  "language_info": {
   "codemirror_mode": {
    "name": "ipython",
    "version": 3
   },
   "file_extension": ".py",
   "mimetype": "text/x-python",
   "name": "python",
   "nbconvert_exporter": "python",
   "pygments_lexer": "ipython3",
   "version": "3.8.5"
  },
  "orig_nbformat": 2,
  "kernelspec": {
   "name": "python385jvsc74a57bd007c4df7ea0886a603057dcbd29d886eaa26a0122c4b0c39e2937eba8f7497417",
   "display_name": "Python 3.8.5 64-bit ('base': conda)"
  }
 },
 "nbformat": 4,
 "nbformat_minor": 2,
 "cells": [
  {
   "cell_type": "code",
   "execution_count": 1,
   "metadata": {},
   "outputs": [],
   "source": [
    "from transformers import BigBirdForPreTraining, FlaxBigBirdForPreTraining, FlaxBigBirdForQuestionAnswering, BigBirdForQuestionAnswering\n",
    "import numpy as np\n",
    "import jax\n",
    "import torch\n",
    "import jax.numpy as jnp\n",
    "\n",
    "MODEL_ID = \"google/bigbird-base-trivia-itc\"\n",
    "\n",
    "def get_difference(torch_array, jx_array):\n",
    "    torch_array = torch_array.detach().numpy()\n",
    "    jx_array = np.array(jx_array)\n",
    "    return np.max(torch_array - jx_array)"
   ]
  },
  {
   "cell_type": "code",
   "execution_count": 2,
   "metadata": {},
   "outputs": [
    {
     "output_type": "stream",
     "name": "stderr",
     "text": [
      "WARNING:absl:No GPU/TPU found, falling back to CPU. (Set TF_CPP_MIN_LOG_LEVEL=0 and rerun for more info.)\n",
      "hidden_states [[[ 1.790036    1.2783235   0.8206438  ...  0.05368678  0.58942956\n",
      "   -2.2866602 ]\n",
      "  [ 2.1765451   0.8971078   1.0146816  ...  0.7316095   0.38268682\n",
      "   -1.7438451 ]\n",
      "  [ 1.9386533   0.8805409   0.7943621  ... -0.00664092  1.0473495\n",
      "   -1.7510742 ]\n",
      "  ...\n",
      "  [ 1.288487    1.0392525   0.8836512  ...  0.7352993   1.2431761\n",
      "   -1.4505898 ]\n",
      "  [ 0.9936909   1.4865384   0.66211474 ...  0.5886477   0.47717008\n",
      "   -2.124638  ]\n",
      "  [ 1.0428754   1.4412599   0.9249919  ...  0.23503263  0.64811\n",
      "   -1.8501263 ]]]\n",
      "logits [[[ 0.37246317 -0.06472513]\n",
      "  [ 0.3184571  -0.82387245]\n",
      "  [-0.10829401 -1.0957636 ]\n",
      "  ...\n",
      "  [ 0.7186227  -0.2963915 ]\n",
      "  [ 0.23671004  0.05929509]\n",
      "  [-0.08464466 -0.35181844]]]\n",
      "Some weights of the model checkpoint at google/bigbird-base-trivia-itc were not used when initializing FlaxBigBirdForQuestionAnswering: {('bert', 'embeddings', 'position_ids')}\n",
      "- This IS expected if you are initializing FlaxBigBirdForQuestionAnswering from the checkpoint of a model trained on another task or with another architecture (e.g. initializing a BertForSequenceClassification model from a BertForPreTraining model).\n",
      "- This IS NOT expected if you are initializing FlaxBigBirdForQuestionAnswering from the checkpoint of a model that you expect to be exactly identical (initializing a BertForSequenceClassification model from a BertForSequenceClassification model).\n"
     ]
    }
   ],
   "source": [
    "fx_model = FlaxBigBirdForQuestionAnswering.from_pretrained(MODEL_ID, attention_type=\"block_sparse\", from_pt=True, hidden_act=\"gelu_new\")\n",
    "model = BigBirdForQuestionAnswering.from_pretrained(MODEL_ID, attention_type=\"block_sparse\", hidden_act=\"gelu_new\")"
   ]
  },
  {
   "cell_type": "code",
   "execution_count": 3,
   "metadata": {},
   "outputs": [
    {
     "output_type": "execute_result",
     "data": {
      "text/plain": [
       "((1, 768), torch.Size([1, 768]))"
      ]
     },
     "metadata": {},
     "execution_count": 3
    }
   ],
   "source": [
    "np.random.seed(0)\n",
    "array = np.random.randint(1, 1024, size=(1, 768))\n",
    "\n",
    "jx_array = jnp.array(array)\n",
    "torch_array = torch.tensor(array, dtype=torch.long)\n",
    "\n",
    "jx_array.shape, torch_array.shape"
   ]
  },
  {
   "cell_type": "code",
   "execution_count": 4,
   "metadata": {},
   "outputs": [
    {
     "output_type": "stream",
     "name": "stdout",
     "text": [
      "hidden_states [[[-0.6101385   0.3201888  -0.49640045 ...  0.40424678 -0.5002909\n   -0.08858022]\n  [-0.4044776  -0.01814827 -0.29021034 ...  0.27513313 -0.3184294\n    0.08828235]\n  [-0.60638195  0.09818833 -0.37506604 ... -0.07753819 -0.24246731\n   -0.03164982]\n  ...\n  [-0.35966563  0.09503029 -0.26183507 ...  0.27247858 -0.09599186\n    0.02604759]\n  [-0.4004357   0.19957614 -0.26888436 ...  0.24486455 -0.11021097\n    0.05327293]\n  [-0.38653636  0.20197348 -0.21651582 ...  0.45053104 -0.0606011\n   -0.01957168]]]\nlogits [[[-14.178629 -13.06072 ]\n  [ -9.486593 -13.158725]\n  [-11.060806 -11.636639]\n  ...\n  [-12.697244 -13.91427 ]\n  [-13.595952 -13.285418]\n  [-13.735154 -13.877777]]]\n"
     ]
    }
   ],
   "source": [
    "fx_out = fx_model(jx_array)\n",
    "# fx_out"
   ]
  },
  {
   "cell_type": "code",
   "execution_count": 5,
   "metadata": {},
   "outputs": [],
   "source": [
    "with torch.no_grad():\n",
    "    torch_out = model(torch_array)\n",
    "# torch_out"
   ]
  },
  {
   "cell_type": "code",
   "execution_count": 6,
   "metadata": {},
   "outputs": [
    {
     "output_type": "stream",
     "name": "stdout",
     "text": [
      "difference in inputs: 0\ndifference in start logits 1.335144e-05\ndifference in end logits 1.04904175e-05\n"
     ]
    }
   ],
   "source": [
    "print(\"difference in inputs:\", get_difference(torch_array, jx_array))\n",
    "\n",
    "print(\"difference in start logits\", get_difference(torch_out[\"start_logits\"], fx_out[\"start_logits\"]))\n",
    "\n",
    "print(\"difference in end logits\", get_difference(torch_out[\"end_logits\"], fx_out[\"end_logits\"]))\n",
    "\n",
    "# print(\"difference in logits:\", get_difference(torch_out[\"prediction_logits\"], fx_out[\"prediction_logits\"]))\n",
    "\n",
    "# print(\"difference in seq-logits:\", get_difference(torch_out[\"seq_relationship_logits\"], fx_out[\"seq_relationship_logits\"]))"
   ]
  },
  {
   "cell_type": "code",
   "execution_count": 7,
   "metadata": {},
   "outputs": [
    {
     "output_type": "execute_result",
     "data": {
      "text/plain": [
       "((1, 768), (1, 768))"
      ]
     },
     "metadata": {},
     "execution_count": 7
    }
   ],
   "source": [
    "fx_out[\"start_logits\"].shape, fx_out[\"end_logits\"].shape"
   ]
  },
  {
   "cell_type": "code",
   "execution_count": null,
   "metadata": {},
   "outputs": [],
   "source": []
  }
 ]
}