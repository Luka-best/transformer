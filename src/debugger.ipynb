{
 "metadata": {
  "language_info": {
   "codemirror_mode": {
    "name": "ipython",
    "version": 3
   },
   "file_extension": ".py",
   "mimetype": "text/x-python",
   "name": "python",
   "nbconvert_exporter": "python",
   "pygments_lexer": "ipython3",
   "version": "3.8.5"
  },
  "orig_nbformat": 2,
  "kernelspec": {
   "name": "python385jvsc74a57bd007c4df7ea0886a603057dcbd29d886eaa26a0122c4b0c39e2937eba8f7497417",
   "display_name": "Python 3.8.5 64-bit ('base': conda)"
  }
 },
 "nbformat": 4,
 "nbformat_minor": 2,
 "cells": [
  {
   "cell_type": "code",
   "execution_count": 1,
   "metadata": {},
   "outputs": [],
   "source": [
    "from transformers import BigBirdForPreTraining, FlaxBigBirdForPreTraining, FlaxBigBirdForQuestionAnswering, BigBirdForQuestionAnswering\n",
    "import numpy as np\n",
    "import jax\n",
    "import torch\n",
    "import jax.numpy as jnp\n",
    "\n",
    "MODEL_ID = \"google/bigbird-base-trivia-itc\"\n",
    "\n",
    "def get_difference(torch_array, jx_array):\n",
    "    torch_array = torch_array.detach().numpy()\n",
    "    jx_array = np.array(jx_array)\n",
    "    return np.max(torch_array - jx_array)"
   ]
  },
  {
   "cell_type": "code",
   "execution_count": 2,
   "metadata": {},
   "outputs": [
    {
     "output_type": "stream",
     "name": "stderr",
     "text": [
      "WARNING:absl:No GPU/TPU found, falling back to CPU. (Set TF_CPP_MIN_LOG_LEVEL=0 and rerun for more info.)\n",
      "Some weights of the model checkpoint at google/bigbird-base-trivia-itc were not used when initializing FlaxBigBirdForQuestionAnswering: {('bert', 'embeddings', 'position_ids')}\n",
      "- This IS expected if you are initializing FlaxBigBirdForQuestionAnswering from the checkpoint of a model trained on another task or with another architecture (e.g. initializing a BertForSequenceClassification model from a BertForPreTraining model).\n",
      "- This IS NOT expected if you are initializing FlaxBigBirdForQuestionAnswering from the checkpoint of a model that you expect to be exactly identical (initializing a BertForSequenceClassification model from a BertForSequenceClassification model).\n"
     ]
    }
   ],
   "source": [
    "fx_model = FlaxBigBirdForQuestionAnswering.from_pretrained(MODEL_ID, attention_type=\"block_sparse\", from_pt=True, hidden_act=\"gelu_new\")\n",
    "model = BigBirdForQuestionAnswering.from_pretrained(MODEL_ID, attention_type=\"block_sparse\", hidden_act=\"gelu_new\")"
   ]
  },
  {
   "cell_type": "code",
   "execution_count": 3,
   "metadata": {},
   "outputs": [
    {
     "output_type": "execute_result",
     "data": {
      "text/plain": [
       "((1, 768), torch.Size([1, 768]))"
      ]
     },
     "metadata": {},
     "execution_count": 3
    }
   ],
   "source": [
    "np.random.seed(0)\n",
    "array = np.random.randint(1, 1024, size=(1, 768))\n",
    "\n",
    "jx_array = jnp.array(array)\n",
    "torch_array = torch.tensor(array, dtype=torch.long)\n",
    "\n",
    "jx_array.shape, torch_array.shape"
   ]
  },
  {
   "cell_type": "code",
   "execution_count": 4,
   "metadata": {},
   "outputs": [],
   "source": [
    "fx_out = fx_model(jx_array)\n",
    "# fx_out"
   ]
  },
  {
   "cell_type": "code",
   "execution_count": 5,
   "metadata": {},
   "outputs": [],
   "source": [
    "with torch.no_grad():\n",
    "    torch_out = model(torch_array)\n",
    "# torch_out"
   ]
  },
  {
   "cell_type": "code",
   "execution_count": 6,
   "metadata": {},
   "outputs": [
    {
     "output_type": "stream",
     "name": "stdout",
     "text": [
      "difference in inputs: 0\ndifference in start logits 1.335144e-05\ndifference in end logits 1.04904175e-05\n"
     ]
    }
   ],
   "source": [
    "print(\"difference in inputs:\", get_difference(torch_array, jx_array))\n",
    "\n",
    "print(\"difference in start logits\", get_difference(torch_out[\"start_logits\"], fx_out[\"start_logits\"]))\n",
    "\n",
    "print(\"difference in end logits\", get_difference(torch_out[\"end_logits\"], fx_out[\"end_logits\"]))\n",
    "\n",
    "# print(\"difference in logits:\", get_difference(torch_out[\"prediction_logits\"], fx_out[\"prediction_logits\"]))\n",
    "\n",
    "# print(\"difference in seq-logits:\", get_difference(torch_out[\"seq_relationship_logits\"], fx_out[\"seq_relationship_logits\"]))"
   ]
  },
  {
   "cell_type": "code",
   "execution_count": 7,
   "metadata": {},
   "outputs": [
    {
     "output_type": "execute_result",
     "data": {
      "text/plain": [
       "((1, 768), (1, 768))"
      ]
     },
     "metadata": {},
     "execution_count": 7
    }
   ],
   "source": [
    "fx_out[\"start_logits\"].shape, fx_out[\"end_logits\"].shape"
   ]
  },
  {
   "cell_type": "code",
   "execution_count": null,
   "metadata": {},
   "outputs": [],
   "source": []
  }
 ]
}