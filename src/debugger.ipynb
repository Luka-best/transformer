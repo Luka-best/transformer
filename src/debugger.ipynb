{
 "metadata": {
  "language_info": {
   "codemirror_mode": {
    "name": "ipython",
    "version": 3
   },
   "file_extension": ".py",
   "mimetype": "text/x-python",
   "name": "python",
   "nbconvert_exporter": "python",
   "pygments_lexer": "ipython3",
   "version": "3.8.5"
  },
  "orig_nbformat": 2,
  "kernelspec": {
   "name": "python385jvsc74a57bd007c4df7ea0886a603057dcbd29d886eaa26a0122c4b0c39e2937eba8f7497417",
   "display_name": "Python 3.8.5 64-bit ('base': conda)"
  }
 },
 "nbformat": 4,
 "nbformat_minor": 2,
 "cells": [
  {
   "cell_type": "code",
   "execution_count": 1,
   "metadata": {},
   "outputs": [],
   "source": [
    "from transformers import BigBirdForPreTraining, FlaxBigBirdForPreTraining\n",
    "import numpy as np\n",
    "import jax\n",
    "import torch\n",
    "import jax.numpy as jnp\n",
    "\n",
    "MODEL_ID = \"google/bigbird-roberta-base\"\n",
    "\n",
    "def get_difference(torch_array, jx_array):\n",
    "    torch_array = torch_array.detach().numpy()\n",
    "    jx_array = np.array(jx_array)\n",
    "    return np.max(torch_array - jx_array)"
   ]
  },
  {
   "cell_type": "code",
   "execution_count": 2,
   "metadata": {},
   "outputs": [
    {
     "output_type": "stream",
     "name": "stderr",
     "text": [
      "WARNING:absl:No GPU/TPU found, falling back to CPU. (Set TF_CPP_MIN_LOG_LEVEL=0 and rerun for more info.)\n",
      "Some weights of the model checkpoint at google/bigbird-roberta-base were not used when initializing FlaxBigBirdForPreTraining: {('cls', 'predictions', 'decoder', 'bias'), ('bert', 'embeddings', 'position_ids'), ('cls', 'predictions', 'decoder', 'kernel')}\n",
      "- This IS expected if you are initializing FlaxBigBirdForPreTraining from the checkpoint of a model trained on another task or with another architecture (e.g. initializing a BertForSequenceClassification model from a BertForPreTraining model).\n",
      "- This IS NOT expected if you are initializing FlaxBigBirdForPreTraining from the checkpoint of a model that you expect to be exactly identical (initializing a BertForSequenceClassification model from a BertForSequenceClassification model).\n"
     ]
    }
   ],
   "source": [
    "fx_model = FlaxBigBirdForPreTraining.from_pretrained(MODEL_ID, attention_type=\"block_sparse\", from_pt=True, hidden_act=\"gelu_new\")\n",
    "model = BigBirdForPreTraining.from_pretrained(MODEL_ID, attention_type=\"block_sparse\", hidden_act=\"gelu_new\")"
   ]
  },
  {
   "cell_type": "code",
   "execution_count": 3,
   "metadata": {},
   "outputs": [
    {
     "output_type": "execute_result",
     "data": {
      "text/plain": [
       "(DeviceArray([[685, 560, 630, ...,  51, 243, 871]], dtype=int32),\n",
       " tensor([[685, 560, 630,  ...,  51, 243, 871]]))"
      ]
     },
     "metadata": {},
     "execution_count": 3
    }
   ],
   "source": [
    "np.random.seed(0)\n",
    "array = np.random.randint(1, 1024, size=(1, 1024))\n",
    "\n",
    "jx_array = jnp.array(array)\n",
    "torch_array = torch.tensor(array, dtype=torch.long)\n",
    "\n",
    "jx_array, torch_array"
   ]
  },
  {
   "cell_type": "code",
   "execution_count": 4,
   "metadata": {},
   "outputs": [
    {
     "output_type": "execute_result",
     "data": {
      "text/plain": [
       "DeviceArray([[[ -7.758166 ,  -9.172134 ,  -7.3885   , ...,  -8.788565 ,\n",
       "                -4.6005898,  -7.278014 ],\n",
       "              [ -7.915648 ,  -9.131889 ,  -8.026362 , ...,  -7.385435 ,\n",
       "                -4.9368143,  -7.2617083],\n",
       "              [ -5.399763 ,  -7.598421 ,  -7.061778 , ...,  -7.9555287,\n",
       "                -5.8667946,  -4.1060424],\n",
       "              ...,\n",
       "              [ -6.743006 ,  -9.424944 ,  -8.606188 , ...,  -5.065666 ,\n",
       "                -4.483654 ,  -7.036038 ],\n",
       "              [ -7.3438916,  -9.684366 ,  -8.672882 , ...,  -5.657706 ,\n",
       "                -3.5089154,  -7.0832176],\n",
       "              [ -8.258332 , -10.002783 ,  -8.916176 , ...,  -5.5625167,\n",
       "                -4.4211135,  -7.6033983]]], dtype=float32)"
      ]
     },
     "metadata": {},
     "execution_count": 4
    }
   ],
   "source": [
    "fx_out = fx_model(jx_array)[0]\n",
    "fx_out"
   ]
  },
  {
   "cell_type": "code",
   "execution_count": 5,
   "metadata": {},
   "outputs": [
    {
     "output_type": "execute_result",
     "data": {
      "text/plain": [
       "tensor([[[ -7.7582,  -9.1721,  -7.3885,  ...,  -8.7886,  -4.6006,  -7.2780],\n",
       "         [ -7.9156,  -9.1319,  -8.0264,  ...,  -7.3854,  -4.9368,  -7.2617],\n",
       "         [ -5.3998,  -7.5984,  -7.0618,  ...,  -7.9555,  -5.8668,  -4.1060],\n",
       "         ...,\n",
       "         [ -6.7430,  -9.4249,  -8.6062,  ...,  -5.0657,  -4.4837,  -7.0360],\n",
       "         [ -7.3439,  -9.6844,  -8.6729,  ...,  -5.6577,  -3.5089,  -7.0832],\n",
       "         [ -8.2583, -10.0028,  -8.9162,  ...,  -5.5625,  -4.4211,  -7.6034]]])"
      ]
     },
     "metadata": {},
     "execution_count": 5
    }
   ],
   "source": [
    "with torch.no_grad():\n",
    "    torch_out = model(torch_array)[0]\n",
    "torch_out"
   ]
  },
  {
   "cell_type": "code",
   "execution_count": 6,
   "metadata": {},
   "outputs": [
    {
     "output_type": "stream",
     "name": "stdout",
     "text": [
      "difference in inputs: 0\n",
      "difference in logits: 9.727478e-05\n"
     ]
    }
   ],
   "source": [
    "print(\"difference in inputs:\", get_difference(torch_array, jx_array))\n",
    "print(\"difference in logits:\", get_difference(torch_out, fx_out))"
   ]
  },
  {
   "cell_type": "code",
   "execution_count": null,
   "metadata": {},
   "outputs": [],
   "source": []
  }
 ]
}