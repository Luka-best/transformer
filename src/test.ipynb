{
 "cells": [
  {
   "cell_type": "code",
   "execution_count": 1,
   "metadata": {},
   "outputs": [],
   "source": [
    "from transformers.models.efficientformer.modeling_efficientformer import *\n",
    "import torch\n",
    "import re\n",
    "import pathlib\n",
    "from transformers import ViTFeatureExtractor\n",
    "from PIL import Image\n",
    "temp = pathlib.PosixPath\n",
    "pathlib.PosixPath = pathlib.WindowsPath"
   ]
  },
  {
   "cell_type": "code",
   "execution_count": 2,
   "metadata": {},
   "outputs": [],
   "source": [
    "cp = torch.load('D:/efficientformer_l1_300d.pth', map_location = torch.device('cpu'))['model']"
   ]
  },
  {
   "cell_type": "code",
   "execution_count": 3,
   "metadata": {},
   "outputs": [],
   "source": [
    "def rename_key(old_name):\n",
    "    new_name = old_name\n",
    "    \n",
    "    if 'patch_embed' in old_name:\n",
    "        _, layer, param = old_name.split('.')\n",
    "        \n",
    "        if layer == '0':\n",
    "            new_name = old_name.replace('0', 'conv1')\n",
    "        elif layer == '1':\n",
    "            new_name = old_name.replace('1', 'norm1')\n",
    "        elif layer == '3':\n",
    "            new_name = old_name.replace('3', 'conv2')\n",
    "        else:\n",
    "            new_name = old_name.replace('4', 'norm2')\n",
    "            \n",
    "    if 'network' in old_name and re.search('\\d\\.\\d', old_name):\n",
    "        match = re.search('\\d\\.\\d', old_name).group()\n",
    "        new_name = old_name.replace(match, match[:2] + 'blocks.' + match[2:]) \n",
    "    \n",
    "    if 'proj' in old_name:\n",
    "        new_name = new_name.replace('proj', 'projection')\n",
    "        \n",
    "    if 'dist_head' in new_name:\n",
    "        pass\n",
    "    elif 'head' in new_name:\n",
    "        new_name = new_name.replace('head', 'classifier')\n",
    "    elif 'patch_embed' in new_name or new_name == 'norm.weight' or new_name == 'norm.bias':\n",
    "        new_name = 'efficientformer.' + new_name\n",
    "    else:\n",
    "        new_name = 'efficientformer.encoder.' + new_name\n",
    "        \n",
    "    return new_name"
   ]
  },
  {
   "cell_type": "code",
   "execution_count": 4,
   "metadata": {},
   "outputs": [],
   "source": [
    "def convert_checkpoint(checkpoint):\n",
    "    for key in checkpoint.copy().keys():\n",
    "        val = checkpoint.pop(key)\n",
    "        checkpoint[rename_key(key)] = val\n",
    "    \n",
    "    return checkpoint"
   ]
  },
  {
   "cell_type": "code",
   "execution_count": 5,
   "metadata": {},
   "outputs": [],
   "source": [
    "cp = convert_checkpoint(cp)"
   ]
  },
  {
   "cell_type": "code",
   "execution_count": 6,
   "metadata": {},
   "outputs": [],
   "source": [
    "config = EfficientformerConfig(num_labels = 1000)\n",
    "model = EfficientformerForImageClassification(config)"
   ]
  },
  {
   "cell_type": "code",
   "execution_count": 7,
   "metadata": {},
   "outputs": [
    {
     "data": {
      "text/plain": [
       "<All keys matched successfully>"
      ]
     },
     "execution_count": 7,
     "metadata": {},
     "output_type": "execute_result"
    }
   ],
   "source": [
    "model.load_state_dict(cp)"
   ]
  },
  {
   "cell_type": "code",
   "execution_count": 8,
   "metadata": {},
   "outputs": [],
   "source": [
    "image = torch.zeros([1, 3, 224, 224])"
   ]
  },
  {
   "cell_type": "code",
   "execution_count": 10,
   "metadata": {},
   "outputs": [],
   "source": [
    "def prepare_img():\n",
    "    image = Image.open(\"C:\\\\Users\\\\prana\\\\transformers\\\\tests\\\\fixtures\\\\tests_samples\\\\COCO\\\\000000039769.png\")\n",
    "    return image\n",
    "\n",
    "feature_extractor = ViTFeatureExtractor()\n",
    "image = prepare_img()\n",
    "inputs = feature_extractor(images=image, return_tensors=\"pt\").to(torch.device('cpu'))"
   ]
  },
  {
   "cell_type": "code",
   "execution_count": 11,
   "metadata": {},
   "outputs": [],
   "source": [
    "with torch.no_grad():\n",
    "    out = model(**inputs).logits"
   ]
  },
  {
   "cell_type": "code",
   "execution_count": 14,
   "metadata": {},
   "outputs": [
    {
     "data": {
      "text/plain": [
       "torch.Size([1000])"
      ]
     },
     "execution_count": 14,
     "metadata": {},
     "output_type": "execute_result"
    }
   ],
   "source": [
    "out[1].shape"
   ]
  },
  {
   "cell_type": "code",
   "execution_count": 17,
   "metadata": {},
   "outputs": [
    {
     "data": {
      "text/plain": [
       "(tensor([-0.8568,  0.3356, -0.1594]), tensor([-1.4141,  1.7621,  0.5935]))"
      ]
     },
     "execution_count": 17,
     "metadata": {},
     "output_type": "execute_result"
    }
   ],
   "source": [
    "out[0][:3], out[1][:3]"
   ]
  },
  {
   "cell_type": "code",
   "execution_count": null,
   "metadata": {},
   "outputs": [],
   "source": []
  }
 ],
 "metadata": {
  "kernelspec": {
   "display_name": "Python 3",
   "language": "python",
   "name": "python3"
  },
  "language_info": {
   "codemirror_mode": {
    "name": "ipython",
    "version": 3
   },
   "file_extension": ".py",
   "mimetype": "text/x-python",
   "name": "python",
   "nbconvert_exporter": "python",
   "pygments_lexer": "ipython3",
   "version": "3.8.5"
  }
 },
 "nbformat": 4,
 "nbformat_minor": 4
}
