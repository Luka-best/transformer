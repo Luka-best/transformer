{
 "cells": [
  {
   "cell_type": "code",
   "execution_count": 2,
   "metadata": {},
   "outputs": [
    {
     "name": "stdout",
     "output_type": "stream",
     "text": [
      "Collecting numexpr\n",
      "  Downloading numexpr-2.9.0-cp311-cp311-macosx_11_0_arm64.whl.metadata (7.9 kB)\n",
      "Requirement already satisfied: numpy>=1.13.3 in /Users/aymeric/venvs/ml/lib/python3.11/site-packages (from numexpr) (1.26.3)\n",
      "Downloading numexpr-2.9.0-cp311-cp311-macosx_11_0_arm64.whl (91 kB)\n",
      "\u001b[2K   \u001b[90m━━━━━━━━━━━━━━━━━━━━━━━━━━━━━━━━━━━━━━━━\u001b[0m \u001b[32m91.8/91.8 kB\u001b[0m \u001b[31m863.8 kB/s\u001b[0m eta \u001b[36m0:00:00\u001b[0ma \u001b[36m0:00:01\u001b[0m\n",
      "\u001b[?25hInstalling collected packages: numexpr\n",
      "Successfully installed numexpr-2.9.0\n",
      "\n",
      "\u001b[1m[\u001b[0m\u001b[34;49mnotice\u001b[0m\u001b[1;39;49m]\u001b[0m\u001b[39;49m A new release of pip is available: \u001b[0m\u001b[31;49m23.3.1\u001b[0m\u001b[39;49m -> \u001b[0m\u001b[32;49m24.0\u001b[0m\n",
      "\u001b[1m[\u001b[0m\u001b[34;49mnotice\u001b[0m\u001b[1;39;49m]\u001b[0m\u001b[39;49m To update, run: \u001b[0m\u001b[32;49mpip install --upgrade pip\u001b[0m\n"
     ]
    }
   ],
   "source": [
    "!pip install numexpr"
   ]
  },
  {
   "cell_type": "code",
   "execution_count": 11,
   "metadata": {},
   "outputs": [],
   "source": [
    "%reload_ext autoreload\n",
    "%autoreload 2"
   ]
  },
  {
   "cell_type": "code",
   "execution_count": 12,
   "metadata": {},
   "outputs": [
    {
     "data": {
      "text/plain": [
       "True"
      ]
     },
     "execution_count": 12,
     "metadata": {},
     "output_type": "execute_result"
    }
   ],
   "source": [
    "import os\n",
    "import numpy as np\n",
    "import pandas as pd\n",
    "import datasets\n",
    "import numexpr  # noqa: F401\n",
    "import math\n",
    "from transformers import Tool\n",
    "from dotenv import load_dotenv\n",
    "\n",
    "load_dotenv(override=True)"
   ]
  },
  {
   "cell_type": "code",
   "execution_count": 42,
   "metadata": {},
   "outputs": [],
   "source": [
    "class CalculatorTool(Tool):\n",
    "    name = \"calculator\"\n",
    "    description = \"This is a tool that calculates. It can be used to perform simple arithmetic operations.\"\n",
    "\n",
    "    inputs = [\"text\"]\n",
    "    outputs = [\"float\"]\n",
    "\n",
    "    def __call__(self, expression):\n",
    "        local_dict = {\"pi\": math.pi, \"e\": math.e}\n",
    "        output = str(\n",
    "            numexpr.evaluate(\n",
    "                expression.strip(),\n",
    "                global_dict={},  # restrict access to globals\n",
    "                local_dict=local_dict,  # add common mathematical functions\n",
    "            )\n",
    "        )\n",
    "        return output"
   ]
  },
  {
   "cell_type": "code",
   "execution_count": 43,
   "metadata": {},
   "outputs": [],
   "source": [
    "def split_answer(row):\n",
    "    splitted = row[\"answer\"].split(\"####\")\n",
    "    row[\"true_reasoning\"] = splitted[0]\n",
    "    row[\"true_answer\"] = float(splitted[1].strip())\n",
    "    return row\n",
    "\n",
    "\n",
    "math_dataset = (\n",
    "    datasets.load_dataset(\"gsm8k\", \"main\")[\"train\"].shuffle(seed=42).select(range(100))\n",
    ")\n",
    "math_dataset = pd.DataFrame(math_dataset)\n",
    "math_dataset = math_dataset.apply(split_answer, axis=1)\n",
    "math_dataset = math_dataset.drop(columns=[\"answer\"])\n",
    "math_dataset = datasets.Dataset.from_pandas(math_dataset)\n",
    "\n",
    "eval_dataset = math_dataset.select(range(30))"
   ]
  },
  {
   "cell_type": "code",
   "execution_count": 69,
   "metadata": {},
   "outputs": [],
   "source": [
    "def fake_llm(prompt, stop=None):\n",
    "    if \"special_marker\" not in prompt:\n",
    "        return \"\"\"\n",
    "Thought: I should multiply 2 by 3.6452. special_marker\n",
    "Action:\n",
    "{\n",
    "    \"action\": \"calculator\",\n",
    "    \"action_input\": {\"expression\": \"2*3.6452\"}\n",
    "}\n",
    "        \"\"\"\n",
    "    else:  # We're at step 2\n",
    "        return \"\"\"\n",
    "Thought: I can now answer the initial question\n",
    "Action:\n",
    "{\n",
    "    \"action\": \"final_answer\",\n",
    "    \"action_input\": {\"expression\": \"3.14159\"}\n",
    "}\n",
    "            \"\"\""
   ]
  },
  {
   "cell_type": "code",
   "execution_count": 72,
   "metadata": {},
   "outputs": [],
   "source": [
    "from transformers import Agent\n",
    "\n",
    "agent = Agent(\n",
    "    llm_engine=fake_llm,\n",
    "    toolbox=[CalculatorTool()],\n",
    ")"
   ]
  },
  {
   "cell_type": "code",
   "execution_count": 73,
   "metadata": {},
   "outputs": [
    {
     "name": "stdout",
     "output_type": "stream",
     "text": [
      "=====Current prompt:=======\n",
      "Solve the following task as best you can. You have access to the following tools:\n",
      "\n",
      "{tool_descriptions}\n",
      "\n",
      "The way you use the tools is by specifying a json blob.\n",
      "Specifically, this json should have a `action` key (name of the tool to use) and a `action_input` key (input to the tool).\n",
      "\n",
      "The only values that should be in the \"action\" field are: {tool_names}\n",
      "\n",
      "The $ACTION_JSON_BLOB should only contain a SINGLE action and MUST be formatted as markdown, do NOT return a list of multiple actions. Here is an example of a valid $ACTION_JSON_BLOB:\n",
      "\n",
      "{{\n",
      "  \"action\": $TOOL_NAME,\n",
      "  \"action_input\": $INPUT\n",
      "}}\n",
      "\n",
      "\n",
      "Make sure to have the $INPUT in the right format for the tool you are using, and do not put variable names as input if you can find the right values.\n",
      "\n",
      "You will be given:\n",
      "\n",
      "Task: the task you are given.\n",
      "\n",
      "You should ALWAYS use the following format:\n",
      "\n",
      "Thought: you should always think about one action to take. Then use the action as follows:\n",
      "Action:\n",
      "$ACTION_JSON_BLOB\n",
      "Observation: the result of the action\n",
      "... (this Thought/Action/Observation can repeat N times, you should take several steps when needed. The $ACTION_JSON_BLOB must only use a SINGLE action at a time.)\n",
      "\n",
      "You must always end your output with the following format:\n",
      "\n",
      "Thought: I now have solved the task.\n",
      "Action: \n",
      "{{\n",
      "    \"action\": \"final_answer\",\n",
      "    \"action_input\": {{\n",
      "        \"answer\": $ANSWER\n",
      "    }}\n",
      "}}\n",
      "ALWAYS use the final_answer tool to provide the final answer to the task. It is the only way to complete the task, else you will be stuck on a loop.\n",
      "\n",
      "Now begin!\n",
      "\n",
      "Task: What is 2 multiplied by 3.6452?\n",
      "\n",
      "==Thought from the agent==\n",
      "\n",
      "Thought: I should multiply 2 by 3.6452.\n",
      "\n",
      "\n",
      "\n",
      "==Result==\n",
      "=====Current prompt:=======\n",
      "Solve the following task as best you can. You have access to the following tools:\n",
      "\n",
      "{tool_descriptions}\n",
      "\n",
      "The way you use the tools is by specifying a json blob.\n",
      "Specifically, this json should have a `action` key (name of the tool to use) and a `action_input` key (input to the tool).\n",
      "\n",
      "The only values that should be in the \"action\" field are: {tool_names}\n",
      "\n",
      "The $ACTION_JSON_BLOB should only contain a SINGLE action and MUST be formatted as markdown, do NOT return a list of multiple actions. Here is an example of a valid $ACTION_JSON_BLOB:\n",
      "\n",
      "{{\n",
      "  \"action\": $TOOL_NAME,\n",
      "  \"action_input\": $INPUT\n",
      "}}\n",
      "\n",
      "\n",
      "Make sure to have the $INPUT in the right format for the tool you are using, and do not put variable names as input if you can find the right values.\n",
      "\n",
      "You will be given:\n",
      "\n",
      "Task: the task you are given.\n",
      "\n",
      "You should ALWAYS use the following format:\n",
      "\n",
      "Thought: you should always think about one action to take. Then use the action as follows:\n",
      "Action:\n",
      "$ACTION_JSON_BLOB\n",
      "Observation: the result of the action\n",
      "... (this Thought/Action/Observation can repeat N times, you should take several steps when needed. The $ACTION_JSON_BLOB must only use a SINGLE action at a time.)\n",
      "\n",
      "You must always end your output with the following format:\n",
      "\n",
      "Thought: I now have solved the task.\n",
      "Action: \n",
      "{{\n",
      "    \"action\": \"final_answer\",\n",
      "    \"action_input\": {{\n",
      "        \"answer\": $ANSWER\n",
      "    }}\n",
      "}}\n",
      "ALWAYS use the final_answer tool to provide the final answer to the task. It is the only way to complete the task, else you will be stuck on a loop.\n",
      "\n",
      "Now begin!\n",
      "\n",
      "Task: What is 2 multiplied by 3.6452?\n",
      "Thought: I should multiply 2 by 3.6452.\n",
      "Action:\n",
      "{\n",
      "    \"action\": \"calculator\",\n",
      "    \"action_input\": {\"expression\": \"2*3.6452\"}\n",
      "}\n",
      "\n",
      "Observation: 7.2904\n",
      "\n",
      "==Thought from the agent==\n",
      "\n",
      "Thought: I can now answer the initial question\n",
      "\n"
     ]
    }
   ],
   "source": [
    "output = agent.run(\"What is 2 multiplied by 3.6452?\")"
   ]
  },
  {
   "cell_type": "code",
   "execution_count": 68,
   "metadata": {},
   "outputs": [
    {
     "data": {
      "text/plain": [
       "{'expression': '3.14159'}"
      ]
     },
     "execution_count": 68,
     "metadata": {},
     "output_type": "execute_result"
    }
   ],
   "source": [
    "output"
   ]
  },
  {
   "cell_type": "code",
   "execution_count": null,
   "metadata": {},
   "outputs": [],
   "source": []
  }
 ],
 "metadata": {
  "kernelspec": {
   "display_name": "ml",
   "language": "python",
   "name": "python3"
  },
  "language_info": {
   "codemirror_mode": {
    "name": "ipython",
    "version": 3
   },
   "file_extension": ".py",
   "mimetype": "text/x-python",
   "name": "python",
   "nbconvert_exporter": "python",
   "pygments_lexer": "ipython3",
   "version": "3.11.6"
  }
 },
 "nbformat": 4,
 "nbformat_minor": 2
}
