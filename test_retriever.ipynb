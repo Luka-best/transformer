{
 "cells": [
  {
   "cell_type": "code",
   "execution_count": 1,
   "metadata": {},
   "outputs": [
    {
     "name": "stderr",
     "output_type": "stream",
     "text": [
      "/usr/local/lib/python3.9/site-packages/tqdm/auto.py:22: TqdmWarning: IProgress not found. Please update jupyter and ipywidgets. See https://ipywidgets.readthedocs.io/en/stable/user_install.html\n",
      "  from .autonotebook import tqdm as notebook_tqdm\n",
      "100%|██████████| 1/1 [00:00<00:00, 704.21it/s]\n"
     ]
    },
    {
     "data": {
      "text/plain": [
       "Dataset({\n",
       "    features: ['id', 'text', 'embeddings'],\n",
       "    num_rows: 10\n",
       "})"
      ]
     },
     "execution_count": 1,
     "metadata": {},
     "output_type": "execute_result"
    }
   ],
   "source": [
    "# setup dataset\n",
    "from datasets import Dataset\n",
    "import numpy as np\n",
    "import faiss\n",
    "retrieval_vector_size = 768\n",
    "\n",
    "dataset = Dataset.from_dict(\n",
    "    {\n",
    "        \"id\": [\"0\", \"1\"] * 5,\n",
    "        \"text\": [\"My favourite number is 3455\", \"The secret word is FROG\"] * 5,\n",
    "        \"embeddings\": [\n",
    "            0.1 * np.ones(retrieval_vector_size),\n",
    "            0.9 * np.ones(retrieval_vector_size),\n",
    "        ] * 5,\n",
    "    }\n",
    ")\n",
    "\n",
    "dataset.add_faiss_index(\"embeddings\", metric_type=faiss.METRIC_INNER_PRODUCT)\n"
   ]
  },
  {
   "cell_type": "code",
   "execution_count": 2,
   "metadata": {},
   "outputs": [],
   "source": [
    "# query_hidden_states = query_hidden_states.cpu().detach().numpy()\n",
    "# _, passage_ids = self.index.search_batch(\"embeddings\", query_hidden_states, topk)\n",
    "# docs = [self.index[[i for i in indices if i >= 0]] for indices in passage_ids]\n",
    "\n",
    "# # todo: move this out to retriever - it's not the model's job to do this and it should be configurable\n",
    "# passages = [[f'{queries[i]} context: {passage}' for passage in doc[\"text\"]] for i, doc in enumerate(docs)]\n",
    "\n",
    "\n",
    "# def encode_passages(batch, tokenizer, max_length):\n",
    "#     bsz = len(batch)\n",
    "#     n = max([len(example) for example in batch])\n",
    "#     batch = [example + [\"\"] *  (n - len(example)) for example in batch]\n",
    "#     batch = reduce(lambda a, b: a + b, batch)\n",
    "#     tokens = tokenizer(\n",
    "#         batch,\n",
    "#         padding=True,\n",
    "#         max_length=max_length,\n",
    "#         return_tensors=\"pt\",\n",
    "#         truncation=True,\n",
    "#     )\n",
    "#     tokens = {k: v.view(bsz, n, -1) for k, v in tokens.items()}\n",
    "    \n",
    "#     return tokens\n",
    "\n",
    "# reader_tokens = encode_passages(passages, self.generator_tokenizer, 512)\n",
    "\n",
    "# labels = self.generator_tokenizer(target, return_tensors=\"pt\", padding=True, truncation=True, max_length=512)['input_ids'].to(self.device)\n",
    "# labels[labels == self.generator_tokenizer.pad_token_id] = -100\n",
    "\n",
    "# reader_ids = reader_tokens[\"input_ids\"].to(self.device)  # FIXME (Not added by ae99, TODO figure out why)\n",
    "# reader_mask = reader_tokens[\"attention_mask\"].bool().to(self.device)\n",
    "\n",
    "\n",
    "# n_context_training = min(topk, reader_ids.size(1))\n",
    "# cfg = self.generator.encoder.config\n",
    "# cfg.bsz = reader_ids.size(0)\n",
    "# cfg.n_context = n_context_training\n",
    "\n",
    "# reader_ids_training = reader_ids[:, :n_context_training].contiguous()\n",
    "# reader_mask_training = reader_mask[:, :n_context_training].contiguous()\n",
    "\n",
    "# reader_ids_training = reader_ids_training.view(reader_ids.size(0), -1)\n",
    "# reader_mask_training = reader_mask_training.view(reader_mask.size(0), -1)\n"
   ]
  },
  {
   "cell_type": "code",
   "execution_count": 3,
   "metadata": {},
   "outputs": [],
   "source": [
    "from src.transformers.models.atlas.retrieval_atlas import AtlasRetrieverIndex, AtlasConfig, AtlasTokenizer\n",
    "\n",
    "config = AtlasConfig.from_pretrained(\"./data/atlas-pretrained\")\n",
    "tokenizer = AtlasTokenizer.from_pretrained(\"./data/atlas-pretrained\", config=config)\n",
    "\n",
    "retrieverIndex = AtlasRetrieverIndex(config, tokenizer, dataset)"
   ]
  },
  {
   "cell_type": "code",
   "execution_count": 4,
   "metadata": {},
   "outputs": [
    {
     "data": {
      "text/plain": [
       "array([[0., 0., 0., ..., 0., 0., 0.],\n",
       "       [0., 0., 0., ..., 0., 0., 0.]])"
      ]
     },
     "execution_count": 4,
     "metadata": {},
     "output_type": "execute_result"
    }
   ],
   "source": [
    "retriever_hidden_states = np.zeros((2, 768))\n",
    "retriever_hidden_states"
   ]
  },
  {
   "cell_type": "code",
   "execution_count": 5,
   "metadata": {},
   "outputs": [
    {
     "ename": "",
     "evalue": "",
     "output_type": "error",
     "traceback": [
      "\u001b[1;31mCanceled future for execute_request message before replies were done"
     ]
    },
    {
     "ename": "",
     "evalue": "",
     "output_type": "error",
     "traceback": [
      "\u001b[1;31mThe Kernel crashed while executing code in the the current cell or a previous cell. Please review the code in the cell(s) to identify a possible cause of the failure. Click <a href='https://aka.ms/vscodeJupyterKernelCrash'>here</a> for more info. View Jupyter <a href='command:jupyter.viewOutput'>log</a> for further details."
     ]
    }
   ],
   "source": [
    "dataset.search_batch(\"embeddings\", retriever_hidden_states, 1)"
   ]
  },
  {
   "cell_type": "code",
   "execution_count": null,
   "metadata": {},
   "outputs": [
    {
     "ename": "AttributeError",
     "evalue": "'Tensor' object has no attribute 'flags'",
     "output_type": "error",
     "traceback": [
      "\u001b[0;31m---------------------------------------------------------------------------\u001b[0m",
      "\u001b[0;31mAttributeError\u001b[0m                            Traceback (most recent call last)",
      "Cell \u001b[0;32mIn[4], line 4\u001b[0m\n\u001b[1;32m      1\u001b[0m retriever_hidden_states \u001b[39m=\u001b[39m np\u001b[39m.\u001b[39mones((\u001b[39m1\u001b[39m, \u001b[39m768\u001b[39m))\n\u001b[1;32m      2\u001b[0m generator_input_ids \u001b[39m=\u001b[39m tokenizer\u001b[39m.\u001b[39mgenerator(\u001b[39m\"\u001b[39m\u001b[39mhello world\u001b[39m\u001b[39m\"\u001b[39m, return_tensors\u001b[39m=\u001b[39m\u001b[39m\"\u001b[39m\u001b[39mpt\u001b[39m\u001b[39m\"\u001b[39m)[\u001b[39m\"\u001b[39m\u001b[39minput_ids\u001b[39m\u001b[39m\"\u001b[39m]\n\u001b[0;32m----> 4\u001b[0m retrieverIndex(generator_input_ids, retriever_hidden_states)\n",
      "File \u001b[0;32m~/projects/transformers/src/transformers/models/atlas/retrieval_atlas.py:653\u001b[0m, in \u001b[0;36mAtlasRetrieverIndex.__call__\u001b[0;34m(self, retriever_hidden_states, generator_input_ids, topk)\u001b[0m\n\u001b[1;32m    647\u001b[0m \u001b[39mdef\u001b[39;00m \u001b[39m__call__\u001b[39m(\n\u001b[1;32m    648\u001b[0m     \u001b[39mself\u001b[39m, \n\u001b[1;32m    649\u001b[0m     retriever_hidden_states,\n\u001b[1;32m    650\u001b[0m     generator_input_ids,\n\u001b[1;32m    651\u001b[0m     topk: \u001b[39mint\u001b[39m \u001b[39m=\u001b[39m \u001b[39m5\u001b[39m,\n\u001b[1;32m    652\u001b[0m ):\n\u001b[0;32m--> 653\u001b[0m     _, passage_ids \u001b[39m=\u001b[39m \u001b[39mself\u001b[39;49m\u001b[39m.\u001b[39;49mindex\u001b[39m.\u001b[39;49msearch_batch(\u001b[39m\"\u001b[39;49m\u001b[39membeddings\u001b[39;49m\u001b[39m\"\u001b[39;49m, retriever_hidden_states, topk)\n\u001b[1;32m    654\u001b[0m     docs \u001b[39m=\u001b[39m [\u001b[39mself\u001b[39m\u001b[39m.\u001b[39mindex[[i \u001b[39mfor\u001b[39;00m i \u001b[39min\u001b[39;00m indices \u001b[39mif\u001b[39;00m i \u001b[39m>\u001b[39m\u001b[39m=\u001b[39m \u001b[39m0\u001b[39m]] \u001b[39mfor\u001b[39;00m indices \u001b[39min\u001b[39;00m passage_ids]\n\u001b[1;32m    656\u001b[0m     queries \u001b[39m=\u001b[39m \u001b[39mself\u001b[39m\u001b[39m.\u001b[39mgenerator_tokenizer\u001b[39m.\u001b[39mbatch_decode(generator_input_ids, skip_special_tokens\u001b[39m=\u001b[39m\u001b[39mTrue\u001b[39;00m)\n",
      "File \u001b[0;32m/usr/local/lib/python3.9/site-packages/datasets/search.py:694\u001b[0m, in \u001b[0;36mIndexableMixin.search_batch\u001b[0;34m(self, index_name, queries, k)\u001b[0m\n\u001b[1;32m    682\u001b[0m \u001b[39m\"\"\"Find the nearest examples indices in the dataset to the query.\u001b[39;00m\n\u001b[1;32m    683\u001b[0m \n\u001b[1;32m    684\u001b[0m \u001b[39mArgs:\u001b[39;00m\n\u001b[0;32m   (...)\u001b[0m\n\u001b[1;32m    691\u001b[0m \u001b[39m    total_indices (:obj:`List[List[int]]`): The indices of the retrieved examples per query.\u001b[39;00m\n\u001b[1;32m    692\u001b[0m \u001b[39m\"\"\"\u001b[39;00m\n\u001b[1;32m    693\u001b[0m \u001b[39mself\u001b[39m\u001b[39m.\u001b[39m_check_index_is_initialized(index_name)\n\u001b[0;32m--> 694\u001b[0m \u001b[39mreturn\u001b[39;00m \u001b[39mself\u001b[39;49m\u001b[39m.\u001b[39;49m_indexes[index_name]\u001b[39m.\u001b[39;49msearch_batch(queries, k)\n",
      "File \u001b[0;32m/usr/local/lib/python3.9/site-packages/datasets/search.py:373\u001b[0m, in \u001b[0;36mFaissIndex.search_batch\u001b[0;34m(self, queries, k)\u001b[0m\n\u001b[1;32m    371\u001b[0m \u001b[39mif\u001b[39;00m \u001b[39mlen\u001b[39m(queries\u001b[39m.\u001b[39mshape) \u001b[39m!=\u001b[39m \u001b[39m2\u001b[39m:\n\u001b[1;32m    372\u001b[0m     \u001b[39mraise\u001b[39;00m \u001b[39mValueError\u001b[39;00m(\u001b[39m\"\u001b[39m\u001b[39mShape of query must be 2D\u001b[39m\u001b[39m\"\u001b[39m)\n\u001b[0;32m--> 373\u001b[0m \u001b[39mif\u001b[39;00m \u001b[39mnot\u001b[39;00m queries\u001b[39m.\u001b[39;49mflags\u001b[39m.\u001b[39mc_contiguous:\n\u001b[1;32m    374\u001b[0m     queries \u001b[39m=\u001b[39m np\u001b[39m.\u001b[39masarray(queries, order\u001b[39m=\u001b[39m\u001b[39m\"\u001b[39m\u001b[39mC\u001b[39m\u001b[39m\"\u001b[39m)\n\u001b[1;32m    375\u001b[0m scores, indices \u001b[39m=\u001b[39m \u001b[39mself\u001b[39m\u001b[39m.\u001b[39mfaiss_index\u001b[39m.\u001b[39msearch(queries, k)\n",
      "\u001b[0;31mAttributeError\u001b[0m: 'Tensor' object has no attribute 'flags'"
     ]
    }
   ],
   "source": [
    "retriever_hidden_states = np.ones((1, 768))\n",
    "generator_input_ids = tokenizer.generator(\"hello world\", return_tensors=\"pt\")[\"input_ids\"]\n",
    "\n",
    "retrieverIndex(generator_input_ids, retriever_hidden_states)\n",
    "\n",
    "\n"
   ]
  }
 ],
 "metadata": {
  "kernelspec": {
   "display_name": "Python 3",
   "language": "python",
   "name": "python3"
  },
  "language_info": {
   "codemirror_mode": {
    "name": "ipython",
    "version": 3
   },
   "file_extension": ".py",
   "mimetype": "text/x-python",
   "name": "python",
   "nbconvert_exporter": "python",
   "pygments_lexer": "ipython3",
   "version": "3.9.4"
  },
  "orig_nbformat": 4,
  "vscode": {
   "interpreter": {
    "hash": "aee8b7b246df8f9039afb4144a1f6fd8d2ca17a180786b69acc140d282b71a49"
   }
  }
 },
 "nbformat": 4,
 "nbformat_minor": 2
}
