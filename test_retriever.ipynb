{
 "cells": [
  {
   "cell_type": "code",
   "execution_count": 1,
   "metadata": {},
   "outputs": [
    {
     "data": {
      "application/vnd.jupyter.widget-view+json": {
       "model_id": "5534501b3a354a5e988551253f806920",
       "version_major": 2,
       "version_minor": 0
      },
      "text/plain": [
       "  0%|          | 0/1 [00:00<?, ?it/s]"
      ]
     },
     "metadata": {},
     "output_type": "display_data"
    },
    {
     "data": {
      "text/plain": [
       "Dataset({\n",
       "    features: ['id', 'text', 'embeddings'],\n",
       "    num_rows: 10\n",
       "})"
      ]
     },
     "execution_count": 1,
     "metadata": {},
     "output_type": "execute_result"
    }
   ],
   "source": [
    "# setup dataset\n",
    "from datasets import Dataset\n",
    "import numpy as np\n",
    "import faiss\n",
    "retrieval_vector_size = 10\n",
    "\n",
    "dataset = Dataset.from_dict(\n",
    "    {\n",
    "        \"id\": [str(i) for i in range(10)],\n",
    "        \"text\": [\"My favourite number is 3455\", \"The secret word is FROG\"] * 5,\n",
    "        \"embeddings\": [\n",
    "            0.1 * np.ones(retrieval_vector_size),\n",
    "            0.9 * np.ones(retrieval_vector_size),\n",
    "        ] * 5,\n",
    "    }\n",
    ")\n",
    "\n",
    "# We'd normally use faiss.METRIC_INNER_PRODUCT, but we're using METRIC_L2 here to make the results easier to understand\n",
    "dataset.add_faiss_index(\"embeddings\", metric_type=faiss.METRIC_L2)\n"
   ]
  },
  {
   "cell_type": "code",
   "execution_count": 2,
   "metadata": {},
   "outputs": [],
   "source": [
    "from src.transformers.models.atlas.retrieval_atlas import AtlasRetrieverIndex, AtlasConfig, AtlasTokenizer\n",
    "\n",
    "config = AtlasConfig.from_pretrained(\"./data/atlas-pretrained\")\n",
    "tokenizer = AtlasTokenizer.from_pretrained(\"./data/atlas-pretrained\", config=config)\n",
    "\n",
    "retriever_index = AtlasRetrieverIndex(config, tokenizer, dataset)"
   ]
  },
  {
   "cell_type": "code",
   "execution_count": 3,
   "metadata": {},
   "outputs": [
    {
     "name": "stdout",
     "output_type": "stream",
     "text": [
      "[[0.10000001 0.10000001 0.10000001 0.10000001 0.10000001]]\n",
      "[{'embeddings': array([[0.1, 0.1, 0.1, 0.1, 0.1, 0.1, 0.1, 0.1, 0.1, 0.1],\n",
      "       [0.1, 0.1, 0.1, 0.1, 0.1, 0.1, 0.1, 0.1, 0.1, 0.1],\n",
      "       [0.1, 0.1, 0.1, 0.1, 0.1, 0.1, 0.1, 0.1, 0.1, 0.1],\n",
      "       [0.1, 0.1, 0.1, 0.1, 0.1, 0.1, 0.1, 0.1, 0.1, 0.1],\n",
      "       [0.1, 0.1, 0.1, 0.1, 0.1, 0.1, 0.1, 0.1, 0.1, 0.1]], dtype=float32), 'id': ['0', '2', '4', '6', '8'], 'text': ['My favourite number is 3455', 'My favourite number is 3455', 'My favourite number is 3455', 'My favourite number is 3455', 'My favourite number is 3455'], 'score': array([0.10000001, 0.10000001, 0.10000001, 0.10000001, 0.10000001],\n",
      "      dtype=float32)}]\n",
      "['hello world context: My favourite number is 3455</s>', 'hello world context: My favourite number is 3455</s>', 'hello world context: My favourite number is 3455</s>', 'hello world context: My favourite number is 3455</s>', 'hello world context: My favourite number is 3455</s>']\n"
     ]
    }
   ],
   "source": [
    "# test retriever\n",
    "retriever_hidden_states = 0.2 * np.zeros((1, retrieval_vector_size))\n",
    "generator_input_ids = tokenizer.generator(\"hello world\", return_tensors=\"pt\")[\"input_ids\"]\n",
    "\n",
    "retrieved, _ = retriever_index(retriever_hidden_states, generator_input_ids, 5)\n",
    "\n",
    "retrieved_strings = tokenizer.generator.batch_decode(retrieved[\"input_ids\"][0])\n",
    "print(retrieved_strings)\n",
    "for string in retrieved_strings:\n",
    "    assert \"3455\" in string"
   ]
  },
  {
   "cell_type": "code",
   "execution_count": 4,
   "metadata": {},
   "outputs": [
    {
     "name": "stdout",
     "output_type": "stream",
     "text": [
      "[[0.10000001 0.10000001 0.10000001 0.10000001 0.10000001 8.099999  ]]\n",
      "[{'embeddings': array([[0.1, 0.1, 0.1, 0.1, 0.1, 0.1, 0.1, 0.1, 0.1, 0.1],\n",
      "       [0.1, 0.1, 0.1, 0.1, 0.1, 0.1, 0.1, 0.1, 0.1, 0.1],\n",
      "       [0.1, 0.1, 0.1, 0.1, 0.1, 0.1, 0.1, 0.1, 0.1, 0.1],\n",
      "       [0.1, 0.1, 0.1, 0.1, 0.1, 0.1, 0.1, 0.1, 0.1, 0.1],\n",
      "       [0.1, 0.1, 0.1, 0.1, 0.1, 0.1, 0.1, 0.1, 0.1, 0.1],\n",
      "       [0.9, 0.9, 0.9, 0.9, 0.9, 0.9, 0.9, 0.9, 0.9, 0.9]], dtype=float32), 'id': ['0', '2', '4', '6', '8', '1'], 'text': ['My favourite number is 3455', 'My favourite number is 3455', 'My favourite number is 3455', 'My favourite number is 3455', 'My favourite number is 3455', 'The secret word is FROG'], 'score': array([0.10000001, 0.10000001, 0.10000001, 0.10000001, 0.10000001,\n",
      "       8.099999  ], dtype=float32)}]\n",
      "['hello world context: My favourite number is 3455</s><pad>', 'hello world context: My favourite number is 3455</s><pad>', 'hello world context: My favourite number is 3455</s><pad>', 'hello world context: My favourite number is 3455</s><pad>', 'hello world context: My favourite number is 3455</s><pad>', 'hello world context: The secret word is FROG</s>']\n"
     ]
    },
    {
     "ename": "AssertionError",
     "evalue": "",
     "output_type": "error",
     "traceback": [
      "\u001b[0;31m---------------------------------------------------------------------------\u001b[0m",
      "\u001b[0;31mAssertionError\u001b[0m                            Traceback (most recent call last)",
      "\u001b[0;32m/var/folders/_s/gn_5k0b56g70414mq8rc3n040000gn/T/ipykernel_1365/1792645482.py\u001b[0m in \u001b[0;36m<module>\u001b[0;34m\u001b[0m\n\u001b[1;32m      6\u001b[0m \u001b[0mprint\u001b[0m\u001b[0;34m(\u001b[0m\u001b[0mretrieved_strings\u001b[0m\u001b[0;34m)\u001b[0m\u001b[0;34m\u001b[0m\u001b[0;34m\u001b[0m\u001b[0m\n\u001b[1;32m      7\u001b[0m \u001b[0;32mfor\u001b[0m \u001b[0mstring\u001b[0m \u001b[0;32min\u001b[0m \u001b[0mretrieved_strings\u001b[0m\u001b[0;34m:\u001b[0m\u001b[0;34m\u001b[0m\u001b[0;34m\u001b[0m\u001b[0m\n\u001b[0;32m----> 8\u001b[0;31m     \u001b[0;32massert\u001b[0m \u001b[0;34m\"3455\"\u001b[0m \u001b[0;32mnot\u001b[0m \u001b[0;32min\u001b[0m \u001b[0mstring\u001b[0m\u001b[0;34m\u001b[0m\u001b[0;34m\u001b[0m\u001b[0m\n\u001b[0m",
      "\u001b[0;31mAssertionError\u001b[0m: "
     ]
    }
   ],
   "source": [
    "# test hiding passages\n",
    "# retriever_hidden_states = 0.2 * np.zeros((1, retrieval_vector_size))\n",
    "# generator_input_ids = tokenizer.generator(\"hello world\", return_tensors=\"pt\")[\"input_ids\"]\n",
    "# retrieved, _ = retriever_index(retriever_hidden_states, generator_input_ids, 6, [str(i) for i in range(0,10,2)])\n",
    "# retrieved_strings = tokenizer.generator.batch_decode(retrieved[\"input_ids\"][0])\n",
    "# print(retrieved_strings)\n",
    "# for string in retrieved_strings:\n",
    "#     assert \"3455\" not in string"
   ]
  },
  {
   "cell_type": "code",
   "execution_count": 5,
   "metadata": {},
   "outputs": [
    {
     "data": {
      "application/vnd.jupyter.widget-view+json": {
       "model_id": "19c76d5a8ee44fc599eedb149b2d3c47",
       "version_major": 2,
       "version_minor": 0
      },
      "text/plain": [
       "  0%|          | 0/5 [00:00<?, ?ba/s]"
      ]
     },
     "metadata": {},
     "output_type": "display_data"
    },
    {
     "data": {
      "application/vnd.jupyter.widget-view+json": {
       "model_id": "2637e4ed541145cc9d416027a1bdd8e7",
       "version_major": 2,
       "version_minor": 0
      },
      "text/plain": [
       "  0%|          | 0/1 [00:00<?, ?it/s]"
      ]
     },
     "metadata": {},
     "output_type": "display_data"
    }
   ],
   "source": [
    "# test reindex\n",
    "from transformers import AtlasModel\n",
    "atlas = AtlasModel.from_pretrained('data/atlas-pretrained', retriever_index=retriever_index)\n",
    "\n",
    "retriever_index.reindex(atlas, batch_size=2)"
   ]
  }
 ],
 "metadata": {
  "kernelspec": {
   "display_name": "base",
   "language": "python",
   "name": "python3"
  },
  "language_info": {
   "codemirror_mode": {
    "name": "ipython",
    "version": 3
   },
   "file_extension": ".py",
   "mimetype": "text/x-python",
   "name": "python",
   "nbconvert_exporter": "python",
   "pygments_lexer": "ipython3",
   "version": "3.9.13"
  },
  "orig_nbformat": 4,
  "vscode": {
   "interpreter": {
    "hash": "472f3460692ba2c0861145e5e150d03c8a5c0e40e057944a047c431b9050b93d"
   }
  }
 },
 "nbformat": 4,
 "nbformat_minor": 2
}
