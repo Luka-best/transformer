{
 "cells": [
  {
   "cell_type": "markdown",
   "id": "ca8cd0a9",
   "metadata": {},
   "source": [
    "# Verifying the SpeechT5 TTS model"
   ]
  },
  {
   "cell_type": "markdown",
   "id": "2c5342da",
   "metadata": {},
   "source": [
    "I needed to do the following to be able to load the original model:\n",
    "\n",
    "- Clone the https://github.com/microsoft/SpeechT5 repo\n",
    "\n",
    "Install stuff:\n",
    "\n",
    "```\n",
    "pip install editdistance\n",
    "pip install -U sacrebleu==1.5.1\n",
    "\n",
    "git submodule update --init SpeechT5/fairseq\n",
    "cd SpeechT5\n",
    "pip install --editable fairseq/\n",
    "pip install espnet\n",
    "```\n",
    "\n",
    "Hack the code:\n",
    "\n",
    "- Copy `speecht5/tasks/speecht5.py` into `fairseq/fairseq/tasks`\n",
    "\n",
    "- `checkpoint_utils.py`: comment out a bunch of the loading stuff because of missing keys in the checkpoint\n",
    "\n",
    "Additional stuff to download:\n",
    "\n",
    "- `dict.txt` from https://drive.google.com/uc?export=download&id=19hcQ58RHZ6CssxF8Qp6yEF1NW_AXxObK\n",
    "\n",
    "- `tokenizer` from https://drive.google.com/uc?export=download&id=1wClgQjXXoU2lmpbaEa1v2SqMbg7cAutq\n",
    "\n",
    "- `xvectors.zip` from https://drive.google.com/uc?export=download&id=16QOUURZBrW7-GYbVG_gXt3mTMlZmQoH0\n",
    "\n",
    "- everything from https://huggingface.co/mechanicalsea/speecht5-tts\n",
    "\n",
    "- https://github.com/kan-bayashi/ParallelWaveGAN"
   ]
  },
  {
   "cell_type": "markdown",
   "id": "ea4d705e",
   "metadata": {},
   "source": [
    "**!!! IMPORTANT !!!**\n",
    "\n",
    "As is, the outputs from the original model and the Hugging Face implementation do not match for the same inputs. This happens because the speech decoder prenet *always* applies dropout, even when not training. Every time you run the (decoder part of the) model, the output will be slightly different.\n",
    "\n",
    "To test that both models give exactly the same output (max absolute error of ~1e-6), do the following:\n",
    "\n",
    "- In `modeling_speecht5.py`, in `SpeechT5SpeechDecoderPrenet.forward`, set `training=False` on the two dropout layers.\n",
    "\n",
    "- In espnet, in `nets/pytorch_backend/tacotron2/decoder.py`, in `Prenet.forward` add `training=False` on the dropout layer."
   ]
  },
  {
   "cell_type": "code",
   "execution_count": 1,
   "id": "1a4d7c59",
   "metadata": {},
   "outputs": [],
   "source": [
    "%reload_ext autoreload\n",
    "%autoreload 2"
   ]
  },
  {
   "cell_type": "markdown",
   "id": "65661728",
   "metadata": {},
   "source": [
    "Set Python path so it can find the `speecht5` and `fairseq` modules."
   ]
  },
  {
   "cell_type": "code",
   "execution_count": 2,
   "id": "f30402f0",
   "metadata": {},
   "outputs": [],
   "source": [
    "import sys\n",
    "sys.path.insert(0, \"../SpeechT5/SpeechT5\")\n",
    "sys.path.insert(0, \"../SpeechT5/SpeechT5/fairseq\")"
   ]
  },
  {
   "cell_type": "code",
   "execution_count": 3,
   "id": "d398e605",
   "metadata": {},
   "outputs": [],
   "source": [
    "import numpy as np\n",
    "import torch\n",
    "import matplotlib.pyplot as plt"
   ]
  },
  {
   "cell_type": "markdown",
   "id": "60213c02",
   "metadata": {},
   "source": [
    "## Tokenize input text"
   ]
  },
  {
   "cell_type": "code",
   "execution_count": 4,
   "id": "75fa539e",
   "metadata": {},
   "outputs": [],
   "source": [
    "from argparse import Namespace\n",
    "from fairseq.data import encoders\n",
    "\n",
    "bpe_tokenizer_path = \"/Users/matthijs/Documents/FILES/HuggingFace/SpeechT5/tryout/MODEL_DIR/spm_char.model\"\n",
    "tokenizer = encoders.build_bpe(Namespace(**{\"bpe\": \"sentencepiece\", \"sentencepiece_model\": bpe_tokenizer_path}))"
   ]
  },
  {
   "cell_type": "code",
   "execution_count": 5,
   "id": "f8409c42",
   "metadata": {},
   "outputs": [
    {
     "name": "stdout",
     "output_type": "stream",
     "text": [
      "dictionary size: 81\n"
     ]
    }
   ],
   "source": [
    "from fairseq.data import Dictionary\n",
    "src_dict = Dictionary.load(\"/Users/matthijs/Documents/FILES/HuggingFace/SpeechT5/tryout/DATA_ROOT/dict.txt\")\n",
    "src_dict.add_symbol(\"<mask>\")\n",
    "src_dict.add_symbol(\"<ctc_blank>\")\n",
    "print(f\"dictionary size: \" f\"{len(src_dict):,}\")"
   ]
  },
  {
   "cell_type": "code",
   "execution_count": 6,
   "id": "5d11bc84",
   "metadata": {},
   "outputs": [],
   "source": [
    "from fairseq.tasks.hubert_pretraining import LabelEncoder\n",
    "label_processor = LabelEncoder(src_dict)"
   ]
  },
  {
   "cell_type": "code",
   "execution_count": 7,
   "id": "2df06465",
   "metadata": {},
   "outputs": [],
   "source": [
    "text = \"Hey, what's up, Hugging Face? This is Speech tee five talking to you for real.\""
   ]
  },
  {
   "cell_type": "code",
   "execution_count": 8,
   "id": "5b2842f6",
   "metadata": {},
   "outputs": [
    {
     "data": {
      "text/plain": [
       "\"▁ H e y , ▁ w h a t ' s ▁ u p , ▁ H u g g i n g ▁ F a c e ? ▁ T h i s ▁ i s ▁ S p e e c h ▁ t e e ▁ f i v e ▁ t a l k i n g ▁ t o ▁ y o u ▁ f o r ▁ r e a l .\""
      ]
     },
     "execution_count": 8,
     "metadata": {},
     "output_type": "execute_result"
    }
   ],
   "source": [
    "label = tokenizer.encode(text)\n",
    "label"
   ]
  },
  {
   "cell_type": "code",
   "execution_count": 9,
   "id": "767a1346",
   "metadata": {},
   "outputs": [
    {
     "data": {
      "text/plain": [
       "tensor([[ 4, 35,  5, 22, 23,  4, 20, 11,  7,  6, 31, 12,  4, 16, 24, 23,  4, 35,\n",
       "         16, 21, 21, 10,  9, 21,  4, 55,  7, 17,  5, 41,  4, 32, 11, 10, 12,  4,\n",
       "         10, 12,  4, 34, 24,  5,  5, 17, 11,  4,  6,  5,  5,  4, 19, 10, 27,  5,\n",
       "          4,  6,  7, 15, 28, 10,  9, 21,  4,  6,  8,  4, 22,  8, 16,  4, 19,  8,\n",
       "         13,  4, 13,  5,  7, 15, 26]], dtype=torch.int32)"
      ]
     },
     "execution_count": 9,
     "metadata": {},
     "output_type": "execute_result"
    }
   ],
   "source": [
    "src_tokens = label_processor(label).unsqueeze(0)\n",
    "src_tokens"
   ]
  },
  {
   "cell_type": "code",
   "execution_count": 10,
   "id": "768371be",
   "metadata": {},
   "outputs": [],
   "source": [
    "# src_tokens = torch.tensor([[\n",
    "#     4, 35,  5, 22, 23,  4, 20, 11,  7,  6, 31, 12,  4, 16, 24, 23,  4, 35,\n",
    "#          16, 21, 21, 10,  9, 21,  4, 55,  7, 17,  5, 41,  4, 32, 11, 10, 12,  4,\n",
    "#          10, 12,  4, 34, 24,  5,  5, 17, 11,  4,  6,  5,  5,  4, 19, 10, 27,  5,\n",
    "#           4,  6,  7, 15, 28, 10,  9, 21,  4,  6,  8,  4, 22,  8, 16,  4, 19,  8,\n",
    "#          13,  4, 13,  5,  7, 15, 26\n",
    "# ]])"
   ]
  },
  {
   "cell_type": "code",
   "execution_count": 11,
   "id": "7e74ef32",
   "metadata": {},
   "outputs": [
    {
     "data": {
      "text/plain": [
       "torch.Size([1, 79])"
      ]
     },
     "execution_count": 11,
     "metadata": {},
     "output_type": "execute_result"
    }
   ],
   "source": [
    "attention_mask = torch.ones_like(src_tokens)\n",
    "attention_mask.shape"
   ]
  },
  {
   "cell_type": "code",
   "execution_count": null,
   "id": "87624009",
   "metadata": {},
   "outputs": [],
   "source": []
  },
  {
   "cell_type": "code",
   "execution_count": 12,
   "id": "f9f0ab97",
   "metadata": {},
   "outputs": [
    {
     "data": {
      "text/plain": [
       "tensor([[ 4, 33,  4, 18, 16, 17, 11,  4, 12, 11,  8, 13,  6,  5, 13,  4, 12,  9,\n",
       "         10, 24, 24,  5,  6]], dtype=torch.int32)"
      ]
     },
     "execution_count": 12,
     "metadata": {},
     "output_type": "execute_result"
    }
   ],
   "source": [
    "text2 = \"A much shorter snippet\"\n",
    "label2 = tokenizer.encode(text2)\n",
    "src_tokens2 = label_processor(label2).unsqueeze(0)\n",
    "src_tokens2"
   ]
  },
  {
   "cell_type": "code",
   "execution_count": 13,
   "id": "b16d3b31",
   "metadata": {},
   "outputs": [],
   "source": [
    "pad_token_id = 1\n",
    "pad_length = src_tokens.size(-1) - src_tokens2.size(-1)\n",
    "src_tokens2_padded = torch.cat([src_tokens2, torch.ones(1, pad_length).long() * pad_token_id], dim=1)\n",
    "attention_mask2 = torch.cat([torch.ones_like(src_tokens2), torch.zeros(1, pad_length).long()], dim=1)"
   ]
  },
  {
   "cell_type": "code",
   "execution_count": 14,
   "id": "5e0d286c",
   "metadata": {},
   "outputs": [],
   "source": [
    "# input_ids_batch = torch.cat([src_tokens, src_tokens2_padded])\n",
    "# attention_mask_batch = torch.cat([attention_mask, attention_mask2])"
   ]
  },
  {
   "cell_type": "code",
   "execution_count": 15,
   "id": "4e886769",
   "metadata": {},
   "outputs": [],
   "source": [
    "# input_ids_batch = torch.cat([src_tokens2_padded, src_tokens])\n",
    "# attention_mask_batch = torch.cat([attention_mask2, attention_mask])"
   ]
  },
  {
   "cell_type": "code",
   "execution_count": 16,
   "id": "0814f901",
   "metadata": {},
   "outputs": [],
   "source": [
    "input_ids_batch = torch.cat([src_tokens, src_tokens2_padded, src_tokens.clone()])\n",
    "attention_mask_batch = torch.cat([attention_mask, attention_mask2, attention_mask.clone()])"
   ]
  },
  {
   "cell_type": "code",
   "execution_count": null,
   "id": "b75147c9",
   "metadata": {},
   "outputs": [],
   "source": []
  },
  {
   "cell_type": "code",
   "execution_count": 17,
   "id": "2b145f4f",
   "metadata": {},
   "outputs": [],
   "source": [
    "# TODO: run our own tokenizer"
   ]
  },
  {
   "cell_type": "code",
   "execution_count": null,
   "id": "1389f72a",
   "metadata": {},
   "outputs": [],
   "source": []
  },
  {
   "cell_type": "markdown",
   "id": "2205900b",
   "metadata": {},
   "source": [
    "## Load the Transformers model"
   ]
  },
  {
   "cell_type": "markdown",
   "id": "3bc8c0f8",
   "metadata": {},
   "source": [
    "To convert the original checkpoint weights to Transformers:\n",
    "\n",
    "First download the checkpoint from https://huggingface.co/mechanicalsea/speecht5-tts\n",
    "\n",
    "Then run the following, using your own `--checkpoint_path` and `--pytorch_dump_folder_path`:\n",
    "\n",
    "```nohighlight\n",
    "cd transformers/src/transformers/models/speecht5\n",
    "\n",
    "python convert_speecht5_original_pytorch_checkpoint_to_pytorch.py \\\n",
    "  --task t2s \\\n",
    "  --checkpoint_path /path/to/SpeechT5/speecht5_tts.pt\n",
    "  --pytorch_dump_folder_path /some/other/path\n",
    "```"
   ]
  },
  {
   "cell_type": "code",
   "execution_count": 18,
   "id": "552fd307",
   "metadata": {},
   "outputs": [],
   "source": [
    "from transformers import (\n",
    "    SpeechT5Config, \n",
    "    SpeechT5CTCTokenizer,\n",
    "    SpeechT5Processor,\n",
    "    SpeechT5Model, \n",
    "    SpeechT5ForTextToSpeech,\n",
    "    Wav2Vec2FeatureExtractor,\n",
    ")"
   ]
  },
  {
   "cell_type": "code",
   "execution_count": 19,
   "id": "69aa6aed",
   "metadata": {},
   "outputs": [],
   "source": [
    "# config = SpeechT5Config()\n",
    "# hf_model = SpeechT5Model(config)"
   ]
  },
  {
   "cell_type": "code",
   "execution_count": 20,
   "id": "1ba8f514",
   "metadata": {},
   "outputs": [],
   "source": [
    "model_checkpoint = \"/Users/matthijs/Documents/FILES/HuggingFace/SpeechT5/weights/speecht5_tts\""
   ]
  },
  {
   "cell_type": "code",
   "execution_count": 21,
   "id": "5df4bac3",
   "metadata": {},
   "outputs": [],
   "source": [
    "hf_model = SpeechT5ForTextToSpeech.from_pretrained(model_checkpoint)"
   ]
  },
  {
   "cell_type": "code",
   "execution_count": 22,
   "id": "b7dd7606",
   "metadata": {},
   "outputs": [
    {
     "data": {
      "text/plain": [
       "SpeechT5ForTextToSpeech(\n",
       "  (speecht5): SpeechT5Model(\n",
       "    (encoder): SpeechT5EncoderWithTextPrenet(\n",
       "      (prenet): SpeechT5TextEncoderPrenet(\n",
       "        (embed_tokens): Embedding(81, 768, padding_idx=1)\n",
       "        (encode_positions): SpeechT5ScaledPositionalEncoding(\n",
       "          (dropout): Dropout(p=0.1, inplace=False)\n",
       "        )\n",
       "      )\n",
       "      (wrapped_encoder): SpeechT5Encoder(\n",
       "        (layer_norm): LayerNorm((768,), eps=1e-05, elementwise_affine=True)\n",
       "        (dropout): Dropout(p=0.1, inplace=False)\n",
       "        (layers): ModuleList(\n",
       "          (0): SpeechT5EncoderLayer(\n",
       "            (attention): SpeechT5Attention(\n",
       "              (k_proj): Linear(in_features=768, out_features=768, bias=True)\n",
       "              (v_proj): Linear(in_features=768, out_features=768, bias=True)\n",
       "              (q_proj): Linear(in_features=768, out_features=768, bias=True)\n",
       "              (out_proj): Linear(in_features=768, out_features=768, bias=True)\n",
       "            )\n",
       "            (dropout): Dropout(p=0.1, inplace=False)\n",
       "            (layer_norm): LayerNorm((768,), eps=1e-05, elementwise_affine=True)\n",
       "            (feed_forward): SpeechT5FeedForward(\n",
       "              (intermediate_dropout): Dropout(p=0.1, inplace=False)\n",
       "              (intermediate_dense): Linear(in_features=768, out_features=3072, bias=True)\n",
       "              (intermediate_act_fn): GELUActivation()\n",
       "              (output_dense): Linear(in_features=3072, out_features=768, bias=True)\n",
       "              (output_dropout): Dropout(p=0.1, inplace=False)\n",
       "            )\n",
       "            (final_layer_norm): LayerNorm((768,), eps=1e-05, elementwise_affine=True)\n",
       "          )\n",
       "          (1): SpeechT5EncoderLayer(\n",
       "            (attention): SpeechT5Attention(\n",
       "              (k_proj): Linear(in_features=768, out_features=768, bias=True)\n",
       "              (v_proj): Linear(in_features=768, out_features=768, bias=True)\n",
       "              (q_proj): Linear(in_features=768, out_features=768, bias=True)\n",
       "              (out_proj): Linear(in_features=768, out_features=768, bias=True)\n",
       "            )\n",
       "            (dropout): Dropout(p=0.1, inplace=False)\n",
       "            (layer_norm): LayerNorm((768,), eps=1e-05, elementwise_affine=True)\n",
       "            (feed_forward): SpeechT5FeedForward(\n",
       "              (intermediate_dropout): Dropout(p=0.1, inplace=False)\n",
       "              (intermediate_dense): Linear(in_features=768, out_features=3072, bias=True)\n",
       "              (intermediate_act_fn): GELUActivation()\n",
       "              (output_dense): Linear(in_features=3072, out_features=768, bias=True)\n",
       "              (output_dropout): Dropout(p=0.1, inplace=False)\n",
       "            )\n",
       "            (final_layer_norm): LayerNorm((768,), eps=1e-05, elementwise_affine=True)\n",
       "          )\n",
       "          (2): SpeechT5EncoderLayer(\n",
       "            (attention): SpeechT5Attention(\n",
       "              (k_proj): Linear(in_features=768, out_features=768, bias=True)\n",
       "              (v_proj): Linear(in_features=768, out_features=768, bias=True)\n",
       "              (q_proj): Linear(in_features=768, out_features=768, bias=True)\n",
       "              (out_proj): Linear(in_features=768, out_features=768, bias=True)\n",
       "            )\n",
       "            (dropout): Dropout(p=0.1, inplace=False)\n",
       "            (layer_norm): LayerNorm((768,), eps=1e-05, elementwise_affine=True)\n",
       "            (feed_forward): SpeechT5FeedForward(\n",
       "              (intermediate_dropout): Dropout(p=0.1, inplace=False)\n",
       "              (intermediate_dense): Linear(in_features=768, out_features=3072, bias=True)\n",
       "              (intermediate_act_fn): GELUActivation()\n",
       "              (output_dense): Linear(in_features=3072, out_features=768, bias=True)\n",
       "              (output_dropout): Dropout(p=0.1, inplace=False)\n",
       "            )\n",
       "            (final_layer_norm): LayerNorm((768,), eps=1e-05, elementwise_affine=True)\n",
       "          )\n",
       "          (3): SpeechT5EncoderLayer(\n",
       "            (attention): SpeechT5Attention(\n",
       "              (k_proj): Linear(in_features=768, out_features=768, bias=True)\n",
       "              (v_proj): Linear(in_features=768, out_features=768, bias=True)\n",
       "              (q_proj): Linear(in_features=768, out_features=768, bias=True)\n",
       "              (out_proj): Linear(in_features=768, out_features=768, bias=True)\n",
       "            )\n",
       "            (dropout): Dropout(p=0.1, inplace=False)\n",
       "            (layer_norm): LayerNorm((768,), eps=1e-05, elementwise_affine=True)\n",
       "            (feed_forward): SpeechT5FeedForward(\n",
       "              (intermediate_dropout): Dropout(p=0.1, inplace=False)\n",
       "              (intermediate_dense): Linear(in_features=768, out_features=3072, bias=True)\n",
       "              (intermediate_act_fn): GELUActivation()\n",
       "              (output_dense): Linear(in_features=3072, out_features=768, bias=True)\n",
       "              (output_dropout): Dropout(p=0.1, inplace=False)\n",
       "            )\n",
       "            (final_layer_norm): LayerNorm((768,), eps=1e-05, elementwise_affine=True)\n",
       "          )\n",
       "          (4): SpeechT5EncoderLayer(\n",
       "            (attention): SpeechT5Attention(\n",
       "              (k_proj): Linear(in_features=768, out_features=768, bias=True)\n",
       "              (v_proj): Linear(in_features=768, out_features=768, bias=True)\n",
       "              (q_proj): Linear(in_features=768, out_features=768, bias=True)\n",
       "              (out_proj): Linear(in_features=768, out_features=768, bias=True)\n",
       "            )\n",
       "            (dropout): Dropout(p=0.1, inplace=False)\n",
       "            (layer_norm): LayerNorm((768,), eps=1e-05, elementwise_affine=True)\n",
       "            (feed_forward): SpeechT5FeedForward(\n",
       "              (intermediate_dropout): Dropout(p=0.1, inplace=False)\n",
       "              (intermediate_dense): Linear(in_features=768, out_features=3072, bias=True)\n",
       "              (intermediate_act_fn): GELUActivation()\n",
       "              (output_dense): Linear(in_features=3072, out_features=768, bias=True)\n",
       "              (output_dropout): Dropout(p=0.1, inplace=False)\n",
       "            )\n",
       "            (final_layer_norm): LayerNorm((768,), eps=1e-05, elementwise_affine=True)\n",
       "          )\n",
       "          (5): SpeechT5EncoderLayer(\n",
       "            (attention): SpeechT5Attention(\n",
       "              (k_proj): Linear(in_features=768, out_features=768, bias=True)\n",
       "              (v_proj): Linear(in_features=768, out_features=768, bias=True)\n",
       "              (q_proj): Linear(in_features=768, out_features=768, bias=True)\n",
       "              (out_proj): Linear(in_features=768, out_features=768, bias=True)\n",
       "            )\n",
       "            (dropout): Dropout(p=0.1, inplace=False)\n",
       "            (layer_norm): LayerNorm((768,), eps=1e-05, elementwise_affine=True)\n",
       "            (feed_forward): SpeechT5FeedForward(\n",
       "              (intermediate_dropout): Dropout(p=0.1, inplace=False)\n",
       "              (intermediate_dense): Linear(in_features=768, out_features=3072, bias=True)\n",
       "              (intermediate_act_fn): GELUActivation()\n",
       "              (output_dense): Linear(in_features=3072, out_features=768, bias=True)\n",
       "              (output_dropout): Dropout(p=0.1, inplace=False)\n",
       "            )\n",
       "            (final_layer_norm): LayerNorm((768,), eps=1e-05, elementwise_affine=True)\n",
       "          )\n",
       "          (6): SpeechT5EncoderLayer(\n",
       "            (attention): SpeechT5Attention(\n",
       "              (k_proj): Linear(in_features=768, out_features=768, bias=True)\n",
       "              (v_proj): Linear(in_features=768, out_features=768, bias=True)\n",
       "              (q_proj): Linear(in_features=768, out_features=768, bias=True)\n",
       "              (out_proj): Linear(in_features=768, out_features=768, bias=True)\n",
       "            )\n",
       "            (dropout): Dropout(p=0.1, inplace=False)\n",
       "            (layer_norm): LayerNorm((768,), eps=1e-05, elementwise_affine=True)\n",
       "            (feed_forward): SpeechT5FeedForward(\n",
       "              (intermediate_dropout): Dropout(p=0.1, inplace=False)\n",
       "              (intermediate_dense): Linear(in_features=768, out_features=3072, bias=True)\n",
       "              (intermediate_act_fn): GELUActivation()\n",
       "              (output_dense): Linear(in_features=3072, out_features=768, bias=True)\n",
       "              (output_dropout): Dropout(p=0.1, inplace=False)\n",
       "            )\n",
       "            (final_layer_norm): LayerNorm((768,), eps=1e-05, elementwise_affine=True)\n",
       "          )\n",
       "          (7): SpeechT5EncoderLayer(\n",
       "            (attention): SpeechT5Attention(\n",
       "              (k_proj): Linear(in_features=768, out_features=768, bias=True)\n",
       "              (v_proj): Linear(in_features=768, out_features=768, bias=True)\n",
       "              (q_proj): Linear(in_features=768, out_features=768, bias=True)\n",
       "              (out_proj): Linear(in_features=768, out_features=768, bias=True)\n",
       "            )\n",
       "            (dropout): Dropout(p=0.1, inplace=False)\n",
       "            (layer_norm): LayerNorm((768,), eps=1e-05, elementwise_affine=True)\n",
       "            (feed_forward): SpeechT5FeedForward(\n",
       "              (intermediate_dropout): Dropout(p=0.1, inplace=False)\n",
       "              (intermediate_dense): Linear(in_features=768, out_features=3072, bias=True)\n",
       "              (intermediate_act_fn): GELUActivation()\n",
       "              (output_dense): Linear(in_features=3072, out_features=768, bias=True)\n",
       "              (output_dropout): Dropout(p=0.1, inplace=False)\n",
       "            )\n",
       "            (final_layer_norm): LayerNorm((768,), eps=1e-05, elementwise_affine=True)\n",
       "          )\n",
       "          (8): SpeechT5EncoderLayer(\n",
       "            (attention): SpeechT5Attention(\n",
       "              (k_proj): Linear(in_features=768, out_features=768, bias=True)\n",
       "              (v_proj): Linear(in_features=768, out_features=768, bias=True)\n",
       "              (q_proj): Linear(in_features=768, out_features=768, bias=True)\n",
       "              (out_proj): Linear(in_features=768, out_features=768, bias=True)\n",
       "            )\n",
       "            (dropout): Dropout(p=0.1, inplace=False)\n",
       "            (layer_norm): LayerNorm((768,), eps=1e-05, elementwise_affine=True)\n",
       "            (feed_forward): SpeechT5FeedForward(\n",
       "              (intermediate_dropout): Dropout(p=0.1, inplace=False)\n",
       "              (intermediate_dense): Linear(in_features=768, out_features=3072, bias=True)\n",
       "              (intermediate_act_fn): GELUActivation()\n",
       "              (output_dense): Linear(in_features=3072, out_features=768, bias=True)\n",
       "              (output_dropout): Dropout(p=0.1, inplace=False)\n",
       "            )\n",
       "            (final_layer_norm): LayerNorm((768,), eps=1e-05, elementwise_affine=True)\n",
       "          )\n",
       "          (9): SpeechT5EncoderLayer(\n",
       "            (attention): SpeechT5Attention(\n",
       "              (k_proj): Linear(in_features=768, out_features=768, bias=True)\n",
       "              (v_proj): Linear(in_features=768, out_features=768, bias=True)\n",
       "              (q_proj): Linear(in_features=768, out_features=768, bias=True)\n",
       "              (out_proj): Linear(in_features=768, out_features=768, bias=True)\n",
       "            )\n",
       "            (dropout): Dropout(p=0.1, inplace=False)\n",
       "            (layer_norm): LayerNorm((768,), eps=1e-05, elementwise_affine=True)\n",
       "            (feed_forward): SpeechT5FeedForward(\n",
       "              (intermediate_dropout): Dropout(p=0.1, inplace=False)\n",
       "              (intermediate_dense): Linear(in_features=768, out_features=3072, bias=True)\n",
       "              (intermediate_act_fn): GELUActivation()\n",
       "              (output_dense): Linear(in_features=3072, out_features=768, bias=True)\n",
       "              (output_dropout): Dropout(p=0.1, inplace=False)\n",
       "            )\n",
       "            (final_layer_norm): LayerNorm((768,), eps=1e-05, elementwise_affine=True)\n",
       "          )\n",
       "          (10): SpeechT5EncoderLayer(\n",
       "            (attention): SpeechT5Attention(\n",
       "              (k_proj): Linear(in_features=768, out_features=768, bias=True)\n",
       "              (v_proj): Linear(in_features=768, out_features=768, bias=True)\n",
       "              (q_proj): Linear(in_features=768, out_features=768, bias=True)\n",
       "              (out_proj): Linear(in_features=768, out_features=768, bias=True)\n",
       "            )\n",
       "            (dropout): Dropout(p=0.1, inplace=False)\n",
       "            (layer_norm): LayerNorm((768,), eps=1e-05, elementwise_affine=True)\n",
       "            (feed_forward): SpeechT5FeedForward(\n",
       "              (intermediate_dropout): Dropout(p=0.1, inplace=False)\n",
       "              (intermediate_dense): Linear(in_features=768, out_features=3072, bias=True)\n",
       "              (intermediate_act_fn): GELUActivation()\n",
       "              (output_dense): Linear(in_features=3072, out_features=768, bias=True)\n",
       "              (output_dropout): Dropout(p=0.1, inplace=False)\n",
       "            )\n",
       "            (final_layer_norm): LayerNorm((768,), eps=1e-05, elementwise_affine=True)\n",
       "          )\n",
       "          (11): SpeechT5EncoderLayer(\n",
       "            (attention): SpeechT5Attention(\n",
       "              (k_proj): Linear(in_features=768, out_features=768, bias=True)\n",
       "              (v_proj): Linear(in_features=768, out_features=768, bias=True)\n",
       "              (q_proj): Linear(in_features=768, out_features=768, bias=True)\n",
       "              (out_proj): Linear(in_features=768, out_features=768, bias=True)\n",
       "            )\n",
       "            (dropout): Dropout(p=0.1, inplace=False)\n",
       "            (layer_norm): LayerNorm((768,), eps=1e-05, elementwise_affine=True)\n",
       "            (feed_forward): SpeechT5FeedForward(\n",
       "              (intermediate_dropout): Dropout(p=0.1, inplace=False)\n",
       "              (intermediate_dense): Linear(in_features=768, out_features=3072, bias=True)\n",
       "              (intermediate_act_fn): GELUActivation()\n",
       "              (output_dense): Linear(in_features=3072, out_features=768, bias=True)\n",
       "              (output_dropout): Dropout(p=0.1, inplace=False)\n",
       "            )\n",
       "            (final_layer_norm): LayerNorm((768,), eps=1e-05, elementwise_affine=True)\n",
       "          )\n",
       "        )\n",
       "        (embed_positions): SpeechT5RelativePositionalEncoding(\n",
       "          (pe_k): Embedding(320, 64)\n",
       "        )\n",
       "      )\n",
       "    )\n",
       "    (decoder): SpeechT5DecoderWithSpeechPrenet(\n",
       "      (prenet): SpeechT5SpeechDecoderPrenet(\n",
       "        (layer1): Linear(in_features=80, out_features=256, bias=True)\n",
       "        (layer2): Linear(in_features=256, out_features=256, bias=True)\n",
       "        (layer3): Linear(in_features=256, out_features=768, bias=True)\n",
       "        (encode_positions): SpeechT5ScaledPositionalEncoding(\n",
       "          (dropout): Dropout(p=0.1, inplace=False)\n",
       "        )\n",
       "        (speaker_embeds_layer): Linear(in_features=1280, out_features=768, bias=True)\n",
       "      )\n",
       "      (wrapped_decoder): SpeechT5Decoder(\n",
       "        (layers): ModuleList(\n",
       "          (0): SpeechT5DecoderLayer(\n",
       "            (self_attn): SpeechT5Attention(\n",
       "              (k_proj): Linear(in_features=768, out_features=768, bias=True)\n",
       "              (v_proj): Linear(in_features=768, out_features=768, bias=True)\n",
       "              (q_proj): Linear(in_features=768, out_features=768, bias=True)\n",
       "              (out_proj): Linear(in_features=768, out_features=768, bias=True)\n",
       "            )\n",
       "            (dropout): Dropout(p=0.1, inplace=False)\n",
       "            (self_attn_layer_norm): LayerNorm((768,), eps=1e-05, elementwise_affine=True)\n",
       "            (encoder_attn): SpeechT5Attention(\n",
       "              (k_proj): Linear(in_features=768, out_features=768, bias=True)\n",
       "              (v_proj): Linear(in_features=768, out_features=768, bias=True)\n",
       "              (q_proj): Linear(in_features=768, out_features=768, bias=True)\n",
       "              (out_proj): Linear(in_features=768, out_features=768, bias=True)\n",
       "            )\n",
       "            (encoder_attn_layer_norm): LayerNorm((768,), eps=1e-05, elementwise_affine=True)\n",
       "            (feed_forward): SpeechT5FeedForward(\n",
       "              (intermediate_dropout): Dropout(p=0.1, inplace=False)\n",
       "              (intermediate_dense): Linear(in_features=768, out_features=3072, bias=True)\n",
       "              (intermediate_act_fn): GELUActivation()\n",
       "              (output_dense): Linear(in_features=3072, out_features=768, bias=True)\n",
       "              (output_dropout): Dropout(p=0.1, inplace=False)\n",
       "            )\n",
       "            (final_layer_norm): LayerNorm((768,), eps=1e-05, elementwise_affine=True)\n",
       "          )\n",
       "          (1): SpeechT5DecoderLayer(\n",
       "            (self_attn): SpeechT5Attention(\n",
       "              (k_proj): Linear(in_features=768, out_features=768, bias=True)\n",
       "              (v_proj): Linear(in_features=768, out_features=768, bias=True)\n",
       "              (q_proj): Linear(in_features=768, out_features=768, bias=True)\n",
       "              (out_proj): Linear(in_features=768, out_features=768, bias=True)\n",
       "            )\n",
       "            (dropout): Dropout(p=0.1, inplace=False)\n",
       "            (self_attn_layer_norm): LayerNorm((768,), eps=1e-05, elementwise_affine=True)\n",
       "            (encoder_attn): SpeechT5Attention(\n",
       "              (k_proj): Linear(in_features=768, out_features=768, bias=True)\n",
       "              (v_proj): Linear(in_features=768, out_features=768, bias=True)\n",
       "              (q_proj): Linear(in_features=768, out_features=768, bias=True)\n",
       "              (out_proj): Linear(in_features=768, out_features=768, bias=True)\n",
       "            )\n",
       "            (encoder_attn_layer_norm): LayerNorm((768,), eps=1e-05, elementwise_affine=True)\n",
       "            (feed_forward): SpeechT5FeedForward(\n",
       "              (intermediate_dropout): Dropout(p=0.1, inplace=False)\n",
       "              (intermediate_dense): Linear(in_features=768, out_features=3072, bias=True)\n",
       "              (intermediate_act_fn): GELUActivation()\n",
       "              (output_dense): Linear(in_features=3072, out_features=768, bias=True)\n",
       "              (output_dropout): Dropout(p=0.1, inplace=False)\n",
       "            )\n",
       "            (final_layer_norm): LayerNorm((768,), eps=1e-05, elementwise_affine=True)\n",
       "          )\n",
       "          (2): SpeechT5DecoderLayer(\n",
       "            (self_attn): SpeechT5Attention(\n",
       "              (k_proj): Linear(in_features=768, out_features=768, bias=True)\n",
       "              (v_proj): Linear(in_features=768, out_features=768, bias=True)\n",
       "              (q_proj): Linear(in_features=768, out_features=768, bias=True)\n",
       "              (out_proj): Linear(in_features=768, out_features=768, bias=True)\n",
       "            )\n",
       "            (dropout): Dropout(p=0.1, inplace=False)\n",
       "            (self_attn_layer_norm): LayerNorm((768,), eps=1e-05, elementwise_affine=True)\n",
       "            (encoder_attn): SpeechT5Attention(\n",
       "              (k_proj): Linear(in_features=768, out_features=768, bias=True)\n",
       "              (v_proj): Linear(in_features=768, out_features=768, bias=True)\n",
       "              (q_proj): Linear(in_features=768, out_features=768, bias=True)\n",
       "              (out_proj): Linear(in_features=768, out_features=768, bias=True)\n",
       "            )\n",
       "            (encoder_attn_layer_norm): LayerNorm((768,), eps=1e-05, elementwise_affine=True)\n",
       "            (feed_forward): SpeechT5FeedForward(\n",
       "              (intermediate_dropout): Dropout(p=0.1, inplace=False)\n",
       "              (intermediate_dense): Linear(in_features=768, out_features=3072, bias=True)\n",
       "              (intermediate_act_fn): GELUActivation()\n",
       "              (output_dense): Linear(in_features=3072, out_features=768, bias=True)\n",
       "              (output_dropout): Dropout(p=0.1, inplace=False)\n",
       "            )\n",
       "            (final_layer_norm): LayerNorm((768,), eps=1e-05, elementwise_affine=True)\n",
       "          )\n",
       "          (3): SpeechT5DecoderLayer(\n",
       "            (self_attn): SpeechT5Attention(\n",
       "              (k_proj): Linear(in_features=768, out_features=768, bias=True)\n",
       "              (v_proj): Linear(in_features=768, out_features=768, bias=True)\n",
       "              (q_proj): Linear(in_features=768, out_features=768, bias=True)\n",
       "              (out_proj): Linear(in_features=768, out_features=768, bias=True)\n",
       "            )\n",
       "            (dropout): Dropout(p=0.1, inplace=False)\n",
       "            (self_attn_layer_norm): LayerNorm((768,), eps=1e-05, elementwise_affine=True)\n",
       "            (encoder_attn): SpeechT5Attention(\n",
       "              (k_proj): Linear(in_features=768, out_features=768, bias=True)\n",
       "              (v_proj): Linear(in_features=768, out_features=768, bias=True)\n",
       "              (q_proj): Linear(in_features=768, out_features=768, bias=True)\n",
       "              (out_proj): Linear(in_features=768, out_features=768, bias=True)\n",
       "            )\n",
       "            (encoder_attn_layer_norm): LayerNorm((768,), eps=1e-05, elementwise_affine=True)\n",
       "            (feed_forward): SpeechT5FeedForward(\n",
       "              (intermediate_dropout): Dropout(p=0.1, inplace=False)\n",
       "              (intermediate_dense): Linear(in_features=768, out_features=3072, bias=True)\n",
       "              (intermediate_act_fn): GELUActivation()\n",
       "              (output_dense): Linear(in_features=3072, out_features=768, bias=True)\n",
       "              (output_dropout): Dropout(p=0.1, inplace=False)\n",
       "            )\n",
       "            (final_layer_norm): LayerNorm((768,), eps=1e-05, elementwise_affine=True)\n",
       "          )\n",
       "          (4): SpeechT5DecoderLayer(\n",
       "            (self_attn): SpeechT5Attention(\n",
       "              (k_proj): Linear(in_features=768, out_features=768, bias=True)\n",
       "              (v_proj): Linear(in_features=768, out_features=768, bias=True)\n",
       "              (q_proj): Linear(in_features=768, out_features=768, bias=True)\n",
       "              (out_proj): Linear(in_features=768, out_features=768, bias=True)\n",
       "            )\n",
       "            (dropout): Dropout(p=0.1, inplace=False)\n",
       "            (self_attn_layer_norm): LayerNorm((768,), eps=1e-05, elementwise_affine=True)\n",
       "            (encoder_attn): SpeechT5Attention(\n",
       "              (k_proj): Linear(in_features=768, out_features=768, bias=True)\n",
       "              (v_proj): Linear(in_features=768, out_features=768, bias=True)\n",
       "              (q_proj): Linear(in_features=768, out_features=768, bias=True)\n",
       "              (out_proj): Linear(in_features=768, out_features=768, bias=True)\n",
       "            )\n",
       "            (encoder_attn_layer_norm): LayerNorm((768,), eps=1e-05, elementwise_affine=True)\n",
       "            (feed_forward): SpeechT5FeedForward(\n",
       "              (intermediate_dropout): Dropout(p=0.1, inplace=False)\n",
       "              (intermediate_dense): Linear(in_features=768, out_features=3072, bias=True)\n",
       "              (intermediate_act_fn): GELUActivation()\n",
       "              (output_dense): Linear(in_features=3072, out_features=768, bias=True)\n",
       "              (output_dropout): Dropout(p=0.1, inplace=False)\n",
       "            )\n",
       "            (final_layer_norm): LayerNorm((768,), eps=1e-05, elementwise_affine=True)\n",
       "          )\n",
       "          (5): SpeechT5DecoderLayer(\n",
       "            (self_attn): SpeechT5Attention(\n",
       "              (k_proj): Linear(in_features=768, out_features=768, bias=True)\n",
       "              (v_proj): Linear(in_features=768, out_features=768, bias=True)\n",
       "              (q_proj): Linear(in_features=768, out_features=768, bias=True)\n",
       "              (out_proj): Linear(in_features=768, out_features=768, bias=True)\n",
       "            )\n",
       "            (dropout): Dropout(p=0.1, inplace=False)\n",
       "            (self_attn_layer_norm): LayerNorm((768,), eps=1e-05, elementwise_affine=True)\n",
       "            (encoder_attn): SpeechT5Attention(\n",
       "              (k_proj): Linear(in_features=768, out_features=768, bias=True)\n",
       "              (v_proj): Linear(in_features=768, out_features=768, bias=True)\n",
       "              (q_proj): Linear(in_features=768, out_features=768, bias=True)\n",
       "              (out_proj): Linear(in_features=768, out_features=768, bias=True)\n",
       "            )\n",
       "            (encoder_attn_layer_norm): LayerNorm((768,), eps=1e-05, elementwise_affine=True)\n",
       "            (feed_forward): SpeechT5FeedForward(\n",
       "              (intermediate_dropout): Dropout(p=0.1, inplace=False)\n",
       "              (intermediate_dense): Linear(in_features=768, out_features=3072, bias=True)\n",
       "              (intermediate_act_fn): GELUActivation()\n",
       "              (output_dense): Linear(in_features=3072, out_features=768, bias=True)\n",
       "              (output_dropout): Dropout(p=0.1, inplace=False)\n",
       "            )\n",
       "            (final_layer_norm): LayerNorm((768,), eps=1e-05, elementwise_affine=True)\n",
       "          )\n",
       "        )\n",
       "      )\n",
       "    )\n",
       "  )\n",
       "  (speech_decoder_postnet): SpeechT5SpeechDecoderPostnet(\n",
       "    (feat_out): Linear(in_features=768, out_features=160, bias=True)\n",
       "    (prob_out): Linear(in_features=768, out_features=2, bias=True)\n",
       "    (layers): ModuleList(\n",
       "      (0): SpeechT5BatchNormConvLayer(\n",
       "        (conv): Conv1d(80, 256, kernel_size=(5,), stride=(1,), padding=(2,), bias=False)\n",
       "        (batch_norm): BatchNorm1d(256, eps=1e-05, momentum=0.1, affine=True, track_running_stats=True)\n",
       "        (activation): Tanh()\n",
       "        (dropout): Dropout(p=0.5, inplace=False)\n",
       "      )\n",
       "      (1): SpeechT5BatchNormConvLayer(\n",
       "        (conv): Conv1d(256, 256, kernel_size=(5,), stride=(1,), padding=(2,), bias=False)\n",
       "        (batch_norm): BatchNorm1d(256, eps=1e-05, momentum=0.1, affine=True, track_running_stats=True)\n",
       "        (activation): Tanh()\n",
       "        (dropout): Dropout(p=0.5, inplace=False)\n",
       "      )\n",
       "      (2): SpeechT5BatchNormConvLayer(\n",
       "        (conv): Conv1d(256, 256, kernel_size=(5,), stride=(1,), padding=(2,), bias=False)\n",
       "        (batch_norm): BatchNorm1d(256, eps=1e-05, momentum=0.1, affine=True, track_running_stats=True)\n",
       "        (activation): Tanh()\n",
       "        (dropout): Dropout(p=0.5, inplace=False)\n",
       "      )\n",
       "      (3): SpeechT5BatchNormConvLayer(\n",
       "        (conv): Conv1d(256, 256, kernel_size=(5,), stride=(1,), padding=(2,), bias=False)\n",
       "        (batch_norm): BatchNorm1d(256, eps=1e-05, momentum=0.1, affine=True, track_running_stats=True)\n",
       "        (activation): Tanh()\n",
       "        (dropout): Dropout(p=0.5, inplace=False)\n",
       "      )\n",
       "      (4): SpeechT5BatchNormConvLayer(\n",
       "        (conv): Conv1d(256, 80, kernel_size=(5,), stride=(1,), padding=(2,), bias=False)\n",
       "        (batch_norm): BatchNorm1d(80, eps=1e-05, momentum=0.1, affine=True, track_running_stats=True)\n",
       "        (dropout): Dropout(p=0.5, inplace=False)\n",
       "      )\n",
       "    )\n",
       "  )\n",
       ")"
      ]
     },
     "execution_count": 22,
     "metadata": {},
     "output_type": "execute_result"
    }
   ],
   "source": [
    "hf_model.eval()"
   ]
  },
  {
   "cell_type": "code",
   "execution_count": 23,
   "id": "09c1c4b9",
   "metadata": {
    "scrolled": true
   },
   "outputs": [
    {
     "name": "stderr",
     "output_type": "stream",
     "text": [
      "Some weights of the model checkpoint at /Users/matthijs/Documents/FILES/HuggingFace/SpeechT5/weights/speecht5_tts were not used when initializing SpeechT5Model: ['speech_decoder_postnet.layers.1.batch_norm.running_var', 'speech_decoder_postnet.layers.1.batch_norm.weight', 'speecht5.decoder.prenet.layer1.bias', 'speech_decoder_postnet.layers.2.batch_norm.running_mean', 'speecht5.decoder.prenet.encode_positions.alpha', 'speech_decoder_postnet.layers.0.batch_norm.running_mean', 'speech_decoder_postnet.layers.2.conv.weight', 'speecht5.decoder.prenet.layer2.weight', 'speecht5.encoder.prenet.encode_positions.alpha', 'speecht5.decoder.prenet.layer3.weight', 'speech_decoder_postnet.layers.4.batch_norm.weight', 'speecht5.decoder.prenet.speaker_embeds_layer.weight', 'speech_decoder_postnet.layers.2.batch_norm.weight', 'speech_decoder_postnet.layers.1.batch_norm.bias', 'speecht5.decoder.prenet.layer2.bias', 'speech_decoder_postnet.layers.4.batch_norm.running_mean', 'speech_decoder_postnet.layers.3.batch_norm.running_mean', 'speech_decoder_postnet.layers.0.conv.weight', 'speech_decoder_postnet.layers.2.batch_norm.num_batches_tracked', 'speech_decoder_postnet.layers.4.batch_norm.running_var', 'speech_decoder_postnet.layers.1.batch_norm.num_batches_tracked', 'speech_decoder_postnet.feat_out.bias', 'speech_decoder_postnet.layers.4.batch_norm.bias', 'speech_decoder_postnet.layers.4.conv.weight', 'speecht5.decoder.prenet.layer3.bias', 'speech_decoder_postnet.layers.1.batch_norm.running_mean', 'speecht5.encoder.prenet.embed_tokens.weight', 'speech_decoder_postnet.layers.0.batch_norm.running_var', 'speech_decoder_postnet.layers.0.batch_norm.bias', 'speech_decoder_postnet.layers.3.conv.weight', 'speech_decoder_postnet.layers.0.batch_norm.num_batches_tracked', 'speech_decoder_postnet.layers.2.batch_norm.running_var', 'speecht5.decoder.prenet.layer1.weight', 'speech_decoder_postnet.layers.1.conv.weight', 'speech_decoder_postnet.layers.0.batch_norm.weight', 'speech_decoder_postnet.layers.3.batch_norm.num_batches_tracked', 'speech_decoder_postnet.feat_out.weight', 'speech_decoder_postnet.layers.3.batch_norm.running_var', 'speech_decoder_postnet.prob_out.bias', 'speecht5.encoder.prenet.encode_positions.pe', 'speech_decoder_postnet.prob_out.weight', 'speech_decoder_postnet.layers.4.batch_norm.num_batches_tracked', 'speecht5.decoder.prenet.encode_positions.pe', 'speech_decoder_postnet.layers.3.batch_norm.bias', 'speech_decoder_postnet.layers.3.batch_norm.weight', 'speech_decoder_postnet.layers.2.batch_norm.bias', 'speecht5.decoder.prenet.speaker_embeds_layer.bias']\n",
      "- This IS expected if you are initializing SpeechT5Model from the checkpoint of a model trained on another task or with another architecture (e.g. initializing a BertForSequenceClassification model from a BertForPreTraining model).\n",
      "- This IS NOT expected if you are initializing SpeechT5Model from the checkpoint of a model that you expect to be exactly identical (initializing a BertForSequenceClassification model from a BertForSequenceClassification model).\n"
     ]
    }
   ],
   "source": [
    "# Loading should work OK for class `SpeechT5Model` too:\n",
    "hf_model_naked = SpeechT5Model.from_pretrained(model_checkpoint)"
   ]
  },
  {
   "cell_type": "markdown",
   "id": "64823660",
   "metadata": {},
   "source": [
    "## Load the original model"
   ]
  },
  {
   "cell_type": "markdown",
   "id": "1046bda1",
   "metadata": {},
   "source": [
    "See the script `generate_speech.py` from the SpeechT5 repo."
   ]
  },
  {
   "cell_type": "markdown",
   "id": "b1697ab0",
   "metadata": {},
   "source": [
    "Load the dictionary. This adds `<s>, <pad>, </s>, <unk>` tokens to the front and `<mask>` and `<ctc_blank>` to the end. **dict.txt** was [downloaded from here](https://drive.google.com/uc?export=download&id=19hcQ58RHZ6CssxF8Qp6yEF1NW_AXxObK). This is the Vocabulary link from the main SpeechT5 README."
   ]
  },
  {
   "cell_type": "code",
   "execution_count": 24,
   "id": "24e0f251",
   "metadata": {},
   "outputs": [
    {
     "name": "stdout",
     "output_type": "stream",
     "text": [
      "dictionary size: 81\n"
     ]
    }
   ],
   "source": [
    "from fairseq.data import Dictionary\n",
    "tgt_dict = Dictionary.load(\"/Users/matthijs/Documents/FILES/HuggingFace/SpeechT5/tryout/DATA_ROOT/dict.txt\")\n",
    "tgt_dict.add_symbol(\"<mask>\")\n",
    "tgt_dict.add_symbol(\"<ctc_blank>\")\n",
    "print(f\"dictionary size: \" f\"{len(tgt_dict):,}\")"
   ]
  },
  {
   "cell_type": "markdown",
   "id": "85935250",
   "metadata": {},
   "source": [
    "To load the model we need the `SpeechT5Task` object but constructing it is annoying. Fortunately, `build_model` only reads two properties from the task object, so we can fake it."
   ]
  },
  {
   "cell_type": "code",
   "execution_count": 25,
   "id": "ea4b4380",
   "metadata": {},
   "outputs": [],
   "source": [
    "class FakeTask:\n",
    "    def __init__(self):\n",
    "        self.dicts = { \"text\": tgt_dict }\n",
    "        self.t5_task = \"t2s\"\n",
    "        \n",
    "task = FakeTask()"
   ]
  },
  {
   "cell_type": "markdown",
   "id": "a5dc6c7a",
   "metadata": {},
   "source": [
    "Load the fine-tuned ASR model."
   ]
  },
  {
   "cell_type": "code",
   "execution_count": 26,
   "id": "a79fbfdf",
   "metadata": {},
   "outputs": [],
   "source": [
    "import torch\n",
    "from speecht5.models.speecht5 import T5TransformerModel"
   ]
  },
  {
   "cell_type": "code",
   "execution_count": 27,
   "id": "b9b2818e",
   "metadata": {},
   "outputs": [],
   "source": [
    "checkpoint = torch.load(\"../weights/speecht5-tts/speecht5_tts.pt\")\n",
    "\n",
    "orig_model = T5TransformerModel.build_model(checkpoint[\"cfg\"][\"model\"], task)\n",
    "\n",
    "orig_model.load_state_dict(checkpoint[\"model\"])\n",
    "orig_model = orig_model.eval()"
   ]
  },
  {
   "cell_type": "code",
   "execution_count": 28,
   "id": "bda7a201",
   "metadata": {},
   "outputs": [
    {
     "data": {
      "text/plain": [
       "speecht5.models.speecht5.T5TransformerModel"
      ]
     },
     "execution_count": 28,
     "metadata": {},
     "output_type": "execute_result"
    }
   ],
   "source": [
    "type(orig_model)"
   ]
  },
  {
   "cell_type": "code",
   "execution_count": 29,
   "id": "64d53b18",
   "metadata": {},
   "outputs": [
    {
     "data": {
      "text/plain": [
       "speecht5.models.modules.encoder.TransformerEncoder"
      ]
     },
     "execution_count": 29,
     "metadata": {},
     "output_type": "execute_result"
    }
   ],
   "source": [
    "type(orig_model.encoder)"
   ]
  },
  {
   "cell_type": "code",
   "execution_count": 30,
   "id": "bad44136",
   "metadata": {},
   "outputs": [],
   "source": [
    "#list(checkpoint[\"model\"].keys())"
   ]
  },
  {
   "cell_type": "code",
   "execution_count": 31,
   "id": "4c1faddb",
   "metadata": {},
   "outputs": [
    {
     "data": {
      "text/plain": [
       "fairseq.data.encoders.sentencepiece_bpe.SentencepieceBPE"
      ]
     },
     "execution_count": 31,
     "metadata": {},
     "output_type": "execute_result"
    }
   ],
   "source": [
    "from fairseq.data import encoders\n",
    "from argparse import Namespace\n",
    "tokenizer = encoders.build_bpe(\n",
    "    Namespace(\n",
    "        bpe='sentencepiece', \n",
    "        sentencepiece_model='/Users/matthijs/Documents/FILES/HuggingFace/SpeechT5/tryout/MODEL_DIR/spm_char.model'\n",
    "    )\n",
    ")\n",
    "type(tokenizer)"
   ]
  },
  {
   "cell_type": "code",
   "execution_count": 32,
   "id": "61dd5619",
   "metadata": {},
   "outputs": [],
   "source": [
    "# orig_model.decoder.layers[0].encoder_attn"
   ]
  },
  {
   "cell_type": "markdown",
   "id": "56503f04",
   "metadata": {},
   "source": [
    "## Verify text encoder prenet output"
   ]
  },
  {
   "cell_type": "markdown",
   "id": "42e2f9ff",
   "metadata": {},
   "source": [
    "The `text_encoder_prenet` converts the input tokens into embeddings of shape `(batch, sequence_length, 768)`."
   ]
  },
  {
   "cell_type": "code",
   "execution_count": 33,
   "id": "5e6cce50",
   "metadata": {},
   "outputs": [],
   "source": [
    "with torch.no_grad():\n",
    "    encoder_input, encoder_padding_mask = orig_model.text_encoder_prenet(src_tokens)"
   ]
  },
  {
   "cell_type": "code",
   "execution_count": 34,
   "id": "b708c4c1",
   "metadata": {},
   "outputs": [],
   "source": [
    "with torch.no_grad():\n",
    "    encoder_input, encoder_padding_mask = orig_model.text_encoder_prenet(input_ids_batch)"
   ]
  },
  {
   "cell_type": "code",
   "execution_count": 35,
   "id": "26c4a65d",
   "metadata": {},
   "outputs": [
    {
     "data": {
      "text/plain": [
       "(torch.Size([3, 79, 768]), torch.Size([3, 79]))"
      ]
     },
     "execution_count": 35,
     "metadata": {},
     "output_type": "execute_result"
    }
   ],
   "source": [
    "encoder_input.shape, encoder_padding_mask.shape"
   ]
  },
  {
   "cell_type": "code",
   "execution_count": 36,
   "id": "058de538",
   "metadata": {},
   "outputs": [
    {
     "data": {
      "text/plain": [
       "tensor([[[-0.0383,  0.0826,  0.0607,  ..., -0.0333, -0.1770,  0.0203],\n",
       "         [ 0.0857,  0.0239,  0.2346,  ...,  0.1588,  0.0084,  0.0664],\n",
       "         [ 0.0644,  0.0361,  0.2011,  ..., -0.0519, -0.1996,  0.0747],\n",
       "         ...,\n",
       "         [ 0.1361,  0.1569, -0.1022,  ...,  0.1605,  0.0147,  0.0804],\n",
       "         [ 0.2444, -0.0554, -0.0303,  ...,  0.0666,  0.0143, -0.0211],\n",
       "         [ 0.0408, -0.0834,  0.1128,  ...,  0.1641, -0.0404,  0.0649]],\n",
       "\n",
       "        [[-0.0383,  0.0826,  0.0607,  ..., -0.0333, -0.1770,  0.0203],\n",
       "         [ 0.0265, -0.0583,  0.1753,  ...,  0.1945, -0.0829,  0.0322],\n",
       "         [ 0.0574, -0.0665,  0.1584,  ..., -0.0333, -0.1770,  0.0203],\n",
       "         ...,\n",
       "         [ 0.0329,  0.0656, -0.0175,  ...,  0.1879, -0.0242,  0.1195],\n",
       "         [ 0.0786, -0.0244,  0.0573,  ...,  0.1879, -0.0242,  0.1195],\n",
       "         [ 0.0274, -0.1115,  0.1526,  ...,  0.1879, -0.0242,  0.1195]],\n",
       "\n",
       "        [[-0.0383,  0.0826,  0.0607,  ..., -0.0333, -0.1770,  0.0203],\n",
       "         [ 0.0857,  0.0239,  0.2346,  ...,  0.1588,  0.0084,  0.0664],\n",
       "         [ 0.0644,  0.0361,  0.2011,  ..., -0.0519, -0.1996,  0.0747],\n",
       "         ...,\n",
       "         [ 0.1361,  0.1569, -0.1022,  ...,  0.1605,  0.0147,  0.0804],\n",
       "         [ 0.2444, -0.0554, -0.0303,  ...,  0.0666,  0.0143, -0.0211],\n",
       "         [ 0.0408, -0.0834,  0.1128,  ...,  0.1641, -0.0404,  0.0649]]])"
      ]
     },
     "execution_count": 36,
     "metadata": {},
     "output_type": "execute_result"
    }
   ],
   "source": [
    "encoder_input"
   ]
  },
  {
   "cell_type": "code",
   "execution_count": 37,
   "id": "3c07884f",
   "metadata": {},
   "outputs": [
    {
     "data": {
      "text/plain": [
       "tensor([[False, False, False, False, False, False, False, False, False, False,\n",
       "         False, False, False, False, False, False, False, False, False, False,\n",
       "         False, False, False, False, False, False, False, False, False, False,\n",
       "         False, False, False, False, False, False, False, False, False, False,\n",
       "         False, False, False, False, False, False, False, False, False, False,\n",
       "         False, False, False, False, False, False, False, False, False, False,\n",
       "         False, False, False, False, False, False, False, False, False, False,\n",
       "         False, False, False, False, False, False, False, False, False],\n",
       "        [False, False, False, False, False, False, False, False, False, False,\n",
       "         False, False, False, False, False, False, False, False, False, False,\n",
       "         False, False, False,  True,  True,  True,  True,  True,  True,  True,\n",
       "          True,  True,  True,  True,  True,  True,  True,  True,  True,  True,\n",
       "          True,  True,  True,  True,  True,  True,  True,  True,  True,  True,\n",
       "          True,  True,  True,  True,  True,  True,  True,  True,  True,  True,\n",
       "          True,  True,  True,  True,  True,  True,  True,  True,  True,  True,\n",
       "          True,  True,  True,  True,  True,  True,  True,  True,  True],\n",
       "        [False, False, False, False, False, False, False, False, False, False,\n",
       "         False, False, False, False, False, False, False, False, False, False,\n",
       "         False, False, False, False, False, False, False, False, False, False,\n",
       "         False, False, False, False, False, False, False, False, False, False,\n",
       "         False, False, False, False, False, False, False, False, False, False,\n",
       "         False, False, False, False, False, False, False, False, False, False,\n",
       "         False, False, False, False, False, False, False, False, False, False,\n",
       "         False, False, False, False, False, False, False, False, False]])"
      ]
     },
     "execution_count": 37,
     "metadata": {},
     "output_type": "execute_result"
    }
   ],
   "source": [
    "encoder_padding_mask"
   ]
  },
  {
   "cell_type": "code",
   "execution_count": 38,
   "id": "ed78df21",
   "metadata": {},
   "outputs": [
    {
     "data": {
      "text/plain": [
       "tensor(0.)"
      ]
     },
     "execution_count": 38,
     "metadata": {},
     "output_type": "execute_result"
    }
   ],
   "source": [
    "((1.0 - encoder_padding_mask * 1.0) - attention_mask_batch).sum()"
   ]
  },
  {
   "cell_type": "markdown",
   "id": "3e992b36",
   "metadata": {},
   "source": [
    "Run Hugging Face model:"
   ]
  },
  {
   "cell_type": "code",
   "execution_count": 39,
   "id": "1877608f",
   "metadata": {},
   "outputs": [
    {
     "data": {
      "text/plain": [
       "torch.Tensor"
      ]
     },
     "execution_count": 39,
     "metadata": {},
     "output_type": "execute_result"
    }
   ],
   "source": [
    "with torch.no_grad():\n",
    "     hf_outputs = hf_model.speecht5.encoder.prenet(src_tokens)\n",
    "\n",
    "type(hf_outputs)"
   ]
  },
  {
   "cell_type": "code",
   "execution_count": 40,
   "id": "49baf1e7",
   "metadata": {},
   "outputs": [
    {
     "data": {
      "text/plain": [
       "torch.Tensor"
      ]
     },
     "execution_count": 40,
     "metadata": {},
     "output_type": "execute_result"
    }
   ],
   "source": [
    "with torch.no_grad():\n",
    "     hf_outputs = hf_model.speecht5.encoder.prenet(input_ids_batch)\n",
    "\n",
    "type(hf_outputs)"
   ]
  },
  {
   "cell_type": "code",
   "execution_count": 41,
   "id": "80669474",
   "metadata": {},
   "outputs": [
    {
     "data": {
      "text/plain": [
       "torch.Size([3, 79, 768])"
      ]
     },
     "execution_count": 41,
     "metadata": {},
     "output_type": "execute_result"
    }
   ],
   "source": [
    "hf_outputs.shape"
   ]
  },
  {
   "cell_type": "code",
   "execution_count": 42,
   "id": "addc344c",
   "metadata": {},
   "outputs": [
    {
     "data": {
      "text/plain": [
       "tensor([[-0.0383,  0.0826,  0.0607,  ..., -0.0333, -0.1770,  0.0203],\n",
       "        [ 0.0857,  0.0239,  0.2346,  ...,  0.1588,  0.0084,  0.0664],\n",
       "        [ 0.0644,  0.0361,  0.2011,  ..., -0.0519, -0.1996,  0.0747],\n",
       "        ...,\n",
       "        [ 0.1361,  0.1569, -0.1022,  ...,  0.1605,  0.0147,  0.0804],\n",
       "        [ 0.2444, -0.0554, -0.0303,  ...,  0.0666,  0.0143, -0.0211],\n",
       "        [ 0.0408, -0.0834,  0.1128,  ...,  0.1641, -0.0404,  0.0649]])"
      ]
     },
     "execution_count": 42,
     "metadata": {},
     "output_type": "execute_result"
    }
   ],
   "source": [
    "hf_outputs[0]"
   ]
  },
  {
   "cell_type": "code",
   "execution_count": 43,
   "id": "adcd7a32",
   "metadata": {},
   "outputs": [],
   "source": [
    "hf_encoder_input = hf_outputs"
   ]
  },
  {
   "cell_type": "markdown",
   "id": "d2dbc6dd",
   "metadata": {},
   "source": [
    "If the weights and model were converted correctly, this should report zero or a very small number:"
   ]
  },
  {
   "cell_type": "code",
   "execution_count": 44,
   "id": "4b099ad3",
   "metadata": {},
   "outputs": [
    {
     "data": {
      "text/plain": [
       "tensor(0.)"
      ]
     },
     "execution_count": 44,
     "metadata": {},
     "output_type": "execute_result"
    }
   ],
   "source": [
    "torch.max(torch.abs(encoder_input - hf_outputs))"
   ]
  },
  {
   "cell_type": "code",
   "execution_count": 45,
   "id": "5533cb26",
   "metadata": {},
   "outputs": [
    {
     "data": {
      "text/plain": [
       "<matplotlib.image.AxesImage at 0x7fcb41b9bbb0>"
      ]
     },
     "execution_count": 45,
     "metadata": {},
     "output_type": "execute_result"
    },
    {
     "data": {
      "image/png": "[encoded data removed]",
      "text/plain": [
       "<Figure size 640x480 with 1 Axes>"
      ]
     },
     "metadata": {},
     "output_type": "display_data"
    }
   ],
   "source": [
    "plt.imshow(torch.abs(encoder_input - hf_outputs).numpy()[0])"
   ]
  },
  {
   "cell_type": "code",
   "execution_count": 46,
   "id": "e8b0ce41",
   "metadata": {},
   "outputs": [],
   "source": [
    "# plt.imshow(torch.abs(encoder_input - hf_outputs).numpy()[1])"
   ]
  },
  {
   "cell_type": "markdown",
   "id": "8b76dc23",
   "metadata": {},
   "source": [
    "## Verify Transformer encoder output"
   ]
  },
  {
   "cell_type": "code",
   "execution_count": 46,
   "id": "47c86f72",
   "metadata": {},
   "outputs": [],
   "source": [
    "# Run it with the original's speech prenet input:\n",
    "with torch.no_grad():\n",
    "    encoder_output = orig_model.encoder(encoder_input, encoder_padding_mask)"
   ]
  },
  {
   "cell_type": "code",
   "execution_count": 47,
   "id": "41ff76cc",
   "metadata": {},
   "outputs": [
    {
     "name": "stdout",
     "output_type": "stream",
     "text": [
      "encoder_out shape torch.Size([79, 3, 768])\n",
      "encoder_padding_mask shape torch.Size([3, 79])\n",
      "encoder_states []\n",
      "src_tokens []\n",
      "decoder_input [None]\n",
      "encoder_out_for_ctc shape torch.Size([79, 3, 81])\n"
     ]
    }
   ],
   "source": [
    "print(\"encoder_out shape\", encoder_output[\"encoder_out\"][0].shape)\n",
    "print(\"encoder_padding_mask shape\", encoder_output[\"encoder_padding_mask\"][0].shape)\n",
    "print(\"encoder_states\", encoder_output[\"encoder_states\"])  # []\n",
    "print(\"src_tokens\", encoder_output[\"src_tokens\"])  # []\n",
    "print(\"decoder_input\", encoder_output[\"decoder_input\"])  # [None]\n",
    "print(\"encoder_out_for_ctc shape\", encoder_output[\"encoder_out_for_ctc\"][0].shape)"
   ]
  },
  {
   "cell_type": "code",
   "execution_count": 48,
   "id": "a38979d4",
   "metadata": {},
   "outputs": [
    {
     "data": {
      "text/plain": [
       "tensor([[[ 0.1216, -0.1223, -0.0161,  ...,  0.1346,  0.0016, -0.0969],\n",
       "         [-0.4308,  0.2260,  0.2156,  ..., -0.1011,  0.0140, -0.4570],\n",
       "         [-0.5038,  0.2883,  0.1684,  ...,  0.0300, -0.0678, -0.4736],\n",
       "         ...,\n",
       "         [ 0.4783, -0.1476, -0.0570,  ..., -0.2642, -0.6181,  0.2321],\n",
       "         [ 0.4313, -0.2115, -0.1195,  ..., -0.4216, -0.4153,  0.2950],\n",
       "         [ 0.0910, -0.0379,  0.1903,  ...,  0.0070, -0.1593, -0.0444]],\n",
       "\n",
       "        [[ 0.0905, -0.1641, -0.0431,  ...,  0.0498, -0.1105, -0.0655],\n",
       "         [-0.0920, -0.5321, -0.3698,  ..., -0.2545,  0.2266, -0.3704],\n",
       "         [-0.1659, -0.5388, -0.3071,  ..., -0.2132,  0.2163, -0.4686],\n",
       "         ...,\n",
       "         [-0.0044, -0.0316,  0.1062,  ..., -0.0323, -0.1612,  0.0196],\n",
       "         [-0.0057, -0.0386,  0.1017,  ..., -0.0345, -0.1654,  0.0178],\n",
       "         [-0.0060, -0.0436,  0.0920,  ..., -0.0345, -0.1679,  0.0209]],\n",
       "\n",
       "        [[ 0.1216, -0.1223, -0.0161,  ...,  0.1346,  0.0016, -0.0969],\n",
       "         [-0.4308,  0.2260,  0.2156,  ..., -0.1011,  0.0140, -0.4570],\n",
       "         [-0.5038,  0.2883,  0.1684,  ...,  0.0300, -0.0678, -0.4736],\n",
       "         ...,\n",
       "         [ 0.4783, -0.1476, -0.0570,  ..., -0.2642, -0.6181,  0.2321],\n",
       "         [ 0.4313, -0.2115, -0.1195,  ..., -0.4216, -0.4153,  0.2950],\n",
       "         [ 0.0910, -0.0379,  0.1903,  ...,  0.0070, -0.1593, -0.0444]]])"
      ]
     },
     "execution_count": 48,
     "metadata": {},
     "output_type": "execute_result"
    }
   ],
   "source": [
    "encoder_output[\"encoder_out\"][0].permute((1, 0, 2))"
   ]
  },
  {
   "cell_type": "code",
   "execution_count": 49,
   "id": "f9b9dda4",
   "metadata": {},
   "outputs": [],
   "source": [
    "# encoder_output[\"encoder_out_for_ctc\"][0].permute((1, 0, 2))"
   ]
  },
  {
   "cell_type": "code",
   "execution_count": 50,
   "id": "cde6dbda",
   "metadata": {},
   "outputs": [],
   "source": [
    "# Use exact same inputs as the original model:\n",
    "# with torch.no_grad():\n",
    "#      hf_outputs = hf_model.speecht5(\n",
    "#          inputs_embeds=encoder_input,\n",
    "#          attention_mask=(~encoder_padding_mask),\n",
    "#      )\n",
    "\n",
    "# type(hf_outputs)"
   ]
  },
  {
   "cell_type": "code",
   "execution_count": 51,
   "id": "fefcf62e",
   "metadata": {},
   "outputs": [
    {
     "data": {
      "text/plain": [
       "torch.Size([3, 79, 768])"
      ]
     },
     "execution_count": 51,
     "metadata": {},
     "output_type": "execute_result"
    }
   ],
   "source": [
    "hf_encoder_input.shape"
   ]
  },
  {
   "cell_type": "code",
   "execution_count": 52,
   "id": "28f529a5",
   "metadata": {},
   "outputs": [
    {
     "data": {
      "text/plain": [
       "transformers.modeling_outputs.BaseModelOutput"
      ]
     },
     "execution_count": 52,
     "metadata": {},
     "output_type": "execute_result"
    }
   ],
   "source": [
    "with torch.no_grad():\n",
    "     hf_outputs = hf_model.speecht5.encoder.wrapped_encoder(\n",
    "         hidden_states=hf_encoder_input,\n",
    "#          attention_mask=attention_mask,\n",
    "         attention_mask=attention_mask_batch,\n",
    "#          attention_mask=(1.0 - encoder_padding_mask * 1.0),\n",
    "         return_dict=True,\n",
    "     )\n",
    "\n",
    "type(hf_outputs)"
   ]
  },
  {
   "cell_type": "code",
   "execution_count": 53,
   "id": "fb12e71a",
   "metadata": {},
   "outputs": [
    {
     "data": {
      "text/plain": [
       "BaseModelOutput(last_hidden_state=tensor([[[ 0.1216, -0.1223, -0.0161,  ...,  0.1346,  0.0016, -0.0969],\n",
       "         [-0.4308,  0.2260,  0.2156,  ..., -0.1011,  0.0140, -0.4570],\n",
       "         [-0.5038,  0.2883,  0.1684,  ...,  0.0300, -0.0678, -0.4736],\n",
       "         ...,\n",
       "         [ 0.4783, -0.1476, -0.0570,  ..., -0.2642, -0.6181,  0.2321],\n",
       "         [ 0.4313, -0.2115, -0.1195,  ..., -0.4216, -0.4153,  0.2950],\n",
       "         [ 0.0910, -0.0379,  0.1903,  ...,  0.0070, -0.1593, -0.0444]],\n",
       "\n",
       "        [[ 0.0905, -0.1641, -0.0431,  ...,  0.0498, -0.1105, -0.0655],\n",
       "         [-0.0920, -0.5321, -0.3698,  ..., -0.2545,  0.2266, -0.3704],\n",
       "         [-0.1659, -0.5388, -0.3071,  ..., -0.2132,  0.2163, -0.4686],\n",
       "         ...,\n",
       "         [-0.0044, -0.0316,  0.1062,  ..., -0.0323, -0.1612,  0.0196],\n",
       "         [-0.0057, -0.0386,  0.1017,  ..., -0.0345, -0.1654,  0.0178],\n",
       "         [-0.0060, -0.0436,  0.0920,  ..., -0.0345, -0.1679,  0.0209]],\n",
       "\n",
       "        [[ 0.1216, -0.1223, -0.0161,  ...,  0.1346,  0.0016, -0.0969],\n",
       "         [-0.4308,  0.2260,  0.2156,  ..., -0.1011,  0.0140, -0.4570],\n",
       "         [-0.5038,  0.2883,  0.1684,  ...,  0.0300, -0.0678, -0.4736],\n",
       "         ...,\n",
       "         [ 0.4783, -0.1476, -0.0570,  ..., -0.2642, -0.6181,  0.2321],\n",
       "         [ 0.4313, -0.2115, -0.1195,  ..., -0.4216, -0.4153,  0.2950],\n",
       "         [ 0.0910, -0.0379,  0.1903,  ...,  0.0070, -0.1593, -0.0444]]]), hidden_states=None, attentions=None)"
      ]
     },
     "execution_count": 53,
     "metadata": {},
     "output_type": "execute_result"
    }
   ],
   "source": [
    "hf_outputs"
   ]
  },
  {
   "cell_type": "code",
   "execution_count": 54,
   "id": "06fb675b",
   "metadata": {},
   "outputs": [
    {
     "data": {
      "text/plain": [
       "['last_hidden_state']"
      ]
     },
     "execution_count": 54,
     "metadata": {},
     "output_type": "execute_result"
    }
   ],
   "source": [
    "list(hf_outputs.keys())"
   ]
  },
  {
   "cell_type": "code",
   "execution_count": 55,
   "id": "8fe9914e",
   "metadata": {},
   "outputs": [
    {
     "data": {
      "text/plain": [
       "torch.Size([3, 79, 768])"
      ]
     },
     "execution_count": 55,
     "metadata": {},
     "output_type": "execute_result"
    }
   ],
   "source": [
    "hf_outputs[\"last_hidden_state\"].shape"
   ]
  },
  {
   "cell_type": "code",
   "execution_count": 56,
   "id": "69eda6f0",
   "metadata": {},
   "outputs": [
    {
     "data": {
      "text/plain": [
       "tensor([[[ 0.1216, -0.1223, -0.0161,  ...,  0.1346,  0.0016, -0.0969],\n",
       "         [-0.4308,  0.2260,  0.2156,  ..., -0.1011,  0.0140, -0.4570],\n",
       "         [-0.5038,  0.2883,  0.1684,  ...,  0.0300, -0.0678, -0.4736],\n",
       "         ...,\n",
       "         [ 0.4783, -0.1476, -0.0570,  ..., -0.2642, -0.6181,  0.2321],\n",
       "         [ 0.4313, -0.2115, -0.1195,  ..., -0.4216, -0.4153,  0.2950],\n",
       "         [ 0.0910, -0.0379,  0.1903,  ...,  0.0070, -0.1593, -0.0444]],\n",
       "\n",
       "        [[ 0.0905, -0.1641, -0.0431,  ...,  0.0498, -0.1105, -0.0655],\n",
       "         [-0.0920, -0.5321, -0.3698,  ..., -0.2545,  0.2266, -0.3704],\n",
       "         [-0.1659, -0.5388, -0.3071,  ..., -0.2132,  0.2163, -0.4686],\n",
       "         ...,\n",
       "         [-0.0044, -0.0316,  0.1062,  ..., -0.0323, -0.1612,  0.0196],\n",
       "         [-0.0057, -0.0386,  0.1017,  ..., -0.0345, -0.1654,  0.0178],\n",
       "         [-0.0060, -0.0436,  0.0920,  ..., -0.0345, -0.1679,  0.0209]],\n",
       "\n",
       "        [[ 0.1216, -0.1223, -0.0161,  ...,  0.1346,  0.0016, -0.0969],\n",
       "         [-0.4308,  0.2260,  0.2156,  ..., -0.1011,  0.0140, -0.4570],\n",
       "         [-0.5038,  0.2883,  0.1684,  ...,  0.0300, -0.0678, -0.4736],\n",
       "         ...,\n",
       "         [ 0.4783, -0.1476, -0.0570,  ..., -0.2642, -0.6181,  0.2321],\n",
       "         [ 0.4313, -0.2115, -0.1195,  ..., -0.4216, -0.4153,  0.2950],\n",
       "         [ 0.0910, -0.0379,  0.1903,  ...,  0.0070, -0.1593, -0.0444]]])"
      ]
     },
     "execution_count": 56,
     "metadata": {},
     "output_type": "execute_result"
    }
   ],
   "source": [
    "hf_outputs[\"last_hidden_state\"]"
   ]
  },
  {
   "cell_type": "code",
   "execution_count": 57,
   "id": "a747e547",
   "metadata": {},
   "outputs": [
    {
     "data": {
      "text/plain": [
       "tensor(1.1921e-06)"
      ]
     },
     "execution_count": 57,
     "metadata": {},
     "output_type": "execute_result"
    }
   ],
   "source": [
    "torch.max(torch.abs(encoder_output[\"encoder_out\"][0].permute((1, 0, 2)) - hf_outputs[\"last_hidden_state\"]))"
   ]
  },
  {
   "cell_type": "markdown",
   "id": "e5e1468b",
   "metadata": {},
   "source": [
    "**Note:** When padding is used (in a batch), the difference is around 1e-6. This is probably because internally the padding mask is set to -3.4028e+38 where padding is used. I don't think the original model does it this way."
   ]
  },
  {
   "cell_type": "markdown",
   "id": "0c950849",
   "metadata": {},
   "source": [
    "## Full encoder"
   ]
  },
  {
   "cell_type": "code",
   "execution_count": 352,
   "id": "2f038415",
   "metadata": {},
   "outputs": [],
   "source": [
    "with torch.no_grad():\n",
    "    encoder_out = orig_model.forward_text_encoder(src_tokens)"
   ]
  },
  {
   "cell_type": "code",
   "execution_count": 69,
   "id": "b7960198",
   "metadata": {},
   "outputs": [],
   "source": [
    "with torch.no_grad():\n",
    "    encoder_out = orig_model.forward_text_encoder(input_ids_batch)"
   ]
  },
  {
   "cell_type": "code",
   "execution_count": 70,
   "id": "28782edd",
   "metadata": {},
   "outputs": [
    {
     "data": {
      "text/plain": [
       "tensor([[[ 0.1216, -0.1223, -0.0161,  ...,  0.1346,  0.0016, -0.0969],\n",
       "         [-0.4308,  0.2260,  0.2156,  ..., -0.1011,  0.0140, -0.4570],\n",
       "         [-0.5038,  0.2883,  0.1684,  ...,  0.0300, -0.0678, -0.4736],\n",
       "         ...,\n",
       "         [ 0.4783, -0.1476, -0.0570,  ..., -0.2642, -0.6181,  0.2321],\n",
       "         [ 0.4313, -0.2115, -0.1195,  ..., -0.4216, -0.4153,  0.2950],\n",
       "         [ 0.0910, -0.0379,  0.1903,  ...,  0.0070, -0.1593, -0.0444]],\n",
       "\n",
       "        [[ 0.0905, -0.1641, -0.0431,  ...,  0.0498, -0.1105, -0.0655],\n",
       "         [-0.0920, -0.5321, -0.3698,  ..., -0.2545,  0.2266, -0.3704],\n",
       "         [-0.1659, -0.5388, -0.3071,  ..., -0.2132,  0.2163, -0.4686],\n",
       "         ...,\n",
       "         [-0.0044, -0.0316,  0.1062,  ..., -0.0323, -0.1612,  0.0196],\n",
       "         [-0.0057, -0.0386,  0.1017,  ..., -0.0345, -0.1654,  0.0178],\n",
       "         [-0.0060, -0.0436,  0.0920,  ..., -0.0345, -0.1679,  0.0209]],\n",
       "\n",
       "        [[ 0.1216, -0.1223, -0.0161,  ...,  0.1346,  0.0016, -0.0969],\n",
       "         [-0.4308,  0.2260,  0.2156,  ..., -0.1011,  0.0140, -0.4570],\n",
       "         [-0.5038,  0.2883,  0.1684,  ...,  0.0300, -0.0678, -0.4736],\n",
       "         ...,\n",
       "         [ 0.4783, -0.1476, -0.0570,  ..., -0.2642, -0.6181,  0.2321],\n",
       "         [ 0.4313, -0.2115, -0.1195,  ..., -0.4216, -0.4153,  0.2950],\n",
       "         [ 0.0910, -0.0379,  0.1903,  ...,  0.0070, -0.1593, -0.0444]]])"
      ]
     },
     "execution_count": 70,
     "metadata": {},
     "output_type": "execute_result"
    }
   ],
   "source": [
    "encoder_out[\"encoder_out\"][0].permute((1, 0, 2))"
   ]
  },
  {
   "cell_type": "code",
   "execution_count": 71,
   "id": "865dbb0e",
   "metadata": {},
   "outputs": [
    {
     "data": {
      "text/plain": [
       "torch.Size([3, 79, 768])"
      ]
     },
     "execution_count": 71,
     "metadata": {},
     "output_type": "execute_result"
    }
   ],
   "source": [
    "encoder_out[\"encoder_out\"][0].permute((1, 0, 2)).shape"
   ]
  },
  {
   "cell_type": "code",
   "execution_count": null,
   "id": "aea13537",
   "metadata": {},
   "outputs": [],
   "source": []
  },
  {
   "cell_type": "code",
   "execution_count": 356,
   "id": "33848c76",
   "metadata": {},
   "outputs": [
    {
     "data": {
      "text/plain": [
       "transformers.modeling_outputs.BaseModelOutput"
      ]
     },
     "execution_count": 356,
     "metadata": {},
     "output_type": "execute_result"
    }
   ],
   "source": [
    "with torch.no_grad():\n",
    "     hf_outputs = hf_model.speecht5.encoder(\n",
    "         input_values=src_tokens,\n",
    "         attention_mask=torch.ones_like(src_tokens),\n",
    "         return_dict=True,\n",
    "     )\n",
    "\n",
    "type(hf_outputs)"
   ]
  },
  {
   "cell_type": "code",
   "execution_count": 72,
   "id": "2a24bd1e",
   "metadata": {},
   "outputs": [
    {
     "data": {
      "text/plain": [
       "transformers.modeling_outputs.BaseModelOutput"
      ]
     },
     "execution_count": 72,
     "metadata": {},
     "output_type": "execute_result"
    }
   ],
   "source": [
    "with torch.no_grad():\n",
    "     hf_outputs = hf_model.speecht5.encoder(\n",
    "         input_values=input_ids_batch,\n",
    "         #attention_mask=torch.ones_like(input_ids_batch),\n",
    "         attention_mask=attention_mask_batch,\n",
    "         return_dict=True,\n",
    "     )\n",
    "\n",
    "type(hf_outputs)"
   ]
  },
  {
   "cell_type": "code",
   "execution_count": 73,
   "id": "40060f6d",
   "metadata": {},
   "outputs": [
    {
     "data": {
      "text/plain": [
       "torch.Size([3, 79, 768])"
      ]
     },
     "execution_count": 73,
     "metadata": {},
     "output_type": "execute_result"
    }
   ],
   "source": [
    "hf_outputs.last_hidden_state.shape"
   ]
  },
  {
   "cell_type": "code",
   "execution_count": 74,
   "id": "3486fd24",
   "metadata": {
    "scrolled": true
   },
   "outputs": [
    {
     "data": {
      "text/plain": [
       "tensor(1.1921e-06)"
      ]
     },
     "execution_count": 74,
     "metadata": {},
     "output_type": "execute_result"
    }
   ],
   "source": [
    "torch.max(torch.abs(encoder_out[\"encoder_out\"][0].permute((1, 0, 2)) - hf_outputs[\"last_hidden_state\"]))"
   ]
  },
  {
   "cell_type": "markdown",
   "id": "b17bb840",
   "metadata": {},
   "source": [
    "## Verify speech decoder prenet"
   ]
  },
  {
   "cell_type": "markdown",
   "id": "70af1a86",
   "metadata": {},
   "source": [
    "**NOTE:** From this point on, the outputs of the two models will not match because the speech decoder prenet *always* applies dropout, even when not training."
   ]
  },
  {
   "cell_type": "code",
   "execution_count": 75,
   "id": "e0950265",
   "metadata": {
    "scrolled": true
   },
   "outputs": [
    {
     "data": {
      "text/plain": [
       "torch.Size([1, 1, 80])"
      ]
     },
     "execution_count": 75,
     "metadata": {},
     "output_type": "execute_result"
    }
   ],
   "source": [
    "ys = encoder_out[\"encoder_out\"][0].new_zeros(1, 1, orig_model.speech_decoder_postnet.odim)\n",
    "ys.shape"
   ]
  },
  {
   "cell_type": "code",
   "execution_count": 360,
   "id": "279a02a5",
   "metadata": {},
   "outputs": [],
   "source": [
    "ys = torch.randn(1, 1, 80)\n",
    "spkembs = torch.randn(1, 512)"
   ]
  },
  {
   "cell_type": "code",
   "execution_count": 457,
   "id": "4c81215f",
   "metadata": {},
   "outputs": [],
   "source": [
    "ys = torch.randn(1, 100, 80)\n",
    "spkembs = torch.randn(1, 512)"
   ]
  },
  {
   "cell_type": "code",
   "execution_count": 2,
   "id": "74fcc2ed",
   "metadata": {},
   "outputs": [],
   "source": [
    "ys = torch.randn(3, 100, 80)\n",
    "spkembs = torch.randn(3, 512)"
   ]
  },
  {
   "cell_type": "code",
   "execution_count": 193,
   "id": "be33dc0b",
   "metadata": {},
   "outputs": [],
   "source": [
    "#spkembs = None"
   ]
  },
  {
   "cell_type": "code",
   "execution_count": 16,
   "id": "fc99b511",
   "metadata": {},
   "outputs": [
    {
     "data": {
      "text/plain": [
       "torch.Size([3, 100, 768])"
      ]
     },
     "execution_count": 16,
     "metadata": {},
     "output_type": "execute_result"
    }
   ],
   "source": [
    "with torch.no_grad():\n",
    "    decoder_in, _ = orig_model.speech_decoder_prenet(ys, spkembs=spkembs)\n",
    "decoder_in.shape"
   ]
  },
  {
   "cell_type": "code",
   "execution_count": 17,
   "id": "86cf9ecd",
   "metadata": {},
   "outputs": [],
   "source": [
    "#decoder_in"
   ]
  },
  {
   "cell_type": "code",
   "execution_count": null,
   "id": "7a1cc023",
   "metadata": {},
   "outputs": [],
   "source": []
  },
  {
   "cell_type": "code",
   "execution_count": 18,
   "id": "77134734",
   "metadata": {},
   "outputs": [
    {
     "data": {
      "text/plain": [
       "torch.Size([3, 100, 768])"
      ]
     },
     "execution_count": 18,
     "metadata": {},
     "output_type": "execute_result"
    }
   ],
   "source": [
    "with torch.no_grad():\n",
    "     hf_outputs = hf_model.speecht5.decoder.prenet(\n",
    "         input_values=ys,\n",
    "         speaker_embeddings=spkembs,\n",
    "     )\n",
    "\n",
    "hf_outputs.shape"
   ]
  },
  {
   "cell_type": "code",
   "execution_count": 19,
   "id": "f7fc65dd",
   "metadata": {},
   "outputs": [
    {
     "data": {
      "text/plain": [
       "tensor(14.1602)"
      ]
     },
     "execution_count": 19,
     "metadata": {},
     "output_type": "execute_result"
    }
   ],
   "source": [
    "torch.max(torch.abs(decoder_in - hf_outputs))"
   ]
  },
  {
   "cell_type": "code",
   "execution_count": 22,
   "id": "ef8d7a7e",
   "metadata": {},
   "outputs": [],
   "source": [
    "# plt.imshow(decoder_in[0] - hf_outputs[0])"
   ]
  },
  {
   "cell_type": "code",
   "execution_count": null,
   "id": "e26326e8",
   "metadata": {},
   "outputs": [],
   "source": []
  },
  {
   "cell_type": "markdown",
   "id": "7fec354d",
   "metadata": {},
   "source": [
    "## Verify Transformer decoder output"
   ]
  },
  {
   "cell_type": "code",
   "execution_count": 110,
   "id": "559eb4d1",
   "metadata": {},
   "outputs": [
    {
     "data": {
      "text/plain": [
       "torch.Size([3, 100, 768])"
      ]
     },
     "execution_count": 110,
     "metadata": {},
     "output_type": "execute_result"
    }
   ],
   "source": [
    "prev_output_tokens = decoder_in\n",
    "prev_output_tokens.shape"
   ]
  },
  {
   "cell_type": "code",
   "execution_count": 96,
   "id": "cedb6701",
   "metadata": {},
   "outputs": [
    {
     "data": {
      "text/plain": [
       "torch.Size([3, 1, 768])"
      ]
     },
     "execution_count": 96,
     "metadata": {},
     "output_type": "execute_result"
    }
   ],
   "source": [
    "prev_output_tokens = decoder_in[:, -1:]\n",
    "prev_output_tokens.shape"
   ]
  },
  {
   "cell_type": "code",
   "execution_count": 111,
   "id": "d516c43e",
   "metadata": {},
   "outputs": [],
   "source": [
    "tgt_mask = None"
   ]
  },
  {
   "cell_type": "code",
   "execution_count": 112,
   "id": "6229b43c",
   "metadata": {},
   "outputs": [],
   "source": [
    "with torch.no_grad():\n",
    "    decoder_output, extra = orig_model.decoder(\n",
    "        prev_output_tokens,\n",
    "        tgt_mask,\n",
    "        encoder_out=encoder_out,\n",
    "        incremental_state=None,\n",
    "        alignment_layer=-1,\n",
    "    )"
   ]
  },
  {
   "cell_type": "code",
   "execution_count": 113,
   "id": "0a190958",
   "metadata": {},
   "outputs": [
    {
     "data": {
      "text/plain": [
       "torch.Size([3, 100, 768])"
      ]
     },
     "execution_count": 113,
     "metadata": {},
     "output_type": "execute_result"
    }
   ],
   "source": [
    "decoder_output.shape"
   ]
  },
  {
   "cell_type": "code",
   "execution_count": 114,
   "id": "fea0351e",
   "metadata": {
    "scrolled": true
   },
   "outputs": [],
   "source": [
    "# decoder_output"
   ]
  },
  {
   "cell_type": "code",
   "execution_count": 115,
   "id": "05117956",
   "metadata": {},
   "outputs": [],
   "source": [
    "#[x.shape for x in extra[\"attn\"]]"
   ]
  },
  {
   "cell_type": "code",
   "execution_count": 116,
   "id": "b593692b",
   "metadata": {},
   "outputs": [],
   "source": [
    "#[x.shape for x in extra[\"inner_states\"]]"
   ]
  },
  {
   "cell_type": "code",
   "execution_count": 117,
   "id": "9788dfa9",
   "metadata": {},
   "outputs": [
    {
     "data": {
      "text/plain": [
       "torch.Size([3, 100, 768])"
      ]
     },
     "execution_count": 117,
     "metadata": {},
     "output_type": "execute_result"
    }
   ],
   "source": [
    "prev_output_tokens.shape"
   ]
  },
  {
   "cell_type": "code",
   "execution_count": 118,
   "id": "9d486f4b",
   "metadata": {},
   "outputs": [
    {
     "data": {
      "text/plain": [
       "transformers.modeling_outputs.BaseModelOutputWithPastAndCrossAttentions"
      ]
     },
     "execution_count": 118,
     "metadata": {},
     "output_type": "execute_result"
    }
   ],
   "source": [
    "with torch.no_grad():\n",
    "     hf_outputs = hf_model.speecht5.decoder.wrapped_decoder(\n",
    "         hidden_states=prev_output_tokens,\n",
    "         attention_mask=None,\n",
    "         #attention_mask=torch.ones((prev_output_tokens.size(0), prev_output_tokens.size(1))), #decoder_attention_mask,\n",
    "         encoder_hidden_states=encoder_out[\"encoder_out\"][0].permute((1, 0, 2)),\n",
    "         encoder_attention_mask=(1.0 - encoder_out[\"encoder_padding_mask\"][0] * 1.0),\n",
    "         return_dict=True,\n",
    "     )\n",
    "\n",
    "type(hf_outputs)"
   ]
  },
  {
   "cell_type": "code",
   "execution_count": 119,
   "id": "ea512cc2",
   "metadata": {},
   "outputs": [
    {
     "data": {
      "text/plain": [
       "['last_hidden_state', 'past_key_values']"
      ]
     },
     "execution_count": 119,
     "metadata": {},
     "output_type": "execute_result"
    }
   ],
   "source": [
    "list(hf_outputs.keys())"
   ]
  },
  {
   "cell_type": "code",
   "execution_count": 120,
   "id": "d82c369a",
   "metadata": {},
   "outputs": [
    {
     "data": {
      "text/plain": [
       "torch.Size([3, 100, 768])"
      ]
     },
     "execution_count": 120,
     "metadata": {},
     "output_type": "execute_result"
    }
   ],
   "source": [
    "hf_outputs[\"last_hidden_state\"].shape"
   ]
  },
  {
   "cell_type": "code",
   "execution_count": 121,
   "id": "eb6282bc",
   "metadata": {},
   "outputs": [],
   "source": [
    "# hf_outputs[\"last_hidden_state\"]"
   ]
  },
  {
   "cell_type": "code",
   "execution_count": 122,
   "id": "f3e254cb",
   "metadata": {},
   "outputs": [
    {
     "data": {
      "text/plain": [
       "tensor(5.7220e-06)"
      ]
     },
     "execution_count": 122,
     "metadata": {},
     "output_type": "execute_result"
    }
   ],
   "source": [
    "torch.max(torch.abs(decoder_output - hf_outputs[\"last_hidden_state\"]))"
   ]
  },
  {
   "cell_type": "code",
   "execution_count": 123,
   "id": "e0d3d1fc",
   "metadata": {},
   "outputs": [
    {
     "data": {
      "text/plain": [
       "<matplotlib.image.AxesImage at 0x7fa21471b7c0>"
      ]
     },
     "execution_count": 123,
     "metadata": {},
     "output_type": "execute_result"
    },
    {
     "data": {
      "image/png": "[encoded data removed]",
      "text/plain": [
       "<Figure size 640x480 with 1 Axes>"
      ]
     },
     "metadata": {},
     "output_type": "display_data"
    }
   ],
   "source": [
    "plt.imshow((decoder_output - hf_outputs[\"last_hidden_state\"])[0])"
   ]
  },
  {
   "cell_type": "code",
   "execution_count": null,
   "id": "106a70dc",
   "metadata": {},
   "outputs": [],
   "source": []
  },
  {
   "cell_type": "markdown",
   "id": "ceec7dd9",
   "metadata": {},
   "source": [
    "## Full decoder"
   ]
  },
  {
   "cell_type": "code",
   "execution_count": 686,
   "id": "c1700a00",
   "metadata": {},
   "outputs": [],
   "source": [
    "with torch.no_grad():\n",
    "    encoder_out = orig_model.forward_text_encoder(src_tokens)\n",
    "    \n",
    "ys = torch.randn(1, 3, 80)\n",
    "#ys = torch.randn(1, 1, 80)    "
   ]
  },
  {
   "cell_type": "code",
   "execution_count": 124,
   "id": "5220f946",
   "metadata": {},
   "outputs": [],
   "source": [
    "with torch.no_grad():\n",
    "    encoder_out = orig_model.forward_text_encoder(input_ids_batch)\n",
    "    \n",
    "# ys = torch.randn(3, 1, 80)\n",
    "# ys = torch.randn(3, 76, 80)\n",
    "ys = torch.zeros(3, 7, 80)"
   ]
  },
  {
   "cell_type": "code",
   "execution_count": 125,
   "id": "4146fa62",
   "metadata": {},
   "outputs": [],
   "source": [
    "spkembs = torch.randn(ys.size(0), 512)\n",
    "incremental_states = None"
   ]
  },
  {
   "cell_type": "code",
   "execution_count": 126,
   "id": "c3bff6ab",
   "metadata": {},
   "outputs": [],
   "source": [
    "# with torch.no_grad():\n",
    "#     decoder_in, _ = orig_model.speech_decoder_prenet(ys, spkembs=spkembs)\n",
    "#     z, extra = orig_model.decoder(\n",
    "#         decoder_in[:,-1:], None, encoder_out, incremental_states, alignment_layer=-1\n",
    "#     )"
   ]
  },
  {
   "cell_type": "code",
   "execution_count": 127,
   "id": "36c4c798",
   "metadata": {},
   "outputs": [],
   "source": [
    "# Need to test this by padding the entire sequence into orig_model.decoder,\n",
    "# since that's what hf_model.speecht5.decoder does too.\n",
    "with torch.no_grad():\n",
    "    decoder_in, _ = orig_model.speech_decoder_prenet(ys, spkembs=spkembs)\n",
    "    z, extra = orig_model.decoder(\n",
    "        decoder_in, None, encoder_out, incremental_states, alignment_layer=-1\n",
    "    )"
   ]
  },
  {
   "cell_type": "code",
   "execution_count": 128,
   "id": "bd610771",
   "metadata": {},
   "outputs": [
    {
     "data": {
      "text/plain": [
       "(torch.Size([3, 7, 768]), torch.Size([3, 1, 768]))"
      ]
     },
     "execution_count": 128,
     "metadata": {},
     "output_type": "execute_result"
    }
   ],
   "source": [
    "decoder_in.shape, decoder_in[:,-1:].shape"
   ]
  },
  {
   "cell_type": "code",
   "execution_count": 129,
   "id": "c1f49894",
   "metadata": {},
   "outputs": [
    {
     "data": {
      "text/plain": [
       "torch.Size([3, 7, 768])"
      ]
     },
     "execution_count": 129,
     "metadata": {},
     "output_type": "execute_result"
    }
   ],
   "source": [
    "z.shape"
   ]
  },
  {
   "cell_type": "code",
   "execution_count": 130,
   "id": "6a048e44",
   "metadata": {},
   "outputs": [
    {
     "data": {
      "text/plain": [
       "transformers.modeling_outputs.BaseModelOutputWithPastAndCrossAttentions"
      ]
     },
     "execution_count": 130,
     "metadata": {},
     "output_type": "execute_result"
    }
   ],
   "source": [
    "with torch.no_grad():\n",
    "     hf_outputs = hf_model.speecht5.decoder(\n",
    "         input_values=ys,\n",
    "         #attention_mask=decoder_attention_mask,\n",
    "         encoder_hidden_states=encoder_out[\"encoder_out\"][0].permute((1, 0, 2)),\n",
    "#         encoder_attention_mask=(1.0 - encoder_out[\"encoder_padding_mask\"][0] * 1.0),\n",
    "         encoder_attention_mask=attention_mask_batch,\n",
    "         speaker_embeddings=spkembs,\n",
    "         return_dict=True,         \n",
    "     )\n",
    "\n",
    "type(hf_outputs)"
   ]
  },
  {
   "cell_type": "code",
   "execution_count": 131,
   "id": "6c4b72b1",
   "metadata": {},
   "outputs": [
    {
     "data": {
      "text/plain": [
       "torch.Size([3, 7, 768])"
      ]
     },
     "execution_count": 131,
     "metadata": {},
     "output_type": "execute_result"
    }
   ],
   "source": [
    "hf_outputs.last_hidden_state.shape"
   ]
  },
  {
   "cell_type": "code",
   "execution_count": 132,
   "id": "c119b515",
   "metadata": {},
   "outputs": [
    {
     "data": {
      "text/plain": [
       "tensor(2.3842e-06)"
      ]
     },
     "execution_count": 132,
     "metadata": {},
     "output_type": "execute_result"
    }
   ],
   "source": [
    "torch.max(torch.abs(z - hf_outputs[\"last_hidden_state\"]))"
   ]
  },
  {
   "cell_type": "code",
   "execution_count": 133,
   "id": "1e5c137e",
   "metadata": {},
   "outputs": [
    {
     "name": "stdout",
     "output_type": "stream",
     "text": [
      "0 tensor(1.9073e-06)\n",
      "1 tensor(2.3842e-06)\n",
      "2 tensor(2.3842e-06)\n"
     ]
    }
   ],
   "source": [
    "for i in range(input_ids_batch.size(0)):\n",
    "    print(i, torch.max(torch.abs(z[i] - hf_outputs.last_hidden_state[i])))"
   ]
  },
  {
   "cell_type": "markdown",
   "id": "1d9113f7",
   "metadata": {},
   "source": [
    "## Verify speech decoder postnet output"
   ]
  },
  {
   "cell_type": "code",
   "execution_count": 134,
   "id": "16c82e7a",
   "metadata": {},
   "outputs": [
    {
     "data": {
      "text/plain": [
       "(torch.Size([3, 7, 768]), torch.Size([768]))"
      ]
     },
     "execution_count": 134,
     "metadata": {},
     "output_type": "execute_result"
    }
   ],
   "source": [
    "z.shape, z[0, -1].shape"
   ]
  },
  {
   "cell_type": "code",
   "execution_count": 135,
   "id": "110cd6dd",
   "metadata": {},
   "outputs": [],
   "source": [
    "#orig_model.speech_decoder_postnet"
   ]
  },
  {
   "cell_type": "code",
   "execution_count": 136,
   "id": "8e294ac6",
   "metadata": {},
   "outputs": [],
   "source": [
    "# hf_model.speech_decoder_postnet"
   ]
  },
  {
   "cell_type": "code",
   "execution_count": 137,
   "id": "a20be43c",
   "metadata": {},
   "outputs": [],
   "source": [
    "with torch.no_grad():\n",
    "    before_outs, after_outs, logits = orig_model.speech_decoder_postnet(z)  # z[:, -1])\n",
    "    \n",
    "    # before_outs = speech_decoder_postnet.feat_out(...)\n",
    "    # after_outs = final output\n",
    "    # logits = speech_decoder_postnet.prob_out(...)  for stop token"
   ]
  },
  {
   "cell_type": "code",
   "execution_count": 138,
   "id": "a7a143bf",
   "metadata": {},
   "outputs": [
    {
     "data": {
      "text/plain": [
       "(torch.Size([3, 14, 80]), torch.Size([3, 14, 80]), torch.Size([3, 14]))"
      ]
     },
     "execution_count": 138,
     "metadata": {},
     "output_type": "execute_result"
    }
   ],
   "source": [
    "before_outs.shape, after_outs.shape, logits.shape"
   ]
  },
  {
   "cell_type": "code",
   "execution_count": 139,
   "id": "7d6de14b",
   "metadata": {},
   "outputs": [
    {
     "data": {
      "text/plain": [
       "tensor([-24.1840, -10.6777, -22.3951, -12.5376, -22.7592, -11.0522, -22.7133,\n",
       "        -10.3976, -22.8957, -10.1333, -23.1024, -10.3960, -23.3082, -10.8343])"
      ]
     },
     "execution_count": 139,
     "metadata": {},
     "output_type": "execute_result"
    }
   ],
   "source": [
    "logits[0]"
   ]
  },
  {
   "cell_type": "code",
   "execution_count": 140,
   "id": "7ee9a8b7",
   "metadata": {},
   "outputs": [
    {
     "data": {
      "text/plain": [
       "torch.Size([3, 7, 768])"
      ]
     },
     "execution_count": 140,
     "metadata": {},
     "output_type": "execute_result"
    }
   ],
   "source": [
    "hf_outputs.last_hidden_state.shape"
   ]
  },
  {
   "cell_type": "code",
   "execution_count": 141,
   "id": "ba7571e7",
   "metadata": {},
   "outputs": [],
   "source": [
    "with torch.no_grad():\n",
    "    before_outs_hf, after_outs_hf, logits_hf = hf_model.speech_decoder_postnet(z)"
   ]
  },
  {
   "cell_type": "code",
   "execution_count": 142,
   "id": "5623a791",
   "metadata": {},
   "outputs": [
    {
     "data": {
      "text/plain": [
       "(torch.Size([3, 14, 80]), torch.Size([3, 14, 80]), torch.Size([3, 14]))"
      ]
     },
     "execution_count": 142,
     "metadata": {},
     "output_type": "execute_result"
    }
   ],
   "source": [
    "before_outs_hf.shape, after_outs_hf.shape, logits_hf.shape"
   ]
  },
  {
   "cell_type": "code",
   "execution_count": null,
   "id": "e230f4bf",
   "metadata": {},
   "outputs": [],
   "source": []
  },
  {
   "cell_type": "code",
   "execution_count": 143,
   "id": "6eeff463",
   "metadata": {},
   "outputs": [
    {
     "data": {
      "text/plain": [
       "tensor(0.)"
      ]
     },
     "execution_count": 143,
     "metadata": {},
     "output_type": "execute_result"
    }
   ],
   "source": [
    "torch.max(torch.abs(before_outs - before_outs_hf))"
   ]
  },
  {
   "cell_type": "code",
   "execution_count": 144,
   "id": "a0cb9d8e",
   "metadata": {},
   "outputs": [
    {
     "data": {
      "text/plain": [
       "tensor(0.)"
      ]
     },
     "execution_count": 144,
     "metadata": {},
     "output_type": "execute_result"
    }
   ],
   "source": [
    "torch.max(torch.abs(after_outs - after_outs_hf))"
   ]
  },
  {
   "cell_type": "code",
   "execution_count": 145,
   "id": "e8055eb3",
   "metadata": {},
   "outputs": [
    {
     "data": {
      "text/plain": [
       "tensor(0.)"
      ]
     },
     "execution_count": 145,
     "metadata": {},
     "output_type": "execute_result"
    }
   ],
   "source": [
    "torch.max(torch.abs(logits - logits_hf))"
   ]
  },
  {
   "cell_type": "code",
   "execution_count": null,
   "id": "24926eec",
   "metadata": {},
   "outputs": [],
   "source": []
  },
  {
   "cell_type": "markdown",
   "id": "e7beb329",
   "metadata": {},
   "source": [
    "## Complete forward pass\n",
    "\n",
    "I think this is only used during training / fine-tuning, not inference."
   ]
  },
  {
   "cell_type": "code",
   "execution_count": 146,
   "id": "2dd7128b",
   "metadata": {},
   "outputs": [],
   "source": [
    "spkembs = torch.randn((1, 512))\n",
    "\n",
    "with torch.no_grad():\n",
    "    hf_outputs = hf_model(\n",
    "        input_ids=src_tokens,\n",
    "        attention_mask=attention_mask,\n",
    "        decoder_input_values=torch.zeros((1, 7, 80)),\n",
    "        speaker_embeddings=spkembs,\n",
    "        return_dict=True\n",
    "    )"
   ]
  },
  {
   "cell_type": "code",
   "execution_count": 147,
   "id": "5ad1ded4",
   "metadata": {},
   "outputs": [
    {
     "data": {
      "text/plain": [
       "['logits', 'past_key_values', 'encoder_last_hidden_state']"
      ]
     },
     "execution_count": 147,
     "metadata": {},
     "output_type": "execute_result"
    }
   ],
   "source": [
    "list(hf_outputs.keys())"
   ]
  },
  {
   "cell_type": "code",
   "execution_count": 148,
   "id": "8767bc5b",
   "metadata": {},
   "outputs": [
    {
     "data": {
      "text/plain": [
       "torch.Size([1, 79, 768])"
      ]
     },
     "execution_count": 148,
     "metadata": {},
     "output_type": "execute_result"
    }
   ],
   "source": [
    "hf_outputs[\"encoder_last_hidden_state\"].shape"
   ]
  },
  {
   "cell_type": "code",
   "execution_count": 149,
   "id": "48eb3d88",
   "metadata": {},
   "outputs": [
    {
     "data": {
      "text/plain": [
       "torch.Size([1, 14, 80])"
      ]
     },
     "execution_count": 149,
     "metadata": {},
     "output_type": "execute_result"
    }
   ],
   "source": [
    "hf_outputs[\"logits\"].shape"
   ]
  },
  {
   "cell_type": "code",
   "execution_count": 150,
   "id": "fcfedd18",
   "metadata": {},
   "outputs": [
    {
     "data": {
      "text/plain": [
       "<matplotlib.image.AxesImage at 0x7fa221660a30>"
      ]
     },
     "execution_count": 150,
     "metadata": {},
     "output_type": "execute_result"
    },
    {
     "data": {
      "image/png": "[encoded data removed]",
      "text/plain": [
       "<Figure size 640x480 with 1 Axes>"
      ]
     },
     "metadata": {},
     "output_type": "display_data"
    }
   ],
   "source": [
    "plt.imshow(hf_outputs[\"logits\"][0].T)"
   ]
  },
  {
   "cell_type": "code",
   "execution_count": 151,
   "id": "507b4cfa",
   "metadata": {},
   "outputs": [],
   "source": [
    "with torch.no_grad():\n",
    "    outputs = orig_model(\n",
    "        src_tokens=src_tokens,\n",
    "        prev_output_tokens=torch.zeros((1, 7, 80)),\n",
    "        spkembs=spkembs,        \n",
    "    )"
   ]
  },
  {
   "cell_type": "code",
   "execution_count": 152,
   "id": "5403cb8c",
   "metadata": {},
   "outputs": [
    {
     "data": {
      "text/plain": [
       "torch.Size([1, 14, 80])"
      ]
     },
     "execution_count": 152,
     "metadata": {},
     "output_type": "execute_result"
    }
   ],
   "source": [
    "outputs[0].shape  # which one is this? (targets maybe?)"
   ]
  },
  {
   "cell_type": "code",
   "execution_count": 153,
   "id": "cd67b288",
   "metadata": {},
   "outputs": [
    {
     "data": {
      "text/plain": [
       "tensor(0.)"
      ]
     },
     "execution_count": 153,
     "metadata": {},
     "output_type": "execute_result"
    }
   ],
   "source": [
    "torch.max(torch.abs(outputs[1] - hf_outputs[\"logits\"]))"
   ]
  },
  {
   "cell_type": "code",
   "execution_count": null,
   "id": "264c2d55",
   "metadata": {},
   "outputs": [],
   "source": []
  },
  {
   "cell_type": "markdown",
   "id": "6ca9c1f8",
   "metadata": {},
   "source": [
    "Batch:"
   ]
  },
  {
   "cell_type": "code",
   "execution_count": 10,
   "id": "6ea3f9ed",
   "metadata": {},
   "outputs": [],
   "source": [
    "spkembs = torch.randn((input_ids_batch.size(0), 512))"
   ]
  },
  {
   "cell_type": "code",
   "execution_count": 11,
   "id": "2e5bea69",
   "metadata": {},
   "outputs": [],
   "source": [
    "with torch.no_grad():\n",
    "    hf_outputs = hf_model(\n",
    "        input_ids=input_ids_batch,\n",
    "        attention_mask=attention_mask_batch,\n",
    "        decoder_input_values=torch.zeros((input_ids_batch.size(0), 7, 80)),\n",
    "        speaker_embeddings=spkembs,\n",
    "        return_dict=True\n",
    "    )"
   ]
  },
  {
   "cell_type": "code",
   "execution_count": 13,
   "id": "f4e8d6f4",
   "metadata": {},
   "outputs": [
    {
     "data": {
      "text/plain": [
       "transformers.modeling_outputs.Seq2SeqSpectrogramOutput"
      ]
     },
     "execution_count": 13,
     "metadata": {},
     "output_type": "execute_result"
    }
   ],
   "source": [
    "type(hf_outputs)"
   ]
  },
  {
   "cell_type": "code",
   "execution_count": 12,
   "id": "d04990fe",
   "metadata": {},
   "outputs": [
    {
     "data": {
      "text/plain": [
       "torch.Size([3, 14, 80])"
      ]
     },
     "execution_count": 12,
     "metadata": {},
     "output_type": "execute_result"
    }
   ],
   "source": [
    "hf_outputs[0].shape"
   ]
  },
  {
   "cell_type": "code",
   "execution_count": 157,
   "id": "ab8264d5",
   "metadata": {},
   "outputs": [],
   "source": [
    "with torch.no_grad():\n",
    "    outputs = orig_model(\n",
    "        src_tokens=input_ids_batch,\n",
    "        prev_output_tokens=torch.zeros((input_ids_batch.size(0), 7, 80)),\n",
    "        spkembs=spkembs,        \n",
    "        #task_name=\"t2s\",\n",
    "    )"
   ]
  },
  {
   "cell_type": "code",
   "execution_count": 158,
   "id": "cc8b7715",
   "metadata": {},
   "outputs": [
    {
     "data": {
      "text/plain": [
       "torch.Size([3, 14, 80])"
      ]
     },
     "execution_count": 158,
     "metadata": {},
     "output_type": "execute_result"
    }
   ],
   "source": [
    "outputs[1].shape"
   ]
  },
  {
   "cell_type": "code",
   "execution_count": 159,
   "id": "7fe43fdf",
   "metadata": {},
   "outputs": [
    {
     "name": "stdout",
     "output_type": "stream",
     "text": [
      "0 tensor(2.0266e-06)\n",
      "1 tensor(2.2650e-06)\n",
      "2 tensor(2.3916e-06)\n"
     ]
    }
   ],
   "source": [
    "for i in range(input_ids_batch.size(0)):\n",
    "    print(i, torch.max(torch.abs(outputs[1][i] - hf_outputs[\"logits\"][i])))"
   ]
  },
  {
   "cell_type": "code",
   "execution_count": 160,
   "id": "3ae35dc9",
   "metadata": {},
   "outputs": [
    {
     "data": {
      "text/plain": [
       "<matplotlib.image.AxesImage at 0x7fa1a01b9fd0>"
      ]
     },
     "execution_count": 160,
     "metadata": {},
     "output_type": "execute_result"
    },
    {
     "data": {
      "image/png": "[encoded data removed]",
      "text/plain": [
       "<Figure size 640x480 with 1 Axes>"
      ]
     },
     "metadata": {},
     "output_type": "display_data"
    }
   ],
   "source": [
    "plt.imshow(hf_outputs[\"logits\"][1])"
   ]
  },
  {
   "cell_type": "code",
   "execution_count": 161,
   "id": "c6fed316",
   "metadata": {},
   "outputs": [
    {
     "data": {
      "text/plain": [
       "<matplotlib.image.AxesImage at 0x7fa2711e4880>"
      ]
     },
     "execution_count": 161,
     "metadata": {},
     "output_type": "execute_result"
    },
    {
     "data": {
      "image/png": "[encoded data removed]",
      "text/plain": [
       "<Figure size 640x480 with 1 Axes>"
      ]
     },
     "metadata": {},
     "output_type": "display_data"
    }
   ],
   "source": [
    "plt.imshow(outputs[1][1])"
   ]
  },
  {
   "cell_type": "code",
   "execution_count": 162,
   "id": "70bb0bdd",
   "metadata": {},
   "outputs": [
    {
     "data": {
      "text/plain": [
       "<matplotlib.image.AxesImage at 0x7fa230389490>"
      ]
     },
     "execution_count": 162,
     "metadata": {},
     "output_type": "execute_result"
    },
    {
     "data": {
      "image/png": "[encoded data removed]",
      "text/plain": [
       "<Figure size 640x480 with 1 Axes>"
      ]
     },
     "metadata": {},
     "output_type": "display_data"
    }
   ],
   "source": [
    "plt.imshow(hf_outputs[\"logits\"][1] - outputs[1][1])"
   ]
  },
  {
   "cell_type": "code",
   "execution_count": null,
   "id": "4c6bb2b8",
   "metadata": {},
   "outputs": [],
   "source": []
  },
  {
   "cell_type": "markdown",
   "id": "1cd40e6e",
   "metadata": {},
   "source": [
    "Without `input_ids` but previous encoder state:"
   ]
  },
  {
   "cell_type": "code",
   "execution_count": 163,
   "id": "70a20dc4",
   "metadata": {},
   "outputs": [],
   "source": [
    "encoder_last_hidden_state = hf_outputs.encoder_last_hidden_state"
   ]
  },
  {
   "cell_type": "code",
   "execution_count": 164,
   "id": "fd049e5a",
   "metadata": {},
   "outputs": [],
   "source": [
    "with torch.no_grad():\n",
    "    hf_outputs = hf_model(\n",
    "        encoder_outputs=(encoder_last_hidden_state,),\n",
    "        attention_mask=attention_mask_batch,\n",
    "        decoder_input_values=hf_outputs[\"logits\"], #torch.zeros((1, 10, 80)),\n",
    "        speaker_embeddings=torch.randn((encoder_last_hidden_state.size(0), 512)),\n",
    "        return_dict=True\n",
    "    )"
   ]
  },
  {
   "cell_type": "code",
   "execution_count": 165,
   "id": "65b09fbb",
   "metadata": {},
   "outputs": [
    {
     "data": {
      "text/plain": [
       "['logits', 'past_key_values', 'encoder_last_hidden_state']"
      ]
     },
     "execution_count": 165,
     "metadata": {},
     "output_type": "execute_result"
    }
   ],
   "source": [
    "list(hf_outputs.keys())"
   ]
  },
  {
   "cell_type": "code",
   "execution_count": 166,
   "id": "b8ae1032",
   "metadata": {},
   "outputs": [
    {
     "data": {
      "text/plain": [
       "torch.Size([3, 79, 768])"
      ]
     },
     "execution_count": 166,
     "metadata": {},
     "output_type": "execute_result"
    }
   ],
   "source": [
    "hf_outputs[\"encoder_last_hidden_state\"].shape"
   ]
  },
  {
   "cell_type": "code",
   "execution_count": 167,
   "id": "9fe40e4e",
   "metadata": {},
   "outputs": [
    {
     "data": {
      "text/plain": [
       "torch.Size([3, 28, 80])"
      ]
     },
     "execution_count": 167,
     "metadata": {},
     "output_type": "execute_result"
    }
   ],
   "source": [
    "hf_outputs[\"logits\"].shape"
   ]
  },
  {
   "cell_type": "code",
   "execution_count": 168,
   "id": "3fd76ea6",
   "metadata": {},
   "outputs": [
    {
     "data": {
      "text/plain": [
       "<matplotlib.image.AxesImage at 0x7fa2306fcdc0>"
      ]
     },
     "execution_count": 168,
     "metadata": {},
     "output_type": "execute_result"
    },
    {
     "data": {
      "image/png": "[encoded data removed]",
      "text/plain": [
       "<Figure size 640x480 with 1 Axes>"
      ]
     },
     "metadata": {},
     "output_type": "display_data"
    }
   ],
   "source": [
    "plt.imshow(hf_outputs[\"logits\"][0].T)"
   ]
  },
  {
   "cell_type": "code",
   "execution_count": null,
   "id": "201e5da7",
   "metadata": {},
   "outputs": [],
   "source": []
  },
  {
   "cell_type": "markdown",
   "id": "4e897757",
   "metadata": {},
   "source": [
    "Calculate loss:"
   ]
  },
  {
   "cell_type": "code",
   "execution_count": null,
   "id": "3ba58002",
   "metadata": {},
   "outputs": [],
   "source": [
    "with torch.no_grad():\n",
    "     hf_outputs = hf_model(\n",
    "         input_values=inputs.input_values,\n",
    "         attention_mask=inputs.attention_mask,\n",
    "         #decoder_input_ids=torch.tensor([[2,  4, 18, 10, 12,  6,  5]]),\n",
    "         labels=torch.tensor([[4, 18, 10, 12,  6,  5, 13]]),\n",
    "         #labels=torch.tensor([[4, 18, 10, 12,  6,  5, 13], [4, 18, 10, 12,  6,  5, 13]]),  # batch\n",
    "     )"
   ]
  },
  {
   "cell_type": "code",
   "execution_count": null,
   "id": "34bbac0f",
   "metadata": {},
   "outputs": [],
   "source": [
    "# TODO loss!"
   ]
  },
  {
   "cell_type": "code",
   "execution_count": null,
   "id": "2fc5c70e",
   "metadata": {},
   "outputs": [],
   "source": []
  },
  {
   "cell_type": "markdown",
   "id": "394115d0",
   "metadata": {},
   "source": [
    "## Generating speech"
   ]
  },
  {
   "cell_type": "markdown",
   "id": "b949bb79",
   "metadata": {},
   "source": [
    "The original repo comes with a `generate_speech.py` script. This is used instead of the typical encoder-decoder generation loop.\n",
    "\n",
    "What this script does:\n",
    "\n",
    "- create SpeechT5 task\n",
    "- load the model checkpoint\n",
    "- load the dataset\n",
    "- create an iterator for the examples in the dataset\n",
    "- loop through the iterator and call `task.generate_speech()` on each example\n",
    "- save the predicted features to a numpy file\n",
    "- save some spectrogram plots\n",
    "\n",
    "The example that goes into `task.generate_speech()` is already tokenized. This is done by the dataset.\n",
    "\n",
    "`task.generate_speech()` calls `model.generate_speech()` on the T5TransformerModel.\n",
    "\n",
    "Dataset (`text_to_speech_dataset.py`):\n",
    "\n",
    "- `__getitem__`:\n",
    "    - calls `get_labels` which gets the text and tokenizes it\n",
    "    - calls `get_audio` to load the target audio file and converts it to log-mel spectrograms\n",
    "    - calls `get_features_or_waveform` to load the speaker embeddings from NumPy files (= 512-element vector)\n",
    "    \n",
    "- `collater`:\n",
    "    - thins out frames of the target spectrogram for reduction factor (= 2)\n",
    "    - creates `prev_output_tokens` by shifting the target spectrogram\n",
    "    - creates labels for stop token prediction (tensor with same size as spectrogram that is all zero except for final element, which is 1)\n",
    "    - pads everything to fit in a mini-batch\n",
    "\n",
    "We don't need the target audio."
   ]
  },
  {
   "cell_type": "code",
   "execution_count": 4,
   "id": "ac6c3d0a",
   "metadata": {},
   "outputs": [],
   "source": [
    "text = \"Hey, what's up, Hugging Face? This is Speech tee five talking to you for real.\""
   ]
  },
  {
   "cell_type": "code",
   "execution_count": 5,
   "id": "dc43c338",
   "metadata": {},
   "outputs": [
    {
     "data": {
      "text/plain": [
       "tensor([[ 4, 35,  5, 22, 23,  4, 20, 11,  7,  6, 31, 12,  4, 16, 24, 23,  4, 35,\n",
       "         16, 21, 21, 10,  9, 21,  4, 55,  7, 17,  5, 41,  4, 32, 11, 10, 12,  4,\n",
       "         10, 12,  4, 34, 24,  5,  5, 17, 11,  4,  6,  5,  5,  4, 19, 10, 27,  5,\n",
       "          4,  6,  7, 15, 28, 10,  9, 21,  4,  6,  8,  4, 22,  8, 16,  4, 19,  8,\n",
       "         13,  4, 13,  5,  7, 15, 26]], dtype=torch.int32)"
      ]
     },
     "execution_count": 5,
     "metadata": {},
     "output_type": "execute_result"
    }
   ],
   "source": [
    "label = tokenizer.encode(text)\n",
    "src_tokens = label_processor(label)\n",
    "src_tokens = src_tokens.unsqueeze(0)\n",
    "src_tokens"
   ]
  },
  {
   "cell_type": "code",
   "execution_count": 6,
   "id": "f7b0a239",
   "metadata": {},
   "outputs": [
    {
     "data": {
      "text/plain": [
       "torch.Size([1, 512])"
      ]
     },
     "execution_count": 6,
     "metadata": {},
     "output_type": "execute_result"
    }
   ],
   "source": [
    "# xvector = \"1272-128104.npy\"\n",
    "xvector = \"711-187464.npy\"\n",
    "spkembs_path = \"/Users/matthijs/Documents/FILES/HuggingFace/SpeechT5/tryout/AUDIO_DIR/dev_clean/xvectors/\" + xvector\n",
    "\n",
    "spkembs = torch.from_numpy(np.load(spkembs_path)).float()\n",
    "spkembs = spkembs.unsqueeze(0)\n",
    "spkembs.shape"
   ]
  },
  {
   "cell_type": "code",
   "execution_count": 7,
   "id": "0d4e5eff",
   "metadata": {},
   "outputs": [],
   "source": [
    "threshold = 0.5\n",
    "minlenratio = 0.0\n",
    "maxlenratio = 20.0\n",
    "reduction_factor = 2"
   ]
  },
  {
   "cell_type": "markdown",
   "id": "3e3cb030",
   "metadata": {},
   "source": [
    "### The loop from the original code"
   ]
  },
  {
   "cell_type": "code",
   "execution_count": 62,
   "id": "25d9872b",
   "metadata": {},
   "outputs": [
    {
     "data": {
      "text/plain": [
       "['encoder_out',\n",
       " 'encoder_padding_mask',\n",
       " 'encoder_states',\n",
       " 'src_tokens',\n",
       " 'decoder_input',\n",
       " 'encoder_out_for_ctc']"
      ]
     },
     "execution_count": 62,
     "metadata": {},
     "output_type": "execute_result"
    }
   ],
   "source": [
    "with torch.no_grad():\n",
    "    encoder_out = orig_model.forward_text_encoder(src_tokens)\n",
    "list(encoder_out.keys())"
   ]
  },
  {
   "cell_type": "markdown",
   "id": "017a4a02",
   "metadata": {},
   "source": [
    "This part is skipped, since `spk_embed_integration_type == \"pre\"`:"
   ]
  },
  {
   "cell_type": "raw",
   "id": "4fb4ad2a",
   "metadata": {},
   "source": [
    "if spkembs is not None and self.spk_embed_integration_type != \"pre\":\n",
    "    encoder_out[\"encoder_out\"] = [self._integrate_with_spk_embed(\n",
    "        encoder_out[\"encoder_out\"][0].transpose(0, 1), spkembs\n",
    "    ).transpose(0, 1)]\n",
    "    spkembs = None"
   ]
  },
  {
   "cell_type": "code",
   "execution_count": 63,
   "id": "6221c52b",
   "metadata": {},
   "outputs": [
    {
     "data": {
      "text/plain": [
       "(790, 0)"
      ]
     },
     "execution_count": 63,
     "metadata": {},
     "output_type": "execute_result"
    }
   ],
   "source": [
    "maxlen = int(encoder_out[\"encoder_out\"][0].size(0) * maxlenratio / reduction_factor)\n",
    "minlen = int(encoder_out[\"encoder_out\"][0].size(0) * minlenratio / reduction_factor)\n",
    "maxlen, minlen"
   ]
  },
  {
   "cell_type": "code",
   "execution_count": 64,
   "id": "73147aa5",
   "metadata": {},
   "outputs": [],
   "source": [
    "ys = encoder_out[\"encoder_out\"][0].new_zeros(1, 1, orig_model.speech_decoder_postnet.odim)\n",
    "\n",
    "outs, probs = [], []\n",
    "\n",
    "incremental_states = {}\n",
    "attns = []\n",
    "\n",
    "idx = 0\n",
    "\n",
    "# for debugging\n",
    "zs = []\n",
    "decoder_ins = []\n",
    "\n",
    "with torch.no_grad():\n",
    "    while True:\n",
    "        # update index\n",
    "        idx += 1\n",
    "\n",
    "        # calculate output and stop prob at idx-th step\n",
    "        decoder_in, _ = orig_model.speech_decoder_prenet(ys, spkembs=spkembs)\n",
    "        decoder_ins.append(decoder_in)\n",
    "        \n",
    "        z, extra = orig_model.decoder(\n",
    "            decoder_in[:, -1:], None, encoder_out, incremental_states, alignment_layer=-1\n",
    "        )\n",
    "        \n",
    "        zs.append(z)  # debugging only\n",
    "        \n",
    "        outs += [\n",
    "            orig_model.speech_decoder_postnet.feat_out(z[0, -1]).view(\n",
    "                reduction_factor, orig_model.speech_decoder_postnet.odim)\n",
    "        ]  # [(r, odim), ...]\n",
    "        \n",
    "        probs += [torch.sigmoid(orig_model.speech_decoder_postnet.prob_out(z[0, -1]))]  # [(r), ...]\n",
    "\n",
    "        # update next inputs\n",
    "        ys = torch.cat((ys, outs[-1][-1].view(1, 1, orig_model.speech_decoder_postnet.odim)), dim=1)  # (1, idx + 1, odim)\n",
    "        attns.append(torch.stack([att_l[0] for att_l in extra['attn'][0]], dim=0))\n",
    "        \n",
    "\n",
    "        # check whether to finish generation\n",
    "        if int(sum(probs[-1] >= threshold)) > 0 or idx >= maxlen:\n",
    "            # check mininum length\n",
    "            if idx < minlen:\n",
    "                continue\n",
    "            outs = (torch.cat(outs, dim=0).unsqueeze(0).transpose(1, 2))  # (L, odim) -> (1, L, odim) -> (1, odim, L)\n",
    "            \n",
    "            if orig_model.speech_decoder_postnet.postnet is not None:\n",
    "                outs = outs + orig_model.speech_decoder_postnet.postnet(outs)  # (1, odim, L)\n",
    "            outs = outs.transpose(2, 1).squeeze(0)  # (L, odim)\n",
    "            probs = torch.cat(probs, dim=0)\n",
    "            attn = torch.cat(attns, dim=2)\n",
    "            break\n",
    "\n",
    "    # if outs.size(0) == maxlen:\n",
    "    #     logging.warning(\"output length reaches maximum length\")\n",
    "    # return outs, probs, attn"
   ]
  },
  {
   "cell_type": "code",
   "execution_count": 65,
   "id": "01f5e049",
   "metadata": {},
   "outputs": [
    {
     "data": {
      "text/plain": [
       "127"
      ]
     },
     "execution_count": 65,
     "metadata": {},
     "output_type": "execute_result"
    }
   ],
   "source": [
    "idx"
   ]
  },
  {
   "cell_type": "code",
   "execution_count": 66,
   "id": "991c694b",
   "metadata": {},
   "outputs": [
    {
     "data": {
      "text/plain": [
       "(torch.Size([254, 80]), torch.Size([254]), torch.Size([6, 12, 127, 79]))"
      ]
     },
     "execution_count": 66,
     "metadata": {},
     "output_type": "execute_result"
    }
   ],
   "source": [
    "outs.shape, probs.shape, attn.shape"
   ]
  },
  {
   "cell_type": "code",
   "execution_count": 67,
   "id": "3e241d44",
   "metadata": {},
   "outputs": [],
   "source": [
    "# outs"
   ]
  },
  {
   "cell_type": "code",
   "execution_count": 68,
   "id": "49019a0d",
   "metadata": {},
   "outputs": [],
   "source": [
    "# probs"
   ]
  },
  {
   "cell_type": "code",
   "execution_count": 35,
   "id": "11e81e8b",
   "metadata": {},
   "outputs": [],
   "source": [
    "# np.save(\"/Users/matthijs/Documents/FILES/HuggingFace/SpeechT5/tryout/RESULTS_PATH_TTS/test-feats.npy\", outs)"
   ]
  },
  {
   "cell_type": "code",
   "execution_count": 33,
   "id": "ca9c058b",
   "metadata": {},
   "outputs": [
    {
     "data": {
      "text/plain": [
       "(224, 80)"
      ]
     },
     "execution_count": 33,
     "metadata": {},
     "output_type": "execute_result"
    }
   ],
   "source": [
    "output_from_orig = np.load(\"/Users/matthijs/Documents/FILES/HuggingFace/SpeechT5/tryout/RESULTS_PATH_TTS/1272-141231-0020-feats.npy\")\n",
    "output_from_orig.shape"
   ]
  },
  {
   "cell_type": "code",
   "execution_count": 34,
   "id": "8ea516b2",
   "metadata": {},
   "outputs": [
    {
     "data": {
      "text/plain": [
       "array([[-2.447312 , -2.5842195, -2.6425114, ..., -3.4069824, -3.465168 ,\n",
       "        -3.6968606],\n",
       "       [-2.3173997, -2.4196224, -2.4533415, ..., -3.2910826, -3.3278248,\n",
       "        -3.619002 ],\n",
       "       [-2.0293949, -2.1170504, -2.1304567, ..., -3.1284175, -3.1922834,\n",
       "        -3.4744668],\n",
       "       ...,\n",
       "       [-1.6293311, -1.6271574, -1.5868783, ..., -2.5902255, -2.673273 ,\n",
       "        -2.96128  ],\n",
       "       [-1.6064708, -1.598937 , -1.5644566, ..., -2.518047 , -2.6068907,\n",
       "        -2.8994167],\n",
       "       [-1.6372557, -1.6390084, -1.5915557, ..., -2.5051334, -2.5946448,\n",
       "        -2.891439 ]], dtype=float32)"
      ]
     },
     "execution_count": 34,
     "metadata": {},
     "output_type": "execute_result"
    }
   ],
   "source": [
    "output_from_orig"
   ]
  },
  {
   "cell_type": "code",
   "execution_count": 35,
   "id": "f5c169b5",
   "metadata": {},
   "outputs": [
    {
     "ename": "ValueError",
     "evalue": "operands could not be broadcast together with shapes (224,80) (258,80) ",
     "output_type": "error",
     "traceback": [
      "\u001b[0;31m---------------------------------------------------------------------------\u001b[0m",
      "\u001b[0;31mValueError\u001b[0m                                Traceback (most recent call last)",
      "Input \u001b[0;32mIn [35]\u001b[0m, in \u001b[0;36m<cell line: 1>\u001b[0;34m()\u001b[0m\n\u001b[0;32m----> 1\u001b[0m np\u001b[38;5;241m.\u001b[39mmax(np\u001b[38;5;241m.\u001b[39mabs(\u001b[43moutput_from_orig\u001b[49m\u001b[43m \u001b[49m\u001b[38;5;241;43m-\u001b[39;49m\u001b[43m \u001b[49m\u001b[43mouts\u001b[49m\u001b[38;5;241;43m.\u001b[39;49m\u001b[43mnumpy\u001b[49m\u001b[43m(\u001b[49m\u001b[43m)\u001b[49m))\n",
      "\u001b[0;31mValueError\u001b[0m: operands could not be broadcast together with shapes (224,80) (258,80) "
     ]
    }
   ],
   "source": [
    "np.max(np.abs(output_from_orig - outs.numpy()))"
   ]
  },
  {
   "cell_type": "code",
   "execution_count": null,
   "id": "b130612e",
   "metadata": {},
   "outputs": [],
   "source": []
  },
  {
   "cell_type": "markdown",
   "id": "a909eb1e",
   "metadata": {},
   "source": [
    "### The loop using the HF model"
   ]
  },
  {
   "cell_type": "code",
   "execution_count": 8,
   "id": "5ff513a2",
   "metadata": {},
   "outputs": [],
   "source": [
    "outs_hf = hf_model.generate_speech(src_tokens, spkembs)"
   ]
  },
  {
   "cell_type": "code",
   "execution_count": 9,
   "id": "4647ccce",
   "metadata": {
    "scrolled": true
   },
   "outputs": [
    {
     "data": {
      "text/plain": [
       "torch.Size([256, 80])"
      ]
     },
     "execution_count": 9,
     "metadata": {},
     "output_type": "execute_result"
    }
   ],
   "source": [
    "outs_hf.shape"
   ]
  },
  {
   "cell_type": "code",
   "execution_count": 38,
   "id": "fea165e4",
   "metadata": {},
   "outputs": [
    {
     "ename": "RuntimeError",
     "evalue": "The size of tensor a (258) must match the size of tensor b (252) at non-singleton dimension 0",
     "output_type": "error",
     "traceback": [
      "\u001b[0;31m---------------------------------------------------------------------------\u001b[0m",
      "\u001b[0;31mRuntimeError\u001b[0m                              Traceback (most recent call last)",
      "Input \u001b[0;32mIn [38]\u001b[0m, in \u001b[0;36m<cell line: 1>\u001b[0;34m()\u001b[0m\n\u001b[0;32m----> 1\u001b[0m torch\u001b[38;5;241m.\u001b[39mmax(torch\u001b[38;5;241m.\u001b[39mabs(\u001b[43mouts\u001b[49m\u001b[43m \u001b[49m\u001b[38;5;241;43m-\u001b[39;49m\u001b[43m \u001b[49m\u001b[43mouts_hf\u001b[49m))\n",
      "\u001b[0;31mRuntimeError\u001b[0m: The size of tensor a (258) must match the size of tensor b (252) at non-singleton dimension 0"
     ]
    }
   ],
   "source": [
    "torch.max(torch.abs(outs - outs_hf))"
   ]
  },
  {
   "cell_type": "code",
   "execution_count": 185,
   "id": "4c73f435",
   "metadata": {},
   "outputs": [],
   "source": [
    "# torch.max(torch.abs(probs - probs_hf))"
   ]
  },
  {
   "cell_type": "code",
   "execution_count": 186,
   "id": "24a9a002",
   "metadata": {},
   "outputs": [
    {
     "data": {
      "text/plain": [
       "0.0"
      ]
     },
     "execution_count": 186,
     "metadata": {},
     "output_type": "execute_result"
    }
   ],
   "source": [
    "np.max(np.abs(output_from_orig - outs_hf.numpy()))"
   ]
  },
  {
   "cell_type": "markdown",
   "id": "33bcea04",
   "metadata": {},
   "source": [
    "**Note:** If we don't do `use_cache=True`, the outputs are not 100% identical. The error for the outputs is in the range 1e-6. This is because the decoder looks at the entire sequence rather than just the last element, and will accumulate floating-point precision errors."
   ]
  },
  {
   "cell_type": "code",
   "execution_count": 70,
   "id": "7798c38f",
   "metadata": {},
   "outputs": [
    {
     "data": {
      "text/plain": [
       "<matplotlib.image.AxesImage at 0x7fcb6d4cfd90>"
      ]
     },
     "execution_count": 70,
     "metadata": {},
     "output_type": "execute_result"
    },
    {
     "data": {
      "image/png": "[encoded data removed]",
      "text/plain": [
       "<Figure size 640x480 with 1 Axes>"
      ]
     },
     "metadata": {},
     "output_type": "display_data"
    }
   ],
   "source": [
    "plt.imshow(outs_hf.T)"
   ]
  },
  {
   "cell_type": "code",
   "execution_count": 71,
   "id": "dee2cfcf",
   "metadata": {},
   "outputs": [
    {
     "data": {
      "image/png": "[encoded data removed]",
      "text/plain": [
       "<Figure size 640x480 with 2 Axes>"
      ]
     },
     "metadata": {},
     "output_type": "display_data"
    }
   ],
   "source": [
    "import librosa.display\n",
    "\n",
    "plt.figure()\n",
    "librosa.display.specshow(outs_hf.T.numpy(), sr=16000, x_axis=\"time\", y_axis=\"mel\")\n",
    "plt.colorbar()\n",
    "plt.show()"
   ]
  },
  {
   "cell_type": "code",
   "execution_count": 72,
   "id": "e2ac56e5",
   "metadata": {},
   "outputs": [],
   "source": [
    "np.save(\"/Users/matthijs/Documents/FILES/HuggingFace/SpeechT5/tryout/RESULTS_PATH_TTS/hf-feats.npy\", outs_hf)"
   ]
  },
  {
   "cell_type": "code",
   "execution_count": null,
   "id": "a1cca325",
   "metadata": {},
   "outputs": [],
   "source": []
  },
  {
   "cell_type": "markdown",
   "id": "26cfccbb",
   "metadata": {},
   "source": [
    "## Vocoder"
   ]
  },
  {
   "cell_type": "raw",
   "id": "90dac2ea",
   "metadata": {},
   "source": [
    "parallel-wavegan-decode \\\n",
    "    --checkpoint /Users/matthijs/Documents/FILES/HuggingFace/SpeechT5/weights/speecht5-tts/pretrained_vocoder/train_nodev_clean_libritts_hifigan.v1/hifigan-libritts-1930000steps.pkl \\\n",
    "    --dumpdir /Users/matthijs/Documents/FILES/HuggingFace/SpeechT5/tryout/RESULTS_PATH_TTS \\\n",
    "    --outdir /Users/matthijs/Documents/FILES/HuggingFace/SpeechT5/tryout/RESULTS_PATH_TTS/wav \\\n",
    "    --normalize-before"
   ]
  },
  {
   "cell_type": "code",
   "execution_count": null,
   "id": "0685a8ee",
   "metadata": {},
   "outputs": [],
   "source": []
  },
  {
   "cell_type": "code",
   "execution_count": null,
   "id": "565f4277",
   "metadata": {},
   "outputs": [],
   "source": []
  },
  {
   "cell_type": "code",
   "execution_count": null,
   "id": "e3b6ddd8",
   "metadata": {},
   "outputs": [],
   "source": []
  },
  {
   "cell_type": "code",
   "execution_count": null,
   "id": "1612cc21",
   "metadata": {},
   "outputs": [],
   "source": []
  },
  {
   "cell_type": "code",
   "execution_count": null,
   "id": "29f01770",
   "metadata": {},
   "outputs": [],
   "source": []
  },
  {
   "cell_type": "markdown",
   "id": "32e98799",
   "metadata": {},
   "source": [
    "## Use the `transformers` generator loop"
   ]
  },
  {
   "cell_type": "markdown",
   "id": "8b1b07c5",
   "metadata": {},
   "source": [
    "I don't think this makes sense for the TTS model. It needs to run the decoder in a specific way that's different from what `model.generate()` does."
   ]
  },
  {
   "cell_type": "code",
   "execution_count": null,
   "id": "39bc11e3",
   "metadata": {},
   "outputs": [],
   "source": []
  },
  {
   "cell_type": "markdown",
   "id": "151cfbe9",
   "metadata": {},
   "source": [
    "## Other functionality"
   ]
  },
  {
   "cell_type": "code",
   "execution_count": 189,
   "id": "0100b5d0",
   "metadata": {},
   "outputs": [
    {
     "data": {
      "text/plain": [
       "transformers.models.speecht5.modeling_speecht5.SpeechT5ForTTS"
      ]
     },
     "execution_count": 189,
     "metadata": {},
     "output_type": "execute_result"
    }
   ],
   "source": [
    "type(hf_model)"
   ]
  },
  {
   "cell_type": "code",
   "execution_count": 190,
   "id": "9778431c",
   "metadata": {},
   "outputs": [
    {
     "data": {
      "text/plain": [
       "Embedding(81, 768, padding_idx=1)"
      ]
     },
     "execution_count": 190,
     "metadata": {},
     "output_type": "execute_result"
    }
   ],
   "source": [
    "hf_model.get_input_embeddings()"
   ]
  },
  {
   "cell_type": "code",
   "execution_count": 191,
   "id": "44be3e74",
   "metadata": {},
   "outputs": [],
   "source": [
    "hf_model.get_output_embeddings()"
   ]
  },
  {
   "cell_type": "code",
   "execution_count": 611,
   "id": "d6f954bf",
   "metadata": {},
   "outputs": [
    {
     "data": {
      "text/plain": [
       "Embedding(100, 768)"
      ]
     },
     "execution_count": 611,
     "metadata": {},
     "output_type": "execute_result"
    }
   ],
   "source": [
    "hf_model.resize_token_embeddings(100)"
   ]
  },
  {
   "cell_type": "code",
   "execution_count": 612,
   "id": "3b17c7a0",
   "metadata": {},
   "outputs": [
    {
     "data": {
      "text/plain": [
       "Embedding(100, 768)"
      ]
     },
     "execution_count": 612,
     "metadata": {},
     "output_type": "execute_result"
    }
   ],
   "source": [
    "hf_model.get_input_embeddings()"
   ]
  },
  {
   "cell_type": "code",
   "execution_count": null,
   "id": "742e8369",
   "metadata": {},
   "outputs": [],
   "source": []
  },
  {
   "cell_type": "markdown",
   "id": "15d1c904",
   "metadata": {},
   "source": [
    "## For debugging\n",
    "\n",
    "Restart kernel, then reload the models:"
   ]
  },
  {
   "cell_type": "code",
   "execution_count": 3,
   "id": "0fc831a4",
   "metadata": {},
   "outputs": [
    {
     "name": "stdout",
     "output_type": "stream",
     "text": [
      "dictionary size: 81\n",
      "dictionary size: 81\n"
     ]
    },
    {
     "data": {
      "text/plain": [
       "fairseq.data.encoders.sentencepiece_bpe.SentencepieceBPE"
      ]
     },
     "execution_count": 3,
     "metadata": {},
     "output_type": "execute_result"
    }
   ],
   "source": [
    "%reload_ext autoreload\n",
    "%autoreload 2\n",
    "\n",
    "import sys\n",
    "sys.path.insert(0, \"../SpeechT5/SpeechT5\")\n",
    "sys.path.insert(0, \"../SpeechT5/SpeechT5/fairseq\")\n",
    "\n",
    "import numpy as np\n",
    "import torch\n",
    "import matplotlib.pyplot as plt\n",
    "\n",
    "from argparse import Namespace\n",
    "from fairseq.data import encoders\n",
    "\n",
    "bpe_tokenizer_path = \"/Users/matthijs/Documents/FILES/HuggingFace/SpeechT5/tryout/MODEL_DIR/spm_char.model\"\n",
    "tokenizer = encoders.build_bpe(Namespace(**{\"bpe\": \"sentencepiece\", \"sentencepiece_model\": bpe_tokenizer_path}))\n",
    "\n",
    "from fairseq.data import Dictionary\n",
    "src_dict = Dictionary.load(\"/Users/matthijs/Documents/FILES/HuggingFace/SpeechT5/tryout/DATA_ROOT/dict.txt\")\n",
    "src_dict.add_symbol(\"<mask>\")\n",
    "src_dict.add_symbol(\"<ctc_blank>\")\n",
    "print(f\"dictionary size: \" f\"{len(src_dict):,}\")\n",
    "\n",
    "from fairseq.tasks.hubert_pretraining import LabelEncoder\n",
    "label_processor = LabelEncoder(src_dict)\n",
    "\n",
    "text = \"Hey, what's up, Hugging Face? This is Speech tee five talking to you for real.\"\n",
    "\n",
    "label = tokenizer.encode(text)\n",
    "label\n",
    "\n",
    "src_tokens = label_processor(label).unsqueeze(0)\n",
    "src_tokens\n",
    "\n",
    "attention_mask = torch.ones_like(src_tokens)\n",
    "attention_mask.shape\n",
    "\n",
    "text2 = \"A much shorter snippet\"\n",
    "label2 = tokenizer.encode(text2)\n",
    "src_tokens2 = label_processor(label2).unsqueeze(0)\n",
    "src_tokens2\n",
    "\n",
    "pad_token_id = 1\n",
    "pad_length = src_tokens.size(-1) - src_tokens2.size(-1)\n",
    "src_tokens2_padded = torch.cat([src_tokens2, torch.ones(1, pad_length).long() * pad_token_id], dim=1)\n",
    "attention_mask2 = torch.cat([torch.ones_like(src_tokens2), torch.zeros(1, pad_length).long()], dim=1)\n",
    "\n",
    "input_ids_batch = torch.cat([src_tokens, src_tokens2_padded, src_tokens.clone()])\n",
    "attention_mask_batch = torch.cat([attention_mask, attention_mask2, attention_mask.clone()])\n",
    "\n",
    "from transformers import (\n",
    "    SpeechT5Config, \n",
    "    SpeechT5CTCTokenizer,\n",
    "    SpeechT5Processor,\n",
    "    SpeechT5Model, \n",
    "    SpeechT5ForTextToSpeech, \n",
    "    Wav2Vec2FeatureExtractor,\n",
    ")\n",
    "\n",
    "model_checkpoint = \"/Users/matthijs/Documents/FILES/HuggingFace/SpeechT5/weights/speecht5_tts\"\n",
    "\n",
    "hf_model = SpeechT5ForTextToSpeech.from_pretrained(model_checkpoint)\n",
    "\n",
    "hf_model.eval()\n",
    "\n",
    "from fairseq.data import Dictionary\n",
    "tgt_dict = Dictionary.load(\"/Users/matthijs/Documents/FILES/HuggingFace/SpeechT5/tryout/DATA_ROOT/dict.txt\")\n",
    "tgt_dict.add_symbol(\"<mask>\")\n",
    "tgt_dict.add_symbol(\"<ctc_blank>\")\n",
    "print(f\"dictionary size: \" f\"{len(tgt_dict):,}\")\n",
    "\n",
    "\n",
    "class FakeTask:\n",
    "    def __init__(self):\n",
    "        self.dicts = { \"text\": tgt_dict }\n",
    "        self.t5_task = \"t2s\"\n",
    "        \n",
    "task = FakeTask()\n",
    "\n",
    "import torch\n",
    "from speecht5.models.speecht5 import T5TransformerModel\n",
    "\n",
    "checkpoint = torch.load(\"../weights/speecht5-tts/speecht5_tts.pt\")\n",
    "\n",
    "orig_model = T5TransformerModel.build_model(checkpoint[\"cfg\"][\"model\"], task)\n",
    "\n",
    "orig_model.load_state_dict(checkpoint[\"model\"])\n",
    "orig_model = orig_model.eval()\n",
    "\n",
    "from fairseq.data import encoders\n",
    "from argparse import Namespace\n",
    "tokenizer = encoders.build_bpe(\n",
    "    Namespace(\n",
    "        bpe='sentencepiece', \n",
    "        sentencepiece_model='/Users/matthijs/Documents/FILES/HuggingFace/SpeechT5/tryout/MODEL_DIR/spm_char.model'\n",
    "    )\n",
    ")\n",
    "type(tokenizer)"
   ]
  },
  {
   "cell_type": "code",
   "execution_count": null,
   "id": "dc408bae",
   "metadata": {},
   "outputs": [],
   "source": []
  }
 ],
 "metadata": {
  "kernelspec": {
   "display_name": "Python 3 (ipykernel)",
   "language": "python",
   "name": "python3"
  },
  "language_info": {
   "codemirror_mode": {
    "name": "ipython",
    "version": 3
   },
   "file_extension": ".py",
   "mimetype": "text/x-python",
   "name": "python",
   "nbconvert_exporter": "python",
   "pygments_lexer": "ipython3",
   "version": "3.9.13"
  }
 },
 "nbformat": 4,
 "nbformat_minor": 5
}
