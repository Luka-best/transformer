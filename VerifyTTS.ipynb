{
 "cells": [
  {
   "cell_type": "markdown",
   "id": "ca8cd0a9",
   "metadata": {},
   "source": [
    "# Verifying the SpeechT5 TTS model"
   ]
  },
  {
   "cell_type": "markdown",
   "id": "2c5342da",
   "metadata": {},
   "source": [
    "I needed to do the following to be able to load the original model:\n",
    "\n",
    "- Clone the https://github.com/microsoft/SpeechT5 repo\n",
    "\n",
    "Install stuff:\n",
    "\n",
    "```\n",
    "pip install editdistance\n",
    "pip install -U sacrebleu==1.5.1\n",
    "\n",
    "git submodule update --init SpeechT5/fairseq\n",
    "cd SpeechT5\n",
    "pip install --editable fairseq/\n",
    "pip install espnet\n",
    "```\n",
    "\n",
    "Hack the code:\n",
    "\n",
    "- Copy `speecht5/tasks/speecht5.py` into `fairseq/fairseq/tasks`\n",
    "\n",
    "- `checkpoint_utils.py`: comment out a bunch of the loading stuff because of missing keys in the checkpoint\n",
    "\n",
    "Additional stuff to download:\n",
    "\n",
    "- `dict.txt` from https://drive.google.com/uc?export=download&id=19hcQ58RHZ6CssxF8Qp6yEF1NW_AXxObK\n",
    "\n",
    "- `tokenizer` from https://drive.google.com/uc?export=download&id=1wClgQjXXoU2lmpbaEa1v2SqMbg7cAutq\n",
    "\n",
    "- `xvectors.zip` from https://drive.google.com/uc?export=download&id=16QOUURZBrW7-GYbVG_gXt3mTMlZmQoH0\n",
    "\n",
    "- everything from https://huggingface.co/mechanicalsea/speecht5-tts\n",
    "\n",
    "- https://github.com/kan-bayashi/ParallelWaveGAN"
   ]
  },
  {
   "cell_type": "markdown",
   "id": "b2354864",
   "metadata": {},
   "source": [
    "**!!! IMPORTANT !!!**\n",
    "\n",
    "As is, the outputs from the original model and the Hugging Face implementation do not match for the same inputs. This happens because the speech decoder prenet *always* applies dropout, even when not training. Every time you run the (decoder part of the) model, the output will be slightly different.\n",
    "\n",
    "To test that both models give exactly the same output (max absolute error of ~1e-6), do the following:\n",
    "\n",
    "- In `modeling_speecht5.py`, in `SpeechT5SpeechDecoderPrenet.forward`, set `training=False` on the two dropout layers.\n",
    "\n",
    "- In espnet, in `nets/pytorch_backend/tacotron2/decoder.py`, in `Prenet.forward` add `training=False` on the dropout layer."
   ]
  },
  {
   "cell_type": "code",
   "execution_count": 1,
   "id": "1a4d7c59",
   "metadata": {},
   "outputs": [],
   "source": [
    "%reload_ext autoreload\n",
    "%autoreload 2"
   ]
  },
  {
   "cell_type": "markdown",
   "id": "65661728",
   "metadata": {},
   "source": [
    "Set Python path so it can find the `speecht5` and `fairseq` modules."
   ]
  },
  {
   "cell_type": "code",
   "execution_count": 2,
   "id": "f30402f0",
   "metadata": {},
   "outputs": [],
   "source": [
    "import sys\n",
    "sys.path.insert(0, \"../SpeechT5/SpeechT5\")\n",
    "sys.path.insert(0, \"../SpeechT5/SpeechT5/fairseq\")"
   ]
  },
  {
   "cell_type": "code",
   "execution_count": 3,
   "id": "d398e605",
   "metadata": {},
   "outputs": [],
   "source": [
    "import numpy as np\n",
    "import torch\n",
    "import matplotlib.pyplot as plt"
   ]
  },
  {
   "cell_type": "markdown",
   "id": "60213c02",
   "metadata": {},
   "source": [
    "## Tokenize input text"
   ]
  },
  {
   "cell_type": "code",
   "execution_count": 4,
   "id": "75fa539e",
   "metadata": {},
   "outputs": [],
   "source": [
    "from argparse import Namespace\n",
    "from fairseq.data import encoders\n",
    "\n",
    "bpe_tokenizer_path = \"/Users/matthijs/Documents/FILES/HuggingFace/SpeechT5/tryout/MODEL_DIR/spm_char.model\"\n",
    "tokenizer = encoders.build_bpe(Namespace(**{\"bpe\": \"sentencepiece\", \"sentencepiece_model\": bpe_tokenizer_path}))"
   ]
  },
  {
   "cell_type": "code",
   "execution_count": 5,
   "id": "f8409c42",
   "metadata": {},
   "outputs": [
    {
     "name": "stdout",
     "output_type": "stream",
     "text": [
      "dictionary size: 81\n"
     ]
    }
   ],
   "source": [
    "from fairseq.data import Dictionary\n",
    "src_dict = Dictionary.load(\"/Users/matthijs/Documents/FILES/HuggingFace/SpeechT5/tryout/DATA_ROOT/dict.txt\")\n",
    "src_dict.add_symbol(\"<mask>\")\n",
    "src_dict.add_symbol(\"<ctc_blank>\")\n",
    "print(f\"dictionary size: \" f\"{len(src_dict):,}\")"
   ]
  },
  {
   "cell_type": "code",
   "execution_count": 6,
   "id": "5d11bc84",
   "metadata": {},
   "outputs": [],
   "source": [
    "from fairseq.tasks.hubert_pretraining import LabelEncoder\n",
    "label_processor = LabelEncoder(src_dict)"
   ]
  },
  {
   "cell_type": "code",
   "execution_count": 7,
   "id": "2df06465",
   "metadata": {},
   "outputs": [],
   "source": [
    "text = \"Hey, what's up, Hugging Face? This is Speech tee five talking to you for real.\""
   ]
  },
  {
   "cell_type": "code",
   "execution_count": 8,
   "id": "5b2842f6",
   "metadata": {},
   "outputs": [
    {
     "data": {
      "text/plain": [
       "\"▁ H e y , ▁ w h a t ' s ▁ u p , ▁ H u g g i n g ▁ F a c e ? ▁ T h i s ▁ i s ▁ S p e e c h ▁ t e e ▁ f i v e ▁ t a l k i n g ▁ t o ▁ y o u ▁ f o r ▁ r e a l .\""
      ]
     },
     "execution_count": 8,
     "metadata": {},
     "output_type": "execute_result"
    }
   ],
   "source": [
    "label = tokenizer.encode(text)\n",
    "label"
   ]
  },
  {
   "cell_type": "code",
   "execution_count": 9,
   "id": "767a1346",
   "metadata": {},
   "outputs": [
    {
     "data": {
      "text/plain": [
       "tensor([[ 4, 35,  5, 22, 23,  4, 20, 11,  7,  6, 31, 12,  4, 16, 24, 23,  4, 35,\n",
       "         16, 21, 21, 10,  9, 21,  4, 55,  7, 17,  5, 41,  4, 32, 11, 10, 12,  4,\n",
       "         10, 12,  4, 34, 24,  5,  5, 17, 11,  4,  6,  5,  5,  4, 19, 10, 27,  5,\n",
       "          4,  6,  7, 15, 28, 10,  9, 21,  4,  6,  8,  4, 22,  8, 16,  4, 19,  8,\n",
       "         13,  4, 13,  5,  7, 15, 26]], dtype=torch.int32)"
      ]
     },
     "execution_count": 9,
     "metadata": {},
     "output_type": "execute_result"
    }
   ],
   "source": [
    "src_tokens = label_processor(label).unsqueeze(0)\n",
    "src_tokens"
   ]
  },
  {
   "cell_type": "code",
   "execution_count": 10,
   "id": "768371be",
   "metadata": {},
   "outputs": [],
   "source": [
    "# src_tokens = torch.tensor([[\n",
    "#     4, 35,  5, 22, 23,  4, 20, 11,  7,  6, 31, 12,  4, 16, 24, 23,  4, 35,\n",
    "#          16, 21, 21, 10,  9, 21,  4, 55,  7, 17,  5, 41,  4, 32, 11, 10, 12,  4,\n",
    "#          10, 12,  4, 34, 24,  5,  5, 17, 11,  4,  6,  5,  5,  4, 19, 10, 27,  5,\n",
    "#           4,  6,  7, 15, 28, 10,  9, 21,  4,  6,  8,  4, 22,  8, 16,  4, 19,  8,\n",
    "#          13,  4, 13,  5,  7, 15, 26\n",
    "# ]])"
   ]
  },
  {
   "cell_type": "code",
   "execution_count": 11,
   "id": "7e74ef32",
   "metadata": {},
   "outputs": [
    {
     "data": {
      "text/plain": [
       "torch.Size([1, 79])"
      ]
     },
     "execution_count": 11,
     "metadata": {},
     "output_type": "execute_result"
    }
   ],
   "source": [
    "attention_mask = torch.ones_like(src_tokens)\n",
    "attention_mask.shape"
   ]
  },
  {
   "cell_type": "code",
   "execution_count": null,
   "id": "956bd89a",
   "metadata": {},
   "outputs": [],
   "source": []
  },
  {
   "cell_type": "code",
   "execution_count": 12,
   "id": "8d219d84",
   "metadata": {},
   "outputs": [
    {
     "data": {
      "text/plain": [
       "tensor([[ 4, 33,  4, 18, 16, 17, 11,  4, 12, 11,  8, 13,  6,  5, 13,  4, 12,  9,\n",
       "         10, 24, 24,  5,  6]], dtype=torch.int32)"
      ]
     },
     "execution_count": 12,
     "metadata": {},
     "output_type": "execute_result"
    }
   ],
   "source": [
    "text2 = \"A much shorter snippet\"\n",
    "label2 = tokenizer.encode(text2)\n",
    "src_tokens2 = label_processor(label2).unsqueeze(0)\n",
    "src_tokens2"
   ]
  },
  {
   "cell_type": "code",
   "execution_count": 13,
   "id": "aa696325",
   "metadata": {},
   "outputs": [],
   "source": [
    "pad_token_id = 1\n",
    "pad_length = src_tokens.size(-1) - src_tokens2.size(-1)\n",
    "src_tokens2_padded = torch.cat([src_tokens2, torch.ones(1, pad_length).long() * pad_token_id], dim=1)\n",
    "attention_mask2 = torch.cat([torch.ones_like(src_tokens2), torch.zeros(1, pad_length).long()], dim=1)"
   ]
  },
  {
   "cell_type": "code",
   "execution_count": 14,
   "id": "2b9f6f99",
   "metadata": {},
   "outputs": [],
   "source": [
    "# input_ids_batch = torch.cat([src_tokens, src_tokens2_padded])\n",
    "# attention_mask_batch = torch.cat([attention_mask, attention_mask2])"
   ]
  },
  {
   "cell_type": "code",
   "execution_count": 15,
   "id": "60afcd7c",
   "metadata": {},
   "outputs": [],
   "source": [
    "# input_ids_batch = torch.cat([src_tokens2_padded, src_tokens])\n",
    "# attention_mask_batch = torch.cat([attention_mask2, attention_mask])"
   ]
  },
  {
   "cell_type": "code",
   "execution_count": 16,
   "id": "f4e68616",
   "metadata": {},
   "outputs": [],
   "source": [
    "input_ids_batch = torch.cat([src_tokens, src_tokens2_padded, src_tokens.clone()])\n",
    "attention_mask_batch = torch.cat([attention_mask, attention_mask2, attention_mask.clone()])"
   ]
  },
  {
   "cell_type": "code",
   "execution_count": null,
   "id": "88639c9f",
   "metadata": {},
   "outputs": [],
   "source": []
  },
  {
   "cell_type": "code",
   "execution_count": 17,
   "id": "49e99226",
   "metadata": {},
   "outputs": [],
   "source": [
    "from transformers import SpeechT5Tokenizer"
   ]
  },
  {
   "cell_type": "code",
   "execution_count": 18,
   "id": "eeb481ac",
   "metadata": {},
   "outputs": [
    {
     "data": {
      "text/plain": [
       "PreTrainedTokenizer(name_or_path='/Users/matthijs/Documents/FILES/HuggingFace/SpeechT5/weights/speecht5_tts', vocab_size=79, model_max_len=600, is_fast=False, padding_side='right', truncation_side='right', special_tokens={'bos_token': '<s>', 'eos_token': '</s>', 'unk_token': '<unk>', 'pad_token': '<pad>'})"
      ]
     },
     "execution_count": 18,
     "metadata": {},
     "output_type": "execute_result"
    }
   ],
   "source": [
    "model_checkpoint = \"/Users/matthijs/Documents/FILES/HuggingFace/SpeechT5/weights/speecht5_tts\"\n",
    "hf_tokenizer = SpeechT5Tokenizer.from_pretrained(model_checkpoint)\n",
    "hf_tokenizer"
   ]
  },
  {
   "cell_type": "code",
   "execution_count": 19,
   "id": "cb11ae11",
   "metadata": {},
   "outputs": [],
   "source": [
    "texts = [text, text2]\n",
    "encoded = hf_tokenizer(texts, padding=True, return_tensors=\"pt\")\n",
    "hf_input_ids_batch = encoded[\"input_ids\"]\n",
    "hf_attention_mask_batch = encoded[\"attention_mask\"]"
   ]
  },
  {
   "cell_type": "code",
   "execution_count": 20,
   "id": "1389f72a",
   "metadata": {},
   "outputs": [
    {
     "data": {
      "text/plain": [
       "tensor([[ 4, 35,  5, 22, 23,  4, 20, 11,  7,  6, 31, 12,  4, 16, 24, 23,  4, 35,\n",
       "         16, 21, 21, 10,  9, 21,  4, 55,  7, 17,  5, 41,  4, 32, 11, 10, 12,  4,\n",
       "         10, 12,  4, 34, 24,  5,  5, 17, 11,  4,  6,  5,  5,  4, 19, 10, 27,  5,\n",
       "          4,  6,  7, 15, 28, 10,  9, 21,  4,  6,  8,  4, 22,  8, 16,  4, 19,  8,\n",
       "         13,  4, 13,  5,  7, 15, 26],\n",
       "        [ 4, 33,  4, 18, 16, 17, 11,  4, 12, 11,  8, 13,  6,  5, 13,  4, 12,  9,\n",
       "         10, 24, 24,  5,  6,  1,  1,  1,  1,  1,  1,  1,  1,  1,  1,  1,  1,  1,\n",
       "          1,  1,  1,  1,  1,  1,  1,  1,  1,  1,  1,  1,  1,  1,  1,  1,  1,  1,\n",
       "          1,  1,  1,  1,  1,  1,  1,  1,  1,  1,  1,  1,  1,  1,  1,  1,  1,  1,\n",
       "          1,  1,  1,  1,  1,  1,  1]])"
      ]
     },
     "execution_count": 20,
     "metadata": {},
     "output_type": "execute_result"
    }
   ],
   "source": [
    "hf_input_ids_batch"
   ]
  },
  {
   "cell_type": "code",
   "execution_count": null,
   "id": "59ac3845",
   "metadata": {},
   "outputs": [],
   "source": []
  },
  {
   "cell_type": "markdown",
   "id": "27ff21d6",
   "metadata": {},
   "source": [
    "## Mel spectrograms"
   ]
  },
  {
   "cell_type": "code",
   "execution_count": 24,
   "id": "370d5a5e",
   "metadata": {},
   "outputs": [],
   "source": [
    "from transformers import SpeechT5SpectrogramFeatureExtractor\n",
    "# from transformers.models.speecht5.feature_extraction_speecht5 import SpeechT5SpectrogramFeatureExtractor"
   ]
  },
  {
   "cell_type": "code",
   "execution_count": 35,
   "id": "6d45216b",
   "metadata": {},
   "outputs": [
    {
     "data": {
      "text/plain": [
       "((10080,), 16000)"
      ]
     },
     "execution_count": 35,
     "metadata": {},
     "output_type": "execute_result"
    }
   ],
   "source": [
    "import soundfile as sf\n",
    "raw_speech, sample_rate = sf.read(\"/Users/matthijs/Downloads/LibriTTS_16k/test-clean/908/31957/908_31957_000002_000000.wav\")\n",
    "raw_speech.shape, sample_rate"
   ]
  },
  {
   "cell_type": "code",
   "execution_count": 74,
   "id": "0219081f",
   "metadata": {},
   "outputs": [
    {
     "data": {
      "text/plain": [
       "(-0.324310302734375, 0.4176025390625)"
      ]
     },
     "execution_count": 74,
     "metadata": {},
     "output_type": "execute_result"
    }
   ],
   "source": [
    "raw_speech.min(), raw_speech.max()"
   ]
  },
  {
   "cell_type": "code",
   "execution_count": 75,
   "id": "379f6459",
   "metadata": {},
   "outputs": [],
   "source": [
    "feature_extractor = SpeechT5SpectrogramFeatureExtractor()"
   ]
  },
  {
   "cell_type": "code",
   "execution_count": 76,
   "id": "0bb64508",
   "metadata": {},
   "outputs": [
    {
     "data": {
      "text/plain": [
       "{'input_features': (39, 80), 'attention_mask': (39,)}"
      ]
     },
     "execution_count": 76,
     "metadata": {},
     "output_type": "execute_result"
    }
   ],
   "source": [
    "encoded = feature_extractor(raw_speech, sampling_rate=sample_rate)\n",
    "{k:v[0].shape for k,v in encoded.items()}"
   ]
  },
  {
   "cell_type": "code",
   "execution_count": 77,
   "id": "a6e1fd9d",
   "metadata": {},
   "outputs": [
    {
     "data": {
      "text/plain": [
       "{'input_features': array([[[ 7.727417 ,  8.016721 ,  6.5607743, ...,  9.046635 ,\n",
       "          9.182222 ,  9.0145   ],\n",
       "        [ 7.3097887,  7.856609 ,  6.9497666, ..., 10.303231 ,\n",
       "          9.919563 ,  9.640942 ],\n",
       "        [ 8.720597 ,  9.217327 ,  8.735426 , ..., 10.997007 ,\n",
       "         10.655799 , 10.4858885],\n",
       "        ...,\n",
       "        [ 6.3238945,  5.873545 ,  5.3010244, ...,  8.013116 ,\n",
       "          7.8191676,  7.4225516],\n",
       "        [ 5.860345 ,  6.2634892,  5.6213355, ...,  7.804258 ,\n",
       "          7.6991596,  7.3007116],\n",
       "        [ 6.10927  ,  6.3839307,  5.984153 , ...,  7.819647 ,\n",
       "          7.6049223,  6.9310064]]], dtype=float32), 'attention_mask': [array([1, 1, 1, 1, 1, 1, 1, 1, 1, 1, 1, 1, 1, 1, 1, 1, 1, 1, 1, 1, 1, 1,\n",
       "       1, 1, 1, 1, 1, 1, 1, 1, 1, 1, 1, 1, 1, 1, 1, 1, 1], dtype=int32)]}"
      ]
     },
     "execution_count": 77,
     "metadata": {},
     "output_type": "execute_result"
    }
   ],
   "source": [
    "encoded"
   ]
  },
  {
   "cell_type": "code",
   "execution_count": null,
   "id": "f0f60d94",
   "metadata": {},
   "outputs": [],
   "source": []
  },
  {
   "cell_type": "code",
   "execution_count": 42,
   "id": "f44ff209",
   "metadata": {},
   "outputs": [
    {
     "data": {
      "text/plain": [
       "(40, 80)"
      ]
     },
     "execution_count": 42,
     "metadata": {},
     "output_type": "execute_result"
    }
   ],
   "source": [
    "fbank = np.load(\"/Users/matthijs/Documents/FILES/HuggingFace/SpeechT5/SpeechT5/SpeechT5/fbank.npy\")\n",
    "fbank.shape"
   ]
  },
  {
   "cell_type": "code",
   "execution_count": 43,
   "id": "1164f03a",
   "metadata": {},
   "outputs": [
    {
     "data": {
      "text/plain": [
       "<matplotlib.image.AxesImage at 0x7f86c0bc5b80>"
      ]
     },
     "execution_count": 43,
     "metadata": {},
     "output_type": "execute_result"
    },
    {
     "data": {
      "image/png": "[encoded data removed]",
      "text/plain": [
       "<Figure size 640x480 with 1 Axes>"
      ]
     },
     "metadata": {},
     "output_type": "display_data"
    }
   ],
   "source": [
    "plt.imshow(fbank)"
   ]
  },
  {
   "cell_type": "code",
   "execution_count": 79,
   "id": "92b31c6b",
   "metadata": {},
   "outputs": [
    {
     "data": {
      "text/plain": [
       "(-4.2309704, 0.15604725)"
      ]
     },
     "execution_count": 79,
     "metadata": {},
     "output_type": "execute_result"
    }
   ],
   "source": [
    "fbank.min(), fbank.max()"
   ]
  },
  {
   "cell_type": "code",
   "execution_count": 80,
   "id": "9abe71f8",
   "metadata": {},
   "outputs": [
    {
     "data": {
      "text/plain": [
       "<matplotlib.image.AxesImage at 0x7f8712b9d730>"
      ]
     },
     "execution_count": 80,
     "metadata": {},
     "output_type": "execute_result"
    },
    {
     "data": {
      "image/png": "[encoded data removed]",
      "text/plain": [
       "<Figure size 640x480 with 1 Axes>"
      ]
     },
     "metadata": {},
     "output_type": "display_data"
    }
   ],
   "source": [
    "plt.imshow(encoded[\"input_features\"][0])"
   ]
  },
  {
   "cell_type": "code",
   "execution_count": 81,
   "id": "b06f1324",
   "metadata": {},
   "outputs": [
    {
     "data": {
      "text/plain": [
       "(5.2308874, 13.056992)"
      ]
     },
     "execution_count": 81,
     "metadata": {},
     "output_type": "execute_result"
    }
   ],
   "source": [
    "encoded[\"input_features\"][0].min(), encoded[\"input_features\"][0].max()"
   ]
  },
  {
   "cell_type": "code",
   "execution_count": null,
   "id": "f3a23352",
   "metadata": {},
   "outputs": [],
   "source": []
  },
  {
   "cell_type": "code",
   "execution_count": 84,
   "id": "454632af",
   "metadata": {},
   "outputs": [
    {
     "data": {
      "text/plain": [
       "SpeechT5ProcessorForTextToSpeech:\n",
       "- feature_extractor: SpeechT5SpectrogramFeatureExtractor {\n",
       "  \"feature_extractor_type\": \"SpeechT5SpectrogramFeatureExtractor\",\n",
       "  \"feature_size\": 80,\n",
       "  \"num_mel_bins\": 80,\n",
       "  \"padding_side\": \"right\",\n",
       "  \"padding_value\": 0.0,\n",
       "  \"processor_class\": \"SpeechT5ProcessorForTextToSpeech\",\n",
       "  \"return_attention_mask\": true,\n",
       "  \"sampling_rate\": 16000\n",
       "}\n",
       "\n",
       "- tokenizer: PreTrainedTokenizer(name_or_path='/Users/matthijs/Documents/FILES/HuggingFace/SpeechT5/weights/speecht5_tts', vocab_size=79, model_max_len=600, is_fast=False, padding_side='right', truncation_side='right', special_tokens={'bos_token': '<s>', 'eos_token': '</s>', 'unk_token': '<unk>', 'pad_token': '<pad>'})"
      ]
     },
     "execution_count": 84,
     "metadata": {},
     "output_type": "execute_result"
    }
   ],
   "source": [
    "from transformers import AutoProcessor\n",
    "processor = AutoProcessor.from_pretrained(model_checkpoint)\n",
    "processor"
   ]
  },
  {
   "cell_type": "code",
   "execution_count": 91,
   "id": "c6cd0ba3",
   "metadata": {},
   "outputs": [
    {
     "data": {
      "text/plain": [
       "{'input_ids': tensor([[ 4, 35,  5, 22, 23,  4, 20, 11,  7,  6, 31, 12,  4, 16, 24, 23,  4, 35,\n",
       "         16, 21, 21, 10,  9, 21,  4, 55,  7, 17,  5, 41,  4, 32, 11, 10, 12,  4,\n",
       "         10, 12,  4, 34, 24,  5,  5, 17, 11,  4,  6,  5,  5,  4, 19, 10, 27,  5,\n",
       "          4,  6,  7, 15, 28, 10,  9, 21,  4,  6,  8,  4, 22,  8, 16,  4, 19,  8,\n",
       "         13,  4, 13,  5,  7, 15, 26]]), 'attention_mask': tensor([[1, 1, 1, 1, 1, 1, 1, 1, 1, 1, 1, 1, 1, 1, 1, 1, 1, 1, 1, 1, 1, 1, 1, 1,\n",
       "         1, 1, 1, 1, 1, 1, 1, 1, 1, 1, 1, 1, 1, 1, 1, 1, 1, 1, 1, 1, 1, 1, 1, 1,\n",
       "         1, 1, 1, 1, 1, 1, 1, 1, 1, 1, 1, 1, 1, 1, 1, 1, 1, 1, 1, 1, 1, 1, 1, 1,\n",
       "         1, 1, 1, 1, 1, 1, 1]])}"
      ]
     },
     "execution_count": 91,
     "metadata": {},
     "output_type": "execute_result"
    }
   ],
   "source": [
    "inputs_test = processor(text, padding=True, return_tensors=\"pt\")\n",
    "inputs_test"
   ]
  },
  {
   "cell_type": "code",
   "execution_count": 90,
   "id": "fd8e6da0",
   "metadata": {},
   "outputs": [
    {
     "data": {
      "text/plain": [
       "{'input_values': tensor([[[ 7.7274,  8.0167,  6.5608,  ...,  9.0466,  9.1822,  9.0145],\n",
       "         [ 7.3098,  7.8566,  6.9498,  ..., 10.3032,  9.9196,  9.6409],\n",
       "         [ 8.7206,  9.2173,  8.7354,  ..., 10.9970, 10.6558, 10.4859],\n",
       "         ...,\n",
       "         [ 6.3239,  5.8735,  5.3010,  ...,  8.0131,  7.8192,  7.4226],\n",
       "         [ 5.8603,  6.2635,  5.6213,  ...,  7.8043,  7.6992,  7.3007],\n",
       "         [ 6.1093,  6.3839,  5.9842,  ...,  7.8196,  7.6049,  6.9310]]]), 'attention_mask': tensor([[1, 1, 1, 1, 1, 1, 1, 1, 1, 1, 1, 1, 1, 1, 1, 1, 1, 1, 1, 1, 1, 1, 1, 1,\n",
       "         1, 1, 1, 1, 1, 1, 1, 1, 1, 1, 1, 1, 1, 1, 1]], dtype=torch.int32)}"
      ]
     },
     "execution_count": 90,
     "metadata": {},
     "output_type": "execute_result"
    }
   ],
   "source": [
    "inputs_test = processor(audio=raw_speech, sampling_rate=sample_rate, padding=True, return_tensors=\"pt\")\n",
    "inputs_test"
   ]
  },
  {
   "cell_type": "code",
   "execution_count": null,
   "id": "7f8d4d77",
   "metadata": {},
   "outputs": [],
   "source": []
  },
  {
   "cell_type": "code",
   "execution_count": null,
   "id": "b3c8eae8",
   "metadata": {},
   "outputs": [],
   "source": []
  },
  {
   "cell_type": "markdown",
   "id": "2205900b",
   "metadata": {},
   "source": [
    "## Load the Transformers model"
   ]
  },
  {
   "cell_type": "markdown",
   "id": "3bc8c0f8",
   "metadata": {},
   "source": [
    "To convert the original checkpoint weights to Transformers:\n",
    "\n",
    "First download the checkpoint from https://huggingface.co/mechanicalsea/speecht5-tts\n",
    "\n",
    "Then run the following, using your own `--checkpoint_path` and `--pytorch_dump_folder_path`:\n",
    "\n",
    "```nohighlight\n",
    "cd transformers/src/transformers/models/speecht5\n",
    "\n",
    "python convert_speecht5_original_pytorch_checkpoint_to_pytorch.py \\\n",
    "  --task t2s \\\n",
    "  --checkpoint_path /path/to/SpeechT5/speecht5_tts.pt\n",
    "  --pytorch_dump_folder_path /some/other/path\n",
    "```"
   ]
  },
  {
   "cell_type": "code",
   "execution_count": 21,
   "id": "552fd307",
   "metadata": {},
   "outputs": [],
   "source": [
    "from transformers import (\n",
    "    SpeechT5Config, \n",
    "    SpeechT5Processor,\n",
    "    SpeechT5Model, \n",
    "    SpeechT5ForTextToSpeech,\n",
    ")"
   ]
  },
  {
   "cell_type": "code",
   "execution_count": 22,
   "id": "69aa6aed",
   "metadata": {},
   "outputs": [],
   "source": [
    "# config = SpeechT5Config()\n",
    "# hf_model = SpeechT5Model(config)"
   ]
  },
  {
   "cell_type": "code",
   "execution_count": 23,
   "id": "1ba8f514",
   "metadata": {},
   "outputs": [],
   "source": [
    "model_checkpoint = \"/Users/matthijs/Documents/FILES/HuggingFace/SpeechT5/weights/speecht5_tts\""
   ]
  },
  {
   "cell_type": "code",
   "execution_count": 24,
   "id": "5df4bac3",
   "metadata": {},
   "outputs": [],
   "source": [
    "hf_model = SpeechT5ForTextToSpeech.from_pretrained(model_checkpoint)"
   ]
  },
  {
   "cell_type": "code",
   "execution_count": 25,
   "id": "b7dd7606",
   "metadata": {},
   "outputs": [
    {
     "data": {
      "text/plain": [
       "SpeechT5ForTextToSpeech(\n",
       "  (speecht5): SpeechT5Model(\n",
       "    (encoder): SpeechT5EncoderWithTextPrenet(\n",
       "      (prenet): SpeechT5TextEncoderPrenet(\n",
       "        (embed_tokens): Embedding(81, 768, padding_idx=1)\n",
       "        (encode_positions): SpeechT5ScaledPositionalEncoding(\n",
       "          (dropout): Dropout(p=0.1, inplace=False)\n",
       "        )\n",
       "      )\n",
       "      (wrapped_encoder): SpeechT5Encoder(\n",
       "        (layer_norm): LayerNorm((768,), eps=1e-05, elementwise_affine=True)\n",
       "        (dropout): Dropout(p=0.1, inplace=False)\n",
       "        (layers): ModuleList(\n",
       "          (0): SpeechT5EncoderLayer(\n",
       "            (attention): SpeechT5Attention(\n",
       "              (k_proj): Linear(in_features=768, out_features=768, bias=True)\n",
       "              (v_proj): Linear(in_features=768, out_features=768, bias=True)\n",
       "              (q_proj): Linear(in_features=768, out_features=768, bias=True)\n",
       "              (out_proj): Linear(in_features=768, out_features=768, bias=True)\n",
       "            )\n",
       "            (dropout): Dropout(p=0.1, inplace=False)\n",
       "            (layer_norm): LayerNorm((768,), eps=1e-05, elementwise_affine=True)\n",
       "            (feed_forward): SpeechT5FeedForward(\n",
       "              (intermediate_dropout): Dropout(p=0.1, inplace=False)\n",
       "              (intermediate_dense): Linear(in_features=768, out_features=3072, bias=True)\n",
       "              (intermediate_act_fn): GELUActivation()\n",
       "              (output_dense): Linear(in_features=3072, out_features=768, bias=True)\n",
       "              (output_dropout): Dropout(p=0.1, inplace=False)\n",
       "            )\n",
       "            (final_layer_norm): LayerNorm((768,), eps=1e-05, elementwise_affine=True)\n",
       "          )\n",
       "          (1): SpeechT5EncoderLayer(\n",
       "            (attention): SpeechT5Attention(\n",
       "              (k_proj): Linear(in_features=768, out_features=768, bias=True)\n",
       "              (v_proj): Linear(in_features=768, out_features=768, bias=True)\n",
       "              (q_proj): Linear(in_features=768, out_features=768, bias=True)\n",
       "              (out_proj): Linear(in_features=768, out_features=768, bias=True)\n",
       "            )\n",
       "            (dropout): Dropout(p=0.1, inplace=False)\n",
       "            (layer_norm): LayerNorm((768,), eps=1e-05, elementwise_affine=True)\n",
       "            (feed_forward): SpeechT5FeedForward(\n",
       "              (intermediate_dropout): Dropout(p=0.1, inplace=False)\n",
       "              (intermediate_dense): Linear(in_features=768, out_features=3072, bias=True)\n",
       "              (intermediate_act_fn): GELUActivation()\n",
       "              (output_dense): Linear(in_features=3072, out_features=768, bias=True)\n",
       "              (output_dropout): Dropout(p=0.1, inplace=False)\n",
       "            )\n",
       "            (final_layer_norm): LayerNorm((768,), eps=1e-05, elementwise_affine=True)\n",
       "          )\n",
       "          (2): SpeechT5EncoderLayer(\n",
       "            (attention): SpeechT5Attention(\n",
       "              (k_proj): Linear(in_features=768, out_features=768, bias=True)\n",
       "              (v_proj): Linear(in_features=768, out_features=768, bias=True)\n",
       "              (q_proj): Linear(in_features=768, out_features=768, bias=True)\n",
       "              (out_proj): Linear(in_features=768, out_features=768, bias=True)\n",
       "            )\n",
       "            (dropout): Dropout(p=0.1, inplace=False)\n",
       "            (layer_norm): LayerNorm((768,), eps=1e-05, elementwise_affine=True)\n",
       "            (feed_forward): SpeechT5FeedForward(\n",
       "              (intermediate_dropout): Dropout(p=0.1, inplace=False)\n",
       "              (intermediate_dense): Linear(in_features=768, out_features=3072, bias=True)\n",
       "              (intermediate_act_fn): GELUActivation()\n",
       "              (output_dense): Linear(in_features=3072, out_features=768, bias=True)\n",
       "              (output_dropout): Dropout(p=0.1, inplace=False)\n",
       "            )\n",
       "            (final_layer_norm): LayerNorm((768,), eps=1e-05, elementwise_affine=True)\n",
       "          )\n",
       "          (3): SpeechT5EncoderLayer(\n",
       "            (attention): SpeechT5Attention(\n",
       "              (k_proj): Linear(in_features=768, out_features=768, bias=True)\n",
       "              (v_proj): Linear(in_features=768, out_features=768, bias=True)\n",
       "              (q_proj): Linear(in_features=768, out_features=768, bias=True)\n",
       "              (out_proj): Linear(in_features=768, out_features=768, bias=True)\n",
       "            )\n",
       "            (dropout): Dropout(p=0.1, inplace=False)\n",
       "            (layer_norm): LayerNorm((768,), eps=1e-05, elementwise_affine=True)\n",
       "            (feed_forward): SpeechT5FeedForward(\n",
       "              (intermediate_dropout): Dropout(p=0.1, inplace=False)\n",
       "              (intermediate_dense): Linear(in_features=768, out_features=3072, bias=True)\n",
       "              (intermediate_act_fn): GELUActivation()\n",
       "              (output_dense): Linear(in_features=3072, out_features=768, bias=True)\n",
       "              (output_dropout): Dropout(p=0.1, inplace=False)\n",
       "            )\n",
       "            (final_layer_norm): LayerNorm((768,), eps=1e-05, elementwise_affine=True)\n",
       "          )\n",
       "          (4): SpeechT5EncoderLayer(\n",
       "            (attention): SpeechT5Attention(\n",
       "              (k_proj): Linear(in_features=768, out_features=768, bias=True)\n",
       "              (v_proj): Linear(in_features=768, out_features=768, bias=True)\n",
       "              (q_proj): Linear(in_features=768, out_features=768, bias=True)\n",
       "              (out_proj): Linear(in_features=768, out_features=768, bias=True)\n",
       "            )\n",
       "            (dropout): Dropout(p=0.1, inplace=False)\n",
       "            (layer_norm): LayerNorm((768,), eps=1e-05, elementwise_affine=True)\n",
       "            (feed_forward): SpeechT5FeedForward(\n",
       "              (intermediate_dropout): Dropout(p=0.1, inplace=False)\n",
       "              (intermediate_dense): Linear(in_features=768, out_features=3072, bias=True)\n",
       "              (intermediate_act_fn): GELUActivation()\n",
       "              (output_dense): Linear(in_features=3072, out_features=768, bias=True)\n",
       "              (output_dropout): Dropout(p=0.1, inplace=False)\n",
       "            )\n",
       "            (final_layer_norm): LayerNorm((768,), eps=1e-05, elementwise_affine=True)\n",
       "          )\n",
       "          (5): SpeechT5EncoderLayer(\n",
       "            (attention): SpeechT5Attention(\n",
       "              (k_proj): Linear(in_features=768, out_features=768, bias=True)\n",
       "              (v_proj): Linear(in_features=768, out_features=768, bias=True)\n",
       "              (q_proj): Linear(in_features=768, out_features=768, bias=True)\n",
       "              (out_proj): Linear(in_features=768, out_features=768, bias=True)\n",
       "            )\n",
       "            (dropout): Dropout(p=0.1, inplace=False)\n",
       "            (layer_norm): LayerNorm((768,), eps=1e-05, elementwise_affine=True)\n",
       "            (feed_forward): SpeechT5FeedForward(\n",
       "              (intermediate_dropout): Dropout(p=0.1, inplace=False)\n",
       "              (intermediate_dense): Linear(in_features=768, out_features=3072, bias=True)\n",
       "              (intermediate_act_fn): GELUActivation()\n",
       "              (output_dense): Linear(in_features=3072, out_features=768, bias=True)\n",
       "              (output_dropout): Dropout(p=0.1, inplace=False)\n",
       "            )\n",
       "            (final_layer_norm): LayerNorm((768,), eps=1e-05, elementwise_affine=True)\n",
       "          )\n",
       "          (6): SpeechT5EncoderLayer(\n",
       "            (attention): SpeechT5Attention(\n",
       "              (k_proj): Linear(in_features=768, out_features=768, bias=True)\n",
       "              (v_proj): Linear(in_features=768, out_features=768, bias=True)\n",
       "              (q_proj): Linear(in_features=768, out_features=768, bias=True)\n",
       "              (out_proj): Linear(in_features=768, out_features=768, bias=True)\n",
       "            )\n",
       "            (dropout): Dropout(p=0.1, inplace=False)\n",
       "            (layer_norm): LayerNorm((768,), eps=1e-05, elementwise_affine=True)\n",
       "            (feed_forward): SpeechT5FeedForward(\n",
       "              (intermediate_dropout): Dropout(p=0.1, inplace=False)\n",
       "              (intermediate_dense): Linear(in_features=768, out_features=3072, bias=True)\n",
       "              (intermediate_act_fn): GELUActivation()\n",
       "              (output_dense): Linear(in_features=3072, out_features=768, bias=True)\n",
       "              (output_dropout): Dropout(p=0.1, inplace=False)\n",
       "            )\n",
       "            (final_layer_norm): LayerNorm((768,), eps=1e-05, elementwise_affine=True)\n",
       "          )\n",
       "          (7): SpeechT5EncoderLayer(\n",
       "            (attention): SpeechT5Attention(\n",
       "              (k_proj): Linear(in_features=768, out_features=768, bias=True)\n",
       "              (v_proj): Linear(in_features=768, out_features=768, bias=True)\n",
       "              (q_proj): Linear(in_features=768, out_features=768, bias=True)\n",
       "              (out_proj): Linear(in_features=768, out_features=768, bias=True)\n",
       "            )\n",
       "            (dropout): Dropout(p=0.1, inplace=False)\n",
       "            (layer_norm): LayerNorm((768,), eps=1e-05, elementwise_affine=True)\n",
       "            (feed_forward): SpeechT5FeedForward(\n",
       "              (intermediate_dropout): Dropout(p=0.1, inplace=False)\n",
       "              (intermediate_dense): Linear(in_features=768, out_features=3072, bias=True)\n",
       "              (intermediate_act_fn): GELUActivation()\n",
       "              (output_dense): Linear(in_features=3072, out_features=768, bias=True)\n",
       "              (output_dropout): Dropout(p=0.1, inplace=False)\n",
       "            )\n",
       "            (final_layer_norm): LayerNorm((768,), eps=1e-05, elementwise_affine=True)\n",
       "          )\n",
       "          (8): SpeechT5EncoderLayer(\n",
       "            (attention): SpeechT5Attention(\n",
       "              (k_proj): Linear(in_features=768, out_features=768, bias=True)\n",
       "              (v_proj): Linear(in_features=768, out_features=768, bias=True)\n",
       "              (q_proj): Linear(in_features=768, out_features=768, bias=True)\n",
       "              (out_proj): Linear(in_features=768, out_features=768, bias=True)\n",
       "            )\n",
       "            (dropout): Dropout(p=0.1, inplace=False)\n",
       "            (layer_norm): LayerNorm((768,), eps=1e-05, elementwise_affine=True)\n",
       "            (feed_forward): SpeechT5FeedForward(\n",
       "              (intermediate_dropout): Dropout(p=0.1, inplace=False)\n",
       "              (intermediate_dense): Linear(in_features=768, out_features=3072, bias=True)\n",
       "              (intermediate_act_fn): GELUActivation()\n",
       "              (output_dense): Linear(in_features=3072, out_features=768, bias=True)\n",
       "              (output_dropout): Dropout(p=0.1, inplace=False)\n",
       "            )\n",
       "            (final_layer_norm): LayerNorm((768,), eps=1e-05, elementwise_affine=True)\n",
       "          )\n",
       "          (9): SpeechT5EncoderLayer(\n",
       "            (attention): SpeechT5Attention(\n",
       "              (k_proj): Linear(in_features=768, out_features=768, bias=True)\n",
       "              (v_proj): Linear(in_features=768, out_features=768, bias=True)\n",
       "              (q_proj): Linear(in_features=768, out_features=768, bias=True)\n",
       "              (out_proj): Linear(in_features=768, out_features=768, bias=True)\n",
       "            )\n",
       "            (dropout): Dropout(p=0.1, inplace=False)\n",
       "            (layer_norm): LayerNorm((768,), eps=1e-05, elementwise_affine=True)\n",
       "            (feed_forward): SpeechT5FeedForward(\n",
       "              (intermediate_dropout): Dropout(p=0.1, inplace=False)\n",
       "              (intermediate_dense): Linear(in_features=768, out_features=3072, bias=True)\n",
       "              (intermediate_act_fn): GELUActivation()\n",
       "              (output_dense): Linear(in_features=3072, out_features=768, bias=True)\n",
       "              (output_dropout): Dropout(p=0.1, inplace=False)\n",
       "            )\n",
       "            (final_layer_norm): LayerNorm((768,), eps=1e-05, elementwise_affine=True)\n",
       "          )\n",
       "          (10): SpeechT5EncoderLayer(\n",
       "            (attention): SpeechT5Attention(\n",
       "              (k_proj): Linear(in_features=768, out_features=768, bias=True)\n",
       "              (v_proj): Linear(in_features=768, out_features=768, bias=True)\n",
       "              (q_proj): Linear(in_features=768, out_features=768, bias=True)\n",
       "              (out_proj): Linear(in_features=768, out_features=768, bias=True)\n",
       "            )\n",
       "            (dropout): Dropout(p=0.1, inplace=False)\n",
       "            (layer_norm): LayerNorm((768,), eps=1e-05, elementwise_affine=True)\n",
       "            (feed_forward): SpeechT5FeedForward(\n",
       "              (intermediate_dropout): Dropout(p=0.1, inplace=False)\n",
       "              (intermediate_dense): Linear(in_features=768, out_features=3072, bias=True)\n",
       "              (intermediate_act_fn): GELUActivation()\n",
       "              (output_dense): Linear(in_features=3072, out_features=768, bias=True)\n",
       "              (output_dropout): Dropout(p=0.1, inplace=False)\n",
       "            )\n",
       "            (final_layer_norm): LayerNorm((768,), eps=1e-05, elementwise_affine=True)\n",
       "          )\n",
       "          (11): SpeechT5EncoderLayer(\n",
       "            (attention): SpeechT5Attention(\n",
       "              (k_proj): Linear(in_features=768, out_features=768, bias=True)\n",
       "              (v_proj): Linear(in_features=768, out_features=768, bias=True)\n",
       "              (q_proj): Linear(in_features=768, out_features=768, bias=True)\n",
       "              (out_proj): Linear(in_features=768, out_features=768, bias=True)\n",
       "            )\n",
       "            (dropout): Dropout(p=0.1, inplace=False)\n",
       "            (layer_norm): LayerNorm((768,), eps=1e-05, elementwise_affine=True)\n",
       "            (feed_forward): SpeechT5FeedForward(\n",
       "              (intermediate_dropout): Dropout(p=0.1, inplace=False)\n",
       "              (intermediate_dense): Linear(in_features=768, out_features=3072, bias=True)\n",
       "              (intermediate_act_fn): GELUActivation()\n",
       "              (output_dense): Linear(in_features=3072, out_features=768, bias=True)\n",
       "              (output_dropout): Dropout(p=0.1, inplace=False)\n",
       "            )\n",
       "            (final_layer_norm): LayerNorm((768,), eps=1e-05, elementwise_affine=True)\n",
       "          )\n",
       "        )\n",
       "        (embed_positions): SpeechT5RelativePositionalEncoding(\n",
       "          (pe_k): Embedding(320, 64)\n",
       "        )\n",
       "      )\n",
       "    )\n",
       "    (decoder): SpeechT5DecoderWithSpeechPrenet(\n",
       "      (prenet): SpeechT5SpeechDecoderPrenet(\n",
       "        (layer1): Linear(in_features=80, out_features=256, bias=True)\n",
       "        (layer2): Linear(in_features=256, out_features=256, bias=True)\n",
       "        (layer3): Linear(in_features=256, out_features=768, bias=True)\n",
       "        (encode_positions): SpeechT5ScaledPositionalEncoding(\n",
       "          (dropout): Dropout(p=0.1, inplace=False)\n",
       "        )\n",
       "        (speaker_embeds_layer): Linear(in_features=1280, out_features=768, bias=True)\n",
       "      )\n",
       "      (wrapped_decoder): SpeechT5Decoder(\n",
       "        (layers): ModuleList(\n",
       "          (0): SpeechT5DecoderLayer(\n",
       "            (self_attn): SpeechT5Attention(\n",
       "              (k_proj): Linear(in_features=768, out_features=768, bias=True)\n",
       "              (v_proj): Linear(in_features=768, out_features=768, bias=True)\n",
       "              (q_proj): Linear(in_features=768, out_features=768, bias=True)\n",
       "              (out_proj): Linear(in_features=768, out_features=768, bias=True)\n",
       "            )\n",
       "            (dropout): Dropout(p=0.1, inplace=False)\n",
       "            (self_attn_layer_norm): LayerNorm((768,), eps=1e-05, elementwise_affine=True)\n",
       "            (encoder_attn): SpeechT5Attention(\n",
       "              (k_proj): Linear(in_features=768, out_features=768, bias=True)\n",
       "              (v_proj): Linear(in_features=768, out_features=768, bias=True)\n",
       "              (q_proj): Linear(in_features=768, out_features=768, bias=True)\n",
       "              (out_proj): Linear(in_features=768, out_features=768, bias=True)\n",
       "            )\n",
       "            (encoder_attn_layer_norm): LayerNorm((768,), eps=1e-05, elementwise_affine=True)\n",
       "            (feed_forward): SpeechT5FeedForward(\n",
       "              (intermediate_dropout): Dropout(p=0.1, inplace=False)\n",
       "              (intermediate_dense): Linear(in_features=768, out_features=3072, bias=True)\n",
       "              (intermediate_act_fn): GELUActivation()\n",
       "              (output_dense): Linear(in_features=3072, out_features=768, bias=True)\n",
       "              (output_dropout): Dropout(p=0.1, inplace=False)\n",
       "            )\n",
       "            (final_layer_norm): LayerNorm((768,), eps=1e-05, elementwise_affine=True)\n",
       "          )\n",
       "          (1): SpeechT5DecoderLayer(\n",
       "            (self_attn): SpeechT5Attention(\n",
       "              (k_proj): Linear(in_features=768, out_features=768, bias=True)\n",
       "              (v_proj): Linear(in_features=768, out_features=768, bias=True)\n",
       "              (q_proj): Linear(in_features=768, out_features=768, bias=True)\n",
       "              (out_proj): Linear(in_features=768, out_features=768, bias=True)\n",
       "            )\n",
       "            (dropout): Dropout(p=0.1, inplace=False)\n",
       "            (self_attn_layer_norm): LayerNorm((768,), eps=1e-05, elementwise_affine=True)\n",
       "            (encoder_attn): SpeechT5Attention(\n",
       "              (k_proj): Linear(in_features=768, out_features=768, bias=True)\n",
       "              (v_proj): Linear(in_features=768, out_features=768, bias=True)\n",
       "              (q_proj): Linear(in_features=768, out_features=768, bias=True)\n",
       "              (out_proj): Linear(in_features=768, out_features=768, bias=True)\n",
       "            )\n",
       "            (encoder_attn_layer_norm): LayerNorm((768,), eps=1e-05, elementwise_affine=True)\n",
       "            (feed_forward): SpeechT5FeedForward(\n",
       "              (intermediate_dropout): Dropout(p=0.1, inplace=False)\n",
       "              (intermediate_dense): Linear(in_features=768, out_features=3072, bias=True)\n",
       "              (intermediate_act_fn): GELUActivation()\n",
       "              (output_dense): Linear(in_features=3072, out_features=768, bias=True)\n",
       "              (output_dropout): Dropout(p=0.1, inplace=False)\n",
       "            )\n",
       "            (final_layer_norm): LayerNorm((768,), eps=1e-05, elementwise_affine=True)\n",
       "          )\n",
       "          (2): SpeechT5DecoderLayer(\n",
       "            (self_attn): SpeechT5Attention(\n",
       "              (k_proj): Linear(in_features=768, out_features=768, bias=True)\n",
       "              (v_proj): Linear(in_features=768, out_features=768, bias=True)\n",
       "              (q_proj): Linear(in_features=768, out_features=768, bias=True)\n",
       "              (out_proj): Linear(in_features=768, out_features=768, bias=True)\n",
       "            )\n",
       "            (dropout): Dropout(p=0.1, inplace=False)\n",
       "            (self_attn_layer_norm): LayerNorm((768,), eps=1e-05, elementwise_affine=True)\n",
       "            (encoder_attn): SpeechT5Attention(\n",
       "              (k_proj): Linear(in_features=768, out_features=768, bias=True)\n",
       "              (v_proj): Linear(in_features=768, out_features=768, bias=True)\n",
       "              (q_proj): Linear(in_features=768, out_features=768, bias=True)\n",
       "              (out_proj): Linear(in_features=768, out_features=768, bias=True)\n",
       "            )\n",
       "            (encoder_attn_layer_norm): LayerNorm((768,), eps=1e-05, elementwise_affine=True)\n",
       "            (feed_forward): SpeechT5FeedForward(\n",
       "              (intermediate_dropout): Dropout(p=0.1, inplace=False)\n",
       "              (intermediate_dense): Linear(in_features=768, out_features=3072, bias=True)\n",
       "              (intermediate_act_fn): GELUActivation()\n",
       "              (output_dense): Linear(in_features=3072, out_features=768, bias=True)\n",
       "              (output_dropout): Dropout(p=0.1, inplace=False)\n",
       "            )\n",
       "            (final_layer_norm): LayerNorm((768,), eps=1e-05, elementwise_affine=True)\n",
       "          )\n",
       "          (3): SpeechT5DecoderLayer(\n",
       "            (self_attn): SpeechT5Attention(\n",
       "              (k_proj): Linear(in_features=768, out_features=768, bias=True)\n",
       "              (v_proj): Linear(in_features=768, out_features=768, bias=True)\n",
       "              (q_proj): Linear(in_features=768, out_features=768, bias=True)\n",
       "              (out_proj): Linear(in_features=768, out_features=768, bias=True)\n",
       "            )\n",
       "            (dropout): Dropout(p=0.1, inplace=False)\n",
       "            (self_attn_layer_norm): LayerNorm((768,), eps=1e-05, elementwise_affine=True)\n",
       "            (encoder_attn): SpeechT5Attention(\n",
       "              (k_proj): Linear(in_features=768, out_features=768, bias=True)\n",
       "              (v_proj): Linear(in_features=768, out_features=768, bias=True)\n",
       "              (q_proj): Linear(in_features=768, out_features=768, bias=True)\n",
       "              (out_proj): Linear(in_features=768, out_features=768, bias=True)\n",
       "            )\n",
       "            (encoder_attn_layer_norm): LayerNorm((768,), eps=1e-05, elementwise_affine=True)\n",
       "            (feed_forward): SpeechT5FeedForward(\n",
       "              (intermediate_dropout): Dropout(p=0.1, inplace=False)\n",
       "              (intermediate_dense): Linear(in_features=768, out_features=3072, bias=True)\n",
       "              (intermediate_act_fn): GELUActivation()\n",
       "              (output_dense): Linear(in_features=3072, out_features=768, bias=True)\n",
       "              (output_dropout): Dropout(p=0.1, inplace=False)\n",
       "            )\n",
       "            (final_layer_norm): LayerNorm((768,), eps=1e-05, elementwise_affine=True)\n",
       "          )\n",
       "          (4): SpeechT5DecoderLayer(\n",
       "            (self_attn): SpeechT5Attention(\n",
       "              (k_proj): Linear(in_features=768, out_features=768, bias=True)\n",
       "              (v_proj): Linear(in_features=768, out_features=768, bias=True)\n",
       "              (q_proj): Linear(in_features=768, out_features=768, bias=True)\n",
       "              (out_proj): Linear(in_features=768, out_features=768, bias=True)\n",
       "            )\n",
       "            (dropout): Dropout(p=0.1, inplace=False)\n",
       "            (self_attn_layer_norm): LayerNorm((768,), eps=1e-05, elementwise_affine=True)\n",
       "            (encoder_attn): SpeechT5Attention(\n",
       "              (k_proj): Linear(in_features=768, out_features=768, bias=True)\n",
       "              (v_proj): Linear(in_features=768, out_features=768, bias=True)\n",
       "              (q_proj): Linear(in_features=768, out_features=768, bias=True)\n",
       "              (out_proj): Linear(in_features=768, out_features=768, bias=True)\n",
       "            )\n",
       "            (encoder_attn_layer_norm): LayerNorm((768,), eps=1e-05, elementwise_affine=True)\n",
       "            (feed_forward): SpeechT5FeedForward(\n",
       "              (intermediate_dropout): Dropout(p=0.1, inplace=False)\n",
       "              (intermediate_dense): Linear(in_features=768, out_features=3072, bias=True)\n",
       "              (intermediate_act_fn): GELUActivation()\n",
       "              (output_dense): Linear(in_features=3072, out_features=768, bias=True)\n",
       "              (output_dropout): Dropout(p=0.1, inplace=False)\n",
       "            )\n",
       "            (final_layer_norm): LayerNorm((768,), eps=1e-05, elementwise_affine=True)\n",
       "          )\n",
       "          (5): SpeechT5DecoderLayer(\n",
       "            (self_attn): SpeechT5Attention(\n",
       "              (k_proj): Linear(in_features=768, out_features=768, bias=True)\n",
       "              (v_proj): Linear(in_features=768, out_features=768, bias=True)\n",
       "              (q_proj): Linear(in_features=768, out_features=768, bias=True)\n",
       "              (out_proj): Linear(in_features=768, out_features=768, bias=True)\n",
       "            )\n",
       "            (dropout): Dropout(p=0.1, inplace=False)\n",
       "            (self_attn_layer_norm): LayerNorm((768,), eps=1e-05, elementwise_affine=True)\n",
       "            (encoder_attn): SpeechT5Attention(\n",
       "              (k_proj): Linear(in_features=768, out_features=768, bias=True)\n",
       "              (v_proj): Linear(in_features=768, out_features=768, bias=True)\n",
       "              (q_proj): Linear(in_features=768, out_features=768, bias=True)\n",
       "              (out_proj): Linear(in_features=768, out_features=768, bias=True)\n",
       "            )\n",
       "            (encoder_attn_layer_norm): LayerNorm((768,), eps=1e-05, elementwise_affine=True)\n",
       "            (feed_forward): SpeechT5FeedForward(\n",
       "              (intermediate_dropout): Dropout(p=0.1, inplace=False)\n",
       "              (intermediate_dense): Linear(in_features=768, out_features=3072, bias=True)\n",
       "              (intermediate_act_fn): GELUActivation()\n",
       "              (output_dense): Linear(in_features=3072, out_features=768, bias=True)\n",
       "              (output_dropout): Dropout(p=0.1, inplace=False)\n",
       "            )\n",
       "            (final_layer_norm): LayerNorm((768,), eps=1e-05, elementwise_affine=True)\n",
       "          )\n",
       "        )\n",
       "      )\n",
       "    )\n",
       "  )\n",
       "  (speech_decoder_postnet): SpeechT5SpeechDecoderPostnet(\n",
       "    (feat_out): Linear(in_features=768, out_features=160, bias=True)\n",
       "    (prob_out): Linear(in_features=768, out_features=2, bias=True)\n",
       "    (layers): ModuleList(\n",
       "      (0): SpeechT5BatchNormConvLayer(\n",
       "        (conv): Conv1d(80, 256, kernel_size=(5,), stride=(1,), padding=(2,), bias=False)\n",
       "        (batch_norm): BatchNorm1d(256, eps=1e-05, momentum=0.1, affine=True, track_running_stats=True)\n",
       "        (activation): Tanh()\n",
       "        (dropout): Dropout(p=0.5, inplace=False)\n",
       "      )\n",
       "      (1): SpeechT5BatchNormConvLayer(\n",
       "        (conv): Conv1d(256, 256, kernel_size=(5,), stride=(1,), padding=(2,), bias=False)\n",
       "        (batch_norm): BatchNorm1d(256, eps=1e-05, momentum=0.1, affine=True, track_running_stats=True)\n",
       "        (activation): Tanh()\n",
       "        (dropout): Dropout(p=0.5, inplace=False)\n",
       "      )\n",
       "      (2): SpeechT5BatchNormConvLayer(\n",
       "        (conv): Conv1d(256, 256, kernel_size=(5,), stride=(1,), padding=(2,), bias=False)\n",
       "        (batch_norm): BatchNorm1d(256, eps=1e-05, momentum=0.1, affine=True, track_running_stats=True)\n",
       "        (activation): Tanh()\n",
       "        (dropout): Dropout(p=0.5, inplace=False)\n",
       "      )\n",
       "      (3): SpeechT5BatchNormConvLayer(\n",
       "        (conv): Conv1d(256, 256, kernel_size=(5,), stride=(1,), padding=(2,), bias=False)\n",
       "        (batch_norm): BatchNorm1d(256, eps=1e-05, momentum=0.1, affine=True, track_running_stats=True)\n",
       "        (activation): Tanh()\n",
       "        (dropout): Dropout(p=0.5, inplace=False)\n",
       "      )\n",
       "      (4): SpeechT5BatchNormConvLayer(\n",
       "        (conv): Conv1d(256, 80, kernel_size=(5,), stride=(1,), padding=(2,), bias=False)\n",
       "        (batch_norm): BatchNorm1d(80, eps=1e-05, momentum=0.1, affine=True, track_running_stats=True)\n",
       "        (dropout): Dropout(p=0.5, inplace=False)\n",
       "      )\n",
       "    )\n",
       "  )\n",
       ")"
      ]
     },
     "execution_count": 25,
     "metadata": {},
     "output_type": "execute_result"
    }
   ],
   "source": [
    "hf_model.eval()"
   ]
  },
  {
   "cell_type": "code",
   "execution_count": 35,
   "id": "09c1c4b9",
   "metadata": {
    "scrolled": true
   },
   "outputs": [
    {
     "name": "stderr",
     "output_type": "stream",
     "text": [
      "Some weights of the model checkpoint at /Users/matthijs/Documents/FILES/HuggingFace/SpeechT5/weights/speecht5_tts were not used when initializing SpeechT5Model: ['speech_decoder_postnet.layers.3.conv.weight', 'speech_decoder_postnet.layers.4.conv.weight', 'speecht5.decoder.prenet.layer2.bias', 'speecht5.decoder.prenet.encode_positions.pe', 'speecht5.encoder.prenet.encode_positions.pe', 'speecht5.decoder.prenet.layer1.weight', 'speech_decoder_postnet.layers.2.batch_norm.weight', 'speecht5.decoder.prenet.speaker_embeds_layer.bias', 'speech_decoder_postnet.layers.3.batch_norm.running_mean', 'speech_decoder_postnet.prob_out.bias', 'speech_decoder_postnet.layers.0.conv.weight', 'speech_decoder_postnet.layers.2.batch_norm.num_batches_tracked', 'speecht5.decoder.prenet.layer3.weight', 'speech_decoder_postnet.layers.3.batch_norm.weight', 'speech_decoder_postnet.layers.1.batch_norm.num_batches_tracked', 'speech_decoder_postnet.layers.1.conv.weight', 'speech_decoder_postnet.prob_out.weight', 'speech_decoder_postnet.layers.1.batch_norm.running_mean', 'speecht5.decoder.prenet.encode_positions.alpha', 'speech_decoder_postnet.layers.4.batch_norm.num_batches_tracked', 'speech_decoder_postnet.layers.1.batch_norm.bias', 'speecht5.encoder.prenet.encode_positions.alpha', 'speech_decoder_postnet.layers.0.batch_norm.num_batches_tracked', 'speech_decoder_postnet.layers.3.batch_norm.num_batches_tracked', 'speecht5.decoder.prenet.layer2.weight', 'speecht5.decoder.prenet.layer1.bias', 'speecht5.decoder.prenet.speaker_embeds_layer.weight', 'speech_decoder_postnet.layers.1.batch_norm.weight', 'speech_decoder_postnet.layers.4.batch_norm.weight', 'speech_decoder_postnet.layers.2.batch_norm.running_mean', 'speech_decoder_postnet.layers.3.batch_norm.running_var', 'speech_decoder_postnet.layers.4.batch_norm.running_var', 'speech_decoder_postnet.layers.0.batch_norm.running_var', 'speecht5.encoder.prenet.embed_tokens.weight', 'speech_decoder_postnet.feat_out.bias', 'speech_decoder_postnet.layers.2.batch_norm.bias', 'speech_decoder_postnet.layers.4.batch_norm.running_mean', 'speech_decoder_postnet.layers.2.conv.weight', 'speech_decoder_postnet.feat_out.weight', 'speecht5.decoder.prenet.layer3.bias', 'speech_decoder_postnet.layers.3.batch_norm.bias', 'speech_decoder_postnet.layers.4.batch_norm.bias', 'speech_decoder_postnet.layers.1.batch_norm.running_var', 'speech_decoder_postnet.layers.0.batch_norm.bias', 'speech_decoder_postnet.layers.0.batch_norm.weight', 'speech_decoder_postnet.layers.0.batch_norm.running_mean', 'speech_decoder_postnet.layers.2.batch_norm.running_var']\n",
      "- This IS expected if you are initializing SpeechT5Model from the checkpoint of a model trained on another task or with another architecture (e.g. initializing a BertForSequenceClassification model from a BertForPreTraining model).\n",
      "- This IS NOT expected if you are initializing SpeechT5Model from the checkpoint of a model that you expect to be exactly identical (initializing a BertForSequenceClassification model from a BertForSequenceClassification model).\n"
     ]
    }
   ],
   "source": [
    "# Loading should work OK for class `SpeechT5Model` too:\n",
    "hf_model_naked = SpeechT5Model.from_pretrained(model_checkpoint)"
   ]
  },
  {
   "cell_type": "markdown",
   "id": "64823660",
   "metadata": {},
   "source": [
    "## Load the original model"
   ]
  },
  {
   "cell_type": "markdown",
   "id": "1046bda1",
   "metadata": {},
   "source": [
    "See the script `generate_speech.py` from the SpeechT5 repo."
   ]
  },
  {
   "cell_type": "markdown",
   "id": "b1697ab0",
   "metadata": {},
   "source": [
    "Load the dictionary. This adds `<s>, <pad>, </s>, <unk>` tokens to the front and `<mask>` and `<ctc_blank>` to the end. **dict.txt** was [downloaded from here](https://drive.google.com/uc?export=download&id=19hcQ58RHZ6CssxF8Qp6yEF1NW_AXxObK). This is the Vocabulary link from the main SpeechT5 README."
   ]
  },
  {
   "cell_type": "code",
   "execution_count": 36,
   "id": "24e0f251",
   "metadata": {},
   "outputs": [
    {
     "name": "stdout",
     "output_type": "stream",
     "text": [
      "dictionary size: 81\n"
     ]
    }
   ],
   "source": [
    "from fairseq.data import Dictionary\n",
    "tgt_dict = Dictionary.load(\"/Users/matthijs/Documents/FILES/HuggingFace/SpeechT5/tryout/DATA_ROOT/dict.txt\")\n",
    "tgt_dict.add_symbol(\"<mask>\")\n",
    "tgt_dict.add_symbol(\"<ctc_blank>\")\n",
    "print(f\"dictionary size: \" f\"{len(tgt_dict):,}\")"
   ]
  },
  {
   "cell_type": "markdown",
   "id": "85935250",
   "metadata": {},
   "source": [
    "To load the model we need the `SpeechT5Task` object but constructing it is annoying. Fortunately, `build_model` only reads two properties from the task object, so we can fake it."
   ]
  },
  {
   "cell_type": "code",
   "execution_count": 37,
   "id": "ea4b4380",
   "metadata": {},
   "outputs": [],
   "source": [
    "class FakeTask:\n",
    "    def __init__(self):\n",
    "        self.dicts = { \"text\": tgt_dict }\n",
    "        self.t5_task = \"t2s\"\n",
    "        \n",
    "task = FakeTask()"
   ]
  },
  {
   "cell_type": "markdown",
   "id": "a5dc6c7a",
   "metadata": {},
   "source": [
    "Load the fine-tuned ASR model."
   ]
  },
  {
   "cell_type": "code",
   "execution_count": 38,
   "id": "a79fbfdf",
   "metadata": {},
   "outputs": [],
   "source": [
    "import torch\n",
    "from speecht5.models.speecht5 import T5TransformerModel"
   ]
  },
  {
   "cell_type": "code",
   "execution_count": 39,
   "id": "b9b2818e",
   "metadata": {},
   "outputs": [],
   "source": [
    "checkpoint = torch.load(\"../weights/speecht5-tts/speecht5_tts.pt\")\n",
    "\n",
    "orig_model = T5TransformerModel.build_model(checkpoint[\"cfg\"][\"model\"], task)\n",
    "\n",
    "orig_model.load_state_dict(checkpoint[\"model\"])\n",
    "orig_model = orig_model.eval()"
   ]
  },
  {
   "cell_type": "code",
   "execution_count": 40,
   "id": "bda7a201",
   "metadata": {},
   "outputs": [
    {
     "data": {
      "text/plain": [
       "speecht5.models.speecht5.T5TransformerModel"
      ]
     },
     "execution_count": 40,
     "metadata": {},
     "output_type": "execute_result"
    }
   ],
   "source": [
    "type(orig_model)"
   ]
  },
  {
   "cell_type": "code",
   "execution_count": 41,
   "id": "64d53b18",
   "metadata": {},
   "outputs": [
    {
     "data": {
      "text/plain": [
       "speecht5.models.modules.encoder.TransformerEncoder"
      ]
     },
     "execution_count": 41,
     "metadata": {},
     "output_type": "execute_result"
    }
   ],
   "source": [
    "type(orig_model.encoder)"
   ]
  },
  {
   "cell_type": "code",
   "execution_count": 42,
   "id": "bad44136",
   "metadata": {},
   "outputs": [],
   "source": [
    "#list(checkpoint[\"model\"].keys())"
   ]
  },
  {
   "cell_type": "code",
   "execution_count": 43,
   "id": "4c1faddb",
   "metadata": {},
   "outputs": [
    {
     "data": {
      "text/plain": [
       "fairseq.data.encoders.sentencepiece_bpe.SentencepieceBPE"
      ]
     },
     "execution_count": 43,
     "metadata": {},
     "output_type": "execute_result"
    }
   ],
   "source": [
    "from fairseq.data import encoders\n",
    "from argparse import Namespace\n",
    "tokenizer = encoders.build_bpe(\n",
    "    Namespace(\n",
    "        bpe='sentencepiece', \n",
    "        sentencepiece_model='/Users/matthijs/Documents/FILES/HuggingFace/SpeechT5/tryout/MODEL_DIR/spm_char.model'\n",
    "    )\n",
    ")\n",
    "type(tokenizer)"
   ]
  },
  {
   "cell_type": "code",
   "execution_count": 44,
   "id": "61dd5619",
   "metadata": {},
   "outputs": [],
   "source": [
    "# orig_model.decoder.layers[0].encoder_attn"
   ]
  },
  {
   "cell_type": "markdown",
   "id": "56503f04",
   "metadata": {
    "heading_collapsed": true
   },
   "source": [
    "## Verify text encoder prenet output"
   ]
  },
  {
   "cell_type": "markdown",
   "id": "42e2f9ff",
   "metadata": {
    "hidden": true
   },
   "source": [
    "The `text_encoder_prenet` converts the input tokens into embeddings of shape `(batch, sequence_length, 768)`."
   ]
  },
  {
   "cell_type": "code",
   "execution_count": 33,
   "id": "5e6cce50",
   "metadata": {
    "hidden": true
   },
   "outputs": [],
   "source": [
    "with torch.no_grad():\n",
    "    encoder_input, encoder_padding_mask = orig_model.text_encoder_prenet(src_tokens)"
   ]
  },
  {
   "cell_type": "code",
   "execution_count": 34,
   "id": "c3583a0f",
   "metadata": {
    "hidden": true
   },
   "outputs": [],
   "source": [
    "with torch.no_grad():\n",
    "    encoder_input, encoder_padding_mask = orig_model.text_encoder_prenet(input_ids_batch)"
   ]
  },
  {
   "cell_type": "code",
   "execution_count": 35,
   "id": "26c4a65d",
   "metadata": {
    "hidden": true
   },
   "outputs": [
    {
     "data": {
      "text/plain": [
       "(torch.Size([3, 79, 768]), torch.Size([3, 79]))"
      ]
     },
     "execution_count": 35,
     "metadata": {},
     "output_type": "execute_result"
    }
   ],
   "source": [
    "encoder_input.shape, encoder_padding_mask.shape"
   ]
  },
  {
   "cell_type": "code",
   "execution_count": 36,
   "id": "058de538",
   "metadata": {
    "hidden": true
   },
   "outputs": [
    {
     "data": {
      "text/plain": [
       "tensor([[[-0.0383,  0.0826,  0.0607,  ..., -0.0333, -0.1770,  0.0203],\n",
       "         [ 0.0857,  0.0239,  0.2346,  ...,  0.1588,  0.0084,  0.0664],\n",
       "         [ 0.0644,  0.0361,  0.2011,  ..., -0.0519, -0.1996,  0.0747],\n",
       "         ...,\n",
       "         [ 0.1361,  0.1569, -0.1022,  ...,  0.1605,  0.0147,  0.0804],\n",
       "         [ 0.2444, -0.0554, -0.0303,  ...,  0.0666,  0.0143, -0.0211],\n",
       "         [ 0.0408, -0.0834,  0.1128,  ...,  0.1641, -0.0404,  0.0649]],\n",
       "\n",
       "        [[-0.0383,  0.0826,  0.0607,  ..., -0.0333, -0.1770,  0.0203],\n",
       "         [ 0.0265, -0.0583,  0.1753,  ...,  0.1945, -0.0829,  0.0322],\n",
       "         [ 0.0574, -0.0665,  0.1584,  ..., -0.0333, -0.1770,  0.0203],\n",
       "         ...,\n",
       "         [ 0.0329,  0.0656, -0.0175,  ...,  0.1879, -0.0242,  0.1195],\n",
       "         [ 0.0786, -0.0244,  0.0573,  ...,  0.1879, -0.0242,  0.1195],\n",
       "         [ 0.0274, -0.1115,  0.1526,  ...,  0.1879, -0.0242,  0.1195]],\n",
       "\n",
       "        [[-0.0383,  0.0826,  0.0607,  ..., -0.0333, -0.1770,  0.0203],\n",
       "         [ 0.0857,  0.0239,  0.2346,  ...,  0.1588,  0.0084,  0.0664],\n",
       "         [ 0.0644,  0.0361,  0.2011,  ..., -0.0519, -0.1996,  0.0747],\n",
       "         ...,\n",
       "         [ 0.1361,  0.1569, -0.1022,  ...,  0.1605,  0.0147,  0.0804],\n",
       "         [ 0.2444, -0.0554, -0.0303,  ...,  0.0666,  0.0143, -0.0211],\n",
       "         [ 0.0408, -0.0834,  0.1128,  ...,  0.1641, -0.0404,  0.0649]]])"
      ]
     },
     "execution_count": 36,
     "metadata": {},
     "output_type": "execute_result"
    }
   ],
   "source": [
    "encoder_input"
   ]
  },
  {
   "cell_type": "code",
   "execution_count": 37,
   "id": "3c07884f",
   "metadata": {
    "hidden": true
   },
   "outputs": [
    {
     "data": {
      "text/plain": [
       "tensor([[False, False, False, False, False, False, False, False, False, False,\n",
       "         False, False, False, False, False, False, False, False, False, False,\n",
       "         False, False, False, False, False, False, False, False, False, False,\n",
       "         False, False, False, False, False, False, False, False, False, False,\n",
       "         False, False, False, False, False, False, False, False, False, False,\n",
       "         False, False, False, False, False, False, False, False, False, False,\n",
       "         False, False, False, False, False, False, False, False, False, False,\n",
       "         False, False, False, False, False, False, False, False, False],\n",
       "        [False, False, False, False, False, False, False, False, False, False,\n",
       "         False, False, False, False, False, False, False, False, False, False,\n",
       "         False, False, False,  True,  True,  True,  True,  True,  True,  True,\n",
       "          True,  True,  True,  True,  True,  True,  True,  True,  True,  True,\n",
       "          True,  True,  True,  True,  True,  True,  True,  True,  True,  True,\n",
       "          True,  True,  True,  True,  True,  True,  True,  True,  True,  True,\n",
       "          True,  True,  True,  True,  True,  True,  True,  True,  True,  True,\n",
       "          True,  True,  True,  True,  True,  True,  True,  True,  True],\n",
       "        [False, False, False, False, False, False, False, False, False, False,\n",
       "         False, False, False, False, False, False, False, False, False, False,\n",
       "         False, False, False, False, False, False, False, False, False, False,\n",
       "         False, False, False, False, False, False, False, False, False, False,\n",
       "         False, False, False, False, False, False, False, False, False, False,\n",
       "         False, False, False, False, False, False, False, False, False, False,\n",
       "         False, False, False, False, False, False, False, False, False, False,\n",
       "         False, False, False, False, False, False, False, False, False]])"
      ]
     },
     "execution_count": 37,
     "metadata": {},
     "output_type": "execute_result"
    }
   ],
   "source": [
    "encoder_padding_mask"
   ]
  },
  {
   "cell_type": "code",
   "execution_count": 38,
   "id": "7720e1b4",
   "metadata": {
    "hidden": true
   },
   "outputs": [
    {
     "data": {
      "text/plain": [
       "tensor(0.)"
      ]
     },
     "execution_count": 38,
     "metadata": {},
     "output_type": "execute_result"
    }
   ],
   "source": [
    "((1.0 - encoder_padding_mask * 1.0) - attention_mask_batch).sum()"
   ]
  },
  {
   "cell_type": "markdown",
   "id": "3e992b36",
   "metadata": {
    "hidden": true
   },
   "source": [
    "Run Hugging Face model:"
   ]
  },
  {
   "cell_type": "code",
   "execution_count": 39,
   "id": "1877608f",
   "metadata": {
    "hidden": true
   },
   "outputs": [
    {
     "data": {
      "text/plain": [
       "torch.Tensor"
      ]
     },
     "execution_count": 39,
     "metadata": {},
     "output_type": "execute_result"
    }
   ],
   "source": [
    "with torch.no_grad():\n",
    "     hf_outputs = hf_model.speecht5.encoder.prenet(src_tokens)\n",
    "\n",
    "type(hf_outputs)"
   ]
  },
  {
   "cell_type": "code",
   "execution_count": 40,
   "id": "86598818",
   "metadata": {
    "hidden": true
   },
   "outputs": [
    {
     "data": {
      "text/plain": [
       "torch.Tensor"
      ]
     },
     "execution_count": 40,
     "metadata": {},
     "output_type": "execute_result"
    }
   ],
   "source": [
    "with torch.no_grad():\n",
    "     hf_outputs = hf_model.speecht5.encoder.prenet(input_ids_batch)\n",
    "\n",
    "type(hf_outputs)"
   ]
  },
  {
   "cell_type": "code",
   "execution_count": 41,
   "id": "27750e48",
   "metadata": {
    "hidden": true
   },
   "outputs": [
    {
     "data": {
      "text/plain": [
       "torch.Size([3, 79, 768])"
      ]
     },
     "execution_count": 41,
     "metadata": {},
     "output_type": "execute_result"
    }
   ],
   "source": [
    "hf_outputs.shape"
   ]
  },
  {
   "cell_type": "code",
   "execution_count": 42,
   "id": "addc344c",
   "metadata": {
    "hidden": true
   },
   "outputs": [
    {
     "data": {
      "text/plain": [
       "tensor([[-0.0383,  0.0826,  0.0607,  ..., -0.0333, -0.1770,  0.0203],\n",
       "        [ 0.0857,  0.0239,  0.2346,  ...,  0.1588,  0.0084,  0.0664],\n",
       "        [ 0.0644,  0.0361,  0.2011,  ..., -0.0519, -0.1996,  0.0747],\n",
       "        ...,\n",
       "        [ 0.1361,  0.1569, -0.1022,  ...,  0.1605,  0.0147,  0.0804],\n",
       "        [ 0.2444, -0.0554, -0.0303,  ...,  0.0666,  0.0143, -0.0211],\n",
       "        [ 0.0408, -0.0834,  0.1128,  ...,  0.1641, -0.0404,  0.0649]])"
      ]
     },
     "execution_count": 42,
     "metadata": {},
     "output_type": "execute_result"
    }
   ],
   "source": [
    "hf_outputs[0]"
   ]
  },
  {
   "cell_type": "code",
   "execution_count": 43,
   "id": "adcd7a32",
   "metadata": {
    "hidden": true
   },
   "outputs": [],
   "source": [
    "hf_encoder_input = hf_outputs"
   ]
  },
  {
   "cell_type": "markdown",
   "id": "d2dbc6dd",
   "metadata": {
    "hidden": true
   },
   "source": [
    "If the weights and model were converted correctly, this should report zero or a very small number:"
   ]
  },
  {
   "cell_type": "code",
   "execution_count": 44,
   "id": "4b099ad3",
   "metadata": {
    "hidden": true
   },
   "outputs": [
    {
     "data": {
      "text/plain": [
       "tensor(0.)"
      ]
     },
     "execution_count": 44,
     "metadata": {},
     "output_type": "execute_result"
    }
   ],
   "source": [
    "torch.max(torch.abs(encoder_input - hf_outputs))"
   ]
  },
  {
   "cell_type": "code",
   "execution_count": 45,
   "id": "5533cb26",
   "metadata": {
    "hidden": true
   },
   "outputs": [
    {
     "data": {
      "text/plain": [
       "<matplotlib.image.AxesImage at 0x7fcb41b9bbb0>"
      ]
     },
     "execution_count": 45,
     "metadata": {},
     "output_type": "execute_result"
    },
    {
     "data": {
      "image/png": "[encoded data removed]",
      "text/plain": [
       "<Figure size 640x480 with 1 Axes>"
      ]
     },
     "metadata": {},
     "output_type": "display_data"
    }
   ],
   "source": [
    "plt.imshow(torch.abs(encoder_input - hf_outputs).numpy()[0])"
   ]
  },
  {
   "cell_type": "code",
   "execution_count": 46,
   "id": "ab556370",
   "metadata": {
    "hidden": true
   },
   "outputs": [],
   "source": [
    "# plt.imshow(torch.abs(encoder_input - hf_outputs).numpy()[1])"
   ]
  },
  {
   "cell_type": "markdown",
   "id": "8b76dc23",
   "metadata": {
    "heading_collapsed": true
   },
   "source": [
    "## Verify Transformer encoder output"
   ]
  },
  {
   "cell_type": "code",
   "execution_count": 46,
   "id": "47c86f72",
   "metadata": {
    "hidden": true
   },
   "outputs": [],
   "source": [
    "# Run it with the original's speech prenet input:\n",
    "with torch.no_grad():\n",
    "    encoder_output = orig_model.encoder(encoder_input, encoder_padding_mask)"
   ]
  },
  {
   "cell_type": "code",
   "execution_count": 47,
   "id": "41ff76cc",
   "metadata": {
    "hidden": true
   },
   "outputs": [
    {
     "name": "stdout",
     "output_type": "stream",
     "text": [
      "encoder_out shape torch.Size([79, 3, 768])\n",
      "encoder_padding_mask shape torch.Size([3, 79])\n",
      "encoder_states []\n",
      "src_tokens []\n",
      "decoder_input [None]\n",
      "encoder_out_for_ctc shape torch.Size([79, 3, 81])\n"
     ]
    }
   ],
   "source": [
    "print(\"encoder_out shape\", encoder_output[\"encoder_out\"][0].shape)\n",
    "print(\"encoder_padding_mask shape\", encoder_output[\"encoder_padding_mask\"][0].shape)\n",
    "print(\"encoder_states\", encoder_output[\"encoder_states\"])  # []\n",
    "print(\"src_tokens\", encoder_output[\"src_tokens\"])  # []\n",
    "print(\"decoder_input\", encoder_output[\"decoder_input\"])  # [None]\n",
    "print(\"encoder_out_for_ctc shape\", encoder_output[\"encoder_out_for_ctc\"][0].shape)"
   ]
  },
  {
   "cell_type": "code",
   "execution_count": 48,
   "id": "a38979d4",
   "metadata": {
    "hidden": true
   },
   "outputs": [
    {
     "data": {
      "text/plain": [
       "tensor([[[ 0.1216, -0.1223, -0.0161,  ...,  0.1346,  0.0016, -0.0969],\n",
       "         [-0.4308,  0.2260,  0.2156,  ..., -0.1011,  0.0140, -0.4570],\n",
       "         [-0.5038,  0.2883,  0.1684,  ...,  0.0300, -0.0678, -0.4736],\n",
       "         ...,\n",
       "         [ 0.4783, -0.1476, -0.0570,  ..., -0.2642, -0.6181,  0.2321],\n",
       "         [ 0.4313, -0.2115, -0.1195,  ..., -0.4216, -0.4153,  0.2950],\n",
       "         [ 0.0910, -0.0379,  0.1903,  ...,  0.0070, -0.1593, -0.0444]],\n",
       "\n",
       "        [[ 0.0905, -0.1641, -0.0431,  ...,  0.0498, -0.1105, -0.0655],\n",
       "         [-0.0920, -0.5321, -0.3698,  ..., -0.2545,  0.2266, -0.3704],\n",
       "         [-0.1659, -0.5388, -0.3071,  ..., -0.2132,  0.2163, -0.4686],\n",
       "         ...,\n",
       "         [-0.0044, -0.0316,  0.1062,  ..., -0.0323, -0.1612,  0.0196],\n",
       "         [-0.0057, -0.0386,  0.1017,  ..., -0.0345, -0.1654,  0.0178],\n",
       "         [-0.0060, -0.0436,  0.0920,  ..., -0.0345, -0.1679,  0.0209]],\n",
       "\n",
       "        [[ 0.1216, -0.1223, -0.0161,  ...,  0.1346,  0.0016, -0.0969],\n",
       "         [-0.4308,  0.2260,  0.2156,  ..., -0.1011,  0.0140, -0.4570],\n",
       "         [-0.5038,  0.2883,  0.1684,  ...,  0.0300, -0.0678, -0.4736],\n",
       "         ...,\n",
       "         [ 0.4783, -0.1476, -0.0570,  ..., -0.2642, -0.6181,  0.2321],\n",
       "         [ 0.4313, -0.2115, -0.1195,  ..., -0.4216, -0.4153,  0.2950],\n",
       "         [ 0.0910, -0.0379,  0.1903,  ...,  0.0070, -0.1593, -0.0444]]])"
      ]
     },
     "execution_count": 48,
     "metadata": {},
     "output_type": "execute_result"
    }
   ],
   "source": [
    "encoder_output[\"encoder_out\"][0].permute((1, 0, 2))"
   ]
  },
  {
   "cell_type": "code",
   "execution_count": 49,
   "id": "f9b9dda4",
   "metadata": {
    "hidden": true
   },
   "outputs": [],
   "source": [
    "# encoder_output[\"encoder_out_for_ctc\"][0].permute((1, 0, 2))"
   ]
  },
  {
   "cell_type": "code",
   "execution_count": 50,
   "id": "cde6dbda",
   "metadata": {
    "hidden": true
   },
   "outputs": [],
   "source": [
    "# Use exact same inputs as the original model:\n",
    "# with torch.no_grad():\n",
    "#      hf_outputs = hf_model.speecht5(\n",
    "#          inputs_embeds=encoder_input,\n",
    "#          attention_mask=(~encoder_padding_mask),\n",
    "#      )\n",
    "\n",
    "# type(hf_outputs)"
   ]
  },
  {
   "cell_type": "code",
   "execution_count": 51,
   "id": "fefcf62e",
   "metadata": {
    "hidden": true
   },
   "outputs": [
    {
     "data": {
      "text/plain": [
       "torch.Size([3, 79, 768])"
      ]
     },
     "execution_count": 51,
     "metadata": {},
     "output_type": "execute_result"
    }
   ],
   "source": [
    "hf_encoder_input.shape"
   ]
  },
  {
   "cell_type": "code",
   "execution_count": 52,
   "id": "28f529a5",
   "metadata": {
    "hidden": true
   },
   "outputs": [
    {
     "data": {
      "text/plain": [
       "transformers.modeling_outputs.BaseModelOutput"
      ]
     },
     "execution_count": 52,
     "metadata": {},
     "output_type": "execute_result"
    }
   ],
   "source": [
    "with torch.no_grad():\n",
    "     hf_outputs = hf_model.speecht5.encoder.wrapped_encoder(\n",
    "         hidden_states=hf_encoder_input,\n",
    "#          attention_mask=attention_mask,\n",
    "         attention_mask=attention_mask_batch,\n",
    "#          attention_mask=(1.0 - encoder_padding_mask * 1.0),\n",
    "         return_dict=True,\n",
    "     )\n",
    "\n",
    "type(hf_outputs)"
   ]
  },
  {
   "cell_type": "code",
   "execution_count": 53,
   "id": "fb12e71a",
   "metadata": {
    "hidden": true
   },
   "outputs": [
    {
     "data": {
      "text/plain": [
       "BaseModelOutput(last_hidden_state=tensor([[[ 0.1216, -0.1223, -0.0161,  ...,  0.1346,  0.0016, -0.0969],\n",
       "         [-0.4308,  0.2260,  0.2156,  ..., -0.1011,  0.0140, -0.4570],\n",
       "         [-0.5038,  0.2883,  0.1684,  ...,  0.0300, -0.0678, -0.4736],\n",
       "         ...,\n",
       "         [ 0.4783, -0.1476, -0.0570,  ..., -0.2642, -0.6181,  0.2321],\n",
       "         [ 0.4313, -0.2115, -0.1195,  ..., -0.4216, -0.4153,  0.2950],\n",
       "         [ 0.0910, -0.0379,  0.1903,  ...,  0.0070, -0.1593, -0.0444]],\n",
       "\n",
       "        [[ 0.0905, -0.1641, -0.0431,  ...,  0.0498, -0.1105, -0.0655],\n",
       "         [-0.0920, -0.5321, -0.3698,  ..., -0.2545,  0.2266, -0.3704],\n",
       "         [-0.1659, -0.5388, -0.3071,  ..., -0.2132,  0.2163, -0.4686],\n",
       "         ...,\n",
       "         [-0.0044, -0.0316,  0.1062,  ..., -0.0323, -0.1612,  0.0196],\n",
       "         [-0.0057, -0.0386,  0.1017,  ..., -0.0345, -0.1654,  0.0178],\n",
       "         [-0.0060, -0.0436,  0.0920,  ..., -0.0345, -0.1679,  0.0209]],\n",
       "\n",
       "        [[ 0.1216, -0.1223, -0.0161,  ...,  0.1346,  0.0016, -0.0969],\n",
       "         [-0.4308,  0.2260,  0.2156,  ..., -0.1011,  0.0140, -0.4570],\n",
       "         [-0.5038,  0.2883,  0.1684,  ...,  0.0300, -0.0678, -0.4736],\n",
       "         ...,\n",
       "         [ 0.4783, -0.1476, -0.0570,  ..., -0.2642, -0.6181,  0.2321],\n",
       "         [ 0.4313, -0.2115, -0.1195,  ..., -0.4216, -0.4153,  0.2950],\n",
       "         [ 0.0910, -0.0379,  0.1903,  ...,  0.0070, -0.1593, -0.0444]]]), hidden_states=None, attentions=None)"
      ]
     },
     "execution_count": 53,
     "metadata": {},
     "output_type": "execute_result"
    }
   ],
   "source": [
    "hf_outputs"
   ]
  },
  {
   "cell_type": "code",
   "execution_count": 54,
   "id": "06fb675b",
   "metadata": {
    "hidden": true
   },
   "outputs": [
    {
     "data": {
      "text/plain": [
       "['last_hidden_state']"
      ]
     },
     "execution_count": 54,
     "metadata": {},
     "output_type": "execute_result"
    }
   ],
   "source": [
    "list(hf_outputs.keys())"
   ]
  },
  {
   "cell_type": "code",
   "execution_count": 55,
   "id": "8fe9914e",
   "metadata": {
    "hidden": true
   },
   "outputs": [
    {
     "data": {
      "text/plain": [
       "torch.Size([3, 79, 768])"
      ]
     },
     "execution_count": 55,
     "metadata": {},
     "output_type": "execute_result"
    }
   ],
   "source": [
    "hf_outputs[\"last_hidden_state\"].shape"
   ]
  },
  {
   "cell_type": "code",
   "execution_count": 56,
   "id": "69eda6f0",
   "metadata": {
    "hidden": true
   },
   "outputs": [
    {
     "data": {
      "text/plain": [
       "tensor([[[ 0.1216, -0.1223, -0.0161,  ...,  0.1346,  0.0016, -0.0969],\n",
       "         [-0.4308,  0.2260,  0.2156,  ..., -0.1011,  0.0140, -0.4570],\n",
       "         [-0.5038,  0.2883,  0.1684,  ...,  0.0300, -0.0678, -0.4736],\n",
       "         ...,\n",
       "         [ 0.4783, -0.1476, -0.0570,  ..., -0.2642, -0.6181,  0.2321],\n",
       "         [ 0.4313, -0.2115, -0.1195,  ..., -0.4216, -0.4153,  0.2950],\n",
       "         [ 0.0910, -0.0379,  0.1903,  ...,  0.0070, -0.1593, -0.0444]],\n",
       "\n",
       "        [[ 0.0905, -0.1641, -0.0431,  ...,  0.0498, -0.1105, -0.0655],\n",
       "         [-0.0920, -0.5321, -0.3698,  ..., -0.2545,  0.2266, -0.3704],\n",
       "         [-0.1659, -0.5388, -0.3071,  ..., -0.2132,  0.2163, -0.4686],\n",
       "         ...,\n",
       "         [-0.0044, -0.0316,  0.1062,  ..., -0.0323, -0.1612,  0.0196],\n",
       "         [-0.0057, -0.0386,  0.1017,  ..., -0.0345, -0.1654,  0.0178],\n",
       "         [-0.0060, -0.0436,  0.0920,  ..., -0.0345, -0.1679,  0.0209]],\n",
       "\n",
       "        [[ 0.1216, -0.1223, -0.0161,  ...,  0.1346,  0.0016, -0.0969],\n",
       "         [-0.4308,  0.2260,  0.2156,  ..., -0.1011,  0.0140, -0.4570],\n",
       "         [-0.5038,  0.2883,  0.1684,  ...,  0.0300, -0.0678, -0.4736],\n",
       "         ...,\n",
       "         [ 0.4783, -0.1476, -0.0570,  ..., -0.2642, -0.6181,  0.2321],\n",
       "         [ 0.4313, -0.2115, -0.1195,  ..., -0.4216, -0.4153,  0.2950],\n",
       "         [ 0.0910, -0.0379,  0.1903,  ...,  0.0070, -0.1593, -0.0444]]])"
      ]
     },
     "execution_count": 56,
     "metadata": {},
     "output_type": "execute_result"
    }
   ],
   "source": [
    "hf_outputs[\"last_hidden_state\"]"
   ]
  },
  {
   "cell_type": "code",
   "execution_count": 57,
   "id": "a747e547",
   "metadata": {
    "hidden": true
   },
   "outputs": [
    {
     "data": {
      "text/plain": [
       "tensor(1.1921e-06)"
      ]
     },
     "execution_count": 57,
     "metadata": {},
     "output_type": "execute_result"
    }
   ],
   "source": [
    "torch.max(torch.abs(encoder_output[\"encoder_out\"][0].permute((1, 0, 2)) - hf_outputs[\"last_hidden_state\"]))"
   ]
  },
  {
   "cell_type": "markdown",
   "id": "51c46a9d",
   "metadata": {
    "hidden": true
   },
   "source": [
    "**Note:** When padding is used (in a batch), the difference is around 1e-6. This is probably because internally the padding mask is set to -3.4028e+38 where padding is used. I don't think the original model does it this way."
   ]
  },
  {
   "cell_type": "markdown",
   "id": "0c950849",
   "metadata": {
    "heading_collapsed": true
   },
   "source": [
    "## Full encoder"
   ]
  },
  {
   "cell_type": "code",
   "execution_count": 352,
   "id": "2f038415",
   "metadata": {
    "hidden": true
   },
   "outputs": [],
   "source": [
    "with torch.no_grad():\n",
    "    encoder_out = orig_model.forward_text_encoder(src_tokens)"
   ]
  },
  {
   "cell_type": "code",
   "execution_count": 69,
   "id": "2b73dfa6",
   "metadata": {
    "hidden": true
   },
   "outputs": [],
   "source": [
    "with torch.no_grad():\n",
    "    encoder_out = orig_model.forward_text_encoder(input_ids_batch)"
   ]
  },
  {
   "cell_type": "code",
   "execution_count": 70,
   "id": "28782edd",
   "metadata": {
    "hidden": true
   },
   "outputs": [
    {
     "data": {
      "text/plain": [
       "tensor([[[ 0.1216, -0.1223, -0.0161,  ...,  0.1346,  0.0016, -0.0969],\n",
       "         [-0.4308,  0.2260,  0.2156,  ..., -0.1011,  0.0140, -0.4570],\n",
       "         [-0.5038,  0.2883,  0.1684,  ...,  0.0300, -0.0678, -0.4736],\n",
       "         ...,\n",
       "         [ 0.4783, -0.1476, -0.0570,  ..., -0.2642, -0.6181,  0.2321],\n",
       "         [ 0.4313, -0.2115, -0.1195,  ..., -0.4216, -0.4153,  0.2950],\n",
       "         [ 0.0910, -0.0379,  0.1903,  ...,  0.0070, -0.1593, -0.0444]],\n",
       "\n",
       "        [[ 0.0905, -0.1641, -0.0431,  ...,  0.0498, -0.1105, -0.0655],\n",
       "         [-0.0920, -0.5321, -0.3698,  ..., -0.2545,  0.2266, -0.3704],\n",
       "         [-0.1659, -0.5388, -0.3071,  ..., -0.2132,  0.2163, -0.4686],\n",
       "         ...,\n",
       "         [-0.0044, -0.0316,  0.1062,  ..., -0.0323, -0.1612,  0.0196],\n",
       "         [-0.0057, -0.0386,  0.1017,  ..., -0.0345, -0.1654,  0.0178],\n",
       "         [-0.0060, -0.0436,  0.0920,  ..., -0.0345, -0.1679,  0.0209]],\n",
       "\n",
       "        [[ 0.1216, -0.1223, -0.0161,  ...,  0.1346,  0.0016, -0.0969],\n",
       "         [-0.4308,  0.2260,  0.2156,  ..., -0.1011,  0.0140, -0.4570],\n",
       "         [-0.5038,  0.2883,  0.1684,  ...,  0.0300, -0.0678, -0.4736],\n",
       "         ...,\n",
       "         [ 0.4783, -0.1476, -0.0570,  ..., -0.2642, -0.6181,  0.2321],\n",
       "         [ 0.4313, -0.2115, -0.1195,  ..., -0.4216, -0.4153,  0.2950],\n",
       "         [ 0.0910, -0.0379,  0.1903,  ...,  0.0070, -0.1593, -0.0444]]])"
      ]
     },
     "execution_count": 70,
     "metadata": {},
     "output_type": "execute_result"
    }
   ],
   "source": [
    "encoder_out[\"encoder_out\"][0].permute((1, 0, 2))"
   ]
  },
  {
   "cell_type": "code",
   "execution_count": 71,
   "id": "865dbb0e",
   "metadata": {
    "hidden": true
   },
   "outputs": [
    {
     "data": {
      "text/plain": [
       "torch.Size([3, 79, 768])"
      ]
     },
     "execution_count": 71,
     "metadata": {},
     "output_type": "execute_result"
    }
   ],
   "source": [
    "encoder_out[\"encoder_out\"][0].permute((1, 0, 2)).shape"
   ]
  },
  {
   "cell_type": "code",
   "execution_count": null,
   "id": "aea13537",
   "metadata": {
    "hidden": true
   },
   "outputs": [],
   "source": []
  },
  {
   "cell_type": "code",
   "execution_count": 356,
   "id": "33848c76",
   "metadata": {
    "hidden": true
   },
   "outputs": [
    {
     "data": {
      "text/plain": [
       "transformers.modeling_outputs.BaseModelOutput"
      ]
     },
     "execution_count": 356,
     "metadata": {},
     "output_type": "execute_result"
    }
   ],
   "source": [
    "with torch.no_grad():\n",
    "     hf_outputs = hf_model.speecht5.encoder(\n",
    "         input_values=src_tokens,\n",
    "         attention_mask=torch.ones_like(src_tokens),\n",
    "         return_dict=True,\n",
    "     )\n",
    "\n",
    "type(hf_outputs)"
   ]
  },
  {
   "cell_type": "code",
   "execution_count": 72,
   "id": "2af06347",
   "metadata": {
    "hidden": true
   },
   "outputs": [
    {
     "data": {
      "text/plain": [
       "transformers.modeling_outputs.BaseModelOutput"
      ]
     },
     "execution_count": 72,
     "metadata": {},
     "output_type": "execute_result"
    }
   ],
   "source": [
    "with torch.no_grad():\n",
    "     hf_outputs = hf_model.speecht5.encoder(\n",
    "         input_values=input_ids_batch,\n",
    "         #attention_mask=torch.ones_like(input_ids_batch),\n",
    "         attention_mask=attention_mask_batch,\n",
    "         return_dict=True,\n",
    "     )\n",
    "\n",
    "type(hf_outputs)"
   ]
  },
  {
   "cell_type": "code",
   "execution_count": 73,
   "id": "40060f6d",
   "metadata": {
    "hidden": true
   },
   "outputs": [
    {
     "data": {
      "text/plain": [
       "torch.Size([3, 79, 768])"
      ]
     },
     "execution_count": 73,
     "metadata": {},
     "output_type": "execute_result"
    }
   ],
   "source": [
    "hf_outputs.last_hidden_state.shape"
   ]
  },
  {
   "cell_type": "code",
   "execution_count": 74,
   "id": "3486fd24",
   "metadata": {
    "hidden": true,
    "scrolled": true
   },
   "outputs": [
    {
     "data": {
      "text/plain": [
       "tensor(1.1921e-06)"
      ]
     },
     "execution_count": 74,
     "metadata": {},
     "output_type": "execute_result"
    }
   ],
   "source": [
    "torch.max(torch.abs(encoder_out[\"encoder_out\"][0].permute((1, 0, 2)) - hf_outputs[\"last_hidden_state\"]))"
   ]
  },
  {
   "cell_type": "markdown",
   "id": "b17bb840",
   "metadata": {
    "heading_collapsed": true
   },
   "source": [
    "## Verify speech decoder prenet"
   ]
  },
  {
   "cell_type": "markdown",
   "id": "826b3fff",
   "metadata": {
    "hidden": true
   },
   "source": [
    "**NOTE:** From this point on, the outputs of the two models will not match because the speech decoder prenet *always* applies dropout, even when not training."
   ]
  },
  {
   "cell_type": "code",
   "execution_count": 75,
   "id": "e0950265",
   "metadata": {
    "hidden": true,
    "scrolled": true
   },
   "outputs": [
    {
     "data": {
      "text/plain": [
       "torch.Size([1, 1, 80])"
      ]
     },
     "execution_count": 75,
     "metadata": {},
     "output_type": "execute_result"
    }
   ],
   "source": [
    "ys = encoder_out[\"encoder_out\"][0].new_zeros(1, 1, orig_model.speech_decoder_postnet.odim)\n",
    "ys.shape"
   ]
  },
  {
   "cell_type": "code",
   "execution_count": 360,
   "id": "279a02a5",
   "metadata": {
    "hidden": true
   },
   "outputs": [],
   "source": [
    "ys = torch.randn(1, 1, 80)\n",
    "spkembs = torch.randn(1, 512)"
   ]
  },
  {
   "cell_type": "code",
   "execution_count": 457,
   "id": "730449dd",
   "metadata": {
    "hidden": true
   },
   "outputs": [],
   "source": [
    "ys = torch.randn(1, 100, 80)\n",
    "spkembs = torch.randn(1, 512)"
   ]
  },
  {
   "cell_type": "code",
   "execution_count": 2,
   "id": "8c1ee67e",
   "metadata": {
    "hidden": true
   },
   "outputs": [],
   "source": [
    "ys = torch.randn(3, 100, 80)\n",
    "spkembs = torch.randn(3, 512)"
   ]
  },
  {
   "cell_type": "code",
   "execution_count": 193,
   "id": "24f27af0",
   "metadata": {
    "hidden": true
   },
   "outputs": [],
   "source": [
    "#spkembs = None"
   ]
  },
  {
   "cell_type": "code",
   "execution_count": 16,
   "id": "fc99b511",
   "metadata": {
    "hidden": true
   },
   "outputs": [
    {
     "data": {
      "text/plain": [
       "torch.Size([3, 100, 768])"
      ]
     },
     "execution_count": 16,
     "metadata": {},
     "output_type": "execute_result"
    }
   ],
   "source": [
    "with torch.no_grad():\n",
    "    decoder_in, _ = orig_model.speech_decoder_prenet(ys, spkembs=spkembs)\n",
    "decoder_in.shape"
   ]
  },
  {
   "cell_type": "code",
   "execution_count": 17,
   "id": "86cf9ecd",
   "metadata": {
    "hidden": true
   },
   "outputs": [],
   "source": [
    "#decoder_in"
   ]
  },
  {
   "cell_type": "code",
   "execution_count": null,
   "id": "7a1cc023",
   "metadata": {
    "hidden": true
   },
   "outputs": [],
   "source": []
  },
  {
   "cell_type": "code",
   "execution_count": 18,
   "id": "77134734",
   "metadata": {
    "hidden": true
   },
   "outputs": [
    {
     "data": {
      "text/plain": [
       "torch.Size([3, 100, 768])"
      ]
     },
     "execution_count": 18,
     "metadata": {},
     "output_type": "execute_result"
    }
   ],
   "source": [
    "with torch.no_grad():\n",
    "     hf_outputs = hf_model.speecht5.decoder.prenet(\n",
    "         input_values=ys,\n",
    "         speaker_embeddings=spkembs,\n",
    "     )\n",
    "\n",
    "hf_outputs.shape"
   ]
  },
  {
   "cell_type": "code",
   "execution_count": 19,
   "id": "f7fc65dd",
   "metadata": {
    "hidden": true
   },
   "outputs": [
    {
     "data": {
      "text/plain": [
       "tensor(14.1602)"
      ]
     },
     "execution_count": 19,
     "metadata": {},
     "output_type": "execute_result"
    }
   ],
   "source": [
    "torch.max(torch.abs(decoder_in - hf_outputs))"
   ]
  },
  {
   "cell_type": "code",
   "execution_count": 22,
   "id": "ef8d7a7e",
   "metadata": {
    "hidden": true
   },
   "outputs": [],
   "source": [
    "# plt.imshow(decoder_in[0] - hf_outputs[0])"
   ]
  },
  {
   "cell_type": "code",
   "execution_count": null,
   "id": "59a1a3b2",
   "metadata": {
    "hidden": true
   },
   "outputs": [],
   "source": []
  },
  {
   "cell_type": "markdown",
   "id": "7fec354d",
   "metadata": {
    "heading_collapsed": true
   },
   "source": [
    "## Verify Transformer decoder output"
   ]
  },
  {
   "cell_type": "code",
   "execution_count": 110,
   "id": "559eb4d1",
   "metadata": {
    "hidden": true
   },
   "outputs": [
    {
     "data": {
      "text/plain": [
       "torch.Size([3, 100, 768])"
      ]
     },
     "execution_count": 110,
     "metadata": {},
     "output_type": "execute_result"
    }
   ],
   "source": [
    "prev_output_tokens = decoder_in\n",
    "prev_output_tokens.shape"
   ]
  },
  {
   "cell_type": "code",
   "execution_count": 96,
   "id": "2492babf",
   "metadata": {
    "hidden": true
   },
   "outputs": [
    {
     "data": {
      "text/plain": [
       "torch.Size([3, 1, 768])"
      ]
     },
     "execution_count": 96,
     "metadata": {},
     "output_type": "execute_result"
    }
   ],
   "source": [
    "prev_output_tokens = decoder_in[:, -1:]\n",
    "prev_output_tokens.shape"
   ]
  },
  {
   "cell_type": "code",
   "execution_count": 111,
   "id": "d516c43e",
   "metadata": {
    "hidden": true
   },
   "outputs": [],
   "source": [
    "tgt_mask = None"
   ]
  },
  {
   "cell_type": "code",
   "execution_count": 112,
   "id": "6229b43c",
   "metadata": {
    "hidden": true
   },
   "outputs": [],
   "source": [
    "with torch.no_grad():\n",
    "    decoder_output, extra = orig_model.decoder(\n",
    "        prev_output_tokens,\n",
    "        tgt_mask,\n",
    "        encoder_out=encoder_out,\n",
    "        incremental_state=None,\n",
    "        alignment_layer=-1,\n",
    "    )"
   ]
  },
  {
   "cell_type": "code",
   "execution_count": 113,
   "id": "0a190958",
   "metadata": {
    "hidden": true
   },
   "outputs": [
    {
     "data": {
      "text/plain": [
       "torch.Size([3, 100, 768])"
      ]
     },
     "execution_count": 113,
     "metadata": {},
     "output_type": "execute_result"
    }
   ],
   "source": [
    "decoder_output.shape"
   ]
  },
  {
   "cell_type": "code",
   "execution_count": 114,
   "id": "fea0351e",
   "metadata": {
    "hidden": true,
    "scrolled": true
   },
   "outputs": [],
   "source": [
    "# decoder_output"
   ]
  },
  {
   "cell_type": "code",
   "execution_count": 115,
   "id": "05117956",
   "metadata": {
    "hidden": true
   },
   "outputs": [],
   "source": [
    "#[x.shape for x in extra[\"attn\"]]"
   ]
  },
  {
   "cell_type": "code",
   "execution_count": 116,
   "id": "b593692b",
   "metadata": {
    "hidden": true
   },
   "outputs": [],
   "source": [
    "#[x.shape for x in extra[\"inner_states\"]]"
   ]
  },
  {
   "cell_type": "code",
   "execution_count": 117,
   "id": "0f4a7c0f",
   "metadata": {
    "hidden": true
   },
   "outputs": [
    {
     "data": {
      "text/plain": [
       "torch.Size([3, 100, 768])"
      ]
     },
     "execution_count": 117,
     "metadata": {},
     "output_type": "execute_result"
    }
   ],
   "source": [
    "prev_output_tokens.shape"
   ]
  },
  {
   "cell_type": "code",
   "execution_count": 118,
   "id": "9d486f4b",
   "metadata": {
    "hidden": true
   },
   "outputs": [
    {
     "data": {
      "text/plain": [
       "transformers.modeling_outputs.BaseModelOutputWithPastAndCrossAttentions"
      ]
     },
     "execution_count": 118,
     "metadata": {},
     "output_type": "execute_result"
    }
   ],
   "source": [
    "with torch.no_grad():\n",
    "     hf_outputs = hf_model.speecht5.decoder.wrapped_decoder(\n",
    "         hidden_states=prev_output_tokens,\n",
    "         attention_mask=None,\n",
    "         #attention_mask=torch.ones((prev_output_tokens.size(0), prev_output_tokens.size(1))), #decoder_attention_mask,\n",
    "         encoder_hidden_states=encoder_out[\"encoder_out\"][0].permute((1, 0, 2)),\n",
    "         encoder_attention_mask=(1.0 - encoder_out[\"encoder_padding_mask\"][0] * 1.0),\n",
    "         return_dict=True,\n",
    "     )\n",
    "\n",
    "type(hf_outputs)"
   ]
  },
  {
   "cell_type": "code",
   "execution_count": 119,
   "id": "ea512cc2",
   "metadata": {
    "hidden": true
   },
   "outputs": [
    {
     "data": {
      "text/plain": [
       "['last_hidden_state', 'past_key_values']"
      ]
     },
     "execution_count": 119,
     "metadata": {},
     "output_type": "execute_result"
    }
   ],
   "source": [
    "list(hf_outputs.keys())"
   ]
  },
  {
   "cell_type": "code",
   "execution_count": 120,
   "id": "d82c369a",
   "metadata": {
    "hidden": true
   },
   "outputs": [
    {
     "data": {
      "text/plain": [
       "torch.Size([3, 100, 768])"
      ]
     },
     "execution_count": 120,
     "metadata": {},
     "output_type": "execute_result"
    }
   ],
   "source": [
    "hf_outputs[\"last_hidden_state\"].shape"
   ]
  },
  {
   "cell_type": "code",
   "execution_count": 121,
   "id": "eb6282bc",
   "metadata": {
    "hidden": true
   },
   "outputs": [],
   "source": [
    "# hf_outputs[\"last_hidden_state\"]"
   ]
  },
  {
   "cell_type": "code",
   "execution_count": 122,
   "id": "f3e254cb",
   "metadata": {
    "hidden": true
   },
   "outputs": [
    {
     "data": {
      "text/plain": [
       "tensor(5.7220e-06)"
      ]
     },
     "execution_count": 122,
     "metadata": {},
     "output_type": "execute_result"
    }
   ],
   "source": [
    "torch.max(torch.abs(decoder_output - hf_outputs[\"last_hidden_state\"]))"
   ]
  },
  {
   "cell_type": "code",
   "execution_count": 123,
   "id": "e0d3d1fc",
   "metadata": {
    "hidden": true
   },
   "outputs": [
    {
     "data": {
      "text/plain": [
       "<matplotlib.image.AxesImage at 0x7fa21471b7c0>"
      ]
     },
     "execution_count": 123,
     "metadata": {},
     "output_type": "execute_result"
    },
    {
     "data": {
      "image/png": "[encoded data removed]",
      "text/plain": [
       "<Figure size 640x480 with 1 Axes>"
      ]
     },
     "metadata": {},
     "output_type": "display_data"
    }
   ],
   "source": [
    "plt.imshow((decoder_output - hf_outputs[\"last_hidden_state\"])[0])"
   ]
  },
  {
   "cell_type": "code",
   "execution_count": null,
   "id": "72dceba6",
   "metadata": {
    "hidden": true
   },
   "outputs": [],
   "source": []
  },
  {
   "cell_type": "markdown",
   "id": "ceec7dd9",
   "metadata": {
    "heading_collapsed": true
   },
   "source": [
    "## Full decoder"
   ]
  },
  {
   "cell_type": "code",
   "execution_count": 686,
   "id": "c1700a00",
   "metadata": {
    "hidden": true
   },
   "outputs": [],
   "source": [
    "with torch.no_grad():\n",
    "    encoder_out = orig_model.forward_text_encoder(src_tokens)\n",
    "    \n",
    "ys = torch.randn(1, 3, 80)\n",
    "#ys = torch.randn(1, 1, 80)    "
   ]
  },
  {
   "cell_type": "code",
   "execution_count": 124,
   "id": "d82a663d",
   "metadata": {
    "hidden": true
   },
   "outputs": [],
   "source": [
    "with torch.no_grad():\n",
    "    encoder_out = orig_model.forward_text_encoder(input_ids_batch)\n",
    "    \n",
    "# ys = torch.randn(3, 1, 80)\n",
    "# ys = torch.randn(3, 76, 80)\n",
    "ys = torch.zeros(3, 7, 80)"
   ]
  },
  {
   "cell_type": "code",
   "execution_count": 125,
   "id": "4146fa62",
   "metadata": {
    "hidden": true
   },
   "outputs": [],
   "source": [
    "spkembs = torch.randn(ys.size(0), 512)\n",
    "incremental_states = None"
   ]
  },
  {
   "cell_type": "code",
   "execution_count": 126,
   "id": "a91254be",
   "metadata": {
    "hidden": true
   },
   "outputs": [],
   "source": [
    "# with torch.no_grad():\n",
    "#     decoder_in, _ = orig_model.speech_decoder_prenet(ys, spkembs=spkembs)\n",
    "#     z, extra = orig_model.decoder(\n",
    "#         decoder_in[:,-1:], None, encoder_out, incremental_states, alignment_layer=-1\n",
    "#     )"
   ]
  },
  {
   "cell_type": "code",
   "execution_count": 127,
   "id": "36c4c798",
   "metadata": {
    "hidden": true
   },
   "outputs": [],
   "source": [
    "# Need to test this by padding the entire sequence into orig_model.decoder,\n",
    "# since that's what hf_model.speecht5.decoder does too.\n",
    "with torch.no_grad():\n",
    "    decoder_in, _ = orig_model.speech_decoder_prenet(ys, spkembs=spkembs)\n",
    "    z, extra = orig_model.decoder(\n",
    "        decoder_in, None, encoder_out, incremental_states, alignment_layer=-1\n",
    "    )"
   ]
  },
  {
   "cell_type": "code",
   "execution_count": 128,
   "id": "bd610771",
   "metadata": {
    "hidden": true
   },
   "outputs": [
    {
     "data": {
      "text/plain": [
       "(torch.Size([3, 7, 768]), torch.Size([3, 1, 768]))"
      ]
     },
     "execution_count": 128,
     "metadata": {},
     "output_type": "execute_result"
    }
   ],
   "source": [
    "decoder_in.shape, decoder_in[:,-1:].shape"
   ]
  },
  {
   "cell_type": "code",
   "execution_count": 129,
   "id": "c1f49894",
   "metadata": {
    "hidden": true
   },
   "outputs": [
    {
     "data": {
      "text/plain": [
       "torch.Size([3, 7, 768])"
      ]
     },
     "execution_count": 129,
     "metadata": {},
     "output_type": "execute_result"
    }
   ],
   "source": [
    "z.shape"
   ]
  },
  {
   "cell_type": "code",
   "execution_count": 130,
   "id": "6a048e44",
   "metadata": {
    "hidden": true
   },
   "outputs": [
    {
     "data": {
      "text/plain": [
       "transformers.modeling_outputs.BaseModelOutputWithPastAndCrossAttentions"
      ]
     },
     "execution_count": 130,
     "metadata": {},
     "output_type": "execute_result"
    }
   ],
   "source": [
    "with torch.no_grad():\n",
    "     hf_outputs = hf_model.speecht5.decoder(\n",
    "         input_values=ys,\n",
    "         #attention_mask=decoder_attention_mask,\n",
    "         encoder_hidden_states=encoder_out[\"encoder_out\"][0].permute((1, 0, 2)),\n",
    "#         encoder_attention_mask=(1.0 - encoder_out[\"encoder_padding_mask\"][0] * 1.0),\n",
    "         encoder_attention_mask=attention_mask_batch,\n",
    "         speaker_embeddings=spkembs,\n",
    "         return_dict=True,         \n",
    "     )\n",
    "\n",
    "type(hf_outputs)"
   ]
  },
  {
   "cell_type": "code",
   "execution_count": 131,
   "id": "6c4b72b1",
   "metadata": {
    "hidden": true
   },
   "outputs": [
    {
     "data": {
      "text/plain": [
       "torch.Size([3, 7, 768])"
      ]
     },
     "execution_count": 131,
     "metadata": {},
     "output_type": "execute_result"
    }
   ],
   "source": [
    "hf_outputs.last_hidden_state.shape"
   ]
  },
  {
   "cell_type": "code",
   "execution_count": 132,
   "id": "c119b515",
   "metadata": {
    "hidden": true
   },
   "outputs": [
    {
     "data": {
      "text/plain": [
       "tensor(2.3842e-06)"
      ]
     },
     "execution_count": 132,
     "metadata": {},
     "output_type": "execute_result"
    }
   ],
   "source": [
    "torch.max(torch.abs(z - hf_outputs[\"last_hidden_state\"]))"
   ]
  },
  {
   "cell_type": "code",
   "execution_count": 133,
   "id": "1f966f50",
   "metadata": {
    "hidden": true
   },
   "outputs": [
    {
     "name": "stdout",
     "output_type": "stream",
     "text": [
      "0 tensor(1.9073e-06)\n",
      "1 tensor(2.3842e-06)\n",
      "2 tensor(2.3842e-06)\n"
     ]
    }
   ],
   "source": [
    "for i in range(input_ids_batch.size(0)):\n",
    "    print(i, torch.max(torch.abs(z[i] - hf_outputs.last_hidden_state[i])))"
   ]
  },
  {
   "cell_type": "markdown",
   "id": "1d9113f7",
   "metadata": {
    "heading_collapsed": true
   },
   "source": [
    "## Verify speech decoder postnet output"
   ]
  },
  {
   "cell_type": "code",
   "execution_count": 134,
   "id": "16c82e7a",
   "metadata": {
    "hidden": true
   },
   "outputs": [
    {
     "data": {
      "text/plain": [
       "(torch.Size([3, 7, 768]), torch.Size([768]))"
      ]
     },
     "execution_count": 134,
     "metadata": {},
     "output_type": "execute_result"
    }
   ],
   "source": [
    "z.shape, z[0, -1].shape"
   ]
  },
  {
   "cell_type": "code",
   "execution_count": 135,
   "id": "110cd6dd",
   "metadata": {
    "hidden": true
   },
   "outputs": [],
   "source": [
    "#orig_model.speech_decoder_postnet"
   ]
  },
  {
   "cell_type": "code",
   "execution_count": 136,
   "id": "8e294ac6",
   "metadata": {
    "hidden": true
   },
   "outputs": [],
   "source": [
    "# hf_model.speech_decoder_postnet"
   ]
  },
  {
   "cell_type": "code",
   "execution_count": 137,
   "id": "a20be43c",
   "metadata": {
    "hidden": true
   },
   "outputs": [],
   "source": [
    "with torch.no_grad():\n",
    "    before_outs, after_outs, logits = orig_model.speech_decoder_postnet(z)  # z[:, -1])\n",
    "    \n",
    "    # before_outs = speech_decoder_postnet.feat_out(...)\n",
    "    # after_outs = final output\n",
    "    # logits = speech_decoder_postnet.prob_out(...)  for stop token"
   ]
  },
  {
   "cell_type": "code",
   "execution_count": 138,
   "id": "a7a143bf",
   "metadata": {
    "hidden": true
   },
   "outputs": [
    {
     "data": {
      "text/plain": [
       "(torch.Size([3, 14, 80]), torch.Size([3, 14, 80]), torch.Size([3, 14]))"
      ]
     },
     "execution_count": 138,
     "metadata": {},
     "output_type": "execute_result"
    }
   ],
   "source": [
    "before_outs.shape, after_outs.shape, logits.shape"
   ]
  },
  {
   "cell_type": "code",
   "execution_count": 139,
   "id": "7d6de14b",
   "metadata": {
    "hidden": true
   },
   "outputs": [
    {
     "data": {
      "text/plain": [
       "tensor([-24.1840, -10.6777, -22.3951, -12.5376, -22.7592, -11.0522, -22.7133,\n",
       "        -10.3976, -22.8957, -10.1333, -23.1024, -10.3960, -23.3082, -10.8343])"
      ]
     },
     "execution_count": 139,
     "metadata": {},
     "output_type": "execute_result"
    }
   ],
   "source": [
    "logits[0]"
   ]
  },
  {
   "cell_type": "code",
   "execution_count": 140,
   "id": "7ee9a8b7",
   "metadata": {
    "hidden": true
   },
   "outputs": [
    {
     "data": {
      "text/plain": [
       "torch.Size([3, 7, 768])"
      ]
     },
     "execution_count": 140,
     "metadata": {},
     "output_type": "execute_result"
    }
   ],
   "source": [
    "hf_outputs.last_hidden_state.shape"
   ]
  },
  {
   "cell_type": "code",
   "execution_count": 141,
   "id": "ba7571e7",
   "metadata": {
    "hidden": true
   },
   "outputs": [],
   "source": [
    "with torch.no_grad():\n",
    "    before_outs_hf, after_outs_hf, logits_hf = hf_model.speech_decoder_postnet(z)"
   ]
  },
  {
   "cell_type": "code",
   "execution_count": 142,
   "id": "5623a791",
   "metadata": {
    "hidden": true
   },
   "outputs": [
    {
     "data": {
      "text/plain": [
       "(torch.Size([3, 14, 80]), torch.Size([3, 14, 80]), torch.Size([3, 14]))"
      ]
     },
     "execution_count": 142,
     "metadata": {},
     "output_type": "execute_result"
    }
   ],
   "source": [
    "before_outs_hf.shape, after_outs_hf.shape, logits_hf.shape"
   ]
  },
  {
   "cell_type": "code",
   "execution_count": null,
   "id": "e230f4bf",
   "metadata": {
    "hidden": true
   },
   "outputs": [],
   "source": []
  },
  {
   "cell_type": "code",
   "execution_count": 143,
   "id": "6eeff463",
   "metadata": {
    "hidden": true
   },
   "outputs": [
    {
     "data": {
      "text/plain": [
       "tensor(0.)"
      ]
     },
     "execution_count": 143,
     "metadata": {},
     "output_type": "execute_result"
    }
   ],
   "source": [
    "torch.max(torch.abs(before_outs - before_outs_hf))"
   ]
  },
  {
   "cell_type": "code",
   "execution_count": 144,
   "id": "a0cb9d8e",
   "metadata": {
    "hidden": true
   },
   "outputs": [
    {
     "data": {
      "text/plain": [
       "tensor(0.)"
      ]
     },
     "execution_count": 144,
     "metadata": {},
     "output_type": "execute_result"
    }
   ],
   "source": [
    "torch.max(torch.abs(after_outs - after_outs_hf))"
   ]
  },
  {
   "cell_type": "code",
   "execution_count": 145,
   "id": "e8055eb3",
   "metadata": {
    "hidden": true
   },
   "outputs": [
    {
     "data": {
      "text/plain": [
       "tensor(0.)"
      ]
     },
     "execution_count": 145,
     "metadata": {},
     "output_type": "execute_result"
    }
   ],
   "source": [
    "torch.max(torch.abs(logits - logits_hf))"
   ]
  },
  {
   "cell_type": "code",
   "execution_count": null,
   "id": "24926eec",
   "metadata": {
    "hidden": true
   },
   "outputs": [],
   "source": []
  },
  {
   "cell_type": "markdown",
   "id": "b6d9d879",
   "metadata": {
    "heading_collapsed": true
   },
   "source": [
    "## Complete forward pass\n",
    "\n",
    "I think this is only used during training / fine-tuning, not inference."
   ]
  },
  {
   "cell_type": "code",
   "execution_count": 146,
   "id": "ddcce307",
   "metadata": {
    "hidden": true
   },
   "outputs": [],
   "source": [
    "spkembs = torch.randn((1, 512))\n",
    "\n",
    "with torch.no_grad():\n",
    "    hf_outputs = hf_model(\n",
    "        input_ids=src_tokens,\n",
    "        attention_mask=attention_mask,\n",
    "        decoder_input_values=torch.zeros((1, 7, 80)),\n",
    "        speaker_embeddings=spkembs,\n",
    "        return_dict=True\n",
    "    )"
   ]
  },
  {
   "cell_type": "code",
   "execution_count": 147,
   "id": "d06c7155",
   "metadata": {
    "hidden": true
   },
   "outputs": [
    {
     "data": {
      "text/plain": [
       "['logits', 'past_key_values', 'encoder_last_hidden_state']"
      ]
     },
     "execution_count": 147,
     "metadata": {},
     "output_type": "execute_result"
    }
   ],
   "source": [
    "list(hf_outputs.keys())"
   ]
  },
  {
   "cell_type": "code",
   "execution_count": 148,
   "id": "f784f8b5",
   "metadata": {
    "hidden": true
   },
   "outputs": [
    {
     "data": {
      "text/plain": [
       "torch.Size([1, 79, 768])"
      ]
     },
     "execution_count": 148,
     "metadata": {},
     "output_type": "execute_result"
    }
   ],
   "source": [
    "hf_outputs[\"encoder_last_hidden_state\"].shape"
   ]
  },
  {
   "cell_type": "code",
   "execution_count": 149,
   "id": "2ab9f732",
   "metadata": {
    "hidden": true
   },
   "outputs": [
    {
     "data": {
      "text/plain": [
       "torch.Size([1, 14, 80])"
      ]
     },
     "execution_count": 149,
     "metadata": {},
     "output_type": "execute_result"
    }
   ],
   "source": [
    "hf_outputs[\"logits\"].shape"
   ]
  },
  {
   "cell_type": "code",
   "execution_count": 150,
   "id": "23274a6a",
   "metadata": {
    "hidden": true
   },
   "outputs": [
    {
     "data": {
      "text/plain": [
       "<matplotlib.image.AxesImage at 0x7fa221660a30>"
      ]
     },
     "execution_count": 150,
     "metadata": {},
     "output_type": "execute_result"
    },
    {
     "data": {
      "image/png": "[encoded data removed]",
      "text/plain": [
       "<Figure size 640x480 with 1 Axes>"
      ]
     },
     "metadata": {},
     "output_type": "display_data"
    }
   ],
   "source": [
    "plt.imshow(hf_outputs[\"logits\"][0].T)"
   ]
  },
  {
   "cell_type": "code",
   "execution_count": 151,
   "id": "c8bc8dcc",
   "metadata": {
    "hidden": true
   },
   "outputs": [],
   "source": [
    "with torch.no_grad():\n",
    "    outputs = orig_model(\n",
    "        src_tokens=src_tokens,\n",
    "        prev_output_tokens=torch.zeros((1, 7, 80)),\n",
    "        spkembs=spkembs,        \n",
    "    )"
   ]
  },
  {
   "cell_type": "code",
   "execution_count": 152,
   "id": "ca8fe71f",
   "metadata": {
    "hidden": true
   },
   "outputs": [
    {
     "data": {
      "text/plain": [
       "torch.Size([1, 14, 80])"
      ]
     },
     "execution_count": 152,
     "metadata": {},
     "output_type": "execute_result"
    }
   ],
   "source": [
    "outputs[0].shape  # which one is this? (targets maybe?)"
   ]
  },
  {
   "cell_type": "code",
   "execution_count": 153,
   "id": "13f24ee2",
   "metadata": {
    "hidden": true
   },
   "outputs": [
    {
     "data": {
      "text/plain": [
       "tensor(0.)"
      ]
     },
     "execution_count": 153,
     "metadata": {},
     "output_type": "execute_result"
    }
   ],
   "source": [
    "torch.max(torch.abs(outputs[1] - hf_outputs[\"logits\"]))"
   ]
  },
  {
   "cell_type": "code",
   "execution_count": null,
   "id": "14b350bd",
   "metadata": {
    "hidden": true
   },
   "outputs": [],
   "source": []
  },
  {
   "cell_type": "markdown",
   "id": "2ffd4197",
   "metadata": {
    "hidden": true
   },
   "source": [
    "Batch:"
   ]
  },
  {
   "cell_type": "code",
   "execution_count": 10,
   "id": "e00c86be",
   "metadata": {
    "hidden": true
   },
   "outputs": [],
   "source": [
    "spkembs = torch.randn((input_ids_batch.size(0), 512))"
   ]
  },
  {
   "cell_type": "code",
   "execution_count": 11,
   "id": "234cc17a",
   "metadata": {
    "hidden": true
   },
   "outputs": [],
   "source": [
    "with torch.no_grad():\n",
    "    hf_outputs = hf_model(\n",
    "        input_ids=input_ids_batch,\n",
    "        attention_mask=attention_mask_batch,\n",
    "        decoder_input_values=torch.zeros((input_ids_batch.size(0), 7, 80)),\n",
    "        speaker_embeddings=spkembs,\n",
    "        return_dict=True\n",
    "    )"
   ]
  },
  {
   "cell_type": "code",
   "execution_count": 13,
   "id": "1249e334",
   "metadata": {
    "hidden": true
   },
   "outputs": [
    {
     "data": {
      "text/plain": [
       "transformers.modeling_outputs.Seq2SeqSpectrogramOutput"
      ]
     },
     "execution_count": 13,
     "metadata": {},
     "output_type": "execute_result"
    }
   ],
   "source": [
    "type(hf_outputs)"
   ]
  },
  {
   "cell_type": "code",
   "execution_count": 12,
   "id": "87781ad1",
   "metadata": {
    "hidden": true
   },
   "outputs": [
    {
     "data": {
      "text/plain": [
       "torch.Size([3, 14, 80])"
      ]
     },
     "execution_count": 12,
     "metadata": {},
     "output_type": "execute_result"
    }
   ],
   "source": [
    "hf_outputs[0].shape"
   ]
  },
  {
   "cell_type": "code",
   "execution_count": 157,
   "id": "2ed8b5df",
   "metadata": {
    "hidden": true
   },
   "outputs": [],
   "source": [
    "with torch.no_grad():\n",
    "    outputs = orig_model(\n",
    "        src_tokens=input_ids_batch,\n",
    "        prev_output_tokens=torch.zeros((input_ids_batch.size(0), 7, 80)),\n",
    "        spkembs=spkembs,        \n",
    "        #task_name=\"t2s\",\n",
    "    )"
   ]
  },
  {
   "cell_type": "code",
   "execution_count": 158,
   "id": "98396dc4",
   "metadata": {
    "hidden": true
   },
   "outputs": [
    {
     "data": {
      "text/plain": [
       "torch.Size([3, 14, 80])"
      ]
     },
     "execution_count": 158,
     "metadata": {},
     "output_type": "execute_result"
    }
   ],
   "source": [
    "outputs[1].shape"
   ]
  },
  {
   "cell_type": "code",
   "execution_count": 159,
   "id": "f42f7d8b",
   "metadata": {
    "hidden": true
   },
   "outputs": [
    {
     "name": "stdout",
     "output_type": "stream",
     "text": [
      "0 tensor(2.0266e-06)\n",
      "1 tensor(2.2650e-06)\n",
      "2 tensor(2.3916e-06)\n"
     ]
    }
   ],
   "source": [
    "for i in range(input_ids_batch.size(0)):\n",
    "    print(i, torch.max(torch.abs(outputs[1][i] - hf_outputs[\"logits\"][i])))"
   ]
  },
  {
   "cell_type": "code",
   "execution_count": 160,
   "id": "9e0782dd",
   "metadata": {
    "hidden": true
   },
   "outputs": [
    {
     "data": {
      "text/plain": [
       "<matplotlib.image.AxesImage at 0x7fa1a01b9fd0>"
      ]
     },
     "execution_count": 160,
     "metadata": {},
     "output_type": "execute_result"
    },
    {
     "data": {
      "image/png": "[encoded data removed]",
      "text/plain": [
       "<Figure size 640x480 with 1 Axes>"
      ]
     },
     "metadata": {},
     "output_type": "display_data"
    }
   ],
   "source": [
    "plt.imshow(hf_outputs[\"logits\"][1])"
   ]
  },
  {
   "cell_type": "code",
   "execution_count": 161,
   "id": "ba56b8b0",
   "metadata": {
    "hidden": true
   },
   "outputs": [
    {
     "data": {
      "text/plain": [
       "<matplotlib.image.AxesImage at 0x7fa2711e4880>"
      ]
     },
     "execution_count": 161,
     "metadata": {},
     "output_type": "execute_result"
    },
    {
     "data": {
      "image/png": "[encoded data removed]",
      "text/plain": [
       "<Figure size 640x480 with 1 Axes>"
      ]
     },
     "metadata": {},
     "output_type": "display_data"
    }
   ],
   "source": [
    "plt.imshow(outputs[1][1])"
   ]
  },
  {
   "cell_type": "code",
   "execution_count": 162,
   "id": "1605d0ea",
   "metadata": {
    "hidden": true
   },
   "outputs": [
    {
     "data": {
      "text/plain": [
       "<matplotlib.image.AxesImage at 0x7fa230389490>"
      ]
     },
     "execution_count": 162,
     "metadata": {},
     "output_type": "execute_result"
    },
    {
     "data": {
      "image/png": "[encoded data removed]",
      "text/plain": [
       "<Figure size 640x480 with 1 Axes>"
      ]
     },
     "metadata": {},
     "output_type": "display_data"
    }
   ],
   "source": [
    "plt.imshow(hf_outputs[\"logits\"][1] - outputs[1][1])"
   ]
  },
  {
   "cell_type": "code",
   "execution_count": null,
   "id": "b339e250",
   "metadata": {
    "hidden": true
   },
   "outputs": [],
   "source": []
  },
  {
   "cell_type": "markdown",
   "id": "dd6957a0",
   "metadata": {
    "hidden": true
   },
   "source": [
    "Without `input_ids` but previous encoder state:"
   ]
  },
  {
   "cell_type": "code",
   "execution_count": 163,
   "id": "3ebf5ed2",
   "metadata": {
    "hidden": true
   },
   "outputs": [],
   "source": [
    "encoder_last_hidden_state = hf_outputs.encoder_last_hidden_state"
   ]
  },
  {
   "cell_type": "code",
   "execution_count": 164,
   "id": "6160d9cb",
   "metadata": {
    "hidden": true
   },
   "outputs": [],
   "source": [
    "with torch.no_grad():\n",
    "    hf_outputs = hf_model(\n",
    "        encoder_outputs=(encoder_last_hidden_state,),\n",
    "        attention_mask=attention_mask_batch,\n",
    "        decoder_input_values=hf_outputs[\"logits\"], #torch.zeros((1, 10, 80)),\n",
    "        speaker_embeddings=torch.randn((encoder_last_hidden_state.size(0), 512)),\n",
    "        return_dict=True\n",
    "    )"
   ]
  },
  {
   "cell_type": "code",
   "execution_count": 165,
   "id": "b2675390",
   "metadata": {
    "hidden": true
   },
   "outputs": [
    {
     "data": {
      "text/plain": [
       "['logits', 'past_key_values', 'encoder_last_hidden_state']"
      ]
     },
     "execution_count": 165,
     "metadata": {},
     "output_type": "execute_result"
    }
   ],
   "source": [
    "list(hf_outputs.keys())"
   ]
  },
  {
   "cell_type": "code",
   "execution_count": 166,
   "id": "7c583962",
   "metadata": {
    "hidden": true
   },
   "outputs": [
    {
     "data": {
      "text/plain": [
       "torch.Size([3, 79, 768])"
      ]
     },
     "execution_count": 166,
     "metadata": {},
     "output_type": "execute_result"
    }
   ],
   "source": [
    "hf_outputs[\"encoder_last_hidden_state\"].shape"
   ]
  },
  {
   "cell_type": "code",
   "execution_count": 167,
   "id": "8463e13f",
   "metadata": {
    "hidden": true
   },
   "outputs": [
    {
     "data": {
      "text/plain": [
       "torch.Size([3, 28, 80])"
      ]
     },
     "execution_count": 167,
     "metadata": {},
     "output_type": "execute_result"
    }
   ],
   "source": [
    "hf_outputs[\"logits\"].shape"
   ]
  },
  {
   "cell_type": "code",
   "execution_count": 168,
   "id": "673c4c88",
   "metadata": {
    "hidden": true
   },
   "outputs": [
    {
     "data": {
      "text/plain": [
       "<matplotlib.image.AxesImage at 0x7fa2306fcdc0>"
      ]
     },
     "execution_count": 168,
     "metadata": {},
     "output_type": "execute_result"
    },
    {
     "data": {
      "image/png": "[encoded data removed]",
      "text/plain": [
       "<Figure size 640x480 with 1 Axes>"
      ]
     },
     "metadata": {},
     "output_type": "display_data"
    }
   ],
   "source": [
    "plt.imshow(hf_outputs[\"logits\"][0].T)"
   ]
  },
  {
   "cell_type": "code",
   "execution_count": null,
   "id": "ff354fce",
   "metadata": {
    "hidden": true
   },
   "outputs": [],
   "source": []
  },
  {
   "cell_type": "markdown",
   "id": "c9f3d81d",
   "metadata": {
    "hidden": true
   },
   "source": [
    "Calculate loss:"
   ]
  },
  {
   "cell_type": "code",
   "execution_count": null,
   "id": "96a00c6f",
   "metadata": {
    "hidden": true
   },
   "outputs": [],
   "source": [
    "with torch.no_grad():\n",
    "     hf_outputs = hf_model(\n",
    "         input_values=inputs.input_values,\n",
    "         attention_mask=inputs.attention_mask,\n",
    "         #decoder_input_ids=torch.tensor([[2,  4, 18, 10, 12,  6,  5]]),\n",
    "         labels=torch.tensor([[4, 18, 10, 12,  6,  5, 13]]),\n",
    "         #labels=torch.tensor([[4, 18, 10, 12,  6,  5, 13], [4, 18, 10, 12,  6,  5, 13]]),  # batch\n",
    "     )"
   ]
  },
  {
   "cell_type": "code",
   "execution_count": null,
   "id": "608ad7ac",
   "metadata": {
    "hidden": true
   },
   "outputs": [],
   "source": [
    "# TODO loss!"
   ]
  },
  {
   "cell_type": "code",
   "execution_count": null,
   "id": "fde93498",
   "metadata": {
    "hidden": true
   },
   "outputs": [],
   "source": []
  },
  {
   "cell_type": "markdown",
   "id": "394115d0",
   "metadata": {},
   "source": [
    "## Generating speech"
   ]
  },
  {
   "cell_type": "markdown",
   "id": "b949bb79",
   "metadata": {},
   "source": [
    "The original repo comes with a `generate_speech.py` script. This is used instead of the typical encoder-decoder generation loop.\n",
    "\n",
    "What this script does:\n",
    "\n",
    "- create SpeechT5 task\n",
    "- load the model checkpoint\n",
    "- load the dataset\n",
    "- create an iterator for the examples in the dataset\n",
    "- loop through the iterator and call `task.generate_speech()` on each example\n",
    "- save the predicted features to a numpy file\n",
    "- save some spectrogram plots\n",
    "\n",
    "The example that goes into `task.generate_speech()` is already tokenized. This is done by the dataset.\n",
    "\n",
    "`task.generate_speech()` calls `model.generate_speech()` on the T5TransformerModel.\n",
    "\n",
    "Dataset (`text_to_speech_dataset.py`):\n",
    "\n",
    "- `__getitem__`:\n",
    "    - calls `get_labels` which gets the text and tokenizes it\n",
    "    - calls `get_audio` to load the target audio file and converts it to log-mel spectrograms\n",
    "    - calls `get_features_or_waveform` to load the speaker embeddings from NumPy files (= 512-element vector)\n",
    "    \n",
    "- `collater`:\n",
    "    - thins out frames of the target spectrogram for reduction factor (= 2)\n",
    "    - creates `prev_output_tokens` by shifting the target spectrogram\n",
    "    - creates labels for stop token prediction (tensor with same size as spectrogram that is all zero except for final element, which is 1)\n",
    "    - pads everything to fit in a mini-batch\n",
    "\n",
    "We don't need the target audio."
   ]
  },
  {
   "cell_type": "code",
   "execution_count": 26,
   "id": "ac6c3d0a",
   "metadata": {},
   "outputs": [],
   "source": [
    "text = \"Hey, what's up, Hugging Face? This is Speech tee five talking to you for real.\""
   ]
  },
  {
   "cell_type": "code",
   "execution_count": 27,
   "id": "dc43c338",
   "metadata": {},
   "outputs": [
    {
     "data": {
      "text/plain": [
       "tensor([[ 4, 35,  5, 22, 23,  4, 20, 11,  7,  6, 31, 12,  4, 16, 24, 23,  4, 35,\n",
       "         16, 21, 21, 10,  9, 21,  4, 55,  7, 17,  5, 41,  4, 32, 11, 10, 12,  4,\n",
       "         10, 12,  4, 34, 24,  5,  5, 17, 11,  4,  6,  5,  5,  4, 19, 10, 27,  5,\n",
       "          4,  6,  7, 15, 28, 10,  9, 21,  4,  6,  8,  4, 22,  8, 16,  4, 19,  8,\n",
       "         13,  4, 13,  5,  7, 15, 26]], dtype=torch.int32)"
      ]
     },
     "execution_count": 27,
     "metadata": {},
     "output_type": "execute_result"
    }
   ],
   "source": [
    "label = tokenizer.encode(text)\n",
    "src_tokens = label_processor(label)\n",
    "src_tokens = src_tokens.unsqueeze(0)\n",
    "src_tokens"
   ]
  },
  {
   "cell_type": "code",
   "execution_count": 28,
   "id": "f7aa18ba",
   "metadata": {},
   "outputs": [
    {
     "data": {
      "text/plain": [
       "tensor([[ 4, 35,  5, 22, 23,  4, 20, 11,  7,  6, 31, 12,  4, 16, 24, 23,  4, 35,\n",
       "         16, 21, 21, 10,  9, 21,  4, 55,  7, 17,  5, 41,  4, 32, 11, 10, 12,  4,\n",
       "         10, 12,  4, 34, 24,  5,  5, 17, 11,  4,  6,  5,  5,  4, 19, 10, 27,  5,\n",
       "          4,  6,  7, 15, 28, 10,  9, 21,  4,  6,  8,  4, 22,  8, 16,  4, 19,  8,\n",
       "         13,  4, 13,  5,  7, 15, 26]])"
      ]
     },
     "execution_count": 28,
     "metadata": {},
     "output_type": "execute_result"
    }
   ],
   "source": [
    "src_tokens = hf_tokenizer(text, return_tensors=\"pt\")[\"input_ids\"]\n",
    "src_tokens"
   ]
  },
  {
   "cell_type": "code",
   "execution_count": 29,
   "id": "f7b0a239",
   "metadata": {},
   "outputs": [
    {
     "data": {
      "text/plain": [
       "torch.Size([1, 512])"
      ]
     },
     "execution_count": 29,
     "metadata": {},
     "output_type": "execute_result"
    }
   ],
   "source": [
    "# xvector = \"1272-128104.npy\"\n",
    "# xvector = \"711-187464.npy\"\n",
    "# spkembs_path = \"/Users/matthijs/Documents/FILES/HuggingFace/SpeechT5/tryout/AUDIO_DIR/dev_clean/xvectors/\" + xvector\n",
    "\n",
    "spkembs_path = \"/Users/matthijs/Downloads/LibriTTS_16k/spkrec-xvect/4992-23283-4992_23283_000025_000001.npy\"\n",
    "\n",
    "spkembs = torch.from_numpy(np.load(spkembs_path)).float()\n",
    "spkembs = spkembs.unsqueeze(0)\n",
    "spkembs.shape"
   ]
  },
  {
   "cell_type": "code",
   "execution_count": 30,
   "id": "0d4e5eff",
   "metadata": {},
   "outputs": [],
   "source": [
    "threshold = 0.5\n",
    "minlenratio = 0.0\n",
    "maxlenratio = 20.0\n",
    "reduction_factor = 2"
   ]
  },
  {
   "cell_type": "markdown",
   "id": "3e3cb030",
   "metadata": {
    "heading_collapsed": true
   },
   "source": [
    "### The loop from the original code"
   ]
  },
  {
   "cell_type": "code",
   "execution_count": 48,
   "id": "25d9872b",
   "metadata": {
    "hidden": true
   },
   "outputs": [
    {
     "data": {
      "text/plain": [
       "['encoder_out',\n",
       " 'encoder_padding_mask',\n",
       " 'encoder_states',\n",
       " 'src_tokens',\n",
       " 'decoder_input',\n",
       " 'encoder_out_for_ctc']"
      ]
     },
     "execution_count": 48,
     "metadata": {},
     "output_type": "execute_result"
    }
   ],
   "source": [
    "with torch.no_grad():\n",
    "    encoder_out = orig_model.forward_text_encoder(src_tokens)\n",
    "list(encoder_out.keys())"
   ]
  },
  {
   "cell_type": "markdown",
   "id": "017a4a02",
   "metadata": {
    "hidden": true
   },
   "source": [
    "This part is skipped, since `spk_embed_integration_type == \"pre\"`:"
   ]
  },
  {
   "cell_type": "raw",
   "id": "4fb4ad2a",
   "metadata": {
    "hidden": true
   },
   "source": [
    "if spkembs is not None and self.spk_embed_integration_type != \"pre\":\n",
    "    encoder_out[\"encoder_out\"] = [self._integrate_with_spk_embed(\n",
    "        encoder_out[\"encoder_out\"][0].transpose(0, 1), spkembs\n",
    "    ).transpose(0, 1)]\n",
    "    spkembs = None"
   ]
  },
  {
   "cell_type": "code",
   "execution_count": 40,
   "id": "6221c52b",
   "metadata": {
    "hidden": true
   },
   "outputs": [
    {
     "data": {
      "text/plain": [
       "(790, 0)"
      ]
     },
     "execution_count": 40,
     "metadata": {},
     "output_type": "execute_result"
    }
   ],
   "source": [
    "maxlen = int(encoder_out[\"encoder_out\"][0].size(0) * maxlenratio / reduction_factor)\n",
    "minlen = int(encoder_out[\"encoder_out\"][0].size(0) * minlenratio / reduction_factor)\n",
    "maxlen, minlen"
   ]
  },
  {
   "cell_type": "code",
   "execution_count": 41,
   "id": "73147aa5",
   "metadata": {
    "hidden": true
   },
   "outputs": [],
   "source": [
    "ys = encoder_out[\"encoder_out\"][0].new_zeros(1, 1, orig_model.speech_decoder_postnet.odim)\n",
    "\n",
    "outs, probs = [], []\n",
    "\n",
    "incremental_states = {}\n",
    "attns = []\n",
    "\n",
    "idx = 0\n",
    "\n",
    "# for debugging\n",
    "zs = []\n",
    "decoder_ins = []\n",
    "\n",
    "with torch.no_grad():\n",
    "    while True:\n",
    "        # update index\n",
    "        idx += 1\n",
    "\n",
    "        # calculate output and stop prob at idx-th step\n",
    "        decoder_in, _ = orig_model.speech_decoder_prenet(ys, spkembs=spkembs)\n",
    "        decoder_ins.append(decoder_in)\n",
    "        \n",
    "        z, extra = orig_model.decoder(\n",
    "            decoder_in[:, -1:], None, encoder_out, incremental_states, alignment_layer=-1\n",
    "        )\n",
    "        \n",
    "        zs.append(z)  # debugging only\n",
    "        \n",
    "        outs += [\n",
    "            orig_model.speech_decoder_postnet.feat_out(z[0, -1]).view(\n",
    "                reduction_factor, orig_model.speech_decoder_postnet.odim)\n",
    "        ]  # [(r, odim), ...]\n",
    "        \n",
    "        probs += [torch.sigmoid(orig_model.speech_decoder_postnet.prob_out(z[0, -1]))]  # [(r), ...]\n",
    "\n",
    "        # update next inputs\n",
    "        ys = torch.cat((ys, outs[-1][-1].view(1, 1, orig_model.speech_decoder_postnet.odim)), dim=1)  # (1, idx + 1, odim)\n",
    "        attns.append(torch.stack([att_l[0] for att_l in extra['attn'][0]], dim=0))\n",
    "        \n",
    "\n",
    "        # check whether to finish generation\n",
    "        if int(sum(probs[-1] >= threshold)) > 0 or idx >= maxlen:\n",
    "            # check mininum length\n",
    "            if idx < minlen:\n",
    "                continue\n",
    "            outs = (torch.cat(outs, dim=0).unsqueeze(0).transpose(1, 2))  # (L, odim) -> (1, L, odim) -> (1, odim, L)\n",
    "            \n",
    "            if orig_model.speech_decoder_postnet.postnet is not None:\n",
    "                outs = outs + orig_model.speech_decoder_postnet.postnet(outs)  # (1, odim, L)\n",
    "            outs = outs.transpose(2, 1).squeeze(0)  # (L, odim)\n",
    "            probs = torch.cat(probs, dim=0)\n",
    "            attn = torch.cat(attns, dim=2)\n",
    "            break\n",
    "\n",
    "    # if outs.size(0) == maxlen:\n",
    "    #     logging.warning(\"output length reaches maximum length\")\n",
    "    # return outs, probs, attn"
   ]
  },
  {
   "cell_type": "code",
   "execution_count": 42,
   "id": "01f5e049",
   "metadata": {
    "hidden": true
   },
   "outputs": [
    {
     "data": {
      "text/plain": [
       "125"
      ]
     },
     "execution_count": 42,
     "metadata": {},
     "output_type": "execute_result"
    }
   ],
   "source": [
    "idx"
   ]
  },
  {
   "cell_type": "code",
   "execution_count": 43,
   "id": "991c694b",
   "metadata": {
    "hidden": true
   },
   "outputs": [
    {
     "data": {
      "text/plain": [
       "(torch.Size([250, 80]), torch.Size([250]), torch.Size([6, 12, 125, 79]))"
      ]
     },
     "execution_count": 43,
     "metadata": {},
     "output_type": "execute_result"
    }
   ],
   "source": [
    "outs.shape, probs.shape, attn.shape"
   ]
  },
  {
   "cell_type": "code",
   "execution_count": 44,
   "id": "3e241d44",
   "metadata": {
    "hidden": true
   },
   "outputs": [],
   "source": [
    "# outs"
   ]
  },
  {
   "cell_type": "code",
   "execution_count": 45,
   "id": "49019a0d",
   "metadata": {
    "hidden": true
   },
   "outputs": [],
   "source": [
    "# probs"
   ]
  },
  {
   "cell_type": "code",
   "execution_count": 46,
   "id": "11e81e8b",
   "metadata": {
    "hidden": true
   },
   "outputs": [],
   "source": [
    "# np.save(\"/Users/matthijs/Documents/FILES/HuggingFace/SpeechT5/tryout/RESULTS_PATH_TTS/test-feats.npy\", outs)"
   ]
  },
  {
   "cell_type": "code",
   "execution_count": 47,
   "id": "ca9c058b",
   "metadata": {
    "hidden": true
   },
   "outputs": [
    {
     "data": {
      "text/plain": [
       "(246, 80)"
      ]
     },
     "execution_count": 47,
     "metadata": {},
     "output_type": "execute_result"
    }
   ],
   "source": [
    "output_from_orig = np.load(\"/Users/matthijs/Documents/FILES/HuggingFace/SpeechT5/tryout/RESULTS_PATH_TTS/1272-141231-0020-feats.npy\")\n",
    "output_from_orig.shape"
   ]
  },
  {
   "cell_type": "code",
   "execution_count": 48,
   "id": "8ea516b2",
   "metadata": {
    "hidden": true
   },
   "outputs": [
    {
     "data": {
      "text/plain": [
       "array([[-2.473754 , -2.6110775, -2.6744287, ..., -3.4291997, -3.4861205,\n",
       "        -3.7170238],\n",
       "       [-2.3763716, -2.483789 , -2.5290115, ..., -3.335082 , -3.3697302,\n",
       "        -3.658468 ],\n",
       "       [-2.2457216, -2.3389206, -2.3680828, ..., -3.2389064, -3.2980084,\n",
       "        -3.5808692],\n",
       "       ...,\n",
       "       [-1.9134729, -1.4292057, -0.9842132, ..., -3.1504958, -3.1947155,\n",
       "        -3.484864 ],\n",
       "       [-2.0729182, -1.583269 , -1.2519165, ..., -3.1911037, -3.2313066,\n",
       "        -3.508048 ],\n",
       "       [-2.2312534, -1.8440536, -1.6086199, ..., -3.1966043, -3.2362816,\n",
       "        -3.5100303]], dtype=float32)"
      ]
     },
     "execution_count": 48,
     "metadata": {},
     "output_type": "execute_result"
    }
   ],
   "source": [
    "output_from_orig"
   ]
  },
  {
   "cell_type": "code",
   "execution_count": 49,
   "id": "f5c169b5",
   "metadata": {
    "hidden": true
   },
   "outputs": [
    {
     "ename": "ValueError",
     "evalue": "operands could not be broadcast together with shapes (246,80) (250,80) ",
     "output_type": "error",
     "traceback": [
      "\u001b[0;31m---------------------------------------------------------------------------\u001b[0m",
      "\u001b[0;31mValueError\u001b[0m                                Traceback (most recent call last)",
      "Input \u001b[0;32mIn [49]\u001b[0m, in \u001b[0;36m<cell line: 1>\u001b[0;34m()\u001b[0m\n\u001b[0;32m----> 1\u001b[0m np\u001b[38;5;241m.\u001b[39mmax(np\u001b[38;5;241m.\u001b[39mabs(\u001b[43moutput_from_orig\u001b[49m\u001b[43m \u001b[49m\u001b[38;5;241;43m-\u001b[39;49m\u001b[43m \u001b[49m\u001b[43mouts\u001b[49m\u001b[38;5;241;43m.\u001b[39;49m\u001b[43mnumpy\u001b[49m\u001b[43m(\u001b[49m\u001b[43m)\u001b[49m))\n",
      "\u001b[0;31mValueError\u001b[0m: operands could not be broadcast together with shapes (246,80) (250,80) "
     ]
    }
   ],
   "source": [
    "np.max(np.abs(output_from_orig - outs.numpy()))"
   ]
  },
  {
   "cell_type": "code",
   "execution_count": null,
   "id": "b130612e",
   "metadata": {
    "hidden": true
   },
   "outputs": [],
   "source": []
  },
  {
   "cell_type": "markdown",
   "id": "a909eb1e",
   "metadata": {},
   "source": [
    "### The loop using the HF model"
   ]
  },
  {
   "cell_type": "code",
   "execution_count": 31,
   "id": "d3472af0",
   "metadata": {},
   "outputs": [],
   "source": [
    "outs_hf = hf_model.generate_speech(src_tokens, spkembs, vocoder=None)"
   ]
  },
  {
   "cell_type": "code",
   "execution_count": 32,
   "id": "a6c22adf",
   "metadata": {
    "scrolled": true
   },
   "outputs": [
    {
     "data": {
      "text/plain": [
       "torch.Size([260, 80])"
      ]
     },
     "execution_count": 32,
     "metadata": {},
     "output_type": "execute_result"
    }
   ],
   "source": [
    "outs_hf.shape"
   ]
  },
  {
   "cell_type": "code",
   "execution_count": null,
   "id": "3bb04cba",
   "metadata": {},
   "outputs": [],
   "source": []
  },
  {
   "cell_type": "code",
   "execution_count": 33,
   "id": "7d087a91",
   "metadata": {},
   "outputs": [],
   "source": [
    "from transformers import SpeechT5HiFiGAN\n",
    "\n",
    "vocoder = SpeechT5HiFiGAN.from_pretrained(\"/Users/matthijs/Documents/FILES/HuggingFace/SpeechT5/weights/hifigan\")"
   ]
  },
  {
   "cell_type": "code",
   "execution_count": null,
   "id": "ce3c1c9c",
   "metadata": {},
   "outputs": [],
   "source": []
  },
  {
   "cell_type": "code",
   "execution_count": 34,
   "id": "23fa63b7",
   "metadata": {},
   "outputs": [],
   "source": [
    "outs_hf = hf_model.generate_speech(src_tokens, spkembs, vocoder=vocoder)"
   ]
  },
  {
   "cell_type": "code",
   "execution_count": 35,
   "id": "b10a973b",
   "metadata": {},
   "outputs": [
    {
     "data": {
      "text/plain": [
       "torch.Size([67072])"
      ]
     },
     "execution_count": 35,
     "metadata": {},
     "output_type": "execute_result"
    }
   ],
   "source": [
    "outs_hf.shape"
   ]
  },
  {
   "cell_type": "code",
   "execution_count": 36,
   "id": "3aa57a34",
   "metadata": {},
   "outputs": [
    {
     "data": {
      "text/plain": [
       "[<matplotlib.lines.Line2D at 0x7f9833640520>]"
      ]
     },
     "execution_count": 36,
     "metadata": {},
     "output_type": "execute_result"
    },
    {
     "data": {
      "image/png": "[encoded data removed]",
      "text/plain": [
       "<Figure size 640x480 with 1 Axes>"
      ]
     },
     "metadata": {},
     "output_type": "display_data"
    }
   ],
   "source": [
    "plt.plot(outs_hf.view(-1))"
   ]
  },
  {
   "cell_type": "code",
   "execution_count": 39,
   "id": "8a3c9953",
   "metadata": {},
   "outputs": [],
   "source": [
    "import soundfile as sf\n",
    "sf.write(\"../gen.wav\", outs_hf.cpu().numpy(), 16000, \"PCM_16\")"
   ]
  },
  {
   "cell_type": "code",
   "execution_count": null,
   "id": "c490ce07",
   "metadata": {},
   "outputs": [],
   "source": []
  },
  {
   "cell_type": "code",
   "execution_count": 38,
   "id": "b544a485",
   "metadata": {},
   "outputs": [
    {
     "data": {
      "text/html": [
       "\n",
       "                <audio  controls=\"controls\" >\n",
       "                    <source src=\"data:audio/wav;base64,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\" type=\"audio/wav\" />\n",
       "                    Your browser does not support the audio element.\n",
       "                </audio>\n",
       "              "
      ],
      "text/plain": [
       "<IPython.lib.display.Audio object>"
      ]
     },
     "execution_count": 38,
     "metadata": {},
     "output_type": "execute_result"
    }
   ],
   "source": [
    "from IPython.display import Audio\n",
    "\n",
    "Audio(data=outs_hf.numpy(), rate=16000)"
   ]
  },
  {
   "cell_type": "code",
   "execution_count": null,
   "id": "171e3d3c",
   "metadata": {},
   "outputs": [],
   "source": []
  },
  {
   "cell_type": "code",
   "execution_count": null,
   "id": "ce6a887d",
   "metadata": {},
   "outputs": [],
   "source": []
  },
  {
   "cell_type": "code",
   "execution_count": 50,
   "id": "cc77712d",
   "metadata": {},
   "outputs": [],
   "source": [
    "# torch.max(torch.abs(outs - outs_hf))"
   ]
  },
  {
   "cell_type": "code",
   "execution_count": 185,
   "id": "c46ceda9",
   "metadata": {},
   "outputs": [],
   "source": [
    "# torch.max(torch.abs(probs - probs_hf))"
   ]
  },
  {
   "cell_type": "code",
   "execution_count": 186,
   "id": "7d439fcb",
   "metadata": {},
   "outputs": [
    {
     "data": {
      "text/plain": [
       "0.0"
      ]
     },
     "execution_count": 186,
     "metadata": {},
     "output_type": "execute_result"
    }
   ],
   "source": [
    "np.max(np.abs(output_from_orig - outs_hf.numpy()))"
   ]
  },
  {
   "cell_type": "markdown",
   "id": "c679aa53",
   "metadata": {},
   "source": [
    "**Note:** If we don't do `use_cache=True`, the outputs are not 100% identical. The error for the outputs is in the range 1e-6. This is because the decoder looks at the entire sequence rather than just the last element, and will accumulate floating-point precision errors."
   ]
  },
  {
   "cell_type": "code",
   "execution_count": 70,
   "id": "0f4fe5c2",
   "metadata": {},
   "outputs": [
    {
     "data": {
      "text/plain": [
       "<matplotlib.image.AxesImage at 0x7fcb6d4cfd90>"
      ]
     },
     "execution_count": 70,
     "metadata": {},
     "output_type": "execute_result"
    },
    {
     "data": {
      "image/png": "[encoded data removed]",
      "text/plain": [
       "<Figure size 640x480 with 1 Axes>"
      ]
     },
     "metadata": {},
     "output_type": "display_data"
    }
   ],
   "source": [
    "plt.imshow(outs_hf.T)"
   ]
  },
  {
   "cell_type": "code",
   "execution_count": 71,
   "id": "9ef573f6",
   "metadata": {},
   "outputs": [
    {
     "data": {
      "image/png": "[encoded data removed]",
      "text/plain": [
       "<Figure size 640x480 with 2 Axes>"
      ]
     },
     "metadata": {},
     "output_type": "display_data"
    }
   ],
   "source": [
    "import librosa.display\n",
    "\n",
    "plt.figure()\n",
    "librosa.display.specshow(outs_hf.T.numpy(), sr=16000, x_axis=\"time\", y_axis=\"mel\")\n",
    "plt.colorbar()\n",
    "plt.show()"
   ]
  },
  {
   "cell_type": "code",
   "execution_count": 72,
   "id": "e2ac56e5",
   "metadata": {},
   "outputs": [],
   "source": [
    "np.save(\"/Users/matthijs/Documents/FILES/HuggingFace/SpeechT5/tryout/RESULTS_PATH_TTS/hf-feats.npy\", outs_hf)"
   ]
  },
  {
   "cell_type": "code",
   "execution_count": null,
   "id": "45fcd853",
   "metadata": {},
   "outputs": [],
   "source": []
  },
  {
   "cell_type": "markdown",
   "id": "26cfccbb",
   "metadata": {},
   "source": [
    "## Vocoder"
   ]
  },
  {
   "cell_type": "raw",
   "id": "90dac2ea",
   "metadata": {},
   "source": [
    "parallel-wavegan-decode \\\n",
    "    --checkpoint /Users/matthijs/Documents/FILES/HuggingFace/SpeechT5/weights/speecht5-tts/pretrained_vocoder/train_nodev_clean_libritts_hifigan.v1/hifigan-libritts-1930000steps.pkl \\\n",
    "    --dumpdir /Users/matthijs/Documents/FILES/HuggingFace/SpeechT5/tryout/RESULTS_PATH_TTS \\\n",
    "    --outdir /Users/matthijs/Documents/FILES/HuggingFace/SpeechT5/tryout/RESULTS_PATH_TTS/wav \\\n",
    "    --normalize-before"
   ]
  },
  {
   "cell_type": "code",
   "execution_count": null,
   "id": "0685a8ee",
   "metadata": {},
   "outputs": [],
   "source": []
  },
  {
   "cell_type": "code",
   "execution_count": null,
   "id": "565f4277",
   "metadata": {},
   "outputs": [],
   "source": []
  },
  {
   "cell_type": "code",
   "execution_count": null,
   "id": "e3b6ddd8",
   "metadata": {},
   "outputs": [],
   "source": []
  },
  {
   "cell_type": "code",
   "execution_count": null,
   "id": "1612cc21",
   "metadata": {},
   "outputs": [],
   "source": []
  },
  {
   "cell_type": "code",
   "execution_count": null,
   "id": "29f01770",
   "metadata": {},
   "outputs": [],
   "source": []
  },
  {
   "cell_type": "markdown",
   "id": "32e98799",
   "metadata": {},
   "source": [
    "## Use the `transformers` generator loop"
   ]
  },
  {
   "cell_type": "markdown",
   "id": "f1be2a34",
   "metadata": {},
   "source": [
    "I don't think this makes sense for the TTS model. It needs to run the decoder in a specific way that's different from what `model.generate()` does."
   ]
  },
  {
   "cell_type": "code",
   "execution_count": null,
   "id": "39bc11e3",
   "metadata": {},
   "outputs": [],
   "source": []
  },
  {
   "cell_type": "markdown",
   "id": "5dab4e96",
   "metadata": {},
   "source": [
    "## Other functionality"
   ]
  },
  {
   "cell_type": "code",
   "execution_count": 189,
   "id": "cfdc28a4",
   "metadata": {},
   "outputs": [
    {
     "data": {
      "text/plain": [
       "transformers.models.speecht5.modeling_speecht5.SpeechT5ForTTS"
      ]
     },
     "execution_count": 189,
     "metadata": {},
     "output_type": "execute_result"
    }
   ],
   "source": [
    "type(hf_model)"
   ]
  },
  {
   "cell_type": "code",
   "execution_count": 190,
   "id": "9778431c",
   "metadata": {},
   "outputs": [
    {
     "data": {
      "text/plain": [
       "Embedding(81, 768, padding_idx=1)"
      ]
     },
     "execution_count": 190,
     "metadata": {},
     "output_type": "execute_result"
    }
   ],
   "source": [
    "hf_model.get_input_embeddings()"
   ]
  },
  {
   "cell_type": "code",
   "execution_count": 191,
   "id": "44be3e74",
   "metadata": {},
   "outputs": [],
   "source": [
    "hf_model.get_output_embeddings()"
   ]
  },
  {
   "cell_type": "code",
   "execution_count": 611,
   "id": "d6f954bf",
   "metadata": {},
   "outputs": [
    {
     "data": {
      "text/plain": [
       "Embedding(100, 768)"
      ]
     },
     "execution_count": 611,
     "metadata": {},
     "output_type": "execute_result"
    }
   ],
   "source": [
    "hf_model.resize_token_embeddings(100)"
   ]
  },
  {
   "cell_type": "code",
   "execution_count": 612,
   "id": "3b17c7a0",
   "metadata": {},
   "outputs": [
    {
     "data": {
      "text/plain": [
       "Embedding(100, 768)"
      ]
     },
     "execution_count": 612,
     "metadata": {},
     "output_type": "execute_result"
    }
   ],
   "source": [
    "hf_model.get_input_embeddings()"
   ]
  },
  {
   "cell_type": "code",
   "execution_count": null,
   "id": "742e8369",
   "metadata": {},
   "outputs": [],
   "source": []
  },
  {
   "cell_type": "markdown",
   "id": "d0f1433f",
   "metadata": {},
   "source": [
    "## For debugging\n",
    "\n",
    "Restart kernel, then reload the models:"
   ]
  },
  {
   "cell_type": "code",
   "execution_count": 3,
   "id": "33672d67",
   "metadata": {},
   "outputs": [
    {
     "name": "stdout",
     "output_type": "stream",
     "text": [
      "dictionary size: 81\n",
      "dictionary size: 81\n"
     ]
    },
    {
     "data": {
      "text/plain": [
       "fairseq.data.encoders.sentencepiece_bpe.SentencepieceBPE"
      ]
     },
     "execution_count": 3,
     "metadata": {},
     "output_type": "execute_result"
    }
   ],
   "source": [
    "%reload_ext autoreload\n",
    "%autoreload 2\n",
    "\n",
    "import sys\n",
    "sys.path.insert(0, \"../SpeechT5/SpeechT5\")\n",
    "sys.path.insert(0, \"../SpeechT5/SpeechT5/fairseq\")\n",
    "\n",
    "import numpy as np\n",
    "import torch\n",
    "import matplotlib.pyplot as plt\n",
    "\n",
    "from argparse import Namespace\n",
    "from fairseq.data import encoders\n",
    "\n",
    "bpe_tokenizer_path = \"/Users/matthijs/Documents/FILES/HuggingFace/SpeechT5/tryout/MODEL_DIR/spm_char.model\"\n",
    "tokenizer = encoders.build_bpe(Namespace(**{\"bpe\": \"sentencepiece\", \"sentencepiece_model\": bpe_tokenizer_path}))\n",
    "\n",
    "from fairseq.data import Dictionary\n",
    "src_dict = Dictionary.load(\"/Users/matthijs/Documents/FILES/HuggingFace/SpeechT5/tryout/DATA_ROOT/dict.txt\")\n",
    "src_dict.add_symbol(\"<mask>\")\n",
    "src_dict.add_symbol(\"<ctc_blank>\")\n",
    "print(f\"dictionary size: \" f\"{len(src_dict):,}\")\n",
    "\n",
    "from fairseq.tasks.hubert_pretraining import LabelEncoder\n",
    "label_processor = LabelEncoder(src_dict)\n",
    "\n",
    "text = \"Hey, what's up, Hugging Face? This is Speech tee five talking to you for real.\"\n",
    "\n",
    "label = tokenizer.encode(text)\n",
    "label\n",
    "\n",
    "src_tokens = label_processor(label).unsqueeze(0)\n",
    "src_tokens\n",
    "\n",
    "attention_mask = torch.ones_like(src_tokens)\n",
    "attention_mask.shape\n",
    "\n",
    "text2 = \"A much shorter snippet\"\n",
    "label2 = tokenizer.encode(text2)\n",
    "src_tokens2 = label_processor(label2).unsqueeze(0)\n",
    "src_tokens2\n",
    "\n",
    "pad_token_id = 1\n",
    "pad_length = src_tokens.size(-1) - src_tokens2.size(-1)\n",
    "src_tokens2_padded = torch.cat([src_tokens2, torch.ones(1, pad_length).long() * pad_token_id], dim=1)\n",
    "attention_mask2 = torch.cat([torch.ones_like(src_tokens2), torch.zeros(1, pad_length).long()], dim=1)\n",
    "\n",
    "input_ids_batch = torch.cat([src_tokens, src_tokens2_padded, src_tokens.clone()])\n",
    "attention_mask_batch = torch.cat([attention_mask, attention_mask2, attention_mask.clone()])\n",
    "\n",
    "from transformers import (\n",
    "    SpeechT5Config, \n",
    "    SpeechT5CTCTokenizer,\n",
    "    SpeechT5Processor,\n",
    "    SpeechT5Model, \n",
    "    SpeechT5ForTextToSpeech, \n",
    ")\n",
    "\n",
    "model_checkpoint = \"/Users/matthijs/Documents/FILES/HuggingFace/SpeechT5/weights/speecht5_tts\"\n",
    "\n",
    "hf_model = SpeechT5ForTextToSpeech.from_pretrained(model_checkpoint)\n",
    "\n",
    "hf_model.eval()\n",
    "\n",
    "from fairseq.data import Dictionary\n",
    "tgt_dict = Dictionary.load(\"/Users/matthijs/Documents/FILES/HuggingFace/SpeechT5/tryout/DATA_ROOT/dict.txt\")\n",
    "tgt_dict.add_symbol(\"<mask>\")\n",
    "tgt_dict.add_symbol(\"<ctc_blank>\")\n",
    "print(f\"dictionary size: \" f\"{len(tgt_dict):,}\")\n",
    "\n",
    "\n",
    "class FakeTask:\n",
    "    def __init__(self):\n",
    "        self.dicts = { \"text\": tgt_dict }\n",
    "        self.t5_task = \"t2s\"\n",
    "        \n",
    "task = FakeTask()\n",
    "\n",
    "import torch\n",
    "from speecht5.models.speecht5 import T5TransformerModel\n",
    "\n",
    "checkpoint = torch.load(\"../weights/speecht5-tts/speecht5_tts.pt\")\n",
    "\n",
    "orig_model = T5TransformerModel.build_model(checkpoint[\"cfg\"][\"model\"], task)\n",
    "\n",
    "orig_model.load_state_dict(checkpoint[\"model\"])\n",
    "orig_model = orig_model.eval()\n",
    "\n",
    "from fairseq.data import encoders\n",
    "from argparse import Namespace\n",
    "tokenizer = encoders.build_bpe(\n",
    "    Namespace(\n",
    "        bpe='sentencepiece', \n",
    "        sentencepiece_model='/Users/matthijs/Documents/FILES/HuggingFace/SpeechT5/tryout/MODEL_DIR/spm_char.model'\n",
    "    )\n",
    ")\n",
    "type(tokenizer)"
   ]
  },
  {
   "cell_type": "code",
   "execution_count": null,
   "id": "87968d6f",
   "metadata": {},
   "outputs": [],
   "source": []
  }
 ],
 "metadata": {
  "kernelspec": {
   "display_name": "Python 3 (ipykernel)",
   "language": "python",
   "name": "python3"
  },
  "language_info": {
   "codemirror_mode": {
    "name": "ipython",
    "version": 3
   },
   "file_extension": ".py",
   "mimetype": "text/x-python",
   "name": "python",
   "nbconvert_exporter": "python",
   "pygments_lexer": "ipython3",
   "version": "3.9.13"
  }
 },
 "nbformat": 4,
 "nbformat_minor": 5
}
