{
 "cells": [
  {
   "cell_type": "markdown",
   "id": "ca8cd0a9",
   "metadata": {},
   "source": [
    "# Verifying the SpeechT5 TTS model"
   ]
  },
  {
   "cell_type": "markdown",
   "id": "2c5342da",
   "metadata": {},
   "source": [
    "I needed to do the following to be able to load the original model:\n",
    "\n",
    "- Clone the https://github.com/microsoft/SpeechT5 repo\n",
    "\n",
    "Install stuff:\n",
    "\n",
    "```\n",
    "pip install editdistance\n",
    "pip install -U sacrebleu==1.5.1\n",
    "\n",
    "git submodule update --init SpeechT5/fairseq\n",
    "cd SpeechT5\n",
    "pip install --editable fairseq/\n",
    "pip install espnet\n",
    "```\n",
    "\n",
    "Hack the code:\n",
    "\n",
    "- Copy `speecht5/tasks/speecht5.py` into `fairseq/fairseq/tasks`\n",
    "\n",
    "- `checkpoint_utils.py`: comment out a bunch of the loading stuff because of missing keys in the checkpoint\n",
    "\n",
    "Additional stuff to download:\n",
    "\n",
    "- `dict.txt` from https://drive.google.com/uc?export=download&id=19hcQ58RHZ6CssxF8Qp6yEF1NW_AXxObK\n",
    "\n",
    "- `tokenizer` from https://drive.google.com/uc?export=download&id=1wClgQjXXoU2lmpbaEa1v2SqMbg7cAutq\n",
    "\n",
    "- `xvectors.zip` from https://drive.google.com/uc?export=download&id=16QOUURZBrW7-GYbVG_gXt3mTMlZmQoH0\n",
    "\n",
    "- everything from https://huggingface.co/mechanicalsea/speecht5-tts\n",
    "\n",
    "- https://github.com/kan-bayashi/ParallelWaveGAN"
   ]
  },
  {
   "cell_type": "markdown",
   "id": "b2354864",
   "metadata": {},
   "source": [
    "**!!! IMPORTANT !!!**\n",
    "\n",
    "As is, the outputs from the original model and the Hugging Face implementation do not match for the same inputs. This happens because the speech decoder prenet *always* applies dropout, even when not training. Every time you run the (decoder part of the) model, the output will be slightly different.\n",
    "\n",
    "To test that both models give exactly the same output (max absolute error of ~1e-6), do the following:\n",
    "\n",
    "- In `modeling_speecht5.py`, in `SpeechT5SpeechDecoderPrenet.forward`, set `training=False` on the two dropout layers.\n",
    "\n",
    "- In espnet, in `nets/pytorch_backend/tacotron2/decoder.py`, in `Prenet.forward` add `training=False` on the dropout layer."
   ]
  },
  {
   "cell_type": "code",
   "execution_count": 1,
   "id": "1a4d7c59",
   "metadata": {},
   "outputs": [],
   "source": [
    "%reload_ext autoreload\n",
    "%autoreload 2"
   ]
  },
  {
   "cell_type": "markdown",
   "id": "65661728",
   "metadata": {},
   "source": [
    "Set Python path so it can find the `speecht5` and `fairseq` modules."
   ]
  },
  {
   "cell_type": "code",
   "execution_count": 2,
   "id": "f30402f0",
   "metadata": {},
   "outputs": [],
   "source": [
    "import sys\n",
    "sys.path.insert(0, \"../SpeechT5/SpeechT5\")\n",
    "sys.path.insert(0, \"../SpeechT5/SpeechT5/fairseq\")"
   ]
  },
  {
   "cell_type": "code",
   "execution_count": 3,
   "id": "d398e605",
   "metadata": {},
   "outputs": [],
   "source": [
    "import numpy as np\n",
    "import torch\n",
    "import matplotlib.pyplot as plt"
   ]
  },
  {
   "cell_type": "markdown",
   "id": "60213c02",
   "metadata": {},
   "source": [
    "## Tokenize input text"
   ]
  },
  {
   "cell_type": "code",
   "execution_count": 4,
   "id": "75fa539e",
   "metadata": {},
   "outputs": [],
   "source": [
    "from argparse import Namespace\n",
    "from fairseq.data import encoders\n",
    "\n",
    "bpe_tokenizer_path = \"/Users/matthijs/Documents/FILES/HuggingFace/SpeechT5/tryout/MODEL_DIR/spm_char.model\"\n",
    "tokenizer = encoders.build_bpe(Namespace(**{\"bpe\": \"sentencepiece\", \"sentencepiece_model\": bpe_tokenizer_path}))"
   ]
  },
  {
   "cell_type": "code",
   "execution_count": 5,
   "id": "f8409c42",
   "metadata": {},
   "outputs": [
    {
     "name": "stdout",
     "output_type": "stream",
     "text": [
      "dictionary size: 81\n"
     ]
    }
   ],
   "source": [
    "from fairseq.data import Dictionary\n",
    "src_dict = Dictionary.load(\"/Users/matthijs/Documents/FILES/HuggingFace/SpeechT5/tryout/DATA_ROOT/dict.txt\")\n",
    "src_dict.add_symbol(\"<mask>\")\n",
    "src_dict.add_symbol(\"<ctc_blank>\")\n",
    "print(f\"dictionary size: \" f\"{len(src_dict):,}\")"
   ]
  },
  {
   "cell_type": "code",
   "execution_count": 6,
   "id": "5d11bc84",
   "metadata": {},
   "outputs": [],
   "source": [
    "from fairseq.tasks.hubert_pretraining import LabelEncoder\n",
    "label_processor = LabelEncoder(src_dict)"
   ]
  },
  {
   "cell_type": "code",
   "execution_count": 7,
   "id": "2df06465",
   "metadata": {},
   "outputs": [],
   "source": [
    "text = \"Hey, what's up, Hugging Face? This is Speech tee five talking to you for real.\""
   ]
  },
  {
   "cell_type": "code",
   "execution_count": 8,
   "id": "5b2842f6",
   "metadata": {},
   "outputs": [
    {
     "data": {
      "text/plain": [
       "\"▁ H e y , ▁ w h a t ' s ▁ u p , ▁ H u g g i n g ▁ F a c e ? ▁ T h i s ▁ i s ▁ S p e e c h ▁ t e e ▁ f i v e ▁ t a l k i n g ▁ t o ▁ y o u ▁ f o r ▁ r e a l .\""
      ]
     },
     "execution_count": 8,
     "metadata": {},
     "output_type": "execute_result"
    }
   ],
   "source": [
    "label = tokenizer.encode(text)\n",
    "label"
   ]
  },
  {
   "cell_type": "code",
   "execution_count": 9,
   "id": "767a1346",
   "metadata": {},
   "outputs": [
    {
     "data": {
      "text/plain": [
       "tensor([[ 4, 35,  5, 22, 23,  4, 20, 11,  7,  6, 31, 12,  4, 16, 24, 23,  4, 35,\n",
       "         16, 21, 21, 10,  9, 21,  4, 55,  7, 17,  5, 41,  4, 32, 11, 10, 12,  4,\n",
       "         10, 12,  4, 34, 24,  5,  5, 17, 11,  4,  6,  5,  5,  4, 19, 10, 27,  5,\n",
       "          4,  6,  7, 15, 28, 10,  9, 21,  4,  6,  8,  4, 22,  8, 16,  4, 19,  8,\n",
       "         13,  4, 13,  5,  7, 15, 26]], dtype=torch.int32)"
      ]
     },
     "execution_count": 9,
     "metadata": {},
     "output_type": "execute_result"
    }
   ],
   "source": [
    "src_tokens = label_processor(label).unsqueeze(0)\n",
    "src_tokens"
   ]
  },
  {
   "cell_type": "code",
   "execution_count": 10,
   "id": "768371be",
   "metadata": {},
   "outputs": [],
   "source": [
    "# src_tokens = torch.tensor([[\n",
    "#     4, 35,  5, 22, 23,  4, 20, 11,  7,  6, 31, 12,  4, 16, 24, 23,  4, 35,\n",
    "#          16, 21, 21, 10,  9, 21,  4, 55,  7, 17,  5, 41,  4, 32, 11, 10, 12,  4,\n",
    "#          10, 12,  4, 34, 24,  5,  5, 17, 11,  4,  6,  5,  5,  4, 19, 10, 27,  5,\n",
    "#           4,  6,  7, 15, 28, 10,  9, 21,  4,  6,  8,  4, 22,  8, 16,  4, 19,  8,\n",
    "#          13,  4, 13,  5,  7, 15, 26\n",
    "# ]])"
   ]
  },
  {
   "cell_type": "code",
   "execution_count": 11,
   "id": "7e74ef32",
   "metadata": {},
   "outputs": [
    {
     "data": {
      "text/plain": [
       "torch.Size([1, 79])"
      ]
     },
     "execution_count": 11,
     "metadata": {},
     "output_type": "execute_result"
    }
   ],
   "source": [
    "attention_mask = torch.ones_like(src_tokens)\n",
    "attention_mask.shape"
   ]
  },
  {
   "cell_type": "code",
   "execution_count": null,
   "id": "956bd89a",
   "metadata": {},
   "outputs": [],
   "source": []
  },
  {
   "cell_type": "code",
   "execution_count": 12,
   "id": "8d219d84",
   "metadata": {},
   "outputs": [
    {
     "data": {
      "text/plain": [
       "tensor([[ 4, 33,  4, 18, 16, 17, 11,  4, 12, 11,  8, 13,  6,  5, 13,  4, 12,  9,\n",
       "         10, 24, 24,  5,  6]], dtype=torch.int32)"
      ]
     },
     "execution_count": 12,
     "metadata": {},
     "output_type": "execute_result"
    }
   ],
   "source": [
    "text2 = \"A much shorter snippet\"\n",
    "label2 = tokenizer.encode(text2)\n",
    "src_tokens2 = label_processor(label2).unsqueeze(0)\n",
    "src_tokens2"
   ]
  },
  {
   "cell_type": "code",
   "execution_count": 13,
   "id": "aa696325",
   "metadata": {},
   "outputs": [],
   "source": [
    "pad_token_id = 1\n",
    "pad_length = src_tokens.size(-1) - src_tokens2.size(-1)\n",
    "src_tokens2_padded = torch.cat([src_tokens2, torch.ones(1, pad_length).long() * pad_token_id], dim=1)\n",
    "attention_mask2 = torch.cat([torch.ones_like(src_tokens2), torch.zeros(1, pad_length).long()], dim=1)"
   ]
  },
  {
   "cell_type": "code",
   "execution_count": 14,
   "id": "2b9f6f99",
   "metadata": {},
   "outputs": [],
   "source": [
    "# input_ids_batch = torch.cat([src_tokens, src_tokens2_padded])\n",
    "# attention_mask_batch = torch.cat([attention_mask, attention_mask2])"
   ]
  },
  {
   "cell_type": "code",
   "execution_count": 15,
   "id": "60afcd7c",
   "metadata": {},
   "outputs": [],
   "source": [
    "# input_ids_batch = torch.cat([src_tokens2_padded, src_tokens])\n",
    "# attention_mask_batch = torch.cat([attention_mask2, attention_mask])"
   ]
  },
  {
   "cell_type": "code",
   "execution_count": 16,
   "id": "f4e68616",
   "metadata": {},
   "outputs": [],
   "source": [
    "input_ids_batch = torch.cat([src_tokens, src_tokens2_padded, src_tokens.clone()])\n",
    "attention_mask_batch = torch.cat([attention_mask, attention_mask2, attention_mask.clone()])"
   ]
  },
  {
   "cell_type": "code",
   "execution_count": null,
   "id": "88639c9f",
   "metadata": {},
   "outputs": [],
   "source": []
  },
  {
   "cell_type": "code",
   "execution_count": 17,
   "id": "2b145f4f",
   "metadata": {},
   "outputs": [],
   "source": [
    "# TODO: run our own tokenizer"
   ]
  },
  {
   "cell_type": "code",
   "execution_count": null,
   "id": "1389f72a",
   "metadata": {},
   "outputs": [],
   "source": []
  },
  {
   "cell_type": "markdown",
   "id": "2205900b",
   "metadata": {},
   "source": [
    "## Load the Transformers model"
   ]
  },
  {
   "cell_type": "markdown",
   "id": "3bc8c0f8",
   "metadata": {},
   "source": [
    "To convert the original checkpoint weights to Transformers:\n",
    "\n",
    "First download the checkpoint from https://huggingface.co/mechanicalsea/speecht5-tts\n",
    "\n",
    "Then run the following, using your own `--checkpoint_path` and `--pytorch_dump_folder_path`:\n",
    "\n",
    "```nohighlight\n",
    "cd transformers/src/transformers/models/speecht5\n",
    "\n",
    "python convert_speecht5_original_pytorch_checkpoint_to_pytorch.py \\\n",
    "  --task t2s \\\n",
    "  --checkpoint_path /path/to/SpeechT5/speecht5_tts.pt\n",
    "  --pytorch_dump_folder_path /some/other/path\n",
    "```"
   ]
  },
  {
   "cell_type": "code",
   "execution_count": 18,
   "id": "552fd307",
   "metadata": {},
   "outputs": [],
   "source": [
    "from transformers import (\n",
    "    SpeechT5Config, \n",
    "    SpeechT5CTCTokenizer,\n",
    "    SpeechT5Processor,\n",
    "    SpeechT5Model, \n",
    "    SpeechT5ForTextToSpeech,\n",
    "    Wav2Vec2FeatureExtractor,\n",
    ")"
   ]
  },
  {
   "cell_type": "code",
   "execution_count": 19,
   "id": "69aa6aed",
   "metadata": {},
   "outputs": [],
   "source": [
    "# config = SpeechT5Config()\n",
    "# hf_model = SpeechT5Model(config)"
   ]
  },
  {
   "cell_type": "code",
   "execution_count": 20,
   "id": "1ba8f514",
   "metadata": {},
   "outputs": [],
   "source": [
    "model_checkpoint = \"/Users/matthijs/Documents/FILES/HuggingFace/SpeechT5/weights/speecht5_tts\""
   ]
  },
  {
   "cell_type": "code",
   "execution_count": 21,
   "id": "5df4bac3",
   "metadata": {},
   "outputs": [],
   "source": [
    "hf_model = SpeechT5ForTextToSpeech.from_pretrained(model_checkpoint)"
   ]
  },
  {
   "cell_type": "code",
   "execution_count": 22,
   "id": "b7dd7606",
   "metadata": {},
   "outputs": [
    {
     "data": {
      "text/plain": [
       "SpeechT5ForTextToSpeech(\n",
       "  (speecht5): SpeechT5Model(\n",
       "    (encoder): SpeechT5EncoderWithTextPrenet(\n",
       "      (prenet): SpeechT5TextEncoderPrenet(\n",
       "        (embed_tokens): Embedding(81, 768, padding_idx=1)\n",
       "        (encode_positions): SpeechT5ScaledPositionalEncoding(\n",
       "          (dropout): Dropout(p=0.1, inplace=False)\n",
       "        )\n",
       "      )\n",
       "      (wrapped_encoder): SpeechT5Encoder(\n",
       "        (layer_norm): LayerNorm((768,), eps=1e-05, elementwise_affine=True)\n",
       "        (dropout): Dropout(p=0.1, inplace=False)\n",
       "        (layers): ModuleList(\n",
       "          (0): SpeechT5EncoderLayer(\n",
       "            (attention): SpeechT5Attention(\n",
       "              (k_proj): Linear(in_features=768, out_features=768, bias=True)\n",
       "              (v_proj): Linear(in_features=768, out_features=768, bias=True)\n",
       "              (q_proj): Linear(in_features=768, out_features=768, bias=True)\n",
       "              (out_proj): Linear(in_features=768, out_features=768, bias=True)\n",
       "            )\n",
       "            (dropout): Dropout(p=0.1, inplace=False)\n",
       "            (layer_norm): LayerNorm((768,), eps=1e-05, elementwise_affine=True)\n",
       "            (feed_forward): SpeechT5FeedForward(\n",
       "              (intermediate_dropout): Dropout(p=0.1, inplace=False)\n",
       "              (intermediate_dense): Linear(in_features=768, out_features=3072, bias=True)\n",
       "              (intermediate_act_fn): GELUActivation()\n",
       "              (output_dense): Linear(in_features=3072, out_features=768, bias=True)\n",
       "              (output_dropout): Dropout(p=0.1, inplace=False)\n",
       "            )\n",
       "            (final_layer_norm): LayerNorm((768,), eps=1e-05, elementwise_affine=True)\n",
       "          )\n",
       "          (1): SpeechT5EncoderLayer(\n",
       "            (attention): SpeechT5Attention(\n",
       "              (k_proj): Linear(in_features=768, out_features=768, bias=True)\n",
       "              (v_proj): Linear(in_features=768, out_features=768, bias=True)\n",
       "              (q_proj): Linear(in_features=768, out_features=768, bias=True)\n",
       "              (out_proj): Linear(in_features=768, out_features=768, bias=True)\n",
       "            )\n",
       "            (dropout): Dropout(p=0.1, inplace=False)\n",
       "            (layer_norm): LayerNorm((768,), eps=1e-05, elementwise_affine=True)\n",
       "            (feed_forward): SpeechT5FeedForward(\n",
       "              (intermediate_dropout): Dropout(p=0.1, inplace=False)\n",
       "              (intermediate_dense): Linear(in_features=768, out_features=3072, bias=True)\n",
       "              (intermediate_act_fn): GELUActivation()\n",
       "              (output_dense): Linear(in_features=3072, out_features=768, bias=True)\n",
       "              (output_dropout): Dropout(p=0.1, inplace=False)\n",
       "            )\n",
       "            (final_layer_norm): LayerNorm((768,), eps=1e-05, elementwise_affine=True)\n",
       "          )\n",
       "          (2): SpeechT5EncoderLayer(\n",
       "            (attention): SpeechT5Attention(\n",
       "              (k_proj): Linear(in_features=768, out_features=768, bias=True)\n",
       "              (v_proj): Linear(in_features=768, out_features=768, bias=True)\n",
       "              (q_proj): Linear(in_features=768, out_features=768, bias=True)\n",
       "              (out_proj): Linear(in_features=768, out_features=768, bias=True)\n",
       "            )\n",
       "            (dropout): Dropout(p=0.1, inplace=False)\n",
       "            (layer_norm): LayerNorm((768,), eps=1e-05, elementwise_affine=True)\n",
       "            (feed_forward): SpeechT5FeedForward(\n",
       "              (intermediate_dropout): Dropout(p=0.1, inplace=False)\n",
       "              (intermediate_dense): Linear(in_features=768, out_features=3072, bias=True)\n",
       "              (intermediate_act_fn): GELUActivation()\n",
       "              (output_dense): Linear(in_features=3072, out_features=768, bias=True)\n",
       "              (output_dropout): Dropout(p=0.1, inplace=False)\n",
       "            )\n",
       "            (final_layer_norm): LayerNorm((768,), eps=1e-05, elementwise_affine=True)\n",
       "          )\n",
       "          (3): SpeechT5EncoderLayer(\n",
       "            (attention): SpeechT5Attention(\n",
       "              (k_proj): Linear(in_features=768, out_features=768, bias=True)\n",
       "              (v_proj): Linear(in_features=768, out_features=768, bias=True)\n",
       "              (q_proj): Linear(in_features=768, out_features=768, bias=True)\n",
       "              (out_proj): Linear(in_features=768, out_features=768, bias=True)\n",
       "            )\n",
       "            (dropout): Dropout(p=0.1, inplace=False)\n",
       "            (layer_norm): LayerNorm((768,), eps=1e-05, elementwise_affine=True)\n",
       "            (feed_forward): SpeechT5FeedForward(\n",
       "              (intermediate_dropout): Dropout(p=0.1, inplace=False)\n",
       "              (intermediate_dense): Linear(in_features=768, out_features=3072, bias=True)\n",
       "              (intermediate_act_fn): GELUActivation()\n",
       "              (output_dense): Linear(in_features=3072, out_features=768, bias=True)\n",
       "              (output_dropout): Dropout(p=0.1, inplace=False)\n",
       "            )\n",
       "            (final_layer_norm): LayerNorm((768,), eps=1e-05, elementwise_affine=True)\n",
       "          )\n",
       "          (4): SpeechT5EncoderLayer(\n",
       "            (attention): SpeechT5Attention(\n",
       "              (k_proj): Linear(in_features=768, out_features=768, bias=True)\n",
       "              (v_proj): Linear(in_features=768, out_features=768, bias=True)\n",
       "              (q_proj): Linear(in_features=768, out_features=768, bias=True)\n",
       "              (out_proj): Linear(in_features=768, out_features=768, bias=True)\n",
       "            )\n",
       "            (dropout): Dropout(p=0.1, inplace=False)\n",
       "            (layer_norm): LayerNorm((768,), eps=1e-05, elementwise_affine=True)\n",
       "            (feed_forward): SpeechT5FeedForward(\n",
       "              (intermediate_dropout): Dropout(p=0.1, inplace=False)\n",
       "              (intermediate_dense): Linear(in_features=768, out_features=3072, bias=True)\n",
       "              (intermediate_act_fn): GELUActivation()\n",
       "              (output_dense): Linear(in_features=3072, out_features=768, bias=True)\n",
       "              (output_dropout): Dropout(p=0.1, inplace=False)\n",
       "            )\n",
       "            (final_layer_norm): LayerNorm((768,), eps=1e-05, elementwise_affine=True)\n",
       "          )\n",
       "          (5): SpeechT5EncoderLayer(\n",
       "            (attention): SpeechT5Attention(\n",
       "              (k_proj): Linear(in_features=768, out_features=768, bias=True)\n",
       "              (v_proj): Linear(in_features=768, out_features=768, bias=True)\n",
       "              (q_proj): Linear(in_features=768, out_features=768, bias=True)\n",
       "              (out_proj): Linear(in_features=768, out_features=768, bias=True)\n",
       "            )\n",
       "            (dropout): Dropout(p=0.1, inplace=False)\n",
       "            (layer_norm): LayerNorm((768,), eps=1e-05, elementwise_affine=True)\n",
       "            (feed_forward): SpeechT5FeedForward(\n",
       "              (intermediate_dropout): Dropout(p=0.1, inplace=False)\n",
       "              (intermediate_dense): Linear(in_features=768, out_features=3072, bias=True)\n",
       "              (intermediate_act_fn): GELUActivation()\n",
       "              (output_dense): Linear(in_features=3072, out_features=768, bias=True)\n",
       "              (output_dropout): Dropout(p=0.1, inplace=False)\n",
       "            )\n",
       "            (final_layer_norm): LayerNorm((768,), eps=1e-05, elementwise_affine=True)\n",
       "          )\n",
       "          (6): SpeechT5EncoderLayer(\n",
       "            (attention): SpeechT5Attention(\n",
       "              (k_proj): Linear(in_features=768, out_features=768, bias=True)\n",
       "              (v_proj): Linear(in_features=768, out_features=768, bias=True)\n",
       "              (q_proj): Linear(in_features=768, out_features=768, bias=True)\n",
       "              (out_proj): Linear(in_features=768, out_features=768, bias=True)\n",
       "            )\n",
       "            (dropout): Dropout(p=0.1, inplace=False)\n",
       "            (layer_norm): LayerNorm((768,), eps=1e-05, elementwise_affine=True)\n",
       "            (feed_forward): SpeechT5FeedForward(\n",
       "              (intermediate_dropout): Dropout(p=0.1, inplace=False)\n",
       "              (intermediate_dense): Linear(in_features=768, out_features=3072, bias=True)\n",
       "              (intermediate_act_fn): GELUActivation()\n",
       "              (output_dense): Linear(in_features=3072, out_features=768, bias=True)\n",
       "              (output_dropout): Dropout(p=0.1, inplace=False)\n",
       "            )\n",
       "            (final_layer_norm): LayerNorm((768,), eps=1e-05, elementwise_affine=True)\n",
       "          )\n",
       "          (7): SpeechT5EncoderLayer(\n",
       "            (attention): SpeechT5Attention(\n",
       "              (k_proj): Linear(in_features=768, out_features=768, bias=True)\n",
       "              (v_proj): Linear(in_features=768, out_features=768, bias=True)\n",
       "              (q_proj): Linear(in_features=768, out_features=768, bias=True)\n",
       "              (out_proj): Linear(in_features=768, out_features=768, bias=True)\n",
       "            )\n",
       "            (dropout): Dropout(p=0.1, inplace=False)\n",
       "            (layer_norm): LayerNorm((768,), eps=1e-05, elementwise_affine=True)\n",
       "            (feed_forward): SpeechT5FeedForward(\n",
       "              (intermediate_dropout): Dropout(p=0.1, inplace=False)\n",
       "              (intermediate_dense): Linear(in_features=768, out_features=3072, bias=True)\n",
       "              (intermediate_act_fn): GELUActivation()\n",
       "              (output_dense): Linear(in_features=3072, out_features=768, bias=True)\n",
       "              (output_dropout): Dropout(p=0.1, inplace=False)\n",
       "            )\n",
       "            (final_layer_norm): LayerNorm((768,), eps=1e-05, elementwise_affine=True)\n",
       "          )\n",
       "          (8): SpeechT5EncoderLayer(\n",
       "            (attention): SpeechT5Attention(\n",
       "              (k_proj): Linear(in_features=768, out_features=768, bias=True)\n",
       "              (v_proj): Linear(in_features=768, out_features=768, bias=True)\n",
       "              (q_proj): Linear(in_features=768, out_features=768, bias=True)\n",
       "              (out_proj): Linear(in_features=768, out_features=768, bias=True)\n",
       "            )\n",
       "            (dropout): Dropout(p=0.1, inplace=False)\n",
       "            (layer_norm): LayerNorm((768,), eps=1e-05, elementwise_affine=True)\n",
       "            (feed_forward): SpeechT5FeedForward(\n",
       "              (intermediate_dropout): Dropout(p=0.1, inplace=False)\n",
       "              (intermediate_dense): Linear(in_features=768, out_features=3072, bias=True)\n",
       "              (intermediate_act_fn): GELUActivation()\n",
       "              (output_dense): Linear(in_features=3072, out_features=768, bias=True)\n",
       "              (output_dropout): Dropout(p=0.1, inplace=False)\n",
       "            )\n",
       "            (final_layer_norm): LayerNorm((768,), eps=1e-05, elementwise_affine=True)\n",
       "          )\n",
       "          (9): SpeechT5EncoderLayer(\n",
       "            (attention): SpeechT5Attention(\n",
       "              (k_proj): Linear(in_features=768, out_features=768, bias=True)\n",
       "              (v_proj): Linear(in_features=768, out_features=768, bias=True)\n",
       "              (q_proj): Linear(in_features=768, out_features=768, bias=True)\n",
       "              (out_proj): Linear(in_features=768, out_features=768, bias=True)\n",
       "            )\n",
       "            (dropout): Dropout(p=0.1, inplace=False)\n",
       "            (layer_norm): LayerNorm((768,), eps=1e-05, elementwise_affine=True)\n",
       "            (feed_forward): SpeechT5FeedForward(\n",
       "              (intermediate_dropout): Dropout(p=0.1, inplace=False)\n",
       "              (intermediate_dense): Linear(in_features=768, out_features=3072, bias=True)\n",
       "              (intermediate_act_fn): GELUActivation()\n",
       "              (output_dense): Linear(in_features=3072, out_features=768, bias=True)\n",
       "              (output_dropout): Dropout(p=0.1, inplace=False)\n",
       "            )\n",
       "            (final_layer_norm): LayerNorm((768,), eps=1e-05, elementwise_affine=True)\n",
       "          )\n",
       "          (10): SpeechT5EncoderLayer(\n",
       "            (attention): SpeechT5Attention(\n",
       "              (k_proj): Linear(in_features=768, out_features=768, bias=True)\n",
       "              (v_proj): Linear(in_features=768, out_features=768, bias=True)\n",
       "              (q_proj): Linear(in_features=768, out_features=768, bias=True)\n",
       "              (out_proj): Linear(in_features=768, out_features=768, bias=True)\n",
       "            )\n",
       "            (dropout): Dropout(p=0.1, inplace=False)\n",
       "            (layer_norm): LayerNorm((768,), eps=1e-05, elementwise_affine=True)\n",
       "            (feed_forward): SpeechT5FeedForward(\n",
       "              (intermediate_dropout): Dropout(p=0.1, inplace=False)\n",
       "              (intermediate_dense): Linear(in_features=768, out_features=3072, bias=True)\n",
       "              (intermediate_act_fn): GELUActivation()\n",
       "              (output_dense): Linear(in_features=3072, out_features=768, bias=True)\n",
       "              (output_dropout): Dropout(p=0.1, inplace=False)\n",
       "            )\n",
       "            (final_layer_norm): LayerNorm((768,), eps=1e-05, elementwise_affine=True)\n",
       "          )\n",
       "          (11): SpeechT5EncoderLayer(\n",
       "            (attention): SpeechT5Attention(\n",
       "              (k_proj): Linear(in_features=768, out_features=768, bias=True)\n",
       "              (v_proj): Linear(in_features=768, out_features=768, bias=True)\n",
       "              (q_proj): Linear(in_features=768, out_features=768, bias=True)\n",
       "              (out_proj): Linear(in_features=768, out_features=768, bias=True)\n",
       "            )\n",
       "            (dropout): Dropout(p=0.1, inplace=False)\n",
       "            (layer_norm): LayerNorm((768,), eps=1e-05, elementwise_affine=True)\n",
       "            (feed_forward): SpeechT5FeedForward(\n",
       "              (intermediate_dropout): Dropout(p=0.1, inplace=False)\n",
       "              (intermediate_dense): Linear(in_features=768, out_features=3072, bias=True)\n",
       "              (intermediate_act_fn): GELUActivation()\n",
       "              (output_dense): Linear(in_features=3072, out_features=768, bias=True)\n",
       "              (output_dropout): Dropout(p=0.1, inplace=False)\n",
       "            )\n",
       "            (final_layer_norm): LayerNorm((768,), eps=1e-05, elementwise_affine=True)\n",
       "          )\n",
       "        )\n",
       "        (embed_positions): SpeechT5RelativePositionalEncoding(\n",
       "          (pe_k): Embedding(320, 64)\n",
       "        )\n",
       "      )\n",
       "    )\n",
       "    (decoder): SpeechT5DecoderWithSpeechPrenet(\n",
       "      (prenet): SpeechT5SpeechDecoderPrenet(\n",
       "        (layer1): Linear(in_features=80, out_features=256, bias=True)\n",
       "        (layer2): Linear(in_features=256, out_features=256, bias=True)\n",
       "        (layer3): Linear(in_features=256, out_features=768, bias=True)\n",
       "        (encode_positions): SpeechT5ScaledPositionalEncoding(\n",
       "          (dropout): Dropout(p=0.1, inplace=False)\n",
       "        )\n",
       "        (speaker_embeds_layer): Linear(in_features=1280, out_features=768, bias=True)\n",
       "      )\n",
       "      (wrapped_decoder): SpeechT5Decoder(\n",
       "        (layers): ModuleList(\n",
       "          (0): SpeechT5DecoderLayer(\n",
       "            (self_attn): SpeechT5Attention(\n",
       "              (k_proj): Linear(in_features=768, out_features=768, bias=True)\n",
       "              (v_proj): Linear(in_features=768, out_features=768, bias=True)\n",
       "              (q_proj): Linear(in_features=768, out_features=768, bias=True)\n",
       "              (out_proj): Linear(in_features=768, out_features=768, bias=True)\n",
       "            )\n",
       "            (dropout): Dropout(p=0.1, inplace=False)\n",
       "            (self_attn_layer_norm): LayerNorm((768,), eps=1e-05, elementwise_affine=True)\n",
       "            (encoder_attn): SpeechT5Attention(\n",
       "              (k_proj): Linear(in_features=768, out_features=768, bias=True)\n",
       "              (v_proj): Linear(in_features=768, out_features=768, bias=True)\n",
       "              (q_proj): Linear(in_features=768, out_features=768, bias=True)\n",
       "              (out_proj): Linear(in_features=768, out_features=768, bias=True)\n",
       "            )\n",
       "            (encoder_attn_layer_norm): LayerNorm((768,), eps=1e-05, elementwise_affine=True)\n",
       "            (feed_forward): SpeechT5FeedForward(\n",
       "              (intermediate_dropout): Dropout(p=0.1, inplace=False)\n",
       "              (intermediate_dense): Linear(in_features=768, out_features=3072, bias=True)\n",
       "              (intermediate_act_fn): GELUActivation()\n",
       "              (output_dense): Linear(in_features=3072, out_features=768, bias=True)\n",
       "              (output_dropout): Dropout(p=0.1, inplace=False)\n",
       "            )\n",
       "            (final_layer_norm): LayerNorm((768,), eps=1e-05, elementwise_affine=True)\n",
       "          )\n",
       "          (1): SpeechT5DecoderLayer(\n",
       "            (self_attn): SpeechT5Attention(\n",
       "              (k_proj): Linear(in_features=768, out_features=768, bias=True)\n",
       "              (v_proj): Linear(in_features=768, out_features=768, bias=True)\n",
       "              (q_proj): Linear(in_features=768, out_features=768, bias=True)\n",
       "              (out_proj): Linear(in_features=768, out_features=768, bias=True)\n",
       "            )\n",
       "            (dropout): Dropout(p=0.1, inplace=False)\n",
       "            (self_attn_layer_norm): LayerNorm((768,), eps=1e-05, elementwise_affine=True)\n",
       "            (encoder_attn): SpeechT5Attention(\n",
       "              (k_proj): Linear(in_features=768, out_features=768, bias=True)\n",
       "              (v_proj): Linear(in_features=768, out_features=768, bias=True)\n",
       "              (q_proj): Linear(in_features=768, out_features=768, bias=True)\n",
       "              (out_proj): Linear(in_features=768, out_features=768, bias=True)\n",
       "            )\n",
       "            (encoder_attn_layer_norm): LayerNorm((768,), eps=1e-05, elementwise_affine=True)\n",
       "            (feed_forward): SpeechT5FeedForward(\n",
       "              (intermediate_dropout): Dropout(p=0.1, inplace=False)\n",
       "              (intermediate_dense): Linear(in_features=768, out_features=3072, bias=True)\n",
       "              (intermediate_act_fn): GELUActivation()\n",
       "              (output_dense): Linear(in_features=3072, out_features=768, bias=True)\n",
       "              (output_dropout): Dropout(p=0.1, inplace=False)\n",
       "            )\n",
       "            (final_layer_norm): LayerNorm((768,), eps=1e-05, elementwise_affine=True)\n",
       "          )\n",
       "          (2): SpeechT5DecoderLayer(\n",
       "            (self_attn): SpeechT5Attention(\n",
       "              (k_proj): Linear(in_features=768, out_features=768, bias=True)\n",
       "              (v_proj): Linear(in_features=768, out_features=768, bias=True)\n",
       "              (q_proj): Linear(in_features=768, out_features=768, bias=True)\n",
       "              (out_proj): Linear(in_features=768, out_features=768, bias=True)\n",
       "            )\n",
       "            (dropout): Dropout(p=0.1, inplace=False)\n",
       "            (self_attn_layer_norm): LayerNorm((768,), eps=1e-05, elementwise_affine=True)\n",
       "            (encoder_attn): SpeechT5Attention(\n",
       "              (k_proj): Linear(in_features=768, out_features=768, bias=True)\n",
       "              (v_proj): Linear(in_features=768, out_features=768, bias=True)\n",
       "              (q_proj): Linear(in_features=768, out_features=768, bias=True)\n",
       "              (out_proj): Linear(in_features=768, out_features=768, bias=True)\n",
       "            )\n",
       "            (encoder_attn_layer_norm): LayerNorm((768,), eps=1e-05, elementwise_affine=True)\n",
       "            (feed_forward): SpeechT5FeedForward(\n",
       "              (intermediate_dropout): Dropout(p=0.1, inplace=False)\n",
       "              (intermediate_dense): Linear(in_features=768, out_features=3072, bias=True)\n",
       "              (intermediate_act_fn): GELUActivation()\n",
       "              (output_dense): Linear(in_features=3072, out_features=768, bias=True)\n",
       "              (output_dropout): Dropout(p=0.1, inplace=False)\n",
       "            )\n",
       "            (final_layer_norm): LayerNorm((768,), eps=1e-05, elementwise_affine=True)\n",
       "          )\n",
       "          (3): SpeechT5DecoderLayer(\n",
       "            (self_attn): SpeechT5Attention(\n",
       "              (k_proj): Linear(in_features=768, out_features=768, bias=True)\n",
       "              (v_proj): Linear(in_features=768, out_features=768, bias=True)\n",
       "              (q_proj): Linear(in_features=768, out_features=768, bias=True)\n",
       "              (out_proj): Linear(in_features=768, out_features=768, bias=True)\n",
       "            )\n",
       "            (dropout): Dropout(p=0.1, inplace=False)\n",
       "            (self_attn_layer_norm): LayerNorm((768,), eps=1e-05, elementwise_affine=True)\n",
       "            (encoder_attn): SpeechT5Attention(\n",
       "              (k_proj): Linear(in_features=768, out_features=768, bias=True)\n",
       "              (v_proj): Linear(in_features=768, out_features=768, bias=True)\n",
       "              (q_proj): Linear(in_features=768, out_features=768, bias=True)\n",
       "              (out_proj): Linear(in_features=768, out_features=768, bias=True)\n",
       "            )\n",
       "            (encoder_attn_layer_norm): LayerNorm((768,), eps=1e-05, elementwise_affine=True)\n",
       "            (feed_forward): SpeechT5FeedForward(\n",
       "              (intermediate_dropout): Dropout(p=0.1, inplace=False)\n",
       "              (intermediate_dense): Linear(in_features=768, out_features=3072, bias=True)\n",
       "              (intermediate_act_fn): GELUActivation()\n",
       "              (output_dense): Linear(in_features=3072, out_features=768, bias=True)\n",
       "              (output_dropout): Dropout(p=0.1, inplace=False)\n",
       "            )\n",
       "            (final_layer_norm): LayerNorm((768,), eps=1e-05, elementwise_affine=True)\n",
       "          )\n",
       "          (4): SpeechT5DecoderLayer(\n",
       "            (self_attn): SpeechT5Attention(\n",
       "              (k_proj): Linear(in_features=768, out_features=768, bias=True)\n",
       "              (v_proj): Linear(in_features=768, out_features=768, bias=True)\n",
       "              (q_proj): Linear(in_features=768, out_features=768, bias=True)\n",
       "              (out_proj): Linear(in_features=768, out_features=768, bias=True)\n",
       "            )\n",
       "            (dropout): Dropout(p=0.1, inplace=False)\n",
       "            (self_attn_layer_norm): LayerNorm((768,), eps=1e-05, elementwise_affine=True)\n",
       "            (encoder_attn): SpeechT5Attention(\n",
       "              (k_proj): Linear(in_features=768, out_features=768, bias=True)\n",
       "              (v_proj): Linear(in_features=768, out_features=768, bias=True)\n",
       "              (q_proj): Linear(in_features=768, out_features=768, bias=True)\n",
       "              (out_proj): Linear(in_features=768, out_features=768, bias=True)\n",
       "            )\n",
       "            (encoder_attn_layer_norm): LayerNorm((768,), eps=1e-05, elementwise_affine=True)\n",
       "            (feed_forward): SpeechT5FeedForward(\n",
       "              (intermediate_dropout): Dropout(p=0.1, inplace=False)\n",
       "              (intermediate_dense): Linear(in_features=768, out_features=3072, bias=True)\n",
       "              (intermediate_act_fn): GELUActivation()\n",
       "              (output_dense): Linear(in_features=3072, out_features=768, bias=True)\n",
       "              (output_dropout): Dropout(p=0.1, inplace=False)\n",
       "            )\n",
       "            (final_layer_norm): LayerNorm((768,), eps=1e-05, elementwise_affine=True)\n",
       "          )\n",
       "          (5): SpeechT5DecoderLayer(\n",
       "            (self_attn): SpeechT5Attention(\n",
       "              (k_proj): Linear(in_features=768, out_features=768, bias=True)\n",
       "              (v_proj): Linear(in_features=768, out_features=768, bias=True)\n",
       "              (q_proj): Linear(in_features=768, out_features=768, bias=True)\n",
       "              (out_proj): Linear(in_features=768, out_features=768, bias=True)\n",
       "            )\n",
       "            (dropout): Dropout(p=0.1, inplace=False)\n",
       "            (self_attn_layer_norm): LayerNorm((768,), eps=1e-05, elementwise_affine=True)\n",
       "            (encoder_attn): SpeechT5Attention(\n",
       "              (k_proj): Linear(in_features=768, out_features=768, bias=True)\n",
       "              (v_proj): Linear(in_features=768, out_features=768, bias=True)\n",
       "              (q_proj): Linear(in_features=768, out_features=768, bias=True)\n",
       "              (out_proj): Linear(in_features=768, out_features=768, bias=True)\n",
       "            )\n",
       "            (encoder_attn_layer_norm): LayerNorm((768,), eps=1e-05, elementwise_affine=True)\n",
       "            (feed_forward): SpeechT5FeedForward(\n",
       "              (intermediate_dropout): Dropout(p=0.1, inplace=False)\n",
       "              (intermediate_dense): Linear(in_features=768, out_features=3072, bias=True)\n",
       "              (intermediate_act_fn): GELUActivation()\n",
       "              (output_dense): Linear(in_features=3072, out_features=768, bias=True)\n",
       "              (output_dropout): Dropout(p=0.1, inplace=False)\n",
       "            )\n",
       "            (final_layer_norm): LayerNorm((768,), eps=1e-05, elementwise_affine=True)\n",
       "          )\n",
       "        )\n",
       "      )\n",
       "    )\n",
       "  )\n",
       "  (speech_decoder_postnet): SpeechT5SpeechDecoderPostnet(\n",
       "    (feat_out): Linear(in_features=768, out_features=160, bias=True)\n",
       "    (prob_out): Linear(in_features=768, out_features=2, bias=True)\n",
       "    (layers): ModuleList(\n",
       "      (0): SpeechT5BatchNormConvLayer(\n",
       "        (conv): Conv1d(80, 256, kernel_size=(5,), stride=(1,), padding=(2,), bias=False)\n",
       "        (batch_norm): BatchNorm1d(256, eps=1e-05, momentum=0.1, affine=True, track_running_stats=True)\n",
       "        (activation): Tanh()\n",
       "        (dropout): Dropout(p=0.5, inplace=False)\n",
       "      )\n",
       "      (1): SpeechT5BatchNormConvLayer(\n",
       "        (conv): Conv1d(256, 256, kernel_size=(5,), stride=(1,), padding=(2,), bias=False)\n",
       "        (batch_norm): BatchNorm1d(256, eps=1e-05, momentum=0.1, affine=True, track_running_stats=True)\n",
       "        (activation): Tanh()\n",
       "        (dropout): Dropout(p=0.5, inplace=False)\n",
       "      )\n",
       "      (2): SpeechT5BatchNormConvLayer(\n",
       "        (conv): Conv1d(256, 256, kernel_size=(5,), stride=(1,), padding=(2,), bias=False)\n",
       "        (batch_norm): BatchNorm1d(256, eps=1e-05, momentum=0.1, affine=True, track_running_stats=True)\n",
       "        (activation): Tanh()\n",
       "        (dropout): Dropout(p=0.5, inplace=False)\n",
       "      )\n",
       "      (3): SpeechT5BatchNormConvLayer(\n",
       "        (conv): Conv1d(256, 256, kernel_size=(5,), stride=(1,), padding=(2,), bias=False)\n",
       "        (batch_norm): BatchNorm1d(256, eps=1e-05, momentum=0.1, affine=True, track_running_stats=True)\n",
       "        (activation): Tanh()\n",
       "        (dropout): Dropout(p=0.5, inplace=False)\n",
       "      )\n",
       "      (4): SpeechT5BatchNormConvLayer(\n",
       "        (conv): Conv1d(256, 80, kernel_size=(5,), stride=(1,), padding=(2,), bias=False)\n",
       "        (batch_norm): BatchNorm1d(80, eps=1e-05, momentum=0.1, affine=True, track_running_stats=True)\n",
       "        (dropout): Dropout(p=0.5, inplace=False)\n",
       "      )\n",
       "    )\n",
       "  )\n",
       ")"
      ]
     },
     "execution_count": 22,
     "metadata": {},
     "output_type": "execute_result"
    }
   ],
   "source": [
    "hf_model.eval()"
   ]
  },
  {
   "cell_type": "code",
   "execution_count": 23,
   "id": "09c1c4b9",
   "metadata": {
    "scrolled": true
   },
   "outputs": [
    {
     "name": "stderr",
     "output_type": "stream",
     "text": [
      "Some weights of the model checkpoint at /Users/matthijs/Documents/FILES/HuggingFace/SpeechT5/weights/speecht5_tts were not used when initializing SpeechT5Model: ['speech_decoder_postnet.layers.3.batch_norm.bias', 'speecht5.decoder.prenet.layer1.weight', 'speech_decoder_postnet.layers.0.batch_norm.running_var', 'speecht5.encoder.prenet.embed_tokens.weight', 'speech_decoder_postnet.feat_out.bias', 'speech_decoder_postnet.layers.3.batch_norm.running_mean', 'speecht5.encoder.prenet.encode_positions.pe', 'speecht5.decoder.prenet.layer3.weight', 'speech_decoder_postnet.layers.1.batch_norm.weight', 'speech_decoder_postnet.layers.1.batch_norm.running_mean', 'speech_decoder_postnet.layers.3.batch_norm.running_var', 'speech_decoder_postnet.layers.1.batch_norm.bias', 'speech_decoder_postnet.layers.2.batch_norm.weight', 'speecht5.decoder.prenet.layer2.bias', 'speech_decoder_postnet.layers.2.batch_norm.running_mean', 'speecht5.decoder.prenet.layer3.bias', 'speech_decoder_postnet.layers.4.conv.weight', 'speech_decoder_postnet.layers.2.batch_norm.bias', 'speecht5.decoder.prenet.layer1.bias', 'speech_decoder_postnet.layers.0.batch_norm.running_mean', 'speech_decoder_postnet.layers.4.batch_norm.weight', 'speech_decoder_postnet.layers.1.conv.weight', 'speech_decoder_postnet.layers.0.batch_norm.bias', 'speech_decoder_postnet.layers.1.batch_norm.num_batches_tracked', 'speech_decoder_postnet.layers.3.conv.weight', 'speech_decoder_postnet.layers.2.conv.weight', 'speech_decoder_postnet.layers.0.batch_norm.num_batches_tracked', 'speech_decoder_postnet.feat_out.weight', 'speech_decoder_postnet.prob_out.weight', 'speech_decoder_postnet.prob_out.bias', 'speecht5.decoder.prenet.speaker_embeds_layer.weight', 'speech_decoder_postnet.layers.2.batch_norm.num_batches_tracked', 'speech_decoder_postnet.layers.3.batch_norm.num_batches_tracked', 'speecht5.decoder.prenet.encode_positions.pe', 'speecht5.decoder.prenet.speaker_embeds_layer.bias', 'speech_decoder_postnet.layers.4.batch_norm.running_mean', 'speech_decoder_postnet.layers.2.batch_norm.running_var', 'speech_decoder_postnet.layers.0.batch_norm.weight', 'speech_decoder_postnet.layers.1.batch_norm.running_var', 'speech_decoder_postnet.layers.0.conv.weight', 'speech_decoder_postnet.layers.3.batch_norm.weight', 'speecht5.decoder.prenet.encode_positions.alpha', 'speech_decoder_postnet.layers.4.batch_norm.running_var', 'speecht5.encoder.prenet.encode_positions.alpha', 'speech_decoder_postnet.layers.4.batch_norm.num_batches_tracked', 'speech_decoder_postnet.layers.4.batch_norm.bias', 'speecht5.decoder.prenet.layer2.weight']\n",
      "- This IS expected if you are initializing SpeechT5Model from the checkpoint of a model trained on another task or with another architecture (e.g. initializing a BertForSequenceClassification model from a BertForPreTraining model).\n",
      "- This IS NOT expected if you are initializing SpeechT5Model from the checkpoint of a model that you expect to be exactly identical (initializing a BertForSequenceClassification model from a BertForSequenceClassification model).\n"
     ]
    }
   ],
   "source": [
    "# Loading should work OK for class `SpeechT5Model` too:\n",
    "hf_model_naked = SpeechT5Model.from_pretrained(model_checkpoint)"
   ]
  },
  {
   "cell_type": "markdown",
   "id": "64823660",
   "metadata": {},
   "source": [
    "## Load the original model"
   ]
  },
  {
   "cell_type": "markdown",
   "id": "1046bda1",
   "metadata": {},
   "source": [
    "See the script `generate_speech.py` from the SpeechT5 repo."
   ]
  },
  {
   "cell_type": "markdown",
   "id": "b1697ab0",
   "metadata": {},
   "source": [
    "Load the dictionary. This adds `<s>, <pad>, </s>, <unk>` tokens to the front and `<mask>` and `<ctc_blank>` to the end. **dict.txt** was [downloaded from here](https://drive.google.com/uc?export=download&id=19hcQ58RHZ6CssxF8Qp6yEF1NW_AXxObK). This is the Vocabulary link from the main SpeechT5 README."
   ]
  },
  {
   "cell_type": "code",
   "execution_count": 23,
   "id": "24e0f251",
   "metadata": {},
   "outputs": [
    {
     "name": "stdout",
     "output_type": "stream",
     "text": [
      "dictionary size: 81\n"
     ]
    }
   ],
   "source": [
    "from fairseq.data import Dictionary\n",
    "tgt_dict = Dictionary.load(\"/Users/matthijs/Documents/FILES/HuggingFace/SpeechT5/tryout/DATA_ROOT/dict.txt\")\n",
    "tgt_dict.add_symbol(\"<mask>\")\n",
    "tgt_dict.add_symbol(\"<ctc_blank>\")\n",
    "print(f\"dictionary size: \" f\"{len(tgt_dict):,}\")"
   ]
  },
  {
   "cell_type": "markdown",
   "id": "85935250",
   "metadata": {},
   "source": [
    "To load the model we need the `SpeechT5Task` object but constructing it is annoying. Fortunately, `build_model` only reads two properties from the task object, so we can fake it."
   ]
  },
  {
   "cell_type": "code",
   "execution_count": 24,
   "id": "ea4b4380",
   "metadata": {},
   "outputs": [],
   "source": [
    "class FakeTask:\n",
    "    def __init__(self):\n",
    "        self.dicts = { \"text\": tgt_dict }\n",
    "        self.t5_task = \"t2s\"\n",
    "        \n",
    "task = FakeTask()"
   ]
  },
  {
   "cell_type": "markdown",
   "id": "a5dc6c7a",
   "metadata": {},
   "source": [
    "Load the fine-tuned ASR model."
   ]
  },
  {
   "cell_type": "code",
   "execution_count": 25,
   "id": "a79fbfdf",
   "metadata": {},
   "outputs": [],
   "source": [
    "import torch\n",
    "from speecht5.models.speecht5 import T5TransformerModel"
   ]
  },
  {
   "cell_type": "code",
   "execution_count": 26,
   "id": "b9b2818e",
   "metadata": {},
   "outputs": [],
   "source": [
    "checkpoint = torch.load(\"../weights/speecht5-tts/speecht5_tts.pt\")\n",
    "\n",
    "orig_model = T5TransformerModel.build_model(checkpoint[\"cfg\"][\"model\"], task)\n",
    "\n",
    "orig_model.load_state_dict(checkpoint[\"model\"])\n",
    "orig_model = orig_model.eval()"
   ]
  },
  {
   "cell_type": "code",
   "execution_count": 27,
   "id": "bda7a201",
   "metadata": {},
   "outputs": [
    {
     "data": {
      "text/plain": [
       "speecht5.models.speecht5.T5TransformerModel"
      ]
     },
     "execution_count": 27,
     "metadata": {},
     "output_type": "execute_result"
    }
   ],
   "source": [
    "type(orig_model)"
   ]
  },
  {
   "cell_type": "code",
   "execution_count": 28,
   "id": "64d53b18",
   "metadata": {},
   "outputs": [
    {
     "data": {
      "text/plain": [
       "speecht5.models.modules.encoder.TransformerEncoder"
      ]
     },
     "execution_count": 28,
     "metadata": {},
     "output_type": "execute_result"
    }
   ],
   "source": [
    "type(orig_model.encoder)"
   ]
  },
  {
   "cell_type": "code",
   "execution_count": 29,
   "id": "bad44136",
   "metadata": {},
   "outputs": [],
   "source": [
    "#list(checkpoint[\"model\"].keys())"
   ]
  },
  {
   "cell_type": "code",
   "execution_count": 30,
   "id": "4c1faddb",
   "metadata": {},
   "outputs": [
    {
     "data": {
      "text/plain": [
       "fairseq.data.encoders.sentencepiece_bpe.SentencepieceBPE"
      ]
     },
     "execution_count": 30,
     "metadata": {},
     "output_type": "execute_result"
    }
   ],
   "source": [
    "from fairseq.data import encoders\n",
    "from argparse import Namespace\n",
    "tokenizer = encoders.build_bpe(\n",
    "    Namespace(\n",
    "        bpe='sentencepiece', \n",
    "        sentencepiece_model='/Users/matthijs/Documents/FILES/HuggingFace/SpeechT5/tryout/MODEL_DIR/spm_char.model'\n",
    "    )\n",
    ")\n",
    "type(tokenizer)"
   ]
  },
  {
   "cell_type": "code",
   "execution_count": 31,
   "id": "61dd5619",
   "metadata": {},
   "outputs": [],
   "source": [
    "# orig_model.decoder.layers[0].encoder_attn"
   ]
  },
  {
   "cell_type": "markdown",
   "id": "56503f04",
   "metadata": {
    "heading_collapsed": true
   },
   "source": [
    "## Verify text encoder prenet output"
   ]
  },
  {
   "cell_type": "markdown",
   "id": "42e2f9ff",
   "metadata": {
    "hidden": true
   },
   "source": [
    "The `text_encoder_prenet` converts the input tokens into embeddings of shape `(batch, sequence_length, 768)`."
   ]
  },
  {
   "cell_type": "code",
   "execution_count": 33,
   "id": "5e6cce50",
   "metadata": {
    "hidden": true
   },
   "outputs": [],
   "source": [
    "with torch.no_grad():\n",
    "    encoder_input, encoder_padding_mask = orig_model.text_encoder_prenet(src_tokens)"
   ]
  },
  {
   "cell_type": "code",
   "execution_count": 34,
   "id": "c3583a0f",
   "metadata": {
    "hidden": true
   },
   "outputs": [],
   "source": [
    "with torch.no_grad():\n",
    "    encoder_input, encoder_padding_mask = orig_model.text_encoder_prenet(input_ids_batch)"
   ]
  },
  {
   "cell_type": "code",
   "execution_count": 35,
   "id": "26c4a65d",
   "metadata": {
    "hidden": true
   },
   "outputs": [
    {
     "data": {
      "text/plain": [
       "(torch.Size([3, 79, 768]), torch.Size([3, 79]))"
      ]
     },
     "execution_count": 35,
     "metadata": {},
     "output_type": "execute_result"
    }
   ],
   "source": [
    "encoder_input.shape, encoder_padding_mask.shape"
   ]
  },
  {
   "cell_type": "code",
   "execution_count": 36,
   "id": "058de538",
   "metadata": {
    "hidden": true
   },
   "outputs": [
    {
     "data": {
      "text/plain": [
       "tensor([[[-0.0383,  0.0826,  0.0607,  ..., -0.0333, -0.1770,  0.0203],\n",
       "         [ 0.0857,  0.0239,  0.2346,  ...,  0.1588,  0.0084,  0.0664],\n",
       "         [ 0.0644,  0.0361,  0.2011,  ..., -0.0519, -0.1996,  0.0747],\n",
       "         ...,\n",
       "         [ 0.1361,  0.1569, -0.1022,  ...,  0.1605,  0.0147,  0.0804],\n",
       "         [ 0.2444, -0.0554, -0.0303,  ...,  0.0666,  0.0143, -0.0211],\n",
       "         [ 0.0408, -0.0834,  0.1128,  ...,  0.1641, -0.0404,  0.0649]],\n",
       "\n",
       "        [[-0.0383,  0.0826,  0.0607,  ..., -0.0333, -0.1770,  0.0203],\n",
       "         [ 0.0265, -0.0583,  0.1753,  ...,  0.1945, -0.0829,  0.0322],\n",
       "         [ 0.0574, -0.0665,  0.1584,  ..., -0.0333, -0.1770,  0.0203],\n",
       "         ...,\n",
       "         [ 0.0329,  0.0656, -0.0175,  ...,  0.1879, -0.0242,  0.1195],\n",
       "         [ 0.0786, -0.0244,  0.0573,  ...,  0.1879, -0.0242,  0.1195],\n",
       "         [ 0.0274, -0.1115,  0.1526,  ...,  0.1879, -0.0242,  0.1195]],\n",
       "\n",
       "        [[-0.0383,  0.0826,  0.0607,  ..., -0.0333, -0.1770,  0.0203],\n",
       "         [ 0.0857,  0.0239,  0.2346,  ...,  0.1588,  0.0084,  0.0664],\n",
       "         [ 0.0644,  0.0361,  0.2011,  ..., -0.0519, -0.1996,  0.0747],\n",
       "         ...,\n",
       "         [ 0.1361,  0.1569, -0.1022,  ...,  0.1605,  0.0147,  0.0804],\n",
       "         [ 0.2444, -0.0554, -0.0303,  ...,  0.0666,  0.0143, -0.0211],\n",
       "         [ 0.0408, -0.0834,  0.1128,  ...,  0.1641, -0.0404,  0.0649]]])"
      ]
     },
     "execution_count": 36,
     "metadata": {},
     "output_type": "execute_result"
    }
   ],
   "source": [
    "encoder_input"
   ]
  },
  {
   "cell_type": "code",
   "execution_count": 37,
   "id": "3c07884f",
   "metadata": {
    "hidden": true
   },
   "outputs": [
    {
     "data": {
      "text/plain": [
       "tensor([[False, False, False, False, False, False, False, False, False, False,\n",
       "         False, False, False, False, False, False, False, False, False, False,\n",
       "         False, False, False, False, False, False, False, False, False, False,\n",
       "         False, False, False, False, False, False, False, False, False, False,\n",
       "         False, False, False, False, False, False, False, False, False, False,\n",
       "         False, False, False, False, False, False, False, False, False, False,\n",
       "         False, False, False, False, False, False, False, False, False, False,\n",
       "         False, False, False, False, False, False, False, False, False],\n",
       "        [False, False, False, False, False, False, False, False, False, False,\n",
       "         False, False, False, False, False, False, False, False, False, False,\n",
       "         False, False, False,  True,  True,  True,  True,  True,  True,  True,\n",
       "          True,  True,  True,  True,  True,  True,  True,  True,  True,  True,\n",
       "          True,  True,  True,  True,  True,  True,  True,  True,  True,  True,\n",
       "          True,  True,  True,  True,  True,  True,  True,  True,  True,  True,\n",
       "          True,  True,  True,  True,  True,  True,  True,  True,  True,  True,\n",
       "          True,  True,  True,  True,  True,  True,  True,  True,  True],\n",
       "        [False, False, False, False, False, False, False, False, False, False,\n",
       "         False, False, False, False, False, False, False, False, False, False,\n",
       "         False, False, False, False, False, False, False, False, False, False,\n",
       "         False, False, False, False, False, False, False, False, False, False,\n",
       "         False, False, False, False, False, False, False, False, False, False,\n",
       "         False, False, False, False, False, False, False, False, False, False,\n",
       "         False, False, False, False, False, False, False, False, False, False,\n",
       "         False, False, False, False, False, False, False, False, False]])"
      ]
     },
     "execution_count": 37,
     "metadata": {},
     "output_type": "execute_result"
    }
   ],
   "source": [
    "encoder_padding_mask"
   ]
  },
  {
   "cell_type": "code",
   "execution_count": 38,
   "id": "7720e1b4",
   "metadata": {
    "hidden": true
   },
   "outputs": [
    {
     "data": {
      "text/plain": [
       "tensor(0.)"
      ]
     },
     "execution_count": 38,
     "metadata": {},
     "output_type": "execute_result"
    }
   ],
   "source": [
    "((1.0 - encoder_padding_mask * 1.0) - attention_mask_batch).sum()"
   ]
  },
  {
   "cell_type": "markdown",
   "id": "3e992b36",
   "metadata": {
    "hidden": true
   },
   "source": [
    "Run Hugging Face model:"
   ]
  },
  {
   "cell_type": "code",
   "execution_count": 39,
   "id": "1877608f",
   "metadata": {
    "hidden": true
   },
   "outputs": [
    {
     "data": {
      "text/plain": [
       "torch.Tensor"
      ]
     },
     "execution_count": 39,
     "metadata": {},
     "output_type": "execute_result"
    }
   ],
   "source": [
    "with torch.no_grad():\n",
    "     hf_outputs = hf_model.speecht5.encoder.prenet(src_tokens)\n",
    "\n",
    "type(hf_outputs)"
   ]
  },
  {
   "cell_type": "code",
   "execution_count": 40,
   "id": "86598818",
   "metadata": {
    "hidden": true
   },
   "outputs": [
    {
     "data": {
      "text/plain": [
       "torch.Tensor"
      ]
     },
     "execution_count": 40,
     "metadata": {},
     "output_type": "execute_result"
    }
   ],
   "source": [
    "with torch.no_grad():\n",
    "     hf_outputs = hf_model.speecht5.encoder.prenet(input_ids_batch)\n",
    "\n",
    "type(hf_outputs)"
   ]
  },
  {
   "cell_type": "code",
   "execution_count": 41,
   "id": "27750e48",
   "metadata": {
    "hidden": true
   },
   "outputs": [
    {
     "data": {
      "text/plain": [
       "torch.Size([3, 79, 768])"
      ]
     },
     "execution_count": 41,
     "metadata": {},
     "output_type": "execute_result"
    }
   ],
   "source": [
    "hf_outputs.shape"
   ]
  },
  {
   "cell_type": "code",
   "execution_count": 42,
   "id": "addc344c",
   "metadata": {
    "hidden": true
   },
   "outputs": [
    {
     "data": {
      "text/plain": [
       "tensor([[-0.0383,  0.0826,  0.0607,  ..., -0.0333, -0.1770,  0.0203],\n",
       "        [ 0.0857,  0.0239,  0.2346,  ...,  0.1588,  0.0084,  0.0664],\n",
       "        [ 0.0644,  0.0361,  0.2011,  ..., -0.0519, -0.1996,  0.0747],\n",
       "        ...,\n",
       "        [ 0.1361,  0.1569, -0.1022,  ...,  0.1605,  0.0147,  0.0804],\n",
       "        [ 0.2444, -0.0554, -0.0303,  ...,  0.0666,  0.0143, -0.0211],\n",
       "        [ 0.0408, -0.0834,  0.1128,  ...,  0.1641, -0.0404,  0.0649]])"
      ]
     },
     "execution_count": 42,
     "metadata": {},
     "output_type": "execute_result"
    }
   ],
   "source": [
    "hf_outputs[0]"
   ]
  },
  {
   "cell_type": "code",
   "execution_count": 43,
   "id": "adcd7a32",
   "metadata": {
    "hidden": true
   },
   "outputs": [],
   "source": [
    "hf_encoder_input = hf_outputs"
   ]
  },
  {
   "cell_type": "markdown",
   "id": "d2dbc6dd",
   "metadata": {
    "hidden": true
   },
   "source": [
    "If the weights and model were converted correctly, this should report zero or a very small number:"
   ]
  },
  {
   "cell_type": "code",
   "execution_count": 44,
   "id": "4b099ad3",
   "metadata": {
    "hidden": true
   },
   "outputs": [
    {
     "data": {
      "text/plain": [
       "tensor(0.)"
      ]
     },
     "execution_count": 44,
     "metadata": {},
     "output_type": "execute_result"
    }
   ],
   "source": [
    "torch.max(torch.abs(encoder_input - hf_outputs))"
   ]
  },
  {
   "cell_type": "code",
   "execution_count": 45,
   "id": "5533cb26",
   "metadata": {
    "hidden": true
   },
   "outputs": [
    {
     "data": {
      "text/plain": [
       "<matplotlib.image.AxesImage at 0x7fcb41b9bbb0>"
      ]
     },
     "execution_count": 45,
     "metadata": {},
     "output_type": "execute_result"
    },
    {
     "data": {
      "image/png": "[encoded data removed]",
      "text/plain": [
       "<Figure size 640x480 with 1 Axes>"
      ]
     },
     "metadata": {},
     "output_type": "display_data"
    }
   ],
   "source": [
    "plt.imshow(torch.abs(encoder_input - hf_outputs).numpy()[0])"
   ]
  },
  {
   "cell_type": "code",
   "execution_count": 46,
   "id": "ab556370",
   "metadata": {
    "hidden": true
   },
   "outputs": [],
   "source": [
    "# plt.imshow(torch.abs(encoder_input - hf_outputs).numpy()[1])"
   ]
  },
  {
   "cell_type": "markdown",
   "id": "8b76dc23",
   "metadata": {
    "heading_collapsed": true
   },
   "source": [
    "## Verify Transformer encoder output"
   ]
  },
  {
   "cell_type": "code",
   "execution_count": 46,
   "id": "47c86f72",
   "metadata": {
    "hidden": true
   },
   "outputs": [],
   "source": [
    "# Run it with the original's speech prenet input:\n",
    "with torch.no_grad():\n",
    "    encoder_output = orig_model.encoder(encoder_input, encoder_padding_mask)"
   ]
  },
  {
   "cell_type": "code",
   "execution_count": 47,
   "id": "41ff76cc",
   "metadata": {
    "hidden": true
   },
   "outputs": [
    {
     "name": "stdout",
     "output_type": "stream",
     "text": [
      "encoder_out shape torch.Size([79, 3, 768])\n",
      "encoder_padding_mask shape torch.Size([3, 79])\n",
      "encoder_states []\n",
      "src_tokens []\n",
      "decoder_input [None]\n",
      "encoder_out_for_ctc shape torch.Size([79, 3, 81])\n"
     ]
    }
   ],
   "source": [
    "print(\"encoder_out shape\", encoder_output[\"encoder_out\"][0].shape)\n",
    "print(\"encoder_padding_mask shape\", encoder_output[\"encoder_padding_mask\"][0].shape)\n",
    "print(\"encoder_states\", encoder_output[\"encoder_states\"])  # []\n",
    "print(\"src_tokens\", encoder_output[\"src_tokens\"])  # []\n",
    "print(\"decoder_input\", encoder_output[\"decoder_input\"])  # [None]\n",
    "print(\"encoder_out_for_ctc shape\", encoder_output[\"encoder_out_for_ctc\"][0].shape)"
   ]
  },
  {
   "cell_type": "code",
   "execution_count": 48,
   "id": "a38979d4",
   "metadata": {
    "hidden": true
   },
   "outputs": [
    {
     "data": {
      "text/plain": [
       "tensor([[[ 0.1216, -0.1223, -0.0161,  ...,  0.1346,  0.0016, -0.0969],\n",
       "         [-0.4308,  0.2260,  0.2156,  ..., -0.1011,  0.0140, -0.4570],\n",
       "         [-0.5038,  0.2883,  0.1684,  ...,  0.0300, -0.0678, -0.4736],\n",
       "         ...,\n",
       "         [ 0.4783, -0.1476, -0.0570,  ..., -0.2642, -0.6181,  0.2321],\n",
       "         [ 0.4313, -0.2115, -0.1195,  ..., -0.4216, -0.4153,  0.2950],\n",
       "         [ 0.0910, -0.0379,  0.1903,  ...,  0.0070, -0.1593, -0.0444]],\n",
       "\n",
       "        [[ 0.0905, -0.1641, -0.0431,  ...,  0.0498, -0.1105, -0.0655],\n",
       "         [-0.0920, -0.5321, -0.3698,  ..., -0.2545,  0.2266, -0.3704],\n",
       "         [-0.1659, -0.5388, -0.3071,  ..., -0.2132,  0.2163, -0.4686],\n",
       "         ...,\n",
       "         [-0.0044, -0.0316,  0.1062,  ..., -0.0323, -0.1612,  0.0196],\n",
       "         [-0.0057, -0.0386,  0.1017,  ..., -0.0345, -0.1654,  0.0178],\n",
       "         [-0.0060, -0.0436,  0.0920,  ..., -0.0345, -0.1679,  0.0209]],\n",
       "\n",
       "        [[ 0.1216, -0.1223, -0.0161,  ...,  0.1346,  0.0016, -0.0969],\n",
       "         [-0.4308,  0.2260,  0.2156,  ..., -0.1011,  0.0140, -0.4570],\n",
       "         [-0.5038,  0.2883,  0.1684,  ...,  0.0300, -0.0678, -0.4736],\n",
       "         ...,\n",
       "         [ 0.4783, -0.1476, -0.0570,  ..., -0.2642, -0.6181,  0.2321],\n",
       "         [ 0.4313, -0.2115, -0.1195,  ..., -0.4216, -0.4153,  0.2950],\n",
       "         [ 0.0910, -0.0379,  0.1903,  ...,  0.0070, -0.1593, -0.0444]]])"
      ]
     },
     "execution_count": 48,
     "metadata": {},
     "output_type": "execute_result"
    }
   ],
   "source": [
    "encoder_output[\"encoder_out\"][0].permute((1, 0, 2))"
   ]
  },
  {
   "cell_type": "code",
   "execution_count": 49,
   "id": "f9b9dda4",
   "metadata": {
    "hidden": true
   },
   "outputs": [],
   "source": [
    "# encoder_output[\"encoder_out_for_ctc\"][0].permute((1, 0, 2))"
   ]
  },
  {
   "cell_type": "code",
   "execution_count": 50,
   "id": "cde6dbda",
   "metadata": {
    "hidden": true
   },
   "outputs": [],
   "source": [
    "# Use exact same inputs as the original model:\n",
    "# with torch.no_grad():\n",
    "#      hf_outputs = hf_model.speecht5(\n",
    "#          inputs_embeds=encoder_input,\n",
    "#          attention_mask=(~encoder_padding_mask),\n",
    "#      )\n",
    "\n",
    "# type(hf_outputs)"
   ]
  },
  {
   "cell_type": "code",
   "execution_count": 51,
   "id": "fefcf62e",
   "metadata": {
    "hidden": true
   },
   "outputs": [
    {
     "data": {
      "text/plain": [
       "torch.Size([3, 79, 768])"
      ]
     },
     "execution_count": 51,
     "metadata": {},
     "output_type": "execute_result"
    }
   ],
   "source": [
    "hf_encoder_input.shape"
   ]
  },
  {
   "cell_type": "code",
   "execution_count": 52,
   "id": "28f529a5",
   "metadata": {
    "hidden": true
   },
   "outputs": [
    {
     "data": {
      "text/plain": [
       "transformers.modeling_outputs.BaseModelOutput"
      ]
     },
     "execution_count": 52,
     "metadata": {},
     "output_type": "execute_result"
    }
   ],
   "source": [
    "with torch.no_grad():\n",
    "     hf_outputs = hf_model.speecht5.encoder.wrapped_encoder(\n",
    "         hidden_states=hf_encoder_input,\n",
    "#          attention_mask=attention_mask,\n",
    "         attention_mask=attention_mask_batch,\n",
    "#          attention_mask=(1.0 - encoder_padding_mask * 1.0),\n",
    "         return_dict=True,\n",
    "     )\n",
    "\n",
    "type(hf_outputs)"
   ]
  },
  {
   "cell_type": "code",
   "execution_count": 53,
   "id": "fb12e71a",
   "metadata": {
    "hidden": true
   },
   "outputs": [
    {
     "data": {
      "text/plain": [
       "BaseModelOutput(last_hidden_state=tensor([[[ 0.1216, -0.1223, -0.0161,  ...,  0.1346,  0.0016, -0.0969],\n",
       "         [-0.4308,  0.2260,  0.2156,  ..., -0.1011,  0.0140, -0.4570],\n",
       "         [-0.5038,  0.2883,  0.1684,  ...,  0.0300, -0.0678, -0.4736],\n",
       "         ...,\n",
       "         [ 0.4783, -0.1476, -0.0570,  ..., -0.2642, -0.6181,  0.2321],\n",
       "         [ 0.4313, -0.2115, -0.1195,  ..., -0.4216, -0.4153,  0.2950],\n",
       "         [ 0.0910, -0.0379,  0.1903,  ...,  0.0070, -0.1593, -0.0444]],\n",
       "\n",
       "        [[ 0.0905, -0.1641, -0.0431,  ...,  0.0498, -0.1105, -0.0655],\n",
       "         [-0.0920, -0.5321, -0.3698,  ..., -0.2545,  0.2266, -0.3704],\n",
       "         [-0.1659, -0.5388, -0.3071,  ..., -0.2132,  0.2163, -0.4686],\n",
       "         ...,\n",
       "         [-0.0044, -0.0316,  0.1062,  ..., -0.0323, -0.1612,  0.0196],\n",
       "         [-0.0057, -0.0386,  0.1017,  ..., -0.0345, -0.1654,  0.0178],\n",
       "         [-0.0060, -0.0436,  0.0920,  ..., -0.0345, -0.1679,  0.0209]],\n",
       "\n",
       "        [[ 0.1216, -0.1223, -0.0161,  ...,  0.1346,  0.0016, -0.0969],\n",
       "         [-0.4308,  0.2260,  0.2156,  ..., -0.1011,  0.0140, -0.4570],\n",
       "         [-0.5038,  0.2883,  0.1684,  ...,  0.0300, -0.0678, -0.4736],\n",
       "         ...,\n",
       "         [ 0.4783, -0.1476, -0.0570,  ..., -0.2642, -0.6181,  0.2321],\n",
       "         [ 0.4313, -0.2115, -0.1195,  ..., -0.4216, -0.4153,  0.2950],\n",
       "         [ 0.0910, -0.0379,  0.1903,  ...,  0.0070, -0.1593, -0.0444]]]), hidden_states=None, attentions=None)"
      ]
     },
     "execution_count": 53,
     "metadata": {},
     "output_type": "execute_result"
    }
   ],
   "source": [
    "hf_outputs"
   ]
  },
  {
   "cell_type": "code",
   "execution_count": 54,
   "id": "06fb675b",
   "metadata": {
    "hidden": true
   },
   "outputs": [
    {
     "data": {
      "text/plain": [
       "['last_hidden_state']"
      ]
     },
     "execution_count": 54,
     "metadata": {},
     "output_type": "execute_result"
    }
   ],
   "source": [
    "list(hf_outputs.keys())"
   ]
  },
  {
   "cell_type": "code",
   "execution_count": 55,
   "id": "8fe9914e",
   "metadata": {
    "hidden": true
   },
   "outputs": [
    {
     "data": {
      "text/plain": [
       "torch.Size([3, 79, 768])"
      ]
     },
     "execution_count": 55,
     "metadata": {},
     "output_type": "execute_result"
    }
   ],
   "source": [
    "hf_outputs[\"last_hidden_state\"].shape"
   ]
  },
  {
   "cell_type": "code",
   "execution_count": 56,
   "id": "69eda6f0",
   "metadata": {
    "hidden": true
   },
   "outputs": [
    {
     "data": {
      "text/plain": [
       "tensor([[[ 0.1216, -0.1223, -0.0161,  ...,  0.1346,  0.0016, -0.0969],\n",
       "         [-0.4308,  0.2260,  0.2156,  ..., -0.1011,  0.0140, -0.4570],\n",
       "         [-0.5038,  0.2883,  0.1684,  ...,  0.0300, -0.0678, -0.4736],\n",
       "         ...,\n",
       "         [ 0.4783, -0.1476, -0.0570,  ..., -0.2642, -0.6181,  0.2321],\n",
       "         [ 0.4313, -0.2115, -0.1195,  ..., -0.4216, -0.4153,  0.2950],\n",
       "         [ 0.0910, -0.0379,  0.1903,  ...,  0.0070, -0.1593, -0.0444]],\n",
       "\n",
       "        [[ 0.0905, -0.1641, -0.0431,  ...,  0.0498, -0.1105, -0.0655],\n",
       "         [-0.0920, -0.5321, -0.3698,  ..., -0.2545,  0.2266, -0.3704],\n",
       "         [-0.1659, -0.5388, -0.3071,  ..., -0.2132,  0.2163, -0.4686],\n",
       "         ...,\n",
       "         [-0.0044, -0.0316,  0.1062,  ..., -0.0323, -0.1612,  0.0196],\n",
       "         [-0.0057, -0.0386,  0.1017,  ..., -0.0345, -0.1654,  0.0178],\n",
       "         [-0.0060, -0.0436,  0.0920,  ..., -0.0345, -0.1679,  0.0209]],\n",
       "\n",
       "        [[ 0.1216, -0.1223, -0.0161,  ...,  0.1346,  0.0016, -0.0969],\n",
       "         [-0.4308,  0.2260,  0.2156,  ..., -0.1011,  0.0140, -0.4570],\n",
       "         [-0.5038,  0.2883,  0.1684,  ...,  0.0300, -0.0678, -0.4736],\n",
       "         ...,\n",
       "         [ 0.4783, -0.1476, -0.0570,  ..., -0.2642, -0.6181,  0.2321],\n",
       "         [ 0.4313, -0.2115, -0.1195,  ..., -0.4216, -0.4153,  0.2950],\n",
       "         [ 0.0910, -0.0379,  0.1903,  ...,  0.0070, -0.1593, -0.0444]]])"
      ]
     },
     "execution_count": 56,
     "metadata": {},
     "output_type": "execute_result"
    }
   ],
   "source": [
    "hf_outputs[\"last_hidden_state\"]"
   ]
  },
  {
   "cell_type": "code",
   "execution_count": 57,
   "id": "a747e547",
   "metadata": {
    "hidden": true
   },
   "outputs": [
    {
     "data": {
      "text/plain": [
       "tensor(1.1921e-06)"
      ]
     },
     "execution_count": 57,
     "metadata": {},
     "output_type": "execute_result"
    }
   ],
   "source": [
    "torch.max(torch.abs(encoder_output[\"encoder_out\"][0].permute((1, 0, 2)) - hf_outputs[\"last_hidden_state\"]))"
   ]
  },
  {
   "cell_type": "markdown",
   "id": "51c46a9d",
   "metadata": {
    "hidden": true
   },
   "source": [
    "**Note:** When padding is used (in a batch), the difference is around 1e-6. This is probably because internally the padding mask is set to -3.4028e+38 where padding is used. I don't think the original model does it this way."
   ]
  },
  {
   "cell_type": "markdown",
   "id": "0c950849",
   "metadata": {
    "heading_collapsed": true
   },
   "source": [
    "## Full encoder"
   ]
  },
  {
   "cell_type": "code",
   "execution_count": 352,
   "id": "2f038415",
   "metadata": {
    "hidden": true
   },
   "outputs": [],
   "source": [
    "with torch.no_grad():\n",
    "    encoder_out = orig_model.forward_text_encoder(src_tokens)"
   ]
  },
  {
   "cell_type": "code",
   "execution_count": 69,
   "id": "2b73dfa6",
   "metadata": {
    "hidden": true
   },
   "outputs": [],
   "source": [
    "with torch.no_grad():\n",
    "    encoder_out = orig_model.forward_text_encoder(input_ids_batch)"
   ]
  },
  {
   "cell_type": "code",
   "execution_count": 70,
   "id": "28782edd",
   "metadata": {
    "hidden": true
   },
   "outputs": [
    {
     "data": {
      "text/plain": [
       "tensor([[[ 0.1216, -0.1223, -0.0161,  ...,  0.1346,  0.0016, -0.0969],\n",
       "         [-0.4308,  0.2260,  0.2156,  ..., -0.1011,  0.0140, -0.4570],\n",
       "         [-0.5038,  0.2883,  0.1684,  ...,  0.0300, -0.0678, -0.4736],\n",
       "         ...,\n",
       "         [ 0.4783, -0.1476, -0.0570,  ..., -0.2642, -0.6181,  0.2321],\n",
       "         [ 0.4313, -0.2115, -0.1195,  ..., -0.4216, -0.4153,  0.2950],\n",
       "         [ 0.0910, -0.0379,  0.1903,  ...,  0.0070, -0.1593, -0.0444]],\n",
       "\n",
       "        [[ 0.0905, -0.1641, -0.0431,  ...,  0.0498, -0.1105, -0.0655],\n",
       "         [-0.0920, -0.5321, -0.3698,  ..., -0.2545,  0.2266, -0.3704],\n",
       "         [-0.1659, -0.5388, -0.3071,  ..., -0.2132,  0.2163, -0.4686],\n",
       "         ...,\n",
       "         [-0.0044, -0.0316,  0.1062,  ..., -0.0323, -0.1612,  0.0196],\n",
       "         [-0.0057, -0.0386,  0.1017,  ..., -0.0345, -0.1654,  0.0178],\n",
       "         [-0.0060, -0.0436,  0.0920,  ..., -0.0345, -0.1679,  0.0209]],\n",
       "\n",
       "        [[ 0.1216, -0.1223, -0.0161,  ...,  0.1346,  0.0016, -0.0969],\n",
       "         [-0.4308,  0.2260,  0.2156,  ..., -0.1011,  0.0140, -0.4570],\n",
       "         [-0.5038,  0.2883,  0.1684,  ...,  0.0300, -0.0678, -0.4736],\n",
       "         ...,\n",
       "         [ 0.4783, -0.1476, -0.0570,  ..., -0.2642, -0.6181,  0.2321],\n",
       "         [ 0.4313, -0.2115, -0.1195,  ..., -0.4216, -0.4153,  0.2950],\n",
       "         [ 0.0910, -0.0379,  0.1903,  ...,  0.0070, -0.1593, -0.0444]]])"
      ]
     },
     "execution_count": 70,
     "metadata": {},
     "output_type": "execute_result"
    }
   ],
   "source": [
    "encoder_out[\"encoder_out\"][0].permute((1, 0, 2))"
   ]
  },
  {
   "cell_type": "code",
   "execution_count": 71,
   "id": "865dbb0e",
   "metadata": {
    "hidden": true
   },
   "outputs": [
    {
     "data": {
      "text/plain": [
       "torch.Size([3, 79, 768])"
      ]
     },
     "execution_count": 71,
     "metadata": {},
     "output_type": "execute_result"
    }
   ],
   "source": [
    "encoder_out[\"encoder_out\"][0].permute((1, 0, 2)).shape"
   ]
  },
  {
   "cell_type": "code",
   "execution_count": null,
   "id": "aea13537",
   "metadata": {
    "hidden": true
   },
   "outputs": [],
   "source": []
  },
  {
   "cell_type": "code",
   "execution_count": 356,
   "id": "33848c76",
   "metadata": {
    "hidden": true
   },
   "outputs": [
    {
     "data": {
      "text/plain": [
       "transformers.modeling_outputs.BaseModelOutput"
      ]
     },
     "execution_count": 356,
     "metadata": {},
     "output_type": "execute_result"
    }
   ],
   "source": [
    "with torch.no_grad():\n",
    "     hf_outputs = hf_model.speecht5.encoder(\n",
    "         input_values=src_tokens,\n",
    "         attention_mask=torch.ones_like(src_tokens),\n",
    "         return_dict=True,\n",
    "     )\n",
    "\n",
    "type(hf_outputs)"
   ]
  },
  {
   "cell_type": "code",
   "execution_count": 72,
   "id": "2af06347",
   "metadata": {
    "hidden": true
   },
   "outputs": [
    {
     "data": {
      "text/plain": [
       "transformers.modeling_outputs.BaseModelOutput"
      ]
     },
     "execution_count": 72,
     "metadata": {},
     "output_type": "execute_result"
    }
   ],
   "source": [
    "with torch.no_grad():\n",
    "     hf_outputs = hf_model.speecht5.encoder(\n",
    "         input_values=input_ids_batch,\n",
    "         #attention_mask=torch.ones_like(input_ids_batch),\n",
    "         attention_mask=attention_mask_batch,\n",
    "         return_dict=True,\n",
    "     )\n",
    "\n",
    "type(hf_outputs)"
   ]
  },
  {
   "cell_type": "code",
   "execution_count": 73,
   "id": "40060f6d",
   "metadata": {
    "hidden": true
   },
   "outputs": [
    {
     "data": {
      "text/plain": [
       "torch.Size([3, 79, 768])"
      ]
     },
     "execution_count": 73,
     "metadata": {},
     "output_type": "execute_result"
    }
   ],
   "source": [
    "hf_outputs.last_hidden_state.shape"
   ]
  },
  {
   "cell_type": "code",
   "execution_count": 74,
   "id": "3486fd24",
   "metadata": {
    "hidden": true,
    "scrolled": true
   },
   "outputs": [
    {
     "data": {
      "text/plain": [
       "tensor(1.1921e-06)"
      ]
     },
     "execution_count": 74,
     "metadata": {},
     "output_type": "execute_result"
    }
   ],
   "source": [
    "torch.max(torch.abs(encoder_out[\"encoder_out\"][0].permute((1, 0, 2)) - hf_outputs[\"last_hidden_state\"]))"
   ]
  },
  {
   "cell_type": "markdown",
   "id": "b17bb840",
   "metadata": {
    "heading_collapsed": true
   },
   "source": [
    "## Verify speech decoder prenet"
   ]
  },
  {
   "cell_type": "markdown",
   "id": "826b3fff",
   "metadata": {
    "hidden": true
   },
   "source": [
    "**NOTE:** From this point on, the outputs of the two models will not match because the speech decoder prenet *always* applies dropout, even when not training."
   ]
  },
  {
   "cell_type": "code",
   "execution_count": 75,
   "id": "e0950265",
   "metadata": {
    "hidden": true,
    "scrolled": true
   },
   "outputs": [
    {
     "data": {
      "text/plain": [
       "torch.Size([1, 1, 80])"
      ]
     },
     "execution_count": 75,
     "metadata": {},
     "output_type": "execute_result"
    }
   ],
   "source": [
    "ys = encoder_out[\"encoder_out\"][0].new_zeros(1, 1, orig_model.speech_decoder_postnet.odim)\n",
    "ys.shape"
   ]
  },
  {
   "cell_type": "code",
   "execution_count": 360,
   "id": "279a02a5",
   "metadata": {
    "hidden": true
   },
   "outputs": [],
   "source": [
    "ys = torch.randn(1, 1, 80)\n",
    "spkembs = torch.randn(1, 512)"
   ]
  },
  {
   "cell_type": "code",
   "execution_count": 457,
   "id": "730449dd",
   "metadata": {
    "hidden": true
   },
   "outputs": [],
   "source": [
    "ys = torch.randn(1, 100, 80)\n",
    "spkembs = torch.randn(1, 512)"
   ]
  },
  {
   "cell_type": "code",
   "execution_count": 2,
   "id": "8c1ee67e",
   "metadata": {
    "hidden": true
   },
   "outputs": [],
   "source": [
    "ys = torch.randn(3, 100, 80)\n",
    "spkembs = torch.randn(3, 512)"
   ]
  },
  {
   "cell_type": "code",
   "execution_count": 193,
   "id": "24f27af0",
   "metadata": {
    "hidden": true
   },
   "outputs": [],
   "source": [
    "#spkembs = None"
   ]
  },
  {
   "cell_type": "code",
   "execution_count": 16,
   "id": "fc99b511",
   "metadata": {
    "hidden": true
   },
   "outputs": [
    {
     "data": {
      "text/plain": [
       "torch.Size([3, 100, 768])"
      ]
     },
     "execution_count": 16,
     "metadata": {},
     "output_type": "execute_result"
    }
   ],
   "source": [
    "with torch.no_grad():\n",
    "    decoder_in, _ = orig_model.speech_decoder_prenet(ys, spkembs=spkembs)\n",
    "decoder_in.shape"
   ]
  },
  {
   "cell_type": "code",
   "execution_count": 17,
   "id": "86cf9ecd",
   "metadata": {
    "hidden": true
   },
   "outputs": [],
   "source": [
    "#decoder_in"
   ]
  },
  {
   "cell_type": "code",
   "execution_count": null,
   "id": "7a1cc023",
   "metadata": {
    "hidden": true
   },
   "outputs": [],
   "source": []
  },
  {
   "cell_type": "code",
   "execution_count": 18,
   "id": "77134734",
   "metadata": {
    "hidden": true
   },
   "outputs": [
    {
     "data": {
      "text/plain": [
       "torch.Size([3, 100, 768])"
      ]
     },
     "execution_count": 18,
     "metadata": {},
     "output_type": "execute_result"
    }
   ],
   "source": [
    "with torch.no_grad():\n",
    "     hf_outputs = hf_model.speecht5.decoder.prenet(\n",
    "         input_values=ys,\n",
    "         speaker_embeddings=spkembs,\n",
    "     )\n",
    "\n",
    "hf_outputs.shape"
   ]
  },
  {
   "cell_type": "code",
   "execution_count": 19,
   "id": "f7fc65dd",
   "metadata": {
    "hidden": true
   },
   "outputs": [
    {
     "data": {
      "text/plain": [
       "tensor(14.1602)"
      ]
     },
     "execution_count": 19,
     "metadata": {},
     "output_type": "execute_result"
    }
   ],
   "source": [
    "torch.max(torch.abs(decoder_in - hf_outputs))"
   ]
  },
  {
   "cell_type": "code",
   "execution_count": 22,
   "id": "ef8d7a7e",
   "metadata": {
    "hidden": true
   },
   "outputs": [],
   "source": [
    "# plt.imshow(decoder_in[0] - hf_outputs[0])"
   ]
  },
  {
   "cell_type": "code",
   "execution_count": null,
   "id": "59a1a3b2",
   "metadata": {
    "hidden": true
   },
   "outputs": [],
   "source": []
  },
  {
   "cell_type": "markdown",
   "id": "7fec354d",
   "metadata": {
    "heading_collapsed": true
   },
   "source": [
    "## Verify Transformer decoder output"
   ]
  },
  {
   "cell_type": "code",
   "execution_count": 110,
   "id": "559eb4d1",
   "metadata": {
    "hidden": true
   },
   "outputs": [
    {
     "data": {
      "text/plain": [
       "torch.Size([3, 100, 768])"
      ]
     },
     "execution_count": 110,
     "metadata": {},
     "output_type": "execute_result"
    }
   ],
   "source": [
    "prev_output_tokens = decoder_in\n",
    "prev_output_tokens.shape"
   ]
  },
  {
   "cell_type": "code",
   "execution_count": 96,
   "id": "2492babf",
   "metadata": {
    "hidden": true
   },
   "outputs": [
    {
     "data": {
      "text/plain": [
       "torch.Size([3, 1, 768])"
      ]
     },
     "execution_count": 96,
     "metadata": {},
     "output_type": "execute_result"
    }
   ],
   "source": [
    "prev_output_tokens = decoder_in[:, -1:]\n",
    "prev_output_tokens.shape"
   ]
  },
  {
   "cell_type": "code",
   "execution_count": 111,
   "id": "d516c43e",
   "metadata": {
    "hidden": true
   },
   "outputs": [],
   "source": [
    "tgt_mask = None"
   ]
  },
  {
   "cell_type": "code",
   "execution_count": 112,
   "id": "6229b43c",
   "metadata": {
    "hidden": true
   },
   "outputs": [],
   "source": [
    "with torch.no_grad():\n",
    "    decoder_output, extra = orig_model.decoder(\n",
    "        prev_output_tokens,\n",
    "        tgt_mask,\n",
    "        encoder_out=encoder_out,\n",
    "        incremental_state=None,\n",
    "        alignment_layer=-1,\n",
    "    )"
   ]
  },
  {
   "cell_type": "code",
   "execution_count": 113,
   "id": "0a190958",
   "metadata": {
    "hidden": true
   },
   "outputs": [
    {
     "data": {
      "text/plain": [
       "torch.Size([3, 100, 768])"
      ]
     },
     "execution_count": 113,
     "metadata": {},
     "output_type": "execute_result"
    }
   ],
   "source": [
    "decoder_output.shape"
   ]
  },
  {
   "cell_type": "code",
   "execution_count": 114,
   "id": "fea0351e",
   "metadata": {
    "hidden": true,
    "scrolled": true
   },
   "outputs": [],
   "source": [
    "# decoder_output"
   ]
  },
  {
   "cell_type": "code",
   "execution_count": 115,
   "id": "05117956",
   "metadata": {
    "hidden": true
   },
   "outputs": [],
   "source": [
    "#[x.shape for x in extra[\"attn\"]]"
   ]
  },
  {
   "cell_type": "code",
   "execution_count": 116,
   "id": "b593692b",
   "metadata": {
    "hidden": true
   },
   "outputs": [],
   "source": [
    "#[x.shape for x in extra[\"inner_states\"]]"
   ]
  },
  {
   "cell_type": "code",
   "execution_count": 117,
   "id": "0f4a7c0f",
   "metadata": {
    "hidden": true
   },
   "outputs": [
    {
     "data": {
      "text/plain": [
       "torch.Size([3, 100, 768])"
      ]
     },
     "execution_count": 117,
     "metadata": {},
     "output_type": "execute_result"
    }
   ],
   "source": [
    "prev_output_tokens.shape"
   ]
  },
  {
   "cell_type": "code",
   "execution_count": 118,
   "id": "9d486f4b",
   "metadata": {
    "hidden": true
   },
   "outputs": [
    {
     "data": {
      "text/plain": [
       "transformers.modeling_outputs.BaseModelOutputWithPastAndCrossAttentions"
      ]
     },
     "execution_count": 118,
     "metadata": {},
     "output_type": "execute_result"
    }
   ],
   "source": [
    "with torch.no_grad():\n",
    "     hf_outputs = hf_model.speecht5.decoder.wrapped_decoder(\n",
    "         hidden_states=prev_output_tokens,\n",
    "         attention_mask=None,\n",
    "         #attention_mask=torch.ones((prev_output_tokens.size(0), prev_output_tokens.size(1))), #decoder_attention_mask,\n",
    "         encoder_hidden_states=encoder_out[\"encoder_out\"][0].permute((1, 0, 2)),\n",
    "         encoder_attention_mask=(1.0 - encoder_out[\"encoder_padding_mask\"][0] * 1.0),\n",
    "         return_dict=True,\n",
    "     )\n",
    "\n",
    "type(hf_outputs)"
   ]
  },
  {
   "cell_type": "code",
   "execution_count": 119,
   "id": "ea512cc2",
   "metadata": {
    "hidden": true
   },
   "outputs": [
    {
     "data": {
      "text/plain": [
       "['last_hidden_state', 'past_key_values']"
      ]
     },
     "execution_count": 119,
     "metadata": {},
     "output_type": "execute_result"
    }
   ],
   "source": [
    "list(hf_outputs.keys())"
   ]
  },
  {
   "cell_type": "code",
   "execution_count": 120,
   "id": "d82c369a",
   "metadata": {
    "hidden": true
   },
   "outputs": [
    {
     "data": {
      "text/plain": [
       "torch.Size([3, 100, 768])"
      ]
     },
     "execution_count": 120,
     "metadata": {},
     "output_type": "execute_result"
    }
   ],
   "source": [
    "hf_outputs[\"last_hidden_state\"].shape"
   ]
  },
  {
   "cell_type": "code",
   "execution_count": 121,
   "id": "eb6282bc",
   "metadata": {
    "hidden": true
   },
   "outputs": [],
   "source": [
    "# hf_outputs[\"last_hidden_state\"]"
   ]
  },
  {
   "cell_type": "code",
   "execution_count": 122,
   "id": "f3e254cb",
   "metadata": {
    "hidden": true
   },
   "outputs": [
    {
     "data": {
      "text/plain": [
       "tensor(5.7220e-06)"
      ]
     },
     "execution_count": 122,
     "metadata": {},
     "output_type": "execute_result"
    }
   ],
   "source": [
    "torch.max(torch.abs(decoder_output - hf_outputs[\"last_hidden_state\"]))"
   ]
  },
  {
   "cell_type": "code",
   "execution_count": 123,
   "id": "e0d3d1fc",
   "metadata": {
    "hidden": true
   },
   "outputs": [
    {
     "data": {
      "text/plain": [
       "<matplotlib.image.AxesImage at 0x7fa21471b7c0>"
      ]
     },
     "execution_count": 123,
     "metadata": {},
     "output_type": "execute_result"
    },
    {
     "data": {
      "image/png": "[encoded data removed]",
      "text/plain": [
       "<Figure size 640x480 with 1 Axes>"
      ]
     },
     "metadata": {},
     "output_type": "display_data"
    }
   ],
   "source": [
    "plt.imshow((decoder_output - hf_outputs[\"last_hidden_state\"])[0])"
   ]
  },
  {
   "cell_type": "code",
   "execution_count": null,
   "id": "72dceba6",
   "metadata": {
    "hidden": true
   },
   "outputs": [],
   "source": []
  },
  {
   "cell_type": "markdown",
   "id": "ceec7dd9",
   "metadata": {
    "heading_collapsed": true
   },
   "source": [
    "## Full decoder"
   ]
  },
  {
   "cell_type": "code",
   "execution_count": 686,
   "id": "c1700a00",
   "metadata": {
    "hidden": true
   },
   "outputs": [],
   "source": [
    "with torch.no_grad():\n",
    "    encoder_out = orig_model.forward_text_encoder(src_tokens)\n",
    "    \n",
    "ys = torch.randn(1, 3, 80)\n",
    "#ys = torch.randn(1, 1, 80)    "
   ]
  },
  {
   "cell_type": "code",
   "execution_count": 124,
   "id": "d82a663d",
   "metadata": {
    "hidden": true
   },
   "outputs": [],
   "source": [
    "with torch.no_grad():\n",
    "    encoder_out = orig_model.forward_text_encoder(input_ids_batch)\n",
    "    \n",
    "# ys = torch.randn(3, 1, 80)\n",
    "# ys = torch.randn(3, 76, 80)\n",
    "ys = torch.zeros(3, 7, 80)"
   ]
  },
  {
   "cell_type": "code",
   "execution_count": 125,
   "id": "4146fa62",
   "metadata": {
    "hidden": true
   },
   "outputs": [],
   "source": [
    "spkembs = torch.randn(ys.size(0), 512)\n",
    "incremental_states = None"
   ]
  },
  {
   "cell_type": "code",
   "execution_count": 126,
   "id": "a91254be",
   "metadata": {
    "hidden": true
   },
   "outputs": [],
   "source": [
    "# with torch.no_grad():\n",
    "#     decoder_in, _ = orig_model.speech_decoder_prenet(ys, spkembs=spkembs)\n",
    "#     z, extra = orig_model.decoder(\n",
    "#         decoder_in[:,-1:], None, encoder_out, incremental_states, alignment_layer=-1\n",
    "#     )"
   ]
  },
  {
   "cell_type": "code",
   "execution_count": 127,
   "id": "36c4c798",
   "metadata": {
    "hidden": true
   },
   "outputs": [],
   "source": [
    "# Need to test this by padding the entire sequence into orig_model.decoder,\n",
    "# since that's what hf_model.speecht5.decoder does too.\n",
    "with torch.no_grad():\n",
    "    decoder_in, _ = orig_model.speech_decoder_prenet(ys, spkembs=spkembs)\n",
    "    z, extra = orig_model.decoder(\n",
    "        decoder_in, None, encoder_out, incremental_states, alignment_layer=-1\n",
    "    )"
   ]
  },
  {
   "cell_type": "code",
   "execution_count": 128,
   "id": "bd610771",
   "metadata": {
    "hidden": true
   },
   "outputs": [
    {
     "data": {
      "text/plain": [
       "(torch.Size([3, 7, 768]), torch.Size([3, 1, 768]))"
      ]
     },
     "execution_count": 128,
     "metadata": {},
     "output_type": "execute_result"
    }
   ],
   "source": [
    "decoder_in.shape, decoder_in[:,-1:].shape"
   ]
  },
  {
   "cell_type": "code",
   "execution_count": 129,
   "id": "c1f49894",
   "metadata": {
    "hidden": true
   },
   "outputs": [
    {
     "data": {
      "text/plain": [
       "torch.Size([3, 7, 768])"
      ]
     },
     "execution_count": 129,
     "metadata": {},
     "output_type": "execute_result"
    }
   ],
   "source": [
    "z.shape"
   ]
  },
  {
   "cell_type": "code",
   "execution_count": 130,
   "id": "6a048e44",
   "metadata": {
    "hidden": true
   },
   "outputs": [
    {
     "data": {
      "text/plain": [
       "transformers.modeling_outputs.BaseModelOutputWithPastAndCrossAttentions"
      ]
     },
     "execution_count": 130,
     "metadata": {},
     "output_type": "execute_result"
    }
   ],
   "source": [
    "with torch.no_grad():\n",
    "     hf_outputs = hf_model.speecht5.decoder(\n",
    "         input_values=ys,\n",
    "         #attention_mask=decoder_attention_mask,\n",
    "         encoder_hidden_states=encoder_out[\"encoder_out\"][0].permute((1, 0, 2)),\n",
    "#         encoder_attention_mask=(1.0 - encoder_out[\"encoder_padding_mask\"][0] * 1.0),\n",
    "         encoder_attention_mask=attention_mask_batch,\n",
    "         speaker_embeddings=spkembs,\n",
    "         return_dict=True,         \n",
    "     )\n",
    "\n",
    "type(hf_outputs)"
   ]
  },
  {
   "cell_type": "code",
   "execution_count": 131,
   "id": "6c4b72b1",
   "metadata": {
    "hidden": true
   },
   "outputs": [
    {
     "data": {
      "text/plain": [
       "torch.Size([3, 7, 768])"
      ]
     },
     "execution_count": 131,
     "metadata": {},
     "output_type": "execute_result"
    }
   ],
   "source": [
    "hf_outputs.last_hidden_state.shape"
   ]
  },
  {
   "cell_type": "code",
   "execution_count": 132,
   "id": "c119b515",
   "metadata": {
    "hidden": true
   },
   "outputs": [
    {
     "data": {
      "text/plain": [
       "tensor(2.3842e-06)"
      ]
     },
     "execution_count": 132,
     "metadata": {},
     "output_type": "execute_result"
    }
   ],
   "source": [
    "torch.max(torch.abs(z - hf_outputs[\"last_hidden_state\"]))"
   ]
  },
  {
   "cell_type": "code",
   "execution_count": 133,
   "id": "1f966f50",
   "metadata": {
    "hidden": true
   },
   "outputs": [
    {
     "name": "stdout",
     "output_type": "stream",
     "text": [
      "0 tensor(1.9073e-06)\n",
      "1 tensor(2.3842e-06)\n",
      "2 tensor(2.3842e-06)\n"
     ]
    }
   ],
   "source": [
    "for i in range(input_ids_batch.size(0)):\n",
    "    print(i, torch.max(torch.abs(z[i] - hf_outputs.last_hidden_state[i])))"
   ]
  },
  {
   "cell_type": "markdown",
   "id": "1d9113f7",
   "metadata": {
    "heading_collapsed": true
   },
   "source": [
    "## Verify speech decoder postnet output"
   ]
  },
  {
   "cell_type": "code",
   "execution_count": 134,
   "id": "16c82e7a",
   "metadata": {
    "hidden": true
   },
   "outputs": [
    {
     "data": {
      "text/plain": [
       "(torch.Size([3, 7, 768]), torch.Size([768]))"
      ]
     },
     "execution_count": 134,
     "metadata": {},
     "output_type": "execute_result"
    }
   ],
   "source": [
    "z.shape, z[0, -1].shape"
   ]
  },
  {
   "cell_type": "code",
   "execution_count": 135,
   "id": "110cd6dd",
   "metadata": {
    "hidden": true
   },
   "outputs": [],
   "source": [
    "#orig_model.speech_decoder_postnet"
   ]
  },
  {
   "cell_type": "code",
   "execution_count": 136,
   "id": "8e294ac6",
   "metadata": {
    "hidden": true
   },
   "outputs": [],
   "source": [
    "# hf_model.speech_decoder_postnet"
   ]
  },
  {
   "cell_type": "code",
   "execution_count": 137,
   "id": "a20be43c",
   "metadata": {
    "hidden": true
   },
   "outputs": [],
   "source": [
    "with torch.no_grad():\n",
    "    before_outs, after_outs, logits = orig_model.speech_decoder_postnet(z)  # z[:, -1])\n",
    "    \n",
    "    # before_outs = speech_decoder_postnet.feat_out(...)\n",
    "    # after_outs = final output\n",
    "    # logits = speech_decoder_postnet.prob_out(...)  for stop token"
   ]
  },
  {
   "cell_type": "code",
   "execution_count": 138,
   "id": "a7a143bf",
   "metadata": {
    "hidden": true
   },
   "outputs": [
    {
     "data": {
      "text/plain": [
       "(torch.Size([3, 14, 80]), torch.Size([3, 14, 80]), torch.Size([3, 14]))"
      ]
     },
     "execution_count": 138,
     "metadata": {},
     "output_type": "execute_result"
    }
   ],
   "source": [
    "before_outs.shape, after_outs.shape, logits.shape"
   ]
  },
  {
   "cell_type": "code",
   "execution_count": 139,
   "id": "7d6de14b",
   "metadata": {
    "hidden": true
   },
   "outputs": [
    {
     "data": {
      "text/plain": [
       "tensor([-24.1840, -10.6777, -22.3951, -12.5376, -22.7592, -11.0522, -22.7133,\n",
       "        -10.3976, -22.8957, -10.1333, -23.1024, -10.3960, -23.3082, -10.8343])"
      ]
     },
     "execution_count": 139,
     "metadata": {},
     "output_type": "execute_result"
    }
   ],
   "source": [
    "logits[0]"
   ]
  },
  {
   "cell_type": "code",
   "execution_count": 140,
   "id": "7ee9a8b7",
   "metadata": {
    "hidden": true
   },
   "outputs": [
    {
     "data": {
      "text/plain": [
       "torch.Size([3, 7, 768])"
      ]
     },
     "execution_count": 140,
     "metadata": {},
     "output_type": "execute_result"
    }
   ],
   "source": [
    "hf_outputs.last_hidden_state.shape"
   ]
  },
  {
   "cell_type": "code",
   "execution_count": 141,
   "id": "ba7571e7",
   "metadata": {
    "hidden": true
   },
   "outputs": [],
   "source": [
    "with torch.no_grad():\n",
    "    before_outs_hf, after_outs_hf, logits_hf = hf_model.speech_decoder_postnet(z)"
   ]
  },
  {
   "cell_type": "code",
   "execution_count": 142,
   "id": "5623a791",
   "metadata": {
    "hidden": true
   },
   "outputs": [
    {
     "data": {
      "text/plain": [
       "(torch.Size([3, 14, 80]), torch.Size([3, 14, 80]), torch.Size([3, 14]))"
      ]
     },
     "execution_count": 142,
     "metadata": {},
     "output_type": "execute_result"
    }
   ],
   "source": [
    "before_outs_hf.shape, after_outs_hf.shape, logits_hf.shape"
   ]
  },
  {
   "cell_type": "code",
   "execution_count": null,
   "id": "e230f4bf",
   "metadata": {
    "hidden": true
   },
   "outputs": [],
   "source": []
  },
  {
   "cell_type": "code",
   "execution_count": 143,
   "id": "6eeff463",
   "metadata": {
    "hidden": true
   },
   "outputs": [
    {
     "data": {
      "text/plain": [
       "tensor(0.)"
      ]
     },
     "execution_count": 143,
     "metadata": {},
     "output_type": "execute_result"
    }
   ],
   "source": [
    "torch.max(torch.abs(before_outs - before_outs_hf))"
   ]
  },
  {
   "cell_type": "code",
   "execution_count": 144,
   "id": "a0cb9d8e",
   "metadata": {
    "hidden": true
   },
   "outputs": [
    {
     "data": {
      "text/plain": [
       "tensor(0.)"
      ]
     },
     "execution_count": 144,
     "metadata": {},
     "output_type": "execute_result"
    }
   ],
   "source": [
    "torch.max(torch.abs(after_outs - after_outs_hf))"
   ]
  },
  {
   "cell_type": "code",
   "execution_count": 145,
   "id": "e8055eb3",
   "metadata": {
    "hidden": true
   },
   "outputs": [
    {
     "data": {
      "text/plain": [
       "tensor(0.)"
      ]
     },
     "execution_count": 145,
     "metadata": {},
     "output_type": "execute_result"
    }
   ],
   "source": [
    "torch.max(torch.abs(logits - logits_hf))"
   ]
  },
  {
   "cell_type": "code",
   "execution_count": null,
   "id": "24926eec",
   "metadata": {
    "hidden": true
   },
   "outputs": [],
   "source": []
  },
  {
   "cell_type": "markdown",
   "id": "b6d9d879",
   "metadata": {
    "heading_collapsed": true
   },
   "source": [
    "## Complete forward pass\n",
    "\n",
    "I think this is only used during training / fine-tuning, not inference."
   ]
  },
  {
   "cell_type": "code",
   "execution_count": 146,
   "id": "ddcce307",
   "metadata": {
    "hidden": true
   },
   "outputs": [],
   "source": [
    "spkembs = torch.randn((1, 512))\n",
    "\n",
    "with torch.no_grad():\n",
    "    hf_outputs = hf_model(\n",
    "        input_ids=src_tokens,\n",
    "        attention_mask=attention_mask,\n",
    "        decoder_input_values=torch.zeros((1, 7, 80)),\n",
    "        speaker_embeddings=spkembs,\n",
    "        return_dict=True\n",
    "    )"
   ]
  },
  {
   "cell_type": "code",
   "execution_count": 147,
   "id": "d06c7155",
   "metadata": {
    "hidden": true
   },
   "outputs": [
    {
     "data": {
      "text/plain": [
       "['logits', 'past_key_values', 'encoder_last_hidden_state']"
      ]
     },
     "execution_count": 147,
     "metadata": {},
     "output_type": "execute_result"
    }
   ],
   "source": [
    "list(hf_outputs.keys())"
   ]
  },
  {
   "cell_type": "code",
   "execution_count": 148,
   "id": "f784f8b5",
   "metadata": {
    "hidden": true
   },
   "outputs": [
    {
     "data": {
      "text/plain": [
       "torch.Size([1, 79, 768])"
      ]
     },
     "execution_count": 148,
     "metadata": {},
     "output_type": "execute_result"
    }
   ],
   "source": [
    "hf_outputs[\"encoder_last_hidden_state\"].shape"
   ]
  },
  {
   "cell_type": "code",
   "execution_count": 149,
   "id": "2ab9f732",
   "metadata": {
    "hidden": true
   },
   "outputs": [
    {
     "data": {
      "text/plain": [
       "torch.Size([1, 14, 80])"
      ]
     },
     "execution_count": 149,
     "metadata": {},
     "output_type": "execute_result"
    }
   ],
   "source": [
    "hf_outputs[\"logits\"].shape"
   ]
  },
  {
   "cell_type": "code",
   "execution_count": 150,
   "id": "23274a6a",
   "metadata": {
    "hidden": true
   },
   "outputs": [
    {
     "data": {
      "text/plain": [
       "<matplotlib.image.AxesImage at 0x7fa221660a30>"
      ]
     },
     "execution_count": 150,
     "metadata": {},
     "output_type": "execute_result"
    },
    {
     "data": {
      "image/png": "[encoded data removed]",
      "text/plain": [
       "<Figure size 640x480 with 1 Axes>"
      ]
     },
     "metadata": {},
     "output_type": "display_data"
    }
   ],
   "source": [
    "plt.imshow(hf_outputs[\"logits\"][0].T)"
   ]
  },
  {
   "cell_type": "code",
   "execution_count": 151,
   "id": "c8bc8dcc",
   "metadata": {
    "hidden": true
   },
   "outputs": [],
   "source": [
    "with torch.no_grad():\n",
    "    outputs = orig_model(\n",
    "        src_tokens=src_tokens,\n",
    "        prev_output_tokens=torch.zeros((1, 7, 80)),\n",
    "        spkembs=spkembs,        \n",
    "    )"
   ]
  },
  {
   "cell_type": "code",
   "execution_count": 152,
   "id": "ca8fe71f",
   "metadata": {
    "hidden": true
   },
   "outputs": [
    {
     "data": {
      "text/plain": [
       "torch.Size([1, 14, 80])"
      ]
     },
     "execution_count": 152,
     "metadata": {},
     "output_type": "execute_result"
    }
   ],
   "source": [
    "outputs[0].shape  # which one is this? (targets maybe?)"
   ]
  },
  {
   "cell_type": "code",
   "execution_count": 153,
   "id": "13f24ee2",
   "metadata": {
    "hidden": true
   },
   "outputs": [
    {
     "data": {
      "text/plain": [
       "tensor(0.)"
      ]
     },
     "execution_count": 153,
     "metadata": {},
     "output_type": "execute_result"
    }
   ],
   "source": [
    "torch.max(torch.abs(outputs[1] - hf_outputs[\"logits\"]))"
   ]
  },
  {
   "cell_type": "code",
   "execution_count": null,
   "id": "14b350bd",
   "metadata": {
    "hidden": true
   },
   "outputs": [],
   "source": []
  },
  {
   "cell_type": "markdown",
   "id": "2ffd4197",
   "metadata": {
    "hidden": true
   },
   "source": [
    "Batch:"
   ]
  },
  {
   "cell_type": "code",
   "execution_count": 10,
   "id": "e00c86be",
   "metadata": {
    "hidden": true
   },
   "outputs": [],
   "source": [
    "spkembs = torch.randn((input_ids_batch.size(0), 512))"
   ]
  },
  {
   "cell_type": "code",
   "execution_count": 11,
   "id": "234cc17a",
   "metadata": {
    "hidden": true
   },
   "outputs": [],
   "source": [
    "with torch.no_grad():\n",
    "    hf_outputs = hf_model(\n",
    "        input_ids=input_ids_batch,\n",
    "        attention_mask=attention_mask_batch,\n",
    "        decoder_input_values=torch.zeros((input_ids_batch.size(0), 7, 80)),\n",
    "        speaker_embeddings=spkembs,\n",
    "        return_dict=True\n",
    "    )"
   ]
  },
  {
   "cell_type": "code",
   "execution_count": 13,
   "id": "1249e334",
   "metadata": {
    "hidden": true
   },
   "outputs": [
    {
     "data": {
      "text/plain": [
       "transformers.modeling_outputs.Seq2SeqSpectrogramOutput"
      ]
     },
     "execution_count": 13,
     "metadata": {},
     "output_type": "execute_result"
    }
   ],
   "source": [
    "type(hf_outputs)"
   ]
  },
  {
   "cell_type": "code",
   "execution_count": 12,
   "id": "87781ad1",
   "metadata": {
    "hidden": true
   },
   "outputs": [
    {
     "data": {
      "text/plain": [
       "torch.Size([3, 14, 80])"
      ]
     },
     "execution_count": 12,
     "metadata": {},
     "output_type": "execute_result"
    }
   ],
   "source": [
    "hf_outputs[0].shape"
   ]
  },
  {
   "cell_type": "code",
   "execution_count": 157,
   "id": "2ed8b5df",
   "metadata": {
    "hidden": true
   },
   "outputs": [],
   "source": [
    "with torch.no_grad():\n",
    "    outputs = orig_model(\n",
    "        src_tokens=input_ids_batch,\n",
    "        prev_output_tokens=torch.zeros((input_ids_batch.size(0), 7, 80)),\n",
    "        spkembs=spkembs,        \n",
    "        #task_name=\"t2s\",\n",
    "    )"
   ]
  },
  {
   "cell_type": "code",
   "execution_count": 158,
   "id": "98396dc4",
   "metadata": {
    "hidden": true
   },
   "outputs": [
    {
     "data": {
      "text/plain": [
       "torch.Size([3, 14, 80])"
      ]
     },
     "execution_count": 158,
     "metadata": {},
     "output_type": "execute_result"
    }
   ],
   "source": [
    "outputs[1].shape"
   ]
  },
  {
   "cell_type": "code",
   "execution_count": 159,
   "id": "f42f7d8b",
   "metadata": {
    "hidden": true
   },
   "outputs": [
    {
     "name": "stdout",
     "output_type": "stream",
     "text": [
      "0 tensor(2.0266e-06)\n",
      "1 tensor(2.2650e-06)\n",
      "2 tensor(2.3916e-06)\n"
     ]
    }
   ],
   "source": [
    "for i in range(input_ids_batch.size(0)):\n",
    "    print(i, torch.max(torch.abs(outputs[1][i] - hf_outputs[\"logits\"][i])))"
   ]
  },
  {
   "cell_type": "code",
   "execution_count": 160,
   "id": "9e0782dd",
   "metadata": {
    "hidden": true
   },
   "outputs": [
    {
     "data": {
      "text/plain": [
       "<matplotlib.image.AxesImage at 0x7fa1a01b9fd0>"
      ]
     },
     "execution_count": 160,
     "metadata": {},
     "output_type": "execute_result"
    },
    {
     "data": {
      "image/png": "[encoded data removed]",
      "text/plain": [
       "<Figure size 640x480 with 1 Axes>"
      ]
     },
     "metadata": {},
     "output_type": "display_data"
    }
   ],
   "source": [
    "plt.imshow(hf_outputs[\"logits\"][1])"
   ]
  },
  {
   "cell_type": "code",
   "execution_count": 161,
   "id": "ba56b8b0",
   "metadata": {
    "hidden": true
   },
   "outputs": [
    {
     "data": {
      "text/plain": [
       "<matplotlib.image.AxesImage at 0x7fa2711e4880>"
      ]
     },
     "execution_count": 161,
     "metadata": {},
     "output_type": "execute_result"
    },
    {
     "data": {
      "image/png": "[encoded data removed]",
      "text/plain": [
       "<Figure size 640x480 with 1 Axes>"
      ]
     },
     "metadata": {},
     "output_type": "display_data"
    }
   ],
   "source": [
    "plt.imshow(outputs[1][1])"
   ]
  },
  {
   "cell_type": "code",
   "execution_count": 162,
   "id": "1605d0ea",
   "metadata": {
    "hidden": true
   },
   "outputs": [
    {
     "data": {
      "text/plain": [
       "<matplotlib.image.AxesImage at 0x7fa230389490>"
      ]
     },
     "execution_count": 162,
     "metadata": {},
     "output_type": "execute_result"
    },
    {
     "data": {
      "image/png": "[encoded data removed]",
      "text/plain": [
       "<Figure size 640x480 with 1 Axes>"
      ]
     },
     "metadata": {},
     "output_type": "display_data"
    }
   ],
   "source": [
    "plt.imshow(hf_outputs[\"logits\"][1] - outputs[1][1])"
   ]
  },
  {
   "cell_type": "code",
   "execution_count": null,
   "id": "b339e250",
   "metadata": {
    "hidden": true
   },
   "outputs": [],
   "source": []
  },
  {
   "cell_type": "markdown",
   "id": "dd6957a0",
   "metadata": {
    "hidden": true
   },
   "source": [
    "Without `input_ids` but previous encoder state:"
   ]
  },
  {
   "cell_type": "code",
   "execution_count": 163,
   "id": "3ebf5ed2",
   "metadata": {
    "hidden": true
   },
   "outputs": [],
   "source": [
    "encoder_last_hidden_state = hf_outputs.encoder_last_hidden_state"
   ]
  },
  {
   "cell_type": "code",
   "execution_count": 164,
   "id": "6160d9cb",
   "metadata": {
    "hidden": true
   },
   "outputs": [],
   "source": [
    "with torch.no_grad():\n",
    "    hf_outputs = hf_model(\n",
    "        encoder_outputs=(encoder_last_hidden_state,),\n",
    "        attention_mask=attention_mask_batch,\n",
    "        decoder_input_values=hf_outputs[\"logits\"], #torch.zeros((1, 10, 80)),\n",
    "        speaker_embeddings=torch.randn((encoder_last_hidden_state.size(0), 512)),\n",
    "        return_dict=True\n",
    "    )"
   ]
  },
  {
   "cell_type": "code",
   "execution_count": 165,
   "id": "b2675390",
   "metadata": {
    "hidden": true
   },
   "outputs": [
    {
     "data": {
      "text/plain": [
       "['logits', 'past_key_values', 'encoder_last_hidden_state']"
      ]
     },
     "execution_count": 165,
     "metadata": {},
     "output_type": "execute_result"
    }
   ],
   "source": [
    "list(hf_outputs.keys())"
   ]
  },
  {
   "cell_type": "code",
   "execution_count": 166,
   "id": "7c583962",
   "metadata": {
    "hidden": true
   },
   "outputs": [
    {
     "data": {
      "text/plain": [
       "torch.Size([3, 79, 768])"
      ]
     },
     "execution_count": 166,
     "metadata": {},
     "output_type": "execute_result"
    }
   ],
   "source": [
    "hf_outputs[\"encoder_last_hidden_state\"].shape"
   ]
  },
  {
   "cell_type": "code",
   "execution_count": 167,
   "id": "8463e13f",
   "metadata": {
    "hidden": true
   },
   "outputs": [
    {
     "data": {
      "text/plain": [
       "torch.Size([3, 28, 80])"
      ]
     },
     "execution_count": 167,
     "metadata": {},
     "output_type": "execute_result"
    }
   ],
   "source": [
    "hf_outputs[\"logits\"].shape"
   ]
  },
  {
   "cell_type": "code",
   "execution_count": 168,
   "id": "673c4c88",
   "metadata": {
    "hidden": true
   },
   "outputs": [
    {
     "data": {
      "text/plain": [
       "<matplotlib.image.AxesImage at 0x7fa2306fcdc0>"
      ]
     },
     "execution_count": 168,
     "metadata": {},
     "output_type": "execute_result"
    },
    {
     "data": {
      "image/png": "[encoded data removed]",
      "text/plain": [
       "<Figure size 640x480 with 1 Axes>"
      ]
     },
     "metadata": {},
     "output_type": "display_data"
    }
   ],
   "source": [
    "plt.imshow(hf_outputs[\"logits\"][0].T)"
   ]
  },
  {
   "cell_type": "code",
   "execution_count": null,
   "id": "ff354fce",
   "metadata": {
    "hidden": true
   },
   "outputs": [],
   "source": []
  },
  {
   "cell_type": "markdown",
   "id": "c9f3d81d",
   "metadata": {
    "hidden": true
   },
   "source": [
    "Calculate loss:"
   ]
  },
  {
   "cell_type": "code",
   "execution_count": null,
   "id": "96a00c6f",
   "metadata": {
    "hidden": true
   },
   "outputs": [],
   "source": [
    "with torch.no_grad():\n",
    "     hf_outputs = hf_model(\n",
    "         input_values=inputs.input_values,\n",
    "         attention_mask=inputs.attention_mask,\n",
    "         #decoder_input_ids=torch.tensor([[2,  4, 18, 10, 12,  6,  5]]),\n",
    "         labels=torch.tensor([[4, 18, 10, 12,  6,  5, 13]]),\n",
    "         #labels=torch.tensor([[4, 18, 10, 12,  6,  5, 13], [4, 18, 10, 12,  6,  5, 13]]),  # batch\n",
    "     )"
   ]
  },
  {
   "cell_type": "code",
   "execution_count": null,
   "id": "608ad7ac",
   "metadata": {
    "hidden": true
   },
   "outputs": [],
   "source": [
    "# TODO loss!"
   ]
  },
  {
   "cell_type": "code",
   "execution_count": null,
   "id": "fde93498",
   "metadata": {
    "hidden": true
   },
   "outputs": [],
   "source": []
  },
  {
   "cell_type": "markdown",
   "id": "394115d0",
   "metadata": {},
   "source": [
    "## Generating speech"
   ]
  },
  {
   "cell_type": "markdown",
   "id": "b949bb79",
   "metadata": {},
   "source": [
    "The original repo comes with a `generate_speech.py` script. This is used instead of the typical encoder-decoder generation loop.\n",
    "\n",
    "What this script does:\n",
    "\n",
    "- create SpeechT5 task\n",
    "- load the model checkpoint\n",
    "- load the dataset\n",
    "- create an iterator for the examples in the dataset\n",
    "- loop through the iterator and call `task.generate_speech()` on each example\n",
    "- save the predicted features to a numpy file\n",
    "- save some spectrogram plots\n",
    "\n",
    "The example that goes into `task.generate_speech()` is already tokenized. This is done by the dataset.\n",
    "\n",
    "`task.generate_speech()` calls `model.generate_speech()` on the T5TransformerModel.\n",
    "\n",
    "Dataset (`text_to_speech_dataset.py`):\n",
    "\n",
    "- `__getitem__`:\n",
    "    - calls `get_labels` which gets the text and tokenizes it\n",
    "    - calls `get_audio` to load the target audio file and converts it to log-mel spectrograms\n",
    "    - calls `get_features_or_waveform` to load the speaker embeddings from NumPy files (= 512-element vector)\n",
    "    \n",
    "- `collater`:\n",
    "    - thins out frames of the target spectrogram for reduction factor (= 2)\n",
    "    - creates `prev_output_tokens` by shifting the target spectrogram\n",
    "    - creates labels for stop token prediction (tensor with same size as spectrogram that is all zero except for final element, which is 1)\n",
    "    - pads everything to fit in a mini-batch\n",
    "\n",
    "We don't need the target audio."
   ]
  },
  {
   "cell_type": "code",
   "execution_count": 24,
   "id": "ac6c3d0a",
   "metadata": {},
   "outputs": [],
   "source": [
    "text = \"Hey, what's up, Hugging Face? This is Speech tee five talking to you for real.\""
   ]
  },
  {
   "cell_type": "code",
   "execution_count": 25,
   "id": "dc43c338",
   "metadata": {},
   "outputs": [
    {
     "data": {
      "text/plain": [
       "tensor([[ 4, 35,  5, 22, 23,  4, 20, 11,  7,  6, 31, 12,  4, 16, 24, 23,  4, 35,\n",
       "         16, 21, 21, 10,  9, 21,  4, 55,  7, 17,  5, 41,  4, 32, 11, 10, 12,  4,\n",
       "         10, 12,  4, 34, 24,  5,  5, 17, 11,  4,  6,  5,  5,  4, 19, 10, 27,  5,\n",
       "          4,  6,  7, 15, 28, 10,  9, 21,  4,  6,  8,  4, 22,  8, 16,  4, 19,  8,\n",
       "         13,  4, 13,  5,  7, 15, 26]], dtype=torch.int32)"
      ]
     },
     "execution_count": 25,
     "metadata": {},
     "output_type": "execute_result"
    }
   ],
   "source": [
    "label = tokenizer.encode(text)\n",
    "src_tokens = label_processor(label)\n",
    "src_tokens = src_tokens.unsqueeze(0)\n",
    "src_tokens"
   ]
  },
  {
   "cell_type": "code",
   "execution_count": 26,
   "id": "f7b0a239",
   "metadata": {},
   "outputs": [
    {
     "data": {
      "text/plain": [
       "torch.Size([1, 512])"
      ]
     },
     "execution_count": 26,
     "metadata": {},
     "output_type": "execute_result"
    }
   ],
   "source": [
    "# xvector = \"1272-128104.npy\"\n",
    "xvector = \"711-187464.npy\"\n",
    "spkembs_path = \"/Users/matthijs/Documents/FILES/HuggingFace/SpeechT5/tryout/AUDIO_DIR/dev_clean/xvectors/\" + xvector\n",
    "\n",
    "spkembs = torch.from_numpy(np.load(spkembs_path)).float()\n",
    "spkembs = spkembs.unsqueeze(0)\n",
    "spkembs.shape"
   ]
  },
  {
   "cell_type": "code",
   "execution_count": 27,
   "id": "0d4e5eff",
   "metadata": {},
   "outputs": [],
   "source": [
    "threshold = 0.5\n",
    "minlenratio = 0.0\n",
    "maxlenratio = 20.0\n",
    "reduction_factor = 2"
   ]
  },
  {
   "cell_type": "markdown",
   "id": "3e3cb030",
   "metadata": {
    "heading_collapsed": true
   },
   "source": [
    "### The loop from the original code"
   ]
  },
  {
   "cell_type": "code",
   "execution_count": 39,
   "id": "25d9872b",
   "metadata": {
    "hidden": true
   },
   "outputs": [
    {
     "data": {
      "text/plain": [
       "['encoder_out',\n",
       " 'encoder_padding_mask',\n",
       " 'encoder_states',\n",
       " 'src_tokens',\n",
       " 'decoder_input',\n",
       " 'encoder_out_for_ctc']"
      ]
     },
     "execution_count": 39,
     "metadata": {},
     "output_type": "execute_result"
    }
   ],
   "source": [
    "with torch.no_grad():\n",
    "    encoder_out = orig_model.forward_text_encoder(src_tokens)\n",
    "list(encoder_out.keys())"
   ]
  },
  {
   "cell_type": "markdown",
   "id": "017a4a02",
   "metadata": {
    "hidden": true
   },
   "source": [
    "This part is skipped, since `spk_embed_integration_type == \"pre\"`:"
   ]
  },
  {
   "cell_type": "raw",
   "id": "4fb4ad2a",
   "metadata": {
    "hidden": true
   },
   "source": [
    "if spkembs is not None and self.spk_embed_integration_type != \"pre\":\n",
    "    encoder_out[\"encoder_out\"] = [self._integrate_with_spk_embed(\n",
    "        encoder_out[\"encoder_out\"][0].transpose(0, 1), spkembs\n",
    "    ).transpose(0, 1)]\n",
    "    spkembs = None"
   ]
  },
  {
   "cell_type": "code",
   "execution_count": 40,
   "id": "6221c52b",
   "metadata": {
    "hidden": true
   },
   "outputs": [
    {
     "data": {
      "text/plain": [
       "(790, 0)"
      ]
     },
     "execution_count": 40,
     "metadata": {},
     "output_type": "execute_result"
    }
   ],
   "source": [
    "maxlen = int(encoder_out[\"encoder_out\"][0].size(0) * maxlenratio / reduction_factor)\n",
    "minlen = int(encoder_out[\"encoder_out\"][0].size(0) * minlenratio / reduction_factor)\n",
    "maxlen, minlen"
   ]
  },
  {
   "cell_type": "code",
   "execution_count": 41,
   "id": "73147aa5",
   "metadata": {
    "hidden": true
   },
   "outputs": [],
   "source": [
    "ys = encoder_out[\"encoder_out\"][0].new_zeros(1, 1, orig_model.speech_decoder_postnet.odim)\n",
    "\n",
    "outs, probs = [], []\n",
    "\n",
    "incremental_states = {}\n",
    "attns = []\n",
    "\n",
    "idx = 0\n",
    "\n",
    "# for debugging\n",
    "zs = []\n",
    "decoder_ins = []\n",
    "\n",
    "with torch.no_grad():\n",
    "    while True:\n",
    "        # update index\n",
    "        idx += 1\n",
    "\n",
    "        # calculate output and stop prob at idx-th step\n",
    "        decoder_in, _ = orig_model.speech_decoder_prenet(ys, spkembs=spkembs)\n",
    "        decoder_ins.append(decoder_in)\n",
    "        \n",
    "        z, extra = orig_model.decoder(\n",
    "            decoder_in[:, -1:], None, encoder_out, incremental_states, alignment_layer=-1\n",
    "        )\n",
    "        \n",
    "        zs.append(z)  # debugging only\n",
    "        \n",
    "        outs += [\n",
    "            orig_model.speech_decoder_postnet.feat_out(z[0, -1]).view(\n",
    "                reduction_factor, orig_model.speech_decoder_postnet.odim)\n",
    "        ]  # [(r, odim), ...]\n",
    "        \n",
    "        probs += [torch.sigmoid(orig_model.speech_decoder_postnet.prob_out(z[0, -1]))]  # [(r), ...]\n",
    "\n",
    "        # update next inputs\n",
    "        ys = torch.cat((ys, outs[-1][-1].view(1, 1, orig_model.speech_decoder_postnet.odim)), dim=1)  # (1, idx + 1, odim)\n",
    "        attns.append(torch.stack([att_l[0] for att_l in extra['attn'][0]], dim=0))\n",
    "        \n",
    "\n",
    "        # check whether to finish generation\n",
    "        if int(sum(probs[-1] >= threshold)) > 0 or idx >= maxlen:\n",
    "            # check mininum length\n",
    "            if idx < minlen:\n",
    "                continue\n",
    "            outs = (torch.cat(outs, dim=0).unsqueeze(0).transpose(1, 2))  # (L, odim) -> (1, L, odim) -> (1, odim, L)\n",
    "            \n",
    "            if orig_model.speech_decoder_postnet.postnet is not None:\n",
    "                outs = outs + orig_model.speech_decoder_postnet.postnet(outs)  # (1, odim, L)\n",
    "            outs = outs.transpose(2, 1).squeeze(0)  # (L, odim)\n",
    "            probs = torch.cat(probs, dim=0)\n",
    "            attn = torch.cat(attns, dim=2)\n",
    "            break\n",
    "\n",
    "    # if outs.size(0) == maxlen:\n",
    "    #     logging.warning(\"output length reaches maximum length\")\n",
    "    # return outs, probs, attn"
   ]
  },
  {
   "cell_type": "code",
   "execution_count": 42,
   "id": "01f5e049",
   "metadata": {
    "hidden": true
   },
   "outputs": [
    {
     "data": {
      "text/plain": [
       "125"
      ]
     },
     "execution_count": 42,
     "metadata": {},
     "output_type": "execute_result"
    }
   ],
   "source": [
    "idx"
   ]
  },
  {
   "cell_type": "code",
   "execution_count": 43,
   "id": "991c694b",
   "metadata": {
    "hidden": true
   },
   "outputs": [
    {
     "data": {
      "text/plain": [
       "(torch.Size([250, 80]), torch.Size([250]), torch.Size([6, 12, 125, 79]))"
      ]
     },
     "execution_count": 43,
     "metadata": {},
     "output_type": "execute_result"
    }
   ],
   "source": [
    "outs.shape, probs.shape, attn.shape"
   ]
  },
  {
   "cell_type": "code",
   "execution_count": 44,
   "id": "3e241d44",
   "metadata": {
    "hidden": true
   },
   "outputs": [],
   "source": [
    "# outs"
   ]
  },
  {
   "cell_type": "code",
   "execution_count": 45,
   "id": "49019a0d",
   "metadata": {
    "hidden": true
   },
   "outputs": [],
   "source": [
    "# probs"
   ]
  },
  {
   "cell_type": "code",
   "execution_count": 46,
   "id": "11e81e8b",
   "metadata": {
    "hidden": true
   },
   "outputs": [],
   "source": [
    "# np.save(\"/Users/matthijs/Documents/FILES/HuggingFace/SpeechT5/tryout/RESULTS_PATH_TTS/test-feats.npy\", outs)"
   ]
  },
  {
   "cell_type": "code",
   "execution_count": 47,
   "id": "ca9c058b",
   "metadata": {
    "hidden": true
   },
   "outputs": [
    {
     "data": {
      "text/plain": [
       "(246, 80)"
      ]
     },
     "execution_count": 47,
     "metadata": {},
     "output_type": "execute_result"
    }
   ],
   "source": [
    "output_from_orig = np.load(\"/Users/matthijs/Documents/FILES/HuggingFace/SpeechT5/tryout/RESULTS_PATH_TTS/1272-141231-0020-feats.npy\")\n",
    "output_from_orig.shape"
   ]
  },
  {
   "cell_type": "code",
   "execution_count": 48,
   "id": "8ea516b2",
   "metadata": {
    "hidden": true
   },
   "outputs": [
    {
     "data": {
      "text/plain": [
       "array([[-2.473754 , -2.6110775, -2.6744287, ..., -3.4291997, -3.4861205,\n",
       "        -3.7170238],\n",
       "       [-2.3763716, -2.483789 , -2.5290115, ..., -3.335082 , -3.3697302,\n",
       "        -3.658468 ],\n",
       "       [-2.2457216, -2.3389206, -2.3680828, ..., -3.2389064, -3.2980084,\n",
       "        -3.5808692],\n",
       "       ...,\n",
       "       [-1.9134729, -1.4292057, -0.9842132, ..., -3.1504958, -3.1947155,\n",
       "        -3.484864 ],\n",
       "       [-2.0729182, -1.583269 , -1.2519165, ..., -3.1911037, -3.2313066,\n",
       "        -3.508048 ],\n",
       "       [-2.2312534, -1.8440536, -1.6086199, ..., -3.1966043, -3.2362816,\n",
       "        -3.5100303]], dtype=float32)"
      ]
     },
     "execution_count": 48,
     "metadata": {},
     "output_type": "execute_result"
    }
   ],
   "source": [
    "output_from_orig"
   ]
  },
  {
   "cell_type": "code",
   "execution_count": 49,
   "id": "f5c169b5",
   "metadata": {
    "hidden": true
   },
   "outputs": [
    {
     "ename": "ValueError",
     "evalue": "operands could not be broadcast together with shapes (246,80) (250,80) ",
     "output_type": "error",
     "traceback": [
      "\u001b[0;31m---------------------------------------------------------------------------\u001b[0m",
      "\u001b[0;31mValueError\u001b[0m                                Traceback (most recent call last)",
      "Input \u001b[0;32mIn [49]\u001b[0m, in \u001b[0;36m<cell line: 1>\u001b[0;34m()\u001b[0m\n\u001b[0;32m----> 1\u001b[0m np\u001b[38;5;241m.\u001b[39mmax(np\u001b[38;5;241m.\u001b[39mabs(\u001b[43moutput_from_orig\u001b[49m\u001b[43m \u001b[49m\u001b[38;5;241;43m-\u001b[39;49m\u001b[43m \u001b[49m\u001b[43mouts\u001b[49m\u001b[38;5;241;43m.\u001b[39;49m\u001b[43mnumpy\u001b[49m\u001b[43m(\u001b[49m\u001b[43m)\u001b[49m))\n",
      "\u001b[0;31mValueError\u001b[0m: operands could not be broadcast together with shapes (246,80) (250,80) "
     ]
    }
   ],
   "source": [
    "np.max(np.abs(output_from_orig - outs.numpy()))"
   ]
  },
  {
   "cell_type": "code",
   "execution_count": null,
   "id": "b130612e",
   "metadata": {
    "hidden": true
   },
   "outputs": [],
   "source": []
  },
  {
   "cell_type": "markdown",
   "id": "a909eb1e",
   "metadata": {},
   "source": [
    "### The loop using the HF model"
   ]
  },
  {
   "cell_type": "code",
   "execution_count": 28,
   "id": "d3472af0",
   "metadata": {},
   "outputs": [],
   "source": [
    "outs_hf = hf_model.generate_speech(src_tokens, spkembs, vocoder=None)"
   ]
  },
  {
   "cell_type": "code",
   "execution_count": 29,
   "id": "a6c22adf",
   "metadata": {
    "scrolled": true
   },
   "outputs": [
    {
     "data": {
      "text/plain": [
       "torch.Size([260, 80])"
      ]
     },
     "execution_count": 29,
     "metadata": {},
     "output_type": "execute_result"
    }
   ],
   "source": [
    "outs_hf.shape"
   ]
  },
  {
   "cell_type": "code",
   "execution_count": null,
   "id": "3bb04cba",
   "metadata": {},
   "outputs": [],
   "source": []
  },
  {
   "cell_type": "code",
   "execution_count": 30,
   "id": "7d087a91",
   "metadata": {},
   "outputs": [],
   "source": [
    "from transformers import SpeechT5HiFiGAN\n",
    "\n",
    "vocoder = SpeechT5HiFiGAN.from_pretrained(\"/Users/matthijs/Documents/FILES/HuggingFace/SpeechT5/weights/hifigan\")"
   ]
  },
  {
   "cell_type": "code",
   "execution_count": null,
   "id": "ce3c1c9c",
   "metadata": {},
   "outputs": [],
   "source": []
  },
  {
   "cell_type": "code",
   "execution_count": 32,
   "id": "23fa63b7",
   "metadata": {},
   "outputs": [],
   "source": [
    "outs_hf = hf_model.generate_speech(src_tokens, spkembs, vocoder=vocoder)"
   ]
  },
  {
   "cell_type": "code",
   "execution_count": 33,
   "id": "b10a973b",
   "metadata": {},
   "outputs": [
    {
     "data": {
      "text/plain": [
       "torch.Size([64000])"
      ]
     },
     "execution_count": 33,
     "metadata": {},
     "output_type": "execute_result"
    }
   ],
   "source": [
    "outs_hf.shape"
   ]
  },
  {
   "cell_type": "code",
   "execution_count": 34,
   "id": "3aa57a34",
   "metadata": {},
   "outputs": [
    {
     "data": {
      "text/plain": [
       "[<matplotlib.lines.Line2D at 0x7fc3bd486640>]"
      ]
     },
     "execution_count": 34,
     "metadata": {},
     "output_type": "execute_result"
    },
    {
     "data": {
      "image/png": "[encoded data removed]",
      "text/plain": [
       "<Figure size 640x480 with 1 Axes>"
      ]
     },
     "metadata": {},
     "output_type": "display_data"
    }
   ],
   "source": [
    "plt.plot(outs_hf.view(-1))"
   ]
  },
  {
   "cell_type": "code",
   "execution_count": 37,
   "id": "8a3c9953",
   "metadata": {},
   "outputs": [],
   "source": [
    "import soundfile as sf\n",
    "sf.write(\"gen.wav\", outs_hf.cpu().numpy(), 16000, \"PCM_16\")"
   ]
  },
  {
   "cell_type": "code",
   "execution_count": null,
   "id": "c490ce07",
   "metadata": {},
   "outputs": [],
   "source": []
  },
  {
   "cell_type": "code",
   "execution_count": 40,
   "id": "b544a485",
   "metadata": {},
   "outputs": [
    {
     "data": {
      "text/html": [
       "\n",
       "                <audio  controls=\"controls\" >\n",
       "                    <source src=\"data:audio/wav;base64,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\" type=\"audio/wav\" />\n",
       "                    Your browser does not support the audio element.\n",
       "                </audio>\n",
       "              "
      ],
      "text/plain": [
       "<IPython.lib.display.Audio object>"
      ]
     },
     "execution_count": 40,
     "metadata": {},
     "output_type": "execute_result"
    }
   ],
   "source": [
    "from IPython.display import Audio\n",
    "\n",
    "Audio(data=outs_hf.numpy(), rate=16000)"
   ]
  },
  {
   "cell_type": "code",
   "execution_count": null,
   "id": "171e3d3c",
   "metadata": {},
   "outputs": [],
   "source": []
  },
  {
   "cell_type": "code",
   "execution_count": null,
   "id": "ce6a887d",
   "metadata": {},
   "outputs": [],
   "source": []
  },
  {
   "cell_type": "code",
   "execution_count": 50,
   "id": "cc77712d",
   "metadata": {},
   "outputs": [],
   "source": [
    "# torch.max(torch.abs(outs - outs_hf))"
   ]
  },
  {
   "cell_type": "code",
   "execution_count": 185,
   "id": "c46ceda9",
   "metadata": {},
   "outputs": [],
   "source": [
    "# torch.max(torch.abs(probs - probs_hf))"
   ]
  },
  {
   "cell_type": "code",
   "execution_count": 186,
   "id": "7d439fcb",
   "metadata": {},
   "outputs": [
    {
     "data": {
      "text/plain": [
       "0.0"
      ]
     },
     "execution_count": 186,
     "metadata": {},
     "output_type": "execute_result"
    }
   ],
   "source": [
    "np.max(np.abs(output_from_orig - outs_hf.numpy()))"
   ]
  },
  {
   "cell_type": "markdown",
   "id": "c679aa53",
   "metadata": {},
   "source": [
    "**Note:** If we don't do `use_cache=True`, the outputs are not 100% identical. The error for the outputs is in the range 1e-6. This is because the decoder looks at the entire sequence rather than just the last element, and will accumulate floating-point precision errors."
   ]
  },
  {
   "cell_type": "code",
   "execution_count": 70,
   "id": "0f4fe5c2",
   "metadata": {},
   "outputs": [
    {
     "data": {
      "text/plain": [
       "<matplotlib.image.AxesImage at 0x7fcb6d4cfd90>"
      ]
     },
     "execution_count": 70,
     "metadata": {},
     "output_type": "execute_result"
    },
    {
     "data": {
      "image/png": "[encoded data removed]",
      "text/plain": [
       "<Figure size 640x480 with 1 Axes>"
      ]
     },
     "metadata": {},
     "output_type": "display_data"
    }
   ],
   "source": [
    "plt.imshow(outs_hf.T)"
   ]
  },
  {
   "cell_type": "code",
   "execution_count": 71,
   "id": "9ef573f6",
   "metadata": {},
   "outputs": [
    {
     "data": {
      "image/png": "[encoded data removed]",
      "text/plain": [
       "<Figure size 640x480 with 2 Axes>"
      ]
     },
     "metadata": {},
     "output_type": "display_data"
    }
   ],
   "source": [
    "import librosa.display\n",
    "\n",
    "plt.figure()\n",
    "librosa.display.specshow(outs_hf.T.numpy(), sr=16000, x_axis=\"time\", y_axis=\"mel\")\n",
    "plt.colorbar()\n",
    "plt.show()"
   ]
  },
  {
   "cell_type": "code",
   "execution_count": 72,
   "id": "e2ac56e5",
   "metadata": {},
   "outputs": [],
   "source": [
    "np.save(\"/Users/matthijs/Documents/FILES/HuggingFace/SpeechT5/tryout/RESULTS_PATH_TTS/hf-feats.npy\", outs_hf)"
   ]
  },
  {
   "cell_type": "code",
   "execution_count": null,
   "id": "45fcd853",
   "metadata": {},
   "outputs": [],
   "source": []
  },
  {
   "cell_type": "markdown",
   "id": "26cfccbb",
   "metadata": {},
   "source": [
    "## Vocoder"
   ]
  },
  {
   "cell_type": "raw",
   "id": "90dac2ea",
   "metadata": {},
   "source": [
    "parallel-wavegan-decode \\\n",
    "    --checkpoint /Users/matthijs/Documents/FILES/HuggingFace/SpeechT5/weights/speecht5-tts/pretrained_vocoder/train_nodev_clean_libritts_hifigan.v1/hifigan-libritts-1930000steps.pkl \\\n",
    "    --dumpdir /Users/matthijs/Documents/FILES/HuggingFace/SpeechT5/tryout/RESULTS_PATH_TTS \\\n",
    "    --outdir /Users/matthijs/Documents/FILES/HuggingFace/SpeechT5/tryout/RESULTS_PATH_TTS/wav \\\n",
    "    --normalize-before"
   ]
  },
  {
   "cell_type": "code",
   "execution_count": null,
   "id": "0685a8ee",
   "metadata": {},
   "outputs": [],
   "source": []
  },
  {
   "cell_type": "code",
   "execution_count": null,
   "id": "565f4277",
   "metadata": {},
   "outputs": [],
   "source": []
  },
  {
   "cell_type": "code",
   "execution_count": null,
   "id": "e3b6ddd8",
   "metadata": {},
   "outputs": [],
   "source": []
  },
  {
   "cell_type": "code",
   "execution_count": null,
   "id": "1612cc21",
   "metadata": {},
   "outputs": [],
   "source": []
  },
  {
   "cell_type": "code",
   "execution_count": null,
   "id": "29f01770",
   "metadata": {},
   "outputs": [],
   "source": []
  },
  {
   "cell_type": "markdown",
   "id": "32e98799",
   "metadata": {},
   "source": [
    "## Use the `transformers` generator loop"
   ]
  },
  {
   "cell_type": "markdown",
   "id": "f1be2a34",
   "metadata": {},
   "source": [
    "I don't think this makes sense for the TTS model. It needs to run the decoder in a specific way that's different from what `model.generate()` does."
   ]
  },
  {
   "cell_type": "code",
   "execution_count": null,
   "id": "39bc11e3",
   "metadata": {},
   "outputs": [],
   "source": []
  },
  {
   "cell_type": "markdown",
   "id": "5dab4e96",
   "metadata": {},
   "source": [
    "## Other functionality"
   ]
  },
  {
   "cell_type": "code",
   "execution_count": 189,
   "id": "cfdc28a4",
   "metadata": {},
   "outputs": [
    {
     "data": {
      "text/plain": [
       "transformers.models.speecht5.modeling_speecht5.SpeechT5ForTTS"
      ]
     },
     "execution_count": 189,
     "metadata": {},
     "output_type": "execute_result"
    }
   ],
   "source": [
    "type(hf_model)"
   ]
  },
  {
   "cell_type": "code",
   "execution_count": 190,
   "id": "9778431c",
   "metadata": {},
   "outputs": [
    {
     "data": {
      "text/plain": [
       "Embedding(81, 768, padding_idx=1)"
      ]
     },
     "execution_count": 190,
     "metadata": {},
     "output_type": "execute_result"
    }
   ],
   "source": [
    "hf_model.get_input_embeddings()"
   ]
  },
  {
   "cell_type": "code",
   "execution_count": 191,
   "id": "44be3e74",
   "metadata": {},
   "outputs": [],
   "source": [
    "hf_model.get_output_embeddings()"
   ]
  },
  {
   "cell_type": "code",
   "execution_count": 611,
   "id": "d6f954bf",
   "metadata": {},
   "outputs": [
    {
     "data": {
      "text/plain": [
       "Embedding(100, 768)"
      ]
     },
     "execution_count": 611,
     "metadata": {},
     "output_type": "execute_result"
    }
   ],
   "source": [
    "hf_model.resize_token_embeddings(100)"
   ]
  },
  {
   "cell_type": "code",
   "execution_count": 612,
   "id": "3b17c7a0",
   "metadata": {},
   "outputs": [
    {
     "data": {
      "text/plain": [
       "Embedding(100, 768)"
      ]
     },
     "execution_count": 612,
     "metadata": {},
     "output_type": "execute_result"
    }
   ],
   "source": [
    "hf_model.get_input_embeddings()"
   ]
  },
  {
   "cell_type": "code",
   "execution_count": null,
   "id": "742e8369",
   "metadata": {},
   "outputs": [],
   "source": []
  },
  {
   "cell_type": "markdown",
   "id": "d0f1433f",
   "metadata": {},
   "source": [
    "## For debugging\n",
    "\n",
    "Restart kernel, then reload the models:"
   ]
  },
  {
   "cell_type": "code",
   "execution_count": 3,
   "id": "33672d67",
   "metadata": {},
   "outputs": [
    {
     "name": "stdout",
     "output_type": "stream",
     "text": [
      "dictionary size: 81\n",
      "dictionary size: 81\n"
     ]
    },
    {
     "data": {
      "text/plain": [
       "fairseq.data.encoders.sentencepiece_bpe.SentencepieceBPE"
      ]
     },
     "execution_count": 3,
     "metadata": {},
     "output_type": "execute_result"
    }
   ],
   "source": [
    "%reload_ext autoreload\n",
    "%autoreload 2\n",
    "\n",
    "import sys\n",
    "sys.path.insert(0, \"../SpeechT5/SpeechT5\")\n",
    "sys.path.insert(0, \"../SpeechT5/SpeechT5/fairseq\")\n",
    "\n",
    "import numpy as np\n",
    "import torch\n",
    "import matplotlib.pyplot as plt\n",
    "\n",
    "from argparse import Namespace\n",
    "from fairseq.data import encoders\n",
    "\n",
    "bpe_tokenizer_path = \"/Users/matthijs/Documents/FILES/HuggingFace/SpeechT5/tryout/MODEL_DIR/spm_char.model\"\n",
    "tokenizer = encoders.build_bpe(Namespace(**{\"bpe\": \"sentencepiece\", \"sentencepiece_model\": bpe_tokenizer_path}))\n",
    "\n",
    "from fairseq.data import Dictionary\n",
    "src_dict = Dictionary.load(\"/Users/matthijs/Documents/FILES/HuggingFace/SpeechT5/tryout/DATA_ROOT/dict.txt\")\n",
    "src_dict.add_symbol(\"<mask>\")\n",
    "src_dict.add_symbol(\"<ctc_blank>\")\n",
    "print(f\"dictionary size: \" f\"{len(src_dict):,}\")\n",
    "\n",
    "from fairseq.tasks.hubert_pretraining import LabelEncoder\n",
    "label_processor = LabelEncoder(src_dict)\n",
    "\n",
    "text = \"Hey, what's up, Hugging Face? This is Speech tee five talking to you for real.\"\n",
    "\n",
    "label = tokenizer.encode(text)\n",
    "label\n",
    "\n",
    "src_tokens = label_processor(label).unsqueeze(0)\n",
    "src_tokens\n",
    "\n",
    "attention_mask = torch.ones_like(src_tokens)\n",
    "attention_mask.shape\n",
    "\n",
    "text2 = \"A much shorter snippet\"\n",
    "label2 = tokenizer.encode(text2)\n",
    "src_tokens2 = label_processor(label2).unsqueeze(0)\n",
    "src_tokens2\n",
    "\n",
    "pad_token_id = 1\n",
    "pad_length = src_tokens.size(-1) - src_tokens2.size(-1)\n",
    "src_tokens2_padded = torch.cat([src_tokens2, torch.ones(1, pad_length).long() * pad_token_id], dim=1)\n",
    "attention_mask2 = torch.cat([torch.ones_like(src_tokens2), torch.zeros(1, pad_length).long()], dim=1)\n",
    "\n",
    "input_ids_batch = torch.cat([src_tokens, src_tokens2_padded, src_tokens.clone()])\n",
    "attention_mask_batch = torch.cat([attention_mask, attention_mask2, attention_mask.clone()])\n",
    "\n",
    "from transformers import (\n",
    "    SpeechT5Config, \n",
    "    SpeechT5CTCTokenizer,\n",
    "    SpeechT5Processor,\n",
    "    SpeechT5Model, \n",
    "    SpeechT5ForTextToSpeech, \n",
    "    Wav2Vec2FeatureExtractor,\n",
    ")\n",
    "\n",
    "model_checkpoint = \"/Users/matthijs/Documents/FILES/HuggingFace/SpeechT5/weights/speecht5_tts\"\n",
    "\n",
    "hf_model = SpeechT5ForTextToSpeech.from_pretrained(model_checkpoint)\n",
    "\n",
    "hf_model.eval()\n",
    "\n",
    "from fairseq.data import Dictionary\n",
    "tgt_dict = Dictionary.load(\"/Users/matthijs/Documents/FILES/HuggingFace/SpeechT5/tryout/DATA_ROOT/dict.txt\")\n",
    "tgt_dict.add_symbol(\"<mask>\")\n",
    "tgt_dict.add_symbol(\"<ctc_blank>\")\n",
    "print(f\"dictionary size: \" f\"{len(tgt_dict):,}\")\n",
    "\n",
    "\n",
    "class FakeTask:\n",
    "    def __init__(self):\n",
    "        self.dicts = { \"text\": tgt_dict }\n",
    "        self.t5_task = \"t2s\"\n",
    "        \n",
    "task = FakeTask()\n",
    "\n",
    "import torch\n",
    "from speecht5.models.speecht5 import T5TransformerModel\n",
    "\n",
    "checkpoint = torch.load(\"../weights/speecht5-tts/speecht5_tts.pt\")\n",
    "\n",
    "orig_model = T5TransformerModel.build_model(checkpoint[\"cfg\"][\"model\"], task)\n",
    "\n",
    "orig_model.load_state_dict(checkpoint[\"model\"])\n",
    "orig_model = orig_model.eval()\n",
    "\n",
    "from fairseq.data import encoders\n",
    "from argparse import Namespace\n",
    "tokenizer = encoders.build_bpe(\n",
    "    Namespace(\n",
    "        bpe='sentencepiece', \n",
    "        sentencepiece_model='/Users/matthijs/Documents/FILES/HuggingFace/SpeechT5/tryout/MODEL_DIR/spm_char.model'\n",
    "    )\n",
    ")\n",
    "type(tokenizer)"
   ]
  },
  {
   "cell_type": "code",
   "execution_count": null,
   "id": "87968d6f",
   "metadata": {},
   "outputs": [],
   "source": []
  }
 ],
 "metadata": {
  "kernelspec": {
   "display_name": "Python 3 (ipykernel)",
   "language": "python",
   "name": "python3"
  },
  "language_info": {
   "codemirror_mode": {
    "name": "ipython",
    "version": 3
   },
   "file_extension": ".py",
   "mimetype": "text/x-python",
   "name": "python",
   "nbconvert_exporter": "python",
   "pygments_lexer": "ipython3",
   "version": "3.9.13"
  }
 },
 "nbformat": 4,
 "nbformat_minor": 5
}
