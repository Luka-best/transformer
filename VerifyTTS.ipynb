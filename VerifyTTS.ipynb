{
 "cells": [
  {
   "cell_type": "markdown",
   "id": "ca8cd0a9",
   "metadata": {},
   "source": [
    "# Verifying the SpeechT5 TTS model"
   ]
  },
  {
   "cell_type": "markdown",
   "id": "2c5342da",
   "metadata": {},
   "source": [
    "I needed to do the following to be able to load the original model:\n",
    "\n",
    "- Clone the https://github.com/microsoft/SpeechT5 repo\n",
    "\n",
    "Install stuff:\n",
    "\n",
    "```\n",
    "pip install editdistance\n",
    "pip install -U sacrebleu==1.5.1\n",
    "\n",
    "git submodule update --init SpeechT5/fairseq\n",
    "cd SpeechT5\n",
    "pip install --editable fairseq/\n",
    "pip install espnet\n",
    "```\n",
    "\n",
    "Hack the code:\n",
    "\n",
    "- Copy `speecht5/tasks/speecht5.py` into `fairseq/fairseq/tasks`\n",
    "\n",
    "- `checkpoint_utils.py`: comment out a bunch of the loading stuff because of missing keys in the checkpoint\n",
    "\n",
    "Additional stuff to download:\n",
    "\n",
    "- `dict.txt` from https://drive.google.com/uc?export=download&id=19hcQ58RHZ6CssxF8Qp6yEF1NW_AXxObK\n",
    "\n",
    "- `tokenizer` from https://drive.google.com/uc?export=download&id=1wClgQjXXoU2lmpbaEa1v2SqMbg7cAutq\n",
    "\n",
    "- `xvectors.zip` from https://drive.google.com/uc?export=download&id=16QOUURZBrW7-GYbVG_gXt3mTMlZmQoH0\n",
    "\n",
    "- everything from https://huggingface.co/mechanicalsea/speecht5-tts\n",
    "\n",
    "- https://github.com/kan-bayashi/ParallelWaveGAN"
   ]
  },
  {
   "cell_type": "markdown",
   "id": "b2354864",
   "metadata": {},
   "source": [
    "**!!! IMPORTANT !!!**\n",
    "\n",
    "As is, the outputs from the original model and the Hugging Face implementation do not match for the same inputs. This happens because the speech decoder prenet *always* applies dropout, even when not training. Every time you run the (decoder part of the) model, the output will be slightly different.\n",
    "\n",
    "To test that both models give exactly the same output (max absolute error of ~1e-6), do the following:\n",
    "\n",
    "- In `modeling_speecht5.py`, in `SpeechT5SpeechDecoderPrenet.forward`, set `training=False` on the two dropout layers.\n",
    "\n",
    "- In espnet, in `nets/pytorch_backend/tacotron2/decoder.py`, in `Prenet.forward` add `training=False` on the dropout layer."
   ]
  },
  {
   "cell_type": "code",
   "execution_count": 1,
   "id": "1a4d7c59",
   "metadata": {},
   "outputs": [],
   "source": [
    "%reload_ext autoreload\n",
    "%autoreload 2"
   ]
  },
  {
   "cell_type": "markdown",
   "id": "65661728",
   "metadata": {},
   "source": [
    "Set Python path so it can find the `speecht5` and `fairseq` modules."
   ]
  },
  {
   "cell_type": "code",
   "execution_count": 2,
   "id": "f30402f0",
   "metadata": {},
   "outputs": [],
   "source": [
    "import sys\n",
    "sys.path.insert(0, \"../SpeechT5/SpeechT5\")\n",
    "sys.path.insert(0, \"../SpeechT5/SpeechT5/fairseq\")"
   ]
  },
  {
   "cell_type": "code",
   "execution_count": 3,
   "id": "d398e605",
   "metadata": {},
   "outputs": [],
   "source": [
    "import numpy as np\n",
    "import torch\n",
    "import matplotlib.pyplot as plt"
   ]
  },
  {
   "cell_type": "markdown",
   "id": "60213c02",
   "metadata": {},
   "source": [
    "## Tokenize input text"
   ]
  },
  {
   "cell_type": "code",
   "execution_count": 4,
   "id": "75fa539e",
   "metadata": {},
   "outputs": [],
   "source": [
    "from argparse import Namespace\n",
    "from fairseq.data import encoders\n",
    "\n",
    "bpe_tokenizer_path = \"/Users/matthijs/Documents/FILES/HuggingFace/SpeechT5/tryout/MODEL_DIR/spm_char.model\"\n",
    "tokenizer = encoders.build_bpe(Namespace(**{\"bpe\": \"sentencepiece\", \"sentencepiece_model\": bpe_tokenizer_path}))"
   ]
  },
  {
   "cell_type": "code",
   "execution_count": 5,
   "id": "f8409c42",
   "metadata": {},
   "outputs": [
    {
     "name": "stdout",
     "output_type": "stream",
     "text": [
      "dictionary size: 81\n"
     ]
    }
   ],
   "source": [
    "from fairseq.data import Dictionary\n",
    "src_dict = Dictionary.load(\"/Users/matthijs/Documents/FILES/HuggingFace/SpeechT5/tryout/DATA_ROOT/dict.txt\")\n",
    "src_dict.add_symbol(\"<mask>\")\n",
    "src_dict.add_symbol(\"<ctc_blank>\")\n",
    "print(f\"dictionary size: \" f\"{len(src_dict):,}\")"
   ]
  },
  {
   "cell_type": "code",
   "execution_count": 6,
   "id": "5d11bc84",
   "metadata": {},
   "outputs": [],
   "source": [
    "from fairseq.tasks.hubert_pretraining import LabelEncoder\n",
    "label_processor = LabelEncoder(src_dict)"
   ]
  },
  {
   "cell_type": "code",
   "execution_count": 7,
   "id": "2df06465",
   "metadata": {},
   "outputs": [],
   "source": [
    "text = \"Hey, what's up, Hugging Face? This is Speech tee five talking to you for real.\""
   ]
  },
  {
   "cell_type": "code",
   "execution_count": 8,
   "id": "5b2842f6",
   "metadata": {},
   "outputs": [
    {
     "data": {
      "text/plain": [
       "\"▁ H e y , ▁ w h a t ' s ▁ u p , ▁ H u g g i n g ▁ F a c e ? ▁ T h i s ▁ i s ▁ S p e e c h ▁ t e e ▁ f i v e ▁ t a l k i n g ▁ t o ▁ y o u ▁ f o r ▁ r e a l .\""
      ]
     },
     "execution_count": 8,
     "metadata": {},
     "output_type": "execute_result"
    }
   ],
   "source": [
    "label = tokenizer.encode(text)\n",
    "label"
   ]
  },
  {
   "cell_type": "code",
   "execution_count": 9,
   "id": "767a1346",
   "metadata": {},
   "outputs": [
    {
     "data": {
      "text/plain": [
       "tensor([[ 4, 35,  5, 22, 23,  4, 20, 11,  7,  6, 31, 12,  4, 16, 24, 23,  4, 35,\n",
       "         16, 21, 21, 10,  9, 21,  4, 55,  7, 17,  5, 41,  4, 32, 11, 10, 12,  4,\n",
       "         10, 12,  4, 34, 24,  5,  5, 17, 11,  4,  6,  5,  5,  4, 19, 10, 27,  5,\n",
       "          4,  6,  7, 15, 28, 10,  9, 21,  4,  6,  8,  4, 22,  8, 16,  4, 19,  8,\n",
       "         13,  4, 13,  5,  7, 15, 26]], dtype=torch.int32)"
      ]
     },
     "execution_count": 9,
     "metadata": {},
     "output_type": "execute_result"
    }
   ],
   "source": [
    "src_tokens = label_processor(label).unsqueeze(0)\n",
    "src_tokens"
   ]
  },
  {
   "cell_type": "code",
   "execution_count": 10,
   "id": "768371be",
   "metadata": {},
   "outputs": [],
   "source": [
    "# src_tokens = torch.tensor([[\n",
    "#     4, 35,  5, 22, 23,  4, 20, 11,  7,  6, 31, 12,  4, 16, 24, 23,  4, 35,\n",
    "#          16, 21, 21, 10,  9, 21,  4, 55,  7, 17,  5, 41,  4, 32, 11, 10, 12,  4,\n",
    "#          10, 12,  4, 34, 24,  5,  5, 17, 11,  4,  6,  5,  5,  4, 19, 10, 27,  5,\n",
    "#           4,  6,  7, 15, 28, 10,  9, 21,  4,  6,  8,  4, 22,  8, 16,  4, 19,  8,\n",
    "#          13,  4, 13,  5,  7, 15, 26\n",
    "# ]])"
   ]
  },
  {
   "cell_type": "code",
   "execution_count": 11,
   "id": "7e74ef32",
   "metadata": {},
   "outputs": [
    {
     "data": {
      "text/plain": [
       "torch.Size([1, 79])"
      ]
     },
     "execution_count": 11,
     "metadata": {},
     "output_type": "execute_result"
    }
   ],
   "source": [
    "attention_mask = torch.ones_like(src_tokens)\n",
    "attention_mask.shape"
   ]
  },
  {
   "cell_type": "code",
   "execution_count": null,
   "id": "956bd89a",
   "metadata": {},
   "outputs": [],
   "source": []
  },
  {
   "cell_type": "code",
   "execution_count": 12,
   "id": "8d219d84",
   "metadata": {},
   "outputs": [
    {
     "data": {
      "text/plain": [
       "tensor([[ 4, 33,  4, 18, 16, 17, 11,  4, 12, 11,  8, 13,  6,  5, 13,  4, 12,  9,\n",
       "         10, 24, 24,  5,  6]], dtype=torch.int32)"
      ]
     },
     "execution_count": 12,
     "metadata": {},
     "output_type": "execute_result"
    }
   ],
   "source": [
    "text2 = \"A much shorter snippet\"\n",
    "label2 = tokenizer.encode(text2)\n",
    "src_tokens2 = label_processor(label2).unsqueeze(0)\n",
    "src_tokens2"
   ]
  },
  {
   "cell_type": "code",
   "execution_count": 13,
   "id": "aa696325",
   "metadata": {},
   "outputs": [],
   "source": [
    "pad_token_id = 1\n",
    "pad_length = src_tokens.size(-1) - src_tokens2.size(-1)\n",
    "src_tokens2_padded = torch.cat([src_tokens2, torch.ones(1, pad_length).long() * pad_token_id], dim=1)\n",
    "attention_mask2 = torch.cat([torch.ones_like(src_tokens2), torch.zeros(1, pad_length).long()], dim=1)"
   ]
  },
  {
   "cell_type": "code",
   "execution_count": 14,
   "id": "2b9f6f99",
   "metadata": {},
   "outputs": [],
   "source": [
    "# input_ids_batch = torch.cat([src_tokens, src_tokens2_padded])\n",
    "# attention_mask_batch = torch.cat([attention_mask, attention_mask2])"
   ]
  },
  {
   "cell_type": "code",
   "execution_count": 15,
   "id": "60afcd7c",
   "metadata": {},
   "outputs": [],
   "source": [
    "# input_ids_batch = torch.cat([src_tokens2_padded, src_tokens])\n",
    "# attention_mask_batch = torch.cat([attention_mask2, attention_mask])"
   ]
  },
  {
   "cell_type": "code",
   "execution_count": 16,
   "id": "f4e68616",
   "metadata": {},
   "outputs": [],
   "source": [
    "input_ids_batch = torch.cat([src_tokens, src_tokens2_padded, src_tokens.clone()])\n",
    "attention_mask_batch = torch.cat([attention_mask, attention_mask2, attention_mask.clone()])"
   ]
  },
  {
   "cell_type": "code",
   "execution_count": null,
   "id": "88639c9f",
   "metadata": {},
   "outputs": [],
   "source": []
  },
  {
   "cell_type": "code",
   "execution_count": 17,
   "id": "ffdf394b",
   "metadata": {},
   "outputs": [],
   "source": [
    "from transformers import SpeechT5Tokenizer"
   ]
  },
  {
   "cell_type": "code",
   "execution_count": 18,
   "id": "4f89bbd3",
   "metadata": {},
   "outputs": [
    {
     "data": {
      "text/plain": [
       "PreTrainedTokenizer(name_or_path='/Users/matthijs/Documents/FILES/HuggingFace/SpeechT5/weights/speecht5_tts', vocab_size=79, model_max_len=600, is_fast=False, padding_side='right', truncation_side='right', special_tokens={'bos_token': '<s>', 'eos_token': '</s>', 'unk_token': '<unk>', 'pad_token': '<pad>'})"
      ]
     },
     "execution_count": 18,
     "metadata": {},
     "output_type": "execute_result"
    }
   ],
   "source": [
    "model_checkpoint = \"/Users/matthijs/Documents/FILES/HuggingFace/SpeechT5/weights/speecht5_tts\"\n",
    "hf_tokenizer = SpeechT5Tokenizer.from_pretrained(model_checkpoint)\n",
    "hf_tokenizer"
   ]
  },
  {
   "cell_type": "code",
   "execution_count": 24,
   "id": "3ec442cf",
   "metadata": {},
   "outputs": [],
   "source": [
    "texts = [text, text2]\n",
    "encoded = hf_tokenizer(texts, padding=True, return_tensors=\"pt\")\n",
    "hf_input_ids_batch = encoded[\"input_ids\"]\n",
    "hf_attention_mask_batch = encoded[\"attention_mask\"]"
   ]
  },
  {
   "cell_type": "code",
   "execution_count": 29,
   "id": "1389f72a",
   "metadata": {},
   "outputs": [
    {
     "data": {
      "text/plain": [
       "tensor([[ 4, 35,  5, 22, 23,  4, 20, 11,  7,  6, 31, 12,  4, 16, 24, 23,  4, 35,\n",
       "         16, 21, 21, 10,  9, 21,  4, 55,  7, 17,  5, 41,  4, 32, 11, 10, 12,  4,\n",
       "         10, 12,  4, 34, 24,  5,  5, 17, 11,  4,  6,  5,  5,  4, 19, 10, 27,  5,\n",
       "          4,  6,  7, 15, 28, 10,  9, 21,  4,  6,  8,  4, 22,  8, 16,  4, 19,  8,\n",
       "         13,  4, 13,  5,  7, 15, 26],\n",
       "        [ 4, 33,  4, 18, 16, 17, 11,  4, 12, 11,  8, 13,  6,  5, 13,  4, 12,  9,\n",
       "         10, 24, 24,  5,  6,  1,  1,  1,  1,  1,  1,  1,  1,  1,  1,  1,  1,  1,\n",
       "          1,  1,  1,  1,  1,  1,  1,  1,  1,  1,  1,  1,  1,  1,  1,  1,  1,  1,\n",
       "          1,  1,  1,  1,  1,  1,  1,  1,  1,  1,  1,  1,  1,  1,  1,  1,  1,  1,\n",
       "          1,  1,  1,  1,  1,  1,  1]])"
      ]
     },
     "execution_count": 29,
     "metadata": {},
     "output_type": "execute_result"
    }
   ],
   "source": [
    "hf_input_ids_batch"
   ]
  },
  {
   "cell_type": "code",
   "execution_count": null,
   "id": "ee2708a6",
   "metadata": {},
   "outputs": [],
   "source": []
  },
  {
   "cell_type": "markdown",
   "id": "2205900b",
   "metadata": {},
   "source": [
    "## Load the Transformers model"
   ]
  },
  {
   "cell_type": "markdown",
   "id": "3bc8c0f8",
   "metadata": {},
   "source": [
    "To convert the original checkpoint weights to Transformers:\n",
    "\n",
    "First download the checkpoint from https://huggingface.co/mechanicalsea/speecht5-tts\n",
    "\n",
    "Then run the following, using your own `--checkpoint_path` and `--pytorch_dump_folder_path`:\n",
    "\n",
    "```nohighlight\n",
    "cd transformers/src/transformers/models/speecht5\n",
    "\n",
    "python convert_speecht5_original_pytorch_checkpoint_to_pytorch.py \\\n",
    "  --task t2s \\\n",
    "  --checkpoint_path /path/to/SpeechT5/speecht5_tts.pt\n",
    "  --pytorch_dump_folder_path /some/other/path\n",
    "```"
   ]
  },
  {
   "cell_type": "code",
   "execution_count": 30,
   "id": "552fd307",
   "metadata": {},
   "outputs": [],
   "source": [
    "from transformers import (\n",
    "    SpeechT5Config, \n",
    "    SpeechT5Processor,\n",
    "    SpeechT5Model, \n",
    "    SpeechT5ForTextToSpeech,\n",
    "    Wav2Vec2FeatureExtractor,\n",
    ")"
   ]
  },
  {
   "cell_type": "code",
   "execution_count": 31,
   "id": "69aa6aed",
   "metadata": {},
   "outputs": [],
   "source": [
    "# config = SpeechT5Config()\n",
    "# hf_model = SpeechT5Model(config)"
   ]
  },
  {
   "cell_type": "code",
   "execution_count": 32,
   "id": "1ba8f514",
   "metadata": {},
   "outputs": [],
   "source": [
    "model_checkpoint = \"/Users/matthijs/Documents/FILES/HuggingFace/SpeechT5/weights/speecht5_tts\""
   ]
  },
  {
   "cell_type": "code",
   "execution_count": 33,
   "id": "5df4bac3",
   "metadata": {},
   "outputs": [],
   "source": [
    "hf_model = SpeechT5ForTextToSpeech.from_pretrained(model_checkpoint)"
   ]
  },
  {
   "cell_type": "code",
   "execution_count": 34,
   "id": "b7dd7606",
   "metadata": {},
   "outputs": [
    {
     "data": {
      "text/plain": [
       "SpeechT5ForTextToSpeech(\n",
       "  (speecht5): SpeechT5Model(\n",
       "    (encoder): SpeechT5EncoderWithTextPrenet(\n",
       "      (prenet): SpeechT5TextEncoderPrenet(\n",
       "        (embed_tokens): Embedding(81, 768, padding_idx=1)\n",
       "        (encode_positions): SpeechT5ScaledPositionalEncoding(\n",
       "          (dropout): Dropout(p=0.1, inplace=False)\n",
       "        )\n",
       "      )\n",
       "      (wrapped_encoder): SpeechT5Encoder(\n",
       "        (layer_norm): LayerNorm((768,), eps=1e-05, elementwise_affine=True)\n",
       "        (dropout): Dropout(p=0.1, inplace=False)\n",
       "        (layers): ModuleList(\n",
       "          (0): SpeechT5EncoderLayer(\n",
       "            (attention): SpeechT5Attention(\n",
       "              (k_proj): Linear(in_features=768, out_features=768, bias=True)\n",
       "              (v_proj): Linear(in_features=768, out_features=768, bias=True)\n",
       "              (q_proj): Linear(in_features=768, out_features=768, bias=True)\n",
       "              (out_proj): Linear(in_features=768, out_features=768, bias=True)\n",
       "            )\n",
       "            (dropout): Dropout(p=0.1, inplace=False)\n",
       "            (layer_norm): LayerNorm((768,), eps=1e-05, elementwise_affine=True)\n",
       "            (feed_forward): SpeechT5FeedForward(\n",
       "              (intermediate_dropout): Dropout(p=0.1, inplace=False)\n",
       "              (intermediate_dense): Linear(in_features=768, out_features=3072, bias=True)\n",
       "              (intermediate_act_fn): GELUActivation()\n",
       "              (output_dense): Linear(in_features=3072, out_features=768, bias=True)\n",
       "              (output_dropout): Dropout(p=0.1, inplace=False)\n",
       "            )\n",
       "            (final_layer_norm): LayerNorm((768,), eps=1e-05, elementwise_affine=True)\n",
       "          )\n",
       "          (1): SpeechT5EncoderLayer(\n",
       "            (attention): SpeechT5Attention(\n",
       "              (k_proj): Linear(in_features=768, out_features=768, bias=True)\n",
       "              (v_proj): Linear(in_features=768, out_features=768, bias=True)\n",
       "              (q_proj): Linear(in_features=768, out_features=768, bias=True)\n",
       "              (out_proj): Linear(in_features=768, out_features=768, bias=True)\n",
       "            )\n",
       "            (dropout): Dropout(p=0.1, inplace=False)\n",
       "            (layer_norm): LayerNorm((768,), eps=1e-05, elementwise_affine=True)\n",
       "            (feed_forward): SpeechT5FeedForward(\n",
       "              (intermediate_dropout): Dropout(p=0.1, inplace=False)\n",
       "              (intermediate_dense): Linear(in_features=768, out_features=3072, bias=True)\n",
       "              (intermediate_act_fn): GELUActivation()\n",
       "              (output_dense): Linear(in_features=3072, out_features=768, bias=True)\n",
       "              (output_dropout): Dropout(p=0.1, inplace=False)\n",
       "            )\n",
       "            (final_layer_norm): LayerNorm((768,), eps=1e-05, elementwise_affine=True)\n",
       "          )\n",
       "          (2): SpeechT5EncoderLayer(\n",
       "            (attention): SpeechT5Attention(\n",
       "              (k_proj): Linear(in_features=768, out_features=768, bias=True)\n",
       "              (v_proj): Linear(in_features=768, out_features=768, bias=True)\n",
       "              (q_proj): Linear(in_features=768, out_features=768, bias=True)\n",
       "              (out_proj): Linear(in_features=768, out_features=768, bias=True)\n",
       "            )\n",
       "            (dropout): Dropout(p=0.1, inplace=False)\n",
       "            (layer_norm): LayerNorm((768,), eps=1e-05, elementwise_affine=True)\n",
       "            (feed_forward): SpeechT5FeedForward(\n",
       "              (intermediate_dropout): Dropout(p=0.1, inplace=False)\n",
       "              (intermediate_dense): Linear(in_features=768, out_features=3072, bias=True)\n",
       "              (intermediate_act_fn): GELUActivation()\n",
       "              (output_dense): Linear(in_features=3072, out_features=768, bias=True)\n",
       "              (output_dropout): Dropout(p=0.1, inplace=False)\n",
       "            )\n",
       "            (final_layer_norm): LayerNorm((768,), eps=1e-05, elementwise_affine=True)\n",
       "          )\n",
       "          (3): SpeechT5EncoderLayer(\n",
       "            (attention): SpeechT5Attention(\n",
       "              (k_proj): Linear(in_features=768, out_features=768, bias=True)\n",
       "              (v_proj): Linear(in_features=768, out_features=768, bias=True)\n",
       "              (q_proj): Linear(in_features=768, out_features=768, bias=True)\n",
       "              (out_proj): Linear(in_features=768, out_features=768, bias=True)\n",
       "            )\n",
       "            (dropout): Dropout(p=0.1, inplace=False)\n",
       "            (layer_norm): LayerNorm((768,), eps=1e-05, elementwise_affine=True)\n",
       "            (feed_forward): SpeechT5FeedForward(\n",
       "              (intermediate_dropout): Dropout(p=0.1, inplace=False)\n",
       "              (intermediate_dense): Linear(in_features=768, out_features=3072, bias=True)\n",
       "              (intermediate_act_fn): GELUActivation()\n",
       "              (output_dense): Linear(in_features=3072, out_features=768, bias=True)\n",
       "              (output_dropout): Dropout(p=0.1, inplace=False)\n",
       "            )\n",
       "            (final_layer_norm): LayerNorm((768,), eps=1e-05, elementwise_affine=True)\n",
       "          )\n",
       "          (4): SpeechT5EncoderLayer(\n",
       "            (attention): SpeechT5Attention(\n",
       "              (k_proj): Linear(in_features=768, out_features=768, bias=True)\n",
       "              (v_proj): Linear(in_features=768, out_features=768, bias=True)\n",
       "              (q_proj): Linear(in_features=768, out_features=768, bias=True)\n",
       "              (out_proj): Linear(in_features=768, out_features=768, bias=True)\n",
       "            )\n",
       "            (dropout): Dropout(p=0.1, inplace=False)\n",
       "            (layer_norm): LayerNorm((768,), eps=1e-05, elementwise_affine=True)\n",
       "            (feed_forward): SpeechT5FeedForward(\n",
       "              (intermediate_dropout): Dropout(p=0.1, inplace=False)\n",
       "              (intermediate_dense): Linear(in_features=768, out_features=3072, bias=True)\n",
       "              (intermediate_act_fn): GELUActivation()\n",
       "              (output_dense): Linear(in_features=3072, out_features=768, bias=True)\n",
       "              (output_dropout): Dropout(p=0.1, inplace=False)\n",
       "            )\n",
       "            (final_layer_norm): LayerNorm((768,), eps=1e-05, elementwise_affine=True)\n",
       "          )\n",
       "          (5): SpeechT5EncoderLayer(\n",
       "            (attention): SpeechT5Attention(\n",
       "              (k_proj): Linear(in_features=768, out_features=768, bias=True)\n",
       "              (v_proj): Linear(in_features=768, out_features=768, bias=True)\n",
       "              (q_proj): Linear(in_features=768, out_features=768, bias=True)\n",
       "              (out_proj): Linear(in_features=768, out_features=768, bias=True)\n",
       "            )\n",
       "            (dropout): Dropout(p=0.1, inplace=False)\n",
       "            (layer_norm): LayerNorm((768,), eps=1e-05, elementwise_affine=True)\n",
       "            (feed_forward): SpeechT5FeedForward(\n",
       "              (intermediate_dropout): Dropout(p=0.1, inplace=False)\n",
       "              (intermediate_dense): Linear(in_features=768, out_features=3072, bias=True)\n",
       "              (intermediate_act_fn): GELUActivation()\n",
       "              (output_dense): Linear(in_features=3072, out_features=768, bias=True)\n",
       "              (output_dropout): Dropout(p=0.1, inplace=False)\n",
       "            )\n",
       "            (final_layer_norm): LayerNorm((768,), eps=1e-05, elementwise_affine=True)\n",
       "          )\n",
       "          (6): SpeechT5EncoderLayer(\n",
       "            (attention): SpeechT5Attention(\n",
       "              (k_proj): Linear(in_features=768, out_features=768, bias=True)\n",
       "              (v_proj): Linear(in_features=768, out_features=768, bias=True)\n",
       "              (q_proj): Linear(in_features=768, out_features=768, bias=True)\n",
       "              (out_proj): Linear(in_features=768, out_features=768, bias=True)\n",
       "            )\n",
       "            (dropout): Dropout(p=0.1, inplace=False)\n",
       "            (layer_norm): LayerNorm((768,), eps=1e-05, elementwise_affine=True)\n",
       "            (feed_forward): SpeechT5FeedForward(\n",
       "              (intermediate_dropout): Dropout(p=0.1, inplace=False)\n",
       "              (intermediate_dense): Linear(in_features=768, out_features=3072, bias=True)\n",
       "              (intermediate_act_fn): GELUActivation()\n",
       "              (output_dense): Linear(in_features=3072, out_features=768, bias=True)\n",
       "              (output_dropout): Dropout(p=0.1, inplace=False)\n",
       "            )\n",
       "            (final_layer_norm): LayerNorm((768,), eps=1e-05, elementwise_affine=True)\n",
       "          )\n",
       "          (7): SpeechT5EncoderLayer(\n",
       "            (attention): SpeechT5Attention(\n",
       "              (k_proj): Linear(in_features=768, out_features=768, bias=True)\n",
       "              (v_proj): Linear(in_features=768, out_features=768, bias=True)\n",
       "              (q_proj): Linear(in_features=768, out_features=768, bias=True)\n",
       "              (out_proj): Linear(in_features=768, out_features=768, bias=True)\n",
       "            )\n",
       "            (dropout): Dropout(p=0.1, inplace=False)\n",
       "            (layer_norm): LayerNorm((768,), eps=1e-05, elementwise_affine=True)\n",
       "            (feed_forward): SpeechT5FeedForward(\n",
       "              (intermediate_dropout): Dropout(p=0.1, inplace=False)\n",
       "              (intermediate_dense): Linear(in_features=768, out_features=3072, bias=True)\n",
       "              (intermediate_act_fn): GELUActivation()\n",
       "              (output_dense): Linear(in_features=3072, out_features=768, bias=True)\n",
       "              (output_dropout): Dropout(p=0.1, inplace=False)\n",
       "            )\n",
       "            (final_layer_norm): LayerNorm((768,), eps=1e-05, elementwise_affine=True)\n",
       "          )\n",
       "          (8): SpeechT5EncoderLayer(\n",
       "            (attention): SpeechT5Attention(\n",
       "              (k_proj): Linear(in_features=768, out_features=768, bias=True)\n",
       "              (v_proj): Linear(in_features=768, out_features=768, bias=True)\n",
       "              (q_proj): Linear(in_features=768, out_features=768, bias=True)\n",
       "              (out_proj): Linear(in_features=768, out_features=768, bias=True)\n",
       "            )\n",
       "            (dropout): Dropout(p=0.1, inplace=False)\n",
       "            (layer_norm): LayerNorm((768,), eps=1e-05, elementwise_affine=True)\n",
       "            (feed_forward): SpeechT5FeedForward(\n",
       "              (intermediate_dropout): Dropout(p=0.1, inplace=False)\n",
       "              (intermediate_dense): Linear(in_features=768, out_features=3072, bias=True)\n",
       "              (intermediate_act_fn): GELUActivation()\n",
       "              (output_dense): Linear(in_features=3072, out_features=768, bias=True)\n",
       "              (output_dropout): Dropout(p=0.1, inplace=False)\n",
       "            )\n",
       "            (final_layer_norm): LayerNorm((768,), eps=1e-05, elementwise_affine=True)\n",
       "          )\n",
       "          (9): SpeechT5EncoderLayer(\n",
       "            (attention): SpeechT5Attention(\n",
       "              (k_proj): Linear(in_features=768, out_features=768, bias=True)\n",
       "              (v_proj): Linear(in_features=768, out_features=768, bias=True)\n",
       "              (q_proj): Linear(in_features=768, out_features=768, bias=True)\n",
       "              (out_proj): Linear(in_features=768, out_features=768, bias=True)\n",
       "            )\n",
       "            (dropout): Dropout(p=0.1, inplace=False)\n",
       "            (layer_norm): LayerNorm((768,), eps=1e-05, elementwise_affine=True)\n",
       "            (feed_forward): SpeechT5FeedForward(\n",
       "              (intermediate_dropout): Dropout(p=0.1, inplace=False)\n",
       "              (intermediate_dense): Linear(in_features=768, out_features=3072, bias=True)\n",
       "              (intermediate_act_fn): GELUActivation()\n",
       "              (output_dense): Linear(in_features=3072, out_features=768, bias=True)\n",
       "              (output_dropout): Dropout(p=0.1, inplace=False)\n",
       "            )\n",
       "            (final_layer_norm): LayerNorm((768,), eps=1e-05, elementwise_affine=True)\n",
       "          )\n",
       "          (10): SpeechT5EncoderLayer(\n",
       "            (attention): SpeechT5Attention(\n",
       "              (k_proj): Linear(in_features=768, out_features=768, bias=True)\n",
       "              (v_proj): Linear(in_features=768, out_features=768, bias=True)\n",
       "              (q_proj): Linear(in_features=768, out_features=768, bias=True)\n",
       "              (out_proj): Linear(in_features=768, out_features=768, bias=True)\n",
       "            )\n",
       "            (dropout): Dropout(p=0.1, inplace=False)\n",
       "            (layer_norm): LayerNorm((768,), eps=1e-05, elementwise_affine=True)\n",
       "            (feed_forward): SpeechT5FeedForward(\n",
       "              (intermediate_dropout): Dropout(p=0.1, inplace=False)\n",
       "              (intermediate_dense): Linear(in_features=768, out_features=3072, bias=True)\n",
       "              (intermediate_act_fn): GELUActivation()\n",
       "              (output_dense): Linear(in_features=3072, out_features=768, bias=True)\n",
       "              (output_dropout): Dropout(p=0.1, inplace=False)\n",
       "            )\n",
       "            (final_layer_norm): LayerNorm((768,), eps=1e-05, elementwise_affine=True)\n",
       "          )\n",
       "          (11): SpeechT5EncoderLayer(\n",
       "            (attention): SpeechT5Attention(\n",
       "              (k_proj): Linear(in_features=768, out_features=768, bias=True)\n",
       "              (v_proj): Linear(in_features=768, out_features=768, bias=True)\n",
       "              (q_proj): Linear(in_features=768, out_features=768, bias=True)\n",
       "              (out_proj): Linear(in_features=768, out_features=768, bias=True)\n",
       "            )\n",
       "            (dropout): Dropout(p=0.1, inplace=False)\n",
       "            (layer_norm): LayerNorm((768,), eps=1e-05, elementwise_affine=True)\n",
       "            (feed_forward): SpeechT5FeedForward(\n",
       "              (intermediate_dropout): Dropout(p=0.1, inplace=False)\n",
       "              (intermediate_dense): Linear(in_features=768, out_features=3072, bias=True)\n",
       "              (intermediate_act_fn): GELUActivation()\n",
       "              (output_dense): Linear(in_features=3072, out_features=768, bias=True)\n",
       "              (output_dropout): Dropout(p=0.1, inplace=False)\n",
       "            )\n",
       "            (final_layer_norm): LayerNorm((768,), eps=1e-05, elementwise_affine=True)\n",
       "          )\n",
       "        )\n",
       "        (embed_positions): SpeechT5RelativePositionalEncoding(\n",
       "          (pe_k): Embedding(320, 64)\n",
       "        )\n",
       "      )\n",
       "    )\n",
       "    (decoder): SpeechT5DecoderWithSpeechPrenet(\n",
       "      (prenet): SpeechT5SpeechDecoderPrenet(\n",
       "        (layer1): Linear(in_features=80, out_features=256, bias=True)\n",
       "        (layer2): Linear(in_features=256, out_features=256, bias=True)\n",
       "        (layer3): Linear(in_features=256, out_features=768, bias=True)\n",
       "        (encode_positions): SpeechT5ScaledPositionalEncoding(\n",
       "          (dropout): Dropout(p=0.1, inplace=False)\n",
       "        )\n",
       "        (speaker_embeds_layer): Linear(in_features=1280, out_features=768, bias=True)\n",
       "      )\n",
       "      (wrapped_decoder): SpeechT5Decoder(\n",
       "        (layers): ModuleList(\n",
       "          (0): SpeechT5DecoderLayer(\n",
       "            (self_attn): SpeechT5Attention(\n",
       "              (k_proj): Linear(in_features=768, out_features=768, bias=True)\n",
       "              (v_proj): Linear(in_features=768, out_features=768, bias=True)\n",
       "              (q_proj): Linear(in_features=768, out_features=768, bias=True)\n",
       "              (out_proj): Linear(in_features=768, out_features=768, bias=True)\n",
       "            )\n",
       "            (dropout): Dropout(p=0.1, inplace=False)\n",
       "            (self_attn_layer_norm): LayerNorm((768,), eps=1e-05, elementwise_affine=True)\n",
       "            (encoder_attn): SpeechT5Attention(\n",
       "              (k_proj): Linear(in_features=768, out_features=768, bias=True)\n",
       "              (v_proj): Linear(in_features=768, out_features=768, bias=True)\n",
       "              (q_proj): Linear(in_features=768, out_features=768, bias=True)\n",
       "              (out_proj): Linear(in_features=768, out_features=768, bias=True)\n",
       "            )\n",
       "            (encoder_attn_layer_norm): LayerNorm((768,), eps=1e-05, elementwise_affine=True)\n",
       "            (feed_forward): SpeechT5FeedForward(\n",
       "              (intermediate_dropout): Dropout(p=0.1, inplace=False)\n",
       "              (intermediate_dense): Linear(in_features=768, out_features=3072, bias=True)\n",
       "              (intermediate_act_fn): GELUActivation()\n",
       "              (output_dense): Linear(in_features=3072, out_features=768, bias=True)\n",
       "              (output_dropout): Dropout(p=0.1, inplace=False)\n",
       "            )\n",
       "            (final_layer_norm): LayerNorm((768,), eps=1e-05, elementwise_affine=True)\n",
       "          )\n",
       "          (1): SpeechT5DecoderLayer(\n",
       "            (self_attn): SpeechT5Attention(\n",
       "              (k_proj): Linear(in_features=768, out_features=768, bias=True)\n",
       "              (v_proj): Linear(in_features=768, out_features=768, bias=True)\n",
       "              (q_proj): Linear(in_features=768, out_features=768, bias=True)\n",
       "              (out_proj): Linear(in_features=768, out_features=768, bias=True)\n",
       "            )\n",
       "            (dropout): Dropout(p=0.1, inplace=False)\n",
       "            (self_attn_layer_norm): LayerNorm((768,), eps=1e-05, elementwise_affine=True)\n",
       "            (encoder_attn): SpeechT5Attention(\n",
       "              (k_proj): Linear(in_features=768, out_features=768, bias=True)\n",
       "              (v_proj): Linear(in_features=768, out_features=768, bias=True)\n",
       "              (q_proj): Linear(in_features=768, out_features=768, bias=True)\n",
       "              (out_proj): Linear(in_features=768, out_features=768, bias=True)\n",
       "            )\n",
       "            (encoder_attn_layer_norm): LayerNorm((768,), eps=1e-05, elementwise_affine=True)\n",
       "            (feed_forward): SpeechT5FeedForward(\n",
       "              (intermediate_dropout): Dropout(p=0.1, inplace=False)\n",
       "              (intermediate_dense): Linear(in_features=768, out_features=3072, bias=True)\n",
       "              (intermediate_act_fn): GELUActivation()\n",
       "              (output_dense): Linear(in_features=3072, out_features=768, bias=True)\n",
       "              (output_dropout): Dropout(p=0.1, inplace=False)\n",
       "            )\n",
       "            (final_layer_norm): LayerNorm((768,), eps=1e-05, elementwise_affine=True)\n",
       "          )\n",
       "          (2): SpeechT5DecoderLayer(\n",
       "            (self_attn): SpeechT5Attention(\n",
       "              (k_proj): Linear(in_features=768, out_features=768, bias=True)\n",
       "              (v_proj): Linear(in_features=768, out_features=768, bias=True)\n",
       "              (q_proj): Linear(in_features=768, out_features=768, bias=True)\n",
       "              (out_proj): Linear(in_features=768, out_features=768, bias=True)\n",
       "            )\n",
       "            (dropout): Dropout(p=0.1, inplace=False)\n",
       "            (self_attn_layer_norm): LayerNorm((768,), eps=1e-05, elementwise_affine=True)\n",
       "            (encoder_attn): SpeechT5Attention(\n",
       "              (k_proj): Linear(in_features=768, out_features=768, bias=True)\n",
       "              (v_proj): Linear(in_features=768, out_features=768, bias=True)\n",
       "              (q_proj): Linear(in_features=768, out_features=768, bias=True)\n",
       "              (out_proj): Linear(in_features=768, out_features=768, bias=True)\n",
       "            )\n",
       "            (encoder_attn_layer_norm): LayerNorm((768,), eps=1e-05, elementwise_affine=True)\n",
       "            (feed_forward): SpeechT5FeedForward(\n",
       "              (intermediate_dropout): Dropout(p=0.1, inplace=False)\n",
       "              (intermediate_dense): Linear(in_features=768, out_features=3072, bias=True)\n",
       "              (intermediate_act_fn): GELUActivation()\n",
       "              (output_dense): Linear(in_features=3072, out_features=768, bias=True)\n",
       "              (output_dropout): Dropout(p=0.1, inplace=False)\n",
       "            )\n",
       "            (final_layer_norm): LayerNorm((768,), eps=1e-05, elementwise_affine=True)\n",
       "          )\n",
       "          (3): SpeechT5DecoderLayer(\n",
       "            (self_attn): SpeechT5Attention(\n",
       "              (k_proj): Linear(in_features=768, out_features=768, bias=True)\n",
       "              (v_proj): Linear(in_features=768, out_features=768, bias=True)\n",
       "              (q_proj): Linear(in_features=768, out_features=768, bias=True)\n",
       "              (out_proj): Linear(in_features=768, out_features=768, bias=True)\n",
       "            )\n",
       "            (dropout): Dropout(p=0.1, inplace=False)\n",
       "            (self_attn_layer_norm): LayerNorm((768,), eps=1e-05, elementwise_affine=True)\n",
       "            (encoder_attn): SpeechT5Attention(\n",
       "              (k_proj): Linear(in_features=768, out_features=768, bias=True)\n",
       "              (v_proj): Linear(in_features=768, out_features=768, bias=True)\n",
       "              (q_proj): Linear(in_features=768, out_features=768, bias=True)\n",
       "              (out_proj): Linear(in_features=768, out_features=768, bias=True)\n",
       "            )\n",
       "            (encoder_attn_layer_norm): LayerNorm((768,), eps=1e-05, elementwise_affine=True)\n",
       "            (feed_forward): SpeechT5FeedForward(\n",
       "              (intermediate_dropout): Dropout(p=0.1, inplace=False)\n",
       "              (intermediate_dense): Linear(in_features=768, out_features=3072, bias=True)\n",
       "              (intermediate_act_fn): GELUActivation()\n",
       "              (output_dense): Linear(in_features=3072, out_features=768, bias=True)\n",
       "              (output_dropout): Dropout(p=0.1, inplace=False)\n",
       "            )\n",
       "            (final_layer_norm): LayerNorm((768,), eps=1e-05, elementwise_affine=True)\n",
       "          )\n",
       "          (4): SpeechT5DecoderLayer(\n",
       "            (self_attn): SpeechT5Attention(\n",
       "              (k_proj): Linear(in_features=768, out_features=768, bias=True)\n",
       "              (v_proj): Linear(in_features=768, out_features=768, bias=True)\n",
       "              (q_proj): Linear(in_features=768, out_features=768, bias=True)\n",
       "              (out_proj): Linear(in_features=768, out_features=768, bias=True)\n",
       "            )\n",
       "            (dropout): Dropout(p=0.1, inplace=False)\n",
       "            (self_attn_layer_norm): LayerNorm((768,), eps=1e-05, elementwise_affine=True)\n",
       "            (encoder_attn): SpeechT5Attention(\n",
       "              (k_proj): Linear(in_features=768, out_features=768, bias=True)\n",
       "              (v_proj): Linear(in_features=768, out_features=768, bias=True)\n",
       "              (q_proj): Linear(in_features=768, out_features=768, bias=True)\n",
       "              (out_proj): Linear(in_features=768, out_features=768, bias=True)\n",
       "            )\n",
       "            (encoder_attn_layer_norm): LayerNorm((768,), eps=1e-05, elementwise_affine=True)\n",
       "            (feed_forward): SpeechT5FeedForward(\n",
       "              (intermediate_dropout): Dropout(p=0.1, inplace=False)\n",
       "              (intermediate_dense): Linear(in_features=768, out_features=3072, bias=True)\n",
       "              (intermediate_act_fn): GELUActivation()\n",
       "              (output_dense): Linear(in_features=3072, out_features=768, bias=True)\n",
       "              (output_dropout): Dropout(p=0.1, inplace=False)\n",
       "            )\n",
       "            (final_layer_norm): LayerNorm((768,), eps=1e-05, elementwise_affine=True)\n",
       "          )\n",
       "          (5): SpeechT5DecoderLayer(\n",
       "            (self_attn): SpeechT5Attention(\n",
       "              (k_proj): Linear(in_features=768, out_features=768, bias=True)\n",
       "              (v_proj): Linear(in_features=768, out_features=768, bias=True)\n",
       "              (q_proj): Linear(in_features=768, out_features=768, bias=True)\n",
       "              (out_proj): Linear(in_features=768, out_features=768, bias=True)\n",
       "            )\n",
       "            (dropout): Dropout(p=0.1, inplace=False)\n",
       "            (self_attn_layer_norm): LayerNorm((768,), eps=1e-05, elementwise_affine=True)\n",
       "            (encoder_attn): SpeechT5Attention(\n",
       "              (k_proj): Linear(in_features=768, out_features=768, bias=True)\n",
       "              (v_proj): Linear(in_features=768, out_features=768, bias=True)\n",
       "              (q_proj): Linear(in_features=768, out_features=768, bias=True)\n",
       "              (out_proj): Linear(in_features=768, out_features=768, bias=True)\n",
       "            )\n",
       "            (encoder_attn_layer_norm): LayerNorm((768,), eps=1e-05, elementwise_affine=True)\n",
       "            (feed_forward): SpeechT5FeedForward(\n",
       "              (intermediate_dropout): Dropout(p=0.1, inplace=False)\n",
       "              (intermediate_dense): Linear(in_features=768, out_features=3072, bias=True)\n",
       "              (intermediate_act_fn): GELUActivation()\n",
       "              (output_dense): Linear(in_features=3072, out_features=768, bias=True)\n",
       "              (output_dropout): Dropout(p=0.1, inplace=False)\n",
       "            )\n",
       "            (final_layer_norm): LayerNorm((768,), eps=1e-05, elementwise_affine=True)\n",
       "          )\n",
       "        )\n",
       "      )\n",
       "    )\n",
       "  )\n",
       "  (speech_decoder_postnet): SpeechT5SpeechDecoderPostnet(\n",
       "    (feat_out): Linear(in_features=768, out_features=160, bias=True)\n",
       "    (prob_out): Linear(in_features=768, out_features=2, bias=True)\n",
       "    (layers): ModuleList(\n",
       "      (0): SpeechT5BatchNormConvLayer(\n",
       "        (conv): Conv1d(80, 256, kernel_size=(5,), stride=(1,), padding=(2,), bias=False)\n",
       "        (batch_norm): BatchNorm1d(256, eps=1e-05, momentum=0.1, affine=True, track_running_stats=True)\n",
       "        (activation): Tanh()\n",
       "        (dropout): Dropout(p=0.5, inplace=False)\n",
       "      )\n",
       "      (1): SpeechT5BatchNormConvLayer(\n",
       "        (conv): Conv1d(256, 256, kernel_size=(5,), stride=(1,), padding=(2,), bias=False)\n",
       "        (batch_norm): BatchNorm1d(256, eps=1e-05, momentum=0.1, affine=True, track_running_stats=True)\n",
       "        (activation): Tanh()\n",
       "        (dropout): Dropout(p=0.5, inplace=False)\n",
       "      )\n",
       "      (2): SpeechT5BatchNormConvLayer(\n",
       "        (conv): Conv1d(256, 256, kernel_size=(5,), stride=(1,), padding=(2,), bias=False)\n",
       "        (batch_norm): BatchNorm1d(256, eps=1e-05, momentum=0.1, affine=True, track_running_stats=True)\n",
       "        (activation): Tanh()\n",
       "        (dropout): Dropout(p=0.5, inplace=False)\n",
       "      )\n",
       "      (3): SpeechT5BatchNormConvLayer(\n",
       "        (conv): Conv1d(256, 256, kernel_size=(5,), stride=(1,), padding=(2,), bias=False)\n",
       "        (batch_norm): BatchNorm1d(256, eps=1e-05, momentum=0.1, affine=True, track_running_stats=True)\n",
       "        (activation): Tanh()\n",
       "        (dropout): Dropout(p=0.5, inplace=False)\n",
       "      )\n",
       "      (4): SpeechT5BatchNormConvLayer(\n",
       "        (conv): Conv1d(256, 80, kernel_size=(5,), stride=(1,), padding=(2,), bias=False)\n",
       "        (batch_norm): BatchNorm1d(80, eps=1e-05, momentum=0.1, affine=True, track_running_stats=True)\n",
       "        (dropout): Dropout(p=0.5, inplace=False)\n",
       "      )\n",
       "    )\n",
       "  )\n",
       ")"
      ]
     },
     "execution_count": 34,
     "metadata": {},
     "output_type": "execute_result"
    }
   ],
   "source": [
    "hf_model.eval()"
   ]
  },
  {
   "cell_type": "code",
   "execution_count": 35,
   "id": "09c1c4b9",
   "metadata": {
    "scrolled": true
   },
   "outputs": [
    {
     "name": "stderr",
     "output_type": "stream",
     "text": [
      "Some weights of the model checkpoint at /Users/matthijs/Documents/FILES/HuggingFace/SpeechT5/weights/speecht5_tts were not used when initializing SpeechT5Model: ['speech_decoder_postnet.layers.3.conv.weight', 'speech_decoder_postnet.layers.4.conv.weight', 'speecht5.decoder.prenet.layer2.bias', 'speecht5.decoder.prenet.encode_positions.pe', 'speecht5.encoder.prenet.encode_positions.pe', 'speecht5.decoder.prenet.layer1.weight', 'speech_decoder_postnet.layers.2.batch_norm.weight', 'speecht5.decoder.prenet.speaker_embeds_layer.bias', 'speech_decoder_postnet.layers.3.batch_norm.running_mean', 'speech_decoder_postnet.prob_out.bias', 'speech_decoder_postnet.layers.0.conv.weight', 'speech_decoder_postnet.layers.2.batch_norm.num_batches_tracked', 'speecht5.decoder.prenet.layer3.weight', 'speech_decoder_postnet.layers.3.batch_norm.weight', 'speech_decoder_postnet.layers.1.batch_norm.num_batches_tracked', 'speech_decoder_postnet.layers.1.conv.weight', 'speech_decoder_postnet.prob_out.weight', 'speech_decoder_postnet.layers.1.batch_norm.running_mean', 'speecht5.decoder.prenet.encode_positions.alpha', 'speech_decoder_postnet.layers.4.batch_norm.num_batches_tracked', 'speech_decoder_postnet.layers.1.batch_norm.bias', 'speecht5.encoder.prenet.encode_positions.alpha', 'speech_decoder_postnet.layers.0.batch_norm.num_batches_tracked', 'speech_decoder_postnet.layers.3.batch_norm.num_batches_tracked', 'speecht5.decoder.prenet.layer2.weight', 'speecht5.decoder.prenet.layer1.bias', 'speecht5.decoder.prenet.speaker_embeds_layer.weight', 'speech_decoder_postnet.layers.1.batch_norm.weight', 'speech_decoder_postnet.layers.4.batch_norm.weight', 'speech_decoder_postnet.layers.2.batch_norm.running_mean', 'speech_decoder_postnet.layers.3.batch_norm.running_var', 'speech_decoder_postnet.layers.4.batch_norm.running_var', 'speech_decoder_postnet.layers.0.batch_norm.running_var', 'speecht5.encoder.prenet.embed_tokens.weight', 'speech_decoder_postnet.feat_out.bias', 'speech_decoder_postnet.layers.2.batch_norm.bias', 'speech_decoder_postnet.layers.4.batch_norm.running_mean', 'speech_decoder_postnet.layers.2.conv.weight', 'speech_decoder_postnet.feat_out.weight', 'speecht5.decoder.prenet.layer3.bias', 'speech_decoder_postnet.layers.3.batch_norm.bias', 'speech_decoder_postnet.layers.4.batch_norm.bias', 'speech_decoder_postnet.layers.1.batch_norm.running_var', 'speech_decoder_postnet.layers.0.batch_norm.bias', 'speech_decoder_postnet.layers.0.batch_norm.weight', 'speech_decoder_postnet.layers.0.batch_norm.running_mean', 'speech_decoder_postnet.layers.2.batch_norm.running_var']\n",
      "- This IS expected if you are initializing SpeechT5Model from the checkpoint of a model trained on another task or with another architecture (e.g. initializing a BertForSequenceClassification model from a BertForPreTraining model).\n",
      "- This IS NOT expected if you are initializing SpeechT5Model from the checkpoint of a model that you expect to be exactly identical (initializing a BertForSequenceClassification model from a BertForSequenceClassification model).\n"
     ]
    }
   ],
   "source": [
    "# Loading should work OK for class `SpeechT5Model` too:\n",
    "hf_model_naked = SpeechT5Model.from_pretrained(model_checkpoint)"
   ]
  },
  {
   "cell_type": "markdown",
   "id": "64823660",
   "metadata": {},
   "source": [
    "## Load the original model"
   ]
  },
  {
   "cell_type": "markdown",
   "id": "1046bda1",
   "metadata": {},
   "source": [
    "See the script `generate_speech.py` from the SpeechT5 repo."
   ]
  },
  {
   "cell_type": "markdown",
   "id": "b1697ab0",
   "metadata": {},
   "source": [
    "Load the dictionary. This adds `<s>, <pad>, </s>, <unk>` tokens to the front and `<mask>` and `<ctc_blank>` to the end. **dict.txt** was [downloaded from here](https://drive.google.com/uc?export=download&id=19hcQ58RHZ6CssxF8Qp6yEF1NW_AXxObK). This is the Vocabulary link from the main SpeechT5 README."
   ]
  },
  {
   "cell_type": "code",
   "execution_count": 36,
   "id": "24e0f251",
   "metadata": {},
   "outputs": [
    {
     "name": "stdout",
     "output_type": "stream",
     "text": [
      "dictionary size: 81\n"
     ]
    }
   ],
   "source": [
    "from fairseq.data import Dictionary\n",
    "tgt_dict = Dictionary.load(\"/Users/matthijs/Documents/FILES/HuggingFace/SpeechT5/tryout/DATA_ROOT/dict.txt\")\n",
    "tgt_dict.add_symbol(\"<mask>\")\n",
    "tgt_dict.add_symbol(\"<ctc_blank>\")\n",
    "print(f\"dictionary size: \" f\"{len(tgt_dict):,}\")"
   ]
  },
  {
   "cell_type": "markdown",
   "id": "85935250",
   "metadata": {},
   "source": [
    "To load the model we need the `SpeechT5Task` object but constructing it is annoying. Fortunately, `build_model` only reads two properties from the task object, so we can fake it."
   ]
  },
  {
   "cell_type": "code",
   "execution_count": 37,
   "id": "ea4b4380",
   "metadata": {},
   "outputs": [],
   "source": [
    "class FakeTask:\n",
    "    def __init__(self):\n",
    "        self.dicts = { \"text\": tgt_dict }\n",
    "        self.t5_task = \"t2s\"\n",
    "        \n",
    "task = FakeTask()"
   ]
  },
  {
   "cell_type": "markdown",
   "id": "a5dc6c7a",
   "metadata": {},
   "source": [
    "Load the fine-tuned ASR model."
   ]
  },
  {
   "cell_type": "code",
   "execution_count": 38,
   "id": "a79fbfdf",
   "metadata": {},
   "outputs": [],
   "source": [
    "import torch\n",
    "from speecht5.models.speecht5 import T5TransformerModel"
   ]
  },
  {
   "cell_type": "code",
   "execution_count": 39,
   "id": "b9b2818e",
   "metadata": {},
   "outputs": [],
   "source": [
    "checkpoint = torch.load(\"../weights/speecht5-tts/speecht5_tts.pt\")\n",
    "\n",
    "orig_model = T5TransformerModel.build_model(checkpoint[\"cfg\"][\"model\"], task)\n",
    "\n",
    "orig_model.load_state_dict(checkpoint[\"model\"])\n",
    "orig_model = orig_model.eval()"
   ]
  },
  {
   "cell_type": "code",
   "execution_count": 40,
   "id": "bda7a201",
   "metadata": {},
   "outputs": [
    {
     "data": {
      "text/plain": [
       "speecht5.models.speecht5.T5TransformerModel"
      ]
     },
     "execution_count": 40,
     "metadata": {},
     "output_type": "execute_result"
    }
   ],
   "source": [
    "type(orig_model)"
   ]
  },
  {
   "cell_type": "code",
   "execution_count": 41,
   "id": "64d53b18",
   "metadata": {},
   "outputs": [
    {
     "data": {
      "text/plain": [
       "speecht5.models.modules.encoder.TransformerEncoder"
      ]
     },
     "execution_count": 41,
     "metadata": {},
     "output_type": "execute_result"
    }
   ],
   "source": [
    "type(orig_model.encoder)"
   ]
  },
  {
   "cell_type": "code",
   "execution_count": 42,
   "id": "bad44136",
   "metadata": {},
   "outputs": [],
   "source": [
    "#list(checkpoint[\"model\"].keys())"
   ]
  },
  {
   "cell_type": "code",
   "execution_count": 43,
   "id": "4c1faddb",
   "metadata": {},
   "outputs": [
    {
     "data": {
      "text/plain": [
       "fairseq.data.encoders.sentencepiece_bpe.SentencepieceBPE"
      ]
     },
     "execution_count": 43,
     "metadata": {},
     "output_type": "execute_result"
    }
   ],
   "source": [
    "from fairseq.data import encoders\n",
    "from argparse import Namespace\n",
    "tokenizer = encoders.build_bpe(\n",
    "    Namespace(\n",
    "        bpe='sentencepiece', \n",
    "        sentencepiece_model='/Users/matthijs/Documents/FILES/HuggingFace/SpeechT5/tryout/MODEL_DIR/spm_char.model'\n",
    "    )\n",
    ")\n",
    "type(tokenizer)"
   ]
  },
  {
   "cell_type": "code",
   "execution_count": 44,
   "id": "61dd5619",
   "metadata": {},
   "outputs": [],
   "source": [
    "# orig_model.decoder.layers[0].encoder_attn"
   ]
  },
  {
   "cell_type": "markdown",
   "id": "56503f04",
   "metadata": {
    "heading_collapsed": true
   },
   "source": [
    "## Verify text encoder prenet output"
   ]
  },
  {
   "cell_type": "markdown",
   "id": "42e2f9ff",
   "metadata": {
    "hidden": true
   },
   "source": [
    "The `text_encoder_prenet` converts the input tokens into embeddings of shape `(batch, sequence_length, 768)`."
   ]
  },
  {
   "cell_type": "code",
   "execution_count": 33,
   "id": "5e6cce50",
   "metadata": {
    "hidden": true
   },
   "outputs": [],
   "source": [
    "with torch.no_grad():\n",
    "    encoder_input, encoder_padding_mask = orig_model.text_encoder_prenet(src_tokens)"
   ]
  },
  {
   "cell_type": "code",
   "execution_count": 34,
   "id": "c3583a0f",
   "metadata": {
    "hidden": true
   },
   "outputs": [],
   "source": [
    "with torch.no_grad():\n",
    "    encoder_input, encoder_padding_mask = orig_model.text_encoder_prenet(input_ids_batch)"
   ]
  },
  {
   "cell_type": "code",
   "execution_count": 35,
   "id": "26c4a65d",
   "metadata": {
    "hidden": true
   },
   "outputs": [
    {
     "data": {
      "text/plain": [
       "(torch.Size([3, 79, 768]), torch.Size([3, 79]))"
      ]
     },
     "execution_count": 35,
     "metadata": {},
     "output_type": "execute_result"
    }
   ],
   "source": [
    "encoder_input.shape, encoder_padding_mask.shape"
   ]
  },
  {
   "cell_type": "code",
   "execution_count": 36,
   "id": "058de538",
   "metadata": {
    "hidden": true
   },
   "outputs": [
    {
     "data": {
      "text/plain": [
       "tensor([[[-0.0383,  0.0826,  0.0607,  ..., -0.0333, -0.1770,  0.0203],\n",
       "         [ 0.0857,  0.0239,  0.2346,  ...,  0.1588,  0.0084,  0.0664],\n",
       "         [ 0.0644,  0.0361,  0.2011,  ..., -0.0519, -0.1996,  0.0747],\n",
       "         ...,\n",
       "         [ 0.1361,  0.1569, -0.1022,  ...,  0.1605,  0.0147,  0.0804],\n",
       "         [ 0.2444, -0.0554, -0.0303,  ...,  0.0666,  0.0143, -0.0211],\n",
       "         [ 0.0408, -0.0834,  0.1128,  ...,  0.1641, -0.0404,  0.0649]],\n",
       "\n",
       "        [[-0.0383,  0.0826,  0.0607,  ..., -0.0333, -0.1770,  0.0203],\n",
       "         [ 0.0265, -0.0583,  0.1753,  ...,  0.1945, -0.0829,  0.0322],\n",
       "         [ 0.0574, -0.0665,  0.1584,  ..., -0.0333, -0.1770,  0.0203],\n",
       "         ...,\n",
       "         [ 0.0329,  0.0656, -0.0175,  ...,  0.1879, -0.0242,  0.1195],\n",
       "         [ 0.0786, -0.0244,  0.0573,  ...,  0.1879, -0.0242,  0.1195],\n",
       "         [ 0.0274, -0.1115,  0.1526,  ...,  0.1879, -0.0242,  0.1195]],\n",
       "\n",
       "        [[-0.0383,  0.0826,  0.0607,  ..., -0.0333, -0.1770,  0.0203],\n",
       "         [ 0.0857,  0.0239,  0.2346,  ...,  0.1588,  0.0084,  0.0664],\n",
       "         [ 0.0644,  0.0361,  0.2011,  ..., -0.0519, -0.1996,  0.0747],\n",
       "         ...,\n",
       "         [ 0.1361,  0.1569, -0.1022,  ...,  0.1605,  0.0147,  0.0804],\n",
       "         [ 0.2444, -0.0554, -0.0303,  ...,  0.0666,  0.0143, -0.0211],\n",
       "         [ 0.0408, -0.0834,  0.1128,  ...,  0.1641, -0.0404,  0.0649]]])"
      ]
     },
     "execution_count": 36,
     "metadata": {},
     "output_type": "execute_result"
    }
   ],
   "source": [
    "encoder_input"
   ]
  },
  {
   "cell_type": "code",
   "execution_count": 37,
   "id": "3c07884f",
   "metadata": {
    "hidden": true
   },
   "outputs": [
    {
     "data": {
      "text/plain": [
       "tensor([[False, False, False, False, False, False, False, False, False, False,\n",
       "         False, False, False, False, False, False, False, False, False, False,\n",
       "         False, False, False, False, False, False, False, False, False, False,\n",
       "         False, False, False, False, False, False, False, False, False, False,\n",
       "         False, False, False, False, False, False, False, False, False, False,\n",
       "         False, False, False, False, False, False, False, False, False, False,\n",
       "         False, False, False, False, False, False, False, False, False, False,\n",
       "         False, False, False, False, False, False, False, False, False],\n",
       "        [False, False, False, False, False, False, False, False, False, False,\n",
       "         False, False, False, False, False, False, False, False, False, False,\n",
       "         False, False, False,  True,  True,  True,  True,  True,  True,  True,\n",
       "          True,  True,  True,  True,  True,  True,  True,  True,  True,  True,\n",
       "          True,  True,  True,  True,  True,  True,  True,  True,  True,  True,\n",
       "          True,  True,  True,  True,  True,  True,  True,  True,  True,  True,\n",
       "          True,  True,  True,  True,  True,  True,  True,  True,  True,  True,\n",
       "          True,  True,  True,  True,  True,  True,  True,  True,  True],\n",
       "        [False, False, False, False, False, False, False, False, False, False,\n",
       "         False, False, False, False, False, False, False, False, False, False,\n",
       "         False, False, False, False, False, False, False, False, False, False,\n",
       "         False, False, False, False, False, False, False, False, False, False,\n",
       "         False, False, False, False, False, False, False, False, False, False,\n",
       "         False, False, False, False, False, False, False, False, False, False,\n",
       "         False, False, False, False, False, False, False, False, False, False,\n",
       "         False, False, False, False, False, False, False, False, False]])"
      ]
     },
     "execution_count": 37,
     "metadata": {},
     "output_type": "execute_result"
    }
   ],
   "source": [
    "encoder_padding_mask"
   ]
  },
  {
   "cell_type": "code",
   "execution_count": 38,
   "id": "7720e1b4",
   "metadata": {
    "hidden": true
   },
   "outputs": [
    {
     "data": {
      "text/plain": [
       "tensor(0.)"
      ]
     },
     "execution_count": 38,
     "metadata": {},
     "output_type": "execute_result"
    }
   ],
   "source": [
    "((1.0 - encoder_padding_mask * 1.0) - attention_mask_batch).sum()"
   ]
  },
  {
   "cell_type": "markdown",
   "id": "3e992b36",
   "metadata": {
    "hidden": true
   },
   "source": [
    "Run Hugging Face model:"
   ]
  },
  {
   "cell_type": "code",
   "execution_count": 39,
   "id": "1877608f",
   "metadata": {
    "hidden": true
   },
   "outputs": [
    {
     "data": {
      "text/plain": [
       "torch.Tensor"
      ]
     },
     "execution_count": 39,
     "metadata": {},
     "output_type": "execute_result"
    }
   ],
   "source": [
    "with torch.no_grad():\n",
    "     hf_outputs = hf_model.speecht5.encoder.prenet(src_tokens)\n",
    "\n",
    "type(hf_outputs)"
   ]
  },
  {
   "cell_type": "code",
   "execution_count": 40,
   "id": "86598818",
   "metadata": {
    "hidden": true
   },
   "outputs": [
    {
     "data": {
      "text/plain": [
       "torch.Tensor"
      ]
     },
     "execution_count": 40,
     "metadata": {},
     "output_type": "execute_result"
    }
   ],
   "source": [
    "with torch.no_grad():\n",
    "     hf_outputs = hf_model.speecht5.encoder.prenet(input_ids_batch)\n",
    "\n",
    "type(hf_outputs)"
   ]
  },
  {
   "cell_type": "code",
   "execution_count": 41,
   "id": "27750e48",
   "metadata": {
    "hidden": true
   },
   "outputs": [
    {
     "data": {
      "text/plain": [
       "torch.Size([3, 79, 768])"
      ]
     },
     "execution_count": 41,
     "metadata": {},
     "output_type": "execute_result"
    }
   ],
   "source": [
    "hf_outputs.shape"
   ]
  },
  {
   "cell_type": "code",
   "execution_count": 42,
   "id": "addc344c",
   "metadata": {
    "hidden": true
   },
   "outputs": [
    {
     "data": {
      "text/plain": [
       "tensor([[-0.0383,  0.0826,  0.0607,  ..., -0.0333, -0.1770,  0.0203],\n",
       "        [ 0.0857,  0.0239,  0.2346,  ...,  0.1588,  0.0084,  0.0664],\n",
       "        [ 0.0644,  0.0361,  0.2011,  ..., -0.0519, -0.1996,  0.0747],\n",
       "        ...,\n",
       "        [ 0.1361,  0.1569, -0.1022,  ...,  0.1605,  0.0147,  0.0804],\n",
       "        [ 0.2444, -0.0554, -0.0303,  ...,  0.0666,  0.0143, -0.0211],\n",
       "        [ 0.0408, -0.0834,  0.1128,  ...,  0.1641, -0.0404,  0.0649]])"
      ]
     },
     "execution_count": 42,
     "metadata": {},
     "output_type": "execute_result"
    }
   ],
   "source": [
    "hf_outputs[0]"
   ]
  },
  {
   "cell_type": "code",
   "execution_count": 43,
   "id": "adcd7a32",
   "metadata": {
    "hidden": true
   },
   "outputs": [],
   "source": [
    "hf_encoder_input = hf_outputs"
   ]
  },
  {
   "cell_type": "markdown",
   "id": "d2dbc6dd",
   "metadata": {
    "hidden": true
   },
   "source": [
    "If the weights and model were converted correctly, this should report zero or a very small number:"
   ]
  },
  {
   "cell_type": "code",
   "execution_count": 44,
   "id": "4b099ad3",
   "metadata": {
    "hidden": true
   },
   "outputs": [
    {
     "data": {
      "text/plain": [
       "tensor(0.)"
      ]
     },
     "execution_count": 44,
     "metadata": {},
     "output_type": "execute_result"
    }
   ],
   "source": [
    "torch.max(torch.abs(encoder_input - hf_outputs))"
   ]
  },
  {
   "cell_type": "code",
   "execution_count": 45,
   "id": "5533cb26",
   "metadata": {
    "hidden": true
   },
   "outputs": [
    {
     "data": {
      "text/plain": [
       "<matplotlib.image.AxesImage at 0x7fcb41b9bbb0>"
      ]
     },
     "execution_count": 45,
     "metadata": {},
     "output_type": "execute_result"
    },
    {
     "data": {
      "image/png": "[encoded data removed]",
      "text/plain": [
       "<Figure size 640x480 with 1 Axes>"
      ]
     },
     "metadata": {},
     "output_type": "display_data"
    }
   ],
   "source": [
    "plt.imshow(torch.abs(encoder_input - hf_outputs).numpy()[0])"
   ]
  },
  {
   "cell_type": "code",
   "execution_count": 46,
   "id": "ab556370",
   "metadata": {
    "hidden": true
   },
   "outputs": [],
   "source": [
    "# plt.imshow(torch.abs(encoder_input - hf_outputs).numpy()[1])"
   ]
  },
  {
   "cell_type": "markdown",
   "id": "8b76dc23",
   "metadata": {
    "heading_collapsed": true
   },
   "source": [
    "## Verify Transformer encoder output"
   ]
  },
  {
   "cell_type": "code",
   "execution_count": 46,
   "id": "47c86f72",
   "metadata": {
    "hidden": true
   },
   "outputs": [],
   "source": [
    "# Run it with the original's speech prenet input:\n",
    "with torch.no_grad():\n",
    "    encoder_output = orig_model.encoder(encoder_input, encoder_padding_mask)"
   ]
  },
  {
   "cell_type": "code",
   "execution_count": 47,
   "id": "41ff76cc",
   "metadata": {
    "hidden": true
   },
   "outputs": [
    {
     "name": "stdout",
     "output_type": "stream",
     "text": [
      "encoder_out shape torch.Size([79, 3, 768])\n",
      "encoder_padding_mask shape torch.Size([3, 79])\n",
      "encoder_states []\n",
      "src_tokens []\n",
      "decoder_input [None]\n",
      "encoder_out_for_ctc shape torch.Size([79, 3, 81])\n"
     ]
    }
   ],
   "source": [
    "print(\"encoder_out shape\", encoder_output[\"encoder_out\"][0].shape)\n",
    "print(\"encoder_padding_mask shape\", encoder_output[\"encoder_padding_mask\"][0].shape)\n",
    "print(\"encoder_states\", encoder_output[\"encoder_states\"])  # []\n",
    "print(\"src_tokens\", encoder_output[\"src_tokens\"])  # []\n",
    "print(\"decoder_input\", encoder_output[\"decoder_input\"])  # [None]\n",
    "print(\"encoder_out_for_ctc shape\", encoder_output[\"encoder_out_for_ctc\"][0].shape)"
   ]
  },
  {
   "cell_type": "code",
   "execution_count": 48,
   "id": "a38979d4",
   "metadata": {
    "hidden": true
   },
   "outputs": [
    {
     "data": {
      "text/plain": [
       "tensor([[[ 0.1216, -0.1223, -0.0161,  ...,  0.1346,  0.0016, -0.0969],\n",
       "         [-0.4308,  0.2260,  0.2156,  ..., -0.1011,  0.0140, -0.4570],\n",
       "         [-0.5038,  0.2883,  0.1684,  ...,  0.0300, -0.0678, -0.4736],\n",
       "         ...,\n",
       "         [ 0.4783, -0.1476, -0.0570,  ..., -0.2642, -0.6181,  0.2321],\n",
       "         [ 0.4313, -0.2115, -0.1195,  ..., -0.4216, -0.4153,  0.2950],\n",
       "         [ 0.0910, -0.0379,  0.1903,  ...,  0.0070, -0.1593, -0.0444]],\n",
       "\n",
       "        [[ 0.0905, -0.1641, -0.0431,  ...,  0.0498, -0.1105, -0.0655],\n",
       "         [-0.0920, -0.5321, -0.3698,  ..., -0.2545,  0.2266, -0.3704],\n",
       "         [-0.1659, -0.5388, -0.3071,  ..., -0.2132,  0.2163, -0.4686],\n",
       "         ...,\n",
       "         [-0.0044, -0.0316,  0.1062,  ..., -0.0323, -0.1612,  0.0196],\n",
       "         [-0.0057, -0.0386,  0.1017,  ..., -0.0345, -0.1654,  0.0178],\n",
       "         [-0.0060, -0.0436,  0.0920,  ..., -0.0345, -0.1679,  0.0209]],\n",
       "\n",
       "        [[ 0.1216, -0.1223, -0.0161,  ...,  0.1346,  0.0016, -0.0969],\n",
       "         [-0.4308,  0.2260,  0.2156,  ..., -0.1011,  0.0140, -0.4570],\n",
       "         [-0.5038,  0.2883,  0.1684,  ...,  0.0300, -0.0678, -0.4736],\n",
       "         ...,\n",
       "         [ 0.4783, -0.1476, -0.0570,  ..., -0.2642, -0.6181,  0.2321],\n",
       "         [ 0.4313, -0.2115, -0.1195,  ..., -0.4216, -0.4153,  0.2950],\n",
       "         [ 0.0910, -0.0379,  0.1903,  ...,  0.0070, -0.1593, -0.0444]]])"
      ]
     },
     "execution_count": 48,
     "metadata": {},
     "output_type": "execute_result"
    }
   ],
   "source": [
    "encoder_output[\"encoder_out\"][0].permute((1, 0, 2))"
   ]
  },
  {
   "cell_type": "code",
   "execution_count": 49,
   "id": "f9b9dda4",
   "metadata": {
    "hidden": true
   },
   "outputs": [],
   "source": [
    "# encoder_output[\"encoder_out_for_ctc\"][0].permute((1, 0, 2))"
   ]
  },
  {
   "cell_type": "code",
   "execution_count": 50,
   "id": "cde6dbda",
   "metadata": {
    "hidden": true
   },
   "outputs": [],
   "source": [
    "# Use exact same inputs as the original model:\n",
    "# with torch.no_grad():\n",
    "#      hf_outputs = hf_model.speecht5(\n",
    "#          inputs_embeds=encoder_input,\n",
    "#          attention_mask=(~encoder_padding_mask),\n",
    "#      )\n",
    "\n",
    "# type(hf_outputs)"
   ]
  },
  {
   "cell_type": "code",
   "execution_count": 51,
   "id": "fefcf62e",
   "metadata": {
    "hidden": true
   },
   "outputs": [
    {
     "data": {
      "text/plain": [
       "torch.Size([3, 79, 768])"
      ]
     },
     "execution_count": 51,
     "metadata": {},
     "output_type": "execute_result"
    }
   ],
   "source": [
    "hf_encoder_input.shape"
   ]
  },
  {
   "cell_type": "code",
   "execution_count": 52,
   "id": "28f529a5",
   "metadata": {
    "hidden": true
   },
   "outputs": [
    {
     "data": {
      "text/plain": [
       "transformers.modeling_outputs.BaseModelOutput"
      ]
     },
     "execution_count": 52,
     "metadata": {},
     "output_type": "execute_result"
    }
   ],
   "source": [
    "with torch.no_grad():\n",
    "     hf_outputs = hf_model.speecht5.encoder.wrapped_encoder(\n",
    "         hidden_states=hf_encoder_input,\n",
    "#          attention_mask=attention_mask,\n",
    "         attention_mask=attention_mask_batch,\n",
    "#          attention_mask=(1.0 - encoder_padding_mask * 1.0),\n",
    "         return_dict=True,\n",
    "     )\n",
    "\n",
    "type(hf_outputs)"
   ]
  },
  {
   "cell_type": "code",
   "execution_count": 53,
   "id": "fb12e71a",
   "metadata": {
    "hidden": true
   },
   "outputs": [
    {
     "data": {
      "text/plain": [
       "BaseModelOutput(last_hidden_state=tensor([[[ 0.1216, -0.1223, -0.0161,  ...,  0.1346,  0.0016, -0.0969],\n",
       "         [-0.4308,  0.2260,  0.2156,  ..., -0.1011,  0.0140, -0.4570],\n",
       "         [-0.5038,  0.2883,  0.1684,  ...,  0.0300, -0.0678, -0.4736],\n",
       "         ...,\n",
       "         [ 0.4783, -0.1476, -0.0570,  ..., -0.2642, -0.6181,  0.2321],\n",
       "         [ 0.4313, -0.2115, -0.1195,  ..., -0.4216, -0.4153,  0.2950],\n",
       "         [ 0.0910, -0.0379,  0.1903,  ...,  0.0070, -0.1593, -0.0444]],\n",
       "\n",
       "        [[ 0.0905, -0.1641, -0.0431,  ...,  0.0498, -0.1105, -0.0655],\n",
       "         [-0.0920, -0.5321, -0.3698,  ..., -0.2545,  0.2266, -0.3704],\n",
       "         [-0.1659, -0.5388, -0.3071,  ..., -0.2132,  0.2163, -0.4686],\n",
       "         ...,\n",
       "         [-0.0044, -0.0316,  0.1062,  ..., -0.0323, -0.1612,  0.0196],\n",
       "         [-0.0057, -0.0386,  0.1017,  ..., -0.0345, -0.1654,  0.0178],\n",
       "         [-0.0060, -0.0436,  0.0920,  ..., -0.0345, -0.1679,  0.0209]],\n",
       "\n",
       "        [[ 0.1216, -0.1223, -0.0161,  ...,  0.1346,  0.0016, -0.0969],\n",
       "         [-0.4308,  0.2260,  0.2156,  ..., -0.1011,  0.0140, -0.4570],\n",
       "         [-0.5038,  0.2883,  0.1684,  ...,  0.0300, -0.0678, -0.4736],\n",
       "         ...,\n",
       "         [ 0.4783, -0.1476, -0.0570,  ..., -0.2642, -0.6181,  0.2321],\n",
       "         [ 0.4313, -0.2115, -0.1195,  ..., -0.4216, -0.4153,  0.2950],\n",
       "         [ 0.0910, -0.0379,  0.1903,  ...,  0.0070, -0.1593, -0.0444]]]), hidden_states=None, attentions=None)"
      ]
     },
     "execution_count": 53,
     "metadata": {},
     "output_type": "execute_result"
    }
   ],
   "source": [
    "hf_outputs"
   ]
  },
  {
   "cell_type": "code",
   "execution_count": 54,
   "id": "06fb675b",
   "metadata": {
    "hidden": true
   },
   "outputs": [
    {
     "data": {
      "text/plain": [
       "['last_hidden_state']"
      ]
     },
     "execution_count": 54,
     "metadata": {},
     "output_type": "execute_result"
    }
   ],
   "source": [
    "list(hf_outputs.keys())"
   ]
  },
  {
   "cell_type": "code",
   "execution_count": 55,
   "id": "8fe9914e",
   "metadata": {
    "hidden": true
   },
   "outputs": [
    {
     "data": {
      "text/plain": [
       "torch.Size([3, 79, 768])"
      ]
     },
     "execution_count": 55,
     "metadata": {},
     "output_type": "execute_result"
    }
   ],
   "source": [
    "hf_outputs[\"last_hidden_state\"].shape"
   ]
  },
  {
   "cell_type": "code",
   "execution_count": 56,
   "id": "69eda6f0",
   "metadata": {
    "hidden": true
   },
   "outputs": [
    {
     "data": {
      "text/plain": [
       "tensor([[[ 0.1216, -0.1223, -0.0161,  ...,  0.1346,  0.0016, -0.0969],\n",
       "         [-0.4308,  0.2260,  0.2156,  ..., -0.1011,  0.0140, -0.4570],\n",
       "         [-0.5038,  0.2883,  0.1684,  ...,  0.0300, -0.0678, -0.4736],\n",
       "         ...,\n",
       "         [ 0.4783, -0.1476, -0.0570,  ..., -0.2642, -0.6181,  0.2321],\n",
       "         [ 0.4313, -0.2115, -0.1195,  ..., -0.4216, -0.4153,  0.2950],\n",
       "         [ 0.0910, -0.0379,  0.1903,  ...,  0.0070, -0.1593, -0.0444]],\n",
       "\n",
       "        [[ 0.0905, -0.1641, -0.0431,  ...,  0.0498, -0.1105, -0.0655],\n",
       "         [-0.0920, -0.5321, -0.3698,  ..., -0.2545,  0.2266, -0.3704],\n",
       "         [-0.1659, -0.5388, -0.3071,  ..., -0.2132,  0.2163, -0.4686],\n",
       "         ...,\n",
       "         [-0.0044, -0.0316,  0.1062,  ..., -0.0323, -0.1612,  0.0196],\n",
       "         [-0.0057, -0.0386,  0.1017,  ..., -0.0345, -0.1654,  0.0178],\n",
       "         [-0.0060, -0.0436,  0.0920,  ..., -0.0345, -0.1679,  0.0209]],\n",
       "\n",
       "        [[ 0.1216, -0.1223, -0.0161,  ...,  0.1346,  0.0016, -0.0969],\n",
       "         [-0.4308,  0.2260,  0.2156,  ..., -0.1011,  0.0140, -0.4570],\n",
       "         [-0.5038,  0.2883,  0.1684,  ...,  0.0300, -0.0678, -0.4736],\n",
       "         ...,\n",
       "         [ 0.4783, -0.1476, -0.0570,  ..., -0.2642, -0.6181,  0.2321],\n",
       "         [ 0.4313, -0.2115, -0.1195,  ..., -0.4216, -0.4153,  0.2950],\n",
       "         [ 0.0910, -0.0379,  0.1903,  ...,  0.0070, -0.1593, -0.0444]]])"
      ]
     },
     "execution_count": 56,
     "metadata": {},
     "output_type": "execute_result"
    }
   ],
   "source": [
    "hf_outputs[\"last_hidden_state\"]"
   ]
  },
  {
   "cell_type": "code",
   "execution_count": 57,
   "id": "a747e547",
   "metadata": {
    "hidden": true
   },
   "outputs": [
    {
     "data": {
      "text/plain": [
       "tensor(1.1921e-06)"
      ]
     },
     "execution_count": 57,
     "metadata": {},
     "output_type": "execute_result"
    }
   ],
   "source": [
    "torch.max(torch.abs(encoder_output[\"encoder_out\"][0].permute((1, 0, 2)) - hf_outputs[\"last_hidden_state\"]))"
   ]
  },
  {
   "cell_type": "markdown",
   "id": "51c46a9d",
   "metadata": {
    "hidden": true
   },
   "source": [
    "**Note:** When padding is used (in a batch), the difference is around 1e-6. This is probably because internally the padding mask is set to -3.4028e+38 where padding is used. I don't think the original model does it this way."
   ]
  },
  {
   "cell_type": "markdown",
   "id": "0c950849",
   "metadata": {
    "heading_collapsed": true
   },
   "source": [
    "## Full encoder"
   ]
  },
  {
   "cell_type": "code",
   "execution_count": 352,
   "id": "2f038415",
   "metadata": {
    "hidden": true
   },
   "outputs": [],
   "source": [
    "with torch.no_grad():\n",
    "    encoder_out = orig_model.forward_text_encoder(src_tokens)"
   ]
  },
  {
   "cell_type": "code",
   "execution_count": 69,
   "id": "2b73dfa6",
   "metadata": {
    "hidden": true
   },
   "outputs": [],
   "source": [
    "with torch.no_grad():\n",
    "    encoder_out = orig_model.forward_text_encoder(input_ids_batch)"
   ]
  },
  {
   "cell_type": "code",
   "execution_count": 70,
   "id": "28782edd",
   "metadata": {
    "hidden": true
   },
   "outputs": [
    {
     "data": {
      "text/plain": [
       "tensor([[[ 0.1216, -0.1223, -0.0161,  ...,  0.1346,  0.0016, -0.0969],\n",
       "         [-0.4308,  0.2260,  0.2156,  ..., -0.1011,  0.0140, -0.4570],\n",
       "         [-0.5038,  0.2883,  0.1684,  ...,  0.0300, -0.0678, -0.4736],\n",
       "         ...,\n",
       "         [ 0.4783, -0.1476, -0.0570,  ..., -0.2642, -0.6181,  0.2321],\n",
       "         [ 0.4313, -0.2115, -0.1195,  ..., -0.4216, -0.4153,  0.2950],\n",
       "         [ 0.0910, -0.0379,  0.1903,  ...,  0.0070, -0.1593, -0.0444]],\n",
       "\n",
       "        [[ 0.0905, -0.1641, -0.0431,  ...,  0.0498, -0.1105, -0.0655],\n",
       "         [-0.0920, -0.5321, -0.3698,  ..., -0.2545,  0.2266, -0.3704],\n",
       "         [-0.1659, -0.5388, -0.3071,  ..., -0.2132,  0.2163, -0.4686],\n",
       "         ...,\n",
       "         [-0.0044, -0.0316,  0.1062,  ..., -0.0323, -0.1612,  0.0196],\n",
       "         [-0.0057, -0.0386,  0.1017,  ..., -0.0345, -0.1654,  0.0178],\n",
       "         [-0.0060, -0.0436,  0.0920,  ..., -0.0345, -0.1679,  0.0209]],\n",
       "\n",
       "        [[ 0.1216, -0.1223, -0.0161,  ...,  0.1346,  0.0016, -0.0969],\n",
       "         [-0.4308,  0.2260,  0.2156,  ..., -0.1011,  0.0140, -0.4570],\n",
       "         [-0.5038,  0.2883,  0.1684,  ...,  0.0300, -0.0678, -0.4736],\n",
       "         ...,\n",
       "         [ 0.4783, -0.1476, -0.0570,  ..., -0.2642, -0.6181,  0.2321],\n",
       "         [ 0.4313, -0.2115, -0.1195,  ..., -0.4216, -0.4153,  0.2950],\n",
       "         [ 0.0910, -0.0379,  0.1903,  ...,  0.0070, -0.1593, -0.0444]]])"
      ]
     },
     "execution_count": 70,
     "metadata": {},
     "output_type": "execute_result"
    }
   ],
   "source": [
    "encoder_out[\"encoder_out\"][0].permute((1, 0, 2))"
   ]
  },
  {
   "cell_type": "code",
   "execution_count": 71,
   "id": "865dbb0e",
   "metadata": {
    "hidden": true
   },
   "outputs": [
    {
     "data": {
      "text/plain": [
       "torch.Size([3, 79, 768])"
      ]
     },
     "execution_count": 71,
     "metadata": {},
     "output_type": "execute_result"
    }
   ],
   "source": [
    "encoder_out[\"encoder_out\"][0].permute((1, 0, 2)).shape"
   ]
  },
  {
   "cell_type": "code",
   "execution_count": null,
   "id": "aea13537",
   "metadata": {
    "hidden": true
   },
   "outputs": [],
   "source": []
  },
  {
   "cell_type": "code",
   "execution_count": 356,
   "id": "33848c76",
   "metadata": {
    "hidden": true
   },
   "outputs": [
    {
     "data": {
      "text/plain": [
       "transformers.modeling_outputs.BaseModelOutput"
      ]
     },
     "execution_count": 356,
     "metadata": {},
     "output_type": "execute_result"
    }
   ],
   "source": [
    "with torch.no_grad():\n",
    "     hf_outputs = hf_model.speecht5.encoder(\n",
    "         input_values=src_tokens,\n",
    "         attention_mask=torch.ones_like(src_tokens),\n",
    "         return_dict=True,\n",
    "     )\n",
    "\n",
    "type(hf_outputs)"
   ]
  },
  {
   "cell_type": "code",
   "execution_count": 72,
   "id": "2af06347",
   "metadata": {
    "hidden": true
   },
   "outputs": [
    {
     "data": {
      "text/plain": [
       "transformers.modeling_outputs.BaseModelOutput"
      ]
     },
     "execution_count": 72,
     "metadata": {},
     "output_type": "execute_result"
    }
   ],
   "source": [
    "with torch.no_grad():\n",
    "     hf_outputs = hf_model.speecht5.encoder(\n",
    "         input_values=input_ids_batch,\n",
    "         #attention_mask=torch.ones_like(input_ids_batch),\n",
    "         attention_mask=attention_mask_batch,\n",
    "         return_dict=True,\n",
    "     )\n",
    "\n",
    "type(hf_outputs)"
   ]
  },
  {
   "cell_type": "code",
   "execution_count": 73,
   "id": "40060f6d",
   "metadata": {
    "hidden": true
   },
   "outputs": [
    {
     "data": {
      "text/plain": [
       "torch.Size([3, 79, 768])"
      ]
     },
     "execution_count": 73,
     "metadata": {},
     "output_type": "execute_result"
    }
   ],
   "source": [
    "hf_outputs.last_hidden_state.shape"
   ]
  },
  {
   "cell_type": "code",
   "execution_count": 74,
   "id": "3486fd24",
   "metadata": {
    "hidden": true,
    "scrolled": true
   },
   "outputs": [
    {
     "data": {
      "text/plain": [
       "tensor(1.1921e-06)"
      ]
     },
     "execution_count": 74,
     "metadata": {},
     "output_type": "execute_result"
    }
   ],
   "source": [
    "torch.max(torch.abs(encoder_out[\"encoder_out\"][0].permute((1, 0, 2)) - hf_outputs[\"last_hidden_state\"]))"
   ]
  },
  {
   "cell_type": "markdown",
   "id": "b17bb840",
   "metadata": {
    "heading_collapsed": true
   },
   "source": [
    "## Verify speech decoder prenet"
   ]
  },
  {
   "cell_type": "markdown",
   "id": "826b3fff",
   "metadata": {
    "hidden": true
   },
   "source": [
    "**NOTE:** From this point on, the outputs of the two models will not match because the speech decoder prenet *always* applies dropout, even when not training."
   ]
  },
  {
   "cell_type": "code",
   "execution_count": 75,
   "id": "e0950265",
   "metadata": {
    "hidden": true,
    "scrolled": true
   },
   "outputs": [
    {
     "data": {
      "text/plain": [
       "torch.Size([1, 1, 80])"
      ]
     },
     "execution_count": 75,
     "metadata": {},
     "output_type": "execute_result"
    }
   ],
   "source": [
    "ys = encoder_out[\"encoder_out\"][0].new_zeros(1, 1, orig_model.speech_decoder_postnet.odim)\n",
    "ys.shape"
   ]
  },
  {
   "cell_type": "code",
   "execution_count": 360,
   "id": "279a02a5",
   "metadata": {
    "hidden": true
   },
   "outputs": [],
   "source": [
    "ys = torch.randn(1, 1, 80)\n",
    "spkembs = torch.randn(1, 512)"
   ]
  },
  {
   "cell_type": "code",
   "execution_count": 457,
   "id": "730449dd",
   "metadata": {
    "hidden": true
   },
   "outputs": [],
   "source": [
    "ys = torch.randn(1, 100, 80)\n",
    "spkembs = torch.randn(1, 512)"
   ]
  },
  {
   "cell_type": "code",
   "execution_count": 2,
   "id": "8c1ee67e",
   "metadata": {
    "hidden": true
   },
   "outputs": [],
   "source": [
    "ys = torch.randn(3, 100, 80)\n",
    "spkembs = torch.randn(3, 512)"
   ]
  },
  {
   "cell_type": "code",
   "execution_count": 193,
   "id": "24f27af0",
   "metadata": {
    "hidden": true
   },
   "outputs": [],
   "source": [
    "#spkembs = None"
   ]
  },
  {
   "cell_type": "code",
   "execution_count": 16,
   "id": "fc99b511",
   "metadata": {
    "hidden": true
   },
   "outputs": [
    {
     "data": {
      "text/plain": [
       "torch.Size([3, 100, 768])"
      ]
     },
     "execution_count": 16,
     "metadata": {},
     "output_type": "execute_result"
    }
   ],
   "source": [
    "with torch.no_grad():\n",
    "    decoder_in, _ = orig_model.speech_decoder_prenet(ys, spkembs=spkembs)\n",
    "decoder_in.shape"
   ]
  },
  {
   "cell_type": "code",
   "execution_count": 17,
   "id": "86cf9ecd",
   "metadata": {
    "hidden": true
   },
   "outputs": [],
   "source": [
    "#decoder_in"
   ]
  },
  {
   "cell_type": "code",
   "execution_count": null,
   "id": "7a1cc023",
   "metadata": {
    "hidden": true
   },
   "outputs": [],
   "source": []
  },
  {
   "cell_type": "code",
   "execution_count": 18,
   "id": "77134734",
   "metadata": {
    "hidden": true
   },
   "outputs": [
    {
     "data": {
      "text/plain": [
       "torch.Size([3, 100, 768])"
      ]
     },
     "execution_count": 18,
     "metadata": {},
     "output_type": "execute_result"
    }
   ],
   "source": [
    "with torch.no_grad():\n",
    "     hf_outputs = hf_model.speecht5.decoder.prenet(\n",
    "         input_values=ys,\n",
    "         speaker_embeddings=spkembs,\n",
    "     )\n",
    "\n",
    "hf_outputs.shape"
   ]
  },
  {
   "cell_type": "code",
   "execution_count": 19,
   "id": "f7fc65dd",
   "metadata": {
    "hidden": true
   },
   "outputs": [
    {
     "data": {
      "text/plain": [
       "tensor(14.1602)"
      ]
     },
     "execution_count": 19,
     "metadata": {},
     "output_type": "execute_result"
    }
   ],
   "source": [
    "torch.max(torch.abs(decoder_in - hf_outputs))"
   ]
  },
  {
   "cell_type": "code",
   "execution_count": 22,
   "id": "ef8d7a7e",
   "metadata": {
    "hidden": true
   },
   "outputs": [],
   "source": [
    "# plt.imshow(decoder_in[0] - hf_outputs[0])"
   ]
  },
  {
   "cell_type": "code",
   "execution_count": null,
   "id": "59a1a3b2",
   "metadata": {
    "hidden": true
   },
   "outputs": [],
   "source": []
  },
  {
   "cell_type": "markdown",
   "id": "7fec354d",
   "metadata": {
    "heading_collapsed": true
   },
   "source": [
    "## Verify Transformer decoder output"
   ]
  },
  {
   "cell_type": "code",
   "execution_count": 110,
   "id": "559eb4d1",
   "metadata": {
    "hidden": true
   },
   "outputs": [
    {
     "data": {
      "text/plain": [
       "torch.Size([3, 100, 768])"
      ]
     },
     "execution_count": 110,
     "metadata": {},
     "output_type": "execute_result"
    }
   ],
   "source": [
    "prev_output_tokens = decoder_in\n",
    "prev_output_tokens.shape"
   ]
  },
  {
   "cell_type": "code",
   "execution_count": 96,
   "id": "2492babf",
   "metadata": {
    "hidden": true
   },
   "outputs": [
    {
     "data": {
      "text/plain": [
       "torch.Size([3, 1, 768])"
      ]
     },
     "execution_count": 96,
     "metadata": {},
     "output_type": "execute_result"
    }
   ],
   "source": [
    "prev_output_tokens = decoder_in[:, -1:]\n",
    "prev_output_tokens.shape"
   ]
  },
  {
   "cell_type": "code",
   "execution_count": 111,
   "id": "d516c43e",
   "metadata": {
    "hidden": true
   },
   "outputs": [],
   "source": [
    "tgt_mask = None"
   ]
  },
  {
   "cell_type": "code",
   "execution_count": 112,
   "id": "6229b43c",
   "metadata": {
    "hidden": true
   },
   "outputs": [],
   "source": [
    "with torch.no_grad():\n",
    "    decoder_output, extra = orig_model.decoder(\n",
    "        prev_output_tokens,\n",
    "        tgt_mask,\n",
    "        encoder_out=encoder_out,\n",
    "        incremental_state=None,\n",
    "        alignment_layer=-1,\n",
    "    )"
   ]
  },
  {
   "cell_type": "code",
   "execution_count": 113,
   "id": "0a190958",
   "metadata": {
    "hidden": true
   },
   "outputs": [
    {
     "data": {
      "text/plain": [
       "torch.Size([3, 100, 768])"
      ]
     },
     "execution_count": 113,
     "metadata": {},
     "output_type": "execute_result"
    }
   ],
   "source": [
    "decoder_output.shape"
   ]
  },
  {
   "cell_type": "code",
   "execution_count": 114,
   "id": "fea0351e",
   "metadata": {
    "hidden": true,
    "scrolled": true
   },
   "outputs": [],
   "source": [
    "# decoder_output"
   ]
  },
  {
   "cell_type": "code",
   "execution_count": 115,
   "id": "05117956",
   "metadata": {
    "hidden": true
   },
   "outputs": [],
   "source": [
    "#[x.shape for x in extra[\"attn\"]]"
   ]
  },
  {
   "cell_type": "code",
   "execution_count": 116,
   "id": "b593692b",
   "metadata": {
    "hidden": true
   },
   "outputs": [],
   "source": [
    "#[x.shape for x in extra[\"inner_states\"]]"
   ]
  },
  {
   "cell_type": "code",
   "execution_count": 117,
   "id": "0f4a7c0f",
   "metadata": {
    "hidden": true
   },
   "outputs": [
    {
     "data": {
      "text/plain": [
       "torch.Size([3, 100, 768])"
      ]
     },
     "execution_count": 117,
     "metadata": {},
     "output_type": "execute_result"
    }
   ],
   "source": [
    "prev_output_tokens.shape"
   ]
  },
  {
   "cell_type": "code",
   "execution_count": 118,
   "id": "9d486f4b",
   "metadata": {
    "hidden": true
   },
   "outputs": [
    {
     "data": {
      "text/plain": [
       "transformers.modeling_outputs.BaseModelOutputWithPastAndCrossAttentions"
      ]
     },
     "execution_count": 118,
     "metadata": {},
     "output_type": "execute_result"
    }
   ],
   "source": [
    "with torch.no_grad():\n",
    "     hf_outputs = hf_model.speecht5.decoder.wrapped_decoder(\n",
    "         hidden_states=prev_output_tokens,\n",
    "         attention_mask=None,\n",
    "         #attention_mask=torch.ones((prev_output_tokens.size(0), prev_output_tokens.size(1))), #decoder_attention_mask,\n",
    "         encoder_hidden_states=encoder_out[\"encoder_out\"][0].permute((1, 0, 2)),\n",
    "         encoder_attention_mask=(1.0 - encoder_out[\"encoder_padding_mask\"][0] * 1.0),\n",
    "         return_dict=True,\n",
    "     )\n",
    "\n",
    "type(hf_outputs)"
   ]
  },
  {
   "cell_type": "code",
   "execution_count": 119,
   "id": "ea512cc2",
   "metadata": {
    "hidden": true
   },
   "outputs": [
    {
     "data": {
      "text/plain": [
       "['last_hidden_state', 'past_key_values']"
      ]
     },
     "execution_count": 119,
     "metadata": {},
     "output_type": "execute_result"
    }
   ],
   "source": [
    "list(hf_outputs.keys())"
   ]
  },
  {
   "cell_type": "code",
   "execution_count": 120,
   "id": "d82c369a",
   "metadata": {
    "hidden": true
   },
   "outputs": [
    {
     "data": {
      "text/plain": [
       "torch.Size([3, 100, 768])"
      ]
     },
     "execution_count": 120,
     "metadata": {},
     "output_type": "execute_result"
    }
   ],
   "source": [
    "hf_outputs[\"last_hidden_state\"].shape"
   ]
  },
  {
   "cell_type": "code",
   "execution_count": 121,
   "id": "eb6282bc",
   "metadata": {
    "hidden": true
   },
   "outputs": [],
   "source": [
    "# hf_outputs[\"last_hidden_state\"]"
   ]
  },
  {
   "cell_type": "code",
   "execution_count": 122,
   "id": "f3e254cb",
   "metadata": {
    "hidden": true
   },
   "outputs": [
    {
     "data": {
      "text/plain": [
       "tensor(5.7220e-06)"
      ]
     },
     "execution_count": 122,
     "metadata": {},
     "output_type": "execute_result"
    }
   ],
   "source": [
    "torch.max(torch.abs(decoder_output - hf_outputs[\"last_hidden_state\"]))"
   ]
  },
  {
   "cell_type": "code",
   "execution_count": 123,
   "id": "e0d3d1fc",
   "metadata": {
    "hidden": true
   },
   "outputs": [
    {
     "data": {
      "text/plain": [
       "<matplotlib.image.AxesImage at 0x7fa21471b7c0>"
      ]
     },
     "execution_count": 123,
     "metadata": {},
     "output_type": "execute_result"
    },
    {
     "data": {
      "image/png": "[encoded data removed]",
      "text/plain": [
       "<Figure size 640x480 with 1 Axes>"
      ]
     },
     "metadata": {},
     "output_type": "display_data"
    }
   ],
   "source": [
    "plt.imshow((decoder_output - hf_outputs[\"last_hidden_state\"])[0])"
   ]
  },
  {
   "cell_type": "code",
   "execution_count": null,
   "id": "72dceba6",
   "metadata": {
    "hidden": true
   },
   "outputs": [],
   "source": []
  },
  {
   "cell_type": "markdown",
   "id": "ceec7dd9",
   "metadata": {
    "heading_collapsed": true
   },
   "source": [
    "## Full decoder"
   ]
  },
  {
   "cell_type": "code",
   "execution_count": 686,
   "id": "c1700a00",
   "metadata": {
    "hidden": true
   },
   "outputs": [],
   "source": [
    "with torch.no_grad():\n",
    "    encoder_out = orig_model.forward_text_encoder(src_tokens)\n",
    "    \n",
    "ys = torch.randn(1, 3, 80)\n",
    "#ys = torch.randn(1, 1, 80)    "
   ]
  },
  {
   "cell_type": "code",
   "execution_count": 124,
   "id": "d82a663d",
   "metadata": {
    "hidden": true
   },
   "outputs": [],
   "source": [
    "with torch.no_grad():\n",
    "    encoder_out = orig_model.forward_text_encoder(input_ids_batch)\n",
    "    \n",
    "# ys = torch.randn(3, 1, 80)\n",
    "# ys = torch.randn(3, 76, 80)\n",
    "ys = torch.zeros(3, 7, 80)"
   ]
  },
  {
   "cell_type": "code",
   "execution_count": 125,
   "id": "4146fa62",
   "metadata": {
    "hidden": true
   },
   "outputs": [],
   "source": [
    "spkembs = torch.randn(ys.size(0), 512)\n",
    "incremental_states = None"
   ]
  },
  {
   "cell_type": "code",
   "execution_count": 126,
   "id": "a91254be",
   "metadata": {
    "hidden": true
   },
   "outputs": [],
   "source": [
    "# with torch.no_grad():\n",
    "#     decoder_in, _ = orig_model.speech_decoder_prenet(ys, spkembs=spkembs)\n",
    "#     z, extra = orig_model.decoder(\n",
    "#         decoder_in[:,-1:], None, encoder_out, incremental_states, alignment_layer=-1\n",
    "#     )"
   ]
  },
  {
   "cell_type": "code",
   "execution_count": 127,
   "id": "36c4c798",
   "metadata": {
    "hidden": true
   },
   "outputs": [],
   "source": [
    "# Need to test this by padding the entire sequence into orig_model.decoder,\n",
    "# since that's what hf_model.speecht5.decoder does too.\n",
    "with torch.no_grad():\n",
    "    decoder_in, _ = orig_model.speech_decoder_prenet(ys, spkembs=spkembs)\n",
    "    z, extra = orig_model.decoder(\n",
    "        decoder_in, None, encoder_out, incremental_states, alignment_layer=-1\n",
    "    )"
   ]
  },
  {
   "cell_type": "code",
   "execution_count": 128,
   "id": "bd610771",
   "metadata": {
    "hidden": true
   },
   "outputs": [
    {
     "data": {
      "text/plain": [
       "(torch.Size([3, 7, 768]), torch.Size([3, 1, 768]))"
      ]
     },
     "execution_count": 128,
     "metadata": {},
     "output_type": "execute_result"
    }
   ],
   "source": [
    "decoder_in.shape, decoder_in[:,-1:].shape"
   ]
  },
  {
   "cell_type": "code",
   "execution_count": 129,
   "id": "c1f49894",
   "metadata": {
    "hidden": true
   },
   "outputs": [
    {
     "data": {
      "text/plain": [
       "torch.Size([3, 7, 768])"
      ]
     },
     "execution_count": 129,
     "metadata": {},
     "output_type": "execute_result"
    }
   ],
   "source": [
    "z.shape"
   ]
  },
  {
   "cell_type": "code",
   "execution_count": 130,
   "id": "6a048e44",
   "metadata": {
    "hidden": true
   },
   "outputs": [
    {
     "data": {
      "text/plain": [
       "transformers.modeling_outputs.BaseModelOutputWithPastAndCrossAttentions"
      ]
     },
     "execution_count": 130,
     "metadata": {},
     "output_type": "execute_result"
    }
   ],
   "source": [
    "with torch.no_grad():\n",
    "     hf_outputs = hf_model.speecht5.decoder(\n",
    "         input_values=ys,\n",
    "         #attention_mask=decoder_attention_mask,\n",
    "         encoder_hidden_states=encoder_out[\"encoder_out\"][0].permute((1, 0, 2)),\n",
    "#         encoder_attention_mask=(1.0 - encoder_out[\"encoder_padding_mask\"][0] * 1.0),\n",
    "         encoder_attention_mask=attention_mask_batch,\n",
    "         speaker_embeddings=spkembs,\n",
    "         return_dict=True,         \n",
    "     )\n",
    "\n",
    "type(hf_outputs)"
   ]
  },
  {
   "cell_type": "code",
   "execution_count": 131,
   "id": "6c4b72b1",
   "metadata": {
    "hidden": true
   },
   "outputs": [
    {
     "data": {
      "text/plain": [
       "torch.Size([3, 7, 768])"
      ]
     },
     "execution_count": 131,
     "metadata": {},
     "output_type": "execute_result"
    }
   ],
   "source": [
    "hf_outputs.last_hidden_state.shape"
   ]
  },
  {
   "cell_type": "code",
   "execution_count": 132,
   "id": "c119b515",
   "metadata": {
    "hidden": true
   },
   "outputs": [
    {
     "data": {
      "text/plain": [
       "tensor(2.3842e-06)"
      ]
     },
     "execution_count": 132,
     "metadata": {},
     "output_type": "execute_result"
    }
   ],
   "source": [
    "torch.max(torch.abs(z - hf_outputs[\"last_hidden_state\"]))"
   ]
  },
  {
   "cell_type": "code",
   "execution_count": 133,
   "id": "1f966f50",
   "metadata": {
    "hidden": true
   },
   "outputs": [
    {
     "name": "stdout",
     "output_type": "stream",
     "text": [
      "0 tensor(1.9073e-06)\n",
      "1 tensor(2.3842e-06)\n",
      "2 tensor(2.3842e-06)\n"
     ]
    }
   ],
   "source": [
    "for i in range(input_ids_batch.size(0)):\n",
    "    print(i, torch.max(torch.abs(z[i] - hf_outputs.last_hidden_state[i])))"
   ]
  },
  {
   "cell_type": "markdown",
   "id": "1d9113f7",
   "metadata": {
    "heading_collapsed": true
   },
   "source": [
    "## Verify speech decoder postnet output"
   ]
  },
  {
   "cell_type": "code",
   "execution_count": 134,
   "id": "16c82e7a",
   "metadata": {
    "hidden": true
   },
   "outputs": [
    {
     "data": {
      "text/plain": [
       "(torch.Size([3, 7, 768]), torch.Size([768]))"
      ]
     },
     "execution_count": 134,
     "metadata": {},
     "output_type": "execute_result"
    }
   ],
   "source": [
    "z.shape, z[0, -1].shape"
   ]
  },
  {
   "cell_type": "code",
   "execution_count": 135,
   "id": "110cd6dd",
   "metadata": {
    "hidden": true
   },
   "outputs": [],
   "source": [
    "#orig_model.speech_decoder_postnet"
   ]
  },
  {
   "cell_type": "code",
   "execution_count": 136,
   "id": "8e294ac6",
   "metadata": {
    "hidden": true
   },
   "outputs": [],
   "source": [
    "# hf_model.speech_decoder_postnet"
   ]
  },
  {
   "cell_type": "code",
   "execution_count": 137,
   "id": "a20be43c",
   "metadata": {
    "hidden": true
   },
   "outputs": [],
   "source": [
    "with torch.no_grad():\n",
    "    before_outs, after_outs, logits = orig_model.speech_decoder_postnet(z)  # z[:, -1])\n",
    "    \n",
    "    # before_outs = speech_decoder_postnet.feat_out(...)\n",
    "    # after_outs = final output\n",
    "    # logits = speech_decoder_postnet.prob_out(...)  for stop token"
   ]
  },
  {
   "cell_type": "code",
   "execution_count": 138,
   "id": "a7a143bf",
   "metadata": {
    "hidden": true
   },
   "outputs": [
    {
     "data": {
      "text/plain": [
       "(torch.Size([3, 14, 80]), torch.Size([3, 14, 80]), torch.Size([3, 14]))"
      ]
     },
     "execution_count": 138,
     "metadata": {},
     "output_type": "execute_result"
    }
   ],
   "source": [
    "before_outs.shape, after_outs.shape, logits.shape"
   ]
  },
  {
   "cell_type": "code",
   "execution_count": 139,
   "id": "7d6de14b",
   "metadata": {
    "hidden": true
   },
   "outputs": [
    {
     "data": {
      "text/plain": [
       "tensor([-24.1840, -10.6777, -22.3951, -12.5376, -22.7592, -11.0522, -22.7133,\n",
       "        -10.3976, -22.8957, -10.1333, -23.1024, -10.3960, -23.3082, -10.8343])"
      ]
     },
     "execution_count": 139,
     "metadata": {},
     "output_type": "execute_result"
    }
   ],
   "source": [
    "logits[0]"
   ]
  },
  {
   "cell_type": "code",
   "execution_count": 140,
   "id": "7ee9a8b7",
   "metadata": {
    "hidden": true
   },
   "outputs": [
    {
     "data": {
      "text/plain": [
       "torch.Size([3, 7, 768])"
      ]
     },
     "execution_count": 140,
     "metadata": {},
     "output_type": "execute_result"
    }
   ],
   "source": [
    "hf_outputs.last_hidden_state.shape"
   ]
  },
  {
   "cell_type": "code",
   "execution_count": 141,
   "id": "ba7571e7",
   "metadata": {
    "hidden": true
   },
   "outputs": [],
   "source": [
    "with torch.no_grad():\n",
    "    before_outs_hf, after_outs_hf, logits_hf = hf_model.speech_decoder_postnet(z)"
   ]
  },
  {
   "cell_type": "code",
   "execution_count": 142,
   "id": "5623a791",
   "metadata": {
    "hidden": true
   },
   "outputs": [
    {
     "data": {
      "text/plain": [
       "(torch.Size([3, 14, 80]), torch.Size([3, 14, 80]), torch.Size([3, 14]))"
      ]
     },
     "execution_count": 142,
     "metadata": {},
     "output_type": "execute_result"
    }
   ],
   "source": [
    "before_outs_hf.shape, after_outs_hf.shape, logits_hf.shape"
   ]
  },
  {
   "cell_type": "code",
   "execution_count": null,
   "id": "e230f4bf",
   "metadata": {
    "hidden": true
   },
   "outputs": [],
   "source": []
  },
  {
   "cell_type": "code",
   "execution_count": 143,
   "id": "6eeff463",
   "metadata": {
    "hidden": true
   },
   "outputs": [
    {
     "data": {
      "text/plain": [
       "tensor(0.)"
      ]
     },
     "execution_count": 143,
     "metadata": {},
     "output_type": "execute_result"
    }
   ],
   "source": [
    "torch.max(torch.abs(before_outs - before_outs_hf))"
   ]
  },
  {
   "cell_type": "code",
   "execution_count": 144,
   "id": "a0cb9d8e",
   "metadata": {
    "hidden": true
   },
   "outputs": [
    {
     "data": {
      "text/plain": [
       "tensor(0.)"
      ]
     },
     "execution_count": 144,
     "metadata": {},
     "output_type": "execute_result"
    }
   ],
   "source": [
    "torch.max(torch.abs(after_outs - after_outs_hf))"
   ]
  },
  {
   "cell_type": "code",
   "execution_count": 145,
   "id": "e8055eb3",
   "metadata": {
    "hidden": true
   },
   "outputs": [
    {
     "data": {
      "text/plain": [
       "tensor(0.)"
      ]
     },
     "execution_count": 145,
     "metadata": {},
     "output_type": "execute_result"
    }
   ],
   "source": [
    "torch.max(torch.abs(logits - logits_hf))"
   ]
  },
  {
   "cell_type": "code",
   "execution_count": null,
   "id": "24926eec",
   "metadata": {
    "hidden": true
   },
   "outputs": [],
   "source": []
  },
  {
   "cell_type": "markdown",
   "id": "b6d9d879",
   "metadata": {
    "heading_collapsed": true
   },
   "source": [
    "## Complete forward pass\n",
    "\n",
    "I think this is only used during training / fine-tuning, not inference."
   ]
  },
  {
   "cell_type": "code",
   "execution_count": 146,
   "id": "ddcce307",
   "metadata": {
    "hidden": true
   },
   "outputs": [],
   "source": [
    "spkembs = torch.randn((1, 512))\n",
    "\n",
    "with torch.no_grad():\n",
    "    hf_outputs = hf_model(\n",
    "        input_ids=src_tokens,\n",
    "        attention_mask=attention_mask,\n",
    "        decoder_input_values=torch.zeros((1, 7, 80)),\n",
    "        speaker_embeddings=spkembs,\n",
    "        return_dict=True\n",
    "    )"
   ]
  },
  {
   "cell_type": "code",
   "execution_count": 147,
   "id": "d06c7155",
   "metadata": {
    "hidden": true
   },
   "outputs": [
    {
     "data": {
      "text/plain": [
       "['logits', 'past_key_values', 'encoder_last_hidden_state']"
      ]
     },
     "execution_count": 147,
     "metadata": {},
     "output_type": "execute_result"
    }
   ],
   "source": [
    "list(hf_outputs.keys())"
   ]
  },
  {
   "cell_type": "code",
   "execution_count": 148,
   "id": "f784f8b5",
   "metadata": {
    "hidden": true
   },
   "outputs": [
    {
     "data": {
      "text/plain": [
       "torch.Size([1, 79, 768])"
      ]
     },
     "execution_count": 148,
     "metadata": {},
     "output_type": "execute_result"
    }
   ],
   "source": [
    "hf_outputs[\"encoder_last_hidden_state\"].shape"
   ]
  },
  {
   "cell_type": "code",
   "execution_count": 149,
   "id": "2ab9f732",
   "metadata": {
    "hidden": true
   },
   "outputs": [
    {
     "data": {
      "text/plain": [
       "torch.Size([1, 14, 80])"
      ]
     },
     "execution_count": 149,
     "metadata": {},
     "output_type": "execute_result"
    }
   ],
   "source": [
    "hf_outputs[\"logits\"].shape"
   ]
  },
  {
   "cell_type": "code",
   "execution_count": 150,
   "id": "23274a6a",
   "metadata": {
    "hidden": true
   },
   "outputs": [
    {
     "data": {
      "text/plain": [
       "<matplotlib.image.AxesImage at 0x7fa221660a30>"
      ]
     },
     "execution_count": 150,
     "metadata": {},
     "output_type": "execute_result"
    },
    {
     "data": {
      "image/png": "[encoded data removed]",
      "text/plain": [
       "<Figure size 640x480 with 1 Axes>"
      ]
     },
     "metadata": {},
     "output_type": "display_data"
    }
   ],
   "source": [
    "plt.imshow(hf_outputs[\"logits\"][0].T)"
   ]
  },
  {
   "cell_type": "code",
   "execution_count": 151,
   "id": "c8bc8dcc",
   "metadata": {
    "hidden": true
   },
   "outputs": [],
   "source": [
    "with torch.no_grad():\n",
    "    outputs = orig_model(\n",
    "        src_tokens=src_tokens,\n",
    "        prev_output_tokens=torch.zeros((1, 7, 80)),\n",
    "        spkembs=spkembs,        \n",
    "    )"
   ]
  },
  {
   "cell_type": "code",
   "execution_count": 152,
   "id": "ca8fe71f",
   "metadata": {
    "hidden": true
   },
   "outputs": [
    {
     "data": {
      "text/plain": [
       "torch.Size([1, 14, 80])"
      ]
     },
     "execution_count": 152,
     "metadata": {},
     "output_type": "execute_result"
    }
   ],
   "source": [
    "outputs[0].shape  # which one is this? (targets maybe?)"
   ]
  },
  {
   "cell_type": "code",
   "execution_count": 153,
   "id": "13f24ee2",
   "metadata": {
    "hidden": true
   },
   "outputs": [
    {
     "data": {
      "text/plain": [
       "tensor(0.)"
      ]
     },
     "execution_count": 153,
     "metadata": {},
     "output_type": "execute_result"
    }
   ],
   "source": [
    "torch.max(torch.abs(outputs[1] - hf_outputs[\"logits\"]))"
   ]
  },
  {
   "cell_type": "code",
   "execution_count": null,
   "id": "14b350bd",
   "metadata": {
    "hidden": true
   },
   "outputs": [],
   "source": []
  },
  {
   "cell_type": "markdown",
   "id": "2ffd4197",
   "metadata": {
    "hidden": true
   },
   "source": [
    "Batch:"
   ]
  },
  {
   "cell_type": "code",
   "execution_count": 10,
   "id": "e00c86be",
   "metadata": {
    "hidden": true
   },
   "outputs": [],
   "source": [
    "spkembs = torch.randn((input_ids_batch.size(0), 512))"
   ]
  },
  {
   "cell_type": "code",
   "execution_count": 11,
   "id": "234cc17a",
   "metadata": {
    "hidden": true
   },
   "outputs": [],
   "source": [
    "with torch.no_grad():\n",
    "    hf_outputs = hf_model(\n",
    "        input_ids=input_ids_batch,\n",
    "        attention_mask=attention_mask_batch,\n",
    "        decoder_input_values=torch.zeros((input_ids_batch.size(0), 7, 80)),\n",
    "        speaker_embeddings=spkembs,\n",
    "        return_dict=True\n",
    "    )"
   ]
  },
  {
   "cell_type": "code",
   "execution_count": 13,
   "id": "1249e334",
   "metadata": {
    "hidden": true
   },
   "outputs": [
    {
     "data": {
      "text/plain": [
       "transformers.modeling_outputs.Seq2SeqSpectrogramOutput"
      ]
     },
     "execution_count": 13,
     "metadata": {},
     "output_type": "execute_result"
    }
   ],
   "source": [
    "type(hf_outputs)"
   ]
  },
  {
   "cell_type": "code",
   "execution_count": 12,
   "id": "87781ad1",
   "metadata": {
    "hidden": true
   },
   "outputs": [
    {
     "data": {
      "text/plain": [
       "torch.Size([3, 14, 80])"
      ]
     },
     "execution_count": 12,
     "metadata": {},
     "output_type": "execute_result"
    }
   ],
   "source": [
    "hf_outputs[0].shape"
   ]
  },
  {
   "cell_type": "code",
   "execution_count": 157,
   "id": "2ed8b5df",
   "metadata": {
    "hidden": true
   },
   "outputs": [],
   "source": [
    "with torch.no_grad():\n",
    "    outputs = orig_model(\n",
    "        src_tokens=input_ids_batch,\n",
    "        prev_output_tokens=torch.zeros((input_ids_batch.size(0), 7, 80)),\n",
    "        spkembs=spkembs,        \n",
    "        #task_name=\"t2s\",\n",
    "    )"
   ]
  },
  {
   "cell_type": "code",
   "execution_count": 158,
   "id": "98396dc4",
   "metadata": {
    "hidden": true
   },
   "outputs": [
    {
     "data": {
      "text/plain": [
       "torch.Size([3, 14, 80])"
      ]
     },
     "execution_count": 158,
     "metadata": {},
     "output_type": "execute_result"
    }
   ],
   "source": [
    "outputs[1].shape"
   ]
  },
  {
   "cell_type": "code",
   "execution_count": 159,
   "id": "f42f7d8b",
   "metadata": {
    "hidden": true
   },
   "outputs": [
    {
     "name": "stdout",
     "output_type": "stream",
     "text": [
      "0 tensor(2.0266e-06)\n",
      "1 tensor(2.2650e-06)\n",
      "2 tensor(2.3916e-06)\n"
     ]
    }
   ],
   "source": [
    "for i in range(input_ids_batch.size(0)):\n",
    "    print(i, torch.max(torch.abs(outputs[1][i] - hf_outputs[\"logits\"][i])))"
   ]
  },
  {
   "cell_type": "code",
   "execution_count": 160,
   "id": "9e0782dd",
   "metadata": {
    "hidden": true
   },
   "outputs": [
    {
     "data": {
      "text/plain": [
       "<matplotlib.image.AxesImage at 0x7fa1a01b9fd0>"
      ]
     },
     "execution_count": 160,
     "metadata": {},
     "output_type": "execute_result"
    },
    {
     "data": {
      "image/png": "[encoded data removed]",
      "text/plain": [
       "<Figure size 640x480 with 1 Axes>"
      ]
     },
     "metadata": {},
     "output_type": "display_data"
    }
   ],
   "source": [
    "plt.imshow(hf_outputs[\"logits\"][1])"
   ]
  },
  {
   "cell_type": "code",
   "execution_count": 161,
   "id": "ba56b8b0",
   "metadata": {
    "hidden": true
   },
   "outputs": [
    {
     "data": {
      "text/plain": [
       "<matplotlib.image.AxesImage at 0x7fa2711e4880>"
      ]
     },
     "execution_count": 161,
     "metadata": {},
     "output_type": "execute_result"
    },
    {
     "data": {
      "image/png": "[encoded data removed]",
      "text/plain": [
       "<Figure size 640x480 with 1 Axes>"
      ]
     },
     "metadata": {},
     "output_type": "display_data"
    }
   ],
   "source": [
    "plt.imshow(outputs[1][1])"
   ]
  },
  {
   "cell_type": "code",
   "execution_count": 162,
   "id": "1605d0ea",
   "metadata": {
    "hidden": true
   },
   "outputs": [
    {
     "data": {
      "text/plain": [
       "<matplotlib.image.AxesImage at 0x7fa230389490>"
      ]
     },
     "execution_count": 162,
     "metadata": {},
     "output_type": "execute_result"
    },
    {
     "data": {
      "image/png": "[encoded data removed]",
      "text/plain": [
       "<Figure size 640x480 with 1 Axes>"
      ]
     },
     "metadata": {},
     "output_type": "display_data"
    }
   ],
   "source": [
    "plt.imshow(hf_outputs[\"logits\"][1] - outputs[1][1])"
   ]
  },
  {
   "cell_type": "code",
   "execution_count": null,
   "id": "b339e250",
   "metadata": {
    "hidden": true
   },
   "outputs": [],
   "source": []
  },
  {
   "cell_type": "markdown",
   "id": "dd6957a0",
   "metadata": {
    "hidden": true
   },
   "source": [
    "Without `input_ids` but previous encoder state:"
   ]
  },
  {
   "cell_type": "code",
   "execution_count": 163,
   "id": "3ebf5ed2",
   "metadata": {
    "hidden": true
   },
   "outputs": [],
   "source": [
    "encoder_last_hidden_state = hf_outputs.encoder_last_hidden_state"
   ]
  },
  {
   "cell_type": "code",
   "execution_count": 164,
   "id": "6160d9cb",
   "metadata": {
    "hidden": true
   },
   "outputs": [],
   "source": [
    "with torch.no_grad():\n",
    "    hf_outputs = hf_model(\n",
    "        encoder_outputs=(encoder_last_hidden_state,),\n",
    "        attention_mask=attention_mask_batch,\n",
    "        decoder_input_values=hf_outputs[\"logits\"], #torch.zeros((1, 10, 80)),\n",
    "        speaker_embeddings=torch.randn((encoder_last_hidden_state.size(0), 512)),\n",
    "        return_dict=True\n",
    "    )"
   ]
  },
  {
   "cell_type": "code",
   "execution_count": 165,
   "id": "b2675390",
   "metadata": {
    "hidden": true
   },
   "outputs": [
    {
     "data": {
      "text/plain": [
       "['logits', 'past_key_values', 'encoder_last_hidden_state']"
      ]
     },
     "execution_count": 165,
     "metadata": {},
     "output_type": "execute_result"
    }
   ],
   "source": [
    "list(hf_outputs.keys())"
   ]
  },
  {
   "cell_type": "code",
   "execution_count": 166,
   "id": "7c583962",
   "metadata": {
    "hidden": true
   },
   "outputs": [
    {
     "data": {
      "text/plain": [
       "torch.Size([3, 79, 768])"
      ]
     },
     "execution_count": 166,
     "metadata": {},
     "output_type": "execute_result"
    }
   ],
   "source": [
    "hf_outputs[\"encoder_last_hidden_state\"].shape"
   ]
  },
  {
   "cell_type": "code",
   "execution_count": 167,
   "id": "8463e13f",
   "metadata": {
    "hidden": true
   },
   "outputs": [
    {
     "data": {
      "text/plain": [
       "torch.Size([3, 28, 80])"
      ]
     },
     "execution_count": 167,
     "metadata": {},
     "output_type": "execute_result"
    }
   ],
   "source": [
    "hf_outputs[\"logits\"].shape"
   ]
  },
  {
   "cell_type": "code",
   "execution_count": 168,
   "id": "673c4c88",
   "metadata": {
    "hidden": true
   },
   "outputs": [
    {
     "data": {
      "text/plain": [
       "<matplotlib.image.AxesImage at 0x7fa2306fcdc0>"
      ]
     },
     "execution_count": 168,
     "metadata": {},
     "output_type": "execute_result"
    },
    {
     "data": {
      "image/png": "[encoded data removed]",
      "text/plain": [
       "<Figure size 640x480 with 1 Axes>"
      ]
     },
     "metadata": {},
     "output_type": "display_data"
    }
   ],
   "source": [
    "plt.imshow(hf_outputs[\"logits\"][0].T)"
   ]
  },
  {
   "cell_type": "code",
   "execution_count": null,
   "id": "ff354fce",
   "metadata": {
    "hidden": true
   },
   "outputs": [],
   "source": []
  },
  {
   "cell_type": "markdown",
   "id": "c9f3d81d",
   "metadata": {
    "hidden": true
   },
   "source": [
    "Calculate loss:"
   ]
  },
  {
   "cell_type": "code",
   "execution_count": null,
   "id": "96a00c6f",
   "metadata": {
    "hidden": true
   },
   "outputs": [],
   "source": [
    "with torch.no_grad():\n",
    "     hf_outputs = hf_model(\n",
    "         input_values=inputs.input_values,\n",
    "         attention_mask=inputs.attention_mask,\n",
    "         #decoder_input_ids=torch.tensor([[2,  4, 18, 10, 12,  6,  5]]),\n",
    "         labels=torch.tensor([[4, 18, 10, 12,  6,  5, 13]]),\n",
    "         #labels=torch.tensor([[4, 18, 10, 12,  6,  5, 13], [4, 18, 10, 12,  6,  5, 13]]),  # batch\n",
    "     )"
   ]
  },
  {
   "cell_type": "code",
   "execution_count": null,
   "id": "608ad7ac",
   "metadata": {
    "hidden": true
   },
   "outputs": [],
   "source": [
    "# TODO loss!"
   ]
  },
  {
   "cell_type": "code",
   "execution_count": null,
   "id": "fde93498",
   "metadata": {
    "hidden": true
   },
   "outputs": [],
   "source": []
  },
  {
   "cell_type": "markdown",
   "id": "394115d0",
   "metadata": {},
   "source": [
    "## Generating speech"
   ]
  },
  {
   "cell_type": "markdown",
   "id": "b949bb79",
   "metadata": {},
   "source": [
    "The original repo comes with a `generate_speech.py` script. This is used instead of the typical encoder-decoder generation loop.\n",
    "\n",
    "What this script does:\n",
    "\n",
    "- create SpeechT5 task\n",
    "- load the model checkpoint\n",
    "- load the dataset\n",
    "- create an iterator for the examples in the dataset\n",
    "- loop through the iterator and call `task.generate_speech()` on each example\n",
    "- save the predicted features to a numpy file\n",
    "- save some spectrogram plots\n",
    "\n",
    "The example that goes into `task.generate_speech()` is already tokenized. This is done by the dataset.\n",
    "\n",
    "`task.generate_speech()` calls `model.generate_speech()` on the T5TransformerModel.\n",
    "\n",
    "Dataset (`text_to_speech_dataset.py`):\n",
    "\n",
    "- `__getitem__`:\n",
    "    - calls `get_labels` which gets the text and tokenizes it\n",
    "    - calls `get_audio` to load the target audio file and converts it to log-mel spectrograms\n",
    "    - calls `get_features_or_waveform` to load the speaker embeddings from NumPy files (= 512-element vector)\n",
    "    \n",
    "- `collater`:\n",
    "    - thins out frames of the target spectrogram for reduction factor (= 2)\n",
    "    - creates `prev_output_tokens` by shifting the target spectrogram\n",
    "    - creates labels for stop token prediction (tensor with same size as spectrogram that is all zero except for final element, which is 1)\n",
    "    - pads everything to fit in a mini-batch\n",
    "\n",
    "We don't need the target audio."
   ]
  },
  {
   "cell_type": "code",
   "execution_count": 24,
   "id": "ac6c3d0a",
   "metadata": {},
   "outputs": [],
   "source": [
    "text = \"Hey, what's up, Hugging Face? This is Speech tee five talking to you for real.\""
   ]
  },
  {
   "cell_type": "code",
   "execution_count": 25,
   "id": "dc43c338",
   "metadata": {},
   "outputs": [
    {
     "data": {
      "text/plain": [
       "tensor([[ 4, 35,  5, 22, 23,  4, 20, 11,  7,  6, 31, 12,  4, 16, 24, 23,  4, 35,\n",
       "         16, 21, 21, 10,  9, 21,  4, 55,  7, 17,  5, 41,  4, 32, 11, 10, 12,  4,\n",
       "         10, 12,  4, 34, 24,  5,  5, 17, 11,  4,  6,  5,  5,  4, 19, 10, 27,  5,\n",
       "          4,  6,  7, 15, 28, 10,  9, 21,  4,  6,  8,  4, 22,  8, 16,  4, 19,  8,\n",
       "         13,  4, 13,  5,  7, 15, 26]], dtype=torch.int32)"
      ]
     },
     "execution_count": 25,
     "metadata": {},
     "output_type": "execute_result"
    }
   ],
   "source": [
    "label = tokenizer.encode(text)\n",
    "src_tokens = label_processor(label)\n",
    "src_tokens = src_tokens.unsqueeze(0)\n",
    "src_tokens"
   ]
  },
  {
   "cell_type": "code",
   "execution_count": 45,
   "id": "aa8d5e1f",
   "metadata": {},
   "outputs": [
    {
     "data": {
      "text/plain": [
       "tensor([[ 4, 35,  5, 22, 23,  4, 20, 11,  7,  6, 31, 12,  4, 16, 24, 23,  4, 35,\n",
       "         16, 21, 21, 10,  9, 21,  4, 55,  7, 17,  5, 41,  4, 32, 11, 10, 12,  4,\n",
       "         10, 12,  4, 34, 24,  5,  5, 17, 11,  4,  6,  5,  5,  4, 19, 10, 27,  5,\n",
       "          4,  6,  7, 15, 28, 10,  9, 21,  4,  6,  8,  4, 22,  8, 16,  4, 19,  8,\n",
       "         13,  4, 13,  5,  7, 15, 26]])"
      ]
     },
     "execution_count": 45,
     "metadata": {},
     "output_type": "execute_result"
    }
   ],
   "source": [
    "src_tokens = hf_tokenizer(text, return_tensors=\"pt\")[\"input_ids\"]\n",
    "src_tokens"
   ]
  },
  {
   "cell_type": "code",
   "execution_count": 46,
   "id": "f7b0a239",
   "metadata": {},
   "outputs": [
    {
     "data": {
      "text/plain": [
       "torch.Size([1, 512])"
      ]
     },
     "execution_count": 46,
     "metadata": {},
     "output_type": "execute_result"
    }
   ],
   "source": [
    "# xvector = \"1272-128104.npy\"\n",
    "xvector = \"711-187464.npy\"\n",
    "spkembs_path = \"/Users/matthijs/Documents/FILES/HuggingFace/SpeechT5/tryout/AUDIO_DIR/dev_clean/xvectors/\" + xvector\n",
    "\n",
    "spkembs = torch.from_numpy(np.load(spkembs_path)).float()\n",
    "spkembs = spkembs.unsqueeze(0)\n",
    "spkembs.shape"
   ]
  },
  {
   "cell_type": "code",
   "execution_count": 47,
   "id": "0d4e5eff",
   "metadata": {},
   "outputs": [],
   "source": [
    "threshold = 0.5\n",
    "minlenratio = 0.0\n",
    "maxlenratio = 20.0\n",
    "reduction_factor = 2"
   ]
  },
  {
   "cell_type": "markdown",
   "id": "3e3cb030",
   "metadata": {
    "heading_collapsed": true
   },
   "source": [
    "### The loop from the original code"
   ]
  },
  {
   "cell_type": "code",
   "execution_count": 48,
   "id": "25d9872b",
   "metadata": {
    "hidden": true
   },
   "outputs": [
    {
     "data": {
      "text/plain": [
       "['encoder_out',\n",
       " 'encoder_padding_mask',\n",
       " 'encoder_states',\n",
       " 'src_tokens',\n",
       " 'decoder_input',\n",
       " 'encoder_out_for_ctc']"
      ]
     },
     "execution_count": 48,
     "metadata": {},
     "output_type": "execute_result"
    }
   ],
   "source": [
    "with torch.no_grad():\n",
    "    encoder_out = orig_model.forward_text_encoder(src_tokens)\n",
    "list(encoder_out.keys())"
   ]
  },
  {
   "cell_type": "markdown",
   "id": "017a4a02",
   "metadata": {
    "hidden": true
   },
   "source": [
    "This part is skipped, since `spk_embed_integration_type == \"pre\"`:"
   ]
  },
  {
   "cell_type": "raw",
   "id": "4fb4ad2a",
   "metadata": {
    "hidden": true
   },
   "source": [
    "if spkembs is not None and self.spk_embed_integration_type != \"pre\":\n",
    "    encoder_out[\"encoder_out\"] = [self._integrate_with_spk_embed(\n",
    "        encoder_out[\"encoder_out\"][0].transpose(0, 1), spkembs\n",
    "    ).transpose(0, 1)]\n",
    "    spkembs = None"
   ]
  },
  {
   "cell_type": "code",
   "execution_count": 40,
   "id": "6221c52b",
   "metadata": {
    "hidden": true
   },
   "outputs": [
    {
     "data": {
      "text/plain": [
       "(790, 0)"
      ]
     },
     "execution_count": 40,
     "metadata": {},
     "output_type": "execute_result"
    }
   ],
   "source": [
    "maxlen = int(encoder_out[\"encoder_out\"][0].size(0) * maxlenratio / reduction_factor)\n",
    "minlen = int(encoder_out[\"encoder_out\"][0].size(0) * minlenratio / reduction_factor)\n",
    "maxlen, minlen"
   ]
  },
  {
   "cell_type": "code",
   "execution_count": 41,
   "id": "73147aa5",
   "metadata": {
    "hidden": true
   },
   "outputs": [],
   "source": [
    "ys = encoder_out[\"encoder_out\"][0].new_zeros(1, 1, orig_model.speech_decoder_postnet.odim)\n",
    "\n",
    "outs, probs = [], []\n",
    "\n",
    "incremental_states = {}\n",
    "attns = []\n",
    "\n",
    "idx = 0\n",
    "\n",
    "# for debugging\n",
    "zs = []\n",
    "decoder_ins = []\n",
    "\n",
    "with torch.no_grad():\n",
    "    while True:\n",
    "        # update index\n",
    "        idx += 1\n",
    "\n",
    "        # calculate output and stop prob at idx-th step\n",
    "        decoder_in, _ = orig_model.speech_decoder_prenet(ys, spkembs=spkembs)\n",
    "        decoder_ins.append(decoder_in)\n",
    "        \n",
    "        z, extra = orig_model.decoder(\n",
    "            decoder_in[:, -1:], None, encoder_out, incremental_states, alignment_layer=-1\n",
    "        )\n",
    "        \n",
    "        zs.append(z)  # debugging only\n",
    "        \n",
    "        outs += [\n",
    "            orig_model.speech_decoder_postnet.feat_out(z[0, -1]).view(\n",
    "                reduction_factor, orig_model.speech_decoder_postnet.odim)\n",
    "        ]  # [(r, odim), ...]\n",
    "        \n",
    "        probs += [torch.sigmoid(orig_model.speech_decoder_postnet.prob_out(z[0, -1]))]  # [(r), ...]\n",
    "\n",
    "        # update next inputs\n",
    "        ys = torch.cat((ys, outs[-1][-1].view(1, 1, orig_model.speech_decoder_postnet.odim)), dim=1)  # (1, idx + 1, odim)\n",
    "        attns.append(torch.stack([att_l[0] for att_l in extra['attn'][0]], dim=0))\n",
    "        \n",
    "\n",
    "        # check whether to finish generation\n",
    "        if int(sum(probs[-1] >= threshold)) > 0 or idx >= maxlen:\n",
    "            # check mininum length\n",
    "            if idx < minlen:\n",
    "                continue\n",
    "            outs = (torch.cat(outs, dim=0).unsqueeze(0).transpose(1, 2))  # (L, odim) -> (1, L, odim) -> (1, odim, L)\n",
    "            \n",
    "            if orig_model.speech_decoder_postnet.postnet is not None:\n",
    "                outs = outs + orig_model.speech_decoder_postnet.postnet(outs)  # (1, odim, L)\n",
    "            outs = outs.transpose(2, 1).squeeze(0)  # (L, odim)\n",
    "            probs = torch.cat(probs, dim=0)\n",
    "            attn = torch.cat(attns, dim=2)\n",
    "            break\n",
    "\n",
    "    # if outs.size(0) == maxlen:\n",
    "    #     logging.warning(\"output length reaches maximum length\")\n",
    "    # return outs, probs, attn"
   ]
  },
  {
   "cell_type": "code",
   "execution_count": 42,
   "id": "01f5e049",
   "metadata": {
    "hidden": true
   },
   "outputs": [
    {
     "data": {
      "text/plain": [
       "125"
      ]
     },
     "execution_count": 42,
     "metadata": {},
     "output_type": "execute_result"
    }
   ],
   "source": [
    "idx"
   ]
  },
  {
   "cell_type": "code",
   "execution_count": 43,
   "id": "991c694b",
   "metadata": {
    "hidden": true
   },
   "outputs": [
    {
     "data": {
      "text/plain": [
       "(torch.Size([250, 80]), torch.Size([250]), torch.Size([6, 12, 125, 79]))"
      ]
     },
     "execution_count": 43,
     "metadata": {},
     "output_type": "execute_result"
    }
   ],
   "source": [
    "outs.shape, probs.shape, attn.shape"
   ]
  },
  {
   "cell_type": "code",
   "execution_count": 44,
   "id": "3e241d44",
   "metadata": {
    "hidden": true
   },
   "outputs": [],
   "source": [
    "# outs"
   ]
  },
  {
   "cell_type": "code",
   "execution_count": 45,
   "id": "49019a0d",
   "metadata": {
    "hidden": true
   },
   "outputs": [],
   "source": [
    "# probs"
   ]
  },
  {
   "cell_type": "code",
   "execution_count": 46,
   "id": "11e81e8b",
   "metadata": {
    "hidden": true
   },
   "outputs": [],
   "source": [
    "# np.save(\"/Users/matthijs/Documents/FILES/HuggingFace/SpeechT5/tryout/RESULTS_PATH_TTS/test-feats.npy\", outs)"
   ]
  },
  {
   "cell_type": "code",
   "execution_count": 47,
   "id": "ca9c058b",
   "metadata": {
    "hidden": true
   },
   "outputs": [
    {
     "data": {
      "text/plain": [
       "(246, 80)"
      ]
     },
     "execution_count": 47,
     "metadata": {},
     "output_type": "execute_result"
    }
   ],
   "source": [
    "output_from_orig = np.load(\"/Users/matthijs/Documents/FILES/HuggingFace/SpeechT5/tryout/RESULTS_PATH_TTS/1272-141231-0020-feats.npy\")\n",
    "output_from_orig.shape"
   ]
  },
  {
   "cell_type": "code",
   "execution_count": 48,
   "id": "8ea516b2",
   "metadata": {
    "hidden": true
   },
   "outputs": [
    {
     "data": {
      "text/plain": [
       "array([[-2.473754 , -2.6110775, -2.6744287, ..., -3.4291997, -3.4861205,\n",
       "        -3.7170238],\n",
       "       [-2.3763716, -2.483789 , -2.5290115, ..., -3.335082 , -3.3697302,\n",
       "        -3.658468 ],\n",
       "       [-2.2457216, -2.3389206, -2.3680828, ..., -3.2389064, -3.2980084,\n",
       "        -3.5808692],\n",
       "       ...,\n",
       "       [-1.9134729, -1.4292057, -0.9842132, ..., -3.1504958, -3.1947155,\n",
       "        -3.484864 ],\n",
       "       [-2.0729182, -1.583269 , -1.2519165, ..., -3.1911037, -3.2313066,\n",
       "        -3.508048 ],\n",
       "       [-2.2312534, -1.8440536, -1.6086199, ..., -3.1966043, -3.2362816,\n",
       "        -3.5100303]], dtype=float32)"
      ]
     },
     "execution_count": 48,
     "metadata": {},
     "output_type": "execute_result"
    }
   ],
   "source": [
    "output_from_orig"
   ]
  },
  {
   "cell_type": "code",
   "execution_count": 49,
   "id": "f5c169b5",
   "metadata": {
    "hidden": true
   },
   "outputs": [
    {
     "ename": "ValueError",
     "evalue": "operands could not be broadcast together with shapes (246,80) (250,80) ",
     "output_type": "error",
     "traceback": [
      "\u001b[0;31m---------------------------------------------------------------------------\u001b[0m",
      "\u001b[0;31mValueError\u001b[0m                                Traceback (most recent call last)",
      "Input \u001b[0;32mIn [49]\u001b[0m, in \u001b[0;36m<cell line: 1>\u001b[0;34m()\u001b[0m\n\u001b[0;32m----> 1\u001b[0m np\u001b[38;5;241m.\u001b[39mmax(np\u001b[38;5;241m.\u001b[39mabs(\u001b[43moutput_from_orig\u001b[49m\u001b[43m \u001b[49m\u001b[38;5;241;43m-\u001b[39;49m\u001b[43m \u001b[49m\u001b[43mouts\u001b[49m\u001b[38;5;241;43m.\u001b[39;49m\u001b[43mnumpy\u001b[49m\u001b[43m(\u001b[49m\u001b[43m)\u001b[49m))\n",
      "\u001b[0;31mValueError\u001b[0m: operands could not be broadcast together with shapes (246,80) (250,80) "
     ]
    }
   ],
   "source": [
    "np.max(np.abs(output_from_orig - outs.numpy()))"
   ]
  },
  {
   "cell_type": "code",
   "execution_count": null,
   "id": "b130612e",
   "metadata": {
    "hidden": true
   },
   "outputs": [],
   "source": []
  },
  {
   "cell_type": "markdown",
   "id": "a909eb1e",
   "metadata": {},
   "source": [
    "### The loop using the HF model"
   ]
  },
  {
   "cell_type": "code",
   "execution_count": 49,
   "id": "d3472af0",
   "metadata": {},
   "outputs": [],
   "source": [
    "outs_hf = hf_model.generate_speech(src_tokens, spkembs, vocoder=None)"
   ]
  },
  {
   "cell_type": "code",
   "execution_count": 50,
   "id": "a6c22adf",
   "metadata": {
    "scrolled": true
   },
   "outputs": [
    {
     "data": {
      "text/plain": [
       "torch.Size([268, 80])"
      ]
     },
     "execution_count": 50,
     "metadata": {},
     "output_type": "execute_result"
    }
   ],
   "source": [
    "outs_hf.shape"
   ]
  },
  {
   "cell_type": "code",
   "execution_count": null,
   "id": "3bb04cba",
   "metadata": {},
   "outputs": [],
   "source": []
  },
  {
   "cell_type": "code",
   "execution_count": 51,
   "id": "7d087a91",
   "metadata": {},
   "outputs": [],
   "source": [
    "from transformers import SpeechT5HiFiGAN\n",
    "\n",
    "vocoder = SpeechT5HiFiGAN.from_pretrained(\"/Users/matthijs/Documents/FILES/HuggingFace/SpeechT5/weights/hifigan\")"
   ]
  },
  {
   "cell_type": "code",
   "execution_count": null,
   "id": "ce3c1c9c",
   "metadata": {},
   "outputs": [],
   "source": []
  },
  {
   "cell_type": "code",
   "execution_count": 52,
   "id": "23fa63b7",
   "metadata": {},
   "outputs": [],
   "source": [
    "outs_hf = hf_model.generate_speech(src_tokens, spkembs, vocoder=vocoder)"
   ]
  },
  {
   "cell_type": "code",
   "execution_count": 53,
   "id": "b10a973b",
   "metadata": {},
   "outputs": [
    {
     "data": {
      "text/plain": [
       "torch.Size([66560])"
      ]
     },
     "execution_count": 53,
     "metadata": {},
     "output_type": "execute_result"
    }
   ],
   "source": [
    "outs_hf.shape"
   ]
  },
  {
   "cell_type": "code",
   "execution_count": 54,
   "id": "3aa57a34",
   "metadata": {},
   "outputs": [
    {
     "data": {
      "text/plain": [
       "[<matplotlib.lines.Line2D at 0x7fad7f8606a0>]"
      ]
     },
     "execution_count": 54,
     "metadata": {},
     "output_type": "execute_result"
    },
    {
     "data": {
      "image/png": "[encoded data removed]",
      "text/plain": [
       "<Figure size 640x480 with 1 Axes>"
      ]
     },
     "metadata": {},
     "output_type": "display_data"
    }
   ],
   "source": [
    "plt.plot(outs_hf.view(-1))"
   ]
  },
  {
   "cell_type": "code",
   "execution_count": 55,
   "id": "8a3c9953",
   "metadata": {},
   "outputs": [],
   "source": [
    "import soundfile as sf\n",
    "sf.write(\"gen.wav\", outs_hf.cpu().numpy(), 16000, \"PCM_16\")"
   ]
  },
  {
   "cell_type": "code",
   "execution_count": null,
   "id": "c490ce07",
   "metadata": {},
   "outputs": [],
   "source": []
  },
  {
   "cell_type": "code",
   "execution_count": 56,
   "id": "b544a485",
   "metadata": {},
   "outputs": [
    {
     "data": {
      "text/html": [
       "\n",
       "                <audio  controls=\"controls\" >\n",
       "                    <source src=\"data:audio/wav;base64,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\" type=\"audio/wav\" />\n",
       "                    Your browser does not support the audio element.\n",
       "                </audio>\n",
       "              "
      ],
      "text/plain": [
       "<IPython.lib.display.Audio object>"
      ]
     },
     "execution_count": 56,
     "metadata": {},
     "output_type": "execute_result"
    }
   ],
   "source": [
    "from IPython.display import Audio\n",
    "\n",
    "Audio(data=outs_hf.numpy(), rate=16000)"
   ]
  },
  {
   "cell_type": "code",
   "execution_count": null,
   "id": "171e3d3c",
   "metadata": {},
   "outputs": [],
   "source": []
  },
  {
   "cell_type": "code",
   "execution_count": null,
   "id": "ce6a887d",
   "metadata": {},
   "outputs": [],
   "source": []
  },
  {
   "cell_type": "code",
   "execution_count": 50,
   "id": "cc77712d",
   "metadata": {},
   "outputs": [],
   "source": [
    "# torch.max(torch.abs(outs - outs_hf))"
   ]
  },
  {
   "cell_type": "code",
   "execution_count": 185,
   "id": "c46ceda9",
   "metadata": {},
   "outputs": [],
   "source": [
    "# torch.max(torch.abs(probs - probs_hf))"
   ]
  },
  {
   "cell_type": "code",
   "execution_count": 186,
   "id": "7d439fcb",
   "metadata": {},
   "outputs": [
    {
     "data": {
      "text/plain": [
       "0.0"
      ]
     },
     "execution_count": 186,
     "metadata": {},
     "output_type": "execute_result"
    }
   ],
   "source": [
    "np.max(np.abs(output_from_orig - outs_hf.numpy()))"
   ]
  },
  {
   "cell_type": "markdown",
   "id": "c679aa53",
   "metadata": {},
   "source": [
    "**Note:** If we don't do `use_cache=True`, the outputs are not 100% identical. The error for the outputs is in the range 1e-6. This is because the decoder looks at the entire sequence rather than just the last element, and will accumulate floating-point precision errors."
   ]
  },
  {
   "cell_type": "code",
   "execution_count": 70,
   "id": "0f4fe5c2",
   "metadata": {},
   "outputs": [
    {
     "data": {
      "text/plain": [
       "<matplotlib.image.AxesImage at 0x7fcb6d4cfd90>"
      ]
     },
     "execution_count": 70,
     "metadata": {},
     "output_type": "execute_result"
    },
    {
     "data": {
      "image/png": "[encoded data removed]",
      "text/plain": [
       "<Figure size 640x480 with 1 Axes>"
      ]
     },
     "metadata": {},
     "output_type": "display_data"
    }
   ],
   "source": [
    "plt.imshow(outs_hf.T)"
   ]
  },
  {
   "cell_type": "code",
   "execution_count": 71,
   "id": "9ef573f6",
   "metadata": {},
   "outputs": [
    {
     "data": {
      "image/png": "[encoded data removed]",
      "text/plain": [
       "<Figure size 640x480 with 2 Axes>"
      ]
     },
     "metadata": {},
     "output_type": "display_data"
    }
   ],
   "source": [
    "import librosa.display\n",
    "\n",
    "plt.figure()\n",
    "librosa.display.specshow(outs_hf.T.numpy(), sr=16000, x_axis=\"time\", y_axis=\"mel\")\n",
    "plt.colorbar()\n",
    "plt.show()"
   ]
  },
  {
   "cell_type": "code",
   "execution_count": 72,
   "id": "e2ac56e5",
   "metadata": {},
   "outputs": [],
   "source": [
    "np.save(\"/Users/matthijs/Documents/FILES/HuggingFace/SpeechT5/tryout/RESULTS_PATH_TTS/hf-feats.npy\", outs_hf)"
   ]
  },
  {
   "cell_type": "code",
   "execution_count": null,
   "id": "45fcd853",
   "metadata": {},
   "outputs": [],
   "source": []
  },
  {
   "cell_type": "markdown",
   "id": "26cfccbb",
   "metadata": {},
   "source": [
    "## Vocoder"
   ]
  },
  {
   "cell_type": "raw",
   "id": "90dac2ea",
   "metadata": {},
   "source": [
    "parallel-wavegan-decode \\\n",
    "    --checkpoint /Users/matthijs/Documents/FILES/HuggingFace/SpeechT5/weights/speecht5-tts/pretrained_vocoder/train_nodev_clean_libritts_hifigan.v1/hifigan-libritts-1930000steps.pkl \\\n",
    "    --dumpdir /Users/matthijs/Documents/FILES/HuggingFace/SpeechT5/tryout/RESULTS_PATH_TTS \\\n",
    "    --outdir /Users/matthijs/Documents/FILES/HuggingFace/SpeechT5/tryout/RESULTS_PATH_TTS/wav \\\n",
    "    --normalize-before"
   ]
  },
  {
   "cell_type": "code",
   "execution_count": null,
   "id": "0685a8ee",
   "metadata": {},
   "outputs": [],
   "source": []
  },
  {
   "cell_type": "code",
   "execution_count": null,
   "id": "565f4277",
   "metadata": {},
   "outputs": [],
   "source": []
  },
  {
   "cell_type": "code",
   "execution_count": null,
   "id": "e3b6ddd8",
   "metadata": {},
   "outputs": [],
   "source": []
  },
  {
   "cell_type": "code",
   "execution_count": null,
   "id": "1612cc21",
   "metadata": {},
   "outputs": [],
   "source": []
  },
  {
   "cell_type": "code",
   "execution_count": null,
   "id": "29f01770",
   "metadata": {},
   "outputs": [],
   "source": []
  },
  {
   "cell_type": "markdown",
   "id": "32e98799",
   "metadata": {},
   "source": [
    "## Use the `transformers` generator loop"
   ]
  },
  {
   "cell_type": "markdown",
   "id": "f1be2a34",
   "metadata": {},
   "source": [
    "I don't think this makes sense for the TTS model. It needs to run the decoder in a specific way that's different from what `model.generate()` does."
   ]
  },
  {
   "cell_type": "code",
   "execution_count": null,
   "id": "39bc11e3",
   "metadata": {},
   "outputs": [],
   "source": []
  },
  {
   "cell_type": "markdown",
   "id": "5dab4e96",
   "metadata": {},
   "source": [
    "## Other functionality"
   ]
  },
  {
   "cell_type": "code",
   "execution_count": 189,
   "id": "cfdc28a4",
   "metadata": {},
   "outputs": [
    {
     "data": {
      "text/plain": [
       "transformers.models.speecht5.modeling_speecht5.SpeechT5ForTTS"
      ]
     },
     "execution_count": 189,
     "metadata": {},
     "output_type": "execute_result"
    }
   ],
   "source": [
    "type(hf_model)"
   ]
  },
  {
   "cell_type": "code",
   "execution_count": 190,
   "id": "9778431c",
   "metadata": {},
   "outputs": [
    {
     "data": {
      "text/plain": [
       "Embedding(81, 768, padding_idx=1)"
      ]
     },
     "execution_count": 190,
     "metadata": {},
     "output_type": "execute_result"
    }
   ],
   "source": [
    "hf_model.get_input_embeddings()"
   ]
  },
  {
   "cell_type": "code",
   "execution_count": 191,
   "id": "44be3e74",
   "metadata": {},
   "outputs": [],
   "source": [
    "hf_model.get_output_embeddings()"
   ]
  },
  {
   "cell_type": "code",
   "execution_count": 611,
   "id": "d6f954bf",
   "metadata": {},
   "outputs": [
    {
     "data": {
      "text/plain": [
       "Embedding(100, 768)"
      ]
     },
     "execution_count": 611,
     "metadata": {},
     "output_type": "execute_result"
    }
   ],
   "source": [
    "hf_model.resize_token_embeddings(100)"
   ]
  },
  {
   "cell_type": "code",
   "execution_count": 612,
   "id": "3b17c7a0",
   "metadata": {},
   "outputs": [
    {
     "data": {
      "text/plain": [
       "Embedding(100, 768)"
      ]
     },
     "execution_count": 612,
     "metadata": {},
     "output_type": "execute_result"
    }
   ],
   "source": [
    "hf_model.get_input_embeddings()"
   ]
  },
  {
   "cell_type": "code",
   "execution_count": null,
   "id": "742e8369",
   "metadata": {},
   "outputs": [],
   "source": []
  },
  {
   "cell_type": "markdown",
   "id": "d0f1433f",
   "metadata": {},
   "source": [
    "## For debugging\n",
    "\n",
    "Restart kernel, then reload the models:"
   ]
  },
  {
   "cell_type": "code",
   "execution_count": 3,
   "id": "33672d67",
   "metadata": {},
   "outputs": [
    {
     "name": "stdout",
     "output_type": "stream",
     "text": [
      "dictionary size: 81\n",
      "dictionary size: 81\n"
     ]
    },
    {
     "data": {
      "text/plain": [
       "fairseq.data.encoders.sentencepiece_bpe.SentencepieceBPE"
      ]
     },
     "execution_count": 3,
     "metadata": {},
     "output_type": "execute_result"
    }
   ],
   "source": [
    "%reload_ext autoreload\n",
    "%autoreload 2\n",
    "\n",
    "import sys\n",
    "sys.path.insert(0, \"../SpeechT5/SpeechT5\")\n",
    "sys.path.insert(0, \"../SpeechT5/SpeechT5/fairseq\")\n",
    "\n",
    "import numpy as np\n",
    "import torch\n",
    "import matplotlib.pyplot as plt\n",
    "\n",
    "from argparse import Namespace\n",
    "from fairseq.data import encoders\n",
    "\n",
    "bpe_tokenizer_path = \"/Users/matthijs/Documents/FILES/HuggingFace/SpeechT5/tryout/MODEL_DIR/spm_char.model\"\n",
    "tokenizer = encoders.build_bpe(Namespace(**{\"bpe\": \"sentencepiece\", \"sentencepiece_model\": bpe_tokenizer_path}))\n",
    "\n",
    "from fairseq.data import Dictionary\n",
    "src_dict = Dictionary.load(\"/Users/matthijs/Documents/FILES/HuggingFace/SpeechT5/tryout/DATA_ROOT/dict.txt\")\n",
    "src_dict.add_symbol(\"<mask>\")\n",
    "src_dict.add_symbol(\"<ctc_blank>\")\n",
    "print(f\"dictionary size: \" f\"{len(src_dict):,}\")\n",
    "\n",
    "from fairseq.tasks.hubert_pretraining import LabelEncoder\n",
    "label_processor = LabelEncoder(src_dict)\n",
    "\n",
    "text = \"Hey, what's up, Hugging Face? This is Speech tee five talking to you for real.\"\n",
    "\n",
    "label = tokenizer.encode(text)\n",
    "label\n",
    "\n",
    "src_tokens = label_processor(label).unsqueeze(0)\n",
    "src_tokens\n",
    "\n",
    "attention_mask = torch.ones_like(src_tokens)\n",
    "attention_mask.shape\n",
    "\n",
    "text2 = \"A much shorter snippet\"\n",
    "label2 = tokenizer.encode(text2)\n",
    "src_tokens2 = label_processor(label2).unsqueeze(0)\n",
    "src_tokens2\n",
    "\n",
    "pad_token_id = 1\n",
    "pad_length = src_tokens.size(-1) - src_tokens2.size(-1)\n",
    "src_tokens2_padded = torch.cat([src_tokens2, torch.ones(1, pad_length).long() * pad_token_id], dim=1)\n",
    "attention_mask2 = torch.cat([torch.ones_like(src_tokens2), torch.zeros(1, pad_length).long()], dim=1)\n",
    "\n",
    "input_ids_batch = torch.cat([src_tokens, src_tokens2_padded, src_tokens.clone()])\n",
    "attention_mask_batch = torch.cat([attention_mask, attention_mask2, attention_mask.clone()])\n",
    "\n",
    "from transformers import (\n",
    "    SpeechT5Config, \n",
    "    SpeechT5CTCTokenizer,\n",
    "    SpeechT5Processor,\n",
    "    SpeechT5Model, \n",
    "    SpeechT5ForTextToSpeech, \n",
    "    Wav2Vec2FeatureExtractor,\n",
    ")\n",
    "\n",
    "model_checkpoint = \"/Users/matthijs/Documents/FILES/HuggingFace/SpeechT5/weights/speecht5_tts\"\n",
    "\n",
    "hf_model = SpeechT5ForTextToSpeech.from_pretrained(model_checkpoint)\n",
    "\n",
    "hf_model.eval()\n",
    "\n",
    "from fairseq.data import Dictionary\n",
    "tgt_dict = Dictionary.load(\"/Users/matthijs/Documents/FILES/HuggingFace/SpeechT5/tryout/DATA_ROOT/dict.txt\")\n",
    "tgt_dict.add_symbol(\"<mask>\")\n",
    "tgt_dict.add_symbol(\"<ctc_blank>\")\n",
    "print(f\"dictionary size: \" f\"{len(tgt_dict):,}\")\n",
    "\n",
    "\n",
    "class FakeTask:\n",
    "    def __init__(self):\n",
    "        self.dicts = { \"text\": tgt_dict }\n",
    "        self.t5_task = \"t2s\"\n",
    "        \n",
    "task = FakeTask()\n",
    "\n",
    "import torch\n",
    "from speecht5.models.speecht5 import T5TransformerModel\n",
    "\n",
    "checkpoint = torch.load(\"../weights/speecht5-tts/speecht5_tts.pt\")\n",
    "\n",
    "orig_model = T5TransformerModel.build_model(checkpoint[\"cfg\"][\"model\"], task)\n",
    "\n",
    "orig_model.load_state_dict(checkpoint[\"model\"])\n",
    "orig_model = orig_model.eval()\n",
    "\n",
    "from fairseq.data import encoders\n",
    "from argparse import Namespace\n",
    "tokenizer = encoders.build_bpe(\n",
    "    Namespace(\n",
    "        bpe='sentencepiece', \n",
    "        sentencepiece_model='/Users/matthijs/Documents/FILES/HuggingFace/SpeechT5/tryout/MODEL_DIR/spm_char.model'\n",
    "    )\n",
    ")\n",
    "type(tokenizer)"
   ]
  },
  {
   "cell_type": "code",
   "execution_count": null,
   "id": "87968d6f",
   "metadata": {},
   "outputs": [],
   "source": []
  }
 ],
 "metadata": {
  "kernelspec": {
   "display_name": "Python 3 (ipykernel)",
   "language": "python",
   "name": "python3"
  },
  "language_info": {
   "codemirror_mode": {
    "name": "ipython",
    "version": 3
   },
   "file_extension": ".py",
   "mimetype": "text/x-python",
   "name": "python",
   "nbconvert_exporter": "python",
   "pygments_lexer": "ipython3",
   "version": "3.9.13"
  }
 },
 "nbformat": 4,
 "nbformat_minor": 5
}
