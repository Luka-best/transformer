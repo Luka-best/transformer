{
 "cells": [
  {
   "cell_type": "code",
   "execution_count": 1,
   "metadata": {},
   "outputs": [],
   "source": [
    "from eli5_utils import *"
   ]
  },
  {
   "cell_type": "markdown",
   "metadata": {},
   "source": [
    "#### Load ELI5 dataset"
   ]
  },
  {
   "cell_type": "code",
   "execution_count": 2,
   "metadata": {},
   "outputs": [],
   "source": [
    "eli5_dbuilder = ELI5NLP(data_dir='eli5')\n",
    "eli5_dbuilder.download_and_prepare()\n",
    "\n",
    "eli5_train = eli5_dbuilder.as_dataset(split=nlp.splits.Split.TRAIN)\n",
    "eli5_valid = eli5_dbuilder.as_dataset(split=nlp.splits.Split.VALIDATION)\n",
    "eli5_test = eli5_dbuilder.as_dataset(split=nlp.splits.Split.TEST)"
   ]
  },
  {
   "cell_type": "code",
   "execution_count": 3,
   "metadata": {
    "scrolled": true
   },
   "outputs": [
    {
     "data": {
      "text/plain": [
       "{'q_id': '2lojul',\n",
       " 'title': \"Why are different tiers (regular < mid < premium) of gas' prices almost always 10 cents different?\",\n",
       " 'selftext': \"I've noticed that the difference in price between regular gas and midrange, and between midrange and premium, is almost always 10 cents. This seems to hold true no matter what the price for regular gas. This doesn't seem to make sense, as the difference between $2 and $2.10 and the difference between $4 and $4.10 /gal are proportionally very different. Is this just an arbitrary convention that undermines arguments of a rational basis for gasoline prices?\",\n",
       " 'answers': {'a_id': ['', '', ''],\n",
       "  'text': ['As someone who uses quality Premium, I wish this was true.',\n",
       "   \"The difference is in how it burns though is what's critical for you as the end consumer. I drive a forced induction car, so air coming into my engine is compressed before it enters the cylinder where it's further compressed by the piston. The Regular, Mid, and Premium gas are rated by octane, which in the shortest definition is how well it resists ignition, meaning higher octane fuel won't ignite from high pressure or heat, until the spark plug fires. Now that being said, you can look at as a price gouge, as it's not too hard to make higher octane gas, but cars that need it are typically sports cars as their engines run hotter, higher compression, and forced induction. Tying it back into what I said in the beginning, since I drive a forced induction sports car I have to run premium, and gas stations/companies know people like me are going to shut up and pay the extra 30 cents a gallon to protect our engines from lower octane gas detonating in the engine.\",\n",
       "   '>  Is this just an arbitrary convention that undermines arguments of a rational basis for gasoline prices? You already know the answer.'],\n",
       "  'score': [14, 5, 3]},\n",
       " 'title_urls': {'url': []},\n",
       " 'selftext_urls': {'url': []},\n",
       " 'answers_urls': {'url': []}}"
      ]
     },
     "execution_count": 3,
     "metadata": {},
     "output_type": "execute_result"
    }
   ],
   "source": [
    "# Let's look at an example\n",
    "eli5_train[1]"
   ]
  },
  {
   "cell_type": "markdown",
   "metadata": {},
   "source": [
    "#### Load KILT-Wikipedia 100 word passages"
   ]
  },
  {
   "cell_type": "code",
   "execution_count": 4,
   "metadata": {},
   "outputs": [],
   "source": [
    "kilt_snippets_dbuilder = KiltSnippets(data_dir='kilt_snippets_100w')\n",
    "kilt_snippets_dbuilder.download_and_prepare()\n",
    "wiki_passages = kilt_snippets_dbuilder.as_dataset(split=nlp.splits.Split.TRAIN)"
   ]
  },
  {
   "cell_type": "code",
   "execution_count": 2,
   "metadata": {},
   "outputs": [
    {
     "data": {
      "text/plain": [
       "{'_id': '{\"nlp_id\": 26, \"wiki_id\": \"The_Wasps\", \"sp\": 38, \"sc\": 103, \"ep\": 44, \"ec\": 12}',\n",
       " 'nlp_id': 26,\n",
       " 'wiki_id': 'The_Wasps',\n",
       " 'start_paragraph': 38,\n",
       " 'start_character': 103,\n",
       " 'end_paragraph': 44,\n",
       " 'end_character': 12,\n",
       " 'article_title': 'The Wasps',\n",
       " 'section_title': 'Some events that influenced The Wasps & Megara: a neighbour and historically a rival to Athens, it is mentioned in line 57 as the reputed origin of comic drama.',\n",
       " 'passage_text': 'was produced), Old Comedy needs commentators to explain its abstruse references, in the same way that a banquet needs wine waiters. Here is the wine list for The Wasps as supplied by modern scholars.  Places   Megara: a neighbour and historically a rival to Athens, it is mentioned in line 57 as the reputed origin of comic drama. Law Courts: Athens had ten law courts in 422 BC, of which these three are mentioned here by name: The New Court in line 120, The Court at Lykos in line 389  and The Odeion in line 1109. Asclepieia:'}"
      ]
     },
     "execution_count": 2,
     "metadata": {},
     "output_type": "execute_result"
    }
   ],
   "source": [
    "wiki_passages = nlp.load_dataset(path=\"/home/yacine/Code/nlp/datasets/wiki_snippets\", name=\"wikipedia_en_100_0\")['train']\n",
    "wiki_passages[123]"
   ]
  },
  {
   "cell_type": "code",
   "execution_count": 2,
   "metadata": {},
   "outputs": [
    {
     "name": "stderr",
     "output_type": "stream",
     "text": [
      "100%|█████████▉| 17553501/17553713 [1:46:45<00:00, 2151.77docs/s]"
     ]
    },
    {
     "name": "stdout",
     "output_type": "stream",
     "text": [
      "Indexed 17553713 documents\n"
     ]
    },
    {
     "name": "stderr",
     "output_type": "stream",
     "text": [
      "\r",
      "100%|██████████| 17553713/17553713 [1:47:02<00:00, 2151.77docs/s]"
     ]
    }
   ],
   "source": [
    "wiki_passages = nlp.load_dataset(path=\"/home/yacine/Code/nlp/datasets/wiki_snippets\", name=\"wiki40b_en_100_0\")['train']\n",
    "es_client = Elasticsearch([{'host': 'localhost', 'port': '9200'}])\n",
    "make_es_index_snippets(es_client, wiki_passages, index_name='english_wiki40b_snippets_100w')"
   ]
  },
  {
   "cell_type": "code",
   "execution_count": 4,
   "metadata": {},
   "outputs": [
    {
     "data": {
      "text/plain": [
       "{'acknowledged': True}"
      ]
     },
     "execution_count": 4,
     "metadata": {},
     "output_type": "execute_result"
    }
   ],
   "source": [
    "es_client.indices.delete('english_wiki40b_snippets_100w')"
   ]
  },
  {
   "cell_type": "markdown",
   "metadata": {},
   "source": [
    "#### Make ElasticSearch Index"
   ]
  },
  {
   "cell_type": "code",
   "execution_count": 57,
   "metadata": {},
   "outputs": [],
   "source": [
    "es_client = Elasticsearch([{'host': 'localhost', 'port': '9200'}])\n",
    "if not es_client.indices.exists('english_wiki_kilt_snippets_100w'):\n",
    "    make_es_index_snippets(es_client, wiki_passages, index_name='english_wiki_kilt_snippets_100w')"
   ]
  },
  {
   "cell_type": "code",
   "execution_count": 60,
   "metadata": {
    "scrolled": true
   },
   "outputs": [
    {
     "name": "stdout",
     "output_type": "stream",
     "text": [
      "Question:\n",
      "Why are different tiers (regular < mid < premium) of gas' prices almost always 10 cents different?\n",
      "\n",
      "Sparse retriever fetching information from:\n",
      "\n",
      "2007 Gasoline Rationing Plan in Iran || Gas rationing plan. || 80.05\n",
      "Filling station || Octane. || 74.96\n",
      "Winn-Dixie || Brands. || 66.28\n",
      "Lawrence Lessig || Internet and computer activism. -- Net neutrality. || 65.92\n",
      "Maryland Electric Deregulation || The perfect storm. || 64.73\n",
      "Cable television || History in North America. || 63.45\n",
      "Pay television || Pricing and packaging. || 62.68\n",
      "International Fairtrade Certification Mark || History. || 62.52\n",
      "Marcellus natural gas trend || Economic effects. -- Employment. || 62.23\n",
      "Health insurance marketplace || History. -- Comparable tiers of plans. || 60.69\n",
      "\n",
      "------------\n",
      "\n",
      "Support document\n",
      "<P> international pressure related to its nuclear program.\n",
      " Based on the rationing plan, each private car received 120 liters per month at about 10 cents per liter. The price for non-rationed gasoline in November 2008 was almost 40 cents.\n",
      " Prices in neighboring countries.\n",
      " In mid-November 2008, the prices super gasoline in the neighboring Afghanistan, Armenia, Azerbaijan, Pakistan, Turkey and the UAE were 105, 108, 74, 84, 187 and 45 cents per liter. Whereas, in Iran motorists are allowed 100 liters (26.4 US gallons) of gasoline each month at the subsidized price of about 10 cents per liter (37.9 cents per US <P> leaded fuel are available at most filling stations.\n",
      " In Canada, the most commonly found octane grades are 87 (regular), 89 (mid grade) and 91 (premium), using the same \"(R+M)/2 Method\" used in the U.S. (see below).\n",
      " In China, the most commonly found octane grade is RON 91 (regular), 93 (mid grade) and 97 (premium). Almost all of the fuel has been unleaded since 2000. In some premium gas stations in large cities, such as Petrol China and SinoPec, RON 98 gas is sold for racing cars.\n",
      " In Europe, gasoline is unleaded and available in 95 RON (\"Eurosuper\") and, in nearly <P> & Lovett\", the premium, top-tier label, are the current private labels the organization uses store-wide. These brands were on numerous products in almost all departments. Beginning in 2016, SE Grocers began to transition to a unified private label brand under the \"SE Grocers\" brand, with 4 different tiers. Currently, Winn-Dixie's private label brands are as follows:\n",
      " \"SE Grocers Essentials\", a budget-priced brand on staple items br\n",
      " \"SE Grocers\", a mid-market private label brand equivalent to popular, national brands on everyday itemsbr\n",
      " \"SE Grocers \"Naturally Better\", a natural, organic, and health conscious brandbr\n",
      " \"SE Grocers Prestige\", a higher end line offering <P> consumers the option of different tiers of service at different prices. He was reported on CBC News as saying that he has always been in favour of allowing internet providers to charge differently for consumer access at different speeds. He said, \"Now, no doubt, my position might be wrong. Some friends in the network neutrality movement as well as some scholars believe it is wrong—that it doesn't go far enough. But the suggestion that the position is 'recent' is baseless. If I'm wrong, I've always been wrong.\"\n",
      " Internet and computer activism.:Legislative reform.\n",
      " Despite presenting an anti-regulatory standpoint in many fora, <P> the years since rates were capped, fuel prices had risen dramatically. Natural gas prices had risen about 125%, regular gasoline prices had risen over 150%, and heating oil prices had risen almost 200%. Maryland region's fuel prices are tied greatly to natural gas prices. Subsequently, when Hurricane Katrina and Rita caused major natural gas pipelines to shut down for a short period, natural gas prices skyrocketed. Therefore, when BGE went to the market to procure power, prices for power were abnormally high.\n",
      " Competition.\n",
      " Other energy providers are currently available for residential use and are indexed by the Maryland Public Service <P> enter into distribution contracts with cable networks on their own.\n",
      " By the 1990s, tiers became common, with customers able to subscribe to different tiers to obtain different selections of additional channels above the basic selection. By subscribing to additional tiers, customers could get specialty channels, movie channels, and foreign channels. Large cable companies used addressable descramblers to limit access to premium channels for customers not subscribing to higher tiers, however the above magazines often published workarounds for that technology as well.\n",
      " During the 1990s, the pressure to accommodate the growing array of offerings resulted in digital transmission that made more <P> in different price ranges. Many channels carrying advertising combine this income with a lower subscription fee. These are called \"mini-pay\" channels (a term also used for smaller scale commercial-free pay television services) and are often sold as a part of a package with numerous similarly priced channels. Usually, however, the regular pricing for premium channels ranges from just under $10 to near $25 per month per suite, with lower prices available via bundling options with cable or satellite providers, or special limited offers which are available during free preview periods or before the launch of a network's prestige series. However, <P> using the International Fairtrade Certification Mark. There are now Fairtrade Certification Marks on dozens of different products, based on FLO’s certification for coffee, tea, rice, bananas, mangoes, cocoa, cotton, sugar, honey, fruit juices, nuts, fresh fruit, quinoa, herbs and spices, wine and footballs etc.\n",
      " Criticism.\n",
      " According to the economist Bruce Wydick with the median coffee drinker willing to pay a premium of 50 cents for a cup of fair-trade coffee even in the best-case scenario for fair trade, when world prices are at their lowest, the maximum amount a fair-trade grower from that same cup of coffee would receive is <P> companies are not hiring local workers, instead hiring experienced crews from Texas and Oklahoma for the high-paying work on drilling rigs.\n",
      " Economic effects.:Gas prices.\n",
      " Marcellus gas production has lowered the price of natural gas in the Mid-Atlantic states of the US, which previously were almost entirely dependent on gas pipelined in from the US Gulf Coast. From 2005 through 2008, wholesale gas prices at Mid-Atlantic states were $0.23 to $0.33 per million BTU above prices of the main Gulf Coast trading point, the Henry Hub. The US Energy Information Administration reported in 2012 that Marcellus production had lowered regional gas <P> insurance plans are offered in four tiers designated from lowest premium to highest premium: bronze, silver, gold, and platinum. The plans cover ranges from 60% to 90% of bills in increments of 10% for each plan. For those under 30 (and those with a hardship exemption), a fifth \"catastrophic\" tier is also available, with very high deductibles.\n",
      " Insurance companies select the doctors and hospitals that are \"in-network\".\n",
      " Proponents of health care reform believe that allowing comparable plans to compete for consumer business in one convenient location will drive prices down. Having a centralized location increases consumer knowledge of the market\n"
     ]
    }
   ],
   "source": [
    "# Let's test the ElasticSearch sparse retriever\n",
    "question = eli5_train[1]['title']\n",
    "support_doc, hit_lst = query_es_index(question, es_client, n_results=10,\n",
    "                                      index_name='english_wiki_kilt_snippets_100w')\n",
    "\n",
    "print('Question:')\n",
    "print(question)\n",
    "print('\\n -- Sparse retriever fetching information from:\\n')\n",
    "for res in hit_lst:\n",
    "    print('{} || {} || {:.2f}'.format(res['article_title'], res['section_title'].strip(), res['score']))\n",
    "    # print(sc)\n",
    "print('\\n------------\\n')\n",
    "print('Support document')\n",
    "print(support_doc)"
   ]
  },
  {
   "cell_type": "markdown",
   "metadata": {},
   "source": [
    "#### Make QA-retriever dense Index"
   ]
  },
  {
   "cell_type": "code",
   "execution_count": 5,
   "metadata": {},
   "outputs": [],
   "source": [
    "# Load pre-trained embedding model\n",
    "r_tokenizer, r_qa_embedder = make_qa_retriever_model(\n",
    "    model_name=\"google/bert_uncased_L-8_H-512_A-8\",\n",
    "    from_file=\"retriever_models/embed_eli5_qa_512_4.pth\",\n",
    "    device=\"cuda:0\"\n",
    ")"
   ]
  },
  {
   "cell_type": "code",
   "execution_count": 6,
   "metadata": {
    "scrolled": true
   },
   "outputs": [],
   "source": [
    "if not os.path.isfile('kilt_passages_reps.dat'):\n",
    "    make_qa_dense_index(r_qa_embedder, r_tokenizer,\n",
    "                        wiki_passages,\n",
    "                        batch_size=512,\n",
    "                        index_name='kilt_passages_reps.dat',\n",
    "                        device='cuda:0')\n",
    "\n",
    "passage_reps = np.memmap('kilt_passages_reps.dat', dtype='float16', mode='r', shape=(wiki_passages.num_rows, 128))"
   ]
  },
  {
   "cell_type": "code",
   "execution_count": 7,
   "metadata": {},
   "outputs": [],
   "source": [
    "res = faiss.StandardGpuResources()\n",
    "index_flat = faiss.IndexFlatIP(128)\n",
    "gpu_index_flat = faiss.index_cpu_to_gpu(res, 0, index_flat)\n",
    "gpu_index_flat.add(passage_reps)"
   ]
  },
  {
   "cell_type": "code",
   "execution_count": 8,
   "metadata": {
    "scrolled": true
   },
   "outputs": [
    {
     "name": "stdout",
     "output_type": "stream",
     "text": [
      "Question:\n",
      "Why are different tiers (regular < mid < premium) of gas' prices almost always 10 cents different?\n",
      "\n",
      " Dense retriever fetching information from:\n",
      "\n",
      "Gasoline || Use and pricing. -- United States. || 23.78\n",
      "Pak'nSave || Fuel discounts. || 23.73\n",
      "Liquefied natural gas || LNG pricing. -- Price review. || 23.22\n",
      "Octane rating || Effects. || 23.02\n",
      "Filling station || Fuel prices. -- North America. || 22.55\n",
      "Gas meter || Heating value. || 22.53\n",
      "Natural gas || Energy content, statistics, and pricing. -- Canada. || 22.52\n",
      "Natural gas || Energy content, statistics, and pricing. -- United States. || 22.29\n",
      "Filling station || Marketing. -- North America. || 22.25\n",
      "Gasoline || Use and pricing. -- United States. || 22.23\n",
      "\n",
      "------------\n",
      "\n",
      "Support document\n",
      "<P> rates, including the federal taxes as of October 2018, are found in Pennsylvania (77.1¢/gal), California (73.93¢/gal), and Washington (67.8¢/gal). \n",
      " About 9 percent of all gasoline sold in the U.S. in May 2009 was premium grade, according to the Energy Information Administration. \"Consumer Reports\" magazine says, \"If [your owner’s manual] says to use regular fuel, do so—there's no advantage to a higher grade.\" The \"Associated Press\" said premium gas—which has a higher octane rating and costs more per gallon than regular unleaded—should be used only if the manufacturer says it is \"required\". Cars with turbocharged engines and high compression ratios <P> country. Stores without on-site Pak'nSave fuel filling stations offer vouchers for use at Mobil service stations (before January 2013, the vouchers were accepted at BP instead). Competition for fuel discounts has grown in the past few years, with cases of offering discounts of 50 cents per litre to customers when they spend at least $400 in store.\n",
      " The standard fuel price at the Pak'nSave pump can often be higher than that of neighbouring service stations, thereby partially negating the Pak'nSave discount. \n",
      " Fuel discounts.:Fuel sites.\n",
      " In December 2002, the first Pak'nSave fuel site was opened at the Pak'nSave in Tamatea. <P> LNG SPAs. In some contracts there are two options for triggering a price revision. regular and special. Regular ones are the dates that will be agreed and defined in the LNG SPAs for the purpose of price review.\n",
      " Quality of LNG.\n",
      " LNG quality is one of the most important issues in the LNG business. Any gas which does not conform to the agreed specifications in the sale and purchase agreement is regarded as “off-specification” (off-spec) or “off-quality” gas or LNG. Quality regulations serve three purposes:\n",
      " In the case of off-spec gas or LNG the buyer can refuse to accept the <P> seconds of dangerously lean mixtures, autoignition and detonation away from catastrophic failure.\n",
      " Regional variations.\n",
      " The selection of octane ratings available at the pump can vary greatly from region to region.\n",
      " - Australia: \"regular\" unleaded fuel is 91 RON, \"premium\" unleaded with 95 RON is widely available, and 98 RON fuel is also reasonably common. Shell used to sell 100 RON fuel (5% ethanol content) from a small number of service stations, most of which are located in major cities (stopped in August 2008). United Petroleum used to sell 100 RON unleaded fuel (10% ethanol content) at a small number of its service stations (originally <P> although tax details are often posted at the pump and some stations may provide details on sales receipts. Gas taxes are often ring-fenced (dedicated) to fund transportation projects such as the maintenance of existing roads and the construction of new ones.\n",
      " In the United States, the states of California and Hawaii typically have the highest gasoline prices, while the lowest prices are usually found in oil-producing states like Oklahoma and Texas. In Canada, prices are typically highest in the provinces of British Columbia and Quebec, and the lowest in the oil-producing province of Alberta. The provinces of Prince Edward Island <P> flow provided by a gas meter is just that, a reading of volume. Gas volume does not take into account the quality of the gas or the amount of heat available when burned. Utility customers are billed according to the heat available in the gas. The quality of the gas is measured and adjusted for in each billing cycle. This is known by several names as the calorific value, heating value, or therm value.\n",
      " The calorific value of natural gas can be obtained using a process gas chromatograph, which measures the amount of each constituent of the gas, namely:\n",
      " - <P> small commercial customers measure volume (m or ft), and billing statements include a multiplier to convert the volume to energy content of the local gas supply.\n",
      " A gigajoule (GJ) is a measure approximately equal to half a barrel (250 lbs) of oil, or 1 million BTUs, or of gas. The energy content of gas supply in Canada can vary from depending on gas supply and processing between the wellhead and the customer.\n",
      " Energy content, statistics, and pricing.:Elsewhere.\n",
      " Outside of the European Union, the U.S., and Canada, natural gas is sold in gigajoule retail units. LNG (liquefied natural gas) and LPG (liquefied <P> contract is for 10,000 MMBTU or . Thus, if the price of gas is $10/MMBTU on the NYMEX, the contract is worth $100,000.\n",
      " Energy content, statistics, and pricing.:Canada.\n",
      " Canada uses metric measure for internal trade of petrochemical products. Consequently, natural gas is sold by the gigajoule (GJ), cubic meter (m) or thousand cubic meters (E3m3). Distribution infrastructure and meters almost always meter volume (cubic foot or cubic meter). Some jurisdictions, such as Saskatchewan, sell gas by volume only. Other jurisdictions, such as Alberta, gas is sold by the energy content (GJ). In these areas, almost all meters for residential and <P> marketing types of filling stations: premium brands and discount brands.\n",
      " Marketing. North America.:Premium brands.\n",
      " Filling stations with \"premium brands\" sell well-recognized and often international brands of gasoline, including Exxon and its Esso brand, Phillips 66/Conoco/76, Chevron, Mobil, Shell, Husky Energy, Sunoco (US), BP, Valero and Texaco. Non-international premium brands include Petrobras, Petro-Canada (owned by Suncor Energy Canada), QuikTrip, Hess, Sinclair, and Pemex. Premium brand stations accept credit cards, often issue their own company cards (a.k.a. fuel cards or fleet cards) and may charge higher prices. In some cases, fuel cards for customers with a lower fuel consumption are ordered not directly <P> often specify premium gas because higher octane fuels reduce the incidence of \"knock\", or fuel pre-detonation. The price of gas varies considerably between the summer and winter months.\n",
      " Carbon dioxide production.\n",
      " About of carbon dioxide (CO) are produced from burning of gasoline that does not contain ethanol (2.36 kg/L). About of CO are produced from burning one US gallon of diesel fuel (2.69 kg/l).\n",
      " The U.S. EIA estimates that U.S. motor gasoline and diesel (distillate) fuel consumption for transportation in 2015 resulted in the emission of about 1,105 million metric tons of CO and 440 million metric tons of CO, respectively, for\n"
     ]
    }
   ],
   "source": [
    "question = eli5_train[1]['title']\n",
    "support_doc, hit_lst = query_qa_dense_index(question,\n",
    "                                            r_qa_embedder, r_tokenizer,\n",
    "                                            wiki_passages, gpu_index_flat,\n",
    "                                            n_results=10)\n",
    "\n",
    "print('Question:')\n",
    "print(question)\n",
    "print('\\n -- Dense retriever fetching information from:\\n')\n",
    "for res in hit_lst:\n",
    "    print('{} || {} || {:.2f}'.format(res['article_title'], res['section_title'].strip(), res['score']))\n",
    "    # print(sc)\n",
    "print('\\n------------\\n')\n",
    "print('Support document')\n",
    "print(support_doc)"
   ]
  },
  {
   "cell_type": "markdown",
   "metadata": {},
   "source": [
    "#### Pre-computing the docs to save GPU"
   ]
  },
  {
   "cell_type": "code",
   "execution_count": 24,
   "metadata": {
    "scrolled": true
   },
   "outputs": [
    {
     "name": "stdout",
     "output_type": "stream",
     "text": [
      "0 0.603712797164917\n",
      "100 29.4765465259552\n",
      "200 52.303476095199585\n",
      "300 73.91007280349731\n",
      "400 95.56331825256348\n",
      "500 117.14646506309509\n"
     ]
    },
    {
     "ename": "KeyboardInterrupt",
     "evalue": "",
     "output_type": "error",
     "traceback": [
      "\u001b[0;31m---------------------------------------------------------------------------\u001b[0m",
      "\u001b[0;31mKeyboardInterrupt\u001b[0m                         Traceback (most recent call last)",
      "\u001b[0;32m<ipython-input-24-f4c0d14f6810>\u001b[0m in \u001b[0;36m<module>\u001b[0;34m\u001b[0m\n\u001b[1;32m      7\u001b[0m                                                \u001b[0mr_qa_embedder\u001b[0m\u001b[0;34m,\u001b[0m \u001b[0mr_tokenizer\u001b[0m\u001b[0;34m,\u001b[0m\u001b[0;34m\u001b[0m\u001b[0;34m\u001b[0m\u001b[0m\n\u001b[1;32m      8\u001b[0m                                                \u001b[0mwiki_passages\u001b[0m\u001b[0;34m,\u001b[0m \u001b[0mgpu_index_flat\u001b[0m\u001b[0;34m,\u001b[0m\u001b[0;34m\u001b[0m\u001b[0;34m\u001b[0m\u001b[0m\n\u001b[0;32m----> 9\u001b[0;31m                                                n_results=10)\n\u001b[0m\u001b[1;32m     10\u001b[0m     \u001b[0mall_docs\u001b[0m \u001b[0;34m+=\u001b[0m \u001b[0;34m[\u001b[0m\u001b[0;34m(\u001b[0m\u001b[0mk\u001b[0m\u001b[0;34m,\u001b[0m \u001b[0md\u001b[0m\u001b[0;34m)\u001b[0m \u001b[0;32mfor\u001b[0m \u001b[0mk\u001b[0m\u001b[0;34m,\u001b[0m \u001b[0md\u001b[0m \u001b[0;32min\u001b[0m \u001b[0mzip\u001b[0m\u001b[0;34m(\u001b[0m\u001b[0meli5_train\u001b[0m\u001b[0;34m[\u001b[0m\u001b[0mb\u001b[0m \u001b[0;34m*\u001b[0m \u001b[0mbatch_size\u001b[0m\u001b[0;34m:\u001b[0m\u001b[0;34m(\u001b[0m\u001b[0mb\u001b[0m\u001b[0;34m+\u001b[0m\u001b[0;36m1\u001b[0m\u001b[0;34m)\u001b[0m \u001b[0;34m*\u001b[0m \u001b[0mbatch_size\u001b[0m\u001b[0;34m]\u001b[0m\u001b[0;34m[\u001b[0m\u001b[0;34m'q_id'\u001b[0m\u001b[0;34m]\u001b[0m\u001b[0;34m,\u001b[0m \u001b[0mdocs\u001b[0m\u001b[0;34m)\u001b[0m\u001b[0;34m]\u001b[0m\u001b[0;34m\u001b[0m\u001b[0;34m\u001b[0m\u001b[0m\n\u001b[1;32m     11\u001b[0m     \u001b[0;32mif\u001b[0m \u001b[0mb\u001b[0m \u001b[0;34m%\u001b[0m \u001b[0;36m100\u001b[0m \u001b[0;34m==\u001b[0m \u001b[0;36m0\u001b[0m\u001b[0;34m:\u001b[0m\u001b[0;34m\u001b[0m\u001b[0;34m\u001b[0m\u001b[0m\n",
      "\u001b[0;32m<ipython-input-12-c1776c5ed98a>\u001b[0m in \u001b[0;36mbatch_query_qa_dense_index\u001b[0;34m(questions, qa_embedder, tokenizer, wiki_passages, wiki_index, n_results)\u001b[0m\n\u001b[1;32m      1\u001b[0m \u001b[0;32mdef\u001b[0m \u001b[0mbatch_query_qa_dense_index\u001b[0m\u001b[0;34m(\u001b[0m\u001b[0mquestions\u001b[0m\u001b[0;34m,\u001b[0m \u001b[0mqa_embedder\u001b[0m\u001b[0;34m,\u001b[0m \u001b[0mtokenizer\u001b[0m\u001b[0;34m,\u001b[0m \u001b[0mwiki_passages\u001b[0m\u001b[0;34m,\u001b[0m \u001b[0mwiki_index\u001b[0m\u001b[0;34m,\u001b[0m \u001b[0mn_results\u001b[0m\u001b[0;34m=\u001b[0m\u001b[0;36m10\u001b[0m\u001b[0;34m)\u001b[0m\u001b[0;34m:\u001b[0m\u001b[0;34m\u001b[0m\u001b[0;34m\u001b[0m\u001b[0m\n\u001b[0;32m----> 2\u001b[0;31m     \u001b[0mq_rep\u001b[0m \u001b[0;34m=\u001b[0m \u001b[0membed_question_for_retrieval\u001b[0m\u001b[0;34m(\u001b[0m\u001b[0mquestions\u001b[0m\u001b[0;34m,\u001b[0m \u001b[0mtokenizer\u001b[0m\u001b[0;34m,\u001b[0m \u001b[0mqa_embedder\u001b[0m\u001b[0;34m)\u001b[0m\u001b[0;34m\u001b[0m\u001b[0;34m\u001b[0m\u001b[0m\n\u001b[0m\u001b[1;32m      3\u001b[0m     \u001b[0mD\u001b[0m\u001b[0;34m,\u001b[0m \u001b[0mI\u001b[0m \u001b[0;34m=\u001b[0m \u001b[0mwiki_index\u001b[0m\u001b[0;34m.\u001b[0m\u001b[0msearch\u001b[0m\u001b[0;34m(\u001b[0m\u001b[0mq_rep\u001b[0m\u001b[0;34m,\u001b[0m \u001b[0mn_results\u001b[0m\u001b[0;34m)\u001b[0m\u001b[0;34m\u001b[0m\u001b[0;34m\u001b[0m\u001b[0m\n\u001b[1;32m      4\u001b[0m     \u001b[0mres_passages_lst\u001b[0m \u001b[0;34m=\u001b[0m \u001b[0;34m[\u001b[0m\u001b[0;34m[\u001b[0m\u001b[0mwiki_passages\u001b[0m\u001b[0;34m[\u001b[0m\u001b[0mint\u001b[0m\u001b[0;34m(\u001b[0m\u001b[0mi\u001b[0m\u001b[0;34m)\u001b[0m\u001b[0;34m]\u001b[0m \u001b[0;32mfor\u001b[0m \u001b[0mi\u001b[0m \u001b[0;32min\u001b[0m \u001b[0mi_lst\u001b[0m\u001b[0;34m]\u001b[0m \u001b[0;32mfor\u001b[0m \u001b[0mi_lst\u001b[0m \u001b[0;32min\u001b[0m \u001b[0mI\u001b[0m\u001b[0;34m]\u001b[0m\u001b[0;34m\u001b[0m\u001b[0;34m\u001b[0m\u001b[0m\n\u001b[1;32m      5\u001b[0m     support_doc_lst = ['<P> ' + ' <P> '.join([p['passage_text'] for p in res_passages])\n",
      "\u001b[0;32m~/Code/transformers/examples/eli5/eli5_utils.py\u001b[0m in \u001b[0;36membed_question_for_retrieval\u001b[0;34m(q_ls, tokenizer, qa_embedder, device)\u001b[0m\n\u001b[1;32m    539\u001b[0m     )\n\u001b[1;32m    540\u001b[0m     \u001b[0;32mwith\u001b[0m \u001b[0mtorch\u001b[0m\u001b[0;34m.\u001b[0m\u001b[0mno_grad\u001b[0m\u001b[0;34m(\u001b[0m\u001b[0;34m)\u001b[0m\u001b[0;34m:\u001b[0m\u001b[0;34m\u001b[0m\u001b[0;34m\u001b[0m\u001b[0m\n\u001b[0;32m--> 541\u001b[0;31m         \u001b[0mq_reps\u001b[0m \u001b[0;34m=\u001b[0m \u001b[0mqa_embedder\u001b[0m\u001b[0;34m.\u001b[0m\u001b[0membed_questions\u001b[0m\u001b[0;34m(\u001b[0m\u001b[0mq_ids\u001b[0m\u001b[0;34m,\u001b[0m \u001b[0mq_mask\u001b[0m\u001b[0;34m)\u001b[0m\u001b[0;34m.\u001b[0m\u001b[0mcpu\u001b[0m\u001b[0;34m(\u001b[0m\u001b[0;34m)\u001b[0m\u001b[0;34m.\u001b[0m\u001b[0mtype\u001b[0m\u001b[0;34m(\u001b[0m\u001b[0mtorch\u001b[0m\u001b[0;34m.\u001b[0m\u001b[0mfloat\u001b[0m\u001b[0;34m)\u001b[0m\u001b[0;34m\u001b[0m\u001b[0;34m\u001b[0m\u001b[0m\n\u001b[0m\u001b[1;32m    542\u001b[0m     \u001b[0;32mreturn\u001b[0m \u001b[0mq_reps\u001b[0m\u001b[0;34m.\u001b[0m\u001b[0mnumpy\u001b[0m\u001b[0;34m(\u001b[0m\u001b[0;34m)\u001b[0m\u001b[0;34m\u001b[0m\u001b[0;34m\u001b[0m\u001b[0m\n\u001b[1;32m    543\u001b[0m \u001b[0;34m\u001b[0m\u001b[0m\n",
      "\u001b[0;31mKeyboardInterrupt\u001b[0m: "
     ]
    }
   ],
   "source": [
    "batch_size = 256\n",
    "\n",
    "all_docs = []\n",
    "st_time = time()\n",
    "for b in range(math.ceil(eli5_train.num_rows / batch_size)):\n",
    "    questions = eli5_train[b * batch_size:(b+1) * batch_size]['title']\n",
    "    docs, res_lst = batch_query_qa_dense_index(questions,\n",
    "                                               r_qa_embedder, r_tokenizer,\n",
    "                                               wiki_passages, gpu_index_flat,\n",
    "                                               n_results=10)\n",
    "    all_docs += [(k, d, r) for k, d, r in zip(eli5_train[b * batch_size:(b+1) * batch_size]['q_id'], docs, res_lst)]\n",
    "    if b % 100 == 0:\n",
    "        print(b, time() - st_time)\n",
    "\n",
    "json.dump(all_docs, open('eli5_train_precomputed_dense_docs.json', 'w'))\n",
    "\n",
    "all_docs = []\n",
    "st_time = time()\n",
    "for b in range(math.ceil(eli5_valid.num_rows / batch_size)):\n",
    "    questions = eli5_valid[b * batch_size:(b+1) * batch_size]['title']\n",
    "    docs, res_lst = batch_query_qa_dense_index(questions,\n",
    "                                               r_qa_embedder, r_tokenizer,\n",
    "                                               wiki_passages, gpu_index_flat,\n",
    "                                               n_results=10)\n",
    "    all_docs += [(k, d, r) for k, d, r in zip(eli5_valid[b * batch_size:(b+1) * batch_size]['q_id'], docs, res_lst)]\n",
    "    if b % 100 == 0:\n",
    "        print(b, time() - st_time)\n",
    "\n",
    "json.dump(all_docs, open('eli5_valid_precomputed_dense_docs.json', 'w'))\n",
    "\n",
    "all_docs = []\n",
    "st_time = time()\n",
    "for b in range(math.ceil(eli5_test.num_rows / batch_size)):\n",
    "    questions = eli5_test[b * batch_size:(b+1) * batch_size]['title']\n",
    "    docs, res_lst = batch_query_qa_dense_index(questions,\n",
    "                                               r_qa_embedder, r_tokenizer,\n",
    "                                               wiki_passages, gpu_index_flat,\n",
    "                                               n_results=10)\n",
    "    all_docs += [(k, d, r) for k, d, r in zip(eli5_test[b * batch_size:(b+1) * batch_size]['q_id'], docs, res_lst)]\n",
    "    if b % 100 == 0:\n",
    "        print(b, time() - st_time)\n",
    "\n",
    "json.dump(all_docs, open('eli5_test_precomputed_dense_docs.json', 'w'))"
   ]
  },
  {
   "cell_type": "markdown",
   "metadata": {},
   "source": [
    "#### Making retrieval test set"
   ]
  },
  {
   "cell_type": "code",
   "execution_count": 85,
   "metadata": {},
   "outputs": [],
   "source": [
    "test_keys = [(i, d['q_id'])\n",
    "             for i, d in enumerate(eli5_test) if len([s for s in d['answers']['score'] if s > 2]) > 2][-5000:]\n",
    "\n",
    "retriever_test = [\n",
    "    {\n",
    "        'eli5_test_id': i,\n",
    "        'q_id': k,\n",
    "        'question': eli5_test[i]['title'],\n",
    "        'answers': eli5_test[i]['answers']['text'][:3],\n",
    "    }\n",
    "    for i, k in test_keys]\n",
    "\n",
    "st_time = time()\n",
    "for ct, r_example in enumerate(retriever_test):\n",
    "    _, es_q_hits = query_es_index(\n",
    "        r_example['question'], es_client,\n",
    "        n_results=100,\n",
    "        index_name='english_wiki_kilt_snippets_100w'\n",
    "    )\n",
    "    r_example['question_suggested_passages_sparse'] = es_q_hits[:]\n",
    "    _, ds_q_hits = query_qa_dense_index(\n",
    "    r_example['question'],\n",
    "    r_qa_embedder, r_tokenizer,\n",
    "    wiki_passages, gpu_index_flat,\n",
    "    n_results=50\n",
    "    )\n",
    "    r_example['question_suggested_passages'] = ds_q_hits[:]\n",
    "    ds_a_hits_ls = [[] for _ in r_example['answers']]\n",
    "    for i, answer in enumerate(r_example['answers']):\n",
    "        a_tab = answer.split()\n",
    "        for ia in range(max(len(a_tab) // 64, 1)):\n",
    "            a_span = ' '.join(a_tab[ia*64:ia*64 + 128])\n",
    "            _, ds_a_hits = query_qa_dense_index_nn(\n",
    "                r_example['question'],\n",
    "                r_qa_embedder, r_tokenizer,\n",
    "                wiki_passages, gpu_index_flat,\n",
    "                n_results=50\n",
    "            )\n",
    "            ds_a_hits_ls[i] += ds_a_hits\n",
    "        # de-duplicate\n",
    "        ds_a_hits_ls[i] = sorted(ds_a_hits_ls[i], key=lambda x:x['score'], reverse=True)\n",
    "        ds_a_hits_ls[i] = [res for j, res in enumerate(ds_a_hits_ls[i]) \\\n",
    "                               if res['passage_id'] not in [r['passage_id'] for r in ds_a_hits_ls[i][:j]]][:50]\n",
    "    r_example['answer_suggested_passages'] = [ds_a_hits[:] for ds_a_hits in ds_a_hits_ls]\n",
    "    if ct % 100 == 0:\n",
    "        print(ct, time() - st_time)\n",
    "\n",
    "\n",
    "json.dump(retriever_test, open('eli5_retriever_test_set_with dense_suggestions.json', 'w'))"
   ]
  }
 ],
 "metadata": {
  "kernelspec": {
   "display_name": "Python 3",
   "language": "python",
   "name": "python3"
  },
  "language_info": {
   "codemirror_mode": {
    "name": "ipython",
    "version": 3
   },
   "file_extension": ".py",
   "mimetype": "text/x-python",
   "name": "python",
   "nbconvert_exporter": "python",
   "pygments_lexer": "ipython3",
   "version": "3.7.6"
  }
 },
 "nbformat": 4,
 "nbformat_minor": 4
}
