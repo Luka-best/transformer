{
 "cells": [
  {
   "cell_type": "code",
   "execution_count": 1,
   "metadata": {},
   "outputs": [],
   "source": [
    "from eli5_utils import *\n",
    "\n",
    "eli5_dbuilder = ELI5NLP(data_dir='eli5')\n",
    "eli5_dbuilder.download_and_prepare()\n",
    "\n",
    "eli5_train = eli5_dbuilder.as_dataset(split=nlp.splits.Split.TRAIN)\n",
    "eli5_valid = eli5_dbuilder.as_dataset(split=nlp.splits.Split.VALIDATION)\n",
    "eli5_test = eli5_dbuilder.as_dataset(split=nlp.splits.Split.TEST)"
   ]
  },
  {
   "cell_type": "markdown",
   "metadata": {},
   "source": [
    "#### Training the retriever"
   ]
  },
  {
   "cell_type": "code",
   "execution_count": null,
   "metadata": {},
   "outputs": [],
   "source": [
    "class ArgumentsQAR():\n",
    "    def __init__(self):\n",
    "        self.batch_size = 512\n",
    "        self.max_length = 128\n",
    "        self.print_freq = 100\n",
    "        self.pretrained_model_name = \"google/bert_uncased_L-8_H-512_A-8\"\n",
    "        self.model_save_name = \"retriever_models/eli5_retriever_model_512\"\n",
    "        self.learning_rate = 2e-5\n",
    "        self.num_epochs = 10\n",
    "\n",
    "qar_args = ArgumentsQAR()\n",
    "\n",
    "qar_train_dset = ELI5DatasetQARetriver(eli5_train, min_answer_length=64, training=True)\n",
    "qar_valid_dset = ELI5DatasetQARetriver(eli5_valid, min_answer_length=64, training=False)\n",
    "\n",
    "qar_tokenizer, qar_model = make_qa_retriever_model(\n",
    "    model_name=qar_args.pretrained_model_name,\n",
    "    from_file=None,\n",
    "    device=\"cuda:0\"\n",
    ")\n",
    "\n",
    "qar_optimizer = AdamW(qar_model.parameters(), lr=qar_args.learning_rate, eps=1e-8)\n",
    "qar_scheduler = get_linear_schedule_with_warmup(\n",
    "        qar_optimizer,\n",
    "        num_warmup_steps=100,\n",
    "        num_training_steps=qar_args.num_epochs * math.ceil(len(qar_train_dset) / qar_args.batch_size)\n",
    ")\n"
   ]
  },
  {
   "cell_type": "code",
   "execution_count": null,
   "metadata": {
    "scrolled": true
   },
   "outputs": [],
   "source": [
    "for e in range(qar_args.num_epochs):\n",
    "    train_qa_retriever_epoch(\n",
    "        qar_model, qar_train_dset, qar_tokenizer,\n",
    "        qar_optimizer, qar_scheduler, qar_args, e\n",
    "    )\n",
    "    m_save_dict = {\n",
    "        'model': qar_model.state_dict(),\n",
    "        'optimizer': qar_optimizer.state_dict(),\n",
    "        'scheduler': qar_scheduler.state_dict(),\n",
    "    }\n",
    "    print(\"Saving model {}\".format(qar_args.model_save_name))\n",
    "    torch.save(m_save_dict, '{}_{}.pth'.format(qar_args.model_save_name, e))\n",
    "    eval_loss = evaluate_qa_retriever(qar_model, qar_valid_dset, qar_tokenizer, qar_args)\n",
    "    print(\"Evaluation loss epoch {:4d}: {:.3f}\".format(e, eval_loss))\n",
    "\n"
   ]
  },
  {
   "cell_type": "code",
   "execution_count": null,
   "metadata": {},
   "outputs": [],
   "source": [
    "# TODO: evaluate recall@N for validation / test set"
   ]
  },
  {
   "cell_type": "code",
   "execution_count": null,
   "metadata": {},
   "outputs": [],
   "source": [
    "kilt_snippets_dbuilder = KiltSnippets(data_dir='kilt_snippets_100w')\n",
    "kilt_snippets_dbuilder.download_and_prepare()\n",
    "wiki_passages = kilt_snippets_dbuilder.as_dataset(split=nlp.splits.Split.TRAIN)\n",
    "\n",
    "make_qa_dense_index(qar_model, qar_tokenizer,\n",
    "                    wiki_passages,\n",
    "                    batch_size=512,\n",
    "                    index_name='kilt_passages_reps_16.dat',\n",
    "                    device='cuda:0')\n",
    "\n",
    "\n"
   ]
  },
  {
   "cell_type": "markdown",
   "metadata": {},
   "source": [
    "#### Training the Seq2seq model"
   ]
  },
  {
   "cell_type": "code",
   "execution_count": 2,
   "metadata": {},
   "outputs": [],
   "source": [
    "eli5_train_docs = json.load(open('eli5_train_precomputed_dense_docs.json'))\n",
    "eli5_valid_docs = json.load(open('eli5_valid_precomputed_dense_docs.json'))\n",
    "eli5_test_docs = json.load(open('eli5_test_precomputed_dense_docs.json'))"
   ]
  },
  {
   "cell_type": "code",
   "execution_count": 3,
   "metadata": {},
   "outputs": [
    {
     "data": {
      "text/plain": [
       "({'q_id': '8rn7rq',\n",
       "  'title': 'Why do cars only ever have DC outlets even though most electrical devices use AC plugs?',\n",
       "  'selftext': '',\n",
       "  'answers': {'a_id': ['', '', '', '', '', ''],\n",
       "   'text': [\"To answer this, we probably need to look at why we use AC in buildings in the first place. When you transmit electricity from the power station to the consumers, you can choose to do it with a high current/low voltage, or low current/high voltage. We choose to do as much of the transmission as possible using the low current/high voltage as, because high currents have a nasty habit of heating the cables up excessively. At home, though, we use a low(ish) voltage, and so we need to be able to convert between the high transmission voltage and low domestic voltage - to do this, we use devices called transformers, and transformers only work with AC. If we didn't use AC, we'd need large numbers of local power stations close to consumers. In a car, though, we have a different system - firstly, the distance thing isn't such an issue - you're generating your electricity locally, so we don't need to worry about sending it over miles and miles of cabling. Secondly, though, there's the fact that, at the heart of your car's electrical system is a battery - and batteries store and put out DC current, and so that's what's used. Sure, you can convert it to AC at an appropriate voltage to run small appliances from home, but the majority of things that people want to run in their cars these days run on DC anyway, so it's not really a concern.\",\n",
       "    \"Electrical devices *for the home* tend to run on AC because AC is a lot more efficient for long-distance distribution. Cars run on DC because it's more directly usable  &  that's what the alternator produces. The standard car plug was originally designed to just run a cigarette lighter. They only became widely used for accessories because everyone already had one for smoking - they weren't *designed* to be a ubiquitous, general-purpose power delivery outlet. Adding the electronics to convert car DC to a home AC outlet would be expensive and not widely used. How often do you need to use your blender or your alarm clock in the car?\",\n",
       "    \"It's cheaper, as the car already provides a DC output somewhere around 12v (frequently a bit over). Many consumer electronics that are commonly used in cars run off 5v DC and cheap adapters can be made to provide such an output. Providing an AC output would be an expensive feature few people use.\",\n",
       "    \"Cars run off the battery which is DC. So most electrical equipment in the cars are made to be compatible with the DC battery and so it only outputs in DC, like the cigarette lighter. To get AC from a car, you would need to separately purchase a DC to AC converter. Or if the car manufacturer wanted to throw one in, it would increase the price of the car. Thing about those converters is they can be unreliable plus they will seriously drain the battery and lower the performance of the car. That's why they don't have AC plugs normally. Except for RVs\",\n",
       "    'I’m assuming it’s because the electrics on a car only use the DC battery, and pretty much all electricity generated from the engine goes on to charge the battery. Some, if not most, electrical devices require DC, which becomes DC through a device called an Electrical Rectifier if the supply is AC.',\n",
       "    'the car batery puts out DC, power plants put out AC. We could have AC car plugs or DC electrical devices but more expensive to install in the car, and almost impossible for power plants to transport the power.'],\n",
       "   'score': [14, 6, 3, 2, 2, 2]},\n",
       "  'title_urls': {'url': []},\n",
       "  'selftext_urls': {'url': []},\n",
       "  'answers_urls': {'url': []}},\n",
       " ['8rn7rq',\n",
       "  '<P> Auxiliary car power outlet\\n The auxiliary car power outlet (also known as \"car outlet\", \"automotive power socket\", \"automobile outlet\", \"vehicular outlet\", and similar; formerly known as \"cigarette lighter receptacle\", \"cigar lighter receptacle\" or \"cigar lighter socket\") in an automobile was initially designed to power an electrically heated cigarette lighter, but became a de facto standard DC connector to supply electrical power for portable accessories used in or near an automobile, directly from the vehicle\\'s electrical system\\n In most vehicles, at least one car outlet is present. Some vehicles, especially vans, tend to have more power outlets, usually one for the <P> therefore given to avoiding short circuits of the vehicle battery, rather than of the charger.\\n Car lighter sockets and plugs.\\n The car power outlet is also called a cigarette lighter receptacle, or cigar lighter receptacle, since it was originally designed as a lighter for cigars—hence its rather large size. Nowadays, it is used to power automotive accessories such as portable inverters, mobile phone chargers and portable fridges.\\n These sockets were not originally designed to provide DC power, and are not an ideal DC connector for several reasons, but still widely used for compatibility to existing accessories. Three sizes exist, one <P> can vibrate out of the socket under normal driving conditions, owing to poor retention. Also, there have been reports of melted plug tips due to poor contact and heat generation from ohmic resistance. Non-vehicular use in stationary settings may avoid vibration problems when used as an alternative to 120 volt AC outlets, but low-quality connectors may still develop high resistance or intermittent contact.\\n As a DC power connector, it has the disadvantages of bulkiness, relatively low current rating, and poor contact reliability. However, due to it\\'s large diameter, the connector and appliances can have a robust design against damage such <P> cord sets that insert into cigarette lighter receptacles. In Europe, 12 volt plugs and sockets are not specially regulated, and do not require approvals for the CE mark.\\n The male plug is sometimes used to feed power \"into\" a vehicle to recharge its battery, because it usually has no regulatory circuitry between the outlet and the car battery. For instance, portable solar battery maintainers generally connect to a vehicle\\'s battery in this manner. Trickle chargers also sometimes connect in this way, eliminating the need to leave a vehicle\\'s hood open, as well as eliminating the possibility of reversed polarity. Most <P> front passengers, one for the rear passengers and one for the luggage trunk.\\n The voltage of the power outlet is usually near 12 V DC, (14V to 15V while the running engine is turning the alternator, in order to charge the car battery while providing electrical power), because it is unregulatedly directly powered from the car\\'s electrical system.\\n Accessories.\\n Most accessories that can be plugged into the outlet are rated for input voltages of up to 24V, some are even rated for 30V or 32V, because larger vehicles such as lorry trucks and busses often have 24-volt electrical systems, with <P> cover without the lighter heating element. However, the socket has been repurposed and continues to be used to power consumer electronics in vehicles. Often, a vehicle may come with several outlets for convenience, some in the rear passenger area of the vehicle or even the cargo area, for powering portable devices. These outlets usually have a plastic cap tethered to them, and are usually labeled as being only for DC power, because they are not intended to withstand the heat produced by an electrical cigarette lighter.\\n The use of cigarette lighter receptacles to supply 12 volt DC power is an <P> the socket-outlet. Moulded plugs for unearthed, double-insulated appliances may instead have a non-conductive plastic pin (an Insulated Shutter Opening Device or ISOD) the same size and shape as an earth pin, to open the shutters. When looking at the plug pins with the earth uppermost the lower left pin is line, and the lower right is neutral.\\n UK Consumer Protection legislation requires that most domestic electrical goods sold must be provided with fitted plugs to BS\\xa01363-1. These are usually, but not necessarily, non-rewirable. Rewirable plugs for hand-wiring with a screwdriver are commonly available and must be provided with instructions.\\n BS <P> for a voltage as high as 15 without step down DC-to-DC converter.\\n Modern AC and USB EmPower Outlets.\\n EmPower is a 110 volt universal connector type found on many commercial airlines designed to provide power to travelers\\' electronic devices. The system is limited to 200VA. The EmPower universal AC Outlet Unit is compatible with plugs from over 170 countries and is designed such that 110VAC power is not present at the outlet until a suitable plug is fully inserted.\\n EmPower is a trademark registered initially by Primex Technologies (VA) and assigned to Astronics Advanced Electronic Systems, Inc in Kirkland, Washington, <P> two types and in order to standardize and remove a maintenance risk, in the early 1980s, three battery-powered units were constructed which mounted on a standard lamp bracket with no need to draw power from the train. This allowed the power and control circuitry for warning units to be removed during (and thus simplifying) overhaul. The old power sockets were gradually removed and plated-over but some remained until withdrawal of the stock. These new units also enabled other types of stock to use the tramway. They were smaller, had an on/off switch on the rear of the unit and no <P> the car. It is intended for use in the home or other domestic places. This has a local plug at one end and a Yazaki connector at the other. There is an in-line control box in the middle of this lead/cord that functions similarly to the fast charger but limits current to 10 Amps, enabling an eight-hour charge time (from complete depletion on 230 volts).\\n Specifications. Emergency power supply and V2G.\\n In the aftermath of the 2011 Tōhoku earthquake and tsunami, Mitsubishi introduced one year ahead of schedule a device called MiEV Power Box that enables the i-MiEV to supply power',\n",
       "  [{'nlp_id': 1546044,\n",
       "    'kilt_id': 'kilt_10407767',\n",
       "    'start_paragraph': 0,\n",
       "    'start_character': 0,\n",
       "    'end_paragraph': 2,\n",
       "    'end_character': 138,\n",
       "    'article_title': 'Auxiliary car power outlet',\n",
       "    'section_title': 'Auxiliary car power outlet\\n',\n",
       "    'score': 22.73578453063965},\n",
       "   {'nlp_id': 147504,\n",
       "    'kilt_id': 'kilt_326109',\n",
       "    'start_paragraph': 45,\n",
       "    'start_character': 342,\n",
       "    'end_paragraph': 48,\n",
       "    'end_character': 206,\n",
       "    'article_title': 'DC connector',\n",
       "    'section_title': 'SAE connector.\\n',\n",
       "    'score': 22.67454719543457},\n",
       "   {'nlp_id': 1546044,\n",
       "    'kilt_id': 'kilt_10407767',\n",
       "    'start_paragraph': 39,\n",
       "    'start_character': 256,\n",
       "    'end_paragraph': 40,\n",
       "    'end_character': 235,\n",
       "    'article_title': 'Auxiliary car power outlet',\n",
       "    'section_title': 'Use as an electrical outlet. -- Design considerations.\\n',\n",
       "    'score': 22.505239486694336},\n",
       "   {'nlp_id': 1546044,\n",
       "    'kilt_id': 'kilt_10407767',\n",
       "    'start_paragraph': 21,\n",
       "    'start_character': 160,\n",
       "    'end_paragraph': 22,\n",
       "    'end_character': 452,\n",
       "    'article_title': 'Auxiliary car power outlet',\n",
       "    'section_title': 'Use as an electrical outlet.\\n',\n",
       "    'score': 22.28854751586914},\n",
       "   {'nlp_id': 1546044,\n",
       "    'kilt_id': 'kilt_10407767',\n",
       "    'start_paragraph': 2,\n",
       "    'start_character': 138,\n",
       "    'end_paragraph': 5,\n",
       "    'end_character': 231,\n",
       "    'article_title': 'Auxiliary car power outlet',\n",
       "    'section_title': 'Auxiliary car power outlet\\n',\n",
       "    'score': 22.231218338012695},\n",
       "   {'nlp_id': 1546044,\n",
       "    'kilt_id': 'kilt_10407767',\n",
       "    'start_paragraph': 19,\n",
       "    'start_character': 52,\n",
       "    'end_paragraph': 20,\n",
       "    'end_character': 73,\n",
       "    'article_title': 'Auxiliary car power outlet',\n",
       "    'section_title': 'Use as an electrical outlet.\\n',\n",
       "    'score': 21.825729370117188},\n",
       "   {'nlp_id': 4369979,\n",
       "    'kilt_id': 'kilt_41546457',\n",
       "    'start_paragraph': 101,\n",
       "    'start_character': 457,\n",
       "    'end_paragraph': 103,\n",
       "    'end_character': 14,\n",
       "    'article_title': 'AC power plugs and sockets: British and related types',\n",
       "    'section_title': 'BS 1363 three-pin (rectangular) plugs and sockets. -- BS 1363-1 \"Rewirable and non-rewirable 13\\xa0A fused plugs\".\\n',\n",
       "    'score': 21.732450485229492},\n",
       "   {'nlp_id': 2257861,\n",
       "    'kilt_id': 'kilt_18180373',\n",
       "    'start_paragraph': 29,\n",
       "    'start_character': 199,\n",
       "    'end_paragraph': 32,\n",
       "    'end_character': 155,\n",
       "    'article_title': 'EmPower (aircraft power adapter)',\n",
       "    'section_title': 'Original 15-Volt EmPower Connector.\\n',\n",
       "    'score': 21.68643569946289},\n",
       "   {'nlp_id': 670591,\n",
       "    'kilt_id': 'kilt_2725952',\n",
       "    'start_paragraph': 34,\n",
       "    'start_character': 1037,\n",
       "    'end_paragraph': 34,\n",
       "    'end_character': 1623,\n",
       "    'article_title': 'British Rail Class 33',\n",
       "    'section_title': 'Tramway safety.\\n',\n",
       "    'score': 21.67342185974121},\n",
       "   {'nlp_id': 2281302,\n",
       "    'kilt_id': 'kilt_18430444',\n",
       "    'start_paragraph': 20,\n",
       "    'start_character': 810,\n",
       "    'end_paragraph': 22,\n",
       "    'end_character': 179,\n",
       "    'article_title': 'Mitsubishi i-MiEV',\n",
       "    'section_title': 'Specifications. -- Charging (types and modes).\\n',\n",
       "    'score': 21.649852752685547}]])"
      ]
     },
     "execution_count": 3,
     "metadata": {},
     "output_type": "execute_result"
    }
   ],
   "source": [
    "eli5_train[123456], eli5_train_docs[123456]"
   ]
  },
  {
   "cell_type": "code",
   "execution_count": 20,
   "metadata": {},
   "outputs": [],
   "source": [
    "s2s_train_dset = ELI5DatasetS2S(eli5_train, document_cache=dict([(k, d) for k, d, src_ls in eli5_train_docs]))\n",
    "s2s_valid_dset = ELI5DatasetS2S(eli5_valid, document_cache=dict([(k, d) for k, d, src_ls in eli5_valid_docs]), training=False)"
   ]
  },
  {
   "cell_type": "code",
   "execution_count": 13,
   "metadata": {},
   "outputs": [
    {
     "data": {
      "text/plain": [
       "'5e7vx3'"
      ]
     },
     "execution_count": 13,
     "metadata": {},
     "output_type": "execute_result"
    }
   ],
   "source": [
    "s2s_valid_dset.data[25]['q_id']"
   ]
  },
  {
   "cell_type": "code",
   "execution_count": 16,
   "metadata": {},
   "outputs": [
    {
     "data": {
      "text/plain": [
       "(True, 9813)"
      ]
     },
     "execution_count": 16,
     "metadata": {},
     "output_type": "execute_result"
    }
   ],
   "source": [
    "'5e7vx3' in s2s_valid_dset.document_cache, s2s_valid_dset.data.num_rows"
   ]
  },
  {
   "cell_type": "code",
   "execution_count": 18,
   "metadata": {},
   "outputs": [
    {
     "data": {
      "text/plain": [
       "('question: in films, when a gun, usually a pistol, is dropped or thrown onto the ground, it will sometimes fire. is this something real guns do too, and if so, why, since the trigger isn\\'t being pulled? context: <p> have been in existence for decades; strictly speaking, loaded chamber indicators are not safeties, nor are they efficacious with an untrained user.\\n an indicator that is behind the ejector port does not rise enough to disrupt a shooter\\'s sight picture, but enough to be easily seen or felt to alert a user that there is a round in the chamber to avoid negligent discharge of the gun.\\n typical safeties.:trigger disconnector.\\n a trigger disconnector captures the hammer in the cocked position after a shot has been fired, even if the trigger is held to the rear as the gun cycles. this <p> head with one arm or resist the crushing effort of a car crusher, as seen in the tv series (episodes 5 and 21, respectively). he was designed to be able \"to penetrate virtually any building,\" and breaks locks with ease.\\n in \"frank miller\\'s robocop\", robocop stores his reserve box magazines in his right wrist; this is never shown in the film series. he is seen reloading the auto-9 in \"robocop 2\" with a magazine already in hand at the start of the scene. in the later television series, the holster area of his left thigh is used to store grenades, <p> firearm (tool)\\n in many jurisdictions, any object or device answering to the description firearm is countenanced by the law as a weapon. whether all \\'weapons\\' are tools is an interesting and nontrivial philosophical question. in this article, we contemplate the fact that some firearms can be used as a tool to project either single or multiple objects at high velocity through a controlled explosion. the firing is achieved by the gases produced through rapid, confined burning of a propellant. this process of rapid burning is technically known as deflagration. in older firearms, this propellant was typically black powder, but modern <p> and helmets. \\n operation.\\n the cz 52\\'s operating controls consist of a single-action trigger, an external hammer, a magazine catch located at the heel of the grip frame, and a combination de-cock/safety lever located on the left rear side of the receiver aft of the left grip panel. the manual safety blocks movement of the sear, which prevents the hammer from releasing and firing a round. a second safety, in the form of a spring-loaded firing pin block, prevents the pistol from firing unless the trigger is pulled fully to the rear; this feature renders the pistol \"drop safe\". however, <p> flashes through a small touchhole to ignite the main charge in the firearm\\'s barrel. the pyrite is clamped in vise jaws on a spring-loaded arm (or \\'dog\\'), which rests on the pan cover. when the trigger is pulled, the pan cover is opened, and the wheel is rotated, with the pyrite pressed into contact.\\n a close modern analogy of the wheellock mechanism is the operation of a zippo lighter, where a toothed steel wheel is spun in contact with a piece of sparking material to ignite the liquid or gaseous fuel.\\n a wheellock firearm had the advantage that it can <p> actor and martial artist brandon lee was accidentally shot and killed in north carolina with a .44 magnum gun that was intended to fire blanks but contained a bullet left behind after a dummy round had been inserted and removed. also, on 1 february 1993 on the opening day of filming a carpenter was severely shocked and burned when his scissor lift struck power lines.\\n - \"seven\" (1995). in a scene where detective david mills (brad pitt) chased john doe in the rain, pitt fell and his arm went through a car windscreen, requiring surgery. this accident was written into <p> other with a pneumatic nail gun. in the movie, it is depicted as firing several nails per second, comparable to a submachine gun.\\n - in season 4 of \"the wire\", a powder-actuated nail gun features prominently in the plot.\\n - in the 2014 movie \"the equalizer\", nikolai itchenko is killed by a nail gun shot by robert mccall.\\n see also.\\n - staple gun\\n - air compressor\\n - needlegun scaler\\n - paslode impulse, a trademarked name for a cordless nail gun powered by a small flammable gas explosion\\n external links.\\n - how nailguns work\\n - nail gun safety: a guide for <p> a way that the gun-stock would be pressed against his cheek with his head still erect (i.e., he would move the gun to accommodate his head, not his head to accommodate the gun). second, he would consistently shoulder the gun exactly the same way each time. third, he would never hesitate before pulling the trigger, but would pull it the instant the gun was seated against his shoulder and his cheek, making a controlled snap-shot. (if he delayed the shot and tried to track the washer and align his gun with his conscious mind, he could never become proficient at <p> debunked by \"mythbusters\" as an impossibility, as unjacketed bullets tend to shatter into fragments that can hurt or even kill. ed mcgivern dispelled the myth of the inaccuracy of pistol fanning by shooting tight groups while fanning the revolver.\\n in western movies, the characters\\' gun belts are often worn low on the hip and outer thigh, with the holster cut away around the pistol\\'s trigger and grip for a smooth, fast draw. this type of holster is a hollywood anachronism. fast-draw artists can be distinguished from other movie cowboys because their guns will often be tied to their thigh. long <p> safeties.\\n these safeties, similar to grip safeties, are de-activated as a natural consequence of the shooter firing the firearm, but are engaged in most other circumstances. the trigger is composed of two interdependent parts, and the shooter in firing the firearm manipulates both parts of the trigger. conversely, unintentional pressure or a strike against the trigger is unlikely to do so, and such an action will not fire the firearm. such a design, made popular by glock pistols but originally used in the 1897 iver johnson second model safety hammerless revolver, incorporates a trigger with a spring-loaded lever in its',\n",
       " 'Nope. This is Hollywood nonsense. Modern guns do not discharge when they hit the ground. In fact, most people will tell you that if you drop a gun it is safer to let it just hit the ground than attempt to catch it. The only times a gun will discharge on impact is (1) you are using an antique gun design, like a Colt SAA or (2) the gun is damaged and mechanically defective. That scene in True Lies with the Mac 10 is total nonsense.')"
      ]
     },
     "execution_count": 18,
     "metadata": {},
     "output_type": "execute_result"
    }
   ],
   "source": []
  }
 ],
 "metadata": {
  "kernelspec": {
   "display_name": "Python 3",
   "language": "python",
   "name": "python3"
  },
  "language_info": {
   "codemirror_mode": {
    "name": "ipython",
    "version": 3
   },
   "file_extension": ".py",
   "mimetype": "text/x-python",
   "name": "python",
   "nbconvert_exporter": "python",
   "pygments_lexer": "ipython3",
   "version": "3.7.6"
  }
 },
 "nbformat": 4,
 "nbformat_minor": 4
}
