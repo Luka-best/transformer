{
 "cells": [
  {
   "attachments": {},
   "cell_type": "markdown",
   "metadata": {},
   "source": [
    "# Convert Pretrained Weights into HuggingFace format\n",
    "\n",
    "\n",
    "First, download pretrained weights from Meta.\n",
    "\n",
    "```sh\n",
    "mkdir /models\n",
    "mkdir /models/atlas_nq\n",
    "cd /models/atlas_nq && wget https://dl.fbaipublicfiles.com/atlas/models/atlas_nq/base/model.pth.tar\n",
    "```"
   ]
  },
  {
   "cell_type": "code",
   "execution_count": 1,
   "metadata": {},
   "outputs": [
    {
     "name": "stderr",
     "output_type": "stream",
     "text": [
      "/usr/local/lib/python3.9/site-packages/tqdm/auto.py:22: TqdmWarning: IProgress not found. Please update jupyter and ipywidgets. See https://ipywidgets.readthedocs.io/en/stable/user_install.html\n",
      "  from .autonotebook import tqdm as notebook_tqdm\n"
     ]
    }
   ],
   "source": [
    "# Load pretrained into memory\n",
    "import torch\n",
    "checkpoint = torch.load('./data/model.pth.tar', map_location=\"cpu\")\n",
    "opt_checkpoint = checkpoint[\"opt\"]\n",
    "step = checkpoint[\"step\"]\n",
    "model_dict = checkpoint[\"model\"]\n",
    "\n",
    "model_dict = {\n",
    "    k.replace(\"retriever.module\", \"query_passage_encoder\")\n",
    "    .replace(\"reader.module\", \"generator\"): v for k, v in model_dict.items()\n",
    "}"
   ]
  },
  {
   "cell_type": "code",
   "execution_count": 3,
   "metadata": {},
   "outputs": [
    {
     "name": "stderr",
     "output_type": "stream",
     "text": [
      "100%|██████████| 1/1 [00:00<00:00, 473.02it/s]\n"
     ]
    },
    {
     "data": {
      "text/plain": [
       "Dataset({\n",
       "    features: ['id', 'text', 'embeddings'],\n",
       "    num_rows: 10\n",
       "})"
      ]
     },
     "execution_count": 3,
     "metadata": {},
     "output_type": "execute_result"
    }
   ],
   "source": [
    "# Optional: setup index to compare against original\n",
    "from datasets import Dataset\n",
    "import numpy as np\n",
    "import faiss\n",
    "\n",
    "retrieval_vector_size = 768\n",
    "\n",
    "dataset = Dataset.from_dict(\n",
    "    {\n",
    "        \"id\": [\"0\", \"1\"] * 5,\n",
    "        \"text\": [\"My favourite number is 3455\", \"The secret word is FROG\"] * 5,\n",
    "        \"embeddings\": [\n",
    "            0.1 * np.ones(retrieval_vector_size),\n",
    "            0.9 * np.ones(retrieval_vector_size),\n",
    "        ] * 5,\n",
    "    }\n",
    ")\n",
    "dataset.add_faiss_index(\"embeddings\", metric_type=faiss.METRIC_INNER_PRODUCT)\n"
   ]
  },
  {
   "cell_type": "code",
   "execution_count": 2,
   "metadata": {},
   "outputs": [],
   "source": [
    "# Load base model as \"donors\" architectures\n",
    "from transformers import AtlasConfig, AutoConfig, AutoTokenizer, AtlasTokenizer\n",
    "\n",
    "bertModelString = \"facebook/contriever\"\n",
    "t5ModelString = \"google/t5-base-lm-adapt\"\n",
    "\n",
    "\n",
    "bertConfig = AutoConfig.from_pretrained(bertModelString)\n",
    "t5Config = AutoConfig.from_pretrained(t5ModelString)\n",
    "config = AtlasConfig.from_query_passage_encoder_generator_configs(\n",
    "    bertConfig,\n",
    "    t5Config\n",
    ")\n",
    "\n",
    "bertTokenizer = AutoTokenizer.from_pretrained(bertModelString)\n",
    "t5Tokenizer = AutoTokenizer.from_pretrained(t5ModelString)\n",
    "\n",
    "tokenizer = AtlasTokenizer(bertTokenizer, t5Tokenizer)\n",
    "\n",
    "config.n_context = 5\n",
    "config.bsz = 2\n",
    "config.generator.bsz = 2\n",
    "config.generator.n_context = 2"
   ]
  },
  {
   "cell_type": "code",
   "execution_count": 4,
   "metadata": {},
   "outputs": [
    {
     "name": "stderr",
     "output_type": "stream",
     "text": [
      "Some weights of the model checkpoint at facebook/contriever were not used when initializing Contriever: ['pooler.dense.weight', 'pooler.dense.bias']\n",
      "- This IS expected if you are initializing Contriever from the checkpoint of a model trained on another task or with another architecture (e.g. initializing a BertForSequenceClassification model from a BertForPreTraining model).\n",
      "- This IS NOT expected if you are initializing Contriever from the checkpoint of a model that you expect to be exactly identical (initializing a BertForSequenceClassification model from a BertForSequenceClassification model).\n"
     ]
    }
   ],
   "source": [
    "# Convert base models into Atlas model components\n",
    "from src.transformers.models.atlas.retriever import Contriever, UntiedDualEncoderRetriever, DualEncoderRetriever\n",
    "from src.transformers.models.atlas.fid import FiD\n",
    "from transformers import AtlasModel\n",
    "\n",
    "contriever = Contriever.from_pretrained(bertModelString)\n",
    "\n",
    "# if 'query_passage_encoder.query_contriever.embeddings.position_ids' in model_dict:\n",
    "#     questionPassageEncoder = UntiedDualEncoderRetriever(config, contriever)\n",
    "# else:\n",
    "questionPassageEncoder = DualEncoderRetriever(config, contriever)\n",
    "\n",
    "\n",
    "generator = FiD.from_pretrained(t5ModelString)\n",
    "generator.encoder.config.bsz= 2\n",
    "generator.encoder.config.n_context = 5\n",
    "\n",
    "atlas = AtlasModel(config, questionPassageEncoder, generator, dataset)\n"
   ]
  },
  {
   "cell_type": "code",
   "execution_count": 5,
   "metadata": {},
   "outputs": [
    {
     "data": {
      "text/plain": [
       "<All keys matched successfully>"
      ]
     },
     "execution_count": 5,
     "metadata": {},
     "output_type": "execute_result"
    }
   ],
   "source": [
    "# Load pretrained weights\n",
    "atlas.load_state_dict(model_dict)"
   ]
  },
  {
   "cell_type": "code",
   "execution_count": 6,
   "metadata": {},
   "outputs": [],
   "source": [
    "atlas.save_pretrained('data/atlas-pretrained')\n",
    "tokenizer.save_pretrained('data/atlas-pretrained')"
   ]
  },
  {
   "attachments": {},
   "cell_type": "markdown",
   "metadata": {},
   "source": [
    "## Dumping ground"
   ]
  },
  {
   "cell_type": "code",
   "execution_count": null,
   "metadata": {},
   "outputs": [],
   "source": [
    "# Fake forward pass\n",
    "\n",
    "from functools import reduce\n",
    "\n",
    "inputs = [\"What is my favourite number?\", \"What is the secret word?\"]\n",
    "target = [\"3455\", \"FROG\"]\n",
    "\n",
    "inputs = [f\"question: {question} answer: <extra_id_0>\" for question in inputs]\n",
    "target = [f\"<extra_id_0> {answer}\" for answer in target]\n",
    "print(inputs, target)\n",
    "\n",
    "self = atlas\n",
    "queries = inputs\n",
    "topk = config.n_context\n",
    "\n",
    "\n",
    "\n",
    "bsz = len(queries)\n",
    "\n",
    "\n",
    "queries_tokens = self.query_encoder_tokenizer(queries, return_tensors=\"pt\", padding=\"max_length\", truncation=True, max_length=512).to(self.device)\n",
    "\n",
    "query_hidden_states = self.query_passage_encoder(input_ids=queries_tokens[\"input_ids\"], attention_mask=queries_tokens[\"attention_mask\"])\n",
    "\n",
    "query_hidden_states = query_hidden_states.cpu().detach().numpy()\n",
    "_, passage_ids = self.index.search_batch(\"embeddings\", query_hidden_states, topk)\n",
    "\n",
    "\n",
    "docs = [self.index[[i for i in indices if i >= 0]] for indices in passage_ids]\n",
    "\n",
    "\n",
    "\n",
    "passages = [[f'{queries[i]} context: {passage}' for passage in doc[\"text\"]] for i, doc in enumerate(docs)]\n",
    "\n",
    "def encode_passages(batch, tokenizer, max_length):\n",
    "    bsz = len(batch)\n",
    "    n = max([len(example) for example in batch])\n",
    "    batch = [example + [\"\"] * (n - len(example)) for example in batch]\n",
    "    batch = reduce(lambda a, b: a + b, batch)\n",
    "    tokens = tokenizer(\n",
    "        batch,\n",
    "        padding=\"max_length\",\n",
    "        max_length=max_length,\n",
    "        return_tensors=\"pt\",\n",
    "        truncation=True,\n",
    "    )\n",
    "    tokens = {k: v.view(bsz, n, -1) for k, v in tokens.items()}\n",
    "    \n",
    "    return tokens\n",
    "\n",
    "\n",
    "reader_tokens = encode_passages(passages, self.generator_tokenizer, 512)\n",
    "labels = self.generator_tokenizer(target, return_tensors=\"pt\", padding=\"max_length\", truncation=True, max_length=512)['input_ids']\n",
    "labels[labels == self.generator_tokenizer.pad_token_id] = -100\n",
    "\n",
    "reader_ids = reader_tokens[\"input_ids\"]  # FIXME\n",
    "reader_mask = reader_tokens[\"attention_mask\"].bool()\n",
    "\n",
    "n_context_training = min(topk, reader_ids.size(1))\n",
    "cfg = self.generator.encoder.config\n",
    "cfg.bsz = reader_ids.size(0)\n",
    "cfg.n_context = n_context_training\n",
    "\n",
    "reader_ids_training = reader_ids[:, :n_context_training].contiguous()\n",
    "reader_mask_training = reader_mask[:, :n_context_training].contiguous()\n",
    "\n",
    "reader_ids_training = reader_ids_training.view(reader_ids.size(0), -1)\n",
    "reader_mask_training = reader_mask_training.view(reader_mask.size(0), -1)\n",
    "\n",
    "\n",
    "\n",
    "reader_output = self.generator(\n",
    "            input_ids=reader_ids_training,\n",
    "            attention_mask=reader_mask_training,\n",
    "            decoder_input_ids=None,\n",
    "            labels=labels,\n",
    "            use_cache=False,\n",
    "        )\n",
    "\n",
    "reader_output.logits"
   ]
  },
  {
   "cell_type": "code",
   "execution_count": null,
   "metadata": {},
   "outputs": [],
   "source": [
    "reader_output_for_loss = self.generator(\n",
    "    input_ids=reader_ids.view(reader_ids.size(0), -1),\n",
    "    attention_mask=reader_mask.view(reader_mask.size(0), -1),\n",
    "    decoder_input_ids=None,\n",
    "    labels=labels,\n",
    "    use_cache=False,\n",
    ")\n",
    "reader_output.loss.item()"
   ]
  },
  {
   "cell_type": "code",
   "execution_count": null,
   "metadata": {},
   "outputs": [],
   "source": [
    "generated = self.generator.generate(\n",
    "        input_ids=reader_ids_training,\n",
    "        attention_mask=reader_mask_training,\n",
    ")\n",
    "\n",
    "tokenizer.generator.batch_decode(generated)"
   ]
  },
  {
   "cell_type": "code",
   "execution_count": null,
   "metadata": {},
   "outputs": [],
   "source": [
    "# question: What is my favourite number? answer: <extra_id_0>\n",
    "# question: What is my favourite number? answer: <extra_id_0>"
   ]
  },
  {
   "cell_type": "code",
   "execution_count": null,
   "metadata": {},
   "outputs": [],
   "source": [
    "from transformers import AtlasModel\n",
    "atlas_2 = AtlasModel.from_pretrained('data/atlas-pretrained')\n",
    "\n",
    "print(atlas_2.state_dict().keys())\n",
    "# atlas_2(\"test\", \"test\", None, 1)"
   ]
  }
 ],
 "metadata": {
  "kernelspec": {
   "display_name": "Python 3.9.4 64-bit",
   "language": "python",
   "name": "python3"
  },
  "language_info": {
   "codemirror_mode": {
    "name": "ipython",
    "version": 3
   },
   "file_extension": ".py",
   "mimetype": "text/x-python",
   "name": "python",
   "nbconvert_exporter": "python",
   "pygments_lexer": "ipython3",
   "version": "3.9.4"
  },
  "orig_nbformat": 4,
  "vscode": {
   "interpreter": {
    "hash": "aee8b7b246df8f9039afb4144a1f6fd8d2ca17a180786b69acc140d282b71a49"
   }
  }
 },
 "nbformat": 4,
 "nbformat_minor": 2
}
