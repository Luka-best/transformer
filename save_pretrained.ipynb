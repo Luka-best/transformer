{
 "cells": [
  {
   "cell_type": "code",
   "execution_count": null,
   "metadata": {},
   "outputs": [],
   "source": [
    "import torch\n",
    "checkpoint = torch.load('./data/model.pth.tar', map_location=\"cpu\")\n",
    "opt_checkpoint = checkpoint[\"opt\"]\n",
    "step = checkpoint[\"step\"]\n",
    "model_dict = checkpoint[\"model\"]\n",
    "\n",
    "# reader, reader_tokenizer = load_reader(opt)\n",
    "# retriever, retriever_tokenizer = load_retriever(opt, opt_checkpoint)\n",
    "# from src.transformers.models.atlas.fid import FiD\n",
    "# generator = FiD.from_pretrained('t5-small')\n",
    "\n",
    "model_dict = {\n",
    "    k.replace(\"retriever.module\", \"query_passage_encoder\")\n",
    "    .replace(\"reader.module\", \"generator\"): v for k, v in model_dict.items()\n",
    "}\n",
    "print(model_dict)"
   ]
  },
  {
   "cell_type": "code",
   "execution_count": null,
   "metadata": {},
   "outputs": [],
   "source": [
    "from datasets import Dataset\n",
    "import numpy as np\n",
    "import faiss\n",
    "\n",
    "retrieval_vector_size = 768\n",
    "\n",
    "dataset = Dataset.from_dict(\n",
    "    {\n",
    "        \"id\": [\"0\", \"1\"] * 5,\n",
    "        \"text\": [\"My favourite number is 3455\", \"The secret word is FROG\"] * 5,\n",
    "        \"embeddings\": [\n",
    "            0.1 * np.ones(retrieval_vector_size),\n",
    "            0.9 * np.ones(retrieval_vector_size),\n",
    "        ] * 5,\n",
    "    }\n",
    ")\n",
    "dataset.add_faiss_index(\"embeddings\", metric_type=faiss.METRIC_INNER_PRODUCT)\n"
   ]
  },
  {
   "cell_type": "code",
   "execution_count": null,
   "metadata": {},
   "outputs": [],
   "source": [
    "from transformers import AtlasConfig, AutoConfig, AutoTokenizer, AtlasTokenizer\n",
    "\n",
    "bertModelString = \"facebook/contriever\"\n",
    "t5ModelString = \"google/t5-base-lm-adapt\"\n",
    "\n",
    "\n",
    "bertConfig = AutoConfig.from_pretrained(bertModelString)\n",
    "t5Config = AutoConfig.from_pretrained(t5ModelString)\n",
    "config = AtlasConfig.from_query_passage_encoder_generator_configs(\n",
    "    bertConfig,\n",
    "    t5Config\n",
    ")\n",
    "\n",
    "bertTokenizer = AutoTokenizer.from_pretrained(bertModelString)\n",
    "t5Tokenizer = AutoTokenizer.from_pretrained(t5ModelString)\n",
    "\n",
    "tokenizer = AtlasTokenizer(bertTokenizer, t5Tokenizer)\n",
    "\n",
    "config.n_context = 5\n",
    "config.bsz = 2\n",
    "config.generator.bsz = 2\n",
    "config.generator.n_context = 2\n"
   ]
  },
  {
   "cell_type": "code",
   "execution_count": null,
   "metadata": {},
   "outputs": [],
   "source": [
    "from src.transformers.models.atlas.retriever import Contriever, UntiedDualEncoderRetriever, DualEncoderRetriever\n",
    "from src.transformers.models.atlas.fid import FiD\n",
    "from transformers import AtlasModel\n",
    "\n",
    "contriever = Contriever.from_pretrained(bertModelString)\n",
    "\n",
    "# if 'query_passage_encoder.query_contriever.embeddings.position_ids' in model_dict:\n",
    "#     questionPassageEncoder = UntiedDualEncoderRetriever(config, contriever)\n",
    "# else:\n",
    "questionPassageEncoder = DualEncoderRetriever(config, contriever)\n",
    "\n",
    "\n",
    "generator = FiD.from_pretrained(t5ModelString)\n",
    "generator.encoder.config.bsz= 2\n",
    "generator.encoder.config.n_context = 5\n",
    "\n",
    "atlas = AtlasModel(config, questionPassageEncoder, generator, dataset)\n"
   ]
  },
  {
   "cell_type": "code",
   "execution_count": null,
   "metadata": {},
   "outputs": [],
   "source": [
    "atlas.load_state_dict(model_dict)\n"
   ]
  },
  {
   "cell_type": "code",
   "execution_count": null,
   "metadata": {},
   "outputs": [],
   "source": [
    "atlas.save_pretrained('data/atlas-pretrained')"
   ]
  },
  {
   "cell_type": "code",
   "execution_count": null,
   "metadata": {},
   "outputs": [],
   "source": [
    "# reencode the dataset\n",
    "\n",
    "def reindex(examples):\n",
    "    tokenized = tokenizer(examples['text'], return_tensors=\"pt\", padding=True, truncation=True, max_length=512)\n",
    "    hidden_states = atlas.query_passage_encoder.embed_passages(input_ids=tokenized[\"input_ids\"], attention_mask=tokenized[\"attention_mask\"])\n",
    "    examples['embeddings'] = hidden_states.cpu().detach().numpy()\n",
    "    return examples\n",
    "\n",
    "atlas.index = atlas.index.map(reindex, batched=True)\n",
    "atlas.index.add_faiss_index(\"embeddings\", metric_type=faiss.METRIC_INNER_PRODUCT)\n",
    "\n"
   ]
  },
  {
   "cell_type": "code",
   "execution_count": null,
   "metadata": {},
   "outputs": [],
   "source": [
    "from functools import reduce\n",
    "\n",
    "inputs = [\"What is my favourite number?\", \"What is the secret word?\"]\n",
    "target = [\"3455\", \"FROG\"]\n",
    "\n",
    "inputs = [f\"question: {question} answer: <extra_id_0>\" for question in inputs]\n",
    "target = [f\"<extra_id_0> {answer}\" for answer in target]\n",
    "print(inputs, target)\n",
    "\n",
    "self = atlas\n",
    "queries = inputs\n",
    "topk = config.n_context\n",
    "\n",
    "\n",
    "\n",
    "bsz = len(queries)\n",
    "\n",
    "\n",
    "queries_tokens = self.query_encoder_tokenizer(queries, return_tensors=\"pt\", padding=\"max_length\", truncation=True, max_length=512).to(self.device)\n",
    "\n",
    "query_hidden_states = self.query_passage_encoder(input_ids=queries_tokens[\"input_ids\"], attention_mask=queries_tokens[\"attention_mask\"])\n",
    "\n",
    "query_hidden_states = query_hidden_states.cpu().detach().numpy()\n",
    "_, passage_ids = self.index.search_batch(\"embeddings\", query_hidden_states, topk)\n",
    "\n",
    "\n",
    "docs = [self.index[[i for i in indices if i >= 0]] for indices in passage_ids]\n",
    "\n",
    "\n",
    "\n",
    "passages = [[f'{queries[i]} context: {passage}' for passage in doc[\"text\"]] for i, doc in enumerate(docs)]\n",
    "\n",
    "def encode_passages(batch, tokenizer, max_length):\n",
    "    bsz = len(batch)\n",
    "    n = max([len(example) for example in batch])\n",
    "    batch = [example + [\"\"] * (n - len(example)) for example in batch]\n",
    "    batch = reduce(lambda a, b: a + b, batch)\n",
    "    tokens = tokenizer(\n",
    "        batch,\n",
    "        padding=\"max_length\",\n",
    "        max_length=max_length,\n",
    "        return_tensors=\"pt\",\n",
    "        truncation=True,\n",
    "    )\n",
    "    tokens = {k: v.view(bsz, n, -1) for k, v in tokens.items()}\n",
    "    \n",
    "    return tokens\n",
    "\n",
    "\n",
    "reader_tokens = encode_passages(passages, self.generator_tokenizer, 512)\n",
    "labels = self.generator_tokenizer(target, return_tensors=\"pt\", padding=\"max_length\", truncation=True, max_length=512)['input_ids']\n",
    "labels[labels == self.generator_tokenizer.pad_token_id] = -100\n",
    "\n",
    "reader_ids = reader_tokens[\"input_ids\"]  # FIXME\n",
    "reader_mask = reader_tokens[\"attention_mask\"].bool()\n",
    "\n",
    "n_context_training = min(topk, reader_ids.size(1))\n",
    "cfg = self.generator.encoder.config\n",
    "cfg.bsz = reader_ids.size(0)\n",
    "cfg.n_context = n_context_training\n",
    "\n",
    "reader_ids_training = reader_ids[:, :n_context_training].contiguous()\n",
    "reader_mask_training = reader_mask[:, :n_context_training].contiguous()\n",
    "\n",
    "reader_ids_training = reader_ids_training.view(reader_ids.size(0), -1)\n",
    "reader_mask_training = reader_mask_training.view(reader_mask.size(0), -1)\n",
    "\n",
    "\n",
    "\n",
    "reader_output = self.generator(\n",
    "            input_ids=reader_ids_training,\n",
    "            attention_mask=reader_mask_training,\n",
    "            decoder_input_ids=None,\n",
    "            labels=labels,\n",
    "            use_cache=False,\n",
    "        )\n",
    "\n",
    "reader_output.logits"
   ]
  },
  {
   "cell_type": "code",
   "execution_count": null,
   "metadata": {},
   "outputs": [],
   "source": [
    "reader_output_for_loss = self.generator(\n",
    "    input_ids=reader_ids.view(reader_ids.size(0), -1),\n",
    "    attention_mask=reader_mask.view(reader_mask.size(0), -1),\n",
    "    decoder_input_ids=None,\n",
    "    labels=labels,\n",
    "    use_cache=False,\n",
    ")\n",
    "reader_output.loss.item()"
   ]
  },
  {
   "cell_type": "code",
   "execution_count": null,
   "metadata": {},
   "outputs": [],
   "source": [
    "generated = self.generator.generate(\n",
    "        input_ids=reader_ids_training,\n",
    "        attention_mask=reader_mask_training,\n",
    ")\n",
    "\n",
    "tokenizer.generator.batch_decode(generated)"
   ]
  },
  {
   "cell_type": "code",
   "execution_count": null,
   "metadata": {},
   "outputs": [],
   "source": [
    "# question: What is my favourite number? answer: <extra_id_0>\n",
    "# question: What is my favourite number? answer: <extra_id_0>"
   ]
  },
  {
   "cell_type": "code",
   "execution_count": null,
   "metadata": {},
   "outputs": [],
   "source": [
    "from transformers import AtlasModel\n",
    "atlas_2 = AtlasModel.from_pretrained('data/atlas-pretrained')\n",
    "\n",
    "print(atlas_2.state_dict().keys())\n",
    "# atlas_2(\"test\", \"test\", None, 1)"
   ]
  }
 ],
 "metadata": {
  "kernelspec": {
   "display_name": "Python 3.9.4 64-bit",
   "language": "python",
   "name": "python3"
  },
  "language_info": {
   "codemirror_mode": {
    "name": "ipython",
    "version": 3
   },
   "file_extension": ".py",
   "mimetype": "text/x-python",
   "name": "python",
   "nbconvert_exporter": "python",
   "pygments_lexer": "ipython3",
   "version": "3.9.4 (default, Apr  5 2021, 01:49:30) \n[Clang 12.0.0 (clang-1200.0.32.29)]"
  },
  "orig_nbformat": 4,
  "vscode": {
   "interpreter": {
    "hash": "aee8b7b246df8f9039afb4144a1f6fd8d2ca17a180786b69acc140d282b71a49"
   }
  }
 },
 "nbformat": 4,
 "nbformat_minor": 2
}
