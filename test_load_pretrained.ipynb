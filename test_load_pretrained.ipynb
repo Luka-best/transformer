{
 "cells": [
  {
   "cell_type": "code",
   "execution_count": 1,
   "metadata": {},
   "outputs": [
    {
     "name": "stderr",
     "output_type": "stream",
     "text": [
      "/Users/alex/projects/transformers/.env/lib/python3.10/site-packages/tqdm/auto.py:22: TqdmWarning: IProgress not found. Please update jupyter and ipywidgets. See https://ipywidgets.readthedocs.io/en/stable/user_install.html\n",
      "  from .autonotebook import tqdm as notebook_tqdm\n"
     ]
    },
    {
     "name": "stdout",
     "output_type": "stream",
     "text": [
      "dict_keys(['generator.shared.weight', 'generator.encoder.embed_tokens.weight', 'generator.encoder.block.0.layer.0.SelfAttention.q.weight', 'generator.encoder.block.0.layer.0.SelfAttention.k.weight', 'generator.encoder.block.0.layer.0.SelfAttention.v.weight', 'generator.encoder.block.0.layer.0.SelfAttention.o.weight', 'generator.encoder.block.0.layer.0.SelfAttention.relative_attention_bias.weight', 'generator.encoder.block.0.layer.0.layer_norm.weight', 'generator.encoder.block.0.layer.1.DenseReluDense.wi_0.weight', 'generator.encoder.block.0.layer.1.DenseReluDense.wi_1.weight', 'generator.encoder.block.0.layer.1.DenseReluDense.wo.weight', 'generator.encoder.block.0.layer.1.layer_norm.weight', 'generator.encoder.block.1.layer.0.SelfAttention.q.weight', 'generator.encoder.block.1.layer.0.SelfAttention.k.weight', 'generator.encoder.block.1.layer.0.SelfAttention.v.weight', 'generator.encoder.block.1.layer.0.SelfAttention.o.weight', 'generator.encoder.block.1.layer.0.layer_norm.weight', 'generator.encoder.block.1.layer.1.DenseReluDense.wi_0.weight', 'generator.encoder.block.1.layer.1.DenseReluDense.wi_1.weight', 'generator.encoder.block.1.layer.1.DenseReluDense.wo.weight', 'generator.encoder.block.1.layer.1.layer_norm.weight', 'generator.encoder.block.2.layer.0.SelfAttention.q.weight', 'generator.encoder.block.2.layer.0.SelfAttention.k.weight', 'generator.encoder.block.2.layer.0.SelfAttention.v.weight', 'generator.encoder.block.2.layer.0.SelfAttention.o.weight', 'generator.encoder.block.2.layer.0.layer_norm.weight', 'generator.encoder.block.2.layer.1.DenseReluDense.wi_0.weight', 'generator.encoder.block.2.layer.1.DenseReluDense.wi_1.weight', 'generator.encoder.block.2.layer.1.DenseReluDense.wo.weight', 'generator.encoder.block.2.layer.1.layer_norm.weight', 'generator.encoder.block.3.layer.0.SelfAttention.q.weight', 'generator.encoder.block.3.layer.0.SelfAttention.k.weight', 'generator.encoder.block.3.layer.0.SelfAttention.v.weight', 'generator.encoder.block.3.layer.0.SelfAttention.o.weight', 'generator.encoder.block.3.layer.0.layer_norm.weight', 'generator.encoder.block.3.layer.1.DenseReluDense.wi_0.weight', 'generator.encoder.block.3.layer.1.DenseReluDense.wi_1.weight', 'generator.encoder.block.3.layer.1.DenseReluDense.wo.weight', 'generator.encoder.block.3.layer.1.layer_norm.weight', 'generator.encoder.block.4.layer.0.SelfAttention.q.weight', 'generator.encoder.block.4.layer.0.SelfAttention.k.weight', 'generator.encoder.block.4.layer.0.SelfAttention.v.weight', 'generator.encoder.block.4.layer.0.SelfAttention.o.weight', 'generator.encoder.block.4.layer.0.layer_norm.weight', 'generator.encoder.block.4.layer.1.DenseReluDense.wi_0.weight', 'generator.encoder.block.4.layer.1.DenseReluDense.wi_1.weight', 'generator.encoder.block.4.layer.1.DenseReluDense.wo.weight', 'generator.encoder.block.4.layer.1.layer_norm.weight', 'generator.encoder.block.5.layer.0.SelfAttention.q.weight', 'generator.encoder.block.5.layer.0.SelfAttention.k.weight', 'generator.encoder.block.5.layer.0.SelfAttention.v.weight', 'generator.encoder.block.5.layer.0.SelfAttention.o.weight', 'generator.encoder.block.5.layer.0.layer_norm.weight', 'generator.encoder.block.5.layer.1.DenseReluDense.wi_0.weight', 'generator.encoder.block.5.layer.1.DenseReluDense.wi_1.weight', 'generator.encoder.block.5.layer.1.DenseReluDense.wo.weight', 'generator.encoder.block.5.layer.1.layer_norm.weight', 'generator.encoder.block.6.layer.0.SelfAttention.q.weight', 'generator.encoder.block.6.layer.0.SelfAttention.k.weight', 'generator.encoder.block.6.layer.0.SelfAttention.v.weight', 'generator.encoder.block.6.layer.0.SelfAttention.o.weight', 'generator.encoder.block.6.layer.0.layer_norm.weight', 'generator.encoder.block.6.layer.1.DenseReluDense.wi_0.weight', 'generator.encoder.block.6.layer.1.DenseReluDense.wi_1.weight', 'generator.encoder.block.6.layer.1.DenseReluDense.wo.weight', 'generator.encoder.block.6.layer.1.layer_norm.weight', 'generator.encoder.block.7.layer.0.SelfAttention.q.weight', 'generator.encoder.block.7.layer.0.SelfAttention.k.weight', 'generator.encoder.block.7.layer.0.SelfAttention.v.weight', 'generator.encoder.block.7.layer.0.SelfAttention.o.weight', 'generator.encoder.block.7.layer.0.layer_norm.weight', 'generator.encoder.block.7.layer.1.DenseReluDense.wi_0.weight', 'generator.encoder.block.7.layer.1.DenseReluDense.wi_1.weight', 'generator.encoder.block.7.layer.1.DenseReluDense.wo.weight', 'generator.encoder.block.7.layer.1.layer_norm.weight', 'generator.encoder.block.8.layer.0.SelfAttention.q.weight', 'generator.encoder.block.8.layer.0.SelfAttention.k.weight', 'generator.encoder.block.8.layer.0.SelfAttention.v.weight', 'generator.encoder.block.8.layer.0.SelfAttention.o.weight', 'generator.encoder.block.8.layer.0.layer_norm.weight', 'generator.encoder.block.8.layer.1.DenseReluDense.wi_0.weight', 'generator.encoder.block.8.layer.1.DenseReluDense.wi_1.weight', 'generator.encoder.block.8.layer.1.DenseReluDense.wo.weight', 'generator.encoder.block.8.layer.1.layer_norm.weight', 'generator.encoder.block.9.layer.0.SelfAttention.q.weight', 'generator.encoder.block.9.layer.0.SelfAttention.k.weight', 'generator.encoder.block.9.layer.0.SelfAttention.v.weight', 'generator.encoder.block.9.layer.0.SelfAttention.o.weight', 'generator.encoder.block.9.layer.0.layer_norm.weight', 'generator.encoder.block.9.layer.1.DenseReluDense.wi_0.weight', 'generator.encoder.block.9.layer.1.DenseReluDense.wi_1.weight', 'generator.encoder.block.9.layer.1.DenseReluDense.wo.weight', 'generator.encoder.block.9.layer.1.layer_norm.weight', 'generator.encoder.block.10.layer.0.SelfAttention.q.weight', 'generator.encoder.block.10.layer.0.SelfAttention.k.weight', 'generator.encoder.block.10.layer.0.SelfAttention.v.weight', 'generator.encoder.block.10.layer.0.SelfAttention.o.weight', 'generator.encoder.block.10.layer.0.layer_norm.weight', 'generator.encoder.block.10.layer.1.DenseReluDense.wi_0.weight', 'generator.encoder.block.10.layer.1.DenseReluDense.wi_1.weight', 'generator.encoder.block.10.layer.1.DenseReluDense.wo.weight', 'generator.encoder.block.10.layer.1.layer_norm.weight', 'generator.encoder.block.11.layer.0.SelfAttention.q.weight', 'generator.encoder.block.11.layer.0.SelfAttention.k.weight', 'generator.encoder.block.11.layer.0.SelfAttention.v.weight', 'generator.encoder.block.11.layer.0.SelfAttention.o.weight', 'generator.encoder.block.11.layer.0.layer_norm.weight', 'generator.encoder.block.11.layer.1.DenseReluDense.wi_0.weight', 'generator.encoder.block.11.layer.1.DenseReluDense.wi_1.weight', 'generator.encoder.block.11.layer.1.DenseReluDense.wo.weight', 'generator.encoder.block.11.layer.1.layer_norm.weight', 'generator.encoder.final_layer_norm.weight', 'generator.decoder.embed_tokens.weight', 'generator.decoder.block.0.layer.0.SelfAttention.q.weight', 'generator.decoder.block.0.layer.0.SelfAttention.k.weight', 'generator.decoder.block.0.layer.0.SelfAttention.v.weight', 'generator.decoder.block.0.layer.0.SelfAttention.o.weight', 'generator.decoder.block.0.layer.0.SelfAttention.relative_attention_bias.weight', 'generator.decoder.block.0.layer.0.layer_norm.weight', 'generator.decoder.block.0.layer.1.EncDecAttention.q.weight', 'generator.decoder.block.0.layer.1.EncDecAttention.k.weight', 'generator.decoder.block.0.layer.1.EncDecAttention.v.weight', 'generator.decoder.block.0.layer.1.EncDecAttention.o.weight', 'generator.decoder.block.0.layer.1.layer_norm.weight', 'generator.decoder.block.0.layer.2.DenseReluDense.wi_0.weight', 'generator.decoder.block.0.layer.2.DenseReluDense.wi_1.weight', 'generator.decoder.block.0.layer.2.DenseReluDense.wo.weight', 'generator.decoder.block.0.layer.2.layer_norm.weight', 'generator.decoder.block.1.layer.0.SelfAttention.q.weight', 'generator.decoder.block.1.layer.0.SelfAttention.k.weight', 'generator.decoder.block.1.layer.0.SelfAttention.v.weight', 'generator.decoder.block.1.layer.0.SelfAttention.o.weight', 'generator.decoder.block.1.layer.0.layer_norm.weight', 'generator.decoder.block.1.layer.1.EncDecAttention.q.weight', 'generator.decoder.block.1.layer.1.EncDecAttention.k.weight', 'generator.decoder.block.1.layer.1.EncDecAttention.v.weight', 'generator.decoder.block.1.layer.1.EncDecAttention.o.weight', 'generator.decoder.block.1.layer.1.layer_norm.weight', 'generator.decoder.block.1.layer.2.DenseReluDense.wi_0.weight', 'generator.decoder.block.1.layer.2.DenseReluDense.wi_1.weight', 'generator.decoder.block.1.layer.2.DenseReluDense.wo.weight', 'generator.decoder.block.1.layer.2.layer_norm.weight', 'generator.decoder.block.2.layer.0.SelfAttention.q.weight', 'generator.decoder.block.2.layer.0.SelfAttention.k.weight', 'generator.decoder.block.2.layer.0.SelfAttention.v.weight', 'generator.decoder.block.2.layer.0.SelfAttention.o.weight', 'generator.decoder.block.2.layer.0.layer_norm.weight', 'generator.decoder.block.2.layer.1.EncDecAttention.q.weight', 'generator.decoder.block.2.layer.1.EncDecAttention.k.weight', 'generator.decoder.block.2.layer.1.EncDecAttention.v.weight', 'generator.decoder.block.2.layer.1.EncDecAttention.o.weight', 'generator.decoder.block.2.layer.1.layer_norm.weight', 'generator.decoder.block.2.layer.2.DenseReluDense.wi_0.weight', 'generator.decoder.block.2.layer.2.DenseReluDense.wi_1.weight', 'generator.decoder.block.2.layer.2.DenseReluDense.wo.weight', 'generator.decoder.block.2.layer.2.layer_norm.weight', 'generator.decoder.block.3.layer.0.SelfAttention.q.weight', 'generator.decoder.block.3.layer.0.SelfAttention.k.weight', 'generator.decoder.block.3.layer.0.SelfAttention.v.weight', 'generator.decoder.block.3.layer.0.SelfAttention.o.weight', 'generator.decoder.block.3.layer.0.layer_norm.weight', 'generator.decoder.block.3.layer.1.EncDecAttention.q.weight', 'generator.decoder.block.3.layer.1.EncDecAttention.k.weight', 'generator.decoder.block.3.layer.1.EncDecAttention.v.weight', 'generator.decoder.block.3.layer.1.EncDecAttention.o.weight', 'generator.decoder.block.3.layer.1.layer_norm.weight', 'generator.decoder.block.3.layer.2.DenseReluDense.wi_0.weight', 'generator.decoder.block.3.layer.2.DenseReluDense.wi_1.weight', 'generator.decoder.block.3.layer.2.DenseReluDense.wo.weight', 'generator.decoder.block.3.layer.2.layer_norm.weight', 'generator.decoder.block.4.layer.0.SelfAttention.q.weight', 'generator.decoder.block.4.layer.0.SelfAttention.k.weight', 'generator.decoder.block.4.layer.0.SelfAttention.v.weight', 'generator.decoder.block.4.layer.0.SelfAttention.o.weight', 'generator.decoder.block.4.layer.0.layer_norm.weight', 'generator.decoder.block.4.layer.1.EncDecAttention.q.weight', 'generator.decoder.block.4.layer.1.EncDecAttention.k.weight', 'generator.decoder.block.4.layer.1.EncDecAttention.v.weight', 'generator.decoder.block.4.layer.1.EncDecAttention.o.weight', 'generator.decoder.block.4.layer.1.layer_norm.weight', 'generator.decoder.block.4.layer.2.DenseReluDense.wi_0.weight', 'generator.decoder.block.4.layer.2.DenseReluDense.wi_1.weight', 'generator.decoder.block.4.layer.2.DenseReluDense.wo.weight', 'generator.decoder.block.4.layer.2.layer_norm.weight', 'generator.decoder.block.5.layer.0.SelfAttention.q.weight', 'generator.decoder.block.5.layer.0.SelfAttention.k.weight', 'generator.decoder.block.5.layer.0.SelfAttention.v.weight', 'generator.decoder.block.5.layer.0.SelfAttention.o.weight', 'generator.decoder.block.5.layer.0.layer_norm.weight', 'generator.decoder.block.5.layer.1.EncDecAttention.q.weight', 'generator.decoder.block.5.layer.1.EncDecAttention.k.weight', 'generator.decoder.block.5.layer.1.EncDecAttention.v.weight', 'generator.decoder.block.5.layer.1.EncDecAttention.o.weight', 'generator.decoder.block.5.layer.1.layer_norm.weight', 'generator.decoder.block.5.layer.2.DenseReluDense.wi_0.weight', 'generator.decoder.block.5.layer.2.DenseReluDense.wi_1.weight', 'generator.decoder.block.5.layer.2.DenseReluDense.wo.weight', 'generator.decoder.block.5.layer.2.layer_norm.weight', 'generator.decoder.block.6.layer.0.SelfAttention.q.weight', 'generator.decoder.block.6.layer.0.SelfAttention.k.weight', 'generator.decoder.block.6.layer.0.SelfAttention.v.weight', 'generator.decoder.block.6.layer.0.SelfAttention.o.weight', 'generator.decoder.block.6.layer.0.layer_norm.weight', 'generator.decoder.block.6.layer.1.EncDecAttention.q.weight', 'generator.decoder.block.6.layer.1.EncDecAttention.k.weight', 'generator.decoder.block.6.layer.1.EncDecAttention.v.weight', 'generator.decoder.block.6.layer.1.EncDecAttention.o.weight', 'generator.decoder.block.6.layer.1.layer_norm.weight', 'generator.decoder.block.6.layer.2.DenseReluDense.wi_0.weight', 'generator.decoder.block.6.layer.2.DenseReluDense.wi_1.weight', 'generator.decoder.block.6.layer.2.DenseReluDense.wo.weight', 'generator.decoder.block.6.layer.2.layer_norm.weight', 'generator.decoder.block.7.layer.0.SelfAttention.q.weight', 'generator.decoder.block.7.layer.0.SelfAttention.k.weight', 'generator.decoder.block.7.layer.0.SelfAttention.v.weight', 'generator.decoder.block.7.layer.0.SelfAttention.o.weight', 'generator.decoder.block.7.layer.0.layer_norm.weight', 'generator.decoder.block.7.layer.1.EncDecAttention.q.weight', 'generator.decoder.block.7.layer.1.EncDecAttention.k.weight', 'generator.decoder.block.7.layer.1.EncDecAttention.v.weight', 'generator.decoder.block.7.layer.1.EncDecAttention.o.weight', 'generator.decoder.block.7.layer.1.layer_norm.weight', 'generator.decoder.block.7.layer.2.DenseReluDense.wi_0.weight', 'generator.decoder.block.7.layer.2.DenseReluDense.wi_1.weight', 'generator.decoder.block.7.layer.2.DenseReluDense.wo.weight', 'generator.decoder.block.7.layer.2.layer_norm.weight', 'generator.decoder.block.8.layer.0.SelfAttention.q.weight', 'generator.decoder.block.8.layer.0.SelfAttention.k.weight', 'generator.decoder.block.8.layer.0.SelfAttention.v.weight', 'generator.decoder.block.8.layer.0.SelfAttention.o.weight', 'generator.decoder.block.8.layer.0.layer_norm.weight', 'generator.decoder.block.8.layer.1.EncDecAttention.q.weight', 'generator.decoder.block.8.layer.1.EncDecAttention.k.weight', 'generator.decoder.block.8.layer.1.EncDecAttention.v.weight', 'generator.decoder.block.8.layer.1.EncDecAttention.o.weight', 'generator.decoder.block.8.layer.1.layer_norm.weight', 'generator.decoder.block.8.layer.2.DenseReluDense.wi_0.weight', 'generator.decoder.block.8.layer.2.DenseReluDense.wi_1.weight', 'generator.decoder.block.8.layer.2.DenseReluDense.wo.weight', 'generator.decoder.block.8.layer.2.layer_norm.weight', 'generator.decoder.block.9.layer.0.SelfAttention.q.weight', 'generator.decoder.block.9.layer.0.SelfAttention.k.weight', 'generator.decoder.block.9.layer.0.SelfAttention.v.weight', 'generator.decoder.block.9.layer.0.SelfAttention.o.weight', 'generator.decoder.block.9.layer.0.layer_norm.weight', 'generator.decoder.block.9.layer.1.EncDecAttention.q.weight', 'generator.decoder.block.9.layer.1.EncDecAttention.k.weight', 'generator.decoder.block.9.layer.1.EncDecAttention.v.weight', 'generator.decoder.block.9.layer.1.EncDecAttention.o.weight', 'generator.decoder.block.9.layer.1.layer_norm.weight', 'generator.decoder.block.9.layer.2.DenseReluDense.wi_0.weight', 'generator.decoder.block.9.layer.2.DenseReluDense.wi_1.weight', 'generator.decoder.block.9.layer.2.DenseReluDense.wo.weight', 'generator.decoder.block.9.layer.2.layer_norm.weight', 'generator.decoder.block.10.layer.0.SelfAttention.q.weight', 'generator.decoder.block.10.layer.0.SelfAttention.k.weight', 'generator.decoder.block.10.layer.0.SelfAttention.v.weight', 'generator.decoder.block.10.layer.0.SelfAttention.o.weight', 'generator.decoder.block.10.layer.0.layer_norm.weight', 'generator.decoder.block.10.layer.1.EncDecAttention.q.weight', 'generator.decoder.block.10.layer.1.EncDecAttention.k.weight', 'generator.decoder.block.10.layer.1.EncDecAttention.v.weight', 'generator.decoder.block.10.layer.1.EncDecAttention.o.weight', 'generator.decoder.block.10.layer.1.layer_norm.weight', 'generator.decoder.block.10.layer.2.DenseReluDense.wi_0.weight', 'generator.decoder.block.10.layer.2.DenseReluDense.wi_1.weight', 'generator.decoder.block.10.layer.2.DenseReluDense.wo.weight', 'generator.decoder.block.10.layer.2.layer_norm.weight', 'generator.decoder.block.11.layer.0.SelfAttention.q.weight', 'generator.decoder.block.11.layer.0.SelfAttention.k.weight', 'generator.decoder.block.11.layer.0.SelfAttention.v.weight', 'generator.decoder.block.11.layer.0.SelfAttention.o.weight', 'generator.decoder.block.11.layer.0.layer_norm.weight', 'generator.decoder.block.11.layer.1.EncDecAttention.q.weight', 'generator.decoder.block.11.layer.1.EncDecAttention.k.weight', 'generator.decoder.block.11.layer.1.EncDecAttention.v.weight', 'generator.decoder.block.11.layer.1.EncDecAttention.o.weight', 'generator.decoder.block.11.layer.1.layer_norm.weight', 'generator.decoder.block.11.layer.2.DenseReluDense.wi_0.weight', 'generator.decoder.block.11.layer.2.DenseReluDense.wi_1.weight', 'generator.decoder.block.11.layer.2.DenseReluDense.wo.weight', 'generator.decoder.block.11.layer.2.layer_norm.weight', 'generator.decoder.final_layer_norm.weight', 'generator.lm_head.weight', 'query_passage_encoder.contriever.embeddings.position_ids', 'query_passage_encoder.contriever.embeddings.word_embeddings.weight', 'query_passage_encoder.contriever.embeddings.position_embeddings.weight', 'query_passage_encoder.contriever.embeddings.token_type_embeddings.weight', 'query_passage_encoder.contriever.embeddings.LayerNorm.weight', 'query_passage_encoder.contriever.embeddings.LayerNorm.bias', 'query_passage_encoder.contriever.encoder.layer.0.attention.self.query.weight', 'query_passage_encoder.contriever.encoder.layer.0.attention.self.query.bias', 'query_passage_encoder.contriever.encoder.layer.0.attention.self.key.weight', 'query_passage_encoder.contriever.encoder.layer.0.attention.self.key.bias', 'query_passage_encoder.contriever.encoder.layer.0.attention.self.value.weight', 'query_passage_encoder.contriever.encoder.layer.0.attention.self.value.bias', 'query_passage_encoder.contriever.encoder.layer.0.attention.output.dense.weight', 'query_passage_encoder.contriever.encoder.layer.0.attention.output.dense.bias', 'query_passage_encoder.contriever.encoder.layer.0.attention.output.LayerNorm.weight', 'query_passage_encoder.contriever.encoder.layer.0.attention.output.LayerNorm.bias', 'query_passage_encoder.contriever.encoder.layer.0.intermediate.dense.weight', 'query_passage_encoder.contriever.encoder.layer.0.intermediate.dense.bias', 'query_passage_encoder.contriever.encoder.layer.0.output.dense.weight', 'query_passage_encoder.contriever.encoder.layer.0.output.dense.bias', 'query_passage_encoder.contriever.encoder.layer.0.output.LayerNorm.weight', 'query_passage_encoder.contriever.encoder.layer.0.output.LayerNorm.bias', 'query_passage_encoder.contriever.encoder.layer.1.attention.self.query.weight', 'query_passage_encoder.contriever.encoder.layer.1.attention.self.query.bias', 'query_passage_encoder.contriever.encoder.layer.1.attention.self.key.weight', 'query_passage_encoder.contriever.encoder.layer.1.attention.self.key.bias', 'query_passage_encoder.contriever.encoder.layer.1.attention.self.value.weight', 'query_passage_encoder.contriever.encoder.layer.1.attention.self.value.bias', 'query_passage_encoder.contriever.encoder.layer.1.attention.output.dense.weight', 'query_passage_encoder.contriever.encoder.layer.1.attention.output.dense.bias', 'query_passage_encoder.contriever.encoder.layer.1.attention.output.LayerNorm.weight', 'query_passage_encoder.contriever.encoder.layer.1.attention.output.LayerNorm.bias', 'query_passage_encoder.contriever.encoder.layer.1.intermediate.dense.weight', 'query_passage_encoder.contriever.encoder.layer.1.intermediate.dense.bias', 'query_passage_encoder.contriever.encoder.layer.1.output.dense.weight', 'query_passage_encoder.contriever.encoder.layer.1.output.dense.bias', 'query_passage_encoder.contriever.encoder.layer.1.output.LayerNorm.weight', 'query_passage_encoder.contriever.encoder.layer.1.output.LayerNorm.bias', 'query_passage_encoder.contriever.encoder.layer.2.attention.self.query.weight', 'query_passage_encoder.contriever.encoder.layer.2.attention.self.query.bias', 'query_passage_encoder.contriever.encoder.layer.2.attention.self.key.weight', 'query_passage_encoder.contriever.encoder.layer.2.attention.self.key.bias', 'query_passage_encoder.contriever.encoder.layer.2.attention.self.value.weight', 'query_passage_encoder.contriever.encoder.layer.2.attention.self.value.bias', 'query_passage_encoder.contriever.encoder.layer.2.attention.output.dense.weight', 'query_passage_encoder.contriever.encoder.layer.2.attention.output.dense.bias', 'query_passage_encoder.contriever.encoder.layer.2.attention.output.LayerNorm.weight', 'query_passage_encoder.contriever.encoder.layer.2.attention.output.LayerNorm.bias', 'query_passage_encoder.contriever.encoder.layer.2.intermediate.dense.weight', 'query_passage_encoder.contriever.encoder.layer.2.intermediate.dense.bias', 'query_passage_encoder.contriever.encoder.layer.2.output.dense.weight', 'query_passage_encoder.contriever.encoder.layer.2.output.dense.bias', 'query_passage_encoder.contriever.encoder.layer.2.output.LayerNorm.weight', 'query_passage_encoder.contriever.encoder.layer.2.output.LayerNorm.bias', 'query_passage_encoder.contriever.encoder.layer.3.attention.self.query.weight', 'query_passage_encoder.contriever.encoder.layer.3.attention.self.query.bias', 'query_passage_encoder.contriever.encoder.layer.3.attention.self.key.weight', 'query_passage_encoder.contriever.encoder.layer.3.attention.self.key.bias', 'query_passage_encoder.contriever.encoder.layer.3.attention.self.value.weight', 'query_passage_encoder.contriever.encoder.layer.3.attention.self.value.bias', 'query_passage_encoder.contriever.encoder.layer.3.attention.output.dense.weight', 'query_passage_encoder.contriever.encoder.layer.3.attention.output.dense.bias', 'query_passage_encoder.contriever.encoder.layer.3.attention.output.LayerNorm.weight', 'query_passage_encoder.contriever.encoder.layer.3.attention.output.LayerNorm.bias', 'query_passage_encoder.contriever.encoder.layer.3.intermediate.dense.weight', 'query_passage_encoder.contriever.encoder.layer.3.intermediate.dense.bias', 'query_passage_encoder.contriever.encoder.layer.3.output.dense.weight', 'query_passage_encoder.contriever.encoder.layer.3.output.dense.bias', 'query_passage_encoder.contriever.encoder.layer.3.output.LayerNorm.weight', 'query_passage_encoder.contriever.encoder.layer.3.output.LayerNorm.bias', 'query_passage_encoder.contriever.encoder.layer.4.attention.self.query.weight', 'query_passage_encoder.contriever.encoder.layer.4.attention.self.query.bias', 'query_passage_encoder.contriever.encoder.layer.4.attention.self.key.weight', 'query_passage_encoder.contriever.encoder.layer.4.attention.self.key.bias', 'query_passage_encoder.contriever.encoder.layer.4.attention.self.value.weight', 'query_passage_encoder.contriever.encoder.layer.4.attention.self.value.bias', 'query_passage_encoder.contriever.encoder.layer.4.attention.output.dense.weight', 'query_passage_encoder.contriever.encoder.layer.4.attention.output.dense.bias', 'query_passage_encoder.contriever.encoder.layer.4.attention.output.LayerNorm.weight', 'query_passage_encoder.contriever.encoder.layer.4.attention.output.LayerNorm.bias', 'query_passage_encoder.contriever.encoder.layer.4.intermediate.dense.weight', 'query_passage_encoder.contriever.encoder.layer.4.intermediate.dense.bias', 'query_passage_encoder.contriever.encoder.layer.4.output.dense.weight', 'query_passage_encoder.contriever.encoder.layer.4.output.dense.bias', 'query_passage_encoder.contriever.encoder.layer.4.output.LayerNorm.weight', 'query_passage_encoder.contriever.encoder.layer.4.output.LayerNorm.bias', 'query_passage_encoder.contriever.encoder.layer.5.attention.self.query.weight', 'query_passage_encoder.contriever.encoder.layer.5.attention.self.query.bias', 'query_passage_encoder.contriever.encoder.layer.5.attention.self.key.weight', 'query_passage_encoder.contriever.encoder.layer.5.attention.self.key.bias', 'query_passage_encoder.contriever.encoder.layer.5.attention.self.value.weight', 'query_passage_encoder.contriever.encoder.layer.5.attention.self.value.bias', 'query_passage_encoder.contriever.encoder.layer.5.attention.output.dense.weight', 'query_passage_encoder.contriever.encoder.layer.5.attention.output.dense.bias', 'query_passage_encoder.contriever.encoder.layer.5.attention.output.LayerNorm.weight', 'query_passage_encoder.contriever.encoder.layer.5.attention.output.LayerNorm.bias', 'query_passage_encoder.contriever.encoder.layer.5.intermediate.dense.weight', 'query_passage_encoder.contriever.encoder.layer.5.intermediate.dense.bias', 'query_passage_encoder.contriever.encoder.layer.5.output.dense.weight', 'query_passage_encoder.contriever.encoder.layer.5.output.dense.bias', 'query_passage_encoder.contriever.encoder.layer.5.output.LayerNorm.weight', 'query_passage_encoder.contriever.encoder.layer.5.output.LayerNorm.bias', 'query_passage_encoder.contriever.encoder.layer.6.attention.self.query.weight', 'query_passage_encoder.contriever.encoder.layer.6.attention.self.query.bias', 'query_passage_encoder.contriever.encoder.layer.6.attention.self.key.weight', 'query_passage_encoder.contriever.encoder.layer.6.attention.self.key.bias', 'query_passage_encoder.contriever.encoder.layer.6.attention.self.value.weight', 'query_passage_encoder.contriever.encoder.layer.6.attention.self.value.bias', 'query_passage_encoder.contriever.encoder.layer.6.attention.output.dense.weight', 'query_passage_encoder.contriever.encoder.layer.6.attention.output.dense.bias', 'query_passage_encoder.contriever.encoder.layer.6.attention.output.LayerNorm.weight', 'query_passage_encoder.contriever.encoder.layer.6.attention.output.LayerNorm.bias', 'query_passage_encoder.contriever.encoder.layer.6.intermediate.dense.weight', 'query_passage_encoder.contriever.encoder.layer.6.intermediate.dense.bias', 'query_passage_encoder.contriever.encoder.layer.6.output.dense.weight', 'query_passage_encoder.contriever.encoder.layer.6.output.dense.bias', 'query_passage_encoder.contriever.encoder.layer.6.output.LayerNorm.weight', 'query_passage_encoder.contriever.encoder.layer.6.output.LayerNorm.bias', 'query_passage_encoder.contriever.encoder.layer.7.attention.self.query.weight', 'query_passage_encoder.contriever.encoder.layer.7.attention.self.query.bias', 'query_passage_encoder.contriever.encoder.layer.7.attention.self.key.weight', 'query_passage_encoder.contriever.encoder.layer.7.attention.self.key.bias', 'query_passage_encoder.contriever.encoder.layer.7.attention.self.value.weight', 'query_passage_encoder.contriever.encoder.layer.7.attention.self.value.bias', 'query_passage_encoder.contriever.encoder.layer.7.attention.output.dense.weight', 'query_passage_encoder.contriever.encoder.layer.7.attention.output.dense.bias', 'query_passage_encoder.contriever.encoder.layer.7.attention.output.LayerNorm.weight', 'query_passage_encoder.contriever.encoder.layer.7.attention.output.LayerNorm.bias', 'query_passage_encoder.contriever.encoder.layer.7.intermediate.dense.weight', 'query_passage_encoder.contriever.encoder.layer.7.intermediate.dense.bias', 'query_passage_encoder.contriever.encoder.layer.7.output.dense.weight', 'query_passage_encoder.contriever.encoder.layer.7.output.dense.bias', 'query_passage_encoder.contriever.encoder.layer.7.output.LayerNorm.weight', 'query_passage_encoder.contriever.encoder.layer.7.output.LayerNorm.bias', 'query_passage_encoder.contriever.encoder.layer.8.attention.self.query.weight', 'query_passage_encoder.contriever.encoder.layer.8.attention.self.query.bias', 'query_passage_encoder.contriever.encoder.layer.8.attention.self.key.weight', 'query_passage_encoder.contriever.encoder.layer.8.attention.self.key.bias', 'query_passage_encoder.contriever.encoder.layer.8.attention.self.value.weight', 'query_passage_encoder.contriever.encoder.layer.8.attention.self.value.bias', 'query_passage_encoder.contriever.encoder.layer.8.attention.output.dense.weight', 'query_passage_encoder.contriever.encoder.layer.8.attention.output.dense.bias', 'query_passage_encoder.contriever.encoder.layer.8.attention.output.LayerNorm.weight', 'query_passage_encoder.contriever.encoder.layer.8.attention.output.LayerNorm.bias', 'query_passage_encoder.contriever.encoder.layer.8.intermediate.dense.weight', 'query_passage_encoder.contriever.encoder.layer.8.intermediate.dense.bias', 'query_passage_encoder.contriever.encoder.layer.8.output.dense.weight', 'query_passage_encoder.contriever.encoder.layer.8.output.dense.bias', 'query_passage_encoder.contriever.encoder.layer.8.output.LayerNorm.weight', 'query_passage_encoder.contriever.encoder.layer.8.output.LayerNorm.bias', 'query_passage_encoder.contriever.encoder.layer.9.attention.self.query.weight', 'query_passage_encoder.contriever.encoder.layer.9.attention.self.query.bias', 'query_passage_encoder.contriever.encoder.layer.9.attention.self.key.weight', 'query_passage_encoder.contriever.encoder.layer.9.attention.self.key.bias', 'query_passage_encoder.contriever.encoder.layer.9.attention.self.value.weight', 'query_passage_encoder.contriever.encoder.layer.9.attention.self.value.bias', 'query_passage_encoder.contriever.encoder.layer.9.attention.output.dense.weight', 'query_passage_encoder.contriever.encoder.layer.9.attention.output.dense.bias', 'query_passage_encoder.contriever.encoder.layer.9.attention.output.LayerNorm.weight', 'query_passage_encoder.contriever.encoder.layer.9.attention.output.LayerNorm.bias', 'query_passage_encoder.contriever.encoder.layer.9.intermediate.dense.weight', 'query_passage_encoder.contriever.encoder.layer.9.intermediate.dense.bias', 'query_passage_encoder.contriever.encoder.layer.9.output.dense.weight', 'query_passage_encoder.contriever.encoder.layer.9.output.dense.bias', 'query_passage_encoder.contriever.encoder.layer.9.output.LayerNorm.weight', 'query_passage_encoder.contriever.encoder.layer.9.output.LayerNorm.bias', 'query_passage_encoder.contriever.encoder.layer.10.attention.self.query.weight', 'query_passage_encoder.contriever.encoder.layer.10.attention.self.query.bias', 'query_passage_encoder.contriever.encoder.layer.10.attention.self.key.weight', 'query_passage_encoder.contriever.encoder.layer.10.attention.self.key.bias', 'query_passage_encoder.contriever.encoder.layer.10.attention.self.value.weight', 'query_passage_encoder.contriever.encoder.layer.10.attention.self.value.bias', 'query_passage_encoder.contriever.encoder.layer.10.attention.output.dense.weight', 'query_passage_encoder.contriever.encoder.layer.10.attention.output.dense.bias', 'query_passage_encoder.contriever.encoder.layer.10.attention.output.LayerNorm.weight', 'query_passage_encoder.contriever.encoder.layer.10.attention.output.LayerNorm.bias', 'query_passage_encoder.contriever.encoder.layer.10.intermediate.dense.weight', 'query_passage_encoder.contriever.encoder.layer.10.intermediate.dense.bias', 'query_passage_encoder.contriever.encoder.layer.10.output.dense.weight', 'query_passage_encoder.contriever.encoder.layer.10.output.dense.bias', 'query_passage_encoder.contriever.encoder.layer.10.output.LayerNorm.weight', 'query_passage_encoder.contriever.encoder.layer.10.output.LayerNorm.bias', 'query_passage_encoder.contriever.encoder.layer.11.attention.self.query.weight', 'query_passage_encoder.contriever.encoder.layer.11.attention.self.query.bias', 'query_passage_encoder.contriever.encoder.layer.11.attention.self.key.weight', 'query_passage_encoder.contriever.encoder.layer.11.attention.self.key.bias', 'query_passage_encoder.contriever.encoder.layer.11.attention.self.value.weight', 'query_passage_encoder.contriever.encoder.layer.11.attention.self.value.bias', 'query_passage_encoder.contriever.encoder.layer.11.attention.output.dense.weight', 'query_passage_encoder.contriever.encoder.layer.11.attention.output.dense.bias', 'query_passage_encoder.contriever.encoder.layer.11.attention.output.LayerNorm.weight', 'query_passage_encoder.contriever.encoder.layer.11.attention.output.LayerNorm.bias', 'query_passage_encoder.contriever.encoder.layer.11.intermediate.dense.weight', 'query_passage_encoder.contriever.encoder.layer.11.intermediate.dense.bias', 'query_passage_encoder.contriever.encoder.layer.11.output.dense.weight', 'query_passage_encoder.contriever.encoder.layer.11.output.dense.bias', 'query_passage_encoder.contriever.encoder.layer.11.output.LayerNorm.weight', 'query_passage_encoder.contriever.encoder.layer.11.output.LayerNorm.bias'])\n"
     ]
    }
   ],
   "source": [
    "import torch\n",
    "checkpoint = torch.load('./data/model.pth.tar', map_location=\"cpu\")\n",
    "opt_checkpoint = checkpoint[\"opt\"]\n",
    "step = checkpoint[\"step\"]\n",
    "model_dict = checkpoint[\"model\"]\n",
    "\n",
    "# reader, reader_tokenizer = load_reader(opt)\n",
    "# retriever, retriever_tokenizer = load_retriever(opt, opt_checkpoint)\n",
    "# from src.transformers.models.atlas.fid import FiD\n",
    "# generator = FiD.from_pretrained('t5-small')\n",
    "\n",
    "model_dict = {\n",
    "    k.replace(\"retriever.module\", \"query_passage_encoder\")\n",
    "    .replace(\"reader.module\", \"generator\"): v for k, v in model_dict.items()\n",
    "}\n",
    "\n",
    "# model.load_state_dict()\n",
    "print(model_dict.keys())"
   ]
  },
  {
   "cell_type": "code",
   "execution_count": 2,
   "metadata": {},
   "outputs": [
    {
     "name": "stderr",
     "output_type": "stream",
     "text": [
      "100%|██████████| 1/1 [00:00<00:00, 960.45it/s]\n"
     ]
    },
    {
     "data": {
      "text/plain": [
       "Dataset({\n",
       "    features: ['id', 'text', 'embeddings'],\n",
       "    num_rows: 10\n",
       "})"
      ]
     },
     "execution_count": 2,
     "metadata": {},
     "output_type": "execute_result"
    }
   ],
   "source": [
    "from datasets import Dataset\n",
    "import numpy as np\n",
    "import faiss\n",
    "\n",
    "retrieval_vector_size = 768\n",
    "\n",
    "dataset = Dataset.from_dict(\n",
    "    {\n",
    "        \"id\": [\"0\", \"1\"] * 5,\n",
    "        \"text\": [\"My favourite number is 3455\", \"The secret word is FROG\"] * 5,\n",
    "        \"embeddings\": [\n",
    "            0.1 * np.ones(retrieval_vector_size),\n",
    "            0.9 * np.ones(retrieval_vector_size),\n",
    "        ] * 5,\n",
    "    }\n",
    ")\n",
    "dataset.add_faiss_index(\"embeddings\", metric_type=faiss.METRIC_INNER_PRODUCT)\n"
   ]
  },
  {
   "cell_type": "code",
   "execution_count": 3,
   "metadata": {},
   "outputs": [
    {
     "name": "stderr",
     "output_type": "stream",
     "text": [
      "Downloading: 100%|██████████| 655/655 [00:00<00:00, 315kB/s]\n",
      "Downloading: 100%|██████████| 2.11k/2.11k [00:00<00:00, 1.38MB/s]\n",
      "Downloading: 100%|██████████| 792k/792k [00:00<00:00, 1.99MB/s]\n",
      "Downloading: 100%|██████████| 1.39M/1.39M [00:02<00:00, 520kB/s] \n",
      "Downloading: 100%|██████████| 1.79k/1.79k [00:00<00:00, 702kB/s]\n"
     ]
    }
   ],
   "source": [
    "from transformers import AtlasConfig, AutoConfig, AutoTokenizer, AtlasTokenizer\n",
    "\n",
    "bertModelString = \"facebook/contriever\"\n",
    "t5ModelString = \"google/t5-base-lm-adapt\"\n",
    "\n",
    "\n",
    "bertConfig = AutoConfig.from_pretrained(bertModelString)\n",
    "t5Config = AutoConfig.from_pretrained(t5ModelString)\n",
    "config = AtlasConfig.from_query_encoder_generator_configs(\n",
    "    bertConfig,\n",
    "    t5Config\n",
    ")\n",
    "\n",
    "bertTokenizer = AutoTokenizer.from_pretrained(bertModelString)\n",
    "t5Tokenizer = AutoTokenizer.from_pretrained(t5ModelString)\n",
    "\n",
    "tokenizer = AtlasTokenizer(bertTokenizer, t5Tokenizer)\n",
    "\n",
    "config.dataset = dataset\n",
    "config.index_name = \"custom\"\n",
    "\n",
    "config.n_context = 5\n",
    "config.bsz = 2\n",
    "config.generator.bsz = 2\n",
    "config.generator.n_context = 2\n"
   ]
  },
  {
   "cell_type": "code",
   "execution_count": 6,
   "metadata": {},
   "outputs": [
    {
     "name": "stderr",
     "output_type": "stream",
     "text": [
      "Some weights of the model checkpoint at facebook/contriever were not used when initializing Contriever: ['pooler.dense.bias', 'pooler.dense.weight']\n",
      "- This IS expected if you are initializing Contriever from the checkpoint of a model trained on another task or with another architecture (e.g. initializing a BertForSequenceClassification model from a BertForPreTraining model).\n",
      "- This IS NOT expected if you are initializing Contriever from the checkpoint of a model that you expect to be exactly identical (initializing a BertForSequenceClassification model from a BertForSequenceClassification model).\n",
      "Downloading: 100%|██████████| 990M/990M [02:38<00:00, 6.25MB/s] \n"
     ]
    }
   ],
   "source": [
    "from src.transformers.models.atlas.retriever import Contriever, UntiedDualEncoder, DualEncoderRetriever\n",
    "from src.transformers.models.atlas.fid import FiD\n",
    "from transformers import AtlasModel\n",
    "\n",
    "contriever = Contriever.from_pretrained(bertModelString)\n",
    "\n",
    "if 'query_passage_encoder.query_contriever.embeddings.position_ids' in model_dict:\n",
    "    questionPassageEncoder = UntiedDualEncoder(config, contriever)\n",
    "else:\n",
    "    questionPassageEncoder = DualEncoderRetriever(config, contriever)\n",
    "\n",
    "\n",
    "generator = FiD.from_pretrained(t5ModelString)\n",
    "generator.encoder.config.bsz= 2\n",
    "generator.encoder.config.n_context = 5\n",
    "\n",
    "atlas = AtlasModel(config, questionPassageEncoder, generator, dataset, tokenizer)\n"
   ]
  },
  {
   "cell_type": "code",
   "execution_count": 7,
   "metadata": {},
   "outputs": [
    {
     "data": {
      "text/plain": [
       "<All keys matched successfully>"
      ]
     },
     "execution_count": 7,
     "metadata": {},
     "output_type": "execute_result"
    }
   ],
   "source": [
    "atlas.load_state_dict(model_dict)\n"
   ]
  },
  {
   "cell_type": "code",
   "execution_count": 8,
   "metadata": {},
   "outputs": [
    {
     "name": "stderr",
     "output_type": "stream",
     "text": [
      "100%|██████████| 1/1 [00:00<00:00, 14.49ba/s]\n",
      "100%|██████████| 1/1 [00:00<00:00, 7307.15it/s]\n"
     ]
    },
    {
     "data": {
      "text/plain": [
       "Dataset({\n",
       "    features: ['id', 'text', 'embeddings'],\n",
       "    num_rows: 10\n",
       "})"
      ]
     },
     "execution_count": 8,
     "metadata": {},
     "output_type": "execute_result"
    }
   ],
   "source": [
    "# reencode the dataset\n",
    "\n",
    "def reindex(examples):\n",
    "    tokenized = tokenizer(examples['text'], return_tensors=\"pt\", padding=True, truncation=True, max_length=512)\n",
    "    hidden_states = atlas.query_passage_encoder.embed_passages(input_ids=tokenized[\"input_ids\"], attention_mask=tokenized[\"attention_mask\"])\n",
    "    examples['embeddings'] = hidden_states.cpu().detach().numpy()\n",
    "    return examples\n",
    "\n",
    "atlas.index = atlas.index.map(reindex, batched=True)\n",
    "atlas.index.add_faiss_index(\"embeddings\", metric_type=faiss.METRIC_INNER_PRODUCT)\n",
    "\n"
   ]
  },
  {
   "cell_type": "code",
   "execution_count": 18,
   "metadata": {},
   "outputs": [
    {
     "name": "stdout",
     "output_type": "stream",
     "text": [
      "['question: What is my favourite number? answer: <extra_id_0>', 'question: What is the secret word? answer: <extra_id_0>'] ['<extra_id_0> 3455', '<extra_id_0> FROG']\n"
     ]
    },
    {
     "data": {
      "text/plain": [
       "tensor([[[-25.2537, -11.2296,  -8.5146,  ..., -26.4157, -24.2000, -25.8787],\n",
       "         [-38.6698,  -9.2458, -13.9714,  ..., -38.4948, -38.6632, -38.2608],\n",
       "         [-45.0214, -13.7125, -13.7919,  ..., -44.6558, -45.3572, -44.9504],\n",
       "         ...,\n",
       "         [-25.1870, -11.7906,  -9.0805,  ..., -26.1698, -24.3021, -25.6975],\n",
       "         [-25.1880, -11.7905,  -9.0804,  ..., -26.1709, -24.3032, -25.6987],\n",
       "         [-25.1892, -11.7904,  -9.0803,  ..., -26.1722, -24.3043, -25.6999]],\n",
       "\n",
       "        [[-21.3347,  -9.7461,  -6.9815,  ..., -22.4861, -20.1532, -21.9368],\n",
       "         [-38.0355, -11.0931, -11.7789,  ..., -37.8584, -38.3653, -37.8470],\n",
       "         [-47.7797, -14.6103, -11.9611,  ..., -47.1814, -48.3027, -47.4551],\n",
       "         ...,\n",
       "         [-21.3352, -10.5644,  -7.5844,  ..., -22.3114, -20.2787, -21.8309],\n",
       "         [-21.3360, -10.5644,  -7.5845,  ..., -22.3122, -20.2795, -21.8317],\n",
       "         [-21.3367, -10.5645,  -7.5847,  ..., -22.3131, -20.2802, -21.8325]]],\n",
       "       grad_fn=<UnsafeViewBackward0>)"
      ]
     },
     "execution_count": 18,
     "metadata": {},
     "output_type": "execute_result"
    }
   ],
   "source": [
    "from functools import reduce\n",
    "\n",
    "inputs = [\"What is my favourite number?\", \"What is the secret word?\"]\n",
    "target = [\"3455\", \"FROG\"]\n",
    "\n",
    "inputs = [f\"question: {question} answer: <extra_id_0>\" for question in inputs]\n",
    "target = [f\"<extra_id_0> {answer}\" for answer in target]\n",
    "print(inputs, target)\n",
    "\n",
    "self = atlas\n",
    "queries = inputs\n",
    "topk = config.n_context\n",
    "\n",
    "\n",
    "\n",
    "bsz = len(queries)\n",
    "\n",
    "\n",
    "queries_tokens = self.query_encoder_tokenizer(queries, return_tensors=\"pt\", padding=\"max_length\", truncation=True, max_length=512).to(self.device)\n",
    "\n",
    "query_hidden_states = self.query_passage_encoder(input_ids=queries_tokens[\"input_ids\"], attention_mask=queries_tokens[\"attention_mask\"])\n",
    "\n",
    "query_hidden_states = query_hidden_states.cpu().detach().numpy()\n",
    "_, passage_ids = self.index.search_batch(\"embeddings\", query_hidden_states, topk)\n",
    "\n",
    "\n",
    "docs = [self.index[[i for i in indices if i >= 0]] for indices in passage_ids]\n",
    "\n",
    "\n",
    "\n",
    "passages = [[f'{queries[i]} context: {passage}' for passage in doc[\"text\"]] for i, doc in enumerate(docs)]\n",
    "\n",
    "def encode_passages(batch, tokenizer, max_length):\n",
    "    bsz = len(batch)\n",
    "    n = max([len(example) for example in batch])\n",
    "    batch = [example + [\"\"] * (n - len(example)) for example in batch]\n",
    "    batch = reduce(lambda a, b: a + b, batch)\n",
    "    tokens = tokenizer(\n",
    "        batch,\n",
    "        padding=\"max_length\",\n",
    "        max_length=max_length,\n",
    "        return_tensors=\"pt\",\n",
    "        truncation=True,\n",
    "    )\n",
    "    tokens = {k: v.view(bsz, n, -1) for k, v in tokens.items()}\n",
    "    \n",
    "    return tokens\n",
    "\n",
    "\n",
    "reader_tokens = encode_passages(passages, self.generator_tokenizer, 512)\n",
    "labels = self.generator_tokenizer(target, return_tensors=\"pt\", padding=\"max_length\", truncation=True, max_length=512)['input_ids']\n",
    "labels[labels == self.generator_tokenizer.pad_token_id] = -100\n",
    "\n",
    "reader_ids = reader_tokens[\"input_ids\"]  # FIXME\n",
    "reader_mask = reader_tokens[\"attention_mask\"].bool()\n",
    "\n",
    "n_context_training = min(topk, reader_ids.size(1))\n",
    "cfg = self.generator.encoder.config\n",
    "cfg.bsz = reader_ids.size(0)\n",
    "cfg.n_context = n_context_training\n",
    "\n",
    "reader_ids_training = reader_ids[:, :n_context_training].contiguous()\n",
    "reader_mask_training = reader_mask[:, :n_context_training].contiguous()\n",
    "\n",
    "reader_ids_training = reader_ids_training.view(reader_ids.size(0), -1)\n",
    "reader_mask_training = reader_mask_training.view(reader_mask.size(0), -1)\n",
    "\n",
    "\n",
    "\n",
    "reader_output = self.generator(\n",
    "            input_ids=reader_ids_training,\n",
    "            attention_mask=reader_mask_training,\n",
    "            decoder_input_ids=None,\n",
    "            labels=labels,\n",
    "            use_cache=False,\n",
    "        )\n",
    "\n",
    "reader_output.logits"
   ]
  },
  {
   "cell_type": "code",
   "execution_count": 16,
   "metadata": {},
   "outputs": [
    {
     "data": {
      "text/plain": [
       "0.011737149208784103"
      ]
     },
     "execution_count": 16,
     "metadata": {},
     "output_type": "execute_result"
    }
   ],
   "source": [
    "reader_output_for_loss = self.generator(\n",
    "    input_ids=reader_ids.view(reader_ids.size(0), -1),\n",
    "    attention_mask=reader_mask.view(reader_mask.size(0), -1),\n",
    "    decoder_input_ids=None,\n",
    "    labels=labels,\n",
    "    use_cache=False,\n",
    ")\n",
    "reader_output.loss.item()"
   ]
  },
  {
   "cell_type": "code",
   "execution_count": 14,
   "metadata": {},
   "outputs": [
    {
     "name": "stderr",
     "output_type": "stream",
     "text": [
      "/Users/alex/projects/transformers/src/transformers/generation/utils.py:1387: UserWarning: Neither `max_length` nor `max_new_tokens` has been set, `max_length` will default to 20 (`self.config.max_length`). Controlling `max_length` via the config is deprecated and `max_length` will be removed from the config in v5 of Transformers -- we recommend using `max_new_tokens` to control the maximum length of the generation.\n",
      "  warnings.warn(\n"
     ]
    },
    {
     "data": {
      "text/plain": [
       "['<pad><extra_id_0> 3455</s><pad>', '<pad><extra_id_0> FROG</s>']"
      ]
     },
     "execution_count": 14,
     "metadata": {},
     "output_type": "execute_result"
    }
   ],
   "source": [
    "generated = self.generator.generate(\n",
    "        input_ids=reader_ids_training,\n",
    "        attention_mask=reader_mask_training,\n",
    ")\n",
    "\n",
    "tokenizer.generator.batch_decode(generated)"
   ]
  },
  {
   "cell_type": "code",
   "execution_count": null,
   "metadata": {},
   "outputs": [],
   "source": [
    "# question: What is my favourite number? answer: <extra_id_0>\n",
    "# question: What is my favourite number? answer: <extra_id_0>"
   ]
  }
 ],
 "metadata": {
  "kernelspec": {
   "display_name": "Python 3 (ipykernel)",
   "language": "python",
   "name": "python3"
  },
  "language_info": {
   "codemirror_mode": {
    "name": "ipython",
    "version": 3
   },
   "file_extension": ".py",
   "mimetype": "text/x-python",
   "name": "python",
   "nbconvert_exporter": "python",
   "pygments_lexer": "ipython3",
   "version": "3.10.6"
  },
  "orig_nbformat": 4,
  "vscode": {
   "interpreter": {
    "hash": "d4138c15525bd0c9813b705e0da8a769541577f073ea530d66359ccbce05d513"
   }
  }
 },
 "nbformat": 4,
 "nbformat_minor": 2
}
